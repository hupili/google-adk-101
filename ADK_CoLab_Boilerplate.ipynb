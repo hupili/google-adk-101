{
  "nbformat": 4,
  "nbformat_minor": 0,
  "metadata": {
    "colab": {
      "provenance": []
    },
    "kernelspec": {
      "name": "python3",
      "display_name": "Python 3"
    },
    "language_info": {
      "name": "python"
    }
  },
  "cells": [
    {
      "cell_type": "markdown",
      "source": [
        "# ADK CoLab Boilerplate\n",
        "\n",
        "Last Update:\n",
        "\n",
        "- June 7, 2025\n",
        "- ADK == 1.1.1"
      ],
      "metadata": {
        "id": "4LLX5Yxa3CQK"
      }
    },
    {
      "cell_type": "markdown",
      "source": [
        "<table align=\"left\">\n",
        "  <td style=\"text-align: center\">\n",
        "    <a href=\"https://colab.sandbox.google.com/github/hupili/google-adk-101/blob/main/ADK_CoLab_Boilerplate.ipynb\">\n",
        "      <img width=\"32px\" src=\"https://www.gstatic.com/pantheon/images/bigquery/welcome_page/colab-logo.svg\" alt=\"Google Colaboratory logo\"><br> Run in Colab\n",
        "    </a>\n",
        "  </td>\n",
        "  <td style=\"text-align: center\">\n",
        "    <a href=\"https://console.cloud.google.com/vertex-ai/colab/import/https:%2F%2Fraw.githubusercontent.com%2Fhupili%2Fgoogle-adk-101%2Fmain%2FADK_CoLab_Boilerplate.ipynb\">\n",
        "      <img width=\"32px\" src=\"https://www.gstatic.com/pantheon/images/bigquery/welcome_page/colab-enterprise-logo.png\" alt=\"Google Cloud Colab Enterprise logo\"><br> Run in Colab Enterprise\n",
        "    </a>\n",
        "  </td>    \n",
        "  <td style=\"text-align: center\">\n",
        "    <a href=\"https://github.com/hupili/google-adk-101/blob/main/ADK_CoLab_Boilerplate.ipynb\">\n",
        "      <img width=\"32px\" src=\"https://www.gstatic.com/monospace/240802/git_host_github_mask.svg\" alt=\"GitHub logo\"><br> View on GitHub\n",
        "    </a>\n",
        "  </td>\n",
        "  <td style=\"text-align: center\">\n",
        "    <a href=\"https://console.cloud.google.com/vertex-ai/workbench/deploy-notebook?download_url=https://raw.githubusercontent.com/hupili/google-adk-101/main/ADK_CoLab_Boilerplate.ipynb\">\n",
        "      <img width=\"32px\" src=\"https://www.gstatic.com/cloud/images/navigation/vertex-ai.svg\" alt=\"Vertex AI logo\"><br> Open in Vertex AI Workbench\n",
        "    </a>\n",
        "  </td>\n",
        "</table>"
      ],
      "metadata": {
        "id": "d3JKoxwtyJgX"
      }
    },
    {
      "cell_type": "markdown",
      "source": [
        "## Environment Setup"
      ],
      "metadata": {
        "id": "IoAj8G-02_0R"
      }
    },
    {
      "cell_type": "code",
      "execution_count": 13,
      "metadata": {
        "id": "38kRHmz02DqR"
      },
      "outputs": [],
      "source": [
        "import os\n",
        "\n",
        "# API_KEY = '' # @param {type:\"string\"}\n",
        "# os.environ[\"GOOGLE_GENAI_USE_VERTEXAI\"] = \"FALSE\" # Use Vertex AI API\n",
        "# os.environ[\"GOOGLE_API_KEY\"] = API_KEY\n",
        "\n",
        "PROJECT_ID = \"hupili-genai-bb\"  # @param {type:\"string\"}\n",
        "if not PROJECT_ID:\n",
        "    PROJECT_ID = str(os.environ.get(\"GOOGLE_CLOUD_PROJECT\"))\n",
        "\n",
        "LOCATION = \"us-central1\" # @param {type:\"string\"}\n",
        "\n",
        "STAGING_BUCKET = 'gs://agent_engine_deploy_staging' # @param {type:\"string\"}\n",
        "\n",
        "os.environ[\"GOOGLE_CLOUD_PROJECT\"] = PROJECT_ID\n",
        "os.environ[\"GOOGLE_CLOUD_LOCATION\"] = LOCATION\n",
        "os.environ[\"GOOGLE_GENAI_USE_VERTEXAI\"] = \"TRUE\" # Use Vertex AI API\n",
        "\n",
        "# [your-project-id]"
      ]
    },
    {
      "cell_type": "code",
      "source": [
        "import vertexai\n",
        "\n",
        "vertexai.init(\n",
        "    project=PROJECT_ID,\n",
        "    location=LOCATION,\n",
        "    staging_bucket=STAGING_BUCKET,\n",
        ")"
      ],
      "metadata": {
        "id": "lUDcVWOq2HFH"
      },
      "execution_count": 14,
      "outputs": []
    },
    {
      "cell_type": "code",
      "source": [
        "from google.colab import auth\n",
        "auth.authenticate_user()"
      ],
      "metadata": {
        "id": "htFtAp592LYP"
      },
      "execution_count": 15,
      "outputs": []
    },
    {
      "cell_type": "code",
      "source": [
        "!pip install deprecated\n",
        "!pip install google-adk==1.1.1"
      ],
      "metadata": {
        "colab": {
          "base_uri": "https://localhost:8080/"
        },
        "id": "8x3NAoCo2M0G",
        "outputId": "df89bc4d-85b1-4cc6-fcff-0b83955d2666"
      },
      "execution_count": 16,
      "outputs": [
        {
          "output_type": "stream",
          "name": "stdout",
          "text": [
            "Requirement already satisfied: deprecated in /usr/local/lib/python3.11/dist-packages (1.2.18)\n",
            "Requirement already satisfied: wrapt<2,>=1.10 in /usr/local/lib/python3.11/dist-packages (from deprecated) (1.17.2)\n",
            "Requirement already satisfied: google-adk==1.1.1 in /usr/local/lib/python3.11/dist-packages (1.1.1)\n",
            "Requirement already satisfied: authlib>=1.5.1 in /usr/local/lib/python3.11/dist-packages (from google-adk==1.1.1) (1.6.0)\n",
            "Requirement already satisfied: click>=8.1.8 in /usr/local/lib/python3.11/dist-packages (from google-adk==1.1.1) (8.2.1)\n",
            "Requirement already satisfied: fastapi>=0.115.0 in /usr/local/lib/python3.11/dist-packages (from google-adk==1.1.1) (0.115.12)\n",
            "Requirement already satisfied: google-api-python-client>=2.157.0 in /usr/local/lib/python3.11/dist-packages (from google-adk==1.1.1) (2.171.0)\n",
            "Requirement already satisfied: google-cloud-aiplatform>=1.87.0 in /usr/local/lib/python3.11/dist-packages (from google-adk==1.1.1) (1.95.1)\n",
            "Requirement already satisfied: google-cloud-secret-manager>=2.22.0 in /usr/local/lib/python3.11/dist-packages (from google-adk==1.1.1) (2.24.0)\n",
            "Requirement already satisfied: google-cloud-speech>=2.30.0 in /usr/local/lib/python3.11/dist-packages (from google-adk==1.1.1) (2.32.0)\n",
            "Requirement already satisfied: google-cloud-storage<3.0.0,>=2.18.0 in /usr/local/lib/python3.11/dist-packages (from google-adk==1.1.1) (2.19.0)\n",
            "Requirement already satisfied: google-genai>=1.14.0 in /usr/local/lib/python3.11/dist-packages (from google-adk==1.1.1) (1.18.0)\n",
            "Requirement already satisfied: graphviz>=0.20.2 in /usr/local/lib/python3.11/dist-packages (from google-adk==1.1.1) (0.20.3)\n",
            "Requirement already satisfied: mcp>=1.5.0 in /usr/local/lib/python3.11/dist-packages (from google-adk==1.1.1) (1.9.3)\n",
            "Requirement already satisfied: opentelemetry-api>=1.31.0 in /usr/local/lib/python3.11/dist-packages (from google-adk==1.1.1) (1.34.0)\n",
            "Requirement already satisfied: opentelemetry-exporter-gcp-trace>=1.9.0 in /usr/local/lib/python3.11/dist-packages (from google-adk==1.1.1) (1.9.0)\n",
            "Requirement already satisfied: opentelemetry-sdk>=1.31.0 in /usr/local/lib/python3.11/dist-packages (from google-adk==1.1.1) (1.34.0)\n",
            "Requirement already satisfied: pydantic<3.0.0,>=2.0 in /usr/local/lib/python3.11/dist-packages (from google-adk==1.1.1) (2.11.5)\n",
            "Requirement already satisfied: python-dotenv>=1.0.0 in /usr/local/lib/python3.11/dist-packages (from google-adk==1.1.1) (1.1.0)\n",
            "Requirement already satisfied: PyYAML>=6.0.2 in /usr/local/lib/python3.11/dist-packages (from google-adk==1.1.1) (6.0.2)\n",
            "Requirement already satisfied: sqlalchemy>=2.0 in /usr/local/lib/python3.11/dist-packages (from google-adk==1.1.1) (2.0.41)\n",
            "Requirement already satisfied: tzlocal>=5.3 in /usr/local/lib/python3.11/dist-packages (from google-adk==1.1.1) (5.3.1)\n",
            "Requirement already satisfied: uvicorn>=0.34.0 in /usr/local/lib/python3.11/dist-packages (from google-adk==1.1.1) (0.34.3)\n",
            "Requirement already satisfied: cryptography in /usr/local/lib/python3.11/dist-packages (from authlib>=1.5.1->google-adk==1.1.1) (43.0.3)\n",
            "Requirement already satisfied: starlette<0.47.0,>=0.40.0 in /usr/local/lib/python3.11/dist-packages (from fastapi>=0.115.0->google-adk==1.1.1) (0.46.2)\n",
            "Requirement already satisfied: typing-extensions>=4.8.0 in /usr/local/lib/python3.11/dist-packages (from fastapi>=0.115.0->google-adk==1.1.1) (4.14.0)\n",
            "Requirement already satisfied: httplib2<1.0.0,>=0.19.0 in /usr/local/lib/python3.11/dist-packages (from google-api-python-client>=2.157.0->google-adk==1.1.1) (0.22.0)\n",
            "Requirement already satisfied: google-auth!=2.24.0,!=2.25.0,<3.0.0,>=1.32.0 in /usr/local/lib/python3.11/dist-packages (from google-api-python-client>=2.157.0->google-adk==1.1.1) (2.38.0)\n",
            "Requirement already satisfied: google-auth-httplib2<1.0.0,>=0.2.0 in /usr/local/lib/python3.11/dist-packages (from google-api-python-client>=2.157.0->google-adk==1.1.1) (0.2.0)\n",
            "Requirement already satisfied: google-api-core!=2.0.*,!=2.1.*,!=2.2.*,!=2.3.0,<3.0.0,>=1.31.5 in /usr/local/lib/python3.11/dist-packages (from google-api-python-client>=2.157.0->google-adk==1.1.1) (2.25.0)\n",
            "Requirement already satisfied: uritemplate<5,>=3.0.1 in /usr/local/lib/python3.11/dist-packages (from google-api-python-client>=2.157.0->google-adk==1.1.1) (4.2.0)\n",
            "Requirement already satisfied: proto-plus<2.0.0,>=1.22.3 in /usr/local/lib/python3.11/dist-packages (from google-cloud-aiplatform>=1.87.0->google-adk==1.1.1) (1.26.1)\n",
            "Requirement already satisfied: protobuf!=4.21.0,!=4.21.1,!=4.21.2,!=4.21.3,!=4.21.4,!=4.21.5,<7.0.0,>=3.20.2 in /usr/local/lib/python3.11/dist-packages (from google-cloud-aiplatform>=1.87.0->google-adk==1.1.1) (5.29.5)\n",
            "Requirement already satisfied: packaging>=14.3 in /usr/local/lib/python3.11/dist-packages (from google-cloud-aiplatform>=1.87.0->google-adk==1.1.1) (24.2)\n",
            "Requirement already satisfied: google-cloud-bigquery!=3.20.0,<4.0.0,>=1.15.0 in /usr/local/lib/python3.11/dist-packages (from google-cloud-aiplatform>=1.87.0->google-adk==1.1.1) (3.34.0)\n",
            "Requirement already satisfied: google-cloud-resource-manager<3.0.0,>=1.3.3 in /usr/local/lib/python3.11/dist-packages (from google-cloud-aiplatform>=1.87.0->google-adk==1.1.1) (1.14.2)\n",
            "Requirement already satisfied: shapely<3.0.0 in /usr/local/lib/python3.11/dist-packages (from google-cloud-aiplatform>=1.87.0->google-adk==1.1.1) (2.1.1)\n",
            "Requirement already satisfied: docstring-parser<1 in /usr/local/lib/python3.11/dist-packages (from google-cloud-aiplatform>=1.87.0->google-adk==1.1.1) (0.16)\n",
            "Requirement already satisfied: grpc-google-iam-v1<1.0.0,>=0.14.0 in /usr/local/lib/python3.11/dist-packages (from google-cloud-secret-manager>=2.22.0->google-adk==1.1.1) (0.14.2)\n",
            "Requirement already satisfied: google-cloud-core<3.0dev,>=2.3.0 in /usr/local/lib/python3.11/dist-packages (from google-cloud-storage<3.0.0,>=2.18.0->google-adk==1.1.1) (2.4.3)\n",
            "Requirement already satisfied: google-resumable-media>=2.7.2 in /usr/local/lib/python3.11/dist-packages (from google-cloud-storage<3.0.0,>=2.18.0->google-adk==1.1.1) (2.7.2)\n",
            "Requirement already satisfied: requests<3.0.0dev,>=2.18.0 in /usr/local/lib/python3.11/dist-packages (from google-cloud-storage<3.0.0,>=2.18.0->google-adk==1.1.1) (2.32.3)\n",
            "Requirement already satisfied: google-crc32c<2.0dev,>=1.0 in /usr/local/lib/python3.11/dist-packages (from google-cloud-storage<3.0.0,>=2.18.0->google-adk==1.1.1) (1.7.1)\n",
            "Requirement already satisfied: anyio<5.0.0,>=4.8.0 in /usr/local/lib/python3.11/dist-packages (from google-genai>=1.14.0->google-adk==1.1.1) (4.9.0)\n",
            "Requirement already satisfied: httpx<1.0.0,>=0.28.1 in /usr/local/lib/python3.11/dist-packages (from google-genai>=1.14.0->google-adk==1.1.1) (0.28.1)\n",
            "Requirement already satisfied: websockets<15.1.0,>=13.0.0 in /usr/local/lib/python3.11/dist-packages (from google-genai>=1.14.0->google-adk==1.1.1) (15.0.1)\n",
            "Requirement already satisfied: httpx-sse>=0.4 in /usr/local/lib/python3.11/dist-packages (from mcp>=1.5.0->google-adk==1.1.1) (0.4.0)\n",
            "Requirement already satisfied: pydantic-settings>=2.5.2 in /usr/local/lib/python3.11/dist-packages (from mcp>=1.5.0->google-adk==1.1.1) (2.9.1)\n",
            "Requirement already satisfied: python-multipart>=0.0.9 in /usr/local/lib/python3.11/dist-packages (from mcp>=1.5.0->google-adk==1.1.1) (0.0.20)\n",
            "Requirement already satisfied: sse-starlette>=1.6.1 in /usr/local/lib/python3.11/dist-packages (from mcp>=1.5.0->google-adk==1.1.1) (2.3.6)\n",
            "Requirement already satisfied: importlib-metadata<8.8.0,>=6.0 in /usr/local/lib/python3.11/dist-packages (from opentelemetry-api>=1.31.0->google-adk==1.1.1) (8.7.0)\n",
            "Requirement already satisfied: google-cloud-trace~=1.1 in /usr/local/lib/python3.11/dist-packages (from opentelemetry-exporter-gcp-trace>=1.9.0->google-adk==1.1.1) (1.16.1)\n",
            "Requirement already satisfied: opentelemetry-resourcedetector-gcp==1.*,>=1.5.0dev0 in /usr/local/lib/python3.11/dist-packages (from opentelemetry-exporter-gcp-trace>=1.9.0->google-adk==1.1.1) (1.9.0a0)\n",
            "Requirement already satisfied: opentelemetry-semantic-conventions==0.55b0 in /usr/local/lib/python3.11/dist-packages (from opentelemetry-sdk>=1.31.0->google-adk==1.1.1) (0.55b0)\n",
            "Requirement already satisfied: annotated-types>=0.6.0 in /usr/local/lib/python3.11/dist-packages (from pydantic<3.0.0,>=2.0->google-adk==1.1.1) (0.7.0)\n",
            "Requirement already satisfied: pydantic-core==2.33.2 in /usr/local/lib/python3.11/dist-packages (from pydantic<3.0.0,>=2.0->google-adk==1.1.1) (2.33.2)\n",
            "Requirement already satisfied: typing-inspection>=0.4.0 in /usr/local/lib/python3.11/dist-packages (from pydantic<3.0.0,>=2.0->google-adk==1.1.1) (0.4.1)\n",
            "Requirement already satisfied: greenlet>=1 in /usr/local/lib/python3.11/dist-packages (from sqlalchemy>=2.0->google-adk==1.1.1) (3.2.2)\n",
            "Requirement already satisfied: h11>=0.8 in /usr/local/lib/python3.11/dist-packages (from uvicorn>=0.34.0->google-adk==1.1.1) (0.16.0)\n",
            "Requirement already satisfied: idna>=2.8 in /usr/local/lib/python3.11/dist-packages (from anyio<5.0.0,>=4.8.0->google-genai>=1.14.0->google-adk==1.1.1) (3.10)\n",
            "Requirement already satisfied: sniffio>=1.1 in /usr/local/lib/python3.11/dist-packages (from anyio<5.0.0,>=4.8.0->google-genai>=1.14.0->google-adk==1.1.1) (1.3.1)\n",
            "Requirement already satisfied: googleapis-common-protos<2.0.0,>=1.56.2 in /usr/local/lib/python3.11/dist-packages (from google-api-core!=2.0.*,!=2.1.*,!=2.2.*,!=2.3.0,<3.0.0,>=1.31.5->google-api-python-client>=2.157.0->google-adk==1.1.1) (1.70.0)\n",
            "Requirement already satisfied: grpcio<2.0.0,>=1.33.2 in /usr/local/lib/python3.11/dist-packages (from google-api-core[grpc]!=2.0.*,!=2.1.*,!=2.2.*,!=2.3.*,!=2.4.*,!=2.5.*,!=2.6.*,!=2.7.*,<3.0.0,>=1.34.1->google-cloud-aiplatform>=1.87.0->google-adk==1.1.1) (1.72.1)\n",
            "Requirement already satisfied: grpcio-status<2.0.0,>=1.33.2 in /usr/local/lib/python3.11/dist-packages (from google-api-core[grpc]!=2.0.*,!=2.1.*,!=2.2.*,!=2.3.*,!=2.4.*,!=2.5.*,!=2.6.*,!=2.7.*,<3.0.0,>=1.34.1->google-cloud-aiplatform>=1.87.0->google-adk==1.1.1) (1.71.0)\n",
            "Requirement already satisfied: cachetools<6.0,>=2.0.0 in /usr/local/lib/python3.11/dist-packages (from google-auth!=2.24.0,!=2.25.0,<3.0.0,>=1.32.0->google-api-python-client>=2.157.0->google-adk==1.1.1) (5.5.2)\n",
            "Requirement already satisfied: pyasn1-modules>=0.2.1 in /usr/local/lib/python3.11/dist-packages (from google-auth!=2.24.0,!=2.25.0,<3.0.0,>=1.32.0->google-api-python-client>=2.157.0->google-adk==1.1.1) (0.4.2)\n",
            "Requirement already satisfied: rsa<5,>=3.1.4 in /usr/local/lib/python3.11/dist-packages (from google-auth!=2.24.0,!=2.25.0,<3.0.0,>=1.32.0->google-api-python-client>=2.157.0->google-adk==1.1.1) (4.9.1)\n",
            "Requirement already satisfied: python-dateutil<3.0.0,>=2.8.2 in /usr/local/lib/python3.11/dist-packages (from google-cloud-bigquery!=3.20.0,<4.0.0,>=1.15.0->google-cloud-aiplatform>=1.87.0->google-adk==1.1.1) (2.9.0.post0)\n",
            "Requirement already satisfied: pyparsing!=3.0.0,!=3.0.1,!=3.0.2,!=3.0.3,<4,>=2.4.2 in /usr/local/lib/python3.11/dist-packages (from httplib2<1.0.0,>=0.19.0->google-api-python-client>=2.157.0->google-adk==1.1.1) (3.2.3)\n",
            "Requirement already satisfied: certifi in /usr/local/lib/python3.11/dist-packages (from httpx<1.0.0,>=0.28.1->google-genai>=1.14.0->google-adk==1.1.1) (2025.4.26)\n",
            "Requirement already satisfied: httpcore==1.* in /usr/local/lib/python3.11/dist-packages (from httpx<1.0.0,>=0.28.1->google-genai>=1.14.0->google-adk==1.1.1) (1.0.9)\n",
            "Requirement already satisfied: zipp>=3.20 in /usr/local/lib/python3.11/dist-packages (from importlib-metadata<8.8.0,>=6.0->opentelemetry-api>=1.31.0->google-adk==1.1.1) (3.22.0)\n",
            "Requirement already satisfied: charset-normalizer<4,>=2 in /usr/local/lib/python3.11/dist-packages (from requests<3.0.0dev,>=2.18.0->google-cloud-storage<3.0.0,>=2.18.0->google-adk==1.1.1) (3.4.2)\n",
            "Requirement already satisfied: urllib3<3,>=1.21.1 in /usr/local/lib/python3.11/dist-packages (from requests<3.0.0dev,>=2.18.0->google-cloud-storage<3.0.0,>=2.18.0->google-adk==1.1.1) (2.4.0)\n",
            "Requirement already satisfied: numpy>=1.21 in /usr/local/lib/python3.11/dist-packages (from shapely<3.0.0->google-cloud-aiplatform>=1.87.0->google-adk==1.1.1) (2.0.2)\n",
            "Requirement already satisfied: cffi>=1.12 in /usr/local/lib/python3.11/dist-packages (from cryptography->authlib>=1.5.1->google-adk==1.1.1) (1.17.1)\n",
            "Requirement already satisfied: pycparser in /usr/local/lib/python3.11/dist-packages (from cffi>=1.12->cryptography->authlib>=1.5.1->google-adk==1.1.1) (2.22)\n",
            "Requirement already satisfied: pyasn1<0.7.0,>=0.6.1 in /usr/local/lib/python3.11/dist-packages (from pyasn1-modules>=0.2.1->google-auth!=2.24.0,!=2.25.0,<3.0.0,>=1.32.0->google-api-python-client>=2.157.0->google-adk==1.1.1) (0.6.1)\n",
            "Requirement already satisfied: six>=1.5 in /usr/local/lib/python3.11/dist-packages (from python-dateutil<3.0.0,>=2.8.2->google-cloud-bigquery!=3.20.0,<4.0.0,>=1.15.0->google-cloud-aiplatform>=1.87.0->google-adk==1.1.1) (1.17.0)\n"
          ]
        }
      ]
    },
    {
      "cell_type": "code",
      "source": [
        "from google import adk"
      ],
      "metadata": {
        "id": "nXbXcpKE2POf"
      },
      "execution_count": 17,
      "outputs": []
    },
    {
      "cell_type": "code",
      "source": [
        "import json\n",
        "import time\n",
        "\n",
        "def pprint_events(events):\n",
        "    '''Pretty print of events generated by ADK runner'''\n",
        "    start_time = time.time()\n",
        "    for _, event in enumerate(events):\n",
        "        is_final_response = event.is_final_response()\n",
        "        function_calls = event.get_function_calls()\n",
        "        function_responses = event.get_function_responses()\n",
        "        agent_res = json.loads(event.content.model_dump_json(indent=2, exclude_none=True))\n",
        "\n",
        "        if is_final_response:\n",
        "            print('>>> inside final response...')\n",
        "            final_response = event.content.parts[0].text\n",
        "            end_time = time.time()\n",
        "            elapsed_time_ms = round((end_time - start_time) * 1000, 3)\n",
        "            print(f'Final Response ({elapsed_time_ms} ms):\\n{final_response}')\n",
        "            print(\"-----------------------------\")\n",
        "        elif function_calls:\n",
        "            print('+++ inside the function call...')\n",
        "            for function_call in function_calls:\n",
        "                print(f\"function, [args]:  {function_call.name}, {function_call.args}\")\n",
        "        elif function_responses:\n",
        "            print('--- inside the function call response...')\n",
        "            # TODO(Pili): copied from walkthrough codes. Find root cause of 'pending' not found.\n",
        "            # if not event.actions.pending:\n",
        "            if True:\n",
        "                for function_response in function_responses:\n",
        "                    details = function_response.response\n",
        "                    recommended_list = list(details.values())\n",
        "                    print(f\"Function Name: {function_response.name}\")\n",
        "                    result=json.dumps(recommended_list)\n",
        "                    print(f\"Function Results {result}\")\n",
        "            else:\n",
        "                print(agent_res)\n",
        "    print(f\"Total elapsed time: {elapsed_time_ms}\")\n"
      ],
      "metadata": {
        "id": "MPL-1JEm2jjh"
      },
      "execution_count": 18,
      "outputs": []
    },
    {
      "cell_type": "code",
      "source": [
        "import random\n",
        "import asyncio\n",
        "\n",
        "from google.adk.tools import google_search\n",
        "from google.adk import Agent\n",
        "from google.adk.agents import Agent, LlmAgent\n",
        "from google.genai import types\n",
        "from pydantic import BaseModel\n",
        "from google.genai import types\n",
        "from google.adk.sessions import InMemorySessionService\n",
        "from google.adk.runners import Runner\n",
        "\n",
        "async def caller_factory(root_agent, app_name='App12345', user_id='User12345', session_id=None):\n",
        "  session_service = InMemorySessionService()\n",
        "  if session_id is None:\n",
        "    suffix = random.randint(100000, 999999)\n",
        "    session_id = f'{app_name}-{user_id}-{suffix}'\n",
        "  session = await session_service.create_session(\n",
        "      app_name=app_name, user_id=user_id, session_id=session_id)\n",
        "  runner = Runner(agent=root_agent, app_name=app_name, session_service=session_service)\n",
        "  def _call(query):\n",
        "    content = types.Content(role='user', parts=[types.Part(text=query)])\n",
        "    events = runner.run(user_id=session.user_id, session_id=session.id, new_message=content)\n",
        "    return events\n",
        "  return _call"
      ],
      "metadata": {
        "id": "Gob7RCZ12mQM"
      },
      "execution_count": 19,
      "outputs": []
    },
    {
      "cell_type": "code",
      "source": [
        "MODEL = \"gemini-2.0-flash\"\n",
        "APP_NAME = \"simple_search_example\"\n",
        "USER_ID = \"user12345\"\n",
        "SESSION_ID = \"session12345\"\n",
        "AGENT_NAME = \"simple_search_agent\"\n",
        "\n",
        "# Agent\n",
        "simple_search_agent = Agent(\n",
        "    model=MODEL,\n",
        "    name=\"simple_search_agent\",\n",
        "    description=\"Agent to answer questions using Google Search.\",\n",
        "    instruction=\"I can answer your questions by searching the internet. Just ask me anything!\",\n",
        "    generate_content_config=types.GenerateContentConfig(\n",
        "        max_output_tokens=8000,\n",
        "    ),\n",
        "    tools=[google_search],\n",
        ")"
      ],
      "metadata": {
        "id": "bPhHDCYQ2VyP"
      },
      "execution_count": 20,
      "outputs": []
    },
    {
      "cell_type": "code",
      "source": [
        "call_agent = await caller_factory(simple_search_agent)"
      ],
      "metadata": {
        "id": "XuVy13Nq2pnO"
      },
      "execution_count": 21,
      "outputs": []
    },
    {
      "cell_type": "code",
      "source": [
        "events = call_agent('Hello')"
      ],
      "metadata": {
        "id": "kSn3YLe29B5X"
      },
      "execution_count": 22,
      "outputs": []
    },
    {
      "cell_type": "code",
      "source": [],
      "metadata": {
        "id": "aH8AFZ4zyIzP"
      },
      "execution_count": null,
      "outputs": []
    },
    {
      "cell_type": "code",
      "source": [
        "pprint_events(events)"
      ],
      "metadata": {
        "colab": {
          "base_uri": "https://localhost:8080/"
        },
        "id": "YQvAnrnH9Eu9",
        "outputId": "4792655d-8380-4b53-8f58-b5f39d8e489c"
      },
      "execution_count": 23,
      "outputs": [
        {
          "output_type": "stream",
          "name": "stdout",
          "text": [
            ">>> inside final response...\n",
            "Final Response (921.082 ms):\n",
            "Hello! How can I help you today?\n",
            "\n",
            "-----------------------------\n",
            "Total elapsed time: 921.082\n"
          ]
        }
      ]
    },
    {
      "cell_type": "code",
      "source": [
        "events = call_agent('What is the weather in Hong Kong now?')\n",
        "pprint_events(events)"
      ],
      "metadata": {
        "colab": {
          "base_uri": "https://localhost:8080/"
        },
        "id": "9ztVOjjj9Nrv",
        "outputId": "7159aa18-3bdb-4363-f16a-a013b11df9c8"
      },
      "execution_count": 24,
      "outputs": [
        {
          "output_type": "stream",
          "name": "stdout",
          "text": [
            ">>> inside final response...\n",
            "Final Response (2002.181 ms):\n",
            "The weather in Hong Kong is mostly sunny with a temperature of 85°F (29°C), but it feels like 93°F (34°C). The humidity is around 74%. There is a 0% chance of rain.\n",
            "\n",
            "-----------------------------\n",
            "Total elapsed time: 2002.181\n"
          ]
        }
      ]
    },
    {
      "cell_type": "code",
      "metadata": {
        "id": "a309b295"
      },
      "source": [],
      "execution_count": 24,
      "outputs": []
    }
  ]
}