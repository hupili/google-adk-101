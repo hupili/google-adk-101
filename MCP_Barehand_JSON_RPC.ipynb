{
  "nbformat": 4,
  "nbformat_minor": 0,
  "metadata": {
    "colab": {
      "provenance": [],
      "toc_visible": true
    },
    "kernelspec": {
      "name": "python3",
      "display_name": "Python 3"
    },
    "language_info": {
      "name": "python"
    }
  },
  "cells": [
    {
      "cell_type": "markdown",
      "source": [
        "# ADK with MCP using BareHand: JSON-RPC\n",
        "\n",
        "Caution: This may not be the right note book if you are looking for a quick start of MCP.\n",
        "\n",
        "This note book is mainly for showing the internal works of MPC server at JSON-RPC layer.\n",
        "\n",
        "Last Update:\n",
        "\n",
        "- July 1, 2025\n",
        "- ADK == 1.5.0\n",
        "- Primary model: gemini-2.5-flash"
      ],
      "metadata": {
        "id": "4LLX5Yxa3CQK"
      }
    },
    {
      "cell_type": "markdown",
      "source": [
        "<table align=\"left\">\n",
        "  <td style=\"text-align: center\">\n",
        "    <a href=\"https://colab.sandbox.google.com/github/hupili/google-adk-101/blob/main/MCP_Barehand_JSON_RPC.ipynb\">\n",
        "      <img width=\"32px\" src=\"https://www.gstatic.com/pantheon/images/bigquery/welcome_page/colab-logo.svg\" alt=\"Google Colaboratory logo\"><br> Run in Colab\n",
        "    </a>\n",
        "  </td>\n",
        "  <td style=\"text-align: center\">\n",
        "    <a href=\"https://console.cloud.google.com/vertex-ai/colab/import/https:%2F%2Fraw.githubusercontent.com%2Fhupili%2Fgoogle-adk-101%2Fmain%2FMCP_Barehand_JSON_RPC.ipynb\">\n",
        "      <img width=\"32px\" src=\"https://www.gstatic.com/pantheon/images/bigquery/welcome_page/colab-enterprise-logo.png\" alt=\"Google Cloud Colab Enterprise logo\"><br> Run in Colab Enterprise\n",
        "    </a>\n",
        "  </td>    \n",
        "  <td style=\"text-align: center\">\n",
        "    <a href=\"https://github.com/hupili/google-adk-101/blob/main/MCP_Barehand_JSON_RPC.ipynb\">\n",
        "      <img width=\"32px\" src=\"https://www.gstatic.com/monospace/240802/git_host_github_mask.svg\" alt=\"GitHub logo\"><br> View on GitHub\n",
        "    </a>\n",
        "  </td>\n",
        "  <td style=\"text-align: center\">\n",
        "    <a href=\"https://console.cloud.google.com/vertex-ai/workbench/deploy-notebook?download_url=https://raw.githubusercontent.com/hupili/google-adk-101/main/MCP_Barehand_JSON_RPC.ipynb\">\n",
        "      <img width=\"32px\" src=\"https://www.gstatic.com/cloud/images/navigation/vertex-ai.svg\" alt=\"Vertex AI logo\"><br> Open in Vertex AI Workbench\n",
        "    </a>\n",
        "  </td>\n",
        "</table>"
      ],
      "metadata": {
        "id": "d3JKoxwtyJgX"
      }
    },
    {
      "cell_type": "markdown",
      "source": [
        "## Environment Setup"
      ],
      "metadata": {
        "id": "IoAj8G-02_0R"
      }
    },
    {
      "cell_type": "code",
      "execution_count": 1,
      "metadata": {
        "id": "38kRHmz02DqR"
      },
      "outputs": [],
      "source": [
        "import os\n",
        "\n",
        "# API_KEY = '' # @param {type:\"string\"}\n",
        "# os.environ[\"GOOGLE_GENAI_USE_VERTEXAI\"] = \"FALSE\" # Use Vertex AI API\n",
        "# os.environ[\"GOOGLE_API_KEY\"] = API_KEY\n",
        "\n",
        "PROJECT_ID = \"hupili-genai-bb\"  # @param {type:\"string\"}\n",
        "if not PROJECT_ID:\n",
        "    PROJECT_ID = str(os.environ.get(\"GOOGLE_CLOUD_PROJECT\"))\n",
        "\n",
        "LOCATION = \"us-central1\" # @param {type:\"string\"}\n",
        "\n",
        "STAGING_BUCKET = 'gs://agent_engine_deploy_staging' # @param {type:\"string\"}\n",
        "\n",
        "os.environ[\"GOOGLE_CLOUD_PROJECT\"] = PROJECT_ID\n",
        "os.environ[\"GOOGLE_CLOUD_LOCATION\"] = LOCATION\n",
        "os.environ[\"GOOGLE_GENAI_USE_VERTEXAI\"] = \"TRUE\" # Use Vertex AI API\n",
        "\n",
        "# [your-project-id]"
      ]
    },
    {
      "cell_type": "code",
      "source": [
        "import vertexai\n",
        "\n",
        "vertexai.init(\n",
        "    project=PROJECT_ID,\n",
        "    location=LOCATION,\n",
        "    staging_bucket=STAGING_BUCKET,\n",
        ")"
      ],
      "metadata": {
        "id": "lUDcVWOq2HFH"
      },
      "execution_count": 2,
      "outputs": []
    },
    {
      "cell_type": "code",
      "source": [
        "from google.colab import auth\n",
        "auth.authenticate_user()"
      ],
      "metadata": {
        "id": "htFtAp592LYP"
      },
      "execution_count": 3,
      "outputs": []
    },
    {
      "cell_type": "code",
      "source": [
        "!pip install google-adk==1.5.0"
      ],
      "metadata": {
        "colab": {
          "base_uri": "https://localhost:8080/"
        },
        "id": "8x3NAoCo2M0G",
        "outputId": "411bfdea-dfc5-4a59-ab3a-e509815b7de3"
      },
      "execution_count": 4,
      "outputs": [
        {
          "output_type": "stream",
          "name": "stdout",
          "text": [
            "Requirement already satisfied: google-adk==1.5.0 in /usr/local/lib/python3.11/dist-packages (1.5.0)\n",
            "Requirement already satisfied: PyYAML>=6.0.2 in /usr/local/lib/python3.11/dist-packages (from google-adk==1.5.0) (6.0.2)\n",
            "Requirement already satisfied: anyio>=4.9.0 in /usr/local/lib/python3.11/dist-packages (from google-adk==1.5.0) (4.9.0)\n",
            "Requirement already satisfied: authlib>=1.5.1 in /usr/local/lib/python3.11/dist-packages (from google-adk==1.5.0) (1.6.0)\n",
            "Requirement already satisfied: click>=8.1.8 in /usr/local/lib/python3.11/dist-packages (from google-adk==1.5.0) (8.2.1)\n",
            "Requirement already satisfied: fastapi>=0.115.0 in /usr/local/lib/python3.11/dist-packages (from google-adk==1.5.0) (0.115.13)\n",
            "Requirement already satisfied: google-api-python-client>=2.157.0 in /usr/local/lib/python3.11/dist-packages (from google-adk==1.5.0) (2.173.0)\n",
            "Requirement already satisfied: google-cloud-aiplatform>=1.95.1 in /usr/local/lib/python3.11/dist-packages (from google-cloud-aiplatform[agent-engines]>=1.95.1->google-adk==1.5.0) (1.99.0)\n",
            "Requirement already satisfied: google-cloud-secret-manager>=2.22.0 in /usr/local/lib/python3.11/dist-packages (from google-adk==1.5.0) (2.24.0)\n",
            "Requirement already satisfied: google-cloud-speech>=2.30.0 in /usr/local/lib/python3.11/dist-packages (from google-adk==1.5.0) (2.33.0)\n",
            "Requirement already satisfied: google-cloud-storage<3.0.0,>=2.18.0 in /usr/local/lib/python3.11/dist-packages (from google-adk==1.5.0) (2.19.0)\n",
            "Requirement already satisfied: google-genai>=1.21.1 in /usr/local/lib/python3.11/dist-packages (from google-adk==1.5.0) (1.21.1)\n",
            "Requirement already satisfied: graphviz>=0.20.2 in /usr/local/lib/python3.11/dist-packages (from google-adk==1.5.0) (0.21)\n",
            "Requirement already satisfied: mcp>=1.8.0 in /usr/local/lib/python3.11/dist-packages (from google-adk==1.5.0) (1.10.1)\n",
            "Requirement already satisfied: opentelemetry-api>=1.31.0 in /usr/local/lib/python3.11/dist-packages (from google-adk==1.5.0) (1.34.1)\n",
            "Requirement already satisfied: opentelemetry-exporter-gcp-trace>=1.9.0 in /usr/local/lib/python3.11/dist-packages (from google-adk==1.5.0) (1.9.0)\n",
            "Requirement already satisfied: opentelemetry-sdk>=1.31.0 in /usr/local/lib/python3.11/dist-packages (from google-adk==1.5.0) (1.34.1)\n",
            "Requirement already satisfied: pydantic<3.0.0,>=2.0 in /usr/local/lib/python3.11/dist-packages (from google-adk==1.5.0) (2.11.7)\n",
            "Requirement already satisfied: python-dateutil>=2.9.0.post0 in /usr/local/lib/python3.11/dist-packages (from google-adk==1.5.0) (2.9.0.post0)\n",
            "Requirement already satisfied: python-dotenv>=1.0.0 in /usr/local/lib/python3.11/dist-packages (from google-adk==1.5.0) (1.1.1)\n",
            "Requirement already satisfied: requests>=2.32.4 in /usr/local/lib/python3.11/dist-packages (from google-adk==1.5.0) (2.32.4)\n",
            "Requirement already satisfied: sqlalchemy>=2.0 in /usr/local/lib/python3.11/dist-packages (from google-adk==1.5.0) (2.0.41)\n",
            "Requirement already satisfied: starlette>=0.46.2 in /usr/local/lib/python3.11/dist-packages (from google-adk==1.5.0) (0.46.2)\n",
            "Requirement already satisfied: typing-extensions<5,>=4.5 in /usr/local/lib/python3.11/dist-packages (from google-adk==1.5.0) (4.14.0)\n",
            "Requirement already satisfied: tzlocal>=5.3 in /usr/local/lib/python3.11/dist-packages (from google-adk==1.5.0) (5.3.1)\n",
            "Requirement already satisfied: uvicorn>=0.34.0 in /usr/local/lib/python3.11/dist-packages (from google-adk==1.5.0) (0.34.3)\n",
            "Requirement already satisfied: websockets>=15.0.1 in /usr/local/lib/python3.11/dist-packages (from google-adk==1.5.0) (15.0.1)\n",
            "Requirement already satisfied: idna>=2.8 in /usr/local/lib/python3.11/dist-packages (from anyio>=4.9.0->google-adk==1.5.0) (3.10)\n",
            "Requirement already satisfied: sniffio>=1.1 in /usr/local/lib/python3.11/dist-packages (from anyio>=4.9.0->google-adk==1.5.0) (1.3.1)\n",
            "Requirement already satisfied: cryptography in /usr/local/lib/python3.11/dist-packages (from authlib>=1.5.1->google-adk==1.5.0) (43.0.3)\n",
            "Requirement already satisfied: httplib2<1.0.0,>=0.19.0 in /usr/local/lib/python3.11/dist-packages (from google-api-python-client>=2.157.0->google-adk==1.5.0) (0.22.0)\n",
            "Requirement already satisfied: google-auth!=2.24.0,!=2.25.0,<3.0.0,>=1.32.0 in /usr/local/lib/python3.11/dist-packages (from google-api-python-client>=2.157.0->google-adk==1.5.0) (2.38.0)\n",
            "Requirement already satisfied: google-auth-httplib2<1.0.0,>=0.2.0 in /usr/local/lib/python3.11/dist-packages (from google-api-python-client>=2.157.0->google-adk==1.5.0) (0.2.0)\n",
            "Requirement already satisfied: google-api-core!=2.0.*,!=2.1.*,!=2.2.*,!=2.3.0,<3.0.0,>=1.31.5 in /usr/local/lib/python3.11/dist-packages (from google-api-python-client>=2.157.0->google-adk==1.5.0) (2.25.1)\n",
            "Requirement already satisfied: uritemplate<5,>=3.0.1 in /usr/local/lib/python3.11/dist-packages (from google-api-python-client>=2.157.0->google-adk==1.5.0) (4.2.0)\n",
            "Requirement already satisfied: proto-plus<2.0.0,>=1.22.3 in /usr/local/lib/python3.11/dist-packages (from google-cloud-aiplatform>=1.95.1->google-cloud-aiplatform[agent-engines]>=1.95.1->google-adk==1.5.0) (1.26.1)\n",
            "Requirement already satisfied: protobuf!=4.21.0,!=4.21.1,!=4.21.2,!=4.21.3,!=4.21.4,!=4.21.5,<7.0.0,>=3.20.2 in /usr/local/lib/python3.11/dist-packages (from google-cloud-aiplatform>=1.95.1->google-cloud-aiplatform[agent-engines]>=1.95.1->google-adk==1.5.0) (5.29.5)\n",
            "Requirement already satisfied: packaging>=14.3 in /usr/local/lib/python3.11/dist-packages (from google-cloud-aiplatform>=1.95.1->google-cloud-aiplatform[agent-engines]>=1.95.1->google-adk==1.5.0) (24.2)\n",
            "Requirement already satisfied: google-cloud-bigquery!=3.20.0,<4.0.0,>=1.15.0 in /usr/local/lib/python3.11/dist-packages (from google-cloud-aiplatform>=1.95.1->google-cloud-aiplatform[agent-engines]>=1.95.1->google-adk==1.5.0) (3.34.0)\n",
            "Requirement already satisfied: google-cloud-resource-manager<3.0.0,>=1.3.3 in /usr/local/lib/python3.11/dist-packages (from google-cloud-aiplatform>=1.95.1->google-cloud-aiplatform[agent-engines]>=1.95.1->google-adk==1.5.0) (1.14.2)\n",
            "Requirement already satisfied: shapely<3.0.0 in /usr/local/lib/python3.11/dist-packages (from google-cloud-aiplatform>=1.95.1->google-cloud-aiplatform[agent-engines]>=1.95.1->google-adk==1.5.0) (2.1.1)\n",
            "Requirement already satisfied: docstring_parser<1 in /usr/local/lib/python3.11/dist-packages (from google-cloud-aiplatform>=1.95.1->google-cloud-aiplatform[agent-engines]>=1.95.1->google-adk==1.5.0) (0.16)\n",
            "Requirement already satisfied: cloudpickle<4.0,>=3.0 in /usr/local/lib/python3.11/dist-packages (from google-cloud-aiplatform[agent-engines]>=1.95.1->google-adk==1.5.0) (3.1.1)\n",
            "Requirement already satisfied: google-cloud-trace<2 in /usr/local/lib/python3.11/dist-packages (from google-cloud-aiplatform[agent-engines]>=1.95.1->google-adk==1.5.0) (1.16.2)\n",
            "Requirement already satisfied: google-cloud-logging<4 in /usr/local/lib/python3.11/dist-packages (from google-cloud-aiplatform[agent-engines]>=1.95.1->google-adk==1.5.0) (3.12.1)\n",
            "Requirement already satisfied: grpc-google-iam-v1<1.0.0,>=0.14.0 in /usr/local/lib/python3.11/dist-packages (from google-cloud-secret-manager>=2.22.0->google-adk==1.5.0) (0.14.2)\n",
            "Requirement already satisfied: google-cloud-core<3.0dev,>=2.3.0 in /usr/local/lib/python3.11/dist-packages (from google-cloud-storage<3.0.0,>=2.18.0->google-adk==1.5.0) (2.4.3)\n",
            "Requirement already satisfied: google-resumable-media>=2.7.2 in /usr/local/lib/python3.11/dist-packages (from google-cloud-storage<3.0.0,>=2.18.0->google-adk==1.5.0) (2.7.2)\n",
            "Requirement already satisfied: google-crc32c<2.0dev,>=1.0 in /usr/local/lib/python3.11/dist-packages (from google-cloud-storage<3.0.0,>=2.18.0->google-adk==1.5.0) (1.7.1)\n",
            "Requirement already satisfied: httpx<1.0.0,>=0.28.1 in /usr/local/lib/python3.11/dist-packages (from google-genai>=1.21.1->google-adk==1.5.0) (0.28.1)\n",
            "Requirement already satisfied: tenacity<9.0.0,>=8.2.3 in /usr/local/lib/python3.11/dist-packages (from google-genai>=1.21.1->google-adk==1.5.0) (8.5.0)\n",
            "Requirement already satisfied: httpx-sse>=0.4 in /usr/local/lib/python3.11/dist-packages (from mcp>=1.8.0->google-adk==1.5.0) (0.4.1)\n",
            "Requirement already satisfied: jsonschema>=4.20.0 in /usr/local/lib/python3.11/dist-packages (from mcp>=1.8.0->google-adk==1.5.0) (4.24.0)\n",
            "Requirement already satisfied: pydantic-settings>=2.5.2 in /usr/local/lib/python3.11/dist-packages (from mcp>=1.8.0->google-adk==1.5.0) (2.10.1)\n",
            "Requirement already satisfied: python-multipart>=0.0.9 in /usr/local/lib/python3.11/dist-packages (from mcp>=1.8.0->google-adk==1.5.0) (0.0.20)\n",
            "Requirement already satisfied: sse-starlette>=1.6.1 in /usr/local/lib/python3.11/dist-packages (from mcp>=1.8.0->google-adk==1.5.0) (2.3.6)\n",
            "Requirement already satisfied: importlib-metadata<8.8.0,>=6.0 in /usr/local/lib/python3.11/dist-packages (from opentelemetry-api>=1.31.0->google-adk==1.5.0) (8.7.0)\n",
            "Requirement already satisfied: opentelemetry-resourcedetector-gcp==1.*,>=1.5.0dev0 in /usr/local/lib/python3.11/dist-packages (from opentelemetry-exporter-gcp-trace>=1.9.0->google-adk==1.5.0) (1.9.0a0)\n",
            "Requirement already satisfied: opentelemetry-semantic-conventions==0.55b1 in /usr/local/lib/python3.11/dist-packages (from opentelemetry-sdk>=1.31.0->google-adk==1.5.0) (0.55b1)\n",
            "Requirement already satisfied: annotated-types>=0.6.0 in /usr/local/lib/python3.11/dist-packages (from pydantic<3.0.0,>=2.0->google-adk==1.5.0) (0.7.0)\n",
            "Requirement already satisfied: pydantic-core==2.33.2 in /usr/local/lib/python3.11/dist-packages (from pydantic<3.0.0,>=2.0->google-adk==1.5.0) (2.33.2)\n",
            "Requirement already satisfied: typing-inspection>=0.4.0 in /usr/local/lib/python3.11/dist-packages (from pydantic<3.0.0,>=2.0->google-adk==1.5.0) (0.4.1)\n",
            "Requirement already satisfied: six>=1.5 in /usr/local/lib/python3.11/dist-packages (from python-dateutil>=2.9.0.post0->google-adk==1.5.0) (1.17.0)\n",
            "Requirement already satisfied: charset_normalizer<4,>=2 in /usr/local/lib/python3.11/dist-packages (from requests>=2.32.4->google-adk==1.5.0) (3.4.2)\n",
            "Requirement already satisfied: urllib3<3,>=1.21.1 in /usr/local/lib/python3.11/dist-packages (from requests>=2.32.4->google-adk==1.5.0) (2.4.0)\n",
            "Requirement already satisfied: certifi>=2017.4.17 in /usr/local/lib/python3.11/dist-packages (from requests>=2.32.4->google-adk==1.5.0) (2025.6.15)\n",
            "Requirement already satisfied: greenlet>=1 in /usr/local/lib/python3.11/dist-packages (from sqlalchemy>=2.0->google-adk==1.5.0) (3.2.3)\n",
            "Requirement already satisfied: h11>=0.8 in /usr/local/lib/python3.11/dist-packages (from uvicorn>=0.34.0->google-adk==1.5.0) (0.16.0)\n",
            "Requirement already satisfied: googleapis-common-protos<2.0.0,>=1.56.2 in /usr/local/lib/python3.11/dist-packages (from google-api-core!=2.0.*,!=2.1.*,!=2.2.*,!=2.3.0,<3.0.0,>=1.31.5->google-api-python-client>=2.157.0->google-adk==1.5.0) (1.70.0)\n",
            "Requirement already satisfied: grpcio<2.0.0,>=1.33.2 in /usr/local/lib/python3.11/dist-packages (from google-api-core[grpc]!=2.0.*,!=2.1.*,!=2.2.*,!=2.3.*,!=2.4.*,!=2.5.*,!=2.6.*,!=2.7.*,<3.0.0,>=1.34.1->google-cloud-aiplatform>=1.95.1->google-cloud-aiplatform[agent-engines]>=1.95.1->google-adk==1.5.0) (1.73.0)\n",
            "Requirement already satisfied: grpcio-status<2.0.0,>=1.33.2 in /usr/local/lib/python3.11/dist-packages (from google-api-core[grpc]!=2.0.*,!=2.1.*,!=2.2.*,!=2.3.*,!=2.4.*,!=2.5.*,!=2.6.*,!=2.7.*,<3.0.0,>=1.34.1->google-cloud-aiplatform>=1.95.1->google-cloud-aiplatform[agent-engines]>=1.95.1->google-adk==1.5.0) (1.71.0)\n",
            "Requirement already satisfied: cachetools<6.0,>=2.0.0 in /usr/local/lib/python3.11/dist-packages (from google-auth!=2.24.0,!=2.25.0,<3.0.0,>=1.32.0->google-api-python-client>=2.157.0->google-adk==1.5.0) (5.5.2)\n",
            "Requirement already satisfied: pyasn1-modules>=0.2.1 in /usr/local/lib/python3.11/dist-packages (from google-auth!=2.24.0,!=2.25.0,<3.0.0,>=1.32.0->google-api-python-client>=2.157.0->google-adk==1.5.0) (0.4.2)\n",
            "Requirement already satisfied: rsa<5,>=3.1.4 in /usr/local/lib/python3.11/dist-packages (from google-auth!=2.24.0,!=2.25.0,<3.0.0,>=1.32.0->google-api-python-client>=2.157.0->google-adk==1.5.0) (4.9.1)\n",
            "Requirement already satisfied: google-cloud-appengine-logging<2.0.0,>=0.1.3 in /usr/local/lib/python3.11/dist-packages (from google-cloud-logging<4->google-cloud-aiplatform[agent-engines]>=1.95.1->google-adk==1.5.0) (1.6.2)\n",
            "Requirement already satisfied: google-cloud-audit-log<1.0.0,>=0.3.1 in /usr/local/lib/python3.11/dist-packages (from google-cloud-logging<4->google-cloud-aiplatform[agent-engines]>=1.95.1->google-adk==1.5.0) (0.3.2)\n",
            "Requirement already satisfied: pyparsing!=3.0.0,!=3.0.1,!=3.0.2,!=3.0.3,<4,>=2.4.2 in /usr/local/lib/python3.11/dist-packages (from httplib2<1.0.0,>=0.19.0->google-api-python-client>=2.157.0->google-adk==1.5.0) (3.2.3)\n",
            "Requirement already satisfied: httpcore==1.* in /usr/local/lib/python3.11/dist-packages (from httpx<1.0.0,>=0.28.1->google-genai>=1.21.1->google-adk==1.5.0) (1.0.9)\n",
            "Requirement already satisfied: zipp>=3.20 in /usr/local/lib/python3.11/dist-packages (from importlib-metadata<8.8.0,>=6.0->opentelemetry-api>=1.31.0->google-adk==1.5.0) (3.23.0)\n",
            "Requirement already satisfied: attrs>=22.2.0 in /usr/local/lib/python3.11/dist-packages (from jsonschema>=4.20.0->mcp>=1.8.0->google-adk==1.5.0) (25.3.0)\n",
            "Requirement already satisfied: jsonschema-specifications>=2023.03.6 in /usr/local/lib/python3.11/dist-packages (from jsonschema>=4.20.0->mcp>=1.8.0->google-adk==1.5.0) (2025.4.1)\n",
            "Requirement already satisfied: referencing>=0.28.4 in /usr/local/lib/python3.11/dist-packages (from jsonschema>=4.20.0->mcp>=1.8.0->google-adk==1.5.0) (0.36.2)\n",
            "Requirement already satisfied: rpds-py>=0.7.1 in /usr/local/lib/python3.11/dist-packages (from jsonschema>=4.20.0->mcp>=1.8.0->google-adk==1.5.0) (0.25.1)\n",
            "Requirement already satisfied: numpy>=1.21 in /usr/local/lib/python3.11/dist-packages (from shapely<3.0.0->google-cloud-aiplatform>=1.95.1->google-cloud-aiplatform[agent-engines]>=1.95.1->google-adk==1.5.0) (2.0.2)\n",
            "Requirement already satisfied: cffi>=1.12 in /usr/local/lib/python3.11/dist-packages (from cryptography->authlib>=1.5.1->google-adk==1.5.0) (1.17.1)\n",
            "Requirement already satisfied: pycparser in /usr/local/lib/python3.11/dist-packages (from cffi>=1.12->cryptography->authlib>=1.5.1->google-adk==1.5.0) (2.22)\n",
            "Requirement already satisfied: pyasn1<0.7.0,>=0.6.1 in /usr/local/lib/python3.11/dist-packages (from pyasn1-modules>=0.2.1->google-auth!=2.24.0,!=2.25.0,<3.0.0,>=1.32.0->google-api-python-client>=2.157.0->google-adk==1.5.0) (0.6.1)\n"
          ]
        }
      ]
    },
    {
      "cell_type": "code",
      "source": [
        "from google import adk"
      ],
      "metadata": {
        "id": "nXbXcpKE2POf"
      },
      "execution_count": 5,
      "outputs": []
    },
    {
      "cell_type": "code",
      "source": [
        "adk.__version__"
      ],
      "metadata": {
        "colab": {
          "base_uri": "https://localhost:8080/",
          "height": 35
        },
        "id": "u7N1Dr1VmUmQ",
        "outputId": "e6878f2a-9329-4645-c20e-50143f189504"
      },
      "execution_count": 6,
      "outputs": [
        {
          "output_type": "execute_result",
          "data": {
            "text/plain": [
              "'1.5.0'"
            ],
            "application/vnd.google.colaboratory.intrinsic+json": {
              "type": "string"
            }
          },
          "metadata": {},
          "execution_count": 6
        }
      ]
    },
    {
      "cell_type": "code",
      "source": [
        "%%file utils.py\n",
        "\n",
        "import json\n",
        "import time\n",
        "\n",
        "def pprint_events(events):\n",
        "    '''Pretty print of events generated by ADK runner'''\n",
        "    start_time = time.time()\n",
        "    for _, event in enumerate(events):\n",
        "        is_final_response = event.is_final_response()\n",
        "        function_calls = event.get_function_calls()\n",
        "        function_responses = event.get_function_responses()\n",
        "        agent_res = json.loads(event.content.model_dump_json(indent=2, exclude_none=True))\n",
        "\n",
        "        if is_final_response:\n",
        "            print('>>> inside final response...')\n",
        "            final_response = event.content.parts[0].text\n",
        "            end_time = time.time()\n",
        "            elapsed_time_ms = round((end_time - start_time) * 1000, 3)\n",
        "            print(f'Final Response ({elapsed_time_ms} ms):\\n{final_response}')\n",
        "            print(\"-----------------------------\")\n",
        "        elif function_calls:\n",
        "            print('+++ inside the function call...')\n",
        "            for function_call in function_calls:\n",
        "                print(f\"function, [args]:  {function_call.name}, {function_call.args}\")\n",
        "        elif function_responses:\n",
        "            print('--- inside the function call response...')\n",
        "            # TODO(Pili): copied from walkthrough codes. Find root cause of 'pending' not found.\n",
        "            # if not event.actions.pending:\n",
        "            if True:\n",
        "                for function_response in function_responses:\n",
        "                    details = function_response.response\n",
        "                    recommended_list = list(details.values())\n",
        "                    print(f\"Function Name: {function_response.name}\")\n",
        "                    print(f\"Function Results: {recommended_list}\")\n",
        "                    # result=json.dumps(recommended_list)\n",
        "                    # print(f\"Function Results {result}\")\n",
        "            else:\n",
        "                print(agent_res)\n",
        "    print(f\"Total elapsed time: {elapsed_time_ms}\")\n",
        "\n",
        "import random\n",
        "import asyncio\n",
        "\n",
        "from google.adk.tools import google_search\n",
        "from google.adk import Agent\n",
        "from google.adk.agents import Agent, LlmAgent\n",
        "from google.genai import types\n",
        "from pydantic import BaseModel\n",
        "from google.genai import types\n",
        "from google.adk.sessions import InMemorySessionService\n",
        "from google.adk.runners import Runner\n",
        "\n",
        "async def caller_factory(root_agent, app_name='App12345', user_id='User12345', session_id=None):\n",
        "  session_service = InMemorySessionService()\n",
        "  if session_id is None:\n",
        "    suffix = random.randint(100000, 999999)\n",
        "    session_id = f'{app_name}-{user_id}-{suffix}'\n",
        "  session = await session_service.create_session(\n",
        "      app_name=app_name, user_id=user_id, session_id=session_id)\n",
        "  runner = Runner(agent=root_agent, app_name=app_name, session_service=session_service)\n",
        "  def _call(query):\n",
        "    content = types.Content(role='user', parts=[types.Part(text=query)])\n",
        "    events = runner.run(user_id=session.user_id, session_id=session.id, new_message=content)\n",
        "    return events\n",
        "  return _call"
      ],
      "metadata": {
        "id": "MPL-1JEm2jjh",
        "colab": {
          "base_uri": "https://localhost:8080/"
        },
        "outputId": "aa1f9a6e-fb1b-4302-add0-618608d7bff6"
      },
      "execution_count": 7,
      "outputs": [
        {
          "output_type": "stream",
          "name": "stdout",
          "text": [
            "Overwriting utils.py\n"
          ]
        }
      ]
    },
    {
      "cell_type": "code",
      "source": [
        "from utils import *"
      ],
      "metadata": {
        "id": "Gob7RCZ12mQM"
      },
      "execution_count": 8,
      "outputs": []
    },
    {
      "cell_type": "code",
      "source": [
        "MODEL = \"gemini-2.5-flash\"\n",
        "APP_NAME = \"mcp_example\"\n",
        "USER_ID = \"user12345\"\n",
        "SESSION_ID = \"session12345\"\n",
        "AGENT_NAME = \"mcp_example_agent\"\n",
        "\n",
        "# Agent\n",
        "simple_search_agent = Agent(\n",
        "    model=MODEL,\n",
        "    name=AGENT_NAME,\n",
        "    description=\"Agent to answer questions using Google Search.\",\n",
        "    instruction=\"I can answer your questions by searching the internet. Just ask me anything!\",\n",
        "    generate_content_config=types.GenerateContentConfig(\n",
        "        max_output_tokens=8000,\n",
        "    ),\n",
        "    tools=[google_search],\n",
        ")"
      ],
      "metadata": {
        "id": "bPhHDCYQ2VyP"
      },
      "execution_count": 9,
      "outputs": []
    },
    {
      "cell_type": "code",
      "source": [
        "call_agent = await caller_factory(simple_search_agent)"
      ],
      "metadata": {
        "id": "XuVy13Nq2pnO"
      },
      "execution_count": 10,
      "outputs": []
    },
    {
      "cell_type": "code",
      "source": [
        "events = call_agent('Hello')"
      ],
      "metadata": {
        "id": "kSn3YLe29B5X"
      },
      "execution_count": 11,
      "outputs": []
    },
    {
      "cell_type": "code",
      "source": [],
      "metadata": {
        "id": "aH8AFZ4zyIzP"
      },
      "execution_count": 11,
      "outputs": []
    },
    {
      "cell_type": "code",
      "source": [
        "pprint_events(events)"
      ],
      "metadata": {
        "colab": {
          "base_uri": "https://localhost:8080/"
        },
        "id": "YQvAnrnH9Eu9",
        "outputId": "6a9222c7-82ed-40cf-fa87-dd2622eae3cc"
      },
      "execution_count": 12,
      "outputs": [
        {
          "output_type": "stream",
          "name": "stdout",
          "text": [
            ">>> inside final response...\n",
            "Final Response (1297.741 ms):\n",
            "Hello! How can I help you today?\n",
            "-----------------------------\n",
            "Total elapsed time: 1297.741\n"
          ]
        }
      ]
    },
    {
      "cell_type": "code",
      "source": [
        "events = call_agent('What is the weather in Hong Kong now?')\n",
        "pprint_events(events)"
      ],
      "metadata": {
        "colab": {
          "base_uri": "https://localhost:8080/"
        },
        "id": "9ztVOjjj9Nrv",
        "outputId": "b866f174-36f5-41e1-98ec-38f92eb95e78"
      },
      "execution_count": 13,
      "outputs": [
        {
          "output_type": "stream",
          "name": "stdout",
          "text": [
            ">>> inside final response...\n",
            "Final Response (5450.438 ms):\n",
            "The current weather in Hong Kong is light thunderstorms and rain with passing clouds. The temperature is around 86°F (30°C), but it feels like 96°F (36°C) due to high humidity, which is currently about 77%. The wind is blowing from the East at 9 mph. A Thunderstorm Warning has been issued and is effective until 1:00 PM.\n",
            "-----------------------------\n",
            "Total elapsed time: 5450.438\n"
          ]
        }
      ]
    },
    {
      "cell_type": "markdown",
      "source": [
        "## Start with JSON RPC\n",
        "\n",
        "The core if MCP and JSON-RPC are enclosed in the comments below."
      ],
      "metadata": {
        "id": "QK1pJ_EttIeF"
      }
    },
    {
      "cell_type": "code",
      "source": [
        "%%file jsonrpc_server.py\n",
        "import sys\n",
        "import json\n",
        "\n",
        "# MCP spec: A dummy initialize method\n",
        "def initialize():\n",
        "    capabilities = {}\n",
        "    return {\n",
        "        \"capabilities\": capabilities,\n",
        "        \"protocolVersion\": \"2025-06-18\",\n",
        "        \"serverInfo\": {\n",
        "            \"name\": \"A simple shim MCP server using stdio\",\n",
        "            \"version\": \"1.2.3\",\n",
        "            \"instructions\": \"The server provides information about a user\"\n",
        "        },\n",
        "    }\n",
        "\n",
        "# MCP spec: tools/list\n",
        "def tools_list():\n",
        "    \"\"\"Returns a list of available tools.\"\"\"\n",
        "    # In a real MCP server, this would dynamically list registered tools.\n",
        "    # For this simulation, we'll return a predefined list of the methods we handle.\n",
        "    return {\"tools\": [\n",
        "      {\n",
        "        \"name\": \"name\",\n",
        "        \"title\": \"Get the name of the user\",\n",
        "        \"description\": \"Get the name of the user\",\n",
        "        \"inputSchema\": {\n",
        "          \"type\": \"object\",\n",
        "          \"properties\": {\n",
        "          },\n",
        "          \"required\": []\n",
        "        }\n",
        "      }\n",
        "    ]}\n",
        "\n",
        "\n",
        "# This is our working function. Isolate it for unit test.\n",
        "def name():\n",
        "    \"\"\"Returns a predefined name.\"\"\"\n",
        "    return \"Pili\"\n",
        "\n",
        "# MCP spec: tools/call\n",
        "def tools_call(func_name, arguments={}, **kwargs):\n",
        "    # The structure is defined by MCP:\n",
        "    # https://modelcontextprotocol.io/specification/2025-06-18/server/tools\n",
        "    tool_call_response = {\n",
        "        \"content\": None,\n",
        "        \"isError\": False\n",
        "    }\n",
        "    if func_name == 'name':\n",
        "        # Defined by MCP. A list of content parts.\n",
        "        tool_call_response['content'] = [\n",
        "            {\n",
        "                \"type\": \"text\",\n",
        "                \"text\": f'The user name is {name()}',\n",
        "            }\n",
        "        ]\n",
        "    else:\n",
        "        raise Exception(f\"Tool '{name}' not found.\")\n",
        "    return tool_call_response\n",
        "\n",
        "# JSON-RPC 2.0 spec\n",
        "def handle_request(request):\n",
        "    \"\"\"Handles a single JSON-RPC request.\"\"\"\n",
        "    response = {\"jsonrpc\": \"2.0\"}\n",
        "    request_id = request.get(\"id\")\n",
        "    response[\"id\"] = request_id # Include the original ID in the response\n",
        "\n",
        "    try:\n",
        "        method = request.get(\"method\")\n",
        "        params = request.get(\"params\", []) # Get parameters, default to empty list\n",
        "\n",
        "        if method == \"initialize\":\n",
        "            result = initialize()\n",
        "            response[\"result\"] = result\n",
        "        elif method == \"tools/list\":\n",
        "            result = tools_list()\n",
        "            response[\"result\"] = result\n",
        "        elif method == \"tools/call\":\n",
        "            result = tools_call(func_name=params.get('name', None), arguments=params.get('arguments', {}))\n",
        "            response[\"result\"] = result\n",
        "        elif method == \"name\":\n",
        "            # Assuming 'name' method doesn't require params for this simple example\n",
        "            result = name()\n",
        "            response[\"result\"] = result\n",
        "        else:\n",
        "            # Method not found\n",
        "            response[\"error\"] = {\n",
        "                \"code\": -32601,\n",
        "                \"message\": f\"Method not found: {method}\"\n",
        "            }\n",
        "\n",
        "    except Exception as e:\n",
        "        # Internal error during request handling\n",
        "        response[\"error\"] = {\n",
        "            \"code\": -32603,\n",
        "            \"message\": f\"Internal error during request handling. Error: {e}. Method: {method}. Params: {params}\",\n",
        "            \"data\": str(e)\n",
        "        }\n",
        "\n",
        "    # Print the JSON response to standard output\n",
        "    print(json.dumps(response))\n",
        "    sys.stdout.flush() # Ensure the output is sent immediately\n",
        "\n",
        "# Main loop to read from standard input line by line\n",
        "if __name__ == \"__main__\":\n",
        "    print(\"Simulated JSON-RPC server started. Waiting for requests on stdin...\", file=sys.stderr)\n",
        "    try:\n",
        "        while True:\n",
        "            line = sys.stdin.readline()\n",
        "            if not line: # Empty line indicates EOF\n",
        "                break\n",
        "            try:\n",
        "                request = json.loads(line)\n",
        "                handle_request(request)\n",
        "            except json.JSONDecodeError:\n",
        "                # Handle invalid JSON on a line\n",
        "                error_response = {\n",
        "                    \"jsonrpc\": \"2.0\",\n",
        "                    \"id\": None, # JSON-RPC spec suggests null for parse errors if ID is unknown\n",
        "                    \"error\": {\n",
        "                        \"code\": -32700,\n",
        "                        \"message\": \"Parse error: Invalid JSON was received on one line.\"\n",
        "                    }\n",
        "                }\n",
        "                print(json.dumps(error_response))\n",
        "                sys.stdout.flush()\n",
        "            except Exception as e:\n",
        "                 # Handle other errors during request processing for a line\n",
        "                error_response = {\n",
        "                    \"jsonrpc\": \"2.0\",\n",
        "                    \"id\": None, # Or request.get(\"id\") if available before the error\n",
        "                    \"error\": {\n",
        "                        \"code\": -32603,\n",
        "                        \"message\": \"Internal error during request processing for a line\",\n",
        "                        \"data\": str(e)\n",
        "                    }\n",
        "                }\n",
        "                print(json.dumps(error_response))\n",
        "                sys.stdout.flush()\n",
        "\n",
        "    except Exception as e:\n",
        "        raise\n",
        "        # print(f\"An unexpected error occurred in the main loop: {e}\", file=sys.stderr)\n",
        "\n",
        "    # print(\"Simulated JSON-RPC server shutting down.\", file=sys.stderr)"
      ],
      "metadata": {
        "colab": {
          "base_uri": "https://localhost:8080/"
        },
        "id": "MTCZWjeewRx5",
        "outputId": "543dcd45-fc35-4b62-ca59-a79a23775d9a"
      },
      "execution_count": 14,
      "outputs": [
        {
          "output_type": "stream",
          "name": "stdout",
          "text": [
            "Overwriting jsonrpc_server.py\n"
          ]
        }
      ]
    },
    {
      "cell_type": "markdown",
      "source": [
        "### Example stdio requests of JSON-RPC\n",
        "\n",
        "Check the request/response to understand the structure.\n",
        "\n",
        "Note:\n",
        "\n",
        "- request2.json is not a MCP request. However, it is a valid JSON-RPC request.\n",
        "\n",
        "JSON-RPC response:\n",
        "\n",
        "```\n",
        "{\"jsonrpc\": \"2.0\", \"id\": 1, \"result\": |Any JSON value here|}\n",
        "```\n",
        "\n",
        "MCP further defines the `result` field:\n",
        "\n",
        "```\n",
        "{\n",
        "    \"content\": [\n",
        "      {\n",
        "        \"type\": \"text\",\n",
        "        \"text\": \"Current weather in New York:\\nTemperature: 72°F\\nConditions: Partly cloudy\"\n",
        "      }\n",
        "    ],\n",
        "    \"isError\": false\n",
        "}\n",
        "```"
      ],
      "metadata": {
        "id": "MKepli15DOSm"
      }
    },
    {
      "cell_type": "code",
      "source": [
        "%%file request0.json\n",
        "{\"jsonrpc\": \"2.0\", \"method\": \"initialize\", \"params\": [], \"id\": 1}"
      ],
      "metadata": {
        "colab": {
          "base_uri": "https://localhost:8080/"
        },
        "id": "y2exGWv52GK5",
        "outputId": "c12d2060-cdc0-4539-b3a6-ebdc88741ac1"
      },
      "execution_count": 15,
      "outputs": [
        {
          "output_type": "stream",
          "name": "stdout",
          "text": [
            "Overwriting request0.json\n"
          ]
        }
      ]
    },
    {
      "cell_type": "code",
      "source": [
        "!cat request0.json | python jsonrpc_server.py"
      ],
      "metadata": {
        "colab": {
          "base_uri": "https://localhost:8080/"
        },
        "id": "Gxob12yA2K8Y",
        "outputId": "56cb5796-e582-4217-9faf-17ada8db3b3b"
      },
      "execution_count": 16,
      "outputs": [
        {
          "output_type": "stream",
          "name": "stdout",
          "text": [
            "Simulated JSON-RPC server started. Waiting for requests on stdin...\n",
            "{\"jsonrpc\": \"2.0\", \"id\": 1, \"result\": {\"capabilities\": {}, \"protocolVersion\": \"2025-06-18\", \"serverInfo\": {\"name\": \"A simple shim MCP server using stdio\", \"version\": \"1.2.3\", \"instructions\": \"The server provides information about a user\"}}}\n"
          ]
        }
      ]
    },
    {
      "cell_type": "code",
      "source": [
        "%%file request1.json\n",
        "{\"jsonrpc\": \"2.0\", \"method\": \"tools/list\", \"params\": [], \"id\": 1}"
      ],
      "metadata": {
        "colab": {
          "base_uri": "https://localhost:8080/"
        },
        "id": "4B-V3gybxDxU",
        "outputId": "d72ffd76-7182-449d-ee39-24b100857fc1"
      },
      "execution_count": 17,
      "outputs": [
        {
          "output_type": "stream",
          "name": "stdout",
          "text": [
            "Overwriting request1.json\n"
          ]
        }
      ]
    },
    {
      "cell_type": "code",
      "source": [
        "!cat request1.json | python jsonrpc_server.py"
      ],
      "metadata": {
        "colab": {
          "base_uri": "https://localhost:8080/"
        },
        "id": "pPXs0NqxxEVd",
        "outputId": "e5b6532f-8fb3-4c4d-be76-135e25da3ab1"
      },
      "execution_count": 18,
      "outputs": [
        {
          "output_type": "stream",
          "name": "stdout",
          "text": [
            "Simulated JSON-RPC server started. Waiting for requests on stdin...\n",
            "{\"jsonrpc\": \"2.0\", \"id\": 1, \"result\": {\"tools\": [{\"name\": \"name\", \"title\": \"Get the name of the user\", \"description\": \"Get the name of the user\", \"inputSchema\": {\"type\": \"object\", \"properties\": {}, \"required\": []}}]}}\n"
          ]
        }
      ]
    },
    {
      "cell_type": "code",
      "source": [
        "%%file request2.json\n",
        "{\"jsonrpc\": \"2.0\", \"method\": \"name\", \"params\": [], \"id\": 1}"
      ],
      "metadata": {
        "colab": {
          "base_uri": "https://localhost:8080/"
        },
        "id": "RoqMCXoyvgL4",
        "outputId": "0711f76a-cddd-4627-a370-8e9b558d1564"
      },
      "execution_count": 19,
      "outputs": [
        {
          "output_type": "stream",
          "name": "stdout",
          "text": [
            "Overwriting request2.json\n"
          ]
        }
      ]
    },
    {
      "cell_type": "code",
      "source": [
        "!cat request2.json | python jsonrpc_server.py"
      ],
      "metadata": {
        "colab": {
          "base_uri": "https://localhost:8080/"
        },
        "id": "5_LHJBPDtfMQ",
        "outputId": "a32382a5-c159-41ec-cded-280c5be1cbec"
      },
      "execution_count": 20,
      "outputs": [
        {
          "output_type": "stream",
          "name": "stdout",
          "text": [
            "Simulated JSON-RPC server started. Waiting for requests on stdin...\n",
            "{\"jsonrpc\": \"2.0\", \"id\": 1, \"result\": \"Pili\"}\n"
          ]
        }
      ]
    },
    {
      "cell_type": "code",
      "source": [
        "%%file request3.json\n",
        "{\"jsonrpc\": \"2.0\", \"method\": \"tools/call\", \"params\": {\"name\": \"name\", \"arguments\": \"\"}, \"id\": 1}"
      ],
      "metadata": {
        "colab": {
          "base_uri": "https://localhost:8080/"
        },
        "id": "uh3HsHCW_lVq",
        "outputId": "0dd2eeaf-0b26-4336-e1ef-917f8634c548"
      },
      "execution_count": 21,
      "outputs": [
        {
          "output_type": "stream",
          "name": "stdout",
          "text": [
            "Overwriting request3.json\n"
          ]
        }
      ]
    },
    {
      "cell_type": "code",
      "source": [
        "!cat request3.json | python jsonrpc_server.py"
      ],
      "metadata": {
        "colab": {
          "base_uri": "https://localhost:8080/"
        },
        "id": "oDXXSsWe_mWi",
        "outputId": "db945077-d65b-4222-9e7b-c9cd4498c8b0"
      },
      "execution_count": 22,
      "outputs": [
        {
          "output_type": "stream",
          "name": "stdout",
          "text": [
            "Simulated JSON-RPC server started. Waiting for requests on stdin...\n",
            "{\"jsonrpc\": \"2.0\", \"id\": 1, \"result\": {\"content\": [{\"type\": \"text\", \"text\": \"The user name is Pili\"}], \"isError\": false}}\n"
          ]
        }
      ]
    },
    {
      "cell_type": "code",
      "source": [
        "import json\n",
        "json.loads('''\n",
        "{\"jsonrpc\": \"2.0\", \"id\": 1, \"result\": {\"content\": [{\"type\": \"text\", \"text\": \"The user name is Pili\"}], \"isError\": false}}\n",
        "''')"
      ],
      "metadata": {
        "colab": {
          "base_uri": "https://localhost:8080/"
        },
        "id": "YDxMWlG_A926",
        "outputId": "e27a5a36-5987-403d-d55b-ca22cc9ecb4f"
      },
      "execution_count": 23,
      "outputs": [
        {
          "output_type": "execute_result",
          "data": {
            "text/plain": [
              "{'jsonrpc': '2.0',\n",
              " 'id': 1,\n",
              " 'result': {'content': [{'type': 'text', 'text': 'The user name is Pili'}],\n",
              "  'isError': False}}"
            ]
          },
          "metadata": {},
          "execution_count": 23
        }
      ]
    },
    {
      "cell_type": "markdown",
      "source": [
        "### Connect into ADK\n",
        "\n",
        "Note:\n",
        "\n",
        "- MCPToolset tries to connect the stderr of our server script.\n",
        "- However, CoLab environment mounts stderr to special handler.\n",
        "- There is a conflict.\n",
        "\n",
        "Towards this end, we save both agent.py and jsonrpc_server.py to file and run them through shell."
      ],
      "metadata": {
        "id": "bDI-_ZjbEWzd"
      }
    },
    {
      "cell_type": "code",
      "source": [
        "%%file agent.py\n",
        "\n",
        "from google.adk.agents import Agent\n",
        "from google.adk.tools.google_search_tool import GoogleSearchTool\n",
        "from google.adk.tools.mcp_tool.mcp_toolset import MCPToolset, StdioConnectionParams\n",
        "from utils import *\n",
        "import asyncio\n",
        "\n",
        "name_tool = MCPToolset(\n",
        "    connection_params=StdioConnectionParams(\n",
        "        server_params=dict(\n",
        "          command='python',\n",
        "          args=[\n",
        "              'jsonrpc_server.py',\n",
        "          ],\n",
        "        )\n",
        "    )\n",
        ")\n",
        "\n",
        "root_agent = Agent(\n",
        "    model='gemini-2.5-flash',\n",
        "    name='root_agent',\n",
        "    description='An agent that greet the user based on their name.',\n",
        "    instruction='Greet the user based on their name',\n",
        "    tools=[name_tool],\n",
        ")\n",
        "\n",
        "async def main():\n",
        "  call_agent = await caller_factory(root_agent)\n",
        "  events = call_agent('Hello')\n",
        "  pprint_events(list(events))\n",
        "\n",
        "if __name__ == '__main__':\n",
        "  asyncio.run(main())"
      ],
      "metadata": {
        "colab": {
          "base_uri": "https://localhost:8080/"
        },
        "id": "laivRkHgxw5l",
        "outputId": "7602d075-7b94-46e0-d8e3-fa359c42d51d"
      },
      "execution_count": 24,
      "outputs": [
        {
          "output_type": "stream",
          "name": "stdout",
          "text": [
            "Overwriting agent.py\n"
          ]
        }
      ]
    },
    {
      "cell_type": "code",
      "source": [
        "!python agent.py"
      ],
      "metadata": {
        "colab": {
          "base_uri": "https://localhost:8080/"
        },
        "id": "_FEqNAhJyOXA",
        "outputId": "39b95ed6-f4af-4a69-9ae0-ebb9c8df5144"
      },
      "execution_count": 25,
      "outputs": [
        {
          "output_type": "stream",
          "name": "stdout",
          "text": [
            "Simulated JSON-RPC server started. Waiting for requests on stdin...\n",
            "/usr/local/lib/python3.11/dist-packages/google/adk/tools/mcp_tool/mcp_tool.py:85: UserWarning: [EXPERIMENTAL] BaseAuthenticatedTool: This feature is experimental and may change or be removed in future versions without notice. It may introduce breaking changes at any time.\n",
            "  super().__init__(\n",
            "auth_config or auth_config.auth_scheme is missing. Will skip authentication.Using FunctionTool instead if authentication is not required.\n",
            "Warning: there are non-text parts in the response: ['function_call'], returning concatenated text result from text parts. Check the full candidates.content.parts accessor to get the full model response.\n",
            "auth_config or auth_config.auth_scheme is missing. Will skip authentication.Using FunctionTool instead if authentication is not required.\n",
            "an error occurred during closing of asynchronous generator <async_generator object stdio_client at 0x7a4e24b78680>\n",
            "asyncgen: <async_generator object stdio_client at 0x7a4e24b78680>\n",
            "  + Exception Group Traceback (most recent call last):\n",
            "  |   File \"/usr/local/lib/python3.11/dist-packages/anyio/_backends/_asyncio.py\", line 772, in __aexit__\n",
            "  |     raise BaseExceptionGroup(\n",
            "  | BaseExceptionGroup: unhandled errors in a TaskGroup (1 sub-exception)\n",
            "  +-+---------------- 1 ----------------\n",
            "    | Traceback (most recent call last):\n",
            "    |   File \"/usr/local/lib/python3.11/dist-packages/mcp/client/stdio/__init__.py\", line 179, in stdio_client\n",
            "    |     yield read_stream, write_stream\n",
            "    | GeneratorExit\n",
            "    +------------------------------------\n",
            "\n",
            "During handling of the above exception, another exception occurred:\n",
            "\n",
            "Traceback (most recent call last):\n",
            "  File \"/usr/local/lib/python3.11/dist-packages/mcp/client/stdio/__init__.py\", line 172, in stdio_client\n",
            "    async with (\n",
            "  File \"/usr/local/lib/python3.11/dist-packages/anyio/_backends/_asyncio.py\", line 778, in __aexit__\n",
            "    if self.cancel_scope.__exit__(type(exc), exc, exc.__traceback__):\n",
            "       ^^^^^^^^^^^^^^^^^^^^^^^^^^^^^^^^^^^^^^^^^^^^^^^^^^^^^^^^^^^^^\n",
            "  File \"/usr/local/lib/python3.11/dist-packages/anyio/_backends/_asyncio.py\", line 457, in __exit__\n",
            "    raise RuntimeError(\n",
            "RuntimeError: Attempted to exit cancel scope in a different task than it was entered in\n",
            "+++ inside the function call...\n",
            "function, [args]:  name, {}\n",
            "--- inside the function call response...\n",
            "Function Name: name\n",
            "Function Results: [CallToolResult(meta=None, content=[TextContent(type='text', text='The user name is Pili', annotations=None, meta=None)], structuredContent=None, isError=False)]\n",
            ">>> inside final response...\n",
            "Final Response (2.189 ms):\n",
            "Hello Pili! How can I help you today?\n",
            "-----------------------------\n",
            "Total elapsed time: 2.189\n"
          ]
        }
      ]
    },
    {
      "cell_type": "markdown",
      "source": [],
      "metadata": {
        "id": "6mlVb2KuFk-N"
      }
    }
  ]
}