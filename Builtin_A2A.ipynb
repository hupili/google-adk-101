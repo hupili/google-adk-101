{
  "nbformat": 4,
  "nbformat_minor": 0,
  "metadata": {
    "colab": {
      "provenance": [],
      "toc_visible": true
    },
    "kernelspec": {
      "name": "python3",
      "display_name": "Python 3"
    },
    "language_info": {
      "name": "python"
    }
  },
  "cells": [
    {
      "cell_type": "markdown",
      "source": [
        "# Builtin A2A\n",
        "\n",
        "NOTE: THIS IS EXPERIMENTAL AS OF WRTING OF THIS NOTEBOOK! THAT MEANS THE INTERFACE MAY HAVE BREAKING CHANGES IN THE FUTURE.\n",
        "\n",
        "Last Update:\n",
        "\n",
        "- July 17, 2025\n",
        "- ADK == 1.6.1"
      ],
      "metadata": {
        "id": "4LLX5Yxa3CQK"
      }
    },
    {
      "cell_type": "markdown",
      "source": [],
      "metadata": {
        "id": "2rwx2Q2OmXc9"
      }
    },
    {
      "cell_type": "markdown",
      "source": [
        "<table align=\"left\">\n",
        "  <td style=\"text-align: center\">\n",
        "    <a href=\"https://colab.sandbox.google.com/github/hupili/google-adk-101/blob/main/Builtin_A2A.ipynb\">\n",
        "      <img width=\"32px\" src=\"https://www.gstatic.com/pantheon/images/bigquery/welcome_page/colab-logo.svg\" alt=\"Google Colaboratory logo\"><br> Run in Colab\n",
        "    </a>\n",
        "  </td>\n",
        "  <td style=\"text-align: center\">\n",
        "    <a href=\"https://console.cloud.google.com/vertex-ai/colab/import/https:%2F%2Fraw.githubusercontent.com%2Fhupili%2Fgoogle-adk-101%2Fmain%2FBuiltin_A2A.ipynb\">\n",
        "      <img width=\"32px\" src=\"https://www.gstatic.com/pantheon/images/bigquery/welcome_page/colab-enterprise-logo.png\" alt=\"Google Cloud Colab Enterprise logo\"><br> Run in Colab Enterprise\n",
        "    </a>\n",
        "  </td>    \n",
        "  <td style=\"text-align: center\">\n",
        "    <a href=\"https://github.com/hupili/google-adk-101/blob/main/Builtin_A2A.ipynb\">\n",
        "      <img width=\"32px\" src=\"https://www.gstatic.com/monospace/240802/git_host_github_mask.svg\" alt=\"GitHub logo\"><br> View on GitHub\n",
        "    </a>\n",
        "  </td>\n",
        "  <td style=\"text-align: center\">\n",
        "    <a href=\"https://console.cloud.google.com/vertex-ai/workbench/deploy-notebook?download_url=https://raw.githubusercontent.com/hupili/google-adk-101/main/Builtin_A2A.ipynb\">\n",
        "      <img width=\"32px\" src=\"https://www.gstatic.com/cloud/images/navigation/vertex-ai.svg\" alt=\"Vertex AI logo\"><br> Open in Vertex AI Workbench\n",
        "    </a>\n",
        "  </td>\n",
        "</table>"
      ],
      "metadata": {
        "id": "d3JKoxwtyJgX"
      }
    },
    {
      "cell_type": "markdown",
      "source": [
        "## Environment Setup"
      ],
      "metadata": {
        "id": "IoAj8G-02_0R"
      }
    },
    {
      "cell_type": "code",
      "execution_count": 2,
      "metadata": {
        "id": "38kRHmz02DqR"
      },
      "outputs": [],
      "source": [
        "import os\n",
        "\n",
        "# API_KEY = '' # @param {type:\"string\"}\n",
        "# os.environ[\"GOOGLE_GENAI_USE_VERTEXAI\"] = \"FALSE\" # Use Vertex AI API\n",
        "# os.environ[\"GOOGLE_API_KEY\"] = API_KEY\n",
        "\n",
        "PROJECT_ID = \"hupili-genai-bb\"  # @param {type:\"string\"}\n",
        "if not PROJECT_ID:\n",
        "    PROJECT_ID = str(os.environ.get(\"GOOGLE_CLOUD_PROJECT\"))\n",
        "\n",
        "LOCATION = \"us-central1\" # @param {type:\"string\"}\n",
        "\n",
        "STAGING_BUCKET = 'gs://agent_engine_deploy_staging' # @param {type:\"string\"}\n",
        "\n",
        "os.environ[\"GOOGLE_CLOUD_PROJECT\"] = PROJECT_ID\n",
        "os.environ[\"GOOGLE_CLOUD_LOCATION\"] = LOCATION\n",
        "os.environ[\"GOOGLE_GENAI_USE_VERTEXAI\"] = \"TRUE\" # Use Vertex AI API\n",
        "\n",
        "# [your-project-id]"
      ]
    },
    {
      "cell_type": "code",
      "source": [
        "import vertexai\n",
        "\n",
        "vertexai.init(\n",
        "    project=PROJECT_ID,\n",
        "    location=LOCATION,\n",
        "    staging_bucket=STAGING_BUCKET,\n",
        ")"
      ],
      "metadata": {
        "id": "lUDcVWOq2HFH"
      },
      "execution_count": 3,
      "outputs": []
    },
    {
      "cell_type": "code",
      "source": [
        "from google.colab import auth\n",
        "auth.authenticate_user()"
      ],
      "metadata": {
        "id": "htFtAp592LYP"
      },
      "execution_count": 4,
      "outputs": []
    },
    {
      "cell_type": "markdown",
      "source": [
        "NOTE: You may need to restart the session after installing adk"
      ],
      "metadata": {
        "id": "xy1Fbwtll0XR"
      }
    },
    {
      "cell_type": "code",
      "source": [
        "!pip install google-adk==1.6.1"
      ],
      "metadata": {
        "colab": {
          "base_uri": "https://localhost:8080/"
        },
        "id": "8x3NAoCo2M0G",
        "outputId": "80a4abf4-d827-4811-f7d1-e4b627e7faa4"
      },
      "execution_count": 5,
      "outputs": [
        {
          "output_type": "stream",
          "name": "stdout",
          "text": [
            "Requirement already satisfied: google-adk==1.6.1 in /usr/local/lib/python3.11/dist-packages (1.6.1)\n",
            "Requirement already satisfied: PyYAML>=6.0.2 in /usr/local/lib/python3.11/dist-packages (from google-adk==1.6.1) (6.0.2)\n",
            "Requirement already satisfied: anyio>=4.9.0 in /usr/local/lib/python3.11/dist-packages (from google-adk==1.6.1) (4.9.0)\n",
            "Requirement already satisfied: authlib>=1.5.1 in /usr/local/lib/python3.11/dist-packages (from google-adk==1.6.1) (1.6.0)\n",
            "Requirement already satisfied: click>=8.1.8 in /usr/local/lib/python3.11/dist-packages (from google-adk==1.6.1) (8.2.1)\n",
            "Requirement already satisfied: fastapi>=0.115.0 in /usr/local/lib/python3.11/dist-packages (from google-adk==1.6.1) (0.116.1)\n",
            "Requirement already satisfied: google-api-python-client>=2.157.0 in /usr/local/lib/python3.11/dist-packages (from google-adk==1.6.1) (2.176.0)\n",
            "Requirement already satisfied: google-cloud-aiplatform>=1.95.1 in /usr/local/lib/python3.11/dist-packages (from google-cloud-aiplatform[agent-engines]>=1.95.1->google-adk==1.6.1) (1.103.0)\n",
            "Requirement already satisfied: google-cloud-secret-manager>=2.22.0 in /usr/local/lib/python3.11/dist-packages (from google-adk==1.6.1) (2.24.0)\n",
            "Requirement already satisfied: google-cloud-speech>=2.30.0 in /usr/local/lib/python3.11/dist-packages (from google-adk==1.6.1) (2.33.0)\n",
            "Requirement already satisfied: google-cloud-storage<3.0.0,>=2.18.0 in /usr/local/lib/python3.11/dist-packages (from google-adk==1.6.1) (2.19.0)\n",
            "Requirement already satisfied: google-genai>=1.21.1 in /usr/local/lib/python3.11/dist-packages (from google-adk==1.6.1) (1.25.0)\n",
            "Requirement already satisfied: graphviz>=0.20.2 in /usr/local/lib/python3.11/dist-packages (from google-adk==1.6.1) (0.21)\n",
            "Requirement already satisfied: mcp>=1.8.0 in /usr/local/lib/python3.11/dist-packages (from google-adk==1.6.1) (1.11.0)\n",
            "Requirement already satisfied: opentelemetry-api>=1.31.0 in /usr/local/lib/python3.11/dist-packages (from google-adk==1.6.1) (1.35.0)\n",
            "Requirement already satisfied: opentelemetry-exporter-gcp-trace>=1.9.0 in /usr/local/lib/python3.11/dist-packages (from google-adk==1.6.1) (1.9.0)\n",
            "Requirement already satisfied: opentelemetry-sdk>=1.31.0 in /usr/local/lib/python3.11/dist-packages (from google-adk==1.6.1) (1.35.0)\n",
            "Requirement already satisfied: pydantic<3.0.0,>=2.0 in /usr/local/lib/python3.11/dist-packages (from google-adk==1.6.1) (2.11.7)\n",
            "Requirement already satisfied: python-dateutil>=2.9.0.post0 in /usr/local/lib/python3.11/dist-packages (from google-adk==1.6.1) (2.9.0.post0)\n",
            "Requirement already satisfied: python-dotenv>=1.0.0 in /usr/local/lib/python3.11/dist-packages (from google-adk==1.6.1) (1.1.1)\n",
            "Requirement already satisfied: requests>=2.32.4 in /usr/local/lib/python3.11/dist-packages (from google-adk==1.6.1) (2.32.4)\n",
            "Requirement already satisfied: sqlalchemy>=2.0 in /usr/local/lib/python3.11/dist-packages (from google-adk==1.6.1) (2.0.41)\n",
            "Requirement already satisfied: starlette>=0.46.2 in /usr/local/lib/python3.11/dist-packages (from google-adk==1.6.1) (0.47.1)\n",
            "Requirement already satisfied: tenacity>=8.0.0 in /usr/local/lib/python3.11/dist-packages (from google-adk==1.6.1) (8.5.0)\n",
            "Requirement already satisfied: typing-extensions<5,>=4.5 in /usr/local/lib/python3.11/dist-packages (from google-adk==1.6.1) (4.14.1)\n",
            "Requirement already satisfied: tzlocal>=5.3 in /usr/local/lib/python3.11/dist-packages (from google-adk==1.6.1) (5.3.1)\n",
            "Requirement already satisfied: uvicorn>=0.34.0 in /usr/local/lib/python3.11/dist-packages (from google-adk==1.6.1) (0.35.0)\n",
            "Requirement already satisfied: watchdog>=6.0.0 in /usr/local/lib/python3.11/dist-packages (from google-adk==1.6.1) (6.0.0)\n",
            "Requirement already satisfied: websockets>=15.0.1 in /usr/local/lib/python3.11/dist-packages (from google-adk==1.6.1) (15.0.1)\n",
            "Requirement already satisfied: idna>=2.8 in /usr/local/lib/python3.11/dist-packages (from anyio>=4.9.0->google-adk==1.6.1) (3.10)\n",
            "Requirement already satisfied: sniffio>=1.1 in /usr/local/lib/python3.11/dist-packages (from anyio>=4.9.0->google-adk==1.6.1) (1.3.1)\n",
            "Requirement already satisfied: cryptography in /usr/local/lib/python3.11/dist-packages (from authlib>=1.5.1->google-adk==1.6.1) (43.0.3)\n",
            "Requirement already satisfied: httplib2<1.0.0,>=0.19.0 in /usr/local/lib/python3.11/dist-packages (from google-api-python-client>=2.157.0->google-adk==1.6.1) (0.22.0)\n",
            "Requirement already satisfied: google-auth!=2.24.0,!=2.25.0,<3.0.0,>=1.32.0 in /usr/local/lib/python3.11/dist-packages (from google-api-python-client>=2.157.0->google-adk==1.6.1) (2.38.0)\n",
            "Requirement already satisfied: google-auth-httplib2<1.0.0,>=0.2.0 in /usr/local/lib/python3.11/dist-packages (from google-api-python-client>=2.157.0->google-adk==1.6.1) (0.2.0)\n",
            "Requirement already satisfied: google-api-core!=2.0.*,!=2.1.*,!=2.2.*,!=2.3.0,<3.0.0,>=1.31.5 in /usr/local/lib/python3.11/dist-packages (from google-api-python-client>=2.157.0->google-adk==1.6.1) (2.25.1)\n",
            "Requirement already satisfied: uritemplate<5,>=3.0.1 in /usr/local/lib/python3.11/dist-packages (from google-api-python-client>=2.157.0->google-adk==1.6.1) (4.2.0)\n",
            "Requirement already satisfied: proto-plus<2.0.0,>=1.22.3 in /usr/local/lib/python3.11/dist-packages (from google-cloud-aiplatform>=1.95.1->google-cloud-aiplatform[agent-engines]>=1.95.1->google-adk==1.6.1) (1.26.1)\n",
            "Requirement already satisfied: protobuf!=4.21.0,!=4.21.1,!=4.21.2,!=4.21.3,!=4.21.4,!=4.21.5,<7.0.0,>=3.20.2 in /usr/local/lib/python3.11/dist-packages (from google-cloud-aiplatform>=1.95.1->google-cloud-aiplatform[agent-engines]>=1.95.1->google-adk==1.6.1) (5.29.5)\n",
            "Requirement already satisfied: packaging>=14.3 in /usr/local/lib/python3.11/dist-packages (from google-cloud-aiplatform>=1.95.1->google-cloud-aiplatform[agent-engines]>=1.95.1->google-adk==1.6.1) (25.0)\n",
            "Requirement already satisfied: google-cloud-bigquery!=3.20.0,<4.0.0,>=1.15.0 in /usr/local/lib/python3.11/dist-packages (from google-cloud-aiplatform>=1.95.1->google-cloud-aiplatform[agent-engines]>=1.95.1->google-adk==1.6.1) (3.34.0)\n",
            "Requirement already satisfied: google-cloud-resource-manager<3.0.0,>=1.3.3 in /usr/local/lib/python3.11/dist-packages (from google-cloud-aiplatform>=1.95.1->google-cloud-aiplatform[agent-engines]>=1.95.1->google-adk==1.6.1) (1.14.2)\n",
            "Requirement already satisfied: shapely<3.0.0 in /usr/local/lib/python3.11/dist-packages (from google-cloud-aiplatform>=1.95.1->google-cloud-aiplatform[agent-engines]>=1.95.1->google-adk==1.6.1) (2.1.1)\n",
            "Requirement already satisfied: docstring_parser<1 in /usr/local/lib/python3.11/dist-packages (from google-cloud-aiplatform>=1.95.1->google-cloud-aiplatform[agent-engines]>=1.95.1->google-adk==1.6.1) (0.16)\n",
            "Requirement already satisfied: cloudpickle<4.0,>=3.0 in /usr/local/lib/python3.11/dist-packages (from google-cloud-aiplatform[agent-engines]>=1.95.1->google-adk==1.6.1) (3.1.1)\n",
            "Requirement already satisfied: google-cloud-trace<2 in /usr/local/lib/python3.11/dist-packages (from google-cloud-aiplatform[agent-engines]>=1.95.1->google-adk==1.6.1) (1.16.2)\n",
            "Requirement already satisfied: google-cloud-logging<4 in /usr/local/lib/python3.11/dist-packages (from google-cloud-aiplatform[agent-engines]>=1.95.1->google-adk==1.6.1) (3.12.1)\n",
            "Requirement already satisfied: grpc-google-iam-v1<1.0.0,>=0.14.0 in /usr/local/lib/python3.11/dist-packages (from google-cloud-secret-manager>=2.22.0->google-adk==1.6.1) (0.14.2)\n",
            "Requirement already satisfied: google-cloud-core<3.0dev,>=2.3.0 in /usr/local/lib/python3.11/dist-packages (from google-cloud-storage<3.0.0,>=2.18.0->google-adk==1.6.1) (2.4.3)\n",
            "Requirement already satisfied: google-resumable-media>=2.7.2 in /usr/local/lib/python3.11/dist-packages (from google-cloud-storage<3.0.0,>=2.18.0->google-adk==1.6.1) (2.7.2)\n",
            "Requirement already satisfied: google-crc32c<2.0dev,>=1.0 in /usr/local/lib/python3.11/dist-packages (from google-cloud-storage<3.0.0,>=2.18.0->google-adk==1.6.1) (1.7.1)\n",
            "Requirement already satisfied: httpx<1.0.0,>=0.28.1 in /usr/local/lib/python3.11/dist-packages (from google-genai>=1.21.1->google-adk==1.6.1) (0.28.1)\n",
            "Requirement already satisfied: httpx-sse>=0.4 in /usr/local/lib/python3.11/dist-packages (from mcp>=1.8.0->google-adk==1.6.1) (0.4.1)\n",
            "Requirement already satisfied: jsonschema>=4.20.0 in /usr/local/lib/python3.11/dist-packages (from mcp>=1.8.0->google-adk==1.6.1) (4.24.0)\n",
            "Requirement already satisfied: pydantic-settings>=2.5.2 in /usr/local/lib/python3.11/dist-packages (from mcp>=1.8.0->google-adk==1.6.1) (2.10.1)\n",
            "Requirement already satisfied: python-multipart>=0.0.9 in /usr/local/lib/python3.11/dist-packages (from mcp>=1.8.0->google-adk==1.6.1) (0.0.20)\n",
            "Requirement already satisfied: sse-starlette>=1.6.1 in /usr/local/lib/python3.11/dist-packages (from mcp>=1.8.0->google-adk==1.6.1) (2.4.1)\n",
            "Requirement already satisfied: importlib-metadata<8.8.0,>=6.0 in /usr/local/lib/python3.11/dist-packages (from opentelemetry-api>=1.31.0->google-adk==1.6.1) (8.7.0)\n",
            "Requirement already satisfied: opentelemetry-resourcedetector-gcp==1.*,>=1.5.0dev0 in /usr/local/lib/python3.11/dist-packages (from opentelemetry-exporter-gcp-trace>=1.9.0->google-adk==1.6.1) (1.9.0a0)\n",
            "Requirement already satisfied: opentelemetry-semantic-conventions==0.56b0 in /usr/local/lib/python3.11/dist-packages (from opentelemetry-sdk>=1.31.0->google-adk==1.6.1) (0.56b0)\n",
            "Requirement already satisfied: annotated-types>=0.6.0 in /usr/local/lib/python3.11/dist-packages (from pydantic<3.0.0,>=2.0->google-adk==1.6.1) (0.7.0)\n",
            "Requirement already satisfied: pydantic-core==2.33.2 in /usr/local/lib/python3.11/dist-packages (from pydantic<3.0.0,>=2.0->google-adk==1.6.1) (2.33.2)\n",
            "Requirement already satisfied: typing-inspection>=0.4.0 in /usr/local/lib/python3.11/dist-packages (from pydantic<3.0.0,>=2.0->google-adk==1.6.1) (0.4.1)\n",
            "Requirement already satisfied: six>=1.5 in /usr/local/lib/python3.11/dist-packages (from python-dateutil>=2.9.0.post0->google-adk==1.6.1) (1.17.0)\n",
            "Requirement already satisfied: charset_normalizer<4,>=2 in /usr/local/lib/python3.11/dist-packages (from requests>=2.32.4->google-adk==1.6.1) (3.4.2)\n",
            "Requirement already satisfied: urllib3<3,>=1.21.1 in /usr/local/lib/python3.11/dist-packages (from requests>=2.32.4->google-adk==1.6.1) (2.4.0)\n",
            "Requirement already satisfied: certifi>=2017.4.17 in /usr/local/lib/python3.11/dist-packages (from requests>=2.32.4->google-adk==1.6.1) (2025.7.14)\n",
            "Requirement already satisfied: greenlet>=1 in /usr/local/lib/python3.11/dist-packages (from sqlalchemy>=2.0->google-adk==1.6.1) (3.2.3)\n",
            "Requirement already satisfied: h11>=0.8 in /usr/local/lib/python3.11/dist-packages (from uvicorn>=0.34.0->google-adk==1.6.1) (0.16.0)\n",
            "Requirement already satisfied: googleapis-common-protos<2.0.0,>=1.56.2 in /usr/local/lib/python3.11/dist-packages (from google-api-core!=2.0.*,!=2.1.*,!=2.2.*,!=2.3.0,<3.0.0,>=1.31.5->google-api-python-client>=2.157.0->google-adk==1.6.1) (1.70.0)\n",
            "Requirement already satisfied: grpcio<2.0.0,>=1.33.2 in /usr/local/lib/python3.11/dist-packages (from google-api-core[grpc]!=2.0.*,!=2.1.*,!=2.2.*,!=2.3.*,!=2.4.*,!=2.5.*,!=2.6.*,!=2.7.*,<3.0.0,>=1.34.1->google-cloud-aiplatform>=1.95.1->google-cloud-aiplatform[agent-engines]>=1.95.1->google-adk==1.6.1) (1.73.1)\n",
            "Requirement already satisfied: grpcio-status<2.0.0,>=1.33.2 in /usr/local/lib/python3.11/dist-packages (from google-api-core[grpc]!=2.0.*,!=2.1.*,!=2.2.*,!=2.3.*,!=2.4.*,!=2.5.*,!=2.6.*,!=2.7.*,<3.0.0,>=1.34.1->google-cloud-aiplatform>=1.95.1->google-cloud-aiplatform[agent-engines]>=1.95.1->google-adk==1.6.1) (1.71.2)\n",
            "Requirement already satisfied: cachetools<6.0,>=2.0.0 in /usr/local/lib/python3.11/dist-packages (from google-auth!=2.24.0,!=2.25.0,<3.0.0,>=1.32.0->google-api-python-client>=2.157.0->google-adk==1.6.1) (5.5.2)\n",
            "Requirement already satisfied: pyasn1-modules>=0.2.1 in /usr/local/lib/python3.11/dist-packages (from google-auth!=2.24.0,!=2.25.0,<3.0.0,>=1.32.0->google-api-python-client>=2.157.0->google-adk==1.6.1) (0.4.2)\n",
            "Requirement already satisfied: rsa<5,>=3.1.4 in /usr/local/lib/python3.11/dist-packages (from google-auth!=2.24.0,!=2.25.0,<3.0.0,>=1.32.0->google-api-python-client>=2.157.0->google-adk==1.6.1) (4.9.1)\n",
            "Requirement already satisfied: google-cloud-appengine-logging<2.0.0,>=0.1.3 in /usr/local/lib/python3.11/dist-packages (from google-cloud-logging<4->google-cloud-aiplatform[agent-engines]>=1.95.1->google-adk==1.6.1) (1.6.2)\n",
            "Requirement already satisfied: google-cloud-audit-log<1.0.0,>=0.3.1 in /usr/local/lib/python3.11/dist-packages (from google-cloud-logging<4->google-cloud-aiplatform[agent-engines]>=1.95.1->google-adk==1.6.1) (0.3.2)\n",
            "Requirement already satisfied: pyparsing!=3.0.0,!=3.0.1,!=3.0.2,!=3.0.3,<4,>=2.4.2 in /usr/local/lib/python3.11/dist-packages (from httplib2<1.0.0,>=0.19.0->google-api-python-client>=2.157.0->google-adk==1.6.1) (3.2.3)\n",
            "Requirement already satisfied: httpcore==1.* in /usr/local/lib/python3.11/dist-packages (from httpx<1.0.0,>=0.28.1->google-genai>=1.21.1->google-adk==1.6.1) (1.0.9)\n",
            "Requirement already satisfied: zipp>=3.20 in /usr/local/lib/python3.11/dist-packages (from importlib-metadata<8.8.0,>=6.0->opentelemetry-api>=1.31.0->google-adk==1.6.1) (3.23.0)\n",
            "Requirement already satisfied: attrs>=22.2.0 in /usr/local/lib/python3.11/dist-packages (from jsonschema>=4.20.0->mcp>=1.8.0->google-adk==1.6.1) (25.3.0)\n",
            "Requirement already satisfied: jsonschema-specifications>=2023.03.6 in /usr/local/lib/python3.11/dist-packages (from jsonschema>=4.20.0->mcp>=1.8.0->google-adk==1.6.1) (2025.4.1)\n",
            "Requirement already satisfied: referencing>=0.28.4 in /usr/local/lib/python3.11/dist-packages (from jsonschema>=4.20.0->mcp>=1.8.0->google-adk==1.6.1) (0.36.2)\n",
            "Requirement already satisfied: rpds-py>=0.7.1 in /usr/local/lib/python3.11/dist-packages (from jsonschema>=4.20.0->mcp>=1.8.0->google-adk==1.6.1) (0.26.0)\n",
            "Requirement already satisfied: numpy>=1.21 in /usr/local/lib/python3.11/dist-packages (from shapely<3.0.0->google-cloud-aiplatform>=1.95.1->google-cloud-aiplatform[agent-engines]>=1.95.1->google-adk==1.6.1) (2.0.2)\n",
            "Requirement already satisfied: cffi>=1.12 in /usr/local/lib/python3.11/dist-packages (from cryptography->authlib>=1.5.1->google-adk==1.6.1) (1.17.1)\n",
            "Requirement already satisfied: pycparser in /usr/local/lib/python3.11/dist-packages (from cffi>=1.12->cryptography->authlib>=1.5.1->google-adk==1.6.1) (2.22)\n",
            "Requirement already satisfied: pyasn1<0.7.0,>=0.6.1 in /usr/local/lib/python3.11/dist-packages (from pyasn1-modules>=0.2.1->google-auth!=2.24.0,!=2.25.0,<3.0.0,>=1.32.0->google-api-python-client>=2.157.0->google-adk==1.6.1) (0.6.1)\n"
          ]
        }
      ]
    },
    {
      "cell_type": "markdown",
      "source": [
        "## Utils and boilerplate\n",
        "\n",
        "Below is our regular boilerplate used in this repo. Just a quick test if the basic ADK environment is working before we proceed to specific topics. You can simply run those codes and skip the details."
      ],
      "metadata": {
        "id": "fQib0wKNRyOr"
      }
    },
    {
      "cell_type": "code",
      "source": [
        "from google import adk"
      ],
      "metadata": {
        "id": "nXbXcpKE2POf"
      },
      "execution_count": 6,
      "outputs": []
    },
    {
      "cell_type": "code",
      "source": [
        "import json\n",
        "import time\n",
        "\n",
        "def pprint_events(events):\n",
        "    '''Pretty print of events generated by ADK runner'''\n",
        "    start_time = time.time()\n",
        "    for _, event in enumerate(events):\n",
        "        is_final_response = event.is_final_response()\n",
        "        function_calls = event.get_function_calls()\n",
        "        function_responses = event.get_function_responses()\n",
        "        agent_res = json.loads(event.content.model_dump_json(indent=2, exclude_none=True))\n",
        "\n",
        "        if is_final_response:\n",
        "            print('>>> inside final response...')\n",
        "            final_response = event.content.parts[0].text\n",
        "            end_time = time.time()\n",
        "            elapsed_time_ms = round((end_time - start_time) * 1000, 3)\n",
        "            print(f'Final Response ({elapsed_time_ms} ms):\\n{final_response}')\n",
        "            print(\"-----------------------------\")\n",
        "        elif function_calls:\n",
        "            print('+++ inside the function call...')\n",
        "            for function_call in function_calls:\n",
        "                print(f\"function, [args]:  {function_call.name}, {function_call.args}\")\n",
        "        elif function_responses:\n",
        "            print('--- inside the function call response...')\n",
        "            # TODO(Pili): copied from walkthrough codes. Find root cause of 'pending' not found.\n",
        "            # if not event.actions.pending:\n",
        "            if True:\n",
        "                for function_response in function_responses:\n",
        "                    details = function_response.response\n",
        "                    recommended_list = list(details.values())\n",
        "                    print(f\"Function Name: {function_response.name}\")\n",
        "                    result=json.dumps(recommended_list)\n",
        "                    print(f\"Function Results {result}\")\n",
        "            else:\n",
        "                print(agent_res)\n",
        "    print(f\"Total elapsed time: {elapsed_time_ms}\")\n"
      ],
      "metadata": {
        "id": "MPL-1JEm2jjh"
      },
      "execution_count": 7,
      "outputs": []
    },
    {
      "cell_type": "code",
      "source": [
        "import random\n",
        "import asyncio\n",
        "\n",
        "from google.adk.tools import google_search\n",
        "from google.adk import Agent\n",
        "from google.adk.agents import Agent, LlmAgent\n",
        "from google.genai import types\n",
        "from pydantic import BaseModel\n",
        "from google.genai import types\n",
        "from google.adk.sessions import InMemorySessionService\n",
        "from google.adk.runners import Runner\n",
        "\n",
        "async def caller_factory(root_agent, app_name='App12345', user_id='User12345', session_id=None):\n",
        "  session_service = InMemorySessionService()\n",
        "  if session_id is None:\n",
        "    suffix = random.randint(100000, 999999)\n",
        "    session_id = f'{app_name}-{user_id}-{suffix}'\n",
        "  session = await session_service.create_session(\n",
        "      app_name=app_name, user_id=user_id, session_id=session_id)\n",
        "  runner = Runner(agent=root_agent, app_name=app_name, session_service=session_service)\n",
        "  def _call(query):\n",
        "    content = types.Content(role='user', parts=[types.Part(text=query)])\n",
        "    events = runner.run(user_id=session.user_id, session_id=session.id, new_message=content)\n",
        "    return events\n",
        "  return _call"
      ],
      "metadata": {
        "id": "Gob7RCZ12mQM"
      },
      "execution_count": 8,
      "outputs": []
    },
    {
      "cell_type": "code",
      "source": [
        "MODEL = \"gemini-2.5-flash\"\n",
        "APP_NAME = \"simple_search_example\"\n",
        "USER_ID = \"user12345\"\n",
        "SESSION_ID = \"session12345\"\n",
        "AGENT_NAME = \"simple_search_agent\"\n",
        "\n",
        "# Agent\n",
        "simple_search_agent = Agent(\n",
        "    model=MODEL,\n",
        "    name=\"simple_search_agent\",\n",
        "    description=\"Agent to answer questions using Google Search.\",\n",
        "    instruction=\"I can answer your questions by searching the internet. Just ask me anything!\",\n",
        "    generate_content_config=types.GenerateContentConfig(\n",
        "        max_output_tokens=8000,\n",
        "    ),\n",
        "    tools=[google_search],\n",
        ")"
      ],
      "metadata": {
        "id": "bPhHDCYQ2VyP"
      },
      "execution_count": 9,
      "outputs": []
    },
    {
      "cell_type": "code",
      "source": [
        "call_agent = await caller_factory(simple_search_agent)"
      ],
      "metadata": {
        "id": "XuVy13Nq2pnO"
      },
      "execution_count": 10,
      "outputs": []
    },
    {
      "cell_type": "code",
      "source": [
        "events = call_agent('Hello')"
      ],
      "metadata": {
        "id": "kSn3YLe29B5X"
      },
      "execution_count": 11,
      "outputs": []
    },
    {
      "cell_type": "code",
      "source": [
        "pprint_events(events)"
      ],
      "metadata": {
        "colab": {
          "base_uri": "https://localhost:8080/"
        },
        "id": "YQvAnrnH9Eu9",
        "outputId": "e007b67a-f90b-4a5f-c2a9-d8055a90e3de"
      },
      "execution_count": 12,
      "outputs": [
        {
          "output_type": "stream",
          "name": "stdout",
          "text": [
            ">>> inside final response...\n",
            "Final Response (1836.213 ms):\n",
            "Hello! How can I help you today?\n",
            "-----------------------------\n",
            "Total elapsed time: 1836.213\n"
          ]
        }
      ]
    },
    {
      "cell_type": "code",
      "source": [
        "events = call_agent('What is the weather in Hong Kong now?')\n",
        "pprint_events(events)"
      ],
      "metadata": {
        "colab": {
          "base_uri": "https://localhost:8080/"
        },
        "id": "9ztVOjjj9Nrv",
        "outputId": "cd5efe8c-d025-4246-fe6a-90c9033d9d5c"
      },
      "execution_count": 13,
      "outputs": [
        {
          "output_type": "stream",
          "name": "stdout",
          "text": [
            ">>> inside final response...\n",
            "Final Response (4947.362 ms):\n",
            "As of 12:18 PM HKT on Thursday, July 17, 2025, the weather in Hong Kong is cloudy with a temperature of 90 °F (32 °C). It feels like 105 °F (40 °C), and the humidity is around 70%. There is a 0% chance of rain currently.\n",
            "-----------------------------\n",
            "Total elapsed time: 4947.362\n"
          ]
        }
      ]
    },
    {
      "cell_type": "code",
      "metadata": {
        "id": "a309b295"
      },
      "source": [],
      "execution_count": 13,
      "outputs": []
    },
    {
      "cell_type": "markdown",
      "source": [
        "## Built-in A2A"
      ],
      "metadata": {
        "id": "oUPrZ9sgSCLU"
      }
    },
    {
      "cell_type": "code",
      "source": [
        "!pip install google-adk[a2a]"
      ],
      "metadata": {
        "colab": {
          "base_uri": "https://localhost:8080/"
        },
        "id": "dJAFI3KrSDc7",
        "outputId": "fced2e21-3ffb-46c2-e6b7-597d4bc75aed"
      },
      "execution_count": 14,
      "outputs": [
        {
          "output_type": "stream",
          "name": "stdout",
          "text": [
            "Requirement already satisfied: google-adk[a2a] in /usr/local/lib/python3.11/dist-packages (1.6.1)\n",
            "Requirement already satisfied: PyYAML>=6.0.2 in /usr/local/lib/python3.11/dist-packages (from google-adk[a2a]) (6.0.2)\n",
            "Requirement already satisfied: anyio>=4.9.0 in /usr/local/lib/python3.11/dist-packages (from google-adk[a2a]) (4.9.0)\n",
            "Requirement already satisfied: authlib>=1.5.1 in /usr/local/lib/python3.11/dist-packages (from google-adk[a2a]) (1.6.0)\n",
            "Requirement already satisfied: click>=8.1.8 in /usr/local/lib/python3.11/dist-packages (from google-adk[a2a]) (8.2.1)\n",
            "Requirement already satisfied: fastapi>=0.115.0 in /usr/local/lib/python3.11/dist-packages (from google-adk[a2a]) (0.116.1)\n",
            "Requirement already satisfied: google-api-python-client>=2.157.0 in /usr/local/lib/python3.11/dist-packages (from google-adk[a2a]) (2.176.0)\n",
            "Requirement already satisfied: google-cloud-aiplatform>=1.95.1 in /usr/local/lib/python3.11/dist-packages (from google-cloud-aiplatform[agent-engines]>=1.95.1->google-adk[a2a]) (1.103.0)\n",
            "Requirement already satisfied: google-cloud-secret-manager>=2.22.0 in /usr/local/lib/python3.11/dist-packages (from google-adk[a2a]) (2.24.0)\n",
            "Requirement already satisfied: google-cloud-speech>=2.30.0 in /usr/local/lib/python3.11/dist-packages (from google-adk[a2a]) (2.33.0)\n",
            "Requirement already satisfied: google-cloud-storage<3.0.0,>=2.18.0 in /usr/local/lib/python3.11/dist-packages (from google-adk[a2a]) (2.19.0)\n",
            "Requirement already satisfied: google-genai>=1.21.1 in /usr/local/lib/python3.11/dist-packages (from google-adk[a2a]) (1.25.0)\n",
            "Requirement already satisfied: graphviz>=0.20.2 in /usr/local/lib/python3.11/dist-packages (from google-adk[a2a]) (0.21)\n",
            "Requirement already satisfied: mcp>=1.8.0 in /usr/local/lib/python3.11/dist-packages (from google-adk[a2a]) (1.11.0)\n",
            "Requirement already satisfied: opentelemetry-api>=1.31.0 in /usr/local/lib/python3.11/dist-packages (from google-adk[a2a]) (1.35.0)\n",
            "Requirement already satisfied: opentelemetry-exporter-gcp-trace>=1.9.0 in /usr/local/lib/python3.11/dist-packages (from google-adk[a2a]) (1.9.0)\n",
            "Requirement already satisfied: opentelemetry-sdk>=1.31.0 in /usr/local/lib/python3.11/dist-packages (from google-adk[a2a]) (1.35.0)\n",
            "Requirement already satisfied: pydantic<3.0.0,>=2.0 in /usr/local/lib/python3.11/dist-packages (from google-adk[a2a]) (2.11.7)\n",
            "Requirement already satisfied: python-dateutil>=2.9.0.post0 in /usr/local/lib/python3.11/dist-packages (from google-adk[a2a]) (2.9.0.post0)\n",
            "Requirement already satisfied: python-dotenv>=1.0.0 in /usr/local/lib/python3.11/dist-packages (from google-adk[a2a]) (1.1.1)\n",
            "Requirement already satisfied: requests>=2.32.4 in /usr/local/lib/python3.11/dist-packages (from google-adk[a2a]) (2.32.4)\n",
            "Requirement already satisfied: sqlalchemy>=2.0 in /usr/local/lib/python3.11/dist-packages (from google-adk[a2a]) (2.0.41)\n",
            "Requirement already satisfied: starlette>=0.46.2 in /usr/local/lib/python3.11/dist-packages (from google-adk[a2a]) (0.47.1)\n",
            "Requirement already satisfied: tenacity>=8.0.0 in /usr/local/lib/python3.11/dist-packages (from google-adk[a2a]) (8.5.0)\n",
            "Requirement already satisfied: typing-extensions<5,>=4.5 in /usr/local/lib/python3.11/dist-packages (from google-adk[a2a]) (4.14.1)\n",
            "Requirement already satisfied: tzlocal>=5.3 in /usr/local/lib/python3.11/dist-packages (from google-adk[a2a]) (5.3.1)\n",
            "Requirement already satisfied: uvicorn>=0.34.0 in /usr/local/lib/python3.11/dist-packages (from google-adk[a2a]) (0.35.0)\n",
            "Requirement already satisfied: watchdog>=6.0.0 in /usr/local/lib/python3.11/dist-packages (from google-adk[a2a]) (6.0.0)\n",
            "Requirement already satisfied: websockets>=15.0.1 in /usr/local/lib/python3.11/dist-packages (from google-adk[a2a]) (15.0.1)\n",
            "Collecting a2a-sdk>=0.2.7 (from google-adk[a2a])\n",
            "  Downloading a2a_sdk-0.2.12-py3-none-any.whl.metadata (4.8 kB)\n",
            "Requirement already satisfied: google-api-core>=1.26.0 in /usr/local/lib/python3.11/dist-packages (from a2a-sdk>=0.2.7->google-adk[a2a]) (2.25.1)\n",
            "Collecting grpcio-reflection>=1.7.0 (from a2a-sdk>=0.2.7->google-adk[a2a])\n",
            "  Downloading grpcio_reflection-1.73.1-py3-none-any.whl.metadata (1.0 kB)\n",
            "Collecting grpcio-tools>=1.60 (from a2a-sdk>=0.2.7->google-adk[a2a])\n",
            "  Downloading grpcio_tools-1.73.1-cp311-cp311-manylinux_2_17_x86_64.manylinux2014_x86_64.whl.metadata (5.3 kB)\n",
            "Requirement already satisfied: grpcio>=1.60 in /usr/local/lib/python3.11/dist-packages (from a2a-sdk>=0.2.7->google-adk[a2a]) (1.73.1)\n",
            "Requirement already satisfied: httpx-sse>=0.4.0 in /usr/local/lib/python3.11/dist-packages (from a2a-sdk>=0.2.7->google-adk[a2a]) (0.4.1)\n",
            "Requirement already satisfied: httpx>=0.28.1 in /usr/local/lib/python3.11/dist-packages (from a2a-sdk>=0.2.7->google-adk[a2a]) (0.28.1)\n",
            "Requirement already satisfied: protobuf==5.29.5 in /usr/local/lib/python3.11/dist-packages (from a2a-sdk>=0.2.7->google-adk[a2a]) (5.29.5)\n",
            "Requirement already satisfied: sse-starlette in /usr/local/lib/python3.11/dist-packages (from a2a-sdk>=0.2.7->google-adk[a2a]) (2.4.1)\n",
            "Requirement already satisfied: idna>=2.8 in /usr/local/lib/python3.11/dist-packages (from anyio>=4.9.0->google-adk[a2a]) (3.10)\n",
            "Requirement already satisfied: sniffio>=1.1 in /usr/local/lib/python3.11/dist-packages (from anyio>=4.9.0->google-adk[a2a]) (1.3.1)\n",
            "Requirement already satisfied: cryptography in /usr/local/lib/python3.11/dist-packages (from authlib>=1.5.1->google-adk[a2a]) (43.0.3)\n",
            "Requirement already satisfied: httplib2<1.0.0,>=0.19.0 in /usr/local/lib/python3.11/dist-packages (from google-api-python-client>=2.157.0->google-adk[a2a]) (0.22.0)\n",
            "Requirement already satisfied: google-auth!=2.24.0,!=2.25.0,<3.0.0,>=1.32.0 in /usr/local/lib/python3.11/dist-packages (from google-api-python-client>=2.157.0->google-adk[a2a]) (2.38.0)\n",
            "Requirement already satisfied: google-auth-httplib2<1.0.0,>=0.2.0 in /usr/local/lib/python3.11/dist-packages (from google-api-python-client>=2.157.0->google-adk[a2a]) (0.2.0)\n",
            "Requirement already satisfied: uritemplate<5,>=3.0.1 in /usr/local/lib/python3.11/dist-packages (from google-api-python-client>=2.157.0->google-adk[a2a]) (4.2.0)\n",
            "Requirement already satisfied: proto-plus<2.0.0,>=1.22.3 in /usr/local/lib/python3.11/dist-packages (from google-cloud-aiplatform>=1.95.1->google-cloud-aiplatform[agent-engines]>=1.95.1->google-adk[a2a]) (1.26.1)\n",
            "Requirement already satisfied: packaging>=14.3 in /usr/local/lib/python3.11/dist-packages (from google-cloud-aiplatform>=1.95.1->google-cloud-aiplatform[agent-engines]>=1.95.1->google-adk[a2a]) (25.0)\n",
            "Requirement already satisfied: google-cloud-bigquery!=3.20.0,<4.0.0,>=1.15.0 in /usr/local/lib/python3.11/dist-packages (from google-cloud-aiplatform>=1.95.1->google-cloud-aiplatform[agent-engines]>=1.95.1->google-adk[a2a]) (3.34.0)\n",
            "Requirement already satisfied: google-cloud-resource-manager<3.0.0,>=1.3.3 in /usr/local/lib/python3.11/dist-packages (from google-cloud-aiplatform>=1.95.1->google-cloud-aiplatform[agent-engines]>=1.95.1->google-adk[a2a]) (1.14.2)\n",
            "Requirement already satisfied: shapely<3.0.0 in /usr/local/lib/python3.11/dist-packages (from google-cloud-aiplatform>=1.95.1->google-cloud-aiplatform[agent-engines]>=1.95.1->google-adk[a2a]) (2.1.1)\n",
            "Requirement already satisfied: docstring_parser<1 in /usr/local/lib/python3.11/dist-packages (from google-cloud-aiplatform>=1.95.1->google-cloud-aiplatform[agent-engines]>=1.95.1->google-adk[a2a]) (0.16)\n",
            "Requirement already satisfied: cloudpickle<4.0,>=3.0 in /usr/local/lib/python3.11/dist-packages (from google-cloud-aiplatform[agent-engines]>=1.95.1->google-adk[a2a]) (3.1.1)\n",
            "Requirement already satisfied: google-cloud-trace<2 in /usr/local/lib/python3.11/dist-packages (from google-cloud-aiplatform[agent-engines]>=1.95.1->google-adk[a2a]) (1.16.2)\n",
            "Requirement already satisfied: google-cloud-logging<4 in /usr/local/lib/python3.11/dist-packages (from google-cloud-aiplatform[agent-engines]>=1.95.1->google-adk[a2a]) (3.12.1)\n",
            "Requirement already satisfied: grpc-google-iam-v1<1.0.0,>=0.14.0 in /usr/local/lib/python3.11/dist-packages (from google-cloud-secret-manager>=2.22.0->google-adk[a2a]) (0.14.2)\n",
            "Requirement already satisfied: google-cloud-core<3.0dev,>=2.3.0 in /usr/local/lib/python3.11/dist-packages (from google-cloud-storage<3.0.0,>=2.18.0->google-adk[a2a]) (2.4.3)\n",
            "Requirement already satisfied: google-resumable-media>=2.7.2 in /usr/local/lib/python3.11/dist-packages (from google-cloud-storage<3.0.0,>=2.18.0->google-adk[a2a]) (2.7.2)\n",
            "Requirement already satisfied: google-crc32c<2.0dev,>=1.0 in /usr/local/lib/python3.11/dist-packages (from google-cloud-storage<3.0.0,>=2.18.0->google-adk[a2a]) (1.7.1)\n",
            "Requirement already satisfied: jsonschema>=4.20.0 in /usr/local/lib/python3.11/dist-packages (from mcp>=1.8.0->google-adk[a2a]) (4.24.0)\n",
            "Requirement already satisfied: pydantic-settings>=2.5.2 in /usr/local/lib/python3.11/dist-packages (from mcp>=1.8.0->google-adk[a2a]) (2.10.1)\n",
            "Requirement already satisfied: python-multipart>=0.0.9 in /usr/local/lib/python3.11/dist-packages (from mcp>=1.8.0->google-adk[a2a]) (0.0.20)\n",
            "Requirement already satisfied: importlib-metadata<8.8.0,>=6.0 in /usr/local/lib/python3.11/dist-packages (from opentelemetry-api>=1.31.0->google-adk[a2a]) (8.7.0)\n",
            "Requirement already satisfied: opentelemetry-resourcedetector-gcp==1.*,>=1.5.0dev0 in /usr/local/lib/python3.11/dist-packages (from opentelemetry-exporter-gcp-trace>=1.9.0->google-adk[a2a]) (1.9.0a0)\n",
            "Requirement already satisfied: opentelemetry-semantic-conventions==0.56b0 in /usr/local/lib/python3.11/dist-packages (from opentelemetry-sdk>=1.31.0->google-adk[a2a]) (0.56b0)\n",
            "Requirement already satisfied: annotated-types>=0.6.0 in /usr/local/lib/python3.11/dist-packages (from pydantic<3.0.0,>=2.0->google-adk[a2a]) (0.7.0)\n",
            "Requirement already satisfied: pydantic-core==2.33.2 in /usr/local/lib/python3.11/dist-packages (from pydantic<3.0.0,>=2.0->google-adk[a2a]) (2.33.2)\n",
            "Requirement already satisfied: typing-inspection>=0.4.0 in /usr/local/lib/python3.11/dist-packages (from pydantic<3.0.0,>=2.0->google-adk[a2a]) (0.4.1)\n",
            "Requirement already satisfied: six>=1.5 in /usr/local/lib/python3.11/dist-packages (from python-dateutil>=2.9.0.post0->google-adk[a2a]) (1.17.0)\n",
            "Requirement already satisfied: charset_normalizer<4,>=2 in /usr/local/lib/python3.11/dist-packages (from requests>=2.32.4->google-adk[a2a]) (3.4.2)\n",
            "Requirement already satisfied: urllib3<3,>=1.21.1 in /usr/local/lib/python3.11/dist-packages (from requests>=2.32.4->google-adk[a2a]) (2.4.0)\n",
            "Requirement already satisfied: certifi>=2017.4.17 in /usr/local/lib/python3.11/dist-packages (from requests>=2.32.4->google-adk[a2a]) (2025.7.14)\n",
            "Requirement already satisfied: greenlet>=1 in /usr/local/lib/python3.11/dist-packages (from sqlalchemy>=2.0->google-adk[a2a]) (3.2.3)\n",
            "Requirement already satisfied: h11>=0.8 in /usr/local/lib/python3.11/dist-packages (from uvicorn>=0.34.0->google-adk[a2a]) (0.16.0)\n",
            "Requirement already satisfied: googleapis-common-protos<2.0.0,>=1.56.2 in /usr/local/lib/python3.11/dist-packages (from google-api-core>=1.26.0->a2a-sdk>=0.2.7->google-adk[a2a]) (1.70.0)\n",
            "Requirement already satisfied: grpcio-status<2.0.0,>=1.33.2 in /usr/local/lib/python3.11/dist-packages (from google-api-core[grpc]!=2.0.*,!=2.1.*,!=2.2.*,!=2.3.*,!=2.4.*,!=2.5.*,!=2.6.*,!=2.7.*,<3.0.0,>=1.34.1->google-cloud-aiplatform>=1.95.1->google-cloud-aiplatform[agent-engines]>=1.95.1->google-adk[a2a]) (1.71.2)\n",
            "Requirement already satisfied: cachetools<6.0,>=2.0.0 in /usr/local/lib/python3.11/dist-packages (from google-auth!=2.24.0,!=2.25.0,<3.0.0,>=1.32.0->google-api-python-client>=2.157.0->google-adk[a2a]) (5.5.2)\n",
            "Requirement already satisfied: pyasn1-modules>=0.2.1 in /usr/local/lib/python3.11/dist-packages (from google-auth!=2.24.0,!=2.25.0,<3.0.0,>=1.32.0->google-api-python-client>=2.157.0->google-adk[a2a]) (0.4.2)\n",
            "Requirement already satisfied: rsa<5,>=3.1.4 in /usr/local/lib/python3.11/dist-packages (from google-auth!=2.24.0,!=2.25.0,<3.0.0,>=1.32.0->google-api-python-client>=2.157.0->google-adk[a2a]) (4.9.1)\n",
            "Requirement already satisfied: google-cloud-appengine-logging<2.0.0,>=0.1.3 in /usr/local/lib/python3.11/dist-packages (from google-cloud-logging<4->google-cloud-aiplatform[agent-engines]>=1.95.1->google-adk[a2a]) (1.6.2)\n",
            "Requirement already satisfied: google-cloud-audit-log<1.0.0,>=0.3.1 in /usr/local/lib/python3.11/dist-packages (from google-cloud-logging<4->google-cloud-aiplatform[agent-engines]>=1.95.1->google-adk[a2a]) (0.3.2)\n",
            "INFO: pip is looking at multiple versions of grpcio-reflection to determine which version is compatible with other requirements. This could take a while.\n",
            "Collecting grpcio-reflection>=1.7.0 (from a2a-sdk>=0.2.7->google-adk[a2a])\n",
            "  Downloading grpcio_reflection-1.73.0-py3-none-any.whl.metadata (1.0 kB)\n",
            "  Downloading grpcio_reflection-1.72.2-py3-none-any.whl.metadata (1.0 kB)\n",
            "  Downloading grpcio_reflection-1.72.1-py3-none-any.whl.metadata (1.0 kB)\n",
            "  Downloading grpcio_reflection-1.71.2-py3-none-any.whl.metadata (1.0 kB)\n",
            "INFO: pip is looking at multiple versions of grpcio-tools to determine which version is compatible with other requirements. This could take a while.\n",
            "Collecting grpcio-tools>=1.60 (from a2a-sdk>=0.2.7->google-adk[a2a])\n",
            "  Downloading grpcio_tools-1.73.0-cp311-cp311-manylinux_2_17_x86_64.manylinux2014_x86_64.whl.metadata (5.3 kB)\n",
            "  Downloading grpcio_tools-1.72.2-cp311-cp311-manylinux_2_17_x86_64.manylinux2014_x86_64.whl.metadata (5.3 kB)\n",
            "  Downloading grpcio_tools-1.72.1-cp311-cp311-manylinux_2_17_x86_64.manylinux2014_x86_64.whl.metadata (5.3 kB)\n",
            "  Downloading grpcio_tools-1.71.2-cp311-cp311-manylinux_2_17_x86_64.manylinux2014_x86_64.whl.metadata (5.3 kB)\n",
            "Requirement already satisfied: setuptools in /usr/local/lib/python3.11/dist-packages (from grpcio-tools>=1.60->a2a-sdk>=0.2.7->google-adk[a2a]) (75.2.0)\n",
            "Requirement already satisfied: pyparsing!=3.0.0,!=3.0.1,!=3.0.2,!=3.0.3,<4,>=2.4.2 in /usr/local/lib/python3.11/dist-packages (from httplib2<1.0.0,>=0.19.0->google-api-python-client>=2.157.0->google-adk[a2a]) (3.2.3)\n",
            "Requirement already satisfied: httpcore==1.* in /usr/local/lib/python3.11/dist-packages (from httpx>=0.28.1->a2a-sdk>=0.2.7->google-adk[a2a]) (1.0.9)\n",
            "Requirement already satisfied: zipp>=3.20 in /usr/local/lib/python3.11/dist-packages (from importlib-metadata<8.8.0,>=6.0->opentelemetry-api>=1.31.0->google-adk[a2a]) (3.23.0)\n",
            "Requirement already satisfied: attrs>=22.2.0 in /usr/local/lib/python3.11/dist-packages (from jsonschema>=4.20.0->mcp>=1.8.0->google-adk[a2a]) (25.3.0)\n",
            "Requirement already satisfied: jsonschema-specifications>=2023.03.6 in /usr/local/lib/python3.11/dist-packages (from jsonschema>=4.20.0->mcp>=1.8.0->google-adk[a2a]) (2025.4.1)\n",
            "Requirement already satisfied: referencing>=0.28.4 in /usr/local/lib/python3.11/dist-packages (from jsonschema>=4.20.0->mcp>=1.8.0->google-adk[a2a]) (0.36.2)\n",
            "Requirement already satisfied: rpds-py>=0.7.1 in /usr/local/lib/python3.11/dist-packages (from jsonschema>=4.20.0->mcp>=1.8.0->google-adk[a2a]) (0.26.0)\n",
            "Requirement already satisfied: numpy>=1.21 in /usr/local/lib/python3.11/dist-packages (from shapely<3.0.0->google-cloud-aiplatform>=1.95.1->google-cloud-aiplatform[agent-engines]>=1.95.1->google-adk[a2a]) (2.0.2)\n",
            "Requirement already satisfied: cffi>=1.12 in /usr/local/lib/python3.11/dist-packages (from cryptography->authlib>=1.5.1->google-adk[a2a]) (1.17.1)\n",
            "Requirement already satisfied: pycparser in /usr/local/lib/python3.11/dist-packages (from cffi>=1.12->cryptography->authlib>=1.5.1->google-adk[a2a]) (2.22)\n",
            "Requirement already satisfied: pyasn1<0.7.0,>=0.6.1 in /usr/local/lib/python3.11/dist-packages (from pyasn1-modules>=0.2.1->google-auth!=2.24.0,!=2.25.0,<3.0.0,>=1.32.0->google-api-python-client>=2.157.0->google-adk[a2a]) (0.6.1)\n",
            "Downloading a2a_sdk-0.2.12-py3-none-any.whl (96 kB)\n",
            "\u001b[2K   \u001b[90m━━━━━━━━━━━━━━━━━━━━━━━━━━━━━━━━━━━━━━━━\u001b[0m \u001b[32m96.7/96.7 kB\u001b[0m \u001b[31m4.7 MB/s\u001b[0m eta \u001b[36m0:00:00\u001b[0m\n",
            "\u001b[?25hDownloading grpcio_reflection-1.71.2-py3-none-any.whl (22 kB)\n",
            "Downloading grpcio_tools-1.71.2-cp311-cp311-manylinux_2_17_x86_64.manylinux2014_x86_64.whl (2.5 MB)\n",
            "\u001b[2K   \u001b[90m━━━━━━━━━━━━━━━━━━━━━━━━━━━━━━━━━━━━━━━━\u001b[0m \u001b[32m2.5/2.5 MB\u001b[0m \u001b[31m50.7 MB/s\u001b[0m eta \u001b[36m0:00:00\u001b[0m\n",
            "\u001b[?25hInstalling collected packages: grpcio-tools, grpcio-reflection, a2a-sdk\n",
            "Successfully installed a2a-sdk-0.2.12 grpcio-reflection-1.71.2 grpcio-tools-1.71.2\n"
          ]
        }
      ]
    },
    {
      "cell_type": "code",
      "source": [],
      "metadata": {
        "id": "p9dpvTddSDzE"
      },
      "execution_count": 14,
      "outputs": []
    },
    {
      "cell_type": "markdown",
      "source": [
        "### 1. A2A Server\n",
        "\n",
        "- Put all your remote agents under `remote_agents`.\n",
        "- The subdir name under this folder, will be served via `BASE/subdir/.well-known/agent.json` for A2A server discovery.\n"
      ],
      "metadata": {
        "id": "2afhYegjTYKO"
      }
    },
    {
      "cell_type": "code",
      "source": [
        "!mkdir -p remote_agents/search_agent"
      ],
      "metadata": {
        "id": "bLM9rjywTZnM"
      },
      "execution_count": 15,
      "outputs": []
    },
    {
      "cell_type": "code",
      "source": [
        "%%file remote_agents/search_agent/__init__.py\n",
        "\n",
        "from . import agent"
      ],
      "metadata": {
        "colab": {
          "base_uri": "https://localhost:8080/"
        },
        "id": "rBFJk0x_TdFh",
        "outputId": "52bc8952-f54d-40aa-e986-d395bb32c4fc"
      },
      "execution_count": 16,
      "outputs": [
        {
          "output_type": "stream",
          "name": "stdout",
          "text": [
            "Writing remote_agents/search_agent/__init__.py\n"
          ]
        }
      ]
    },
    {
      "cell_type": "code",
      "source": [
        "%%file remote_agents/search_agent/agent.py\n",
        "\n",
        "from google.adk.tools import google_search\n",
        "from google.adk import Agent\n",
        "from google.adk.agents import Agent, LlmAgent\n",
        "from google.genai import types\n",
        "from pydantic import BaseModel\n",
        "from google.genai import types\n",
        "from google.adk.sessions import InMemorySessionService\n",
        "from google.adk.runners import Runner\n",
        "\n",
        "MODEL = \"gemini-2.5-flash\"\n",
        "\n",
        "simple_search_agent = Agent(\n",
        "    model=MODEL,\n",
        "    name=\"simple_search_agent\",\n",
        "    description=\"Agent to answer questions using Google Search.\",\n",
        "    instruction=\"I can answer your questions by searching the internet. Just ask me anything!\",\n",
        "    generate_content_config=types.GenerateContentConfig(\n",
        "        max_output_tokens=8000,\n",
        "    ),\n",
        "    tools=[google_search],\n",
        ")\n",
        "\n",
        "root_agent=simple_search_agent"
      ],
      "metadata": {
        "colab": {
          "base_uri": "https://localhost:8080/"
        },
        "id": "KhAV-6QAThEM",
        "outputId": "96ba8c19-fe51-4caa-fbd8-f21aac5931ef"
      },
      "execution_count": 18,
      "outputs": [
        {
          "output_type": "stream",
          "name": "stdout",
          "text": [
            "Overwriting remote_agents/search_agent/agent.py\n"
          ]
        }
      ]
    },
    {
      "cell_type": "markdown",
      "source": [
        "NOTE:\n",
        "\n",
        "- The below agent card specifically tweaked a few names to show you which path really matters for the A2A server's end point.\n",
        "- `localhost:8001/a2a/search_agent/.well-known/agent.json` -- In this URL, `search_agent` is the subdir under `remote_agents`, which is used in the CLI of `adk api_server`.\n",
        "- Those do not matter: name in the Agent class, name in the agent.json, url in the agent.json"
      ],
      "metadata": {
        "id": "H_S6F5obceGH"
      }
    },
    {
      "cell_type": "code",
      "source": [
        "%%file remote_agents/search_agent/agent.json\n",
        "\n",
        "{\n",
        "  \"capabilities\": {},\n",
        "  \"defaultInputModes\": [\"text/plain\"],\n",
        "  \"defaultOutputModes\": [\"text/plain\"],\n",
        "  \"description\": \"Agent to help you do simple Google search and return a summary of the resutls.\",\n",
        "  \"name\": \"simple_search_agent_on_a2a\",\n",
        "  \"skills\": [\n",
        "    {\n",
        "      \"id\": \"simple_search\",\n",
        "      \"name\": \"Simple Search\",\n",
        "      \"description\": \"do simple Google search and return a summary of the resutls\",\n",
        "      \"tags\": [\"intent-understanding\", \"summary\", \"google-search\"]\n",
        "    }\n",
        "  ],\n",
        "  \"url\": \"http://localhost:8001/a2a/simple_search_agent_a2a_endpoint\",\n",
        "  \"version\": \"1.0.0\"\n",
        "}"
      ],
      "metadata": {
        "colab": {
          "base_uri": "https://localhost:8080/"
        },
        "id": "zaODn3FQWgTP",
        "outputId": "20ec98b8-d9f2-4c66-a755-de2d618ff07b"
      },
      "execution_count": 21,
      "outputs": [
        {
          "output_type": "stream",
          "name": "stdout",
          "text": [
            "Overwriting remote_agents/search_agent/agent.json\n"
          ]
        }
      ]
    },
    {
      "cell_type": "code",
      "source": [
        "!echo $GOOGLE_CLOUD_PROJECT"
      ],
      "metadata": {
        "colab": {
          "base_uri": "https://localhost:8080/"
        },
        "id": "iNJ2Sc2FfogL",
        "outputId": "1707f025-4cb6-4f4b-e3c8-0c4f1326b13f"
      },
      "execution_count": 22,
      "outputs": [
        {
          "output_type": "stream",
          "name": "stdout",
          "text": [
            "hupili-genai-bb\n"
          ]
        }
      ]
    },
    {
      "cell_type": "code",
      "source": [
        "!echo $GOOGLE_CLOUD_LOCATION"
      ],
      "metadata": {
        "colab": {
          "base_uri": "https://localhost:8080/"
        },
        "id": "6ZZMgOPzfrDS",
        "outputId": "b42c6172-0c63-49e6-b12d-5f37c15b435c"
      },
      "execution_count": 23,
      "outputs": [
        {
          "output_type": "stream",
          "name": "stdout",
          "text": [
            "us-central1\n"
          ]
        }
      ]
    },
    {
      "cell_type": "code",
      "source": [
        "!gcloud auth application-default login"
      ],
      "metadata": {
        "colab": {
          "base_uri": "https://localhost:8080/"
        },
        "id": "WFLQ_b2SfxkR",
        "outputId": "8e88e03e-c79a-4ded-82ce-3b3e3f511d93"
      },
      "execution_count": 25,
      "outputs": [
        {
          "output_type": "stream",
          "name": "stdout",
          "text": [
            "\n",
            "You are running on a Google Compute Engine virtual machine.\n",
            "The service credentials associated with this virtual machine\n",
            "will automatically be used by Application Default\n",
            "Credentials, so it is not necessary to use this command.\n",
            "\n",
            "If you decide to proceed anyway, your user credentials may be visible\n",
            "to others with access to this virtual machine. Are you sure you want\n",
            "to authenticate with your personal account?\n",
            "\n",
            "Do you want to continue (Y/n)?  y\n",
            "\n",
            "Go to the following link in your browser, and complete the sign-in prompts:\n",
            "\n",
            "    https://accounts.google.com/o/oauth2/auth?response_type=code&client_id=764086051850-6qr4p6gpi6hn506pt8ejuq83di341hur.apps.googleusercontent.com&redirect_uri=https%3A%2F%2Fsdk.cloud.google.com%2Fapplicationdefaultauthcode.html&scope=openid+https%3A%2F%2Fwww.googleapis.com%2Fauth%2Fuserinfo.email+https%3A%2F%2Fwww.googleapis.com%2Fauth%2Fcloud-platform+https%3A%2F%2Fwww.googleapis.com%2Fauth%2Fsqlservice.login&state=TotFPfmKcMANJjTuiCbhh0x4qvFUYY&prompt=consent&token_usage=remote&access_type=offline&code_challenge=f8co3EaEeG-S_QwXdCHWkEpoolLqs3Y5kgeWgdKA9Rw&code_challenge_method=S256\n",
            "\n",
            "Once finished, enter the verification code provided in your browser: 4/0AVMBsJh-xo2tpOSck6ESNGa_TWnn1wphnx-3RnyiFZf2MNYqszen0E86-KwMH1lnDvnEng\n",
            "\n",
            "Credentials saved to file: [/content/.config/application_default_credentials.json]\n",
            "\n",
            "These credentials will be used by any library that requests Application Default Credentials (ADC).\n",
            "\u001b[1;33mWARNING:\u001b[0m \n",
            "Cannot find a quota project to add to ADC. You might receive a \"quota exceeded\" or \"API not enabled\" error. Run $ gcloud auth application-default set-quota-project to add a quota project.\n"
          ]
        }
      ]
    },
    {
      "cell_type": "code",
      "source": [
        "!killall adk\n",
        "!adk api_server --a2a --port 8001 remote_agents &> adk_api_server.log &"
      ],
      "metadata": {
        "colab": {
          "base_uri": "https://localhost:8080/"
        },
        "id": "l98dl5yETn4J",
        "outputId": "2e3c5b67-fc62-4fa3-fdc4-48ed82a83d7b"
      },
      "execution_count": 26,
      "outputs": [
        {
          "output_type": "stream",
          "name": "stdout",
          "text": [
            "adk: no process found\n"
          ]
        }
      ]
    },
    {
      "cell_type": "code",
      "source": [
        "!tail adk_api_server.log"
      ],
      "metadata": {
        "colab": {
          "base_uri": "https://localhost:8080/"
        },
        "id": "tDgcpl3vVRpc",
        "outputId": "789129df-9b17-4360-c79a-4f9791837d04"
      },
      "execution_count": 34,
      "outputs": [
        {
          "output_type": "stream",
          "name": "stdout",
          "text": [
            "/usr/local/lib/python3.11/dist-packages/google/adk/auth/credential_service/in_memory_credential_service.py:33: UserWarning: [EXPERIMENTAL] BaseCredentialService: This feature is experimental and may change or be removed in future versions without notice. It may introduce breaking changes at any time.\n",
            "  super().__init__()\n",
            "2025-07-17 04:19:51,901 - INFO - fast_api.py:1044 - Setting up A2A agent: search_agent\n",
            "/usr/local/lib/python3.11/dist-packages/google/adk/cli/fast_api.py:1049: UserWarning: [EXPERIMENTAL] A2aAgentExecutor: This feature is experimental and may change or be removed in future versions without notice. It may introduce breaking changes at any time.\n",
            "  agent_executor = A2aAgentExecutor(\n",
            "2025-07-17 04:19:51,902 - INFO - fast_api.py:1075 - Successfully configured A2A agent: search_agent\n",
            "INFO:     Started server process [2633]\n",
            "INFO:     Waiting for application startup.\n",
            "INFO:     Application startup complete.\n",
            "INFO:     Uvicorn running on http://127.0.0.1:8001 (Press CTRL+C to quit)\n"
          ]
        }
      ]
    },
    {
      "cell_type": "code",
      "source": [
        "!curl localhost:8001/a2a/search_agent/.well-known/agent.json"
      ],
      "metadata": {
        "colab": {
          "base_uri": "https://localhost:8080/"
        },
        "id": "Jj0mTlt-VZ0_",
        "outputId": "2a5d4e0a-efb6-4b5c-83ba-0cfbdfb00206"
      },
      "execution_count": 35,
      "outputs": [
        {
          "output_type": "stream",
          "name": "stdout",
          "text": [
            "{\"capabilities\":{},\"defaultInputModes\":[\"text/plain\"],\"defaultOutputModes\":[\"text/plain\"],\"description\":\"Agent to help you do simple Google search and return a summary of the resutls.\",\"name\":\"simple_search_agent_on_a2a\",\"protocolVersion\":\"0.2.5\",\"skills\":[{\"description\":\"do simple Google search and return a summary of the resutls\",\"id\":\"simple_search\",\"name\":\"Simple Search\",\"tags\":[\"intent-understanding\",\"summary\",\"google-search\"]}],\"url\":\"http://127.0.0.1:8001/a2a/search_agent\",\"version\":\"1.0.0\"}"
          ]
        }
      ]
    },
    {
      "cell_type": "markdown",
      "source": [
        "NOTE: if above agent card retrieval fails, please troubleshoot before proceed."
      ],
      "metadata": {
        "id": "SjbtFI3OfQrp"
      }
    },
    {
      "cell_type": "markdown",
      "source": [
        "### 2. Test via A2A reference CLI\n",
        "\n",
        "Note: this section is to show you the inner works of A2A from client side. If you just want to connect to A2AServer within ADK, you can skip this section.\n",
        "\n",
        "Source repo:\n",
        "https://github.com/a2aproject/a2a-python"
      ],
      "metadata": {
        "id": "M59T6vAXc7uF"
      }
    },
    {
      "cell_type": "code",
      "source": [
        "!pip install a2a-sdk"
      ],
      "metadata": {
        "colab": {
          "base_uri": "https://localhost:8080/"
        },
        "id": "bfb6YiLlc9Zx",
        "outputId": "ac490a52-0749-42b5-b9f7-b8db76a08c72"
      },
      "execution_count": 36,
      "outputs": [
        {
          "output_type": "stream",
          "name": "stdout",
          "text": [
            "Requirement already satisfied: a2a-sdk in /usr/local/lib/python3.11/dist-packages (0.2.12)\n",
            "Requirement already satisfied: fastapi>=0.115.2 in /usr/local/lib/python3.11/dist-packages (from a2a-sdk) (0.116.1)\n",
            "Requirement already satisfied: google-api-core>=1.26.0 in /usr/local/lib/python3.11/dist-packages (from a2a-sdk) (2.25.1)\n",
            "Requirement already satisfied: grpcio-reflection>=1.7.0 in /usr/local/lib/python3.11/dist-packages (from a2a-sdk) (1.71.2)\n",
            "Requirement already satisfied: grpcio-tools>=1.60 in /usr/local/lib/python3.11/dist-packages (from a2a-sdk) (1.71.2)\n",
            "Requirement already satisfied: grpcio>=1.60 in /usr/local/lib/python3.11/dist-packages (from a2a-sdk) (1.73.1)\n",
            "Requirement already satisfied: httpx-sse>=0.4.0 in /usr/local/lib/python3.11/dist-packages (from a2a-sdk) (0.4.1)\n",
            "Requirement already satisfied: httpx>=0.28.1 in /usr/local/lib/python3.11/dist-packages (from a2a-sdk) (0.28.1)\n",
            "Requirement already satisfied: opentelemetry-api>=1.33.0 in /usr/local/lib/python3.11/dist-packages (from a2a-sdk) (1.35.0)\n",
            "Requirement already satisfied: opentelemetry-sdk>=1.33.0 in /usr/local/lib/python3.11/dist-packages (from a2a-sdk) (1.35.0)\n",
            "Requirement already satisfied: protobuf==5.29.5 in /usr/local/lib/python3.11/dist-packages (from a2a-sdk) (5.29.5)\n",
            "Requirement already satisfied: pydantic>=2.11.3 in /usr/local/lib/python3.11/dist-packages (from a2a-sdk) (2.11.7)\n",
            "Requirement already satisfied: sse-starlette in /usr/local/lib/python3.11/dist-packages (from a2a-sdk) (2.4.1)\n",
            "Requirement already satisfied: starlette in /usr/local/lib/python3.11/dist-packages (from a2a-sdk) (0.47.1)\n",
            "Requirement already satisfied: typing-extensions>=4.8.0 in /usr/local/lib/python3.11/dist-packages (from fastapi>=0.115.2->a2a-sdk) (4.14.1)\n",
            "Requirement already satisfied: googleapis-common-protos<2.0.0,>=1.56.2 in /usr/local/lib/python3.11/dist-packages (from google-api-core>=1.26.0->a2a-sdk) (1.70.0)\n",
            "Requirement already satisfied: proto-plus<2.0.0,>=1.22.3 in /usr/local/lib/python3.11/dist-packages (from google-api-core>=1.26.0->a2a-sdk) (1.26.1)\n",
            "Requirement already satisfied: google-auth<3.0.0,>=2.14.1 in /usr/local/lib/python3.11/dist-packages (from google-api-core>=1.26.0->a2a-sdk) (2.38.0)\n",
            "Requirement already satisfied: requests<3.0.0,>=2.18.0 in /usr/local/lib/python3.11/dist-packages (from google-api-core>=1.26.0->a2a-sdk) (2.32.4)\n",
            "Requirement already satisfied: setuptools in /usr/local/lib/python3.11/dist-packages (from grpcio-tools>=1.60->a2a-sdk) (75.2.0)\n",
            "Requirement already satisfied: anyio in /usr/local/lib/python3.11/dist-packages (from httpx>=0.28.1->a2a-sdk) (4.9.0)\n",
            "Requirement already satisfied: certifi in /usr/local/lib/python3.11/dist-packages (from httpx>=0.28.1->a2a-sdk) (2025.7.14)\n",
            "Requirement already satisfied: httpcore==1.* in /usr/local/lib/python3.11/dist-packages (from httpx>=0.28.1->a2a-sdk) (1.0.9)\n",
            "Requirement already satisfied: idna in /usr/local/lib/python3.11/dist-packages (from httpx>=0.28.1->a2a-sdk) (3.10)\n",
            "Requirement already satisfied: h11>=0.16 in /usr/local/lib/python3.11/dist-packages (from httpcore==1.*->httpx>=0.28.1->a2a-sdk) (0.16.0)\n",
            "Requirement already satisfied: importlib-metadata<8.8.0,>=6.0 in /usr/local/lib/python3.11/dist-packages (from opentelemetry-api>=1.33.0->a2a-sdk) (8.7.0)\n",
            "Requirement already satisfied: opentelemetry-semantic-conventions==0.56b0 in /usr/local/lib/python3.11/dist-packages (from opentelemetry-sdk>=1.33.0->a2a-sdk) (0.56b0)\n",
            "Requirement already satisfied: annotated-types>=0.6.0 in /usr/local/lib/python3.11/dist-packages (from pydantic>=2.11.3->a2a-sdk) (0.7.0)\n",
            "Requirement already satisfied: pydantic-core==2.33.2 in /usr/local/lib/python3.11/dist-packages (from pydantic>=2.11.3->a2a-sdk) (2.33.2)\n",
            "Requirement already satisfied: typing-inspection>=0.4.0 in /usr/local/lib/python3.11/dist-packages (from pydantic>=2.11.3->a2a-sdk) (0.4.1)\n",
            "Requirement already satisfied: sniffio>=1.1 in /usr/local/lib/python3.11/dist-packages (from anyio->httpx>=0.28.1->a2a-sdk) (1.3.1)\n",
            "Requirement already satisfied: cachetools<6.0,>=2.0.0 in /usr/local/lib/python3.11/dist-packages (from google-auth<3.0.0,>=2.14.1->google-api-core>=1.26.0->a2a-sdk) (5.5.2)\n",
            "Requirement already satisfied: pyasn1-modules>=0.2.1 in /usr/local/lib/python3.11/dist-packages (from google-auth<3.0.0,>=2.14.1->google-api-core>=1.26.0->a2a-sdk) (0.4.2)\n",
            "Requirement already satisfied: rsa<5,>=3.1.4 in /usr/local/lib/python3.11/dist-packages (from google-auth<3.0.0,>=2.14.1->google-api-core>=1.26.0->a2a-sdk) (4.9.1)\n",
            "Requirement already satisfied: zipp>=3.20 in /usr/local/lib/python3.11/dist-packages (from importlib-metadata<8.8.0,>=6.0->opentelemetry-api>=1.33.0->a2a-sdk) (3.23.0)\n",
            "Requirement already satisfied: charset_normalizer<4,>=2 in /usr/local/lib/python3.11/dist-packages (from requests<3.0.0,>=2.18.0->google-api-core>=1.26.0->a2a-sdk) (3.4.2)\n",
            "Requirement already satisfied: urllib3<3,>=1.21.1 in /usr/local/lib/python3.11/dist-packages (from requests<3.0.0,>=2.18.0->google-api-core>=1.26.0->a2a-sdk) (2.4.0)\n",
            "Requirement already satisfied: pyasn1<0.7.0,>=0.6.1 in /usr/local/lib/python3.11/dist-packages (from pyasn1-modules>=0.2.1->google-auth<3.0.0,>=2.14.1->google-api-core>=1.26.0->a2a-sdk) (0.6.1)\n"
          ]
        }
      ]
    },
    {
      "cell_type": "code",
      "source": [
        "import logging\n",
        "\n",
        "from typing import Any\n",
        "from uuid import uuid4\n",
        "\n",
        "import httpx\n",
        "\n",
        "from a2a.client import A2ACardResolver, A2AClient\n",
        "from a2a.types import (\n",
        "    AgentCard,\n",
        "    MessageSendParams,\n",
        "    SendMessageRequest,\n",
        "    SendStreamingMessageRequest,\n",
        ")\n",
        "\n",
        "PUBLIC_AGENT_CARD_PATH = '/.well-known/agent.json'\n",
        "EXTENDED_AGENT_CARD_PATH = '/agent/authenticatedExtendedCard'\n",
        "\n",
        "# Configure logging to show INFO level messages\n",
        "logging.basicConfig(level=logging.INFO)\n",
        "logger = logging.getLogger(__name__)  # Get a logger instance\n",
        "\n",
        "# --8<-- [start:A2ACardResolver]\n",
        "\n",
        "base_url = 'http://localhost:8001/a2a/search_agent'\n",
        "\n",
        "httpx_client = httpx.AsyncClient()\n",
        "\n",
        "resolver = A2ACardResolver(\n",
        "    httpx_client=httpx_client,\n",
        "    base_url=base_url,\n",
        "    # agent_card_path uses default, extended_agent_card_path also uses default\n",
        ")\n",
        "\n",
        "final_agent_card_to_use = await resolver.get_agent_card()\n",
        "\n",
        "client = A2AClient(\n",
        "    httpx_client=httpx_client, agent_card=final_agent_card_to_use\n",
        ")"
      ],
      "metadata": {
        "id": "wnV2GQptd0at"
      },
      "execution_count": 37,
      "outputs": []
    },
    {
      "cell_type": "code",
      "source": [
        "client"
      ],
      "metadata": {
        "colab": {
          "base_uri": "https://localhost:8080/"
        },
        "id": "GBBX1OkyewSu",
        "outputId": "21dd21ba-cfac-40d9-ff05-bdfb284c1b8f"
      },
      "execution_count": 38,
      "outputs": [
        {
          "output_type": "execute_result",
          "data": {
            "text/plain": [
              "<a2a.client.client.A2AClient at 0x7ff0328f3010>"
            ]
          },
          "metadata": {},
          "execution_count": 38
        }
      ]
    },
    {
      "cell_type": "code",
      "source": [
        "from pprint import pprint"
      ],
      "metadata": {
        "id": "XqP2_NXbgFWD"
      },
      "execution_count": 39,
      "outputs": []
    },
    {
      "cell_type": "markdown",
      "source": [
        "#### Test batch request: Success"
      ],
      "metadata": {
        "id": "pq9WMN_6h612"
      }
    },
    {
      "cell_type": "code",
      "source": [
        "send_message_payload: dict[str, Any] = {\n",
        "    'message': {\n",
        "        'role': 'user',\n",
        "        'parts': [\n",
        "            {'kind': 'text', 'text': 'what is the current weather in Hong Kong?'}\n",
        "        ],\n",
        "        'messageId': uuid4().hex,\n",
        "    },\n",
        "}\n",
        "request = SendMessageRequest(\n",
        "    id=str(uuid4()), params=MessageSendParams(**send_message_payload)\n",
        ")\n",
        "\n",
        "response = await client.send_message(request)\n",
        "pprint(response.model_dump(mode='json', exclude_none=True))\n",
        "# --8<-- [end:send_message]"
      ],
      "metadata": {
        "colab": {
          "base_uri": "https://localhost:8080/"
        },
        "id": "cGDuZYVCe04K",
        "outputId": "e9e9a217-9215-4865-a24f-a6b4280d0f50"
      },
      "execution_count": 40,
      "outputs": [
        {
          "output_type": "stream",
          "name": "stdout",
          "text": [
            "{'id': 'd5386b28-5bfa-4c8e-9456-621af6216be7',\n",
            " 'jsonrpc': '2.0',\n",
            " 'result': {'contextId': 'ca0ded9e-8411-4d79-aa9e-8dda9d07abae',\n",
            "            'history': [{'contextId': 'ca0ded9e-8411-4d79-aa9e-8dda9d07abae',\n",
            "                         'kind': 'message',\n",
            "                         'messageId': '1df108a99acc47df9f7fbd317f8418d4',\n",
            "                         'parts': [{'kind': 'text',\n",
            "                                    'text': 'what is the current weather in '\n",
            "                                            'Hong Kong?'}],\n",
            "                         'role': 'user',\n",
            "                         'taskId': '8a8573b0-1fbf-4b57-8268-0ed27681eec9'},\n",
            "                        {'contextId': 'ca0ded9e-8411-4d79-aa9e-8dda9d07abae',\n",
            "                         'kind': 'message',\n",
            "                         'messageId': '1df108a99acc47df9f7fbd317f8418d4',\n",
            "                         'parts': [{'kind': 'text',\n",
            "                                    'text': 'what is the current weather in '\n",
            "                                            'Hong Kong?'}],\n",
            "                         'role': 'user',\n",
            "                         'taskId': '8a8573b0-1fbf-4b57-8268-0ed27681eec9'},\n",
            "                        {'kind': 'message',\n",
            "                         'messageId': 'e817326a-12da-40d6-98f7-05ac078ca8c3',\n",
            "                         'parts': [{'kind': 'text',\n",
            "                                    'text': 'The current weather in Hong Kong '\n",
            "                                            'is cloudy, with a temperature of '\n",
            "                                            '90°F (32°C), but it feels like '\n",
            "                                            '105°F (41°C) due to around 70% '\n",
            "                                            'humidity. The Hong Kong '\n",
            "                                            'Observatory reported an air '\n",
            "                                            'temperature of 30°C (86°F) and '\n",
            "                                            '83% relative humidity at 1 AM. A '\n",
            "                                            'Very Hot Weather Warning is '\n",
            "                                            'currently in effect.\\n'\n",
            "                                            '\\n'\n",
            "                                            'For today, Thursday, July 17, '\n",
            "                                            '2025, light rain is expected '\n",
            "                                            'during the day and night, with a '\n",
            "                                            '25% chance of rain and '\n",
            "                                            'temperatures between 84°F (29°C) '\n",
            "                                            'and 91°F (33°C). Humidity is '\n",
            "                                            'expected to be around 79%.'}],\n",
            "                         'role': 'agent'}],\n",
            "            'id': '8a8573b0-1fbf-4b57-8268-0ed27681eec9',\n",
            "            'kind': 'task',\n",
            "            'metadata': {'adk_app_name': 'search_agent',\n",
            "                         'adk_author': 'simple_search_agent',\n",
            "                         'adk_grounding_metadata': {'groundingChunks': [{'web': {'domain': 'google.com',\n",
            "                                                                                 'title': 'Weather '\n",
            "                                                                                          'information '\n",
            "                                                                                          'for '\n",
            "                                                                                          'query: '\n",
            "                                                                                          'current '\n",
            "                                                                                          'weather '\n",
            "                                                                                          'in '\n",
            "                                                                                          'Hong '\n",
            "                                                                                          'Kong',\n",
            "                                                                                 'uri': 'https://www.google.com/search?q=current+weather+in+Hong+Kong'}},\n",
            "                                                                        {'web': {'domain': 'hko.gov.hk',\n",
            "                                                                                 'title': 'hko.gov.hk',\n",
            "                                                                                 'uri': 'https://vertexaisearch.cloud.google.com/grounding-api-redirect/AUZIYQHGl9RULNpaSNXsZBrw0atuGyHgmd-zOVdnQG185mgPDg-uEZxmLzLXW2veSZLR9oaHOYSjQeSgVUOCLsOG1e_EDBndG70AEFIl7id9X1V-vHw-C_sIXzimvJS7WAqYkoz4rZEMn7OJkH-Wyr6v3NBSEl4a5IA='}}],\n",
            "                                                    'groundingSupports': [{'groundingChunkIndices': [0],\n",
            "                                                                           'segment': {'endIndex': 141,\n",
            "                                                                                       'text': 'The '\n",
            "                                                                                               'current '\n",
            "                                                                                               'weather '\n",
            "                                                                                               'in '\n",
            "                                                                                               'Hong '\n",
            "                                                                                               'Kong '\n",
            "                                                                                               'is '\n",
            "                                                                                               'cloudy, '\n",
            "                                                                                               'with '\n",
            "                                                                                               'a '\n",
            "                                                                                               'temperature '\n",
            "                                                                                               'of '\n",
            "                                                                                               '90°F '\n",
            "                                                                                               '(32°C), '\n",
            "                                                                                               'but '\n",
            "                                                                                               'it '\n",
            "                                                                                               'feels '\n",
            "                                                                                               'like '\n",
            "                                                                                               '105°F '\n",
            "                                                                                               '(41°C) '\n",
            "                                                                                               'due '\n",
            "                                                                                               'to '\n",
            "                                                                                               'around '\n",
            "                                                                                               '70% '\n",
            "                                                                                               'humidity.'}},\n",
            "                                                                          {'groundingChunkIndices': [1],\n",
            "                                                                           'segment': {'endIndex': 247,\n",
            "                                                                                       'startIndex': 142,\n",
            "                                                                                       'text': 'The '\n",
            "                                                                                               'Hong '\n",
            "                                                                                               'Kong '\n",
            "                                                                                               'Observatory '\n",
            "                                                                                               'reported '\n",
            "                                                                                               'an '\n",
            "                                                                                               'air '\n",
            "                                                                                               'temperature '\n",
            "                                                                                               'of '\n",
            "                                                                                               '30°C '\n",
            "                                                                                               '(86°F) '\n",
            "                                                                                               'and '\n",
            "                                                                                               '83% '\n",
            "                                                                                               'relative '\n",
            "                                                                                               'humidity '\n",
            "                                                                                               'at '\n",
            "                                                                                               '1 '\n",
            "                                                                                               'AM.'}},\n",
            "                                                                          {'groundingChunkIndices': [1],\n",
            "                                                                           'segment': {'endIndex': 298,\n",
            "                                                                                       'startIndex': 248,\n",
            "                                                                                       'text': 'A '\n",
            "                                                                                               'Very '\n",
            "                                                                                               'Hot '\n",
            "                                                                                               'Weather '\n",
            "                                                                                               'Warning '\n",
            "                                                                                               'is '\n",
            "                                                                                               'currently '\n",
            "                                                                                               'in '\n",
            "                                                                                               'effect.'}},\n",
            "                                                                          {'groundingChunkIndices': [0],\n",
            "                                                                           'segment': {'endIndex': 468,\n",
            "                                                                                       'startIndex': 300,\n",
            "                                                                                       'text': 'For '\n",
            "                                                                                               'today, '\n",
            "                                                                                               'Thursday, '\n",
            "                                                                                               'July '\n",
            "                                                                                               '17, '\n",
            "                                                                                               '2025, '\n",
            "                                                                                               'light '\n",
            "                                                                                               'rain '\n",
            "                                                                                               'is '\n",
            "                                                                                               'expected '\n",
            "                                                                                               'during '\n",
            "                                                                                               'the '\n",
            "                                                                                               'day '\n",
            "                                                                                               'and '\n",
            "                                                                                               'night, '\n",
            "                                                                                               'with '\n",
            "                                                                                               'a '\n",
            "                                                                                               '25% '\n",
            "                                                                                               'chance '\n",
            "                                                                                               'of '\n",
            "                                                                                               'rain '\n",
            "                                                                                               'and '\n",
            "                                                                                               'temperatures '\n",
            "                                                                                               'between '\n",
            "                                                                                               '84°F '\n",
            "                                                                                               '(29°C) '\n",
            "                                                                                               'and '\n",
            "                                                                                               '91°F '\n",
            "                                                                                               '(33°C).'}},\n",
            "                                                                          {'groundingChunkIndices': [0],\n",
            "                                                                           'segment': {'endIndex': 507,\n",
            "                                                                                       'startIndex': 469,\n",
            "                                                                                       'text': 'Humidity '\n",
            "                                                                                               'is '\n",
            "                                                                                               'expected '\n",
            "                                                                                               'to '\n",
            "                                                                                               'be '\n",
            "                                                                                               'around '\n",
            "                                                                                               '79%.'}}],\n",
            "                                                    'retrievalMetadata': {},\n",
            "                                                    'searchEntryPoint': {'renderedContent': '<style>\\n'\n",
            "                                                                                            '.container '\n",
            "                                                                                            '{\\n'\n",
            "                                                                                            '  '\n",
            "                                                                                            'align-items: '\n",
            "                                                                                            'center;\\n'\n",
            "                                                                                            '  '\n",
            "                                                                                            'border-radius: '\n",
            "                                                                                            '8px;\\n'\n",
            "                                                                                            '  '\n",
            "                                                                                            'display: '\n",
            "                                                                                            'flex;\\n'\n",
            "                                                                                            '  '\n",
            "                                                                                            'font-family: '\n",
            "                                                                                            'Google '\n",
            "                                                                                            'Sans, '\n",
            "                                                                                            'Roboto, '\n",
            "                                                                                            'sans-serif;\\n'\n",
            "                                                                                            '  '\n",
            "                                                                                            'font-size: '\n",
            "                                                                                            '14px;\\n'\n",
            "                                                                                            '  '\n",
            "                                                                                            'line-height: '\n",
            "                                                                                            '20px;\\n'\n",
            "                                                                                            '  '\n",
            "                                                                                            'padding: '\n",
            "                                                                                            '8px '\n",
            "                                                                                            '12px;\\n'\n",
            "                                                                                            '}\\n'\n",
            "                                                                                            '.chip '\n",
            "                                                                                            '{\\n'\n",
            "                                                                                            '  '\n",
            "                                                                                            'display: '\n",
            "                                                                                            'inline-block;\\n'\n",
            "                                                                                            '  '\n",
            "                                                                                            'border: '\n",
            "                                                                                            'solid '\n",
            "                                                                                            '1px;\\n'\n",
            "                                                                                            '  '\n",
            "                                                                                            'border-radius: '\n",
            "                                                                                            '16px;\\n'\n",
            "                                                                                            '  '\n",
            "                                                                                            'min-width: '\n",
            "                                                                                            '14px;\\n'\n",
            "                                                                                            '  '\n",
            "                                                                                            'padding: '\n",
            "                                                                                            '5px '\n",
            "                                                                                            '16px;\\n'\n",
            "                                                                                            '  '\n",
            "                                                                                            'text-align: '\n",
            "                                                                                            'center;\\n'\n",
            "                                                                                            '  '\n",
            "                                                                                            'user-select: '\n",
            "                                                                                            'none;\\n'\n",
            "                                                                                            '  '\n",
            "                                                                                            'margin: '\n",
            "                                                                                            '0 '\n",
            "                                                                                            '8px;\\n'\n",
            "                                                                                            '  '\n",
            "                                                                                            '-webkit-tap-highlight-color: '\n",
            "                                                                                            'transparent;\\n'\n",
            "                                                                                            '}\\n'\n",
            "                                                                                            '.carousel '\n",
            "                                                                                            '{\\n'\n",
            "                                                                                            '  '\n",
            "                                                                                            'overflow: '\n",
            "                                                                                            'auto;\\n'\n",
            "                                                                                            '  '\n",
            "                                                                                            'scrollbar-width: '\n",
            "                                                                                            'none;\\n'\n",
            "                                                                                            '  '\n",
            "                                                                                            'white-space: '\n",
            "                                                                                            'nowrap;\\n'\n",
            "                                                                                            '  '\n",
            "                                                                                            'margin-right: '\n",
            "                                                                                            '-12px;\\n'\n",
            "                                                                                            '}\\n'\n",
            "                                                                                            '.headline '\n",
            "                                                                                            '{\\n'\n",
            "                                                                                            '  '\n",
            "                                                                                            'display: '\n",
            "                                                                                            'flex;\\n'\n",
            "                                                                                            '  '\n",
            "                                                                                            'margin-right: '\n",
            "                                                                                            '4px;\\n'\n",
            "                                                                                            '}\\n'\n",
            "                                                                                            '.gradient-container '\n",
            "                                                                                            '{\\n'\n",
            "                                                                                            '  '\n",
            "                                                                                            'position: '\n",
            "                                                                                            'relative;\\n'\n",
            "                                                                                            '}\\n'\n",
            "                                                                                            '.gradient '\n",
            "                                                                                            '{\\n'\n",
            "                                                                                            '  '\n",
            "                                                                                            'position: '\n",
            "                                                                                            'absolute;\\n'\n",
            "                                                                                            '  '\n",
            "                                                                                            'transform: '\n",
            "                                                                                            'translate(3px, '\n",
            "                                                                                            '-9px);\\n'\n",
            "                                                                                            '  '\n",
            "                                                                                            'height: '\n",
            "                                                                                            '36px;\\n'\n",
            "                                                                                            '  '\n",
            "                                                                                            'width: '\n",
            "                                                                                            '9px;\\n'\n",
            "                                                                                            '}\\n'\n",
            "                                                                                            '@media '\n",
            "                                                                                            '(prefers-color-scheme: '\n",
            "                                                                                            'light) '\n",
            "                                                                                            '{\\n'\n",
            "                                                                                            '  '\n",
            "                                                                                            '.container '\n",
            "                                                                                            '{\\n'\n",
            "                                                                                            '    '\n",
            "                                                                                            'background-color: '\n",
            "                                                                                            '#fafafa;\\n'\n",
            "                                                                                            '    '\n",
            "                                                                                            'box-shadow: '\n",
            "                                                                                            '0 '\n",
            "                                                                                            '0 '\n",
            "                                                                                            '0 '\n",
            "                                                                                            '1px '\n",
            "                                                                                            '#0000000f;\\n'\n",
            "                                                                                            '  '\n",
            "                                                                                            '}\\n'\n",
            "                                                                                            '  '\n",
            "                                                                                            '.headline-label '\n",
            "                                                                                            '{\\n'\n",
            "                                                                                            '    '\n",
            "                                                                                            'color: '\n",
            "                                                                                            '#1f1f1f;\\n'\n",
            "                                                                                            '  '\n",
            "                                                                                            '}\\n'\n",
            "                                                                                            '  '\n",
            "                                                                                            '.chip '\n",
            "                                                                                            '{\\n'\n",
            "                                                                                            '    '\n",
            "                                                                                            'background-color: '\n",
            "                                                                                            '#ffffff;\\n'\n",
            "                                                                                            '    '\n",
            "                                                                                            'border-color: '\n",
            "                                                                                            '#d2d2d2;\\n'\n",
            "                                                                                            '    '\n",
            "                                                                                            'color: '\n",
            "                                                                                            '#5e5e5e;\\n'\n",
            "                                                                                            '    '\n",
            "                                                                                            'text-decoration: '\n",
            "                                                                                            'none;\\n'\n",
            "                                                                                            '  '\n",
            "                                                                                            '}\\n'\n",
            "                                                                                            '  '\n",
            "                                                                                            '.chip:hover '\n",
            "                                                                                            '{\\n'\n",
            "                                                                                            '    '\n",
            "                                                                                            'background-color: '\n",
            "                                                                                            '#f2f2f2;\\n'\n",
            "                                                                                            '  '\n",
            "                                                                                            '}\\n'\n",
            "                                                                                            '  '\n",
            "                                                                                            '.chip:focus '\n",
            "                                                                                            '{\\n'\n",
            "                                                                                            '    '\n",
            "                                                                                            'background-color: '\n",
            "                                                                                            '#f2f2f2;\\n'\n",
            "                                                                                            '  '\n",
            "                                                                                            '}\\n'\n",
            "                                                                                            '  '\n",
            "                                                                                            '.chip:active '\n",
            "                                                                                            '{\\n'\n",
            "                                                                                            '    '\n",
            "                                                                                            'background-color: '\n",
            "                                                                                            '#d8d8d8;\\n'\n",
            "                                                                                            '    '\n",
            "                                                                                            'border-color: '\n",
            "                                                                                            '#b6b6b6;\\n'\n",
            "                                                                                            '  '\n",
            "                                                                                            '}\\n'\n",
            "                                                                                            '  '\n",
            "                                                                                            '.logo-dark '\n",
            "                                                                                            '{\\n'\n",
            "                                                                                            '    '\n",
            "                                                                                            'display: '\n",
            "                                                                                            'none;\\n'\n",
            "                                                                                            '  '\n",
            "                                                                                            '}\\n'\n",
            "                                                                                            '  '\n",
            "                                                                                            '.gradient '\n",
            "                                                                                            '{\\n'\n",
            "                                                                                            '    '\n",
            "                                                                                            'background: '\n",
            "                                                                                            'linear-gradient(90deg, '\n",
            "                                                                                            '#fafafa '\n",
            "                                                                                            '15%, '\n",
            "                                                                                            '#fafafa00 '\n",
            "                                                                                            '100%);\\n'\n",
            "                                                                                            '  '\n",
            "                                                                                            '}\\n'\n",
            "                                                                                            '}\\n'\n",
            "                                                                                            '@media '\n",
            "                                                                                            '(prefers-color-scheme: '\n",
            "                                                                                            'dark) '\n",
            "                                                                                            '{\\n'\n",
            "                                                                                            '  '\n",
            "                                                                                            '.container '\n",
            "                                                                                            '{\\n'\n",
            "                                                                                            '    '\n",
            "                                                                                            'background-color: '\n",
            "                                                                                            '#1f1f1f;\\n'\n",
            "                                                                                            '    '\n",
            "                                                                                            'box-shadow: '\n",
            "                                                                                            '0 '\n",
            "                                                                                            '0 '\n",
            "                                                                                            '0 '\n",
            "                                                                                            '1px '\n",
            "                                                                                            '#ffffff26;\\n'\n",
            "                                                                                            '  '\n",
            "                                                                                            '}\\n'\n",
            "                                                                                            '  '\n",
            "                                                                                            '.headline-label '\n",
            "                                                                                            '{\\n'\n",
            "                                                                                            '    '\n",
            "                                                                                            'color: '\n",
            "                                                                                            '#fff;\\n'\n",
            "                                                                                            '  '\n",
            "                                                                                            '}\\n'\n",
            "                                                                                            '  '\n",
            "                                                                                            '.chip '\n",
            "                                                                                            '{\\n'\n",
            "                                                                                            '    '\n",
            "                                                                                            'background-color: '\n",
            "                                                                                            '#2c2c2c;\\n'\n",
            "                                                                                            '    '\n",
            "                                                                                            'border-color: '\n",
            "                                                                                            '#3c4043;\\n'\n",
            "                                                                                            '    '\n",
            "                                                                                            'color: '\n",
            "                                                                                            '#fff;\\n'\n",
            "                                                                                            '    '\n",
            "                                                                                            'text-decoration: '\n",
            "                                                                                            'none;\\n'\n",
            "                                                                                            '  '\n",
            "                                                                                            '}\\n'\n",
            "                                                                                            '  '\n",
            "                                                                                            '.chip:hover '\n",
            "                                                                                            '{\\n'\n",
            "                                                                                            '    '\n",
            "                                                                                            'background-color: '\n",
            "                                                                                            '#353536;\\n'\n",
            "                                                                                            '  '\n",
            "                                                                                            '}\\n'\n",
            "                                                                                            '  '\n",
            "                                                                                            '.chip:focus '\n",
            "                                                                                            '{\\n'\n",
            "                                                                                            '    '\n",
            "                                                                                            'background-color: '\n",
            "                                                                                            '#353536;\\n'\n",
            "                                                                                            '  '\n",
            "                                                                                            '}\\n'\n",
            "                                                                                            '  '\n",
            "                                                                                            '.chip:active '\n",
            "                                                                                            '{\\n'\n",
            "                                                                                            '    '\n",
            "                                                                                            'background-color: '\n",
            "                                                                                            '#464849;\\n'\n",
            "                                                                                            '    '\n",
            "                                                                                            'border-color: '\n",
            "                                                                                            '#53575b;\\n'\n",
            "                                                                                            '  '\n",
            "                                                                                            '}\\n'\n",
            "                                                                                            '  '\n",
            "                                                                                            '.logo-light '\n",
            "                                                                                            '{\\n'\n",
            "                                                                                            '    '\n",
            "                                                                                            'display: '\n",
            "                                                                                            'none;\\n'\n",
            "                                                                                            '  '\n",
            "                                                                                            '}\\n'\n",
            "                                                                                            '  '\n",
            "                                                                                            '.gradient '\n",
            "                                                                                            '{\\n'\n",
            "                                                                                            '    '\n",
            "                                                                                            'background: '\n",
            "                                                                                            'linear-gradient(90deg, '\n",
            "                                                                                            '#1f1f1f '\n",
            "                                                                                            '15%, '\n",
            "                                                                                            '#1f1f1f00 '\n",
            "                                                                                            '100%);\\n'\n",
            "                                                                                            '  '\n",
            "                                                                                            '}\\n'\n",
            "                                                                                            '}\\n'\n",
            "                                                                                            '</style>\\n'\n",
            "                                                                                            '<div '\n",
            "                                                                                            'class=\"container\">\\n'\n",
            "                                                                                            '  '\n",
            "                                                                                            '<div '\n",
            "                                                                                            'class=\"headline\">\\n'\n",
            "                                                                                            '    '\n",
            "                                                                                            '<svg '\n",
            "                                                                                            'class=\"logo-light\" '\n",
            "                                                                                            'width=\"18\" '\n",
            "                                                                                            'height=\"18\" '\n",
            "                                                                                            'viewBox=\"9 '\n",
            "                                                                                            '9 '\n",
            "                                                                                            '35 '\n",
            "                                                                                            '35\" '\n",
            "                                                                                            'fill=\"none\" '\n",
            "                                                                                            'xmlns=\"http://www.w3.org/2000/svg\">\\n'\n",
            "                                                                                            '      '\n",
            "                                                                                            '<path '\n",
            "                                                                                            'fill-rule=\"evenodd\" '\n",
            "                                                                                            'clip-rule=\"evenodd\" '\n",
            "                                                                                            'd=\"M42.8622 '\n",
            "                                                                                            '27.0064C42.8622 '\n",
            "                                                                                            '25.7839 '\n",
            "                                                                                            '42.7525 '\n",
            "                                                                                            '24.6084 '\n",
            "                                                                                            '42.5487 '\n",
            "                                                                                            '23.4799H26.3109V30.1568H35.5897C35.1821 '\n",
            "                                                                                            '32.3041 '\n",
            "                                                                                            '33.9596 '\n",
            "                                                                                            '34.1222 '\n",
            "                                                                                            '32.1258 '\n",
            "                                                                                            '35.3448V39.6864H37.7213C40.9814 '\n",
            "                                                                                            '36.677 '\n",
            "                                                                                            '42.8622 '\n",
            "                                                                                            '32.2571 '\n",
            "                                                                                            '42.8622 '\n",
            "                                                                                            '27.0064V27.0064Z\" '\n",
            "                                                                                            'fill=\"#4285F4\"/>\\n'\n",
            "                                                                                            '      '\n",
            "                                                                                            '<path '\n",
            "                                                                                            'fill-rule=\"evenodd\" '\n",
            "                                                                                            'clip-rule=\"evenodd\" '\n",
            "                                                                                            'd=\"M26.3109 '\n",
            "                                                                                            '43.8555C30.9659 '\n",
            "                                                                                            '43.8555 '\n",
            "                                                                                            '34.8687 '\n",
            "                                                                                            '42.3195 '\n",
            "                                                                                            '37.7213 '\n",
            "                                                                                            '39.6863L32.1258 '\n",
            "                                                                                            '35.3447C30.5898 '\n",
            "                                                                                            '36.3792 '\n",
            "                                                                                            '28.6306 '\n",
            "                                                                                            '37.0061 '\n",
            "                                                                                            '26.3109 '\n",
            "                                                                                            '37.0061C21.8282 '\n",
            "                                                                                            '37.0061 '\n",
            "                                                                                            '18.0195 '\n",
            "                                                                                            '33.9811 '\n",
            "                                                                                            '16.6559 '\n",
            "                                                                                            '29.906H10.9194V34.3573C13.7563 '\n",
            "                                                                                            '39.9841 '\n",
            "                                                                                            '19.5712 '\n",
            "                                                                                            '43.8555 '\n",
            "                                                                                            '26.3109 '\n",
            "                                                                                            '43.8555V43.8555Z\" '\n",
            "                                                                                            'fill=\"#34A853\"/>\\n'\n",
            "                                                                                            '      '\n",
            "                                                                                            '<path '\n",
            "                                                                                            'fill-rule=\"evenodd\" '\n",
            "                                                                                            'clip-rule=\"evenodd\" '\n",
            "                                                                                            'd=\"M16.6559 '\n",
            "                                                                                            '29.8904C16.3111 '\n",
            "                                                                                            '28.8559 '\n",
            "                                                                                            '16.1074 '\n",
            "                                                                                            '27.7588 '\n",
            "                                                                                            '16.1074 '\n",
            "                                                                                            '26.6146C16.1074 '\n",
            "                                                                                            '25.4704 '\n",
            "                                                                                            '16.3111 '\n",
            "                                                                                            '24.3733 '\n",
            "                                                                                            '16.6559 '\n",
            "                                                                                            '23.3388V18.8875H10.9194C9.74388 '\n",
            "                                                                                            '21.2072 '\n",
            "                                                                                            '9.06992 '\n",
            "                                                                                            '23.8247 '\n",
            "                                                                                            '9.06992 '\n",
            "                                                                                            '26.6146C9.06992 '\n",
            "                                                                                            '29.4045 '\n",
            "                                                                                            '9.74388 '\n",
            "                                                                                            '32.022 '\n",
            "                                                                                            '10.9194 '\n",
            "                                                                                            '34.3417L15.3864 '\n",
            "                                                                                            '30.8621L16.6559 '\n",
            "                                                                                            '29.8904V29.8904Z\" '\n",
            "                                                                                            'fill=\"#FBBC05\"/>\\n'\n",
            "                                                                                            '      '\n",
            "                                                                                            '<path '\n",
            "                                                                                            'fill-rule=\"evenodd\" '\n",
            "                                                                                            'clip-rule=\"evenodd\" '\n",
            "                                                                                            'd=\"M26.3109 '\n",
            "                                                                                            '16.2386C28.85 '\n",
            "                                                                                            '16.2386 '\n",
            "                                                                                            '31.107 '\n",
            "                                                                                            '17.1164 '\n",
            "                                                                                            '32.9095 '\n",
            "                                                                                            '18.8091L37.8466 '\n",
            "                                                                                            '13.8719C34.853 '\n",
            "                                                                                            '11.082 '\n",
            "                                                                                            '30.9659 '\n",
            "                                                                                            '9.3736 '\n",
            "                                                                                            '26.3109 '\n",
            "                                                                                            '9.3736C19.5712 '\n",
            "                                                                                            '9.3736 '\n",
            "                                                                                            '13.7563 '\n",
            "                                                                                            '13.245 '\n",
            "                                                                                            '10.9194 '\n",
            "                                                                                            '18.8875L16.6559 '\n",
            "                                                                                            '23.3388C18.0195 '\n",
            "                                                                                            '19.2636 '\n",
            "                                                                                            '21.8282 '\n",
            "                                                                                            '16.2386 '\n",
            "                                                                                            '26.3109 '\n",
            "                                                                                            '16.2386V16.2386Z\" '\n",
            "                                                                                            'fill=\"#EA4335\"/>\\n'\n",
            "                                                                                            '    '\n",
            "                                                                                            '</svg>\\n'\n",
            "                                                                                            '    '\n",
            "                                                                                            '<svg '\n",
            "                                                                                            'class=\"logo-dark\" '\n",
            "                                                                                            'width=\"18\" '\n",
            "                                                                                            'height=\"18\" '\n",
            "                                                                                            'viewBox=\"0 '\n",
            "                                                                                            '0 '\n",
            "                                                                                            '48 '\n",
            "                                                                                            '48\" '\n",
            "                                                                                            'xmlns=\"http://www.w3.org/2000/svg\">\\n'\n",
            "                                                                                            '      '\n",
            "                                                                                            '<circle '\n",
            "                                                                                            'cx=\"24\" '\n",
            "                                                                                            'cy=\"23\" '\n",
            "                                                                                            'fill=\"#FFF\" '\n",
            "                                                                                            'r=\"22\"/>\\n'\n",
            "                                                                                            '      '\n",
            "                                                                                            '<path '\n",
            "                                                                                            'd=\"M33.76 '\n",
            "                                                                                            '34.26c2.75-2.56 '\n",
            "                                                                                            '4.49-6.37 '\n",
            "                                                                                            '4.49-11.26 '\n",
            "                                                                                            '0-.89-.08-1.84-.29-3H24.01v5.99h8.03c-.4 '\n",
            "                                                                                            '2.02-1.5 '\n",
            "                                                                                            '3.56-3.07 '\n",
            "                                                                                            '4.56v.75l3.91 '\n",
            "                                                                                            '2.97h.88z\" '\n",
            "                                                                                            'fill=\"#4285F4\"/>\\n'\n",
            "                                                                                            '      '\n",
            "                                                                                            '<path '\n",
            "                                                                                            'd=\"M15.58 '\n",
            "                                                                                            '25.77A8.845 '\n",
            "                                                                                            '8.845 '\n",
            "                                                                                            '0 '\n",
            "                                                                                            '0 '\n",
            "                                                                                            '0 '\n",
            "                                                                                            '24 '\n",
            "                                                                                            '31.86c1.92 '\n",
            "                                                                                            '0 '\n",
            "                                                                                            '3.62-.46 '\n",
            "                                                                                            '4.97-1.31l4.79 '\n",
            "                                                                                            '3.71C31.14 '\n",
            "                                                                                            '36.7 '\n",
            "                                                                                            '27.65 '\n",
            "                                                                                            '38 '\n",
            "                                                                                            '24 '\n",
            "                                                                                            '38c-5.93 '\n",
            "                                                                                            '0-11.01-3.4-13.45-8.36l.17-1.01 '\n",
            "                                                                                            '4.06-2.85h.8z\" '\n",
            "                                                                                            'fill=\"#34A853\"/>\\n'\n",
            "                                                                                            '      '\n",
            "                                                                                            '<path '\n",
            "                                                                                            'd=\"M15.59 '\n",
            "                                                                                            '20.21a8.864 '\n",
            "                                                                                            '8.864 '\n",
            "                                                                                            '0 '\n",
            "                                                                                            '0 '\n",
            "                                                                                            '0 '\n",
            "                                                                                            '0 '\n",
            "                                                                                            '5.58l-5.03 '\n",
            "                                                                                            '3.86c-.98-2-1.53-4.25-1.53-6.64 '\n",
            "                                                                                            '0-2.39.55-4.64 '\n",
            "                                                                                            '1.53-6.64l1-.22 '\n",
            "                                                                                            '3.81 '\n",
            "                                                                                            '2.98.22 '\n",
            "                                                                                            '1.08z\" '\n",
            "                                                                                            'fill=\"#FBBC05\"/>\\n'\n",
            "                                                                                            '      '\n",
            "                                                                                            '<path '\n",
            "                                                                                            'd=\"M24 '\n",
            "                                                                                            '14.14c2.11 '\n",
            "                                                                                            '0 '\n",
            "                                                                                            '4.02.75 '\n",
            "                                                                                            '5.52 '\n",
            "                                                                                            '1.98l4.36-4.36C31.22 '\n",
            "                                                                                            '9.43 '\n",
            "                                                                                            '27.81 '\n",
            "                                                                                            '8 '\n",
            "                                                                                            '24 '\n",
            "                                                                                            '8c-5.93 '\n",
            "                                                                                            '0-11.01 '\n",
            "                                                                                            '3.4-13.45 '\n",
            "                                                                                            '8.36l5.03 '\n",
            "                                                                                            '3.85A8.86 '\n",
            "                                                                                            '8.86 '\n",
            "                                                                                            '0 '\n",
            "                                                                                            '0 '\n",
            "                                                                                            '1 '\n",
            "                                                                                            '24 '\n",
            "                                                                                            '14.14z\" '\n",
            "                                                                                            'fill=\"#EA4335\"/>\\n'\n",
            "                                                                                            '    '\n",
            "                                                                                            '</svg>\\n'\n",
            "                                                                                            '    '\n",
            "                                                                                            '<div '\n",
            "                                                                                            'class=\"gradient-container\"><div '\n",
            "                                                                                            'class=\"gradient\"></div></div>\\n'\n",
            "                                                                                            '  '\n",
            "                                                                                            '</div>\\n'\n",
            "                                                                                            '  '\n",
            "                                                                                            '<div '\n",
            "                                                                                            'class=\"carousel\">\\n'\n",
            "                                                                                            '    '\n",
            "                                                                                            '<a '\n",
            "                                                                                            'class=\"chip\" '\n",
            "                                                                                            'href=\"https://vertexaisearch.cloud.google.com/grounding-api-redirect/AUZIYQEJrc-fb4epkCmCnpl2p7lbQrpcXTeo8l2bbEBfD_kmFVobr0VM70Y_0eBytyrLXvHk0VRGMUaqORFdarYiU3Ked4Yh4nG-ADerXdwoH0BCYugi6jP41CaWZTAi06PQOlA_fGifWPwwZQUTKateWyDNLFcF2aNNQX_Ob3Tbw2e5Ev6grcVbIPHJ82BTJcg2lhUA5xwTOmoie-7EJLz4sA0=\">current '\n",
            "                                                                                            'weather '\n",
            "                                                                                            'in '\n",
            "                                                                                            'Hong '\n",
            "                                                                                            'Kong</a>\\n'\n",
            "                                                                                            '  '\n",
            "                                                                                            '</div>\\n'\n",
            "                                                                                            '</div>\\n'},\n",
            "                                                    'webSearchQueries': ['current '\n",
            "                                                                         'weather '\n",
            "                                                                         'in '\n",
            "                                                                         'Hong '\n",
            "                                                                         'Kong']},\n",
            "                         'adk_invocation_id': 'e-aa9a670c-e99c-4fc3-8be4-c1abb04d55db',\n",
            "                         'adk_session_id': 'ca0ded9e-8411-4d79-aa9e-8dda9d07abae',\n",
            "                         'adk_usage_metadata': {'candidatesTokenCount': 163,\n",
            "                                                'candidatesTokensDetails': [{'modality': 'TEXT',\n",
            "                                                                             'tokenCount': 163}],\n",
            "                                                'promptTokenCount': 56,\n",
            "                                                'promptTokensDetails': [{'modality': 'TEXT',\n",
            "                                                                         'tokenCount': 56}],\n",
            "                                                'thoughtsTokenCount': 78,\n",
            "                                                'toolUsePromptTokenCount': 25,\n",
            "                                                'totalTokenCount': 297,\n",
            "                                                'trafficType': 'ON_DEMAND'},\n",
            "                         'adk_user_id': 'A2A_USER_ca0ded9e-8411-4d79-aa9e-8dda9d07abae'},\n",
            "            'status': {'message': {'kind': 'message',\n",
            "                                   'messageId': 'e817326a-12da-40d6-98f7-05ac078ca8c3',\n",
            "                                   'parts': [{'kind': 'text',\n",
            "                                              'text': 'The current weather in '\n",
            "                                                      'Hong Kong is cloudy, '\n",
            "                                                      'with a temperature of '\n",
            "                                                      '90°F (32°C), but it '\n",
            "                                                      'feels like 105°F (41°C) '\n",
            "                                                      'due to around 70% '\n",
            "                                                      'humidity. The Hong Kong '\n",
            "                                                      'Observatory reported an '\n",
            "                                                      'air temperature of 30°C '\n",
            "                                                      '(86°F) and 83% relative '\n",
            "                                                      'humidity at 1 AM. A '\n",
            "                                                      'Very Hot Weather '\n",
            "                                                      'Warning is currently in '\n",
            "                                                      'effect.\\n'\n",
            "                                                      '\\n'\n",
            "                                                      'For today, Thursday, '\n",
            "                                                      'July 17, 2025, light '\n",
            "                                                      'rain is expected during '\n",
            "                                                      'the day and night, with '\n",
            "                                                      'a 25% chance of rain '\n",
            "                                                      'and temperatures '\n",
            "                                                      'between 84°F (29°C) and '\n",
            "                                                      '91°F (33°C). Humidity '\n",
            "                                                      'is expected to be '\n",
            "                                                      'around 79%.'}],\n",
            "                                   'role': 'agent'},\n",
            "                       'state': 'completed',\n",
            "                       'timestamp': '2025-07-17T04:20:08.594649+00:00'}}}\n"
          ]
        }
      ]
    },
    {
      "cell_type": "markdown",
      "source": [
        "#### Test streaming: Error\n",
        "\n",
        "There is SSE type error. We will circle back later. Check the ADK repo for a relevant issue (to be submitted soon)."
      ],
      "metadata": {
        "id": "FpttdFfthz-3"
      }
    },
    {
      "cell_type": "code",
      "source": [
        "# A2AClientHTTPError: HTTP Error 400: Invalid SSE response or protocol error: Expected response header Content-Type to contain 'text/event-stream', got 'application/json'\n",
        "\n",
        "# # --8<-- [start:send_message_streaming]\n",
        "\n",
        "# streaming_request = SendStreamingMessageRequest(\n",
        "#     id=str(uuid4()), params=MessageSendParams(**send_message_payload)\n",
        "# )\n",
        "\n",
        "# stream_response = client.send_message_streaming(streaming_request)\n",
        "\n",
        "# seq = 0\n",
        "# async for chunk in stream_response:\n",
        "#     seq += 1\n",
        "#     print(f'=== seq: {seq} ===')\n",
        "#     print(chunk.model_dump(mode='json', exclude_none=True))\n",
        "\n",
        "# # --8<-- [end:send_message_streaming]"
      ],
      "metadata": {
        "id": "D2XzSAH7e_Ef"
      },
      "execution_count": 41,
      "outputs": []
    },
    {
      "cell_type": "code",
      "source": [],
      "metadata": {
        "id": "TOHSp-dzgiNr"
      },
      "execution_count": 41,
      "outputs": []
    },
    {
      "cell_type": "markdown",
      "source": [
        "### A2A Client (in ADK)\n",
        "\n",
        "NOTE: This CoLab is a quick way to show how ADK's built-in A2A works end to end, but not the intended way to build product. The client running within CoLab environment may encounter async event loop error every other message.\n",
        "\n",
        "It is recommended to write the server and client parts locally and run in two separate shells."
      ],
      "metadata": {
        "id": "iME98n34ia1L"
      }
    },
    {
      "cell_type": "code",
      "source": [
        "# from google.adk.agents.remote_a2a_agent import AGENT_CARD_WELL_KNOWN_PATH\n",
        "AGENT_CARD_WELL_KNOWN_PATH = \"/.well-known/agent.json\"\n",
        "from google.adk.agents.remote_a2a_agent import RemoteA2aAgent\n",
        "\n",
        "remote_search_agent = RemoteA2aAgent(\n",
        "    name=\"remote_search_agent\",\n",
        "    description=\"Conduct searches and return a summary of the results\",\n",
        "    agent_card=(\n",
        "        f\"http://localhost:8001/a2a/search_agent{AGENT_CARD_WELL_KNOWN_PATH}\"\n",
        "    ),\n",
        ")\n",
        "\n",
        "root_agent = Agent(\n",
        "    model=MODEL,\n",
        "    name=\"root_agent\",\n",
        "    instruction=\"\"\"\n",
        "    Identify the user's intent\n",
        "    - If user intends for an Internet search, delegate to remote_search_agent\n",
        "    - Otherwise respond to the user by yourself.\n",
        "    \"\"\",\n",
        "    sub_agents=[remote_search_agent],\n",
        ")"
      ],
      "metadata": {
        "colab": {
          "base_uri": "https://localhost:8080/"
        },
        "id": "-CHP2YM_idge",
        "outputId": "1b7ab897-9332-4236-e429-78412226b088"
      },
      "execution_count": 42,
      "outputs": [
        {
          "output_type": "stream",
          "name": "stderr",
          "text": [
            "/tmp/ipython-input-42-901504012.py:5: UserWarning: [EXPERIMENTAL] RemoteA2aAgent: This feature is experimental and may change or be removed in future versions without notice. It may introduce breaking changes at any time.\n",
            "  remote_search_agent = RemoteA2aAgent(\n"
          ]
        }
      ]
    },
    {
      "cell_type": "code",
      "source": [
        "call_agent = await caller_factory(root_agent)"
      ],
      "metadata": {
        "id": "24rVkZukjLcO"
      },
      "execution_count": 43,
      "outputs": []
    },
    {
      "cell_type": "code",
      "source": [
        "events = call_agent('hello')"
      ],
      "metadata": {
        "id": "9AB-zjYCjteF"
      },
      "execution_count": 44,
      "outputs": []
    },
    {
      "cell_type": "code",
      "source": [
        "pprint_events(events)"
      ],
      "metadata": {
        "colab": {
          "base_uri": "https://localhost:8080/"
        },
        "id": "VLxKtyg4jvL4",
        "outputId": "c7b60272-d461-48c7-c655-ae4746c13e74"
      },
      "execution_count": 45,
      "outputs": [
        {
          "output_type": "stream",
          "name": "stderr",
          "text": [
            "/usr/local/lib/python3.11/dist-packages/google/auth/_default.py:76: UserWarning: Your application has authenticated using end user credentials from Google Cloud SDK without a quota project. You might receive a \"quota exceeded\" or \"API not enabled\" error. See the following page for troubleshooting: https://cloud.google.com/docs/authentication/adc-troubleshooting/user-creds. \n",
            "  warnings.warn(_CLOUD_SDK_CREDENTIALS_WARNING)\n"
          ]
        },
        {
          "output_type": "stream",
          "name": "stdout",
          "text": [
            ">>> inside final response...\n",
            "Final Response (2633.421 ms):\n",
            "Hello! How can I help you today?\n",
            "-----------------------------\n",
            "Total elapsed time: 2633.421\n"
          ]
        }
      ]
    },
    {
      "cell_type": "code",
      "source": [
        "events = call_agent('what is the weather in Hong Kong?')\n",
        "# pprint_events(events)"
      ],
      "metadata": {
        "id": "4pn2i2Vdj2zC"
      },
      "execution_count": 46,
      "outputs": []
    },
    {
      "cell_type": "code",
      "source": [
        "events = list(events)"
      ],
      "metadata": {
        "colab": {
          "base_uri": "https://localhost:8080/"
        },
        "id": "5DSoovDTj6uD",
        "outputId": "f37c2117-55dd-4193-c099-fb3a16b79783"
      },
      "execution_count": 47,
      "outputs": [
        {
          "output_type": "stream",
          "name": "stderr",
          "text": [
            "/usr/local/lib/python3.11/dist-packages/google/auth/_default.py:76: UserWarning: Your application has authenticated using end user credentials from Google Cloud SDK without a quota project. You might receive a \"quota exceeded\" or \"API not enabled\" error. See the following page for troubleshooting: https://cloud.google.com/docs/authentication/adc-troubleshooting/user-creds. \n",
            "  warnings.warn(_CLOUD_SDK_CREDENTIALS_WARNING)\n",
            "WARNING:google_genai.types:Warning: there are non-text parts in the response: ['function_call'], returning concatenated text result from text parts. Check the full candidates.content.parts accessor to get the full model response.\n",
            "/usr/local/lib/python3.11/dist-packages/google/adk/agents/remote_a2a_agent.py:346: UserWarning: [EXPERIMENTAL] convert_genai_part_to_a2a_part: This feature is experimental and may change or be removed in future versions without notice. It may introduce breaking changes at any time.\n",
            "  converted_part = convert_genai_part_to_a2a_part(part)\n",
            "/usr/local/lib/python3.11/dist-packages/google/adk/a2a/converters/event_converter.py:279: UserWarning: [EXPERIMENTAL] convert_a2a_message_to_event: This feature is experimental and may change or be removed in future versions without notice. It may introduce breaking changes at any time.\n",
            "  return convert_a2a_message_to_event(message, author, invocation_context)\n",
            "/usr/local/lib/python3.11/dist-packages/google/adk/a2a/converters/event_converter.py:345: UserWarning: [EXPERIMENTAL] convert_a2a_part_to_genai_part: This feature is experimental and may change or be removed in future versions without notice. It may introduce breaking changes at any time.\n",
            "  part = convert_a2a_part_to_genai_part(a2a_part)\n"
          ]
        }
      ]
    },
    {
      "cell_type": "code",
      "source": [
        "len(events)"
      ],
      "metadata": {
        "colab": {
          "base_uri": "https://localhost:8080/"
        },
        "id": "1wK3VEdgkFJN",
        "outputId": "2a1a0af2-1cf9-4bc6-8eb5-c938b8164266"
      },
      "execution_count": 48,
      "outputs": [
        {
          "output_type": "execute_result",
          "data": {
            "text/plain": [
              "3"
            ]
          },
          "metadata": {},
          "execution_count": 48
        }
      ]
    },
    {
      "cell_type": "code",
      "source": [
        "events[0]"
      ],
      "metadata": {
        "colab": {
          "base_uri": "https://localhost:8080/"
        },
        "id": "BmCDc6MskTLU",
        "outputId": "3e03b449-c30a-4822-8c94-c28ff10b40d8"
      },
      "execution_count": 49,
      "outputs": [
        {
          "output_type": "execute_result",
          "data": {
            "text/plain": [
              "Event(content=Content(\n",
              "  parts=[\n",
              "    Part(\n",
              "      function_call=FunctionCall(\n",
              "        args={\n",
              "          'agent_name': 'remote_search_agent'\n",
              "        },\n",
              "        id='adk-2097afc5-fe92-4a38-afef-e73817c8b163',\n",
              "        name='transfer_to_agent'\n",
              "      )\n",
              "    ),\n",
              "  ],\n",
              "  role='model'\n",
              "), grounding_metadata=None, partial=None, turn_complete=None, error_code=None, error_message=None, interrupted=None, custom_metadata=None, usage_metadata=GenerateContentResponseUsageMetadata(\n",
              "  candidates_token_count=13,\n",
              "  candidates_tokens_details=[\n",
              "    ModalityTokenCount(\n",
              "      modality=<MediaModality.TEXT: 'TEXT'>,\n",
              "      token_count=13\n",
              "    ),\n",
              "  ],\n",
              "  prompt_token_count=249,\n",
              "  prompt_tokens_details=[\n",
              "    ModalityTokenCount(\n",
              "      modality=<MediaModality.TEXT: 'TEXT'>,\n",
              "      token_count=249\n",
              "    ),\n",
              "  ],\n",
              "  thoughts_token_count=84,\n",
              "  total_token_count=346,\n",
              "  traffic_type=<TrafficType.ON_DEMAND: 'ON_DEMAND'>\n",
              "), invocation_id='e-b9934942-95d1-4402-9fbf-6f4fcea2edb2', author='root_agent', actions=EventActions(skip_summarization=None, state_delta={}, artifact_delta={}, transfer_to_agent=None, escalate=None, requested_auth_configs={}), long_running_tool_ids=set(), branch=None, id='95143087-9bd8-47a2-8bf4-5b2c0d5f7550', timestamp=1752726030.195727)"
            ]
          },
          "metadata": {},
          "execution_count": 49
        }
      ]
    },
    {
      "cell_type": "code",
      "source": [
        "events[1]"
      ],
      "metadata": {
        "colab": {
          "base_uri": "https://localhost:8080/"
        },
        "id": "DZePg5z2kUAI",
        "outputId": "465e7da0-1236-4174-b2d1-627692d2b013"
      },
      "execution_count": 50,
      "outputs": [
        {
          "output_type": "execute_result",
          "data": {
            "text/plain": [
              "Event(content=Content(\n",
              "  parts=[\n",
              "    Part(\n",
              "      function_response=FunctionResponse(\n",
              "        id='adk-2097afc5-fe92-4a38-afef-e73817c8b163',\n",
              "        name='transfer_to_agent',\n",
              "        response={\n",
              "          'result': None\n",
              "        }\n",
              "      )\n",
              "    ),\n",
              "  ],\n",
              "  role='user'\n",
              "), grounding_metadata=None, partial=None, turn_complete=None, error_code=None, error_message=None, interrupted=None, custom_metadata=None, usage_metadata=None, invocation_id='e-b9934942-95d1-4402-9fbf-6f4fcea2edb2', author='root_agent', actions=EventActions(skip_summarization=None, state_delta={}, artifact_delta={}, transfer_to_agent='remote_search_agent', escalate=None, requested_auth_configs={}), long_running_tool_ids=None, branch=None, id='8394bca6-a49d-47bc-9a0b-65d1690e74b2', timestamp=1752726032.656509)"
            ]
          },
          "metadata": {},
          "execution_count": 50
        }
      ]
    },
    {
      "cell_type": "code",
      "source": [
        "events[2]"
      ],
      "metadata": {
        "colab": {
          "base_uri": "https://localhost:8080/"
        },
        "id": "75BOfAPIkVVM",
        "outputId": "d4a00d47-9e34-4091-c0b5-bfe38ab12049"
      },
      "execution_count": 51,
      "outputs": [
        {
          "output_type": "execute_result",
          "data": {
            "text/plain": [
              "Event(content=Content(\n",
              "  parts=[\n",
              "    Part(\n",
              "      text=\"\"\"The weather in Hong Kong is currently cloudy with a temperature of 90°F (32°C), feeling like 105°F (41°C). The humidity is around 70%, and there is a 0% chance of rain.\n",
              "\n",
              "For today, Thursday, July 17, 2025, light rain is expected with a 25% chance of precipitation. Temperatures will range between 84°F (29°C) and 91°F (33°C), and humidity will be around 79%. The current time in Hong Kong is 12:20 PM.\n",
              "\n",
              "Looking ahead, light rain, scattered thunderstorms, and rain are forecast for the upcoming days, with varying probabilities of precipitation and temperatures.\"\"\"\n",
              "    ),\n",
              "  ],\n",
              "  role='model'\n",
              "), grounding_metadata=None, partial=None, turn_complete=None, error_code=None, error_message=None, interrupted=None, custom_metadata={'a2a:task_id': '9542e38e-3655-4b36-ba5e-d041b7bd45cf', 'a2a:context_id': '417907d8-3090-4c8a-9587-bac61b6fc07a', 'a2a:request': {'id': '8a5a0771-9b62-46de-a314-c5373d3cd8d3', 'jsonrpc': '2.0', 'method': 'message/send', 'params': {'message': {'kind': 'message', 'messageId': '974ecaa1-bcb1-4865-a9e1-be8ca3a7c0af', 'parts': [{'kind': 'text', 'text': 'hello'}, {'kind': 'text', 'text': '[root_agent] said: Hello! How can I help you today?'}, {'kind': 'text', 'text': 'For context:'}, {'kind': 'text', 'text': 'what is the weather in Hong Kong?'}, {'kind': 'text', 'text': \"[root_agent] called tool `transfer_to_agent` with parameters: {'agent_name': 'remote_search_agent'}\"}, {'kind': 'text', 'text': 'For context:'}, {'kind': 'text', 'text': \"[root_agent] `transfer_to_agent` tool returned result: {'result': None}\"}, {'kind': 'text', 'text': 'For context:'}], 'role': <Role.user: 'user'>}}}, 'a2a:response': {'id': '8a5a0771-9b62-46de-a314-c5373d3cd8d3', 'jsonrpc': '2.0', 'result': {'contextId': '417907d8-3090-4c8a-9587-bac61b6fc07a', 'history': [{'contextId': '417907d8-3090-4c8a-9587-bac61b6fc07a', 'kind': 'message', 'messageId': '974ecaa1-bcb1-4865-a9e1-be8ca3a7c0af', 'parts': [{'kind': 'text', 'text': 'hello'}, {'kind': 'text', 'text': '[root_agent] said: Hello! How can I help you today?'}, {'kind': 'text', 'text': 'For context:'}, {'kind': 'text', 'text': 'what is the weather in Hong Kong?'}, {'kind': 'text', 'text': \"[root_agent] called tool `transfer_to_agent` with parameters: {'agent_name': 'remote_search_agent'}\"}, {'kind': 'text', 'text': 'For context:'}, {'kind': 'text', 'text': \"[root_agent] `transfer_to_agent` tool returned result: {'result': None}\"}, {'kind': 'text', 'text': 'For context:'}], 'role': <Role.user: 'user'>, 'taskId': '9542e38e-3655-4b36-ba5e-d041b7bd45cf'}, {'contextId': '417907d8-3090-4c8a-9587-bac61b6fc07a', 'kind': 'message', 'messageId': '974ecaa1-bcb1-4865-a9e1-be8ca3a7c0af', 'parts': [{'kind': 'text', 'text': 'hello'}, {'kind': 'text', 'text': '[root_agent] said: Hello! How can I help you today?'}, {'kind': 'text', 'text': 'For context:'}, {'kind': 'text', 'text': 'what is the weather in Hong Kong?'}, {'kind': 'text', 'text': \"[root_agent] called tool `transfer_to_agent` with parameters: {'agent_name': 'remote_search_agent'}\"}, {'kind': 'text', 'text': 'For context:'}, {'kind': 'text', 'text': \"[root_agent] `transfer_to_agent` tool returned result: {'result': None}\"}, {'kind': 'text', 'text': 'For context:'}], 'role': <Role.user: 'user'>, 'taskId': '9542e38e-3655-4b36-ba5e-d041b7bd45cf'}, {'kind': 'message', 'messageId': '4757f01a-2c88-4a5e-9f3d-525f468e0f4c', 'parts': [{'kind': 'text', 'text': 'The weather in Hong Kong is currently cloudy with a temperature of 90°F (32°C), feeling like 105°F (41°C). The humidity is around 70%, and there is a 0% chance of rain.\\n\\nFor today, Thursday, July 17, 2025, light rain is expected with a 25% chance of precipitation. Temperatures will range between 84°F (29°C) and 91°F (33°C), and humidity will be around 79%. The current time in Hong Kong is 12:20 PM.\\n\\nLooking ahead, light rain, scattered thunderstorms, and rain are forecast for the upcoming days, with varying probabilities of precipitation and temperatures.'}], 'role': <Role.agent: 'agent'>}], 'id': '9542e38e-3655-4b36-ba5e-d041b7bd45cf', 'kind': 'task', 'metadata': {'adk_app_name': 'search_agent', 'adk_user_id': 'A2A_USER_417907d8-3090-4c8a-9587-bac61b6fc07a', 'adk_session_id': '417907d8-3090-4c8a-9587-bac61b6fc07a', 'adk_invocation_id': 'e-e001fa7f-85e6-4a53-bb2a-b8c179607a88', 'adk_author': 'simple_search_agent', 'adk_grounding_metadata': {'groundingChunks': [{'web': {'domain': 'google.com', 'title': 'Weather information for query: weather in Hong Kong', 'uri': 'https://www.google.com/search?q=weather+in+Hong+Kong'}}, {'web': {'title': 'Current time information in Hong Kong, HK.', 'uri': 'https://www.google.com/search?q=time+in+Hong+Kong,+HK'}}, {'web': {'domain': 'metoffice.gov.uk', 'title': 'metoffice.gov.uk', 'uri': 'https://vertexaisearch.cloud.google.com/grounding-api-redirect/AUZIYQGiHV8usWLwPWurGTP1f3w-yK4RnRHFNaNUG57rp6-K_ilrn79dRhieLd9hFx4yI66BCI79_FgvN7VYVpyw0Kcl1duyHURwEae2uIYwRit8WC5sj_2u9ZnsDPluIOiRRyT50GJ9MAXyBuGsveJRZw=='}}, {'web': {'domain': 'accuweather.com', 'title': 'accuweather.com', 'uri': 'https://vertexaisearch.cloud.google.com/grounding-api-redirect/AUZIYQFzsmClb97FJfdSHCtdINfE9VrvMFcpMhYFz5Y-PBod0A4RFHdu87xrRfuEXQmQiYF3MaDOKuvn-4LImT8TeN180RH6U7hnMGijJDKOUzEtAa3TdmAFRsUwEPktqXIX_7UFBLFo4MHWVWP9YY8O63MIXbBIhx7yk5PezS2m7KsQpLdyihU54Aw='}}, {'web': {'domain': 'timeanddate.com', 'title': 'timeanddate.com', 'uri': 'https://vertexaisearch.cloud.google.com/grounding-api-redirect/AUZIYQGfWqWXx2wq5bOAzaA5SY-sR2fMlNvcm88_BDpxNy8fY_FI47uhRy09dfQqUgGM77XDoNyBpBaQZwyNTZskQGSrsu6hunKF40vgPSSutMjVUbP3kxcteG_oh2ZYOsq5glVfKyxo4lggKzaNwxw_YQ6or9KDnaXX'}}, {'web': {'domain': 'ventusky.com', 'title': 'ventusky.com', 'uri': 'https://vertexaisearch.cloud.google.com/grounding-api-redirect/AUZIYQHcNJ9znT6vSUg6e8NcTto8VRGnHQJL8DAhR5JA6YMwxEQAtob5gbWkOWHIfA_frBMi6-ZTFDuF6eAuLtooYNBM9bRo2p3X9u-0_dSKv3Q3IbNqhQXNefou8zoxf4U='}}, {'web': {'domain': 'wmo.int', 'title': 'wmo.int', 'uri': 'https://vertexaisearch.cloud.google.com/grounding-api-redirect/AUZIYQEkg5SXy6L5eaX56bjihI6aaJNPwejQOcM-WMjI3DHr40A4WKbDne3mYtyBeybxYH-3MO3zWSuX1qRcXAb0OZw0YEAQE5OBafRSsF2SS4Gld7st8Ffs_Zsg3TWJCMKEEj3oANrBYslRuRchM8lM'}}], 'groundingSupports': [{'groundingChunkIndices': [0], 'segment': {'endIndex': 172, 'startIndex': 111, 'text': 'The humidity is around 70%, and there is a 0% chance of rain.'}}, {'groundingChunkIndices': [0], 'segment': {'endIndex': 366, 'startIndex': 269, 'text': 'Temperatures will range between 84°F (29°C) and 91°F (33°C), and humidity will be around 79%.'}}, {'groundingChunkIndices': [1], 'segment': {'endIndex': 409, 'startIndex': 367, 'text': 'The current time in Hong Kong is 12:20 PM.'}}, {'groundingChunkIndices': [0, 2, 3, 4, 5, 6], 'segment': {'endIndex': 569, 'startIndex': 411, 'text': 'Looking ahead, light rain, scattered thunderstorms, and rain are forecast for the upcoming days, with varying probabilities of precipitation and temperatures.'}}], 'retrievalMetadata': {}, 'searchEntryPoint': {'renderedContent': '<style>\\n.container {\\n  align-items: center;\\n  border-radius: 8px;\\n  display: flex;\\n  font-family: Google Sans, Roboto, sans-serif;\\n  font-size: 14px;\\n  line-height: 20px;\\n  padding: 8px 12px;\\n}\\n.chip {\\n  display: inline-block;\\n  border: solid 1px;\\n  border-radius: 16px;\\n  min-width: 14px;\\n  padding: 5px 16px;\\n  text-align: center;\\n  user-select: none;\\n  margin: 0 8px;\\n  -webkit-tap-highlight-color: transparent;\\n}\\n.carousel {\\n  overflow: auto;\\n  scrollbar-width: none;\\n  white-space: nowrap;\\n  margin-right: -12px;\\n}\\n.headline {\\n  display: flex;\\n  margin-right: 4px;\\n}\\n.gradient-container {\\n  position: relative;\\n}\\n.gradient {\\n  position: absolute;\\n  transform: translate(3px, -9px);\\n  height: 36px;\\n  width: 9px;\\n}\\n@media (prefers-color-scheme: light) {\\n  .container {\\n    background-color: #fafafa;\\n    box-shadow: 0 0 0 1px #0000000f;\\n  }\\n  .headline-label {\\n    color: #1f1f1f;\\n  }\\n  .chip {\\n    background-color: #ffffff;\\n    border-color: #d2d2d2;\\n    color: #5e5e5e;\\n    text-decoration: none;\\n  }\\n  .chip:hover {\\n    background-color: #f2f2f2;\\n  }\\n  .chip:focus {\\n    background-color: #f2f2f2;\\n  }\\n  .chip:active {\\n    background-color: #d8d8d8;\\n    border-color: #b6b6b6;\\n  }\\n  .logo-dark {\\n    display: none;\\n  }\\n  .gradient {\\n    background: linear-gradient(90deg, #fafafa 15%, #fafafa00 100%);\\n  }\\n}\\n@media (prefers-color-scheme: dark) {\\n  .container {\\n    background-color: #1f1f1f;\\n    box-shadow: 0 0 0 1px #ffffff26;\\n  }\\n  .headline-label {\\n    color: #fff;\\n  }\\n  .chip {\\n    background-color: #2c2c2c;\\n    border-color: #3c4043;\\n    color: #fff;\\n    text-decoration: none;\\n  }\\n  .chip:hover {\\n    background-color: #353536;\\n  }\\n  .chip:focus {\\n    background-color: #353536;\\n  }\\n  .chip:active {\\n    background-color: #464849;\\n    border-color: #53575b;\\n  }\\n  .logo-light {\\n    display: none;\\n  }\\n  .gradient {\\n    background: linear-gradient(90deg, #1f1f1f 15%, #1f1f1f00 100%);\\n  }\\n}\\n</style>\\n<div class=\"container\">\\n  <div class=\"headline\">\\n    <svg class=\"logo-light\" width=\"18\" height=\"18\" viewBox=\"9 9 35 35\" fill=\"none\" xmlns=\"http://www.w3.org/2000/svg\">\\n      <path fill-rule=\"evenodd\" clip-rule=\"evenodd\" d=\"M42.8622 27.0064C42.8622 25.7839 42.7525 24.6084 42.5487 23.4799H26.3109V30.1568H35.5897C35.1821 32.3041 33.9596 34.1222 32.1258 35.3448V39.6864H37.7213C40.9814 36.677 42.8622 32.2571 42.8622 27.0064V27.0064Z\" fill=\"#4285F4\"/>\\n      <path fill-rule=\"evenodd\" clip-rule=\"evenodd\" d=\"M26.3109 43.8555C30.9659 43.8555 34.8687 42.3195 37.7213 39.6863L32.1258 35.3447C30.5898 36.3792 28.6306 37.0061 26.3109 37.0061C21.8282 37.0061 18.0195 33.9811 16.6559 29.906H10.9194V34.3573C13.7563 39.9841 19.5712 43.8555 26.3109 43.8555V43.8555Z\" fill=\"#34A853\"/>\\n      <path fill-rule=\"evenodd\" clip-rule=\"evenodd\" d=\"M16.6559 29.8904C16.3111 28.8559 16.1074 27.7588 16.1074 26.6146C16.1074 25.4704 16.3111 24.3733 16.6559 23.3388V18.8875H10.9194C9.74388 21.2072 9.06992 23.8247 9.06992 26.6146C9.06992 29.4045 9.74388 32.022 10.9194 34.3417L15.3864 30.8621L16.6559 29.8904V29.8904Z\" fill=\"#FBBC05\"/>\\n      <path fill-rule=\"evenodd\" clip-rule=\"evenodd\" d=\"M26.3109 16.2386C28.85 16.2386 31.107 17.1164 32.9095 18.8091L37.8466 13.8719C34.853 11.082 30.9659 9.3736 26.3109 9.3736C19.5712 9.3736 13.7563 13.245 10.9194 18.8875L16.6559 23.3388C18.0195 19.2636 21.8282 16.2386 26.3109 16.2386V16.2386Z\" fill=\"#EA4335\"/>\\n    </svg>\\n    <svg class=\"logo-dark\" width=\"18\" height=\"18\" viewBox=\"0 0 48 48\" xmlns=\"http://www.w3.org/2000/svg\">\\n      <circle cx=\"24\" cy=\"23\" fill=\"#FFF\" r=\"22\"/>\\n      <path d=\"M33.76 34.26c2.75-2.56 4.49-6.37 4.49-11.26 0-.89-.08-1.84-.29-3H24.01v5.99h8.03c-.4 2.02-1.5 3.56-3.07 4.56v.75l3.91 2.97h.88z\" fill=\"#4285F4\"/>\\n      <path d=\"M15.58 25.77A8.845 8.845 0 0 0 24 31.86c1.92 0 3.62-.46 4.97-1.31l4.79 3.71C31.14 36.7 27.65 38 24 38c-5.93 0-11.01-3.4-13.45-8.36l.17-1.01 4.06-2.85h.8z\" fill=\"#34A853\"/>\\n      <path d=\"M15.59 20.21a8.864 8.864 0 0 0 0 5.58l-5.03 3.86c-.98-2-1.53-4.25-1.53-6.64 0-2.39.55-4.64 1.53-6.64l1-.22 3.81 2.98.22 1.08z\" fill=\"#FBBC05\"/>\\n      <path d=\"M24 14.14c2.11 0 4.02.75 5.52 1.98l4.36-4.36C31.22 9.43 27.81 8 24 8c-5.93 0-11.01 3.4-13.45 8.36l5.03 3.85A8.86 8.86 0 0 1 24 14.14z\" fill=\"#EA4335\"/>\\n    </svg>\\n    <div class=\"gradient-container\"><div class=\"gradient\"></div></div>\\n  </div>\\n  <div class=\"carousel\">\\n    <a class=\"chip\" href=\"https://vertexaisearch.cloud.google.com/grounding-api-redirect/AUZIYQHHp08WRzjPeoSJ64D_Yjhp2qawf9eJcMd8Hc2R8DojFJOUNVahmLrqyIYVLCr-jxznzPlhFic0MIamDU4wIUcbP7stK1OI3J0tzsMsIUxYbFBjW6g9i3lrwZ7LX8VT_qCToIhzo9JlZPon1d0oPDg1QaI4HNvum6Gq36aCBm2I4sO-iFcPiQhe_lays9IUbmegtLyBEEhT\">weather in Hong Kong</a>\\n  </div>\\n</div>\\n'}, 'webSearchQueries': ['weather in Hong Kong']}, 'adk_usage_metadata': {'candidatesTokenCount': 165, 'candidatesTokensDetails': [{'modality': 'TEXT', 'tokenCount': 165}], 'promptTokenCount': 131, 'promptTokensDetails': [{'modality': 'TEXT', 'tokenCount': 131}], 'thoughtsTokenCount': 288, 'toolUsePromptTokenCount': 47, 'totalTokenCount': 584, 'trafficType': 'ON_DEMAND'}}, 'status': {'message': {'kind': 'message', 'messageId': '4757f01a-2c88-4a5e-9f3d-525f468e0f4c', 'parts': [{'kind': 'text', 'text': 'The weather in Hong Kong is currently cloudy with a temperature of 90°F (32°C), feeling like 105°F (41°C). The humidity is around 70%, and there is a 0% chance of rain.\\n\\nFor today, Thursday, July 17, 2025, light rain is expected with a 25% chance of precipitation. Temperatures will range between 84°F (29°C) and 91°F (33°C), and humidity will be around 79%. The current time in Hong Kong is 12:20 PM.\\n\\nLooking ahead, light rain, scattered thunderstorms, and rain are forecast for the upcoming days, with varying probabilities of precipitation and temperatures.'}], 'role': <Role.agent: 'agent'>}, 'state': <TaskState.completed: 'completed'>, 'timestamp': '2025-07-17T04:20:38.426609+00:00'}}}}, usage_metadata=None, invocation_id='e-b9934942-95d1-4402-9fbf-6f4fcea2edb2', author='remote_search_agent', actions=EventActions(skip_summarization=None, state_delta={}, artifact_delta={}, transfer_to_agent=None, escalate=None, requested_auth_configs={}), long_running_tool_ids=None, branch=None, id='e8b848e1-3566-483b-a9c7-f39c1701a919', timestamp=1752726038.443116)"
            ]
          },
          "metadata": {},
          "execution_count": 51
        }
      ]
    },
    {
      "cell_type": "code",
      "source": [
        "events = call_agent('what is the weather in Beijing?')\n",
        "pprint_events(events)"
      ],
      "metadata": {
        "colab": {
          "base_uri": "https://localhost:8080/"
        },
        "id": "UHQWBRn-kWZN",
        "outputId": "dd46f08e-fa3b-49aa-d28e-632c468b158e"
      },
      "execution_count": 53,
      "outputs": [
        {
          "output_type": "stream",
          "name": "stderr",
          "text": [
            "/usr/local/lib/python3.11/dist-packages/google/auth/_default.py:76: UserWarning: Your application has authenticated using end user credentials from Google Cloud SDK without a quota project. You might receive a \"quota exceeded\" or \"API not enabled\" error. See the following page for troubleshooting: https://cloud.google.com/docs/authentication/adc-troubleshooting/user-creds. \n",
            "  warnings.warn(_CLOUD_SDK_CREDENTIALS_WARNING)\n",
            "WARNING:google_genai.types:Warning: there are non-text parts in the response: ['function_call'], returning concatenated text result from text parts. Check the full candidates.content.parts accessor to get the full model response.\n",
            "/usr/local/lib/python3.11/dist-packages/google/adk/agents/remote_a2a_agent.py:346: UserWarning: [EXPERIMENTAL] convert_genai_part_to_a2a_part: This feature is experimental and may change or be removed in future versions without notice. It may introduce breaking changes at any time.\n",
            "  converted_part = convert_genai_part_to_a2a_part(part)\n"
          ]
        },
        {
          "output_type": "stream",
          "name": "stdout",
          "text": [
            "+++ inside the function call...\n",
            "function, [args]:  transfer_to_agent, {'agent_name': 'remote_search_agent'}\n",
            "--- inside the function call response...\n",
            "Function Name: transfer_to_agent\n",
            "Function Results [null]\n",
            ">>> inside final response...\n",
            "Final Response (8199.903 ms):\n",
            "The current weather in Beijing, China is mostly sunny with a temperature of 93 °F (34 °C), feeling like 95 °F (35 °C). The humidity is around 34%, and there is a 0% chance of rain. The local time in Beijing is 12:21 PM.\n",
            "\n",
            "The forecast for today, Thursday, July 17, 2025, is sunny during the day and clear with periodic clouds at night, with temperatures ranging from 76 °F (24 °C) to 97 °F (36 °C).\n",
            "\n",
            "Here's a brief look at the upcoming days:\n",
            "*   **Friday, July 18:** Mostly sunny during the day and partly cloudy at night, with a 10% chance of rain at night. Temperatures will be between 83 °F (28 °C) and 98 °F (37 °C).\n",
            "*   **Saturday, July 19:** Light rain during the day and night, with a 35% chance of rain during the day and 40% at night. Temperatures are expected to be between 75 °F (24 °C) and 92 °F (33 °C).\n",
            "*   **Sunday, July 20:** Light rain during the day and partly cloudy at night, with a 40% chance of rain during the day. Temperatures will range from 74 °F (23 °C) to 80 °F (27 °C).\n",
            "-----------------------------\n",
            "Total elapsed time: 8199.903\n"
          ]
        },
        {
          "output_type": "stream",
          "name": "stderr",
          "text": [
            "/usr/local/lib/python3.11/dist-packages/google/adk/a2a/converters/event_converter.py:279: UserWarning: [EXPERIMENTAL] convert_a2a_message_to_event: This feature is experimental and may change or be removed in future versions without notice. It may introduce breaking changes at any time.\n",
            "  return convert_a2a_message_to_event(message, author, invocation_context)\n",
            "/usr/local/lib/python3.11/dist-packages/google/adk/a2a/converters/event_converter.py:345: UserWarning: [EXPERIMENTAL] convert_a2a_part_to_genai_part: This feature is experimental and may change or be removed in future versions without notice. It may introduce breaking changes at any time.\n",
            "  part = convert_a2a_part_to_genai_part(a2a_part)\n"
          ]
        }
      ]
    },
    {
      "cell_type": "code",
      "source": [
        "events = call_agent('is HK MOA open today?')\n",
        "pprint_events(events)"
      ],
      "metadata": {
        "colab": {
          "base_uri": "https://localhost:8080/"
        },
        "id": "dzO0SJyik1IO",
        "outputId": "b1881a3e-c65a-4c45-fbe3-e032927c57d0"
      },
      "execution_count": 55,
      "outputs": [
        {
          "output_type": "stream",
          "name": "stderr",
          "text": [
            "/usr/local/lib/python3.11/dist-packages/google/auth/_default.py:76: UserWarning: Your application has authenticated using end user credentials from Google Cloud SDK without a quota project. You might receive a \"quota exceeded\" or \"API not enabled\" error. See the following page for troubleshooting: https://cloud.google.com/docs/authentication/adc-troubleshooting/user-creds. \n",
            "  warnings.warn(_CLOUD_SDK_CREDENTIALS_WARNING)\n",
            "WARNING:google_genai.types:Warning: there are non-text parts in the response: ['function_call'], returning concatenated text result from text parts. Check the full candidates.content.parts accessor to get the full model response.\n",
            "/usr/local/lib/python3.11/dist-packages/google/adk/agents/remote_a2a_agent.py:346: UserWarning: [EXPERIMENTAL] convert_genai_part_to_a2a_part: This feature is experimental and may change or be removed in future versions without notice. It may introduce breaking changes at any time.\n",
            "  converted_part = convert_genai_part_to_a2a_part(part)\n"
          ]
        },
        {
          "output_type": "stream",
          "name": "stdout",
          "text": [
            "+++ inside the function call...\n",
            "function, [args]:  transfer_to_agent, {'agent_name': 'remote_search_agent'}\n",
            "--- inside the function call response...\n",
            "Function Name: transfer_to_agent\n",
            "Function Results [null]\n",
            ">>> inside final response...\n",
            "Final Response (8727.631 ms):\n",
            "The Hong Kong Museum of Art (HKMoA) is closed on Thursdays, with the exception of public holidays. Since today is Thursday, July 17, 2025, and there is no indication of it being a public holiday, the HKMoA is likely closed.\n",
            "\n",
            "The museum's general operating hours are:\n",
            "*   **Mondays to Wednesdays, and Fridays:** 10:00 AM – 6:00 PM\n",
            "*   **Saturdays, Sundays, and public holidays:** 10:00 AM – 9:00 PM\n",
            "*   **Christmas Eve and Lunar New Year's Eve:** 10:00 AM – 5:00 PM\n",
            "*   **Closed on:** Thursdays (except public holidays) and the first two days of the Lunar New Year.\n",
            "-----------------------------\n",
            "Total elapsed time: 8727.631\n"
          ]
        },
        {
          "output_type": "stream",
          "name": "stderr",
          "text": [
            "/usr/local/lib/python3.11/dist-packages/google/adk/a2a/converters/event_converter.py:279: UserWarning: [EXPERIMENTAL] convert_a2a_message_to_event: This feature is experimental and may change or be removed in future versions without notice. It may introduce breaking changes at any time.\n",
            "  return convert_a2a_message_to_event(message, author, invocation_context)\n",
            "/usr/local/lib/python3.11/dist-packages/google/adk/a2a/converters/event_converter.py:345: UserWarning: [EXPERIMENTAL] convert_a2a_part_to_genai_part: This feature is experimental and may change or be removed in future versions without notice. It may introduce breaking changes at any time.\n",
            "  part = convert_a2a_part_to_genai_part(a2a_part)\n"
          ]
        }
      ]
    },
    {
      "cell_type": "code",
      "source": [
        "events = call_agent('is HK MOA open today?')\n",
        "# pprint_events(events)\n",
        "events = list(events)"
      ],
      "metadata": {
        "colab": {
          "base_uri": "https://localhost:8080/"
        },
        "id": "2OGQ59Uak-pS",
        "outputId": "6592a88a-eecf-4f32-cb98-de33d09f64ec"
      },
      "execution_count": 56,
      "outputs": [
        {
          "output_type": "stream",
          "name": "stderr",
          "text": [
            "/usr/local/lib/python3.11/dist-packages/google/auth/_default.py:76: UserWarning: Your application has authenticated using end user credentials from Google Cloud SDK without a quota project. You might receive a \"quota exceeded\" or \"API not enabled\" error. See the following page for troubleshooting: https://cloud.google.com/docs/authentication/adc-troubleshooting/user-creds. \n",
            "  warnings.warn(_CLOUD_SDK_CREDENTIALS_WARNING)\n"
          ]
        }
      ]
    },
    {
      "cell_type": "code",
      "source": [
        "len(events)"
      ],
      "metadata": {
        "colab": {
          "base_uri": "https://localhost:8080/"
        },
        "id": "UzHrKAACnZ04",
        "outputId": "d9ec1e2f-7678-47a1-931a-3071f3710c9e"
      },
      "execution_count": 57,
      "outputs": [
        {
          "output_type": "execute_result",
          "data": {
            "text/plain": [
              "1"
            ]
          },
          "metadata": {},
          "execution_count": 57
        }
      ]
    },
    {
      "cell_type": "code",
      "source": [
        "events[0]"
      ],
      "metadata": {
        "colab": {
          "base_uri": "https://localhost:8080/"
        },
        "id": "JSliCrx8narz",
        "outputId": "50aff4f5-07d4-4891-e4e6-0ef0ea917083"
      },
      "execution_count": 58,
      "outputs": [
        {
          "output_type": "execute_result",
          "data": {
            "text/plain": [
              "Event(content=Content(\n",
              "  parts=[\n",
              "    Part(\n",
              "      text=\"Based on the information provided by the remote search agent, the Hong Kong Museum of Art (HKMoA) is closed today, Thursday, July 17, 2025, as Thursdays are their regular closing day (unless it's a public holiday, which is not indicated).\"\n",
              "    ),\n",
              "  ],\n",
              "  role='model'\n",
              "), grounding_metadata=None, partial=None, turn_complete=None, error_code=None, error_message=None, interrupted=None, custom_metadata=None, usage_metadata=GenerateContentResponseUsageMetadata(\n",
              "  candidates_token_count=60,\n",
              "  candidates_tokens_details=[\n",
              "    ModalityTokenCount(\n",
              "      modality=<MediaModality.TEXT: 'TEXT'>,\n",
              "      token_count=60\n",
              "    ),\n",
              "  ],\n",
              "  prompt_token_count=1089,\n",
              "  prompt_tokens_details=[\n",
              "    ModalityTokenCount(\n",
              "      modality=<MediaModality.TEXT: 'TEXT'>,\n",
              "      token_count=1089\n",
              "    ),\n",
              "  ],\n",
              "  thoughts_token_count=139,\n",
              "  total_token_count=1288,\n",
              "  traffic_type=<TrafficType.ON_DEMAND: 'ON_DEMAND'>\n",
              "), invocation_id='e-e9fd7aee-04c0-4446-8d92-e4ae8cb445a5', author='root_agent', actions=EventActions(skip_summarization=None, state_delta={}, artifact_delta={}, transfer_to_agent=None, escalate=None, requested_auth_configs={}), long_running_tool_ids=None, branch=None, id='18a2940f-3620-4afa-97d8-e13350b3ff7e', timestamp=1752726085.150065)"
            ]
          },
          "metadata": {},
          "execution_count": 58
        }
      ]
    },
    {
      "cell_type": "code",
      "source": [
        "events = call_agent('is Disney HK open today?')\n",
        "# pprint_events(events)\n",
        "events = list(events)"
      ],
      "metadata": {
        "colab": {
          "base_uri": "https://localhost:8080/"
        },
        "id": "g2llstRAngWA",
        "outputId": "22cce397-a638-4ddd-9e3a-09c11a0be607"
      },
      "execution_count": 59,
      "outputs": [
        {
          "output_type": "stream",
          "name": "stderr",
          "text": [
            "/usr/local/lib/python3.11/dist-packages/google/auth/_default.py:76: UserWarning: Your application has authenticated using end user credentials from Google Cloud SDK without a quota project. You might receive a \"quota exceeded\" or \"API not enabled\" error. See the following page for troubleshooting: https://cloud.google.com/docs/authentication/adc-troubleshooting/user-creds. \n",
            "  warnings.warn(_CLOUD_SDK_CREDENTIALS_WARNING)\n",
            "WARNING:google_genai.types:Warning: there are non-text parts in the response: ['function_call'], returning concatenated text result from text parts. Check the full candidates.content.parts accessor to get the full model response.\n",
            "/usr/local/lib/python3.11/dist-packages/google/adk/agents/remote_a2a_agent.py:346: UserWarning: [EXPERIMENTAL] convert_genai_part_to_a2a_part: This feature is experimental and may change or be removed in future versions without notice. It may introduce breaking changes at any time.\n",
            "  converted_part = convert_genai_part_to_a2a_part(part)\n",
            "ERROR:google_adk.google.adk.agents.remote_a2a_agent:A2A request failed: Event loop is closed\n"
          ]
        }
      ]
    },
    {
      "cell_type": "code",
      "source": [
        "len(events)"
      ],
      "metadata": {
        "colab": {
          "base_uri": "https://localhost:8080/"
        },
        "id": "w_Ldq-GTnldM",
        "outputId": "4961c0ad-8e96-4fd6-d8cd-a1830900c1e3"
      },
      "execution_count": 60,
      "outputs": [
        {
          "output_type": "execute_result",
          "data": {
            "text/plain": [
              "3"
            ]
          },
          "metadata": {},
          "execution_count": 60
        }
      ]
    },
    {
      "cell_type": "code",
      "source": [
        "events[0]"
      ],
      "metadata": {
        "colab": {
          "base_uri": "https://localhost:8080/"
        },
        "id": "CdWPjA-SnmE7",
        "outputId": "90243d2c-e9bb-4632-9a9a-4011ee3e0b0d"
      },
      "execution_count": 61,
      "outputs": [
        {
          "output_type": "execute_result",
          "data": {
            "text/plain": [
              "Event(content=Content(\n",
              "  parts=[\n",
              "    Part(\n",
              "      function_call=FunctionCall(\n",
              "        args={\n",
              "          'agent_name': 'remote_search_agent'\n",
              "        },\n",
              "        id='adk-e179c83a-c6fb-4458-8158-bcba438a9d8d',\n",
              "        name='transfer_to_agent'\n",
              "      )\n",
              "    ),\n",
              "  ],\n",
              "  role='model'\n",
              "), grounding_metadata=None, partial=None, turn_complete=None, error_code=None, error_message=None, interrupted=None, custom_metadata=None, usage_metadata=GenerateContentResponseUsageMetadata(\n",
              "  candidates_token_count=13,\n",
              "  candidates_tokens_details=[\n",
              "    ModalityTokenCount(\n",
              "      modality=<MediaModality.TEXT: 'TEXT'>,\n",
              "      token_count=13\n",
              "    ),\n",
              "  ],\n",
              "  prompt_token_count=1155,\n",
              "  prompt_tokens_details=[\n",
              "    ModalityTokenCount(\n",
              "      modality=<MediaModality.TEXT: 'TEXT'>,\n",
              "      token_count=1155\n",
              "    ),\n",
              "  ],\n",
              "  thoughts_token_count=80,\n",
              "  total_token_count=1248,\n",
              "  traffic_type=<TrafficType.ON_DEMAND: 'ON_DEMAND'>\n",
              "), invocation_id='e-36882f6b-0413-4f68-b070-2c2a62fcc5df', author='root_agent', actions=EventActions(skip_summarization=None, state_delta={}, artifact_delta={}, transfer_to_agent=None, escalate=None, requested_auth_configs={}), long_running_tool_ids=set(), branch=None, id='1d5e34f1-a623-425a-ad05-ad71e14ee2ff', timestamp=1752726132.784463)"
            ]
          },
          "metadata": {},
          "execution_count": 61
        }
      ]
    },
    {
      "cell_type": "code",
      "source": [
        "events[1]"
      ],
      "metadata": {
        "colab": {
          "base_uri": "https://localhost:8080/"
        },
        "id": "6q_TT5MDnoyq",
        "outputId": "15c613ec-8cc0-469a-aaf8-40dda78992a3"
      },
      "execution_count": 62,
      "outputs": [
        {
          "output_type": "execute_result",
          "data": {
            "text/plain": [
              "Event(content=Content(\n",
              "  parts=[\n",
              "    Part(\n",
              "      function_response=FunctionResponse(\n",
              "        id='adk-e179c83a-c6fb-4458-8158-bcba438a9d8d',\n",
              "        name='transfer_to_agent',\n",
              "        response={\n",
              "          'result': None\n",
              "        }\n",
              "      )\n",
              "    ),\n",
              "  ],\n",
              "  role='user'\n",
              "), grounding_metadata=None, partial=None, turn_complete=None, error_code=None, error_message=None, interrupted=None, custom_metadata=None, usage_metadata=None, invocation_id='e-36882f6b-0413-4f68-b070-2c2a62fcc5df', author='root_agent', actions=EventActions(skip_summarization=None, state_delta={}, artifact_delta={}, transfer_to_agent='remote_search_agent', escalate=None, requested_auth_configs={}), long_running_tool_ids=None, branch=None, id='6c374f65-9325-49d7-8bff-7654aa6ed809', timestamp=1752726135.38413)"
            ]
          },
          "metadata": {},
          "execution_count": 62
        }
      ]
    },
    {
      "cell_type": "code",
      "source": [
        "events[2]"
      ],
      "metadata": {
        "colab": {
          "base_uri": "https://localhost:8080/"
        },
        "id": "BKBAG8kwnpW3",
        "outputId": "b07c4638-8855-4ee2-a2a2-bf5b1196622d"
      },
      "execution_count": 63,
      "outputs": [
        {
          "output_type": "execute_result",
          "data": {
            "text/plain": [
              "Event(content=None, grounding_metadata=None, partial=None, turn_complete=None, error_code=None, error_message='A2A request failed: Event loop is closed', interrupted=None, custom_metadata={'a2a:request': {'id': '387e1545-2ab3-4577-822c-e1c8bf2ccb46', 'jsonrpc': '2.0', 'method': 'message/send', 'params': {'message': {'contextId': 'bea65661-2cb6-4e34-b497-8fe8c1e4bf1f', 'kind': 'message', 'messageId': '6b0deda4-26c6-4400-8c74-824a2a7f24db', 'parts': [{'kind': 'text', 'text': 'is HK MOA open today?'}, {'kind': 'text', 'text': \"[root_agent] said: Based on the information provided by the remote search agent, the Hong Kong Museum of Art (HKMoA) is closed today, Thursday, July 17, 2025, as Thursdays are their regular closing day (unless it's a public holiday, which is not indicated).\"}, {'kind': 'text', 'text': 'For context:'}, {'kind': 'text', 'text': 'is Disney HK open today?'}, {'kind': 'text', 'text': \"[root_agent] called tool `transfer_to_agent` with parameters: {'agent_name': 'remote_search_agent'}\"}, {'kind': 'text', 'text': 'For context:'}, {'kind': 'text', 'text': \"[root_agent] `transfer_to_agent` tool returned result: {'result': None}\"}, {'kind': 'text', 'text': 'For context:'}], 'role': <Role.user: 'user'>}}}, 'a2a:error': 'A2A request failed: Event loop is closed'}, usage_metadata=None, invocation_id='e-36882f6b-0413-4f68-b070-2c2a62fcc5df', author='remote_search_agent', actions=EventActions(skip_summarization=None, state_delta={}, artifact_delta={}, transfer_to_agent=None, escalate=None, requested_auth_configs={}), long_running_tool_ids=None, branch=None, id='5e108549-0664-43ea-aefe-51a7a7bdc071', timestamp=1752726135.387429)"
            ]
          },
          "metadata": {},
          "execution_count": 63
        }
      ]
    },
    {
      "cell_type": "code",
      "source": [
        "events = call_agent('is Disney HK open today?')\n",
        "# pprint_events(events)\n",
        "events = list(events)"
      ],
      "metadata": {
        "colab": {
          "base_uri": "https://localhost:8080/"
        },
        "id": "hPqmnBKTnqdp",
        "outputId": "65a8097b-8179-4afe-8b2a-56acc63dbf62"
      },
      "execution_count": 64,
      "outputs": [
        {
          "output_type": "stream",
          "name": "stderr",
          "text": [
            "/usr/local/lib/python3.11/dist-packages/google/auth/_default.py:76: UserWarning: Your application has authenticated using end user credentials from Google Cloud SDK without a quota project. You might receive a \"quota exceeded\" or \"API not enabled\" error. See the following page for troubleshooting: https://cloud.google.com/docs/authentication/adc-troubleshooting/user-creds. \n",
            "  warnings.warn(_CLOUD_SDK_CREDENTIALS_WARNING)\n",
            "WARNING:google_genai.types:Warning: there are non-text parts in the response: ['function_call'], returning concatenated text result from text parts. Check the full candidates.content.parts accessor to get the full model response.\n",
            "/usr/local/lib/python3.11/dist-packages/google/adk/agents/remote_a2a_agent.py:346: UserWarning: [EXPERIMENTAL] convert_genai_part_to_a2a_part: This feature is experimental and may change or be removed in future versions without notice. It may introduce breaking changes at any time.\n",
            "  converted_part = convert_genai_part_to_a2a_part(part)\n",
            "/usr/local/lib/python3.11/dist-packages/google/adk/a2a/converters/event_converter.py:279: UserWarning: [EXPERIMENTAL] convert_a2a_message_to_event: This feature is experimental and may change or be removed in future versions without notice. It may introduce breaking changes at any time.\n",
            "  return convert_a2a_message_to_event(message, author, invocation_context)\n",
            "/usr/local/lib/python3.11/dist-packages/google/adk/a2a/converters/event_converter.py:345: UserWarning: [EXPERIMENTAL] convert_a2a_part_to_genai_part: This feature is experimental and may change or be removed in future versions without notice. It may introduce breaking changes at any time.\n",
            "  part = convert_a2a_part_to_genai_part(a2a_part)\n"
          ]
        }
      ]
    },
    {
      "cell_type": "code",
      "source": [
        "len(events)"
      ],
      "metadata": {
        "colab": {
          "base_uri": "https://localhost:8080/"
        },
        "id": "_zg9p442o6d_",
        "outputId": "522c0a6d-74f8-4201-8375-ec5bf65bf682"
      },
      "execution_count": 65,
      "outputs": [
        {
          "output_type": "execute_result",
          "data": {
            "text/plain": [
              "3"
            ]
          },
          "metadata": {},
          "execution_count": 65
        }
      ]
    },
    {
      "cell_type": "code",
      "source": [
        "events[2]"
      ],
      "metadata": {
        "colab": {
          "base_uri": "https://localhost:8080/"
        },
        "id": "1wQ9ekcPo6-6",
        "outputId": "b9cbb0ec-9c32-40f1-805c-ce570ab71e7a"
      },
      "execution_count": 66,
      "outputs": [
        {
          "output_type": "execute_result",
          "data": {
            "text/plain": [
              "Event(content=Content(\n",
              "  parts=[\n",
              "    Part(\n",
              "      text=\"Yes, Hong Kong Disneyland is open today, Thursday, July 17, 2025. The park's operating hours are from 10:00 AM to 9:00 PM.\"\n",
              "    ),\n",
              "  ],\n",
              "  role='model'\n",
              "), grounding_metadata=None, partial=None, turn_complete=None, error_code=None, error_message=None, interrupted=None, custom_metadata={'a2a:task_id': '572e9409-27db-46b8-9fbd-1adf84917b18', 'a2a:context_id': '94e7c34b-173f-4c0b-aa19-05f0b1be5b0e', 'a2a:request': {'id': '69a83a44-bf4d-47f8-9386-bd5a146a7d74', 'jsonrpc': '2.0', 'method': 'message/send', 'params': {'message': {'kind': 'message', 'messageId': '74d61c8f-8d35-4fe6-adf1-287d01673620', 'parts': [{'kind': 'text', 'text': 'is Disney HK open today?'}, {'kind': 'text', 'text': \"[root_agent] called tool `transfer_to_agent` with parameters: {'agent_name': 'remote_search_agent'}\"}, {'kind': 'text', 'text': 'For context:'}, {'kind': 'text', 'text': \"[root_agent] `transfer_to_agent` tool returned result: {'result': None}\"}, {'kind': 'text', 'text': 'For context:'}], 'role': <Role.user: 'user'>}}}, 'a2a:response': {'id': '69a83a44-bf4d-47f8-9386-bd5a146a7d74', 'jsonrpc': '2.0', 'result': {'contextId': '94e7c34b-173f-4c0b-aa19-05f0b1be5b0e', 'history': [{'contextId': '94e7c34b-173f-4c0b-aa19-05f0b1be5b0e', 'kind': 'message', 'messageId': '74d61c8f-8d35-4fe6-adf1-287d01673620', 'parts': [{'kind': 'text', 'text': 'is Disney HK open today?'}, {'kind': 'text', 'text': \"[root_agent] called tool `transfer_to_agent` with parameters: {'agent_name': 'remote_search_agent'}\"}, {'kind': 'text', 'text': 'For context:'}, {'kind': 'text', 'text': \"[root_agent] `transfer_to_agent` tool returned result: {'result': None}\"}, {'kind': 'text', 'text': 'For context:'}], 'role': <Role.user: 'user'>, 'taskId': '572e9409-27db-46b8-9fbd-1adf84917b18'}, {'contextId': '94e7c34b-173f-4c0b-aa19-05f0b1be5b0e', 'kind': 'message', 'messageId': '74d61c8f-8d35-4fe6-adf1-287d01673620', 'parts': [{'kind': 'text', 'text': 'is Disney HK open today?'}, {'kind': 'text', 'text': \"[root_agent] called tool `transfer_to_agent` with parameters: {'agent_name': 'remote_search_agent'}\"}, {'kind': 'text', 'text': 'For context:'}, {'kind': 'text', 'text': \"[root_agent] `transfer_to_agent` tool returned result: {'result': None}\"}, {'kind': 'text', 'text': 'For context:'}], 'role': <Role.user: 'user'>, 'taskId': '572e9409-27db-46b8-9fbd-1adf84917b18'}, {'kind': 'message', 'messageId': 'c04b6624-87bc-466b-991b-21d18af0b6b1', 'parts': [{'kind': 'text', 'text': \"Yes, Hong Kong Disneyland is open today, Thursday, July 17, 2025. The park's operating hours are from 10:00 AM to 9:00 PM.\"}], 'role': <Role.agent: 'agent'>}], 'id': '572e9409-27db-46b8-9fbd-1adf84917b18', 'kind': 'task', 'metadata': {'adk_app_name': 'search_agent', 'adk_user_id': 'A2A_USER_94e7c34b-173f-4c0b-aa19-05f0b1be5b0e', 'adk_session_id': '94e7c34b-173f-4c0b-aa19-05f0b1be5b0e', 'adk_invocation_id': 'e-eabe1d31-e6dd-4acd-8ee6-6327b4e75f57', 'adk_author': 'simple_search_agent', 'adk_grounding_metadata': {'groundingChunks': [{'web': {'domain': 'hongkongdisneyland.com', 'title': 'hongkongdisneyland.com', 'uri': 'https://vertexaisearch.cloud.google.com/grounding-api-redirect/AUZIYQFAkyEpXrE3F7aR7itDWIdngI6z-1dFeupXnzvOwgCqDnDjyeUS2DNaonzyAc585TorAJh7ZERZQbBhJ93WMeqKKBFBM8ZY3-Vndws-w_yoBC2EdVuWVolC9-l0Yaw5Xwi_PPx8mxQnANyB5ikoRrgPWg=='}}, {'web': {'domain': 'hongkongdisneyland.com', 'title': 'hongkongdisneyland.com', 'uri': 'https://vertexaisearch.cloud.google.com/grounding-api-redirect/AUZIYQFThzq7oT_Nqv3G1wbD-4863Xoe8gdRhzQLzlhCCOiSOryGBo7E8UKCfh0eupziHEC4icKz9uA6DncYSLkTQ_zOuiTN8TbInxWu2qAVecNc2KhbRJsEwYzBT-gWfQ-t2klg8Niill8x_PimRwE='}}, {'web': {'domain': 'thrill-data.com', 'title': 'thrill-data.com', 'uri': 'https://vertexaisearch.cloud.google.com/grounding-api-redirect/AUZIYQHsnadi8BbWWjKs1fukG4P5AKIAgp_SsuydaV4DR5RVUHlsf4fQaNMd1LKDi95GnKYEEW-iqUbjkgF8mq6RkKFHoA6UYGcMigTjSxIBv-7yL-y6l_SdjFGexKSvMJb-EYrDN5MVBWlVjX5HQA1nFIq7KjyZzcgG'}}, {'web': {'domain': 'queue-times.com', 'title': 'queue-times.com', 'uri': 'https://vertexaisearch.cloud.google.com/grounding-api-redirect/AUZIYQHLmXQqq0cEYjpY1WP_UtFyvZpGrlGfkWlvOhnXAqYpQegdP16uic6xqLuQxL3aiXcUFON49u5vHDaPechDwI2E7QBwmGrCmOJjv2eebI4sP1z0ZEkxLPX3jLE_kqbc_Z8YajAR'}}], 'groundingSupports': [{'groundingChunkIndices': [0, 1, 2, 3], 'segment': {'endIndex': 122, 'startIndex': 66, 'text': \"The park's operating hours are from 10:00 AM to 9:00 PM.\"}}], 'retrievalMetadata': {}, 'searchEntryPoint': {'renderedContent': '<style>\\n.container {\\n  align-items: center;\\n  border-radius: 8px;\\n  display: flex;\\n  font-family: Google Sans, Roboto, sans-serif;\\n  font-size: 14px;\\n  line-height: 20px;\\n  padding: 8px 12px;\\n}\\n.chip {\\n  display: inline-block;\\n  border: solid 1px;\\n  border-radius: 16px;\\n  min-width: 14px;\\n  padding: 5px 16px;\\n  text-align: center;\\n  user-select: none;\\n  margin: 0 8px;\\n  -webkit-tap-highlight-color: transparent;\\n}\\n.carousel {\\n  overflow: auto;\\n  scrollbar-width: none;\\n  white-space: nowrap;\\n  margin-right: -12px;\\n}\\n.headline {\\n  display: flex;\\n  margin-right: 4px;\\n}\\n.gradient-container {\\n  position: relative;\\n}\\n.gradient {\\n  position: absolute;\\n  transform: translate(3px, -9px);\\n  height: 36px;\\n  width: 9px;\\n}\\n@media (prefers-color-scheme: light) {\\n  .container {\\n    background-color: #fafafa;\\n    box-shadow: 0 0 0 1px #0000000f;\\n  }\\n  .headline-label {\\n    color: #1f1f1f;\\n  }\\n  .chip {\\n    background-color: #ffffff;\\n    border-color: #d2d2d2;\\n    color: #5e5e5e;\\n    text-decoration: none;\\n  }\\n  .chip:hover {\\n    background-color: #f2f2f2;\\n  }\\n  .chip:focus {\\n    background-color: #f2f2f2;\\n  }\\n  .chip:active {\\n    background-color: #d8d8d8;\\n    border-color: #b6b6b6;\\n  }\\n  .logo-dark {\\n    display: none;\\n  }\\n  .gradient {\\n    background: linear-gradient(90deg, #fafafa 15%, #fafafa00 100%);\\n  }\\n}\\n@media (prefers-color-scheme: dark) {\\n  .container {\\n    background-color: #1f1f1f;\\n    box-shadow: 0 0 0 1px #ffffff26;\\n  }\\n  .headline-label {\\n    color: #fff;\\n  }\\n  .chip {\\n    background-color: #2c2c2c;\\n    border-color: #3c4043;\\n    color: #fff;\\n    text-decoration: none;\\n  }\\n  .chip:hover {\\n    background-color: #353536;\\n  }\\n  .chip:focus {\\n    background-color: #353536;\\n  }\\n  .chip:active {\\n    background-color: #464849;\\n    border-color: #53575b;\\n  }\\n  .logo-light {\\n    display: none;\\n  }\\n  .gradient {\\n    background: linear-gradient(90deg, #1f1f1f 15%, #1f1f1f00 100%);\\n  }\\n}\\n</style>\\n<div class=\"container\">\\n  <div class=\"headline\">\\n    <svg class=\"logo-light\" width=\"18\" height=\"18\" viewBox=\"9 9 35 35\" fill=\"none\" xmlns=\"http://www.w3.org/2000/svg\">\\n      <path fill-rule=\"evenodd\" clip-rule=\"evenodd\" d=\"M42.8622 27.0064C42.8622 25.7839 42.7525 24.6084 42.5487 23.4799H26.3109V30.1568H35.5897C35.1821 32.3041 33.9596 34.1222 32.1258 35.3448V39.6864H37.7213C40.9814 36.677 42.8622 32.2571 42.8622 27.0064V27.0064Z\" fill=\"#4285F4\"/>\\n      <path fill-rule=\"evenodd\" clip-rule=\"evenodd\" d=\"M26.3109 43.8555C30.9659 43.8555 34.8687 42.3195 37.7213 39.6863L32.1258 35.3447C30.5898 36.3792 28.6306 37.0061 26.3109 37.0061C21.8282 37.0061 18.0195 33.9811 16.6559 29.906H10.9194V34.3573C13.7563 39.9841 19.5712 43.8555 26.3109 43.8555V43.8555Z\" fill=\"#34A853\"/>\\n      <path fill-rule=\"evenodd\" clip-rule=\"evenodd\" d=\"M16.6559 29.8904C16.3111 28.8559 16.1074 27.7588 16.1074 26.6146C16.1074 25.4704 16.3111 24.3733 16.6559 23.3388V18.8875H10.9194C9.74388 21.2072 9.06992 23.8247 9.06992 26.6146C9.06992 29.4045 9.74388 32.022 10.9194 34.3417L15.3864 30.8621L16.6559 29.8904V29.8904Z\" fill=\"#FBBC05\"/>\\n      <path fill-rule=\"evenodd\" clip-rule=\"evenodd\" d=\"M26.3109 16.2386C28.85 16.2386 31.107 17.1164 32.9095 18.8091L37.8466 13.8719C34.853 11.082 30.9659 9.3736 26.3109 9.3736C19.5712 9.3736 13.7563 13.245 10.9194 18.8875L16.6559 23.3388C18.0195 19.2636 21.8282 16.2386 26.3109 16.2386V16.2386Z\" fill=\"#EA4335\"/>\\n    </svg>\\n    <svg class=\"logo-dark\" width=\"18\" height=\"18\" viewBox=\"0 0 48 48\" xmlns=\"http://www.w3.org/2000/svg\">\\n      <circle cx=\"24\" cy=\"23\" fill=\"#FFF\" r=\"22\"/>\\n      <path d=\"M33.76 34.26c2.75-2.56 4.49-6.37 4.49-11.26 0-.89-.08-1.84-.29-3H24.01v5.99h8.03c-.4 2.02-1.5 3.56-3.07 4.56v.75l3.91 2.97h.88z\" fill=\"#4285F4\"/>\\n      <path d=\"M15.58 25.77A8.845 8.845 0 0 0 24 31.86c1.92 0 3.62-.46 4.97-1.31l4.79 3.71C31.14 36.7 27.65 38 24 38c-5.93 0-11.01-3.4-13.45-8.36l.17-1.01 4.06-2.85h.8z\" fill=\"#34A853\"/>\\n      <path d=\"M15.59 20.21a8.864 8.864 0 0 0 0 5.58l-5.03 3.86c-.98-2-1.53-4.25-1.53-6.64 0-2.39.55-4.64 1.53-6.64l1-.22 3.81 2.98.22 1.08z\" fill=\"#FBBC05\"/>\\n      <path d=\"M24 14.14c2.11 0 4.02.75 5.52 1.98l4.36-4.36C31.22 9.43 27.81 8 24 8c-5.93 0-11.01 3.4-13.45 8.36l5.03 3.85A8.86 8.86 0 0 1 24 14.14z\" fill=\"#EA4335\"/>\\n    </svg>\\n    <div class=\"gradient-container\"><div class=\"gradient\"></div></div>\\n  </div>\\n  <div class=\"carousel\">\\n    <a class=\"chip\" href=\"https://vertexaisearch.cloud.google.com/grounding-api-redirect/AUZIYQFbx20yhxScIUat8FXk-8tOWO_VYgAqXi9i8GTjzu4LmC3nrYskYVRdJ_-zuX7q7SIwM_VzbvIA29yEcwiBRAwIXj7qYTUzTFii8xpm7TOC9AO_j3CCcj0Dv4e9568hbo3bJwnm_NEgCD0oo6We-lKxaweoVJMNXCJn4eZvGDtqc9uLP1n_Md66EPrmWe-S7x642VGybu23guYDy-CQh8QSj5eZN517Kcg=\">Is Hong Kong Disneyland open today?</a>\\n    <a class=\"chip\" href=\"https://vertexaisearch.cloud.google.com/grounding-api-redirect/AUZIYQHZqCLNd3fjSS8TDUKweyR5ssg-D3VOW3MDTAJ_JSUX8hBxLaGKfEUEcDJSllMf7KboHY3Wq7SQ_-6TE6VxhZoecF85YscUHXWpAH-R-_r0827joRvWYeBJpbNdn8FNjE7B6PAvqy-8taBvwUqmRdKQ1gC_0YXePsyVcgpcQEm1r5NcMCTMHEKExK-wvorKl7f0PUiK4cg-_NkY504OaacjpZR26NaK6GE407Q=\">Hong Kong Disneyland opening hours today</a>\\n    <a class=\"chip\" href=\"https://vertexaisearch.cloud.google.com/grounding-api-redirect/AUZIYQGHhrFFnIJ3MwlpbyHbaSagJgzcuLDL-G3JQOb2gZz9dVvzCc8re6OZQNsyH1KugpFg0P-caVFtmvUKiXyN4-kur4FlBrQd_3c-SDmd1PoEmXxbSkaXVu7mvfi4HBbq4fpqrOtEwGE1Bngv-c7MTQkgll9RzTibaJe0-2kDWGXZIH2f855rpfWVa1BrXLzv-nme_SOuZl1iJ_SHcuONp_46GB6j95rD1TNvbd6XEHmD6CNDfAkixg==\">Hong Kong Disneyland operating status July 17 2025</a>\\n  </div>\\n</div>\\n'}, 'webSearchQueries': ['Hong Kong Disneyland operating status July 17 2025', 'Hong Kong Disneyland opening hours today', 'Is Hong Kong Disneyland open today?']}, 'adk_usage_metadata': {'candidatesTokenCount': 45, 'candidatesTokensDetails': [{'modality': 'TEXT', 'tokenCount': 45}], 'promptTokenCount': 109, 'promptTokensDetails': [{'modality': 'TEXT', 'tokenCount': 109}], 'thoughtsTokenCount': 664, 'toolUsePromptTokenCount': 80, 'totalTokenCount': 818, 'trafficType': 'ON_DEMAND'}}, 'status': {'message': {'kind': 'message', 'messageId': 'c04b6624-87bc-466b-991b-21d18af0b6b1', 'parts': [{'kind': 'text', 'text': \"Yes, Hong Kong Disneyland is open today, Thursday, July 17, 2025. The park's operating hours are from 10:00 AM to 9:00 PM.\"}], 'role': <Role.agent: 'agent'>}, 'state': <TaskState.completed: 'completed'>, 'timestamp': '2025-07-17T04:28:11.781992+00:00'}}}}, usage_metadata=None, invocation_id='e-c0b957f6-ee5c-471c-b75d-f718353cef79', author='remote_search_agent', actions=EventActions(skip_summarization=None, state_delta={}, artifact_delta={}, transfer_to_agent=None, escalate=None, requested_auth_configs={}), long_running_tool_ids=None, branch=None, id='aefe231e-f899-43a7-99a8-917fd6cf474a', timestamp=1752726491.792678)"
            ]
          },
          "metadata": {},
          "execution_count": 66
        }
      ]
    },
    {
      "cell_type": "code",
      "source": [],
      "metadata": {
        "id": "Rj4A-J45o76H"
      },
      "execution_count": null,
      "outputs": []
    }
  ]
}