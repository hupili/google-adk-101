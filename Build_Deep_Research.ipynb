{
  "nbformat": 4,
  "nbformat_minor": 0,
  "metadata": {
    "colab": {
      "provenance": [],
      "toc_visible": true
    },
    "kernelspec": {
      "name": "python3",
      "display_name": "Python 3"
    },
    "language_info": {
      "name": "python"
    }
  },
  "cells": [
    {
      "cell_type": "markdown",
      "source": [
        "# Build Deep Research\n",
        "\n",
        "This notebook walks through a naive implementation of DeepResearch like behaviour using ADK.\n"
      ],
      "metadata": {
        "id": "aLj1-M-tbXkB"
      }
    },
    {
      "cell_type": "markdown",
      "source": [
        "<table align=\"left\">\n",
        "  <td style=\"text-align: center\">\n",
        "    <a href=\"https://colab.sandbox.google.com/github/hupili/google-adk-101/blob/main/Build_Deep_Research.ipynb\">\n",
        "      <img width=\"32px\" src=\"https://www.gstatic.com/pantheon/images/bigquery/welcome_page/colab-logo.svg\" alt=\"Google Colaboratory logo\"><br> Run in Colab\n",
        "    </a>\n",
        "  </td>\n",
        "  <td style=\"text-align: center\">\n",
        "    <a href=\"https://console.cloud.google.com/vertex-ai/colab/import/https:%2F%2Fraw.githubusercontent.com%2Fhupili%2Fgoogle-adk-101%2Fmain%2FBuild_Deep_Research.ipynb\">\n",
        "      <img width=\"32px\" src=\"https://www.gstatic.com/pantheon/images/bigquery/welcome_page/colab-enterprise-logo.png\" alt=\"Google Cloud Colab Enterprise logo\"><br> Run in Colab Enterprise\n",
        "    </a>\n",
        "  </td>    \n",
        "  <td style=\"text-align: center\">\n",
        "    <a href=\"https://github.com/hupili/google-adk-101/blob/main/Build_Deep_Research.ipynb\">\n",
        "      <img width=\"32px\" src=\"https://www.gstatic.com/monospace/240802/git_host_github_mask.svg\" alt=\"GitHub logo\"><br> View on GitHub\n",
        "    </a>\n",
        "  </td>\n",
        "  <td style=\"text-align: center\">\n",
        "    <a href=\"https://console.cloud.google.com/vertex-ai/workbench/deploy-notebook?download_url=https://raw.githubusercontent.com/hupili/google-adk-101/blob/main/Build_Deep_Research.ipynb\">\n",
        "      <img width=\"32px\" src=\"https://www.gstatic.com/cloud/images/navigation/vertex-ai.svg\" alt=\"Vertex AI logo\"><br> Open in Vertex AI Workbench\n",
        "    </a>\n",
        "  </td>\n",
        "</table>"
      ],
      "metadata": {
        "id": "eZxgo50CA7q4"
      }
    },
    {
      "cell_type": "markdown",
      "source": [
        "| | |\n",
        "|-|-|\n",
        "| Author(s) | [Pili Hu](https://github.com/hupili)|\n",
        "| Reviewers(s) | Nil |\n",
        "| Last updated | 2025-06-08 |\n",
        "| google-adk | 1.1.1 |\n",
        "| vertexai | 1.93.1 |"
      ],
      "metadata": {
        "id": "9OTR-0NgbYpg"
      }
    },
    {
      "cell_type": "markdown",
      "source": [
        "## Environment"
      ],
      "metadata": {
        "id": "FmmSp3Lsbhww"
      }
    },
    {
      "cell_type": "code",
      "execution_count": 1,
      "metadata": {
        "id": "W8sX8hfAbPnU"
      },
      "outputs": [],
      "source": [
        "import os\n",
        "\n",
        "# API_KEY = '' # @param {type:\"string\"}\n",
        "# os.environ[\"GOOGLE_GENAI_USE_VERTEXAI\"] = \"FALSE\" # Use Vertex AI API\n",
        "# os.environ[\"GOOGLE_API_KEY\"] = API_KEY\n",
        "\n",
        "PROJECT_ID = \"hupili-genai-bb\"  # @param {type:\"string\"}\n",
        "if not PROJECT_ID:\n",
        "    PROJECT_ID = str(os.environ.get(\"GOOGLE_CLOUD_PROJECT\"))\n",
        "\n",
        "LOCATION = \"us-central1\" # @param {type:\"string\"}\n",
        "\n",
        "STAGING_BUCKET = 'gs://agent_engine_deploy_staging' # @param {type:\"string\"}\n",
        "\n",
        "os.environ[\"GOOGLE_CLOUD_PROJECT\"] = PROJECT_ID\n",
        "os.environ[\"GOOGLE_CLOUD_LOCATION\"] = LOCATION\n",
        "os.environ[\"GOOGLE_GENAI_USE_VERTEXAI\"] = \"TRUE\" # Use Vertex AI API\n",
        "\n",
        "# [your-project-id]"
      ]
    },
    {
      "cell_type": "code",
      "source": [
        "import vertexai\n",
        "\n",
        "vertexai.init(\n",
        "    project=PROJECT_ID,\n",
        "    location=LOCATION,\n",
        "    staging_bucket=STAGING_BUCKET,\n",
        ")"
      ],
      "metadata": {
        "id": "iFko8Uqrf_JV"
      },
      "execution_count": 2,
      "outputs": []
    },
    {
      "cell_type": "code",
      "source": [
        "from google.colab import auth\n",
        "auth.authenticate_user()"
      ],
      "metadata": {
        "id": "-ryI15UDbrfT"
      },
      "execution_count": 3,
      "outputs": []
    },
    {
      "cell_type": "code",
      "source": [
        "!pip install deprecated\n",
        "!pip install google-adk==1.1.1"
      ],
      "metadata": {
        "colab": {
          "base_uri": "https://localhost:8080/"
        },
        "id": "cSLs5ifodzSB",
        "outputId": "feadc5cc-fd9e-45f2-feec-3226b172e1ed"
      },
      "execution_count": 7,
      "outputs": [
        {
          "output_type": "stream",
          "name": "stdout",
          "text": [
            "Collecting deprecated\n",
            "  Downloading Deprecated-1.2.18-py2.py3-none-any.whl.metadata (5.7 kB)\n",
            "Requirement already satisfied: wrapt<2,>=1.10 in /usr/local/lib/python3.11/dist-packages (from deprecated) (1.17.2)\n",
            "Downloading Deprecated-1.2.18-py2.py3-none-any.whl (10.0 kB)\n",
            "Installing collected packages: deprecated\n",
            "Successfully installed deprecated-1.2.18\n",
            "Requirement already satisfied: google-adk==1.1.1 in /usr/local/lib/python3.11/dist-packages (1.1.1)\n",
            "Requirement already satisfied: authlib>=1.5.1 in /usr/local/lib/python3.11/dist-packages (from google-adk==1.1.1) (1.6.0)\n",
            "Requirement already satisfied: click>=8.1.8 in /usr/local/lib/python3.11/dist-packages (from google-adk==1.1.1) (8.2.1)\n",
            "Requirement already satisfied: fastapi>=0.115.0 in /usr/local/lib/python3.11/dist-packages (from google-adk==1.1.1) (0.115.12)\n",
            "Requirement already satisfied: google-api-python-client>=2.157.0 in /usr/local/lib/python3.11/dist-packages (from google-adk==1.1.1) (2.171.0)\n",
            "Requirement already satisfied: google-cloud-aiplatform>=1.87.0 in /usr/local/lib/python3.11/dist-packages (from google-adk==1.1.1) (1.95.1)\n",
            "Requirement already satisfied: google-cloud-secret-manager>=2.22.0 in /usr/local/lib/python3.11/dist-packages (from google-adk==1.1.1) (2.24.0)\n",
            "Requirement already satisfied: google-cloud-speech>=2.30.0 in /usr/local/lib/python3.11/dist-packages (from google-adk==1.1.1) (2.32.0)\n",
            "Requirement already satisfied: google-cloud-storage<3.0.0,>=2.18.0 in /usr/local/lib/python3.11/dist-packages (from google-adk==1.1.1) (2.19.0)\n",
            "Requirement already satisfied: google-genai>=1.14.0 in /usr/local/lib/python3.11/dist-packages (from google-adk==1.1.1) (1.18.0)\n",
            "Requirement already satisfied: graphviz>=0.20.2 in /usr/local/lib/python3.11/dist-packages (from google-adk==1.1.1) (0.20.3)\n",
            "Requirement already satisfied: mcp>=1.5.0 in /usr/local/lib/python3.11/dist-packages (from google-adk==1.1.1) (1.9.3)\n",
            "Requirement already satisfied: opentelemetry-api>=1.31.0 in /usr/local/lib/python3.11/dist-packages (from google-adk==1.1.1) (1.34.0)\n",
            "Requirement already satisfied: opentelemetry-exporter-gcp-trace>=1.9.0 in /usr/local/lib/python3.11/dist-packages (from google-adk==1.1.1) (1.9.0)\n",
            "Requirement already satisfied: opentelemetry-sdk>=1.31.0 in /usr/local/lib/python3.11/dist-packages (from google-adk==1.1.1) (1.34.0)\n",
            "Requirement already satisfied: pydantic<3.0.0,>=2.0 in /usr/local/lib/python3.11/dist-packages (from google-adk==1.1.1) (2.11.5)\n",
            "Requirement already satisfied: python-dotenv>=1.0.0 in /usr/local/lib/python3.11/dist-packages (from google-adk==1.1.1) (1.1.0)\n",
            "Requirement already satisfied: PyYAML>=6.0.2 in /usr/local/lib/python3.11/dist-packages (from google-adk==1.1.1) (6.0.2)\n",
            "Requirement already satisfied: sqlalchemy>=2.0 in /usr/local/lib/python3.11/dist-packages (from google-adk==1.1.1) (2.0.41)\n",
            "Requirement already satisfied: tzlocal>=5.3 in /usr/local/lib/python3.11/dist-packages (from google-adk==1.1.1) (5.3.1)\n",
            "Requirement already satisfied: uvicorn>=0.34.0 in /usr/local/lib/python3.11/dist-packages (from google-adk==1.1.1) (0.34.3)\n",
            "Requirement already satisfied: cryptography in /usr/local/lib/python3.11/dist-packages (from authlib>=1.5.1->google-adk==1.1.1) (43.0.3)\n",
            "Requirement already satisfied: starlette<0.47.0,>=0.40.0 in /usr/local/lib/python3.11/dist-packages (from fastapi>=0.115.0->google-adk==1.1.1) (0.46.2)\n",
            "Requirement already satisfied: typing-extensions>=4.8.0 in /usr/local/lib/python3.11/dist-packages (from fastapi>=0.115.0->google-adk==1.1.1) (4.14.0)\n",
            "Requirement already satisfied: httplib2<1.0.0,>=0.19.0 in /usr/local/lib/python3.11/dist-packages (from google-api-python-client>=2.157.0->google-adk==1.1.1) (0.22.0)\n",
            "Requirement already satisfied: google-auth!=2.24.0,!=2.25.0,<3.0.0,>=1.32.0 in /usr/local/lib/python3.11/dist-packages (from google-api-python-client>=2.157.0->google-adk==1.1.1) (2.38.0)\n",
            "Requirement already satisfied: google-auth-httplib2<1.0.0,>=0.2.0 in /usr/local/lib/python3.11/dist-packages (from google-api-python-client>=2.157.0->google-adk==1.1.1) (0.2.0)\n",
            "Requirement already satisfied: google-api-core!=2.0.*,!=2.1.*,!=2.2.*,!=2.3.0,<3.0.0,>=1.31.5 in /usr/local/lib/python3.11/dist-packages (from google-api-python-client>=2.157.0->google-adk==1.1.1) (2.25.0)\n",
            "Requirement already satisfied: uritemplate<5,>=3.0.1 in /usr/local/lib/python3.11/dist-packages (from google-api-python-client>=2.157.0->google-adk==1.1.1) (4.2.0)\n",
            "Requirement already satisfied: proto-plus<2.0.0,>=1.22.3 in /usr/local/lib/python3.11/dist-packages (from google-cloud-aiplatform>=1.87.0->google-adk==1.1.1) (1.26.1)\n",
            "Requirement already satisfied: protobuf!=4.21.0,!=4.21.1,!=4.21.2,!=4.21.3,!=4.21.4,!=4.21.5,<7.0.0,>=3.20.2 in /usr/local/lib/python3.11/dist-packages (from google-cloud-aiplatform>=1.87.0->google-adk==1.1.1) (5.29.5)\n",
            "Requirement already satisfied: packaging>=14.3 in /usr/local/lib/python3.11/dist-packages (from google-cloud-aiplatform>=1.87.0->google-adk==1.1.1) (24.2)\n",
            "Requirement already satisfied: google-cloud-bigquery!=3.20.0,<4.0.0,>=1.15.0 in /usr/local/lib/python3.11/dist-packages (from google-cloud-aiplatform>=1.87.0->google-adk==1.1.1) (3.34.0)\n",
            "Requirement already satisfied: google-cloud-resource-manager<3.0.0,>=1.3.3 in /usr/local/lib/python3.11/dist-packages (from google-cloud-aiplatform>=1.87.0->google-adk==1.1.1) (1.14.2)\n",
            "Requirement already satisfied: shapely<3.0.0 in /usr/local/lib/python3.11/dist-packages (from google-cloud-aiplatform>=1.87.0->google-adk==1.1.1) (2.1.1)\n",
            "Requirement already satisfied: docstring-parser<1 in /usr/local/lib/python3.11/dist-packages (from google-cloud-aiplatform>=1.87.0->google-adk==1.1.1) (0.16)\n",
            "Requirement already satisfied: grpc-google-iam-v1<1.0.0,>=0.14.0 in /usr/local/lib/python3.11/dist-packages (from google-cloud-secret-manager>=2.22.0->google-adk==1.1.1) (0.14.2)\n",
            "Requirement already satisfied: google-cloud-core<3.0dev,>=2.3.0 in /usr/local/lib/python3.11/dist-packages (from google-cloud-storage<3.0.0,>=2.18.0->google-adk==1.1.1) (2.4.3)\n",
            "Requirement already satisfied: google-resumable-media>=2.7.2 in /usr/local/lib/python3.11/dist-packages (from google-cloud-storage<3.0.0,>=2.18.0->google-adk==1.1.1) (2.7.2)\n",
            "Requirement already satisfied: requests<3.0.0dev,>=2.18.0 in /usr/local/lib/python3.11/dist-packages (from google-cloud-storage<3.0.0,>=2.18.0->google-adk==1.1.1) (2.32.3)\n",
            "Requirement already satisfied: google-crc32c<2.0dev,>=1.0 in /usr/local/lib/python3.11/dist-packages (from google-cloud-storage<3.0.0,>=2.18.0->google-adk==1.1.1) (1.7.1)\n",
            "Requirement already satisfied: anyio<5.0.0,>=4.8.0 in /usr/local/lib/python3.11/dist-packages (from google-genai>=1.14.0->google-adk==1.1.1) (4.9.0)\n",
            "Requirement already satisfied: httpx<1.0.0,>=0.28.1 in /usr/local/lib/python3.11/dist-packages (from google-genai>=1.14.0->google-adk==1.1.1) (0.28.1)\n",
            "Requirement already satisfied: websockets<15.1.0,>=13.0.0 in /usr/local/lib/python3.11/dist-packages (from google-genai>=1.14.0->google-adk==1.1.1) (15.0.1)\n",
            "Requirement already satisfied: httpx-sse>=0.4 in /usr/local/lib/python3.11/dist-packages (from mcp>=1.5.0->google-adk==1.1.1) (0.4.0)\n",
            "Requirement already satisfied: pydantic-settings>=2.5.2 in /usr/local/lib/python3.11/dist-packages (from mcp>=1.5.0->google-adk==1.1.1) (2.9.1)\n",
            "Requirement already satisfied: python-multipart>=0.0.9 in /usr/local/lib/python3.11/dist-packages (from mcp>=1.5.0->google-adk==1.1.1) (0.0.20)\n",
            "Requirement already satisfied: sse-starlette>=1.6.1 in /usr/local/lib/python3.11/dist-packages (from mcp>=1.5.0->google-adk==1.1.1) (2.3.6)\n",
            "Requirement already satisfied: importlib-metadata<8.8.0,>=6.0 in /usr/local/lib/python3.11/dist-packages (from opentelemetry-api>=1.31.0->google-adk==1.1.1) (8.7.0)\n",
            "Requirement already satisfied: google-cloud-trace~=1.1 in /usr/local/lib/python3.11/dist-packages (from opentelemetry-exporter-gcp-trace>=1.9.0->google-adk==1.1.1) (1.16.1)\n",
            "Requirement already satisfied: opentelemetry-resourcedetector-gcp==1.*,>=1.5.0dev0 in /usr/local/lib/python3.11/dist-packages (from opentelemetry-exporter-gcp-trace>=1.9.0->google-adk==1.1.1) (1.9.0a0)\n",
            "Requirement already satisfied: opentelemetry-semantic-conventions==0.55b0 in /usr/local/lib/python3.11/dist-packages (from opentelemetry-sdk>=1.31.0->google-adk==1.1.1) (0.55b0)\n",
            "Requirement already satisfied: annotated-types>=0.6.0 in /usr/local/lib/python3.11/dist-packages (from pydantic<3.0.0,>=2.0->google-adk==1.1.1) (0.7.0)\n",
            "Requirement already satisfied: pydantic-core==2.33.2 in /usr/local/lib/python3.11/dist-packages (from pydantic<3.0.0,>=2.0->google-adk==1.1.1) (2.33.2)\n",
            "Requirement already satisfied: typing-inspection>=0.4.0 in /usr/local/lib/python3.11/dist-packages (from pydantic<3.0.0,>=2.0->google-adk==1.1.1) (0.4.1)\n",
            "Requirement already satisfied: greenlet>=1 in /usr/local/lib/python3.11/dist-packages (from sqlalchemy>=2.0->google-adk==1.1.1) (3.2.2)\n",
            "Requirement already satisfied: h11>=0.8 in /usr/local/lib/python3.11/dist-packages (from uvicorn>=0.34.0->google-adk==1.1.1) (0.16.0)\n",
            "Requirement already satisfied: idna>=2.8 in /usr/local/lib/python3.11/dist-packages (from anyio<5.0.0,>=4.8.0->google-genai>=1.14.0->google-adk==1.1.1) (3.10)\n",
            "Requirement already satisfied: sniffio>=1.1 in /usr/local/lib/python3.11/dist-packages (from anyio<5.0.0,>=4.8.0->google-genai>=1.14.0->google-adk==1.1.1) (1.3.1)\n",
            "Requirement already satisfied: googleapis-common-protos<2.0.0,>=1.56.2 in /usr/local/lib/python3.11/dist-packages (from google-api-core!=2.0.*,!=2.1.*,!=2.2.*,!=2.3.0,<3.0.0,>=1.31.5->google-api-python-client>=2.157.0->google-adk==1.1.1) (1.70.0)\n",
            "Requirement already satisfied: grpcio<2.0.0,>=1.33.2 in /usr/local/lib/python3.11/dist-packages (from google-api-core[grpc]!=2.0.*,!=2.1.*,!=2.2.*,!=2.3.*,!=2.4.*,!=2.5.*,!=2.6.*,!=2.7.*,<3.0.0,>=1.34.1->google-cloud-aiplatform>=1.87.0->google-adk==1.1.1) (1.72.1)\n",
            "Requirement already satisfied: grpcio-status<2.0.0,>=1.33.2 in /usr/local/lib/python3.11/dist-packages (from google-api-core[grpc]!=2.0.*,!=2.1.*,!=2.2.*,!=2.3.*,!=2.4.*,!=2.5.*,!=2.6.*,!=2.7.*,<3.0.0,>=1.34.1->google-cloud-aiplatform>=1.87.0->google-adk==1.1.1) (1.71.0)\n",
            "Requirement already satisfied: cachetools<6.0,>=2.0.0 in /usr/local/lib/python3.11/dist-packages (from google-auth!=2.24.0,!=2.25.0,<3.0.0,>=1.32.0->google-api-python-client>=2.157.0->google-adk==1.1.1) (5.5.2)\n",
            "Requirement already satisfied: pyasn1-modules>=0.2.1 in /usr/local/lib/python3.11/dist-packages (from google-auth!=2.24.0,!=2.25.0,<3.0.0,>=1.32.0->google-api-python-client>=2.157.0->google-adk==1.1.1) (0.4.2)\n",
            "Requirement already satisfied: rsa<5,>=3.1.4 in /usr/local/lib/python3.11/dist-packages (from google-auth!=2.24.0,!=2.25.0,<3.0.0,>=1.32.0->google-api-python-client>=2.157.0->google-adk==1.1.1) (4.9.1)\n",
            "Requirement already satisfied: python-dateutil<3.0.0,>=2.8.2 in /usr/local/lib/python3.11/dist-packages (from google-cloud-bigquery!=3.20.0,<4.0.0,>=1.15.0->google-cloud-aiplatform>=1.87.0->google-adk==1.1.1) (2.9.0.post0)\n",
            "Requirement already satisfied: pyparsing!=3.0.0,!=3.0.1,!=3.0.2,!=3.0.3,<4,>=2.4.2 in /usr/local/lib/python3.11/dist-packages (from httplib2<1.0.0,>=0.19.0->google-api-python-client>=2.157.0->google-adk==1.1.1) (3.2.3)\n",
            "Requirement already satisfied: certifi in /usr/local/lib/python3.11/dist-packages (from httpx<1.0.0,>=0.28.1->google-genai>=1.14.0->google-adk==1.1.1) (2025.4.26)\n",
            "Requirement already satisfied: httpcore==1.* in /usr/local/lib/python3.11/dist-packages (from httpx<1.0.0,>=0.28.1->google-genai>=1.14.0->google-adk==1.1.1) (1.0.9)\n",
            "Requirement already satisfied: zipp>=3.20 in /usr/local/lib/python3.11/dist-packages (from importlib-metadata<8.8.0,>=6.0->opentelemetry-api>=1.31.0->google-adk==1.1.1) (3.22.0)\n",
            "Requirement already satisfied: charset-normalizer<4,>=2 in /usr/local/lib/python3.11/dist-packages (from requests<3.0.0dev,>=2.18.0->google-cloud-storage<3.0.0,>=2.18.0->google-adk==1.1.1) (3.4.2)\n",
            "Requirement already satisfied: urllib3<3,>=1.21.1 in /usr/local/lib/python3.11/dist-packages (from requests<3.0.0dev,>=2.18.0->google-cloud-storage<3.0.0,>=2.18.0->google-adk==1.1.1) (2.4.0)\n",
            "Requirement already satisfied: numpy>=1.21 in /usr/local/lib/python3.11/dist-packages (from shapely<3.0.0->google-cloud-aiplatform>=1.87.0->google-adk==1.1.1) (2.0.2)\n",
            "Requirement already satisfied: cffi>=1.12 in /usr/local/lib/python3.11/dist-packages (from cryptography->authlib>=1.5.1->google-adk==1.1.1) (1.17.1)\n",
            "Requirement already satisfied: pycparser in /usr/local/lib/python3.11/dist-packages (from cffi>=1.12->cryptography->authlib>=1.5.1->google-adk==1.1.1) (2.22)\n",
            "Requirement already satisfied: pyasn1<0.7.0,>=0.6.1 in /usr/local/lib/python3.11/dist-packages (from pyasn1-modules>=0.2.1->google-auth!=2.24.0,!=2.25.0,<3.0.0,>=1.32.0->google-api-python-client>=2.157.0->google-adk==1.1.1) (0.6.1)\n",
            "Requirement already satisfied: six>=1.5 in /usr/local/lib/python3.11/dist-packages (from python-dateutil<3.0.0,>=2.8.2->google-cloud-bigquery!=3.20.0,<4.0.0,>=1.15.0->google-cloud-aiplatform>=1.87.0->google-adk==1.1.1) (1.17.0)\n"
          ]
        }
      ]
    },
    {
      "cell_type": "code",
      "source": [
        "from google import adk"
      ],
      "metadata": {
        "id": "eo0P3ZdG1CeI"
      },
      "execution_count": 11,
      "outputs": []
    },
    {
      "cell_type": "code",
      "source": [
        "adk.__version__"
      ],
      "metadata": {
        "colab": {
          "base_uri": "https://localhost:8080/",
          "height": 35
        },
        "id": "4lCNTOYN1EOU",
        "outputId": "5f591cd4-3543-4832-c1e2-712e040c3dc5"
      },
      "execution_count": 12,
      "outputs": [
        {
          "output_type": "execute_result",
          "data": {
            "text/plain": [
              "'1.1.1'"
            ],
            "application/vnd.google.colaboratory.intrinsic+json": {
              "type": "string"
            }
          },
          "metadata": {},
          "execution_count": 12
        }
      ]
    },
    {
      "cell_type": "markdown",
      "source": [
        "## Util functions"
      ],
      "metadata": {
        "id": "vvaXZRWTbvL1"
      }
    },
    {
      "cell_type": "code",
      "source": [
        "from vertexai import agent_engines\n",
        "from vertexai.preview import reasoning_engines"
      ],
      "metadata": {
        "id": "d-jKZ541bWc-"
      },
      "execution_count": 13,
      "outputs": []
    },
    {
      "cell_type": "code",
      "source": [
        "def delete(resource_id: str) -> None:\n",
        "    remote_agent = agent_engines.get(resource_id)\n",
        "    remote_agent.delete(force=True)\n",
        "    print(f\"Deleted remote agent: {resource_id}\")\n",
        "\n",
        "def list_agents() -> None:\n",
        "    remote_agents = agent_engines.list()\n",
        "    TEMPLATE = '''\n",
        "{agent.name} (\"{agent.display_name}\")\n",
        "- Create time: {agent.create_time}\n",
        "- Update time: {agent.update_time}\n",
        "'''\n",
        "    remote_agents_string = '\\n'.join(TEMPLATE.format(agent=agent) for agent in remote_agents)\n",
        "    print(f\"All remote agents:\\n{remote_agents_string}\")"
      ],
      "metadata": {
        "id": "m8ld-1qdcap_"
      },
      "execution_count": 14,
      "outputs": []
    },
    {
      "cell_type": "code",
      "source": [
        "list_agents()"
      ],
      "metadata": {
        "colab": {
          "base_uri": "https://localhost:8080/"
        },
        "id": "qrtl_BLFb7e3",
        "outputId": "e03b3c1a-4caf-4469-b206-c69aec9bef61"
      },
      "execution_count": 15,
      "outputs": [
        {
          "output_type": "stream",
          "name": "stdout",
          "text": [
            "All remote agents:\n",
            "\n",
            "8348169577238102016 (\"\")\n",
            "- Create time: 2025-06-03 06:09:08.152391+00:00\n",
            "- Update time: 2025-06-03 06:13:15.300308+00:00\n",
            "\n",
            "\n",
            "5147799092037943296 (\"\")\n",
            "- Create time: 2025-06-02 14:14:28.600149+00:00\n",
            "- Update time: 2025-06-02 14:18:55.955685+00:00\n",
            "\n",
            "\n",
            "2164164338904989696 (\"\")\n",
            "- Create time: 2025-06-02 11:57:47.050939+00:00\n",
            "- Update time: 2025-06-02 12:01:18.059991+00:00\n",
            "\n",
            "\n",
            "6087608854902734848 (\"DICE_AGENT\")\n",
            "- Create time: 2025-04-25 08:19:20.817490+00:00\n",
            "- Update time: 2025-04-25 08:22:05.936293+00:00\n",
            "\n",
            "\n",
            "7916070303615156224 (\"llm_auditor\")\n",
            "- Create time: 2025-04-25 07:13:25.339138+00:00\n",
            "- Update time: 2025-04-25 07:18:12.898631+00:00\n",
            "\n",
            "\n",
            "5307078744484085760 (\"llm_auditor\")\n",
            "- Create time: 2025-04-09 08:22:36.179879+00:00\n",
            "- Update time: 2025-04-09 08:25:42.734584+00:00\n",
            "\n",
            "\n",
            "8402318325882814464 (\"\")\n",
            "- Create time: 2025-03-28 08:42:23.121480+00:00\n",
            "- Update time: 2025-03-28 08:46:29.629436+00:00\n",
            "\n",
            "\n",
            "66410502317670400 (\"my-awesome-agent\")\n",
            "- Create time: 2025-03-07 01:22:05.930759+00:00\n",
            "- Update time: 2025-03-07 01:33:02.201959+00:00\n",
            "\n"
          ]
        }
      ]
    },
    {
      "cell_type": "code",
      "source": [
        "def call_remote_agent_engine_app(app, user_id, session_id, query):\n",
        "  response_text = ''\n",
        "  for event in app.stream_query(\n",
        "      user_id=user_id,\n",
        "      session_id=session_id,\n",
        "      message=query,\n",
        "  ):\n",
        "      print(event)\n",
        "      all_parts = event.get('content', {}).get('parts', [])\n",
        "      for part in all_parts:\n",
        "          response_text += (part.get('text', ''))\n",
        "  return response_text"
      ],
      "metadata": {
        "id": "4geFcqXucWM9"
      },
      "execution_count": 16,
      "outputs": []
    },
    {
      "cell_type": "markdown",
      "source": [
        "## Simple Search Agent"
      ],
      "metadata": {
        "id": "x_Hrsr83ddXj"
      }
    },
    {
      "cell_type": "code",
      "source": [
        "from google.adk.tools import google_search\n",
        "from google.adk import Agent\n",
        "from google.adk.agents import Agent, LlmAgent\n",
        "from google.genai import types\n",
        "from pydantic import BaseModel\n",
        "from google.genai import types\n",
        "from google.adk.sessions import InMemorySessionService\n",
        "from google.adk.runners import Runner\n",
        "\n",
        "MODEL = \"gemini-2.0-flash\"\n",
        "APP_NAME = \"simple_search_example\"\n",
        "USER_ID = \"user12345\"\n",
        "SESSION_ID = \"session12345\"\n",
        "AGENT_NAME = \"simple_search_agent\"\n",
        "\n",
        "# Agent\n",
        "simple_search_agent = Agent(\n",
        "    model=MODEL,\n",
        "    name=\"simple_search_agent\",\n",
        "    description=\"Agent to answer questions using Google Search.\",\n",
        "    instruction=\"I can answer your questions by searching the internet. Just ask me anything!\",\n",
        "    generate_content_config=types.GenerateContentConfig(\n",
        "        max_output_tokens=8000,\n",
        "    ),\n",
        "    tools=[google_search],\n",
        ")\n",
        "\n",
        "app = reasoning_engines.AdkApp(\n",
        "    agent=simple_search_agent,\n",
        "    enable_tracing=True,\n",
        ")"
      ],
      "metadata": {
        "id": "FvY2sMgbdfjE"
      },
      "execution_count": 17,
      "outputs": []
    },
    {
      "cell_type": "code",
      "source": [
        "session = app.create_session(user_id=USER_ID)\n",
        "session"
      ],
      "metadata": {
        "id": "KPNpVCSZewe7",
        "outputId": "277b586a-2063-4552-f92a-554d11f0a679",
        "colab": {
          "base_uri": "https://localhost:8080/"
        }
      },
      "execution_count": 18,
      "outputs": [
        {
          "output_type": "execute_result",
          "data": {
            "text/plain": [
              "Session(id='d762d110-5a21-48e2-b393-0818e3f2913a', app_name='default-app-name', user_id='user12345', state={}, events=[], last_update_time=1749356030.1446936)"
            ]
          },
          "metadata": {},
          "execution_count": 18
        }
      ]
    },
    {
      "cell_type": "code",
      "source": [
        "call_remote_agent_engine_app(app, USER_ID, session.id, \"what is the weather in New York\")"
      ],
      "metadata": {
        "id": "q9bKIFYgd9N_",
        "outputId": "befb9f9c-0cf0-404a-c93f-bdfcc70d5538",
        "colab": {
          "base_uri": "https://localhost:8080/",
          "height": 211
        }
      },
      "execution_count": 19,
      "outputs": [
        {
          "output_type": "stream",
          "name": "stdout",
          "text": [
            "{'content': {'parts': [{'text': 'The weather in New York, NY is currently cloudy with a temperature of 68°F (20°C), but it feels like 76°F (24°C) due to 84% humidity. There is a 0% chance of rain.\\n\\nThe forecast for the next 10 days is:\\n\\n*   **Sunday:** Scattered showers during the day and light rain at night (20% chance of rain during the day and 45% at night). Temperatures between 60°F (16°C) and 73°F (23°C).\\n*   **Monday:** Light rain during the day and cloudy at night (20% chance of rain). Temperatures between 62°F (17°C) and 68°F (20°C).\\n*   **Tuesday:** Light rain during the day and clear at night (25% chance of rain during the day and 10% at night). Temperatures between 64°F (18°C) and 76°F (24°C).\\n*   **Wednesday:** Sunny during the day and clear at night (5% chance of rain during the day). Temperatures between 68°F (20°C) and 83°F (28°C).\\n*   **Thursday:** Partly cloudy (20% chance of rain during the day and 10% at night). Temperatures between 69°F (21°C) and 87°F (31°C).\\n*   **Friday:** Mostly cloudy (10% chance of rain). Temperatures between 67°F (19°C) and 84°F (29°C).\\n*   **Saturday:** Light rain during the day and rain showers at night (45% chance of rain during the day and 50% at night). Temperatures between 65°F (18°C) and 74°F (23°C).\\n*   **Sunday:** Mostly cloudy (50% chance of rain during the day and 10% at night). Temperatures between 63°F (17°C) and 73°F (23°C).\\n*   **Monday:** Mostly cloudy (20% chance of rain during the day and 10% at night). Temperatures between 63°F (17°C) and 73°F (23°C).\\n*   **Tuesday:** Rain during the day and rain showers at night (55% chance of rain). Temperatures between 65°F (18°C) and 74°F (23°C).'}], 'role': 'model'}, 'grounding_metadata': {'grounding_chunks': [{'web': {'domain': 'google.com', 'title': 'Weather information for locality: New York, administrative_area: NY', 'uri': 'https://www.google.com/search?q=weather+in+New York,+NY'}}, {'web': {'domain': 'bbc.com', 'title': 'bbc.com', 'uri': 'https://vertexaisearch.cloud.google.com/grounding-api-redirect/AbF9wXGlJyur_FfogQGhunqlMyDlpeiX7aOElibv9zOEe83m7pd7kKgCexKCV1_F__hibk6jtCmBRQqYOcr1X0mWOqcQVRRTqjmJOESaKxMdkpb4Lbg9fOskAcYBaNjuh8Gf'}}, {'web': {'domain': 'accuweather.com', 'title': 'accuweather.com', 'uri': 'https://vertexaisearch.cloud.google.com/grounding-api-redirect/AbF9wXGrzakO3ATq4yLtFalcdquGyfp_fOHZRn634slEBMb6cmB2o96Go3W5iSFdfrikMfuJm455H2wXK2hlyjRZ_11TXVbNm9ull4o-CmRzf11lezxN16hatpsaJAF_p76lLqIvC4fp8s5oCtKqOC_EXytTOyKTvfgC8bOGoD-TZBfQs8xL5Q=='}}], 'grounding_supports': [{'confidence_scores': [0.87609994], 'grounding_chunk_indices': [0], 'segment': {'end_index': 137, 'text': 'The weather in New York, NY is currently cloudy with a temperature of 68°F (20°C), but it feels like 76°F (24°C) due to 84% humidity.'}}, {'confidence_scores': [0.8328827, 0.9461317], 'grounding_chunk_indices': [1, 0], 'segment': {'end_index': 167, 'start_index': 138, 'text': 'There is a 0% chance of rain.'}}, {'confidence_scores': [0.9586504], 'grounding_chunk_indices': [0], 'segment': {'end_index': 334, 'start_index': 208, 'text': '*   **Sunday:** Scattered showers during the day and light rain at night (20% chance of rain during the day and 45% at night).'}}, {'confidence_scores': [0.94336766], 'grounding_chunk_indices': [0], 'segment': {'end_index': 388, 'start_index': 335, 'text': 'Temperatures between 60°F (16°C) and 73°F (23°C).'}}, {'confidence_scores': [0.8887769], 'grounding_chunk_indices': [0], 'segment': {'end_index': 472, 'start_index': 389, 'text': '*   **Monday:** Light rain during the day and cloudy at night (20% chance of rain).'}}, {'confidence_scores': [0.8819513], 'grounding_chunk_indices': [0], 'segment': {'end_index': 526, 'start_index': 473, 'text': 'Temperatures between 62°F (17°C) and 68°F (20°C).'}}, {'confidence_scores': [0.94865304], 'grounding_chunk_indices': [0], 'segment': {'end_index': 642, 'start_index': 527, 'text': '*   **Tuesday:** Light rain during the day and clear at night (25% chance of rain during the day and 10% at night).'}}, {'confidence_scores': [0.9283898], 'grounding_chunk_indices': [0], 'segment': {'end_index': 696, 'start_index': 643, 'text': 'Temperatures between 64°F (18°C) and 76°F (24°C).'}}, {'confidence_scores': [0.97231805], 'grounding_chunk_indices': [0], 'segment': {'end_index': 791, 'start_index': 697, 'text': '*   **Wednesday:** Sunny during the day and clear at night (5% chance of rain during the day).'}}, {'confidence_scores': [0.61687565, 0.9687946], 'grounding_chunk_indices': [2, 0], 'segment': {'end_index': 845, 'start_index': 792, 'text': 'Temperatures between 68°F (20°C) and 83°F (28°C).'}}, {'confidence_scores': [0.84937906], 'grounding_chunk_indices': [0], 'segment': {'end_index': 931, 'start_index': 846, 'text': '*   **Thursday:** Partly cloudy (20% chance of rain during the day and 10% at night).'}}, {'confidence_scores': [0.9712379], 'grounding_chunk_indices': [0], 'segment': {'end_index': 985, 'start_index': 932, 'text': 'Temperatures between 69°F (21°C) and 87°F (31°C).'}}, {'confidence_scores': [0.8082152], 'grounding_chunk_indices': [0], 'segment': {'end_index': 1037, 'start_index': 986, 'text': '*   **Friday:** Mostly cloudy (10% chance of rain).'}}, {'confidence_scores': [0.9531047], 'grounding_chunk_indices': [0], 'segment': {'end_index': 1091, 'start_index': 1038, 'text': 'Temperatures between 67°F (19°C) and 84°F (29°C).'}}, {'confidence_scores': [0.9586163], 'grounding_chunk_indices': [0], 'segment': {'end_index': 1215, 'start_index': 1092, 'text': '*   **Saturday:** Light rain during the day and rain showers at night (45% chance of rain during the day and 50% at night).'}}, {'confidence_scores': [0.90111303], 'grounding_chunk_indices': [0], 'segment': {'end_index': 1269, 'start_index': 1216, 'text': 'Temperatures between 65°F (18°C) and 74°F (23°C).'}}, {'confidence_scores': [0.80271477], 'grounding_chunk_indices': [0], 'segment': {'end_index': 1353, 'start_index': 1270, 'text': '*   **Sunday:** Mostly cloudy (50% chance of rain during the day and 10% at night).'}}, {'confidence_scores': [0.9709188], 'grounding_chunk_indices': [0], 'segment': {'end_index': 1407, 'start_index': 1354, 'text': 'Temperatures between 63°F (17°C) and 73°F (23°C).'}}, {'confidence_scores': [0.79892826], 'grounding_chunk_indices': [0], 'segment': {'end_index': 1491, 'start_index': 1408, 'text': '*   **Monday:** Mostly cloudy (20% chance of rain during the day and 10% at night).'}}, {'confidence_scores': [0.9709188], 'grounding_chunk_indices': [0], 'segment': {'end_index': 1545, 'start_index': 1492, 'text': 'Temperatures between 63°F (17°C) and 73°F (23°C).'}}, {'confidence_scores': [0.90111303], 'grounding_chunk_indices': [0], 'segment': {'end_index': 1684, 'start_index': 1631, 'text': 'Temperatures between 65°F (18°C) and 74°F (23°C).'}}], 'retrieval_metadata': {}, 'search_entry_point': {'rendered_content': '<style>\\n.container {\\n  align-items: center;\\n  border-radius: 8px;\\n  display: flex;\\n  font-family: Google Sans, Roboto, sans-serif;\\n  font-size: 14px;\\n  line-height: 20px;\\n  padding: 8px 12px;\\n}\\n.chip {\\n  display: inline-block;\\n  border: solid 1px;\\n  border-radius: 16px;\\n  min-width: 14px;\\n  padding: 5px 16px;\\n  text-align: center;\\n  user-select: none;\\n  margin: 0 8px;\\n  -webkit-tap-highlight-color: transparent;\\n}\\n.carousel {\\n  overflow: auto;\\n  scrollbar-width: none;\\n  white-space: nowrap;\\n  margin-right: -12px;\\n}\\n.headline {\\n  display: flex;\\n  margin-right: 4px;\\n}\\n.gradient-container {\\n  position: relative;\\n}\\n.gradient {\\n  position: absolute;\\n  transform: translate(3px, -9px);\\n  height: 36px;\\n  width: 9px;\\n}\\n@media (prefers-color-scheme: light) {\\n  .container {\\n    background-color: #fafafa;\\n    box-shadow: 0 0 0 1px #0000000f;\\n  }\\n  .headline-label {\\n    color: #1f1f1f;\\n  }\\n  .chip {\\n    background-color: #ffffff;\\n    border-color: #d2d2d2;\\n    color: #5e5e5e;\\n    text-decoration: none;\\n  }\\n  .chip:hover {\\n    background-color: #f2f2f2;\\n  }\\n  .chip:focus {\\n    background-color: #f2f2f2;\\n  }\\n  .chip:active {\\n    background-color: #d8d8d8;\\n    border-color: #b6b6b6;\\n  }\\n  .logo-dark {\\n    display: none;\\n  }\\n  .gradient {\\n    background: linear-gradient(90deg, #fafafa 15%, #fafafa00 100%);\\n  }\\n}\\n@media (prefers-color-scheme: dark) {\\n  .container {\\n    background-color: #1f1f1f;\\n    box-shadow: 0 0 0 1px #ffffff26;\\n  }\\n  .headline-label {\\n    color: #fff;\\n  }\\n  .chip {\\n    background-color: #2c2c2c;\\n    border-color: #3c4043;\\n    color: #fff;\\n    text-decoration: none;\\n  }\\n  .chip:hover {\\n    background-color: #353536;\\n  }\\n  .chip:focus {\\n    background-color: #353536;\\n  }\\n  .chip:active {\\n    background-color: #464849;\\n    border-color: #53575b;\\n  }\\n  .logo-light {\\n    display: none;\\n  }\\n  .gradient {\\n    background: linear-gradient(90deg, #1f1f1f 15%, #1f1f1f00 100%);\\n  }\\n}\\n</style>\\n<div class=\"container\">\\n  <div class=\"headline\">\\n    <svg class=\"logo-light\" width=\"18\" height=\"18\" viewBox=\"9 9 35 35\" fill=\"none\" xmlns=\"http://www.w3.org/2000/svg\">\\n      <path fill-rule=\"evenodd\" clip-rule=\"evenodd\" d=\"M42.8622 27.0064C42.8622 25.7839 42.7525 24.6084 42.5487 23.4799H26.3109V30.1568H35.5897C35.1821 32.3041 33.9596 34.1222 32.1258 35.3448V39.6864H37.7213C40.9814 36.677 42.8622 32.2571 42.8622 27.0064V27.0064Z\" fill=\"#4285F4\"/>\\n      <path fill-rule=\"evenodd\" clip-rule=\"evenodd\" d=\"M26.3109 43.8555C30.9659 43.8555 34.8687 42.3195 37.7213 39.6863L32.1258 35.3447C30.5898 36.3792 28.6306 37.0061 26.3109 37.0061C21.8282 37.0061 18.0195 33.9811 16.6559 29.906H10.9194V34.3573C13.7563 39.9841 19.5712 43.8555 26.3109 43.8555V43.8555Z\" fill=\"#34A853\"/>\\n      <path fill-rule=\"evenodd\" clip-rule=\"evenodd\" d=\"M16.6559 29.8904C16.3111 28.8559 16.1074 27.7588 16.1074 26.6146C16.1074 25.4704 16.3111 24.3733 16.6559 23.3388V18.8875H10.9194C9.74388 21.2072 9.06992 23.8247 9.06992 26.6146C9.06992 29.4045 9.74388 32.022 10.9194 34.3417L15.3864 30.8621L16.6559 29.8904V29.8904Z\" fill=\"#FBBC05\"/>\\n      <path fill-rule=\"evenodd\" clip-rule=\"evenodd\" d=\"M26.3109 16.2386C28.85 16.2386 31.107 17.1164 32.9095 18.8091L37.8466 13.8719C34.853 11.082 30.9659 9.3736 26.3109 9.3736C19.5712 9.3736 13.7563 13.245 10.9194 18.8875L16.6559 23.3388C18.0195 19.2636 21.8282 16.2386 26.3109 16.2386V16.2386Z\" fill=\"#EA4335\"/>\\n    </svg>\\n    <svg class=\"logo-dark\" width=\"18\" height=\"18\" viewBox=\"0 0 48 48\" xmlns=\"http://www.w3.org/2000/svg\">\\n      <circle cx=\"24\" cy=\"23\" fill=\"#FFF\" r=\"22\"/>\\n      <path d=\"M33.76 34.26c2.75-2.56 4.49-6.37 4.49-11.26 0-.89-.08-1.84-.29-3H24.01v5.99h8.03c-.4 2.02-1.5 3.56-3.07 4.56v.75l3.91 2.97h.88z\" fill=\"#4285F4\"/>\\n      <path d=\"M15.58 25.77A8.845 8.845 0 0 0 24 31.86c1.92 0 3.62-.46 4.97-1.31l4.79 3.71C31.14 36.7 27.65 38 24 38c-5.93 0-11.01-3.4-13.45-8.36l.17-1.01 4.06-2.85h.8z\" fill=\"#34A853\"/>\\n      <path d=\"M15.59 20.21a8.864 8.864 0 0 0 0 5.58l-5.03 3.86c-.98-2-1.53-4.25-1.53-6.64 0-2.39.55-4.64 1.53-6.64l1-.22 3.81 2.98.22 1.08z\" fill=\"#FBBC05\"/>\\n      <path d=\"M24 14.14c2.11 0 4.02.75 5.52 1.98l4.36-4.36C31.22 9.43 27.81 8 24 8c-5.93 0-11.01 3.4-13.45 8.36l5.03 3.85A8.86 8.86 0 0 1 24 14.14z\" fill=\"#EA4335\"/>\\n    </svg>\\n    <div class=\"gradient-container\"><div class=\"gradient\"></div></div>\\n  </div>\\n  <div class=\"carousel\">\\n    <a class=\"chip\" href=\"https://vertexaisearch.cloud.google.com/grounding-api-redirect/AbF9wXHEx3l0eTI2F8D2UjyIQCtT5ADO2eVtIsO7I3Ok8rxPrO9m04N2MYXYs4pPxFqbsKJ5WxFxPo5tgk-OGTg_fFZoEuBqIwlBzp4ggeHwBvOXShVV8XsTCd03BImPfI_aBrlTipIWcLPssI8hvCV7SFraXN7mA-cNhF5XJY39PUPJj5kJsjZPkJioc_rhxjhawDS5HVVjhe4=\">weather in New York</a>\\n  </div>\\n</div>\\n'}, 'web_search_queries': ['weather in New York']}, 'usage_metadata': {'candidates_token_count': 586, 'candidates_tokens_details': [{'modality': <MediaModality.TEXT: 'TEXT'>, 'token_count': 586}], 'prompt_token_count': 54, 'prompt_tokens_details': [{'modality': <MediaModality.TEXT: 'TEXT'>, 'token_count': 54}], 'total_token_count': 640, 'traffic_type': <TrafficType.ON_DEMAND: 'ON_DEMAND'>}, 'invocation_id': 'e-6783a091-871a-4deb-bed9-3caf58c30439', 'author': 'simple_search_agent', 'actions': {'state_delta': {}, 'artifact_delta': {}, 'requested_auth_configs': {}}, 'id': 'WfwiVpDX', 'timestamp': 1749356031.415264}\n"
          ]
        },
        {
          "output_type": "execute_result",
          "data": {
            "text/plain": [
              "'The weather in New York, NY is currently cloudy with a temperature of 68°F (20°C), but it feels like 76°F (24°C) due to 84% humidity. There is a 0% chance of rain.\\n\\nThe forecast for the next 10 days is:\\n\\n*   **Sunday:** Scattered showers during the day and light rain at night (20% chance of rain during the day and 45% at night). Temperatures between 60°F (16°C) and 73°F (23°C).\\n*   **Monday:** Light rain during the day and cloudy at night (20% chance of rain). Temperatures between 62°F (17°C) and 68°F (20°C).\\n*   **Tuesday:** Light rain during the day and clear at night (25% chance of rain during the day and 10% at night). Temperatures between 64°F (18°C) and 76°F (24°C).\\n*   **Wednesday:** Sunny during the day and clear at night (5% chance of rain during the day). Temperatures between 68°F (20°C) and 83°F (28°C).\\n*   **Thursday:** Partly cloudy (20% chance of rain during the day and 10% at night). Temperatures between 69°F (21°C) and 87°F (31°C).\\n*   **Friday:** Mostly cloudy (10% chance of rain). Temperatures between 67°F (19°C) and 84°F (29°C).\\n*   **Saturday:** Light rain during the day and rain showers at night (45% chance of rain during the day and 50% at night). Temperatures between 65°F (18°C) and 74°F (23°C).\\n*   **Sunday:** Mostly cloudy (50% chance of rain during the day and 10% at night). Temperatures between 63°F (17°C) and 73°F (23°C).\\n*   **Monday:** Mostly cloudy (20% chance of rain during the day and 10% at night). Temperatures between 63°F (17°C) and 73°F (23°C).\\n*   **Tuesday:** Rain during the day and rain showers at night (55% chance of rain). Temperatures between 65°F (18°C) and 74°F (23°C).'"
            ],
            "application/vnd.google.colaboratory.intrinsic+json": {
              "type": "string"
            }
          },
          "metadata": {},
          "execution_count": 19
        }
      ]
    },
    {
      "cell_type": "code",
      "source": [
        "call_remote_agent_engine_app(app, USER_ID, session.id, \"is earth square?\")"
      ],
      "metadata": {
        "id": "f_PD0oMRDOX5",
        "outputId": "7dc16afb-62e0-4429-c3de-1530df4f62b0",
        "colab": {
          "base_uri": "https://localhost:8080/",
          "height": 211
        }
      },
      "execution_count": 20,
      "outputs": [
        {
          "output_type": "stream",
          "name": "stdout",
          "text": [
            "{'content': {'parts': [{'text': \"No, the Earth is not square. The ancient Greeks were the first to document the concept that the Earth is spherical around the 5th century BC. In the 3rd century BC, it was established as a physical fact.\\n\\nHere's why we know the Earth is not square:\\n\\n*   **Ships disappearing hull first:** When a ship sails away from you, it doesn't just get smaller and smaller until it disappears. Instead, the hull of the ship disappears first, followed by the mast. This is because the Earth is curved, and the hull goes below the horizon before the mast does.\\n*   **Lunar eclipses:** During a lunar eclipse, the Earth passes between the Sun and the Moon, casting a shadow on the Moon. This shadow is always round, which wouldn't be the case if the Earth were flat or square.\\n*   **Different constellations:** Different constellations are visible from different parts of the Earth. For example, Polaris (the North Star) is higher in the sky in the Northern Hemisphere than it is in the Southern Hemisphere. This wouldn't be possible if the Earth were flat.\\n*   **Photographs from space:** We have countless photographs of Earth taken from space, and they all show a sphere.\\n*   **Gravity:** Gravity pulls everything towards the center of mass. If the Earth were flat, gravity would pull everything towards the center of the flat plane, which would make it very difficult to move around.\\n\\nWhile the Earth is often described as a sphere, it's more accurately described as an oblate spheroid. This means that it's slightly flattened at the poles and bulges at the equator due to the centrifugal force created by the Earth's rotation.\\n\"}], 'role': 'model'}, 'grounding_metadata': {'grounding_chunks': [{'web': {'domain': 'wikipedia.org', 'title': 'wikipedia.org', 'uri': 'https://vertexaisearch.cloud.google.com/grounding-api-redirect/AbF9wXENdg9D2lzBvDfs1c4RdNs55sTESJJjYWrFVRQ7Cjp_2OxW1_j-4tOCiVUj6XQvvPoHr8VoWYjRng-A_wzapN7kXF42eNM70knEKpra1rJ8uwjquKoLgIU5MK5OW5DQeOzrqQaApCBK'}}, {'web': {'domain': 'space.com', 'title': 'space.com', 'uri': 'https://vertexaisearch.cloud.google.com/grounding-api-redirect/AbF9wXH0d0MwaNQ3qzwoDNSV8f3pVG5wMT4a0TkutHuZQZUigyU-Ocor5rAvk__sR9jvw8Ta-pFPV0MqZOdrtw5NckVCCRvDu5M5AMM_Eu_hrbe7qtLLNCLknPFrCMmd-DAXVEwIabyVCyl5U9OPJMCzjOg='}}, {'web': {'domain': 'asu.edu', 'title': 'asu.edu', 'uri': 'https://vertexaisearch.cloud.google.com/grounding-api-redirect/AbF9wXEe9NN3nz7SHhMjNdELpsGUbxPPHD3zxgTjyfBaCLURfSp51mluEXrGzLTx0tP736bjLke2a1Z6F1oIpCu8jGduK7Eb27w4k53AmXCqBqY97Xyvenb5vcFgGMUpQZZ0vwdzjmdDnL8LI53xr0ePtTXCv_qufdRrdOAo8Q=='}}, {'web': {'domain': 'cell.com', 'title': 'cell.com', 'uri': 'https://vertexaisearch.cloud.google.com/grounding-api-redirect/AbF9wXGfgTiXeI2g2FBSkVDAKUwm0n8YPz0BVp9RSgwUlV0xaCtAI801i_2NYvhKk6kwf9QHN9eyj9nItBGKyiYruogRbS-U6NpDkaNcM_xAU8YMRZ5NLWi-dhKGOtQLEVqVexfc5ZoFD_OIb0XMMAVwpori6eDZWZvlodujOxB5'}}, {'web': {'domain': 'skyatnightmagazine.com', 'title': 'skyatnightmagazine.com', 'uri': 'https://vertexaisearch.cloud.google.com/grounding-api-redirect/AbF9wXEkWQuRs-m4h0oZBf1_xnZZ2boRNC5mC7_-B7LnCfnGQlXyYwjsF5ufwYMzxRaxREgIM9kIsGX1StLl7jxf0lqNyV6-F-V-EPGiiGHirE5Pl79vq6KxYtLUlVS8KBnQTh8gUn9CBBy02ohoSEkt_UODCprlG1vGKfg_FRplzq54gYmF'}}, {'web': {'domain': 'earthhow.com', 'title': 'earthhow.com', 'uri': 'https://vertexaisearch.cloud.google.com/grounding-api-redirect/AbF9wXGVSKra5Djiyn2SukLvk3XjKEeDnBksJw8LaFha5CwiXFJ1uAR2W9NH2dl1xYynXdaSjs_Q7HKhm_e9IMeXLiDWaYdgZe7E5ERxHaM1HoucSJ6D_PJeqq_ibp14VAU7VSkxig=='}}, {'web': {'domain': 'nasa.gov', 'title': 'nasa.gov', 'uri': 'https://vertexaisearch.cloud.google.com/grounding-api-redirect/AbF9wXG6FsjG6HuUx5W0CJ4rf3F_66NiGwcMsr6XeBk8fNddUhX2uCxKuUE1-cSicOlO45pYXZkTZ0G3doiN1Ve6J2dQ62PJk6St_v7cl6x_OBZvvxfiF-XB3Q-OYWzTPQKhQwPw8irZhO61OXm2YsocsqvAiB2auRl4evWJtFjEpmRFPyVNDXgNLMwrMXknbu1oS6Na'}}], 'grounding_supports': [{'confidence_scores': [0.89068], 'grounding_chunk_indices': [0], 'segment': {'end_index': 141, 'start_index': 29, 'text': 'The ancient Greeks were the first to document the concept that the Earth is spherical around the 5th century BC.'}}, {'confidence_scores': [0.815396], 'grounding_chunk_indices': [0], 'segment': {'end_index': 203, 'start_index': 142, 'text': 'In the 3rd century BC, it was established as a physical fact.'}}, {'confidence_scores': [0.706143], 'grounding_chunk_indices': [1], 'segment': {'end_index': 382, 'start_index': 250, 'text': \"*   **Ships disappearing hull first:** When a ship sails away from you, it doesn't just get smaller and smaller until it disappears.\"}}, {'confidence_scores': [0.6069825, 0.9168689, 0.9935747], 'grounding_chunk_indices': [2, 3, 1], 'segment': {'end_index': 672, 'start_index': 548, 'text': '*   **Lunar eclipses:** During a lunar eclipse, the Earth passes between the Sun and the Moon, casting a shadow on the Moon.'}}, {'confidence_scores': [0.62909883, 0.7761878], 'grounding_chunk_indices': [1, 4], 'segment': {'end_index': 868, 'start_index': 763, 'text': '*   **Different constellations:** Different constellations are visible from different parts of the Earth.'}}, {'confidence_scores': [0.61706764], 'grounding_chunk_indices': [1], 'segment': {'end_index': 993, 'start_index': 869, 'text': 'For example, Polaris (the North Star) is higher in the sky in the Northern Hemisphere than it is in the Southern Hemisphere.'}}, {'confidence_scores': [0.7265013, 0.7414899], 'grounding_chunk_indices': [1, 3], 'segment': {'end_index': 1043, 'start_index': 994, 'text': \"This wouldn't be possible if the Earth were flat.\"}}, {'confidence_scores': [0.8885915], 'grounding_chunk_indices': [1], 'segment': {'end_index': 1230, 'start_index': 1161, 'text': '*   **Gravity:** Gravity pulls everything towards the center of mass.'}}, {'confidence_scores': [0.7475633, 0.76859176], 'grounding_chunk_indices': [1, 5], 'segment': {'end_index': 1476, 'start_index': 1375, 'text': \"While the Earth is often described as a sphere, it's more accurately described as an oblate spheroid.\"}}, {'confidence_scores': [0.94235915, 0.6527518, 0.8534116, 0.6679973], 'grounding_chunk_indices': [5, 0, 1, 6], 'segment': {'end_index': 1617, 'start_index': 1477, 'text': \"This means that it's slightly flattened at the poles and bulges at the equator due to the centrifugal force created by the Earth's rotation.\"}}], 'retrieval_metadata': {}, 'search_entry_point': {'rendered_content': '<style>\\n.container {\\n  align-items: center;\\n  border-radius: 8px;\\n  display: flex;\\n  font-family: Google Sans, Roboto, sans-serif;\\n  font-size: 14px;\\n  line-height: 20px;\\n  padding: 8px 12px;\\n}\\n.chip {\\n  display: inline-block;\\n  border: solid 1px;\\n  border-radius: 16px;\\n  min-width: 14px;\\n  padding: 5px 16px;\\n  text-align: center;\\n  user-select: none;\\n  margin: 0 8px;\\n  -webkit-tap-highlight-color: transparent;\\n}\\n.carousel {\\n  overflow: auto;\\n  scrollbar-width: none;\\n  white-space: nowrap;\\n  margin-right: -12px;\\n}\\n.headline {\\n  display: flex;\\n  margin-right: 4px;\\n}\\n.gradient-container {\\n  position: relative;\\n}\\n.gradient {\\n  position: absolute;\\n  transform: translate(3px, -9px);\\n  height: 36px;\\n  width: 9px;\\n}\\n@media (prefers-color-scheme: light) {\\n  .container {\\n    background-color: #fafafa;\\n    box-shadow: 0 0 0 1px #0000000f;\\n  }\\n  .headline-label {\\n    color: #1f1f1f;\\n  }\\n  .chip {\\n    background-color: #ffffff;\\n    border-color: #d2d2d2;\\n    color: #5e5e5e;\\n    text-decoration: none;\\n  }\\n  .chip:hover {\\n    background-color: #f2f2f2;\\n  }\\n  .chip:focus {\\n    background-color: #f2f2f2;\\n  }\\n  .chip:active {\\n    background-color: #d8d8d8;\\n    border-color: #b6b6b6;\\n  }\\n  .logo-dark {\\n    display: none;\\n  }\\n  .gradient {\\n    background: linear-gradient(90deg, #fafafa 15%, #fafafa00 100%);\\n  }\\n}\\n@media (prefers-color-scheme: dark) {\\n  .container {\\n    background-color: #1f1f1f;\\n    box-shadow: 0 0 0 1px #ffffff26;\\n  }\\n  .headline-label {\\n    color: #fff;\\n  }\\n  .chip {\\n    background-color: #2c2c2c;\\n    border-color: #3c4043;\\n    color: #fff;\\n    text-decoration: none;\\n  }\\n  .chip:hover {\\n    background-color: #353536;\\n  }\\n  .chip:focus {\\n    background-color: #353536;\\n  }\\n  .chip:active {\\n    background-color: #464849;\\n    border-color: #53575b;\\n  }\\n  .logo-light {\\n    display: none;\\n  }\\n  .gradient {\\n    background: linear-gradient(90deg, #1f1f1f 15%, #1f1f1f00 100%);\\n  }\\n}\\n</style>\\n<div class=\"container\">\\n  <div class=\"headline\">\\n    <svg class=\"logo-light\" width=\"18\" height=\"18\" viewBox=\"9 9 35 35\" fill=\"none\" xmlns=\"http://www.w3.org/2000/svg\">\\n      <path fill-rule=\"evenodd\" clip-rule=\"evenodd\" d=\"M42.8622 27.0064C42.8622 25.7839 42.7525 24.6084 42.5487 23.4799H26.3109V30.1568H35.5897C35.1821 32.3041 33.9596 34.1222 32.1258 35.3448V39.6864H37.7213C40.9814 36.677 42.8622 32.2571 42.8622 27.0064V27.0064Z\" fill=\"#4285F4\"/>\\n      <path fill-rule=\"evenodd\" clip-rule=\"evenodd\" d=\"M26.3109 43.8555C30.9659 43.8555 34.8687 42.3195 37.7213 39.6863L32.1258 35.3447C30.5898 36.3792 28.6306 37.0061 26.3109 37.0061C21.8282 37.0061 18.0195 33.9811 16.6559 29.906H10.9194V34.3573C13.7563 39.9841 19.5712 43.8555 26.3109 43.8555V43.8555Z\" fill=\"#34A853\"/>\\n      <path fill-rule=\"evenodd\" clip-rule=\"evenodd\" d=\"M16.6559 29.8904C16.3111 28.8559 16.1074 27.7588 16.1074 26.6146C16.1074 25.4704 16.3111 24.3733 16.6559 23.3388V18.8875H10.9194C9.74388 21.2072 9.06992 23.8247 9.06992 26.6146C9.06992 29.4045 9.74388 32.022 10.9194 34.3417L15.3864 30.8621L16.6559 29.8904V29.8904Z\" fill=\"#FBBC05\"/>\\n      <path fill-rule=\"evenodd\" clip-rule=\"evenodd\" d=\"M26.3109 16.2386C28.85 16.2386 31.107 17.1164 32.9095 18.8091L37.8466 13.8719C34.853 11.082 30.9659 9.3736 26.3109 9.3736C19.5712 9.3736 13.7563 13.245 10.9194 18.8875L16.6559 23.3388C18.0195 19.2636 21.8282 16.2386 26.3109 16.2386V16.2386Z\" fill=\"#EA4335\"/>\\n    </svg>\\n    <svg class=\"logo-dark\" width=\"18\" height=\"18\" viewBox=\"0 0 48 48\" xmlns=\"http://www.w3.org/2000/svg\">\\n      <circle cx=\"24\" cy=\"23\" fill=\"#FFF\" r=\"22\"/>\\n      <path d=\"M33.76 34.26c2.75-2.56 4.49-6.37 4.49-11.26 0-.89-.08-1.84-.29-3H24.01v5.99h8.03c-.4 2.02-1.5 3.56-3.07 4.56v.75l3.91 2.97h.88z\" fill=\"#4285F4\"/>\\n      <path d=\"M15.58 25.77A8.845 8.845 0 0 0 24 31.86c1.92 0 3.62-.46 4.97-1.31l4.79 3.71C31.14 36.7 27.65 38 24 38c-5.93 0-11.01-3.4-13.45-8.36l.17-1.01 4.06-2.85h.8z\" fill=\"#34A853\"/>\\n      <path d=\"M15.59 20.21a8.864 8.864 0 0 0 0 5.58l-5.03 3.86c-.98-2-1.53-4.25-1.53-6.64 0-2.39.55-4.64 1.53-6.64l1-.22 3.81 2.98.22 1.08z\" fill=\"#FBBC05\"/>\\n      <path d=\"M24 14.14c2.11 0 4.02.75 5.52 1.98l4.36-4.36C31.22 9.43 27.81 8 24 8c-5.93 0-11.01 3.4-13.45 8.36l5.03 3.85A8.86 8.86 0 0 1 24 14.14z\" fill=\"#EA4335\"/>\\n    </svg>\\n    <div class=\"gradient-container\"><div class=\"gradient\"></div></div>\\n  </div>\\n  <div class=\"carousel\">\\n    <a class=\"chip\" href=\"https://vertexaisearch.cloud.google.com/grounding-api-redirect/AbF9wXHv9c0L6hilHu0b0_prKhHlcm7dbfBrW5TOj60XKG9ZBNykn0wYjmDRBEnY2qHfcKWXj1_ORCZU3wBzod2kDHaWreCGYA0d9S9aO4G6098Tab_VKDzv7qEeymyh9oHeHGTSuyYa65euAakdBLlG0FfuQclFmRQYBWr_cWcXAkvSNmL0IX0XphJzPg2oMI-vybrM8hPQ\">shape of the Earth</a>\\n    <a class=\"chip\" href=\"https://vertexaisearch.cloud.google.com/grounding-api-redirect/AbF9wXH4Lg_yCJRnSTtIplBIACH0R-SmbsJreXG6O_tKPKqt8o0XHpZhuCju0CTr4HUeFAR1gtRO48KTx38_cHT7UCdBGK8cGCl3flNDGSl6HutljCzMBnefib7Lmb7Qr-YwL-5ypB7kBy79dwlt-_euJOoRpPlAcONZE_k6Hvyz3pjnXKbz0iGrOgsvOFI6dOXWf4ZaH4GKQ_6Ps16enSc=\">evidence earth is not flat</a>\\n  </div>\\n</div>\\n'}, 'web_search_queries': ['evidence earth is not flat', 'shape of the Earth']}, 'usage_metadata': {'candidates_token_count': 355, 'candidates_tokens_details': [{'modality': <MediaModality.TEXT: 'TEXT'>, 'token_count': 355}], 'prompt_token_count': 644, 'prompt_tokens_details': [{'modality': <MediaModality.TEXT: 'TEXT'>, 'token_count': 644}], 'total_token_count': 999, 'traffic_type': <TrafficType.ON_DEMAND: 'ON_DEMAND'>}, 'invocation_id': 'e-437027fd-c235-484f-8078-f96e367893ca', 'author': 'simple_search_agent', 'actions': {'state_delta': {}, 'artifact_delta': {}, 'requested_auth_configs': {}}, 'id': 'hHvhg7ad', 'timestamp': 1749356041.529578}\n"
          ]
        },
        {
          "output_type": "execute_result",
          "data": {
            "text/plain": [
              "\"No, the Earth is not square. The ancient Greeks were the first to document the concept that the Earth is spherical around the 5th century BC. In the 3rd century BC, it was established as a physical fact.\\n\\nHere's why we know the Earth is not square:\\n\\n*   **Ships disappearing hull first:** When a ship sails away from you, it doesn't just get smaller and smaller until it disappears. Instead, the hull of the ship disappears first, followed by the mast. This is because the Earth is curved, and the hull goes below the horizon before the mast does.\\n*   **Lunar eclipses:** During a lunar eclipse, the Earth passes between the Sun and the Moon, casting a shadow on the Moon. This shadow is always round, which wouldn't be the case if the Earth were flat or square.\\n*   **Different constellations:** Different constellations are visible from different parts of the Earth. For example, Polaris (the North Star) is higher in the sky in the Northern Hemisphere than it is in the Southern Hemisphere. This wouldn't be possible if the Earth were flat.\\n*   **Photographs from space:** We have countless photographs of Earth taken from space, and they all show a sphere.\\n*   **Gravity:** Gravity pulls everything towards the center of mass. If the Earth were flat, gravity would pull everything towards the center of the flat plane, which would make it very difficult to move around.\\n\\nWhile the Earth is often described as a sphere, it's more accurately described as an oblate spheroid. This means that it's slightly flattened at the poles and bulges at the equator due to the centrifugal force created by the Earth's rotation.\\n\""
            ],
            "application/vnd.google.colaboratory.intrinsic+json": {
              "type": "string"
            }
          },
          "metadata": {},
          "execution_count": 20
        }
      ]
    },
    {
      "cell_type": "markdown",
      "source": [
        "## Search multiple questions\n"
      ],
      "metadata": {
        "id": "36NHGlMyDYE4"
      }
    },
    {
      "cell_type": "code",
      "source": [
        "from google.adk.tools.agent_tool import AgentTool\n",
        "\n",
        "# Instantiate again because each agent tree shall have unique objects.\n",
        "simple_search_agent = Agent(\n",
        "    model=MODEL,\n",
        "    name=\"simple_search_agent\",\n",
        "    description=\"Agent to answer questions using Google Search.\",\n",
        "    instruction=\"I can answer your questions by searching the internet. Just ask me anything!\",\n",
        "    generate_content_config=types.GenerateContentConfig(\n",
        "        max_output_tokens=8000,\n",
        "    ),\n",
        "    tools=[google_search],\n",
        ")\n",
        "\n",
        "multiple_search_agent = Agent(\n",
        "    model=MODEL,\n",
        "    name=\"research_agent\",\n",
        "    description=\"Get answers to multiple questions one by one.\",\n",
        "    instruction=\"Observe the pending questions in the chat log and call the simple_search_agent to conduct search and give answers to each question. Present the search result in a markdown, one section per question and answer\",\n",
        "    generate_content_config=types.GenerateContentConfig(\n",
        "        max_output_tokens=8000,\n",
        "    ),\n",
        "    tools=[AgentTool(simple_search_agent)],\n",
        ")\n",
        "\n",
        "app = reasoning_engines.AdkApp(\n",
        "    agent=multiple_search_agent,\n",
        "    enable_tracing=True,\n",
        ")\n",
        "\n",
        "session = app.create_session(user_id=USER_ID)\n",
        "\n",
        "call_remote_agent_engine_app(app, USER_ID, session.id, \"\"\"\n",
        "- Is Earth square?\n",
        "- Is Moon flat?\n",
        "- Is Sun cold?\n",
        "\"\"\")"
      ],
      "metadata": {
        "id": "EvBH8KkUDgrS",
        "outputId": "1f8feefd-6217-4e0a-a382-020201aaa44c",
        "colab": {
          "base_uri": "https://localhost:8080/",
          "height": 211
        }
      },
      "execution_count": 21,
      "outputs": [
        {
          "output_type": "stream",
          "name": "stderr",
          "text": [
            "WARNING:google_genai.types:Warning: there are non-text parts in the response: ['function_call', 'function_call', 'function_call'], returning concatenated text result from text parts. Check the full candidates.content.parts accessor to get the full model response.\n"
          ]
        },
        {
          "output_type": "stream",
          "name": "stdout",
          "text": [
            "{'content': {'parts': [{'function_call': {'id': 'adk-c533a0b5-56ab-4316-877b-d57402b957ee', 'args': {'request': 'Is Earth square?'}, 'name': 'simple_search_agent'}}, {'function_call': {'id': 'adk-22e4dc86-b35e-42b2-84c8-c64ba60301ec', 'args': {'request': 'Is Moon flat?'}, 'name': 'simple_search_agent'}}, {'function_call': {'id': 'adk-ee995d30-b5cd-4585-aa0c-7eda31b33262', 'args': {'request': 'Is Sun cold?'}, 'name': 'simple_search_agent'}}], 'role': 'model'}, 'usage_metadata': {'candidates_token_count': 30, 'candidates_tokens_details': [{'modality': <MediaModality.TEXT: 'TEXT'>, 'token_count': 30}], 'prompt_token_count': 107, 'prompt_tokens_details': [{'modality': <MediaModality.TEXT: 'TEXT'>, 'token_count': 107}], 'total_token_count': 137, 'traffic_type': <TrafficType.ON_DEMAND: 'ON_DEMAND'>}, 'invocation_id': 'e-6aa50a75-50e0-4b69-addd-cea17a8081ba', 'author': 'research_agent', 'actions': {'state_delta': {}, 'artifact_delta': {}, 'requested_auth_configs': {}}, 'long_running_tool_ids': set(), 'id': 'QOn00iqA', 'timestamp': 1749356067.593139}\n",
            "{'content': {'parts': [{'function_response': {'id': 'adk-c533a0b5-56ab-4316-877b-d57402b957ee', 'name': 'simple_search_agent', 'response': {'result': \"No, the Earth is not square. While the simplest model of the Earth is a sphere, it is more accurately described as an oblate spheroid or an ellipsoid, which means it's like a sphere that is slightly flattened at the poles and bulging at the equator due to its rotation.\\n\"}}}, {'function_response': {'id': 'adk-22e4dc86-b35e-42b2-84c8-c64ba60301ec', 'name': 'simple_search_agent', 'response': {'result': \"No, the moon is not flat. It is a sphere, though not a perfect one. Here's what you should know:\\n\\n*   **Shape:** The Moon is often described as egg-shaped or an oblate spheroid. It has a bulge towards Earth.\\n*   **Not perfectly spherical:** The Moon's diameter varies slightly between the equator and the poles.\\n*   **Optical Illusion:** The moon can appear flat to the naked eye because of its distance and brightness, which makes it difficult to perceive its three-dimensional shape.\\n*   **Phases of the Moon:** The changing phases of the Moon are due to the different angles at which we see the sunlit portion of its surface as it orbits the Earth, not because the Moon is changing shape.\\n\"}}}, {'function_response': {'id': 'adk-ee995d30-b5cd-4585-aa0c-7eda31b33262', 'name': 'simple_search_agent', 'response': {'result': 'No, the Sun is not cold. In fact, it\\'s incredibly hot. Here\\'s a breakdown of the temperatures at different parts of the Sun:\\n\\n*   **Core:** The core is the hottest part, reaching around 27 million degrees Fahrenheit (15 million degrees Celsius).\\n*   **Surface (Photosphere):** The surface is a \"cooler\" 10,000 degrees Fahrenheit (5,500 degrees Celsius).\\n*   **Corona:** The Sun\\'s outer atmosphere, the corona, is surprisingly hot, ranging from 1.8 million to 3.6 million degrees Fahrenheit (1 to 2 million degrees Celsius).\\n\\nWhile the *surface* of the sun is cooler than its corona and core, it\\'s still extremely hot.\\n'}}}], 'role': 'user'}, 'invocation_id': 'aBfsTb5K', 'author': 'research_agent', 'actions': {'state_delta': {}, 'artifact_delta': {}, 'requested_auth_configs': {}}, 'id': 'phnlgI43', 'timestamp': 1749356070.792235}\n",
            "{'content': {'parts': [{'text': \"Here are the answers to your questions:\\n\\n**Is Earth square?**\\n\\nNo, the Earth is not square. It is more accurately described as an oblate spheroid or an ellipsoid, which means it's like a sphere that is slightly flattened at the poles and bulging at the equator due to its rotation.\\n\\n**Is Moon flat?**\\n\\nNo, the moon is not flat. It is a sphere, though not a perfect one, and is often described as egg-shaped or an oblate spheroid.\\n\\n**Is Sun cold?**\\n\\nNo, the Sun is not cold. The core is the hottest part, reaching around 27 million degrees Fahrenheit (15 million degrees Celsius), while the surface is around 10,000 degrees Fahrenheit (5,500 degrees Celsius).\\n\"}], 'role': 'model'}, 'usage_metadata': {'candidates_token_count': 168, 'candidates_tokens_details': [{'modality': <MediaModality.TEXT: 'TEXT'>, 'token_count': 168}], 'prompt_token_count': 539, 'prompt_tokens_details': [{'modality': <MediaModality.TEXT: 'TEXT'>, 'token_count': 539}], 'total_token_count': 707, 'traffic_type': <TrafficType.ON_DEMAND: 'ON_DEMAND'>}, 'invocation_id': 'e-6aa50a75-50e0-4b69-addd-cea17a8081ba', 'author': 'research_agent', 'actions': {'state_delta': {}, 'artifact_delta': {}, 'requested_auth_configs': {}}, 'id': 'O48jXCgw', 'timestamp': 1749356076.357079}\n"
          ]
        },
        {
          "output_type": "execute_result",
          "data": {
            "text/plain": [
              "\"Here are the answers to your questions:\\n\\n**Is Earth square?**\\n\\nNo, the Earth is not square. It is more accurately described as an oblate spheroid or an ellipsoid, which means it's like a sphere that is slightly flattened at the poles and bulging at the equator due to its rotation.\\n\\n**Is Moon flat?**\\n\\nNo, the moon is not flat. It is a sphere, though not a perfect one, and is often described as egg-shaped or an oblate spheroid.\\n\\n**Is Sun cold?**\\n\\nNo, the Sun is not cold. The core is the hottest part, reaching around 27 million degrees Fahrenheit (15 million degrees Celsius), while the surface is around 10,000 degrees Fahrenheit (5,500 degrees Celsius).\\n\""
            ],
            "application/vnd.google.colaboratory.intrinsic+json": {
              "type": "string"
            }
          },
          "metadata": {},
          "execution_count": 21
        }
      ]
    },
    {
      "cell_type": "code",
      "source": [
        "# One sample data related to function call\n",
        "# data = {\n",
        "#     'content': {\n",
        "#         'parts': [\n",
        "#             {'function_call':\n",
        "#              {'id': 'adk-86084634-fdb5-45ff-be8f-ef3fc5866a35',\n",
        "#               'args': {'request': 'Is Earth square?'},\n",
        "#               'name': 'simple_search_agent'}},\n",
        "#             {'function_call':\n",
        "#              {'id': 'adk-482d0901-8ff9-4f48-bf2c-03539b6dc35a',\n",
        "#               'args': {'request': 'Is Moon flat?'}, 'name': 'simple_search_agent'}},\n",
        "#             {'function_call':\n",
        "#              {'id': 'adk-a8b821f0-b93c-470e-bf41-fa89e7be6d9c',\n",
        "#               'args': {'request': 'Is Sun cold?'}, 'name': 'simple_search_agent'}}"
      ],
      "metadata": {
        "id": "Zf0BBszDEZ-Q"
      },
      "execution_count": null,
      "outputs": []
    },
    {
      "cell_type": "markdown",
      "source": [
        "## Generate the research plan"
      ],
      "metadata": {
        "id": "D_GaJdRlGeMo"
      }
    },
    {
      "cell_type": "code",
      "source": [
        "DEEP_RESEARCH_PLAN_INSTRUCTION = \"\"\"\n",
        "Instruction for a Deep Research Plan Agent\n",
        "\n",
        "As a Deep Research Plan Agent, your primary objective is to generate a comprehensive and insightful research plan. This plan will be presented as a markdown bullet point list of questions. The goal is to not only address the user's explicit query but also to anticipate and explore related avenues of inquiry that would be of interest for a thorough understanding of the topic. Your output should guide the user through a structured and deep exploration of their subject.\n",
        "\n",
        "Here is the process to follow:\n",
        "\n",
        "Deconstruct the Core Topic:\n",
        "\n",
        "What is the fundamental subject of the user's request?\n",
        "What are the primary keywords and concepts?\n",
        "What is the implicit goal of the user's research? (e.g., to understand a concept, to make a decision, to compare and contrast, to solve a problem).\n",
        "Generate Foundational Questions:\n",
        "\n",
        "Start with the basics to establish a strong foundation.\n",
        "What is the definition of the core topic?\n",
        "What is its history and origin?\n",
        "What are the key principles and theories that underpin it?\n",
        "Who are the seminal thinkers, researchers, or figures associated with this topic?\n",
        "Explore Deeper, More Nuanced Aspects:\n",
        "\n",
        "Move beyond the surface-level inquiries.\n",
        "What are the current debates or controversies surrounding this topic?\n",
        "What are the different schools of thought or perspectives?\n",
        "What are the key components, mechanisms, or processes involved? How do they interact?\n",
        "What are the less obvious or often overlooked aspects of this topic?\n",
        "Investigate Connections and Relationships:\n",
        "\n",
        "Think about how the topic connects to broader fields and concepts.\n",
        "How does this topic relate to other relevant disciplines or areas of study?\n",
        "What are the upstream causes and downstream effects of the subject?\n",
        "How has this topic influenced, or been influenced by, historical, social, technological, or economic factors?\n",
        "Consider Practical Applications and Implications:\n",
        "\n",
        "Explore the real-world significance of the topic.\n",
        "What are the practical applications or use cases?\n",
        "What are the ethical, social, or economic implications?\n",
        "Who are the key stakeholders affected by or involved in this topic?\n",
        "Look to the Future:\n",
        "\n",
        "Encourage forward-thinking inquiry.\n",
        "What are the emerging trends and future directions of research in this area?\n",
        "What are the unanswered questions or existing gaps in knowledge?\n",
        "What are the potential future impacts or developments related to this topic?\n",
        "Synthesize and Structure the Plan:\n",
        "\n",
        "Organize the generated questions into a logical flow. A good structure might be:\n",
        "Foundational Understanding\n",
        "In-Depth Analysis\n",
        "Context and Connections\n",
        "Practical Implications\n",
        "Future Outlook\n",
        "Present the final output as a clean, easy-to-read markdown bullet point list.\n",
        "Use sub-bullets to group related questions and create a hierarchical structure.\n",
        "Ensure the questions are open-ended and encourage critical thinking rather than simple fact-finding.\n",
        "By following these instructions, you will create a research plan that is not only deep and thoughtful but also anticipates the user's latent interests, guiding them toward a truly comprehensive understanding of their chosen topic.\n",
        "\n",
        "IMPORTANT:\n",
        "- Output only 10 key questions related to this topic in concise English.\n",
        "- Output as a single layer markdown list.\n",
        "\"\"\""
      ],
      "metadata": {
        "id": "OO2X30YIMyVC"
      },
      "execution_count": 30,
      "outputs": []
    },
    {
      "cell_type": "code",
      "source": [
        "# Instantiate again because each agent tree shall have unique objects.\n",
        "plan_agent = Agent(\n",
        "    model=MODEL,\n",
        "    name=\"plan_agent\",\n",
        "    description=\"Agent to generate a research plan based on the question or topic given by the user\",\n",
        "    instruction=DEEP_RESEARCH_PLAN_INSTRUCTION,\n",
        "    generate_content_config=types.GenerateContentConfig(\n",
        "        max_output_tokens=8000,\n",
        "    ),\n",
        ")"
      ],
      "metadata": {
        "id": "ODUc5KDZGhXD"
      },
      "execution_count": 31,
      "outputs": []
    },
    {
      "cell_type": "code",
      "source": [
        "app = reasoning_engines.AdkApp(\n",
        "    agent=plan_agent,\n",
        "    enable_tracing=True,\n",
        ")\n",
        "\n",
        "session = app.create_session(user_id=USER_ID)\n",
        "\n",
        "response_text = call_remote_agent_engine_app(app, USER_ID, session.id, \"\"\"AI Agent's impact on labour market\"\"\")"
      ],
      "metadata": {
        "id": "mC2JHEnSM8pP",
        "outputId": "0eaf4c0f-479f-4cb5-c787-a42bedd86170",
        "colab": {
          "base_uri": "https://localhost:8080/"
        }
      },
      "execution_count": 32,
      "outputs": [
        {
          "output_type": "stream",
          "name": "stdout",
          "text": [
            "{'content': {'parts': [{'text': '*   What is the current state of AI agent technology and its deployment across various industries?\\n*   How are AI agents currently being used to automate tasks previously performed by human workers?\\n*   What specific job roles and industries are most vulnerable to displacement by AI agents?\\n*   What new job roles and opportunities are emerging as a result of the development and deployment of AI agents?\\n*   How can education and training programs be adapted to prepare workers for the changing demands of the labor market in the age of AI agents?\\n*   What are the potential economic consequences of widespread AI agent adoption, including effects on wages, income inequality, and overall productivity?\\n*   How can governments and policymakers mitigate the negative impacts of AI agent-driven job displacement and ensure a just transition for affected workers?\\n*   What are the ethical considerations surrounding the use of AI agents in the workplace, including issues of bias, transparency, and accountability?\\n*   How do different countries and regions vary in their approaches to regulating and adapting to the impact of AI agents on the labor market?\\n*   What are the long-term societal implications of a labor market increasingly shaped by AI agents, including changes in work culture, social structures, and human well-being?\\n'}], 'role': 'model'}, 'usage_metadata': {'candidates_token_count': 255, 'candidates_tokens_details': [{'modality': <MediaModality.TEXT: 'TEXT'>, 'token_count': 255}], 'prompt_token_count': 700, 'prompt_tokens_details': [{'modality': <MediaModality.TEXT: 'TEXT'>, 'token_count': 700}], 'total_token_count': 955, 'traffic_type': <TrafficType.ON_DEMAND: 'ON_DEMAND'>}, 'invocation_id': 'e-e20e6527-50b1-4e85-901a-bd2046bddb1f', 'author': 'plan_agent', 'actions': {'state_delta': {}, 'artifact_delta': {}, 'requested_auth_configs': {}}, 'id': 'HJVtVtrC', 'timestamp': 1749356195.232636}\n"
          ]
        }
      ]
    },
    {
      "cell_type": "code",
      "source": [
        "# prompt: display response_text as markdown\n",
        "\n",
        "from IPython.display import display, Markdown\n",
        "\n",
        "display(Markdown(response_text))"
      ],
      "metadata": {
        "id": "xm9ctt8GNQL5",
        "outputId": "1cccd01e-800f-494b-985d-fd44ec42e3e4",
        "colab": {
          "base_uri": "https://localhost:8080/",
          "height": 255
        }
      },
      "execution_count": 33,
      "outputs": [
        {
          "output_type": "display_data",
          "data": {
            "text/plain": [
              "<IPython.core.display.Markdown object>"
            ],
            "text/markdown": "*   What is the current state of AI agent technology and its deployment across various industries?\n*   How are AI agents currently being used to automate tasks previously performed by human workers?\n*   What specific job roles and industries are most vulnerable to displacement by AI agents?\n*   What new job roles and opportunities are emerging as a result of the development and deployment of AI agents?\n*   How can education and training programs be adapted to prepare workers for the changing demands of the labor market in the age of AI agents?\n*   What are the potential economic consequences of widespread AI agent adoption, including effects on wages, income inequality, and overall productivity?\n*   How can governments and policymakers mitigate the negative impacts of AI agent-driven job displacement and ensure a just transition for affected workers?\n*   What are the ethical considerations surrounding the use of AI agents in the workplace, including issues of bias, transparency, and accountability?\n*   How do different countries and regions vary in their approaches to regulating and adapting to the impact of AI agents on the labor market?\n*   What are the long-term societal implications of a labor market increasingly shaped by AI agents, including changes in work culture, social structures, and human well-being?\n"
          },
          "metadata": {}
        }
      ]
    },
    {
      "cell_type": "code",
      "source": [],
      "metadata": {
        "id": "Q52YKm5xNe4o"
      },
      "execution_count": null,
      "outputs": []
    },
    {
      "cell_type": "markdown",
      "source": [
        "## Puting it all together"
      ],
      "metadata": {
        "id": "2EiljVZoNfTV"
      }
    },
    {
      "cell_type": "markdown",
      "source": [],
      "metadata": {
        "id": "oE2ozDmbGb5c"
      }
    },
    {
      "cell_type": "code",
      "source": [
        "# Instantiate again because each agent tree shall have unique objects.\n",
        "plan_agent = Agent(\n",
        "    model=MODEL,\n",
        "    name=\"plan_agent\",\n",
        "    description=\"Agent to generate a research plan based on the question or topic given by the user\",\n",
        "    instruction=DEEP_RESEARCH_PLAN_INSTRUCTION,\n",
        "    generate_content_config=types.GenerateContentConfig(\n",
        "        max_output_tokens=8000,\n",
        "    ),\n",
        ")\n",
        "\n",
        "simple_search_agent = Agent(\n",
        "    model=MODEL,\n",
        "    name=\"simple_search_agent\",\n",
        "    description=\"Agent to answer questions using Google Search.\",\n",
        "    instruction=\"I can answer your questions by searching the internet. Just ask me anything!\",\n",
        "    generate_content_config=types.GenerateContentConfig(\n",
        "        max_output_tokens=8000,\n",
        "    ),\n",
        "    tools=[google_search],\n",
        ")\n",
        "\n",
        "multiple_search_agent = Agent(\n",
        "    model=MODEL,\n",
        "    name=\"research_agent\",\n",
        "    description=\"Get answers to multiple questions one by one.\",\n",
        "    instruction=\"Observe the pending questions in the chat log and call the simple_search_agent to conduct search and give answers to each question. Present the search result in a markdown, one section per question and answer\",\n",
        "    generate_content_config=types.GenerateContentConfig(\n",
        "        max_output_tokens=8000,\n",
        "    ),\n",
        "    tools=[AgentTool(simple_search_agent)],\n",
        ")\n",
        "\n",
        "report_agent = Agent(\n",
        "    model=MODEL,\n",
        "    name=\"report_agent\",\n",
        "    description=\"Agent to generate a markdown research report from the questions and their search results from the Internet\",\n",
        "    instruction=\"Summarize the research results and present research report in markdown format\",\n",
        "    generate_content_config=types.GenerateContentConfig(\n",
        "        max_output_tokens=8000,\n",
        "    ),\n",
        ")\n",
        "\n",
        "from google.adk.agents.sequential_agent import SequentialAgent\n",
        "\n",
        "root_agent = SequentialAgent(\n",
        "    name=\"deep_researcher\",\n",
        "    description=\"This is a deep research that makes research plan, use Google search to gather information and generate a report.\",\n",
        "    sub_agents=[plan_agent, multiple_search_agent, report_agent],\n",
        ")\n",
        "\n",
        "app = reasoning_engines.AdkApp(\n",
        "    agent=root_agent,\n",
        "    enable_tracing=True,\n",
        ")"
      ],
      "metadata": {
        "id": "plbGlrGZNjo3"
      },
      "execution_count": 34,
      "outputs": []
    },
    {
      "cell_type": "code",
      "source": [
        "session = app.create_session(user_id=USER_ID)\n",
        "\n",
        "response_text = call_remote_agent_engine_app(app, USER_ID, session.id, \"\"\"AI Agent's impact on labour market\"\"\")"
      ],
      "metadata": {
        "id": "hdLGJEvfOnu1",
        "outputId": "92ce5fa6-f62c-46f7-ca1e-fa9473b88022",
        "colab": {
          "base_uri": "https://localhost:8080/"
        }
      },
      "execution_count": 35,
      "outputs": [
        {
          "output_type": "stream",
          "name": "stdout",
          "text": [
            "{'content': {'parts': [{'text': '- What specific tasks and industries are most likely to be automated or augmented by AI agents?\\n- How might AI agents reshape job roles and skill requirements across different sectors?\\n- What strategies can be implemented to mitigate potential job displacement caused by AI agents?\\n- How can education and training programs adapt to prepare workers for the changing demands of the labor market?\\n- What new job opportunities might emerge as a direct or indirect result of the widespread adoption of AI agents?\\n- How do the economic benefits of AI agent adoption compare to the potential social costs related to employment?\\n- What are the ethical considerations surrounding the use of AI agents in the workplace, particularly regarding bias and fairness?\\n- How might government policies and regulations need to evolve to address the labor market implications of AI agents?\\n- What are the potential long-term effects of AI agents on wage levels and income inequality?\\n- How does the impact of AI agents on the labor market differ across various countries or regions, and what factors contribute to these differences?\\n'}], 'role': 'model'}, 'usage_metadata': {'candidates_token_count': 208, 'candidates_tokens_details': [{'modality': <MediaModality.TEXT: 'TEXT'>, 'token_count': 208}], 'prompt_token_count': 700, 'prompt_tokens_details': [{'modality': <MediaModality.TEXT: 'TEXT'>, 'token_count': 700}], 'total_token_count': 908, 'traffic_type': <TrafficType.ON_DEMAND: 'ON_DEMAND'>}, 'invocation_id': 'e-1cbd20cc-f1da-4e91-bc58-39a4b42cac77', 'author': 'plan_agent', 'actions': {'state_delta': {}, 'artifact_delta': {}, 'requested_auth_configs': {}}, 'id': 'J4Y12WfG', 'timestamp': 1749356232.781193}\n"
          ]
        },
        {
          "output_type": "stream",
          "name": "stderr",
          "text": [
            "WARNING:google_genai.types:Warning: there are non-text parts in the response: ['function_call', 'function_call', 'function_call', 'function_call', 'function_call', 'function_call', 'function_call', 'function_call', 'function_call', 'function_call'], returning concatenated text result from text parts. Check the full candidates.content.parts accessor to get the full model response.\n"
          ]
        },
        {
          "output_type": "stream",
          "name": "stdout",
          "text": [
            "{'content': {'parts': [{'text': \"Okay, I will use the `simple_search_agent` to conduct search and give answers to each question about AI Agent's impact on labour market.\\n\\n\"}, {'function_call': {'id': 'adk-8c76eb23-60ae-4714-9c02-d65b92fae7fc', 'args': {'request': 'What specific tasks and industries are most likely to be automated or augmented by AI agents?'}, 'name': 'simple_search_agent'}}, {'function_call': {'id': 'adk-46c913bb-bf55-4678-b3a2-353774dfef0c', 'args': {'request': 'How might AI agents reshape job roles and skill requirements across different sectors?'}, 'name': 'simple_search_agent'}}, {'function_call': {'id': 'adk-d0bff079-dca9-47fd-95a6-dd29e751d7c0', 'args': {'request': 'What strategies can be implemented to mitigate potential job displacement caused by AI agents?'}, 'name': 'simple_search_agent'}}, {'function_call': {'id': 'adk-1fff1927-0f0e-4527-9ebe-513f06b4b0a3', 'args': {'request': 'How can education and training programs adapt to prepare workers for the changing demands of the labor market?'}, 'name': 'simple_search_agent'}}, {'function_call': {'id': 'adk-65463168-255d-4781-848d-a461cec201b3', 'args': {'request': 'What new job opportunities might emerge as a direct or indirect result of the widespread adoption of AI agents?'}, 'name': 'simple_search_agent'}}, {'function_call': {'id': 'adk-875f6b16-4bbc-476f-b277-f91ed7448c13', 'args': {'request': 'How do the economic benefits of AI agent adoption compare to the potential social costs related to employment?'}, 'name': 'simple_search_agent'}}, {'function_call': {'id': 'adk-21cf5d4f-5b86-414a-a743-7c8e893a6461', 'args': {'request': 'What are the ethical considerations surrounding the use of AI agents in the workplace, particularly regarding bias and fairness?'}, 'name': 'simple_search_agent'}}, {'function_call': {'id': 'adk-7fbfef4b-5d77-4012-982e-5d8268efab0a', 'args': {'request': 'How might government policies and regulations need to evolve to address the labor market implications of AI agents?'}, 'name': 'simple_search_agent'}}, {'function_call': {'id': 'adk-cbf142e7-5631-485b-97e8-655b765c7ab1', 'args': {'request': 'What are the potential long-term effects of AI agents on wage levels and income inequality?'}, 'name': 'simple_search_agent'}}, {'function_call': {'id': 'adk-89d5152e-111c-4c1a-b0d2-1347a849eaa9', 'args': {'request': 'How does the impact of AI agents on the labor market differ across various countries or regions, and what factors contribute to these differences?'}, 'name': 'simple_search_agent'}}], 'role': 'model'}, 'usage_metadata': {'candidates_token_count': 281, 'candidates_tokens_details': [{'modality': <MediaModality.TEXT: 'TEXT'>, 'token_count': 281}], 'prompt_token_count': 314, 'prompt_tokens_details': [{'modality': <MediaModality.TEXT: 'TEXT'>, 'token_count': 314}], 'total_token_count': 595, 'traffic_type': <TrafficType.ON_DEMAND: 'ON_DEMAND'>}, 'invocation_id': 'e-1cbd20cc-f1da-4e91-bc58-39a4b42cac77', 'author': 'research_agent', 'actions': {'state_delta': {}, 'artifact_delta': {}, 'requested_auth_configs': {}}, 'long_running_tool_ids': set(), 'id': 'EQM2jSSO', 'timestamp': 1749356234.905464}\n",
            "{'content': {'parts': [{'function_response': {'id': 'adk-8c76eb23-60ae-4714-9c02-d65b92fae7fc', 'name': 'simple_search_agent', 'response': {'result': \"AI agents are poised to revolutionize various tasks and industries by automating repetitive processes, improving decision-making, and enhancing productivity. Here's a breakdown of specific areas most likely to be affected:\\n\\n**1. Industries with High Automation Potential:**\\n\\n*   **Customer Service:** AI-powered chatbots and virtual assistants can handle basic inquiries, troubleshoot issues, and even upsell products, providing 24/7 support and reducing labor costs.\\n*   **Finance:** Automation potential is high in roles like bank tellers, stock traders, and loan officers. AI can also improve efficiencies in risk management by taking on lower-value tasks like regulatory reporting and data collection.\\n*   **Healthcare:** AI can assist with administrative tasks like appointment scheduling, billing, and medical coding. It can also aid in diagnosing conditions, monitoring patients, and even performing specialized tasks with high efficiency.\\n*   **Logistics and Warehousing:** AI-driven inventory management and automated packing are transforming this sector.\\n*   **Manufacturing:** Assembly line operators and quality inspectors are increasingly being replaced by robotic arms, assembly bots, and AI-powered vision systems.\\n*   **Marketing:** AI agents can streamline marketing workflows by automating tasks like scheduling social media posts, analyzing online content, and managing marketing admin work.\\n*   **Retail and Consumer Packaged Goods (CPG):** AI can automate key functions such as customer service, marketing and sales, and inventory and supply chain management.\\n*   **High Tech:** Generative AI can increase the speed and efficiency of software development.\\n*   **Education:** AI can provide personalized learning experiences and automate administrative tasks.\\n\\n**2. Tasks Most Likely to Be Automated:**\\n\\n*   **Data Entry and Processing:** AI systems can efficiently process data, respond to inquiries, and operate machinery, making data entry clerks particularly vulnerable.\\n*   **Repetitive Administrative Tasks:** AI agents can automate routine tasks like scheduling, report generation, and document management, reducing manual workload and human error.\\n*   **Customer Interactions:** AI chatbots and digital assistants can handle repetitive customer inquiries, process orders, and provide timely responses.\\n*   **Lead Generation and Qualification:** AI agents can analyze customer data, behavior, and market trends to identify potential leads and qualify them based on specific criteria.\\n*   **Sales and Marketing Automation:** AI can automate follow-up emails, personalize sales outreach, and create targeted content.\\n*   **HR Tasks:** AI agents can screen applications, automate initial screenings, and answer HR-related queries.\\n*   **Data Analysis:** AI agents can analyze and process data, detecting patterns and identifying trends.\\n\\n**3. Specific Roles at Risk:**\\n\\n*   Data Entry Clerks\\n*   Customer Service Representatives\\n*   Cashiers\\n*   Telemarketers\\n*   Receptionists\\n*   Assembly Line Operators\\n*   Quality Inspectors\\n*   Bank Tellers\\n*   Stock Traders\\n*   Loan Officers\\n*   Legal Assistants\\n*   Financial Advisors\\n*   Truck and Taxi Drivers\\n*   Warehouse Workers\\n\\nWhile AI poses a threat to some jobs, it also creates opportunities in fields like AI development, data analysis, cybersecurity, and AI maintenance. Skilled or creative positions are more likely to be augmented by AI rather than replaced.\\n\"}}}, {'function_response': {'id': 'adk-46c913bb-bf55-4678-b3a2-353774dfef0c', 'name': 'simple_search_agent', 'response': {'result': \"AI agents are poised to significantly reshape job roles and skill requirements across various sectors, leading to both new opportunities and potential challenges. Here's a breakdown of how this transformation might occur:\\n\\n**1. Automation of Routine Tasks:**\\n\\n*   AI agents excel at automating repetitive and mundane tasks like data entry, scheduling, customer service, and report generation.\\n*   This automation frees up human employees to focus on more strategic, creative, and complex aspects of their jobs.\\n*   Industries like manufacturing, logistics, retail, and customer service are experiencing this shift as AI-driven tools take over repetitive manual tasks.\\n\\n**2. Job Displacement and Creation:**\\n\\n*   While AI automates tasks, leading to potential job displacement, it also creates new job opportunities.\\n*   New roles are emerging in AI management, machine learning, data analysis, AI ethics, and AI development.\\n*   Examples include AI supervisors, machine learning trainers, data scientists, AI specialists, system integrators, and AI ethics officers.\\n*   Some sources predict a net gain in jobs due to AI, while others foresee potential job losses in specific sectors. For example, one source projects 133 million new jobs will be created, while 75 million will be displaced.\\n\\n**3. Transformation of Existing Jobs:**\\n\\n*   Many traditional roles are evolving to incorporate AI tools, enhancing productivity and innovation.\\n*   AI often augments existing jobs rather than completely replacing them.\\n*   Examples include AI-assisted diagnostics in healthcare and AI-driven analytics in marketing.\\n\\n**4. Evolving Skill Requirements:**\\n\\n*   Traditional skill sets are being supplemented with AI-specific proficiencies.\\n*   New jobs demand a deep understanding of AI algorithms and technologies, along with expertise in programming, data analysis, and domain-specific knowledge.\\n*   There's an increased emphasis on skills like critical thinking, creativity, problem-solving, and adaptability.\\n*   Technical skills such as data analytics, machine learning, and programming are in high demand.\\n*   Soft skills like leadership, communication, and collaboration are also becoming increasingly important for working alongside AI systems.\\n\\n**5. Impact on Different Sectors:**\\n\\n*   **Manufacturing:** Workers need new skills to operate and maintain AI-driven machines and robots.\\n*   **Healthcare:** AI assists doctors and nurses with diagnoses and treatment recommendations.\\n*   **Customer Service:** Chatbots handle routine inquiries, allowing human agents to focus on complex issues.\\n*   **Deskless Jobs:**  AI is reshaping roles in manufacturing, logistics, retail, agriculture, construction, and cleaning, requiring workers to operate and monitor AI-enabled tools.\\n\\n**6. The Need for Upskilling and Reskilling:**\\n\\n*   Continuous learning and adaptation are crucial for individuals to remain competitive in the AI-driven job market.\\n*   Workers need to develop digital literacy and adapt to new technologies.\\n*   Employers must invest in reskilling and upskilling programs to prepare their workforce for AI-driven changes.\\n*   AI can also personalize the skill development process, recommending training and resources based on individual needs and career goals.\\n\\n**7. Ethical Considerations:**\\n\\n*   As AI agents become more prevalent, it's essential to address ethical considerations surrounding their use.\\n*   Issues such as data privacy, bias in AI decision-making, and accountability in AI-driven processes need careful attention.\\n\\n**8. Potential Challenges:**\\n\\n*   The rapid pace of technological evolution may make reskilling challenging.\\n*   There are concerns about potential job displacement and the need to support workers at risk.\\n*   Ensuring that AI is used ethically and responsibly is crucial to avoid unintended consequences.\\n\\nIn conclusion, AI agents are transforming the job market by automating tasks, creating new roles, and changing skill requirements. To thrive in this evolving landscape, individuals and organizations must embrace continuous learning, adapt to new technologies, and address the ethical considerations surrounding AI adoption.\\n\"}}}, {'function_response': {'id': 'adk-d0bff079-dca9-47fd-95a6-dd29e751d7c0', 'name': 'simple_search_agent', 'response': {'result': 'To mitigate potential job displacement caused by AI agents, consider the following strategies:\\n\\n**1. Focus on Reskilling and Upskilling**\\n*   **Offer Training Programs:** Provide training and development programs focused on AI technologies to help employees acquire new skills and remain valuable contributors.\\n*   **Continuous Learning:** Encourage employees to stay updated with AI trends and acquire skills relevant to emerging roles through online courses, workshops, or certifications in AI-related fields.\\n*   **Adaptability:** Equip workers with skills to transition into new roles, ensuring they can move into positions that require more complex, human-centric skills.\\n\\n**2. Promote AI-Human Collaboration**\\n*   **Job Redesign:** Identify tasks that AI can automate and reallocate employees to higher-value tasks that require creativity, critical thinking, and emotional intelligence.\\n*   **Enhance Human Capabilities:** Focus on leveraging AI to enhance human capabilities rather than viewing AI as a direct replacement for human workers.\\n\\n**3. Encourage Innovation and Entrepreneurship**\\n*   **New Job Creation:** Support the creation of new jobs in emerging fields such as AI development, data science, cybersecurity, and AI ethics.\\n*   **Support Programs:** Offer incentives, grants, and support programs for workers transitioning into AI-related fields, and encourage entrepreneurship and innovation in AI.\\n\\n**4. Implement Supportive Policies**\\n*   **Inclusive Economic Policies:** Implement policies that promote inclusive economic growth and reduce income inequality.\\n*   **Social Safety Nets:** Provide social safety nets and implement policies that support displaced workers, such as unemployment insurance or universal basic income (UBI).\\n*   **Wage Subsidies and Tax Incentives:** Consider wage subsidies, tax incentives for businesses that invest in worker training, and grants for education programs to ease the impact of job displacement.\\n\\n**5. Ethical AI Deployment**\\n*   **Ethical Guidelines:** Adopt ethical guidelines for AI deployment, considering the impact on jobs and taking proactive measures to minimize displacement.\\n*   **Worker Transition Programs:** Develop programs to help displaced workers transition to new roles, including retraining, job placement, and support services.\\n\\n**6. Foster a Culture of Innovation and Agility**\\n*   **Embrace Change:** Encourage a growth mindset and openness to embracing changes and learning from failures.\\n*   **Collaboration:** Foster a culture of innovation and agility to navigate the challenges of AI adoption while empowering the workforce.\\n\\n**7. Transparent Communication**\\n*   **Address Concerns:** HR leaders need to address employee concerns about AI replacing their jobs by educating, communicating openly, highlighting benefits, and organizing feedback sessions.\\n*   **Highlight Benefits:** Explain how technological innovation can help employees work more efficiently, reduce their workload, and enhance their job performance, freeing them from repetitive tasks.\\n\\nBy implementing these strategies, it is possible to harness the benefits of AI while mitigating its disruptive effects on the job market and ensuring a smooth transition for workers in the evolving economy.\\n'}}}, {'function_response': {'id': 'adk-1fff1927-0f0e-4527-9ebe-513f06b4b0a3', 'name': 'simple_search_agent', 'response': {'result': 'To prepare workers for the changing demands of the labor market, education and training programs can adapt in several ways:\\n\\n**1. Focus on Skills-Based Learning:**\\n\\n*   **Emphasis on Practical Skills:** Prioritize practical, job-ready skills that employers seek, such as data science, AI, and digital marketing.\\n*   **Hands-on Training:** Incorporate hands-on training and industry-specific certifications to equip students with skills for the modern workforce.\\n*   **Balance Technical and Soft Skills:** Integrate technical expertise with essential soft skills like communication, collaboration, problem-solving, creativity, and emotional intelligence.\\n*   **Develop Entrepreneurial Mindsets:** Encourage creativity, resilience, and a willingness to take risks, preparing students for the gig economy and remote work.\\n\\n**2. Curriculum Adaptation and Alignment:**\\n\\n*   **Regularly Update Curricula:** Assess and update curricula to align with the evolving demands of the job market.\\n*   **Integrate Labor Market Data:** Use labor market data to inform strategic planning and ensure programs stay ahead of the curve.\\n*   **Skills Anticipation:** Develop systems to anticipate skill needs and minimize mismatches between workforce skills and labor market demands.\\n*   **Address Skill Gaps:** Upskill and reskill employees to meet market demands and bridge skill shortages.\\n\\n**3. Embrace Lifelong Learning:**\\n\\n*   **Promote Continuous Learning:** Instill a mindset of continual learning to enable individuals to adjust to evolving challenges.\\n*   **Offer Flexible Programs:** Cater to working professionals with flexible programs, allowing them to update skills and acquire further qualifications.\\n*   **Expand Access:** Offer certificates, continuing education programs, and flexible, online options suitable for working adults and non-traditional learners.\\n\\n**4. Integrate Technology:**\\n\\n*   **Utilize Digital Tools:** Incorporate AI tools for personalized tutoring, automated grading, and content creation.\\n*   **Promote Digital Literacy:** Equip students with the necessary skills to thrive in a technology-driven job market.\\n*   **Online Education:** Invest in online education platforms for remote learning opportunities.\\n\\n**5. Strengthen Industry Partnerships:**\\n\\n*   **Collaboration with Employers:** Work with employers to align offerings with industry needs.\\n*   **Co-develop Programs:** Co-develop programs with industry stakeholders to ensure students gain relevant, real-world experience.\\n*   **Experiential Learning:** Enrich the student journey with internships, apprenticeships, and experiential learning opportunities.\\n*   **Industry Advisory Boards:** Establish boards to provide insights into the changing job market and help shape curriculum development.\\n\\n**6. Support Career Transitions:**\\n\\n*   **Provide Career Guidance:** Offer support, information, and career guidance to help individuals navigate transitions from school to work and between jobs.\\n*   **Skills-Based Strategy**: Employers can identify future-ready skills, offer tailored training programs, and leverage tools like digital credentials to track and validate progress.\\n*   **Focus on Agility**: Review curriculum relevance frequently and maintain open communication with industry partners.\\n\\n**7. Address Shifting Paradigms:**\\n\\n*   **Skills over Degrees:** Recognize that skills and credentials may take prominence over degrees.\\n*   **Non-Formal Education:** Acknowledge the critical role of non-formal education for workforce development.\\n*   **Enterprises in Training:** Encourage enterprises to play a more prominent role in training and retraining.\\n\\nBy implementing these strategies, education and training programs can better prepare workers for the changing demands of the labor market, ensuring they have the skills and knowledge needed to succeed in the future.\\n'}}}, {'function_response': {'id': 'adk-65463168-255d-4781-848d-a461cec201b3', 'name': 'simple_search_agent', 'response': {'result': \"The widespread adoption of AI agents is expected to create numerous job opportunities, both directly and indirectly. Here's a breakdown of potential new roles:\\n\\n**Directly Related to AI Agents:**\\n\\n*   **AI Agent Developers:** Experts in designing, refining, and deploying AI algorithms to solve complex business challenges and improve system efficiency.\\n*   **Machine Learning Engineers:** These specialists will be in high demand to develop and maintain the AI systems.\\n*   **AI Trainers/Teachers:** Individuals responsible for training and teaching AI systems, ensuring algorithms are accurate and effective, and developing new AI applications.\\n*   **AI Ethicists/Policy Specialists:** As AI becomes more prevalent, there's a growing need for individuals who can address the ethical and policy implications of AI, ensuring systems are developed and used responsibly.\\n*   **AI Integration Consultants:** Experts who can help businesses integrate AI agents into their existing workflows and systems.\\n*   **AI System Auditors:** Professionals who evaluate AI systems for biases and regulatory compliance.\\n*   **AI Maintenance Professionals:** Responsible for the upkeep and repair of AI systems.\\n*   **Prompt Engineers:** Individuals who optimize text or code-based inputs to achieve desired outputs on chatbot platforms, developing questions and utilizing prompt techniques to get specific generative AI outputs.\\n*   **AI Personality Designers:** Professionals who craft brand-specific AI personalities.\\n\\n**Indirectly Related to AI Agents:**\\n\\n*   **Data Analysts:** Professionals who translate AI-generated data into actionable business strategies, helping companies make informed decisions in real-time.\\n*   **Creative roles:** Innovators who harness AI tools to create impactful campaigns, dynamic content, and personalized user experiences in marketing and branding.\\n*   **University and Higher Education Teachers:** Growth opportunities are expected in education as new skills become necessary.\\n*   **Power Systems Engineers:** As AI systems require significant energy, roles in power systems engineering could increase.\\n\\n**Other areas:**\\n\\n*   **Healthcare:** AI-assisted medical diagnostics will create new jobs.\\n*   **Manufacturing:** AI will optimize processes, facilitate product development, improve logistics, enable predictive maintenance, and support robotics, creating new roles requiring a blend of technical expertise and uniquely human skills.\\n\\nIt's worth noting that while AI will create many new jobs, it will also displace some. The World Economic Forum projects a net gain in jobs, but certain industries, like manufacturing, may experience displacement. The key to navigating this change will be adapting and developing new skills to complement AI agents' capabilities.\\n\"}}}, {'function_response': {'id': 'adk-875f6b16-4bbc-476f-b277-f91ed7448c13', 'name': 'simple_search_agent', 'response': {'result': \"It appears you're asking for a comparison of the economic benefits of adopting AI agents against the potential social costs, particularly those related to employment. Here's a breakdown of how these factors balance out:\\n\\n**1. Economic Benefits of AI Agent Adoption:**\\n\\n*   **Increased Productivity & Efficiency:**\\n    *   AI agents can automate repetitive and time-consuming tasks, freeing up human employees to focus on more strategic, creative, or decision-making roles.\\n    *   They can enhance productivity across industries.\\n    *   AI can lead to faster task completion and reduced bottlenecks.\\n*   **Cost Reduction & Improved ROI:**\\n    *   AI agents reduce dependency on manual labor, which saves time and resources.\\n    *   They can optimize energy distribution and consumption.\\n    *   AI can automate routine and high-volume processes.\\n*   **Revenue Growth:**\\n    *   Companies using AI agents report faster product cycles and enhanced customer experiences, driving revenue increases.\\n    *   Businesses adopting AI sales agents may see a rise in sales ROI.\\n*   **Improved Customer Experience:**\\n    *   AI agents can revolutionize customer operations, improving customer experience through digital self-service.\\n    *   They can automate interactions with customers using natural language.\\n*   **Specific Industry Impacts**:\\n    *   In banking, AI can increase productivity and enhance customer satisfaction while decreasing risks.\\n    *   AI agents can optimize investment strategies and manage large portfolios in finance.\\n    *   They can develop self-driving cars in transportation and logistics.\\n*   **Overall Economic Impact:**\\n    *   Generative AI could add trillions of dollars in value to the global economy.\\n    *   It can substantially increase labor productivity across the economy.\\n\\n**2. Social Costs Related to Employment:**\\n\\n*   **Job Displacement:**\\n    *   A significant concern is the potential for AI agents to displace human workers, especially in roles involving repetitive tasks.\\n    *   As companies replace workers with AI agents (which are cheaper and easier to manage), it risks job displacement and increased inequality.\\n*   **Need for Reskilling and Adaptation:**\\n    *   Workers will need support in learning new skills.\\n    *   Some may need to change occupations entirely.\\n    *   AI-driven unemployment may require extensive retraining for workers to shift into new fields.\\n*   **Wage Stagnation/Decline:**\\n    *   The emergence of AI could reduce the marginal productivity of human labor, potentially pushing wages down.\\n*   **Increased Inequality:**\\n    *   As AI and capital replace human workers, economic power could shift to capital owners, resulting in wealth concentration and reduced social mobility.\\n    *   The benefits and costs of AI may be distributed unevenly across different sectors and demographics.\\n*   **Social Unrest:**\\n    *   Job displacement and inequality could lead to social unrest.\\n*   **Challenges to Social Insurance Systems:**\\n    *   AI-driven job losses pose unique challenges to existing social insurance systems.\\n    *   Traditional unemployment programs may not be sufficient to support workers needing extensive retraining.\\n\\n**3. Balancing the Benefits and Costs:**\\n\\n*   **Job Evolution, Not Just Job Loss:** The emphasis should be on how AI agents can free up skilled workers to focus on decision-making, creativity, and strategy.\\n*   **The Human Role is Redefined:** Workers may transition from hands-on operators to orchestrators of AI-enabled systems, focusing on higher-value tasks.\\n*   **New Job Roles:** AI will likely spark new careers, such as AI agent managers.\\n*   **Importance of Verifiable AI:** Trust is crucial for the success of AI. Verifiable AI ensures reliability and trustworthiness.\\n*   **Policy and Regulation:**\\n    *   Frameworks are needed to encourage safe automation.\\n    *   Regulatory frameworks should clarify where AI agents can be used.\\n    *   Transparency in AI-assisted processes is essential.\\n*   **Social Safety Nets and Adaptations:**\\n    *   Consideration of new economic structures like Universal Basic Income (UBI) to redistribute AI-generated wealth.\\n    *   Explore AI Displacement Insurance (AIDI) to support workers displaced by AI technologies.\\n    *   Implement progressive AI capital taxation to mitigate inequality.\\n*   **Ethical Considerations:** Enterprises adopting AI Agents should focus on ethical implementation and alignment with business goals.\\n\\nIn conclusion, the economic benefits of AI agent adoption are substantial, promising increased productivity, cost reduction, and revenue growth. However, these benefits must be carefully balanced against the potential social costs, including job displacement, increased inequality, and the need for workforce adaptation. Proactive measures, such as investments in reskilling programs, the development of new social safety nets, and thoughtful policy and regulation, are essential to ensure that the benefits of AI are shared broadly and that the negative impacts are mitigated.\\n\"}}}, {'function_response': {'id': 'adk-21cf5d4f-5b86-414a-a743-7c8e893a6461', 'name': 'simple_search_agent', 'response': {'result': 'The ethical considerations surrounding the use of AI agents in the workplace, particularly regarding bias and fairness, are multifaceted and demand careful attention. These considerations span various aspects, including potential job displacement, the perpetuation of biases, and the need for transparency and accountability.\\n\\n Here\\'s a breakdown of the key ethical considerations:\\n\\n **1. Bias and Fairness:**\\n\\n *   **AI Bias:** AI systems can exhibit bias due to flaws in data collection, algorithm design, and human influence during development. This can lead to unfair or skewed outcomes, including incorrect predictions, high false negative rates, or decision-making that disproportionately affects marginalized groups.\\n *   **Sources of Bias:** Bias can arise from various sources, including:\\n     *   **Historical Data:** AI models learn from historical data, which may reflect existing societal inequalities. If this bias is not addressed, AI models can reinforce and amplify these disparities, leading to unfair AI-driven decisions.\\n     *   **Algorithmic Bias:** The design of an AI system can inherently favor certain groups over others, for instance, by the way the algorithm weighs different factors.\\n     *   **Data Bias:** This can occur at various stages of data collection and preparation, such as using prejudiced assumptions during AI data collection. For example, an HR machine learning model trained on biased historical data might favor candidates from certain schools or with specific merits, leading to inequality and limited diversity.\\n *   **Impact of Biased AI:** Biased AI can lead to discriminatory outcomes in hiring, promotions, loan approvals, and other critical areas. This undermines trust in AI systems and can result in legal troubles, such as discrimination lawsuits.\\n *   **Mitigating Bias:**\\n     *   **Rebalancing Training Data:** Use datasets that reflect diverse populations to improve model accuracy and fairness. Techniques like data augmentation and re-weighting can help balance representation across different groups.\\n     *   **Adversarial Debiasing:** Train AI models to recognize and minimize biases during the learning process.\\n     *   **Regular Auditing:** Implement ongoing checks to identify and correct biases in AI outputs.\\n     *   **Algorithmic Fairness Techniques:** Employ methods like adversarial debiasing or fair representation learning to reduce bias at the algorithm level.\\n     *   **Diverse Development Teams:** Include people from various backgrounds in AI development to bring different perspectives and help spot potential biases.\\n\\n **2. Transparency and Explainability:**\\n\\n *   **Transparency:** Openness about how AI makes decisions and uses data.\\n *   **Explainability:** Making AI processes comprehensible to humans, often in non-technical terms.\\n *   **Importance:** Transparency and explainability are essential for building trust in AI agents. As AI systems influence critical decisions, stakeholders need to understand how these decisions are reached.\\n *   **Challenges:** Many AI systems operate as \"black boxes,\" making it difficult to explain or justify AI-driven decisions.\\n *   **Solutions:** Implementing explainable AI methodologies ensures that business processes remain transparent even as automation increases.\\n\\n **3. Accountability and Oversight:**\\n\\n *   **Accountability:** Establishing a system for taking responsibility when mistakes occur or biases emerge.\\n *   **Human Oversight:** Essential to prevent AI agents from making unchecked decisions that could lead to harmful or unintended consequences.\\n *   **AI Ethics Officers/Committees:** Many companies assign dedicated teams or appoint Chief AI Ethics Officers to track AI outcomes, conduct regular reviews, and report on any concerns that arise.\\n *   **Auditing Systems:** Creating a transparent auditing system allows businesses to demonstrate that they take ethics and compliance seriously.\\n\\n **4. Job Displacement and the Changing Nature of Work:**\\n\\n *   **Job Displacement:** AI and automation have replaced certain roles, particularly those involving repetitive or routine tasks.\\n *   **Job Creation:** AI is also a powerful driver of job creation, paving the way for new roles such as AI ethicist and machine learning engineer.\\n *   **Reskilling and Upskilling:** Workers need to adapt and develop new skills to work alongside AI, ensuring they can fully leverage its capabilities in the workplace.\\n *   **Preserving Human Dignity**: If human workers perceive AI agents as being better at doing their jobs than they are, they could experience a decline in their self-worth.\\n\\n **5. Privacy and Data Security:**\\n\\n *   **Privacy Invasion:** Autonomous agents often require access to large amounts of data to function effectively, including sensitive personal or organizational information, raising concerns about data collection and use without proper consent.\\n *   **Data Breaches:** Relying on AI systems to collect and analyze data can make it hard to contain data breaches.\\n *   **Data Protection:** Ensuring that all personal data is used ethically.\\n *   **AI Frameworks:** Policymakers and firms must adopt AI frameworks that consider privacy, fairness, transparency, collaboration, and accountability between humans and machines.\\n\\n **6. Ethical Frameworks and Legal Compliance:**\\n\\n *   **Ethical AI:** The responsible design, development, and deployment of AI systems in ways that respect human rights, promote fairness, and minimize harm.\\n *   **Legal Frameworks:** Governments and international organizations have introduced regulations and guidelines to promote ethical AI usage.\\n *   **Compliance:** AI systems deployed globally must comply with a patchwork of legal frameworks, creating complexities for multinational corporations.\\n *   **Proactive Measures**: Due diligence prior to implementing an AI-based employment tool, drafting vendor contracts to mitigate risk, and conducting regular bias audits.\\n\\n **7. Key Principles for Ethical AI:**\\n\\n *   **Fairness:** Ensuring AI agents treat all users equitably, without discriminating based on protected characteristics.\\n *   **Transparency:** The inner workings of AI systems should be open to scrutiny.\\n *   **Accountability:** Humans must ultimately take responsibility for AI-driven decisions and actions.\\n\\n By addressing these ethical considerations, organizations can work towards creating AI systems that are fair, transparent, and accountable, promoting trust and ensuring that AI benefits all members of society.\\n'}}}, {'function_response': {'id': 'adk-7fbfef4b-5d77-4012-982e-5d8268efab0a', 'name': 'simple_search_agent', 'response': {'result': \"To address the labor market implications of AI agents, government policies and regulations may need to evolve in several ways:\\n\\n**1. Worker Protection and Rights:**\\n\\n*   **Monitoring and Surveillance:** Regulations are needed to protect workers from intrusive surveillance practices enabled by AI, ensuring it doesn't interfere with their rights.\\n*   **Algorithmic Transparency and Accountability:** Implement frameworks for joint decision-making, oversight, and accountability in deploying algorithmic technologies.\\n*   **Right to Contest Automated Decisions:** Workers should be able to contest automated decisions and demand human intervention.\\n*   **Data Privacy:** Implement strict safeguards to protect workers' non-work-related personal and psychological data.\\n\\n**2. Employment and Job Quality:**\\n\\n*   **Mitigating Job Displacement:** Policies should address potential job displacement, promote workforce re-skilling and up-skilling, and support workers in transitioning to new roles.\\n*   **Fairness in Hiring and Promotion:** Regulations should prevent AI-induced discrimination in hiring, access to training, promotion, and dismissals, reinforcing ethical AI implementation.\\n*   **Labor Standards and Job Quality:** Develop and publish principles and best practices for employers to mitigate AI's potential harms to employees' well-being and maximize its potential benefits, specifically addressing job-displacement risks, labor standards and job quality, and worker privacy.\\n*   **Wage Protection:** Fair taxation systems should redistribute AI-generated wealth, funding public digital infrastructure and worker protection, particularly in raising wages.\\n\\n**3. Training and Education:**\\n\\n*   **AI Literacy:** Workers need lifelong AI-related training.\\n*   **Upskilling and Retraining Programs:** Policies should focus on retraining and upskilling programs to help displaced workers adapt to new AI-driven roles.\\n*   **Employer Responsibility:** Employers must be legally required to provide relevant training and involve trade unions in joint training for upskilling.\\n\\n**4. Governance and Ethical Considerations:**\\n\\n*   **AI Standards Boards:** Establish AI standard-setting boards with government, employer, and worker representatives to set guardrails for AI introduction in workplaces, including impact assessment mandates, transparency and consent requirements, and ethics frameworks.\\n*   **Ethical Norms:** AI must follow strict ethical norms to ensure transparency and accountability.\\n*   **Risk-Based Approaches:** Policies should use risk-based approaches with clear roles and robust privacy, transparency, and safety guardrails.\\n\\n**5. Collective Bargaining and Worker Voice:**\\n\\n*   **Empowering Trade Unions:** Trade unions must be empowered to negotiate AI deployment strategies that enhance job quality and productivity while ensuring fairness, worker autonomy, and collective decision-making.\\n*   **Worker Involvement:** Employers must involve trade unions and worker representatives in AI-related workplace decisions and ensure the possibility for negotiated solutions.\\n\\n**6. Addressing Market Concentration:**\\n\\n*   **Antitrust Laws:** Strengthen antitrust laws and introduce strict regulations to prevent market concentration in AI services and infrastructure.\\n\\n**7. Transparency and Explainability:**\\n\\n*   **User Awareness:** Users need to know when they are interacting with an AI agent instead of a human.\\n*   **Explainable AI:** Systems ensuring full transparency and explainability will be required for any agentic AI deployment.\\n\\n**8. Accountability:**\\n\\n*   **Clear Responsibility:** Clearly define who is responsible for ensuring the agent functions properly and delivers trusted outputs.\\n\\n**9. Data Governance and Privacy:**\\n\\n*   **Data Security:** AI agents will have to operate with high standards of privacy and data security.\\n\"}}}, {'function_response': {'id': 'adk-cbf142e7-5631-485b-97e8-655b765c7ab1', 'name': 'simple_search_agent', 'response': {'result': \"The long-term effects of AI agents on wage levels and income inequality are complex and depend on various factors, with experts holding differing views. Here's a breakdown of the potential impacts:\\n\\n**Potential Negative Impacts:**\\n\\n*   **Job Displacement and Wage Stagnation:**\\n    *   AI-driven automation could lead to job losses, especially in roles involving repetitive tasks in manufacturing and administrative sectors. [3, 7]\\n    *   Even with new jobs created by AI, there could be a net loss of jobs in specific industries. [7]\\n    *   Increased productivity due to AI may not translate to higher wages for workers, especially if demand doesn't increase enough to offset productivity gains. [1]\\n    *   The wage premium for skills that AI can replicate may decrease, potentially shifting income from labor to capital. [1]\\n*   **Increased Income Inequality:**\\n    *   AI-driven productivity boosts could disproportionately benefit high-income, highly-skilled knowledge workers, leaving lower-skilled workers behind. [1]\\n    *   High-skilled positions in AI-related fields offer lucrative salaries, further widening the income gap. [3]\\n    *   Those lacking skills and education to adapt to technological changes may find themselves in low-paying jobs. [3]\\n    *   AI could reinforce the dominance of wealthier nations in high-value sectors, making it harder for poorer countries to compete. [4]\\n    *   AI may automate tasks in developing countries, undermining lower-cost labor. [4]\\n*   **Shift from Labor to Capital:** Continued AI advancement could automate tasks, which shifts economic returns from labor to capital. [1]\\n\\n**Potential Positive Impacts:**\\n\\n*   **Increased Productivity and Economic Growth**:\\n    *   AI has the potential to increase long-term economic growth by boosting the quality of the labor force, helping workers attain more skills, and improving their health. [2]\\n    *   AI could boost economic growth and demand for labor through higher productivity and the development of new products and services. [2]\\n    *   AI can complement workers by making them more productive, increasing economic growth and demand for workers. [2]\\n*   **Reduced Income Inequality**:\\n    *   The lowest skilled or least experienced workers in certain occupations may derive greater productivity gains from AI than their higher-skilled counterparts. [1]\\n    *   AI could boost productivity for lower-skilled workers, potentially reducing income inequality. [5]\\n*   **New Job Creation:**\\n    *   AI is expected to create new jobs in healthcare, pharmaceuticals, and other industries. [7]\\n    *   AI is creating new job roles like data analysts, AI programmers, and machine learning specialists. [7]\\n*   **Improved Job Quality:** Workers recognize the potential benefits of AI in improving job quality by automating routine tasks, improving physical safety at work, and freeing up more time for more engaging tasks. [2]\\n\\n**Important Considerations:**\\n\\n*   **Government Policies**: Governments must act to counter AI's disruptive effects. [4]\\n*   **Adaptability and Skills**: The need for adaptability in the workforce and addressing income inequality is important as we move into an AI-dominated era. [3]\\n*   **Upskilling and Training**: Companies should invest in employee development through upskilling to reduce the risk of technological exclusion. [9]\\n*   **Ethical Considerations**: Ethical and social challenges related to AI need to be addressed. [10]\\n*   **Balancing Labor Substitution and Demand Creation:** The overall impact of AI will depend on the balance between labor substitution and the creation of new jobs. [2]\\n*   **The Role of Judgment:** Where judgment defines the difference between high- and low-skilled workers, AI will disproportionately benefit those with higher skills, increasing income disparity. [5]\\n\\nIt's important to note that the long-term effects of AI are still uncertain and depend on policy choices, how quickly AI is adopted, and how well workers can adapt to the changing job market. [4, 11]\\n\"}}}, {'function_response': {'id': 'adk-89d5152e-111c-4c1a-b0d2-1347a849eaa9', 'name': 'simple_search_agent', 'response': {'result': \"The impact of AI agents on the labor market varies significantly across countries and regions due to a complex interplay of factors. Here's a breakdown of the key differences and contributing elements:\\n\\n**1. Differing Levels of AI Exposure and Complementarity:**\\n\\n*   **Advanced Economies:** Generally face higher AI exposure because a larger proportion of their workforce is in professional and managerial roles involving cognitive tasks that AI can impact. However, they also have a greater capacity for AI complementarity, meaning AI can enhance productivity rather than simply replace workers.\\n*   **Emerging and Developing Economies:** Tend to have lower AI exposure due to a larger share of jobs involving manual labor, interpersonal interaction, and agricultural work, which are less susceptible to AI automation. However, they may also have lower AI complementarity due to lack of infrastructure, skilled workforces, and digital innovation.\\n\\n**2. Economic Structure and Development:**\\n\\n*   **High-Income Countries:** Often have economies driven by high value-added service sectors and a concentration of highly educated individuals. These economies are better positioned to benefit from AI implementation and may experience more job creation in AI-related fields.\\n*   **Low-Income Countries:** May have economies more reliant on routine manual tasks, making them more vulnerable to job displacement by industrial robots and automation in general. They may also lack the resources and infrastructure to reskill workers and create new AI-driven industries.\\n\\n**3. Workforce Skills and Education:**\\n\\n*   **Countries with Highly Skilled Workforces:** Like Switzerland, Germany, and the Netherlands, perceive AI as more of an opportunity than a threat because they have a higher density of well-qualified workers and fewer routine jobs.\\n*   **Countries with Skills Gaps:** May face greater challenges in adapting to AI, as workers need to reskill and adapt to new technologies to transition into roles that require more complex, human-centric skills.\\n\\n**4. Government Policies and Investments:**\\n\\n*   **Countries with Strong AI Strategies:** Such as China, are investing heavily in AI research, development, and implementation, which can lead to rapid expansion of their AI sectors and increased demand for AI talent.\\n*   **Countries with Supportive Legal Frameworks:** Are better positioned to promote investments in digital innovation while addressing the risks inherent in widespread AI adoption.\\n\\n**5. Technological Infrastructure:**\\n\\n*   **Access to Electricity and Internet:** Limits AI exposure and adoption, particularly in low-income countries.\\n*   **Digitalization of Services:** Rapid digitalization in sectors like services, telecom, fintech, and e-commerce can drive demand for AI-related jobs.\\n\\n**6. Cultural and Societal Factors:**\\n\\n*   **Public Perception of AI:** Can influence the adoption and impact of AI on the labor market. For example, people in China are more optimistic about AI creating new jobs than those in some European countries.\\n\\n**7. Specific Industry Focus:**\\n\\n*   **Manufacturing-Oriented Countries:** Like Germany, may focus on integrating AI into their industrial base, leading to different job creation and displacement patterns compared to countries with a stronger focus on services or technology.\\n\\n**Illustrative Examples:**\\n\\n*   **United States:** Leads in absolute AI employment and AI-related job vacancies.\\n*   **China:** Has a rapidly expanding AI sector, driven by government initiatives and investments.\\n*   **India:** Is expected to see explosive AI employment growth, driven by rapid digitalization in various sectors.\\n*   **European Countries:** Northern European countries generally have a higher share of jobs with high exposure and complementarity to AI compared to Southern European countries.\\n\\n**Potential Impacts**\\n\\n*   **Job Displacement:** AI can automate repetitive tasks, leading to job losses, especially in routine-based occupations and sectors relying on manual labor.\\n*   **Job Creation:** AI creates new job categories like AI engineers, data scientists, and AI product managers.\\n*   **Wage Inequality:** AI may widen the gap between high- and low-skilled employees, as those who can harness AI see increased productivity and wages, while others may face stagnant wages or job displacement.\\n*   **Increased Labor Market Dynamism:** AI is likely to increase the dynamism of the labor market, prompting more workers to leave existing jobs and start new ones.\\n\\n**Important Considerations:**\\n\\n*   The impact of AI on the labor market is complex and depends on various factors, such as the speed and extent of AI adoption, the types of jobs and industries affected, and the availability of reskilling and upskilling opportunities for workers.\\n*   Most studies focus on short-term impacts, leaving a limited understanding of how AI might reshape labor markets over time, particularly across different sectors and regions.\\n*   It's crucial to consider the ethical, social, and psychological implications for employees, such as increased monitoring, job stress, and the potential for decreased job satisfaction due to AI-driven changes in the work environment.\\n\"}}}], 'role': 'user'}, 'invocation_id': '8JemTwND', 'author': 'research_agent', 'actions': {'state_delta': {}, 'artifact_delta': {}, 'requested_auth_configs': {}}, 'id': 'iAtAMGKi', 'timestamp': 1749356243.718932}\n",
            "{'content': {'parts': [{'text': \"Okay, I have the search results for each of your questions. Here's a summary presented in markdown format:\\n\\n### What specific tasks and industries are most likely to be automated or augmented by AI agents?\\n\\nAI agents are likely to automate tasks such as data entry, repetitive administrative work, customer interactions, lead generation, and HR tasks. Industries with high automation potential include customer service, finance, healthcare, logistics, manufacturing, marketing, retail, high tech, and education. Specific roles at risk include data entry clerks, customer service representatives, cashiers, telemarketers, and assembly line operators.\\n\\n### How might AI agents reshape job roles and skill requirements across different sectors?\\n\\nAI agents will automate routine tasks, leading to job displacement and the creation of new roles in AI management, machine learning, data analysis, and AI ethics. Existing jobs will be transformed to incorporate AI tools, enhancing productivity. Skill requirements will evolve, with increased demand for technical skills like data analytics and soft skills like critical thinking and communication. Industries like manufacturing, healthcare, and customer service will see significant changes in job roles.\\n\\n### What strategies can be implemented to mitigate potential job displacement caused by AI agents?\\n\\nStrategies to mitigate job displacement include reskilling and upskilling programs, promoting AI-human collaboration through job redesign, encouraging innovation and entrepreneurship in AI-related fields, implementing supportive policies like social safety nets and wage subsidies, and adopting ethical AI deployment guidelines. Transparent communication about AI's impact is also crucial.\\n\\n### How can education and training programs adapt to prepare workers for the changing demands of the labor market?\\n\\nEducation and training programs should focus on skills-based learning, regularly update curricula to align with job market demands, embrace lifelong learning, integrate technology like AI tools, strengthen industry partnerships, and support career transitions. They should also recognize the importance of skills and credentials over traditional degrees.\\n\\n### What new job opportunities might emerge as a direct or indirect result of the widespread adoption of AI agents?\\n\\nNew job opportunities will emerge directly in areas like AI agent development, machine learning engineering, AI training, AI ethics, and AI integration consulting. Indirectly, there will be increased demand for data analysts and creative roles in marketing, as well as growth in education and power systems engineering.\\n\\n### How do the economic benefits of AI agent adoption compare to the potential social costs related to employment?\\n\\nThe economic benefits of AI adoption include increased productivity, cost reduction, and revenue growth. However, the social costs include job displacement, the need for reskilling, potential wage stagnation, and increased income inequality. Balancing these requires proactive measures like investments in reskilling, new social safety nets, and thoughtful policy and regulation.\\n\\n### What are the ethical considerations surrounding the use of AI agents in the workplace, particularly regarding bias and fairness?\\n\\nEthical considerations include bias and fairness in AI decision-making, the need for transparency and explainability in AI processes, accountability for AI actions, job displacement, and data privacy. Addressing these requires rebalancing training data, auditing AI systems for bias, and establishing ethical frameworks and legal compliance.\\n\\n### How might government policies and regulations need to evolve to address the labor market implications of AI agents?\\n\\nGovernment policies and regulations need to evolve to protect workers' rights, address job displacement through training programs, promote fairness in hiring and promotion, ensure algorithmic transparency, and support collective bargaining. Establishing AI standards boards and defining clear accountability for AI systems are also important.\\n\\n### What are the potential long-term effects of AI agents on wage levels and income inequality?\\n\\nThe long-term effects are complex, with potential negative impacts including job displacement, wage stagnation, and increased income inequality. However, there are also potential positive impacts such as increased productivity, new job creation, and improved job quality. The actual outcome will depend on policy choices, the speed of AI adoption, and the adaptability of workers.\\n\\n### How does the impact of AI agents on the labor market differ across various countries or regions, and what factors contribute to these differences?\\n\\nThe impact of AI varies across countries due to differing levels of AI exposure and complementarity, economic structure, workforce skills, government policies, technological infrastructure, and cultural factors. Advanced economies with highly skilled workforces and strong AI strategies are better positioned to benefit, while emerging economies may face greater challenges related to job displacement and skills gaps.\\n\"}], 'role': 'model'}, 'usage_metadata': {'candidates_token_count': 881, 'candidates_tokens_details': [{'modality': <MediaModality.TEXT: 'TEXT'>, 'token_count': 881}], 'prompt_token_count': 8818, 'prompt_tokens_details': [{'modality': <MediaModality.TEXT: 'TEXT'>, 'token_count': 8818}], 'total_token_count': 9699, 'traffic_type': <TrafficType.ON_DEMAND: 'ON_DEMAND'>}, 'invocation_id': 'e-1cbd20cc-f1da-4e91-bc58-39a4b42cac77', 'author': 'research_agent', 'actions': {'state_delta': {}, 'artifact_delta': {}, 'requested_auth_configs': {}}, 'id': 'St5fRsUG', 'timestamp': 1749356308.231689}\n",
            "{'content': {'parts': [{'text': \"## AI Agent's Impact on the Labour Market: A Research Report\\n\\n### Introduction\\n\\nThis report summarizes the potential impacts of Artificial Intelligence (AI) agents on the labor market, based on a review of recent research. It addresses key questions regarding automation, job roles, mitigation strategies, education, new opportunities, economic considerations, ethics, policy, wages, inequality, and global variations.\\n\\n### 1. Automation and Affected Industries\\n\\n**What specific tasks and industries are most likely to be automated or augmented by AI agents?**\\n\\nAI agents are likely to automate tasks such as:\\n\\n*   Data Entry and Processing\\n*   Repetitive Administrative Tasks\\n*   Customer Interactions\\n*   Lead Generation and Qualification\\n*   Sales and Marketing Automation\\n*   HR Tasks\\n*   Data Analysis\\n\\nIndustries with high automation potential include:\\n\\n*   Customer Service\\n*   Finance\\n*   Healthcare\\n*   Logistics and Warehousing\\n*   Manufacturing\\n*   Marketing\\n*   Retail and Consumer Packaged Goods (CPG)\\n*   High Tech\\n*   Education\\n\\nSpecific roles at risk include:\\n\\n*   Data Entry Clerks\\n*   Customer Service Representatives\\n*   Cashiers\\n*   Telemarketers\\n*   Receptionists\\n*   Assembly Line Operators\\n*   Quality Inspectors\\n*   Bank Tellers\\n*   Stock Traders\\n*   Loan Officers\\n\\n### 2. Reshaping Job Roles and Skill Requirements\\n\\n**How might AI agents reshape job roles and skill requirements across different sectors?**\\n\\nAI agents will automate routine tasks, leading to both job displacement and the creation of new roles. Existing jobs will be transformed to incorporate AI tools, enhancing productivity. Skill requirements will evolve, with increased demand for technical skills (data analytics, machine learning) and soft skills (critical thinking, communication). Industries like manufacturing, healthcare, and customer service will see significant changes.\\n\\n### 3. Mitigating Job Displacement\\n\\n**What strategies can be implemented to mitigate potential job displacement caused by AI agents?**\\n\\nStrategies include:\\n\\n*   Reskilling and upskilling programs\\n*   Promoting AI-human collaboration through job redesign\\n*   Encouraging innovation and entrepreneurship in AI-related fields\\n*   Implementing supportive policies like social safety nets and wage subsidies\\n*   Adopting ethical AI deployment guidelines\\n*   Transparent communication about AI's impact\\n\\n### 4. Adapting Education and Training\\n\\n**How can education and training programs adapt to prepare workers for the changing demands of the labor market?**\\n\\nEducation and training programs should:\\n\\n*   Focus on skills-based learning\\n*   Regularly update curricula to align with job market demands\\n*   Embrace lifelong learning\\n*   Integrate technology like AI tools\\n*   Strengthen industry partnerships\\n*   Support career transitions\\n*   Recognize the importance of skills and credentials over traditional degrees\\n\\n### 5. New Job Opportunities\\n\\n**What new job opportunities might emerge as a direct or indirect result of the widespread adoption of AI agents?**\\n\\n*Directly Related to AI Agents:*\\n\\n*   AI Agent Developers\\n*   Machine Learning Engineers\\n*   AI Trainers/Teachers\\n*   AI Ethicists/Policy Specialists\\n*   AI Integration Consultants\\n*   AI System Auditors\\n*   AI Maintenance Professionals\\n*   Prompt Engineers\\n*   AI Personality Designers\\n\\n*Indirectly Related to AI Agents:*\\n\\n*   Data Analysts\\n*   Creative roles in marketing and branding\\n*   University and Higher Education Teachers\\n*   Power Systems Engineers\\n\\n### 6. Economic Benefits vs. Social Costs\\n\\n**How do the economic benefits of AI agent adoption compare to the potential social costs related to employment?**\\n\\nThe economic benefits of AI adoption include increased productivity, cost reduction, and revenue growth. However, the social costs include job displacement, the need for reskilling, potential wage stagnation, and increased income inequality. Balancing these requires proactive measures such as investments in reskilling, new social safety nets, and thoughtful policy and regulation.\\n\\n### 7. Ethical Considerations\\n\\n**What are the ethical considerations surrounding the use of AI agents in the workplace, particularly regarding bias and fairness?**\\n\\nEthical considerations include:\\n\\n*   Bias and fairness in AI decision-making\\n*   The need for transparency and explainability in AI processes\\n*   Accountability for AI actions\\n*   Job displacement\\n*   Data privacy\\n\\nAddressing these requires rebalancing training data, auditing AI systems for bias, and establishing ethical frameworks and legal compliance.\\n\\n### 8. Government Policies and Regulations\\n\\n**How might government policies and regulations need to evolve to address the labor market implications of AI agents?**\\n\\nGovernment policies and regulations need to:\\n\\n*   Protect workers' rights\\n*   Address job displacement through training programs\\n*   Promote fairness in hiring and promotion\\n*   Ensure algorithmic transparency\\n*   Support collective bargaining\\n*   Establish AI standards boards\\n*   Define clear accountability for AI systems\\n\\n### 9. Long-Term Effects on Wages and Income Inequality\\n\\n**What are the potential long-term effects of AI agents on wage levels and income inequality?**\\n\\nThe long-term effects are complex, with potential negative impacts including job displacement, wage stagnation, and increased income inequality. However, there are also potential positive impacts such as increased productivity, new job creation, and improved job quality. The actual outcome will depend on policy choices, the speed of AI adoption, and the adaptability of workers.\\n\\n### 10. Global Variations\\n\\n**How does the impact of AI agents on the labor market differ across various countries or regions, and what factors contribute to these differences?**\\n\\nThe impact of AI varies across countries due to:\\n\\n*   Differing levels of AI exposure and complementarity\\n*   Economic structure\\n*   Workforce skills\\n*   Government policies\\n*   Technological infrastructure\\n*   Cultural factors\\n\\nAdvanced economies with highly skilled workforces and strong AI strategies are better positioned to benefit, while emerging economies may face greater challenges related to job displacement and skills gaps.\\n\\n### Conclusion\\n\\nAI agents present both opportunities and challenges for the labor market. Proactive and thoughtful policies, combined with a focus on education, ethics, and worker support, will be crucial to maximizing the benefits of AI while mitigating its potential negative consequences.\\n\"}], 'role': 'model'}, 'usage_metadata': {'candidates_token_count': 1283, 'candidates_tokens_details': [{'modality': <MediaModality.TEXT: 'TEXT'>, 'token_count': 1283}], 'prompt_token_count': 10334, 'prompt_tokens_details': [{'modality': <MediaModality.TEXT: 'TEXT'>, 'token_count': 10334}], 'total_token_count': 11617, 'traffic_type': <TrafficType.ON_DEMAND: 'ON_DEMAND'>}, 'invocation_id': 'e-1cbd20cc-f1da-4e91-bc58-39a4b42cac77', 'author': 'report_agent', 'actions': {'state_delta': {}, 'artifact_delta': {}, 'requested_auth_configs': {}}, 'id': 'slmItdEd', 'timestamp': 1749356314.230397}\n"
          ]
        }
      ]
    },
    {
      "cell_type": "code",
      "source": [
        "from IPython.display import display, Markdown\n",
        "\n",
        "display(Markdown(response_text))"
      ],
      "metadata": {
        "id": "LMghoNFNO9Gs",
        "outputId": "30e8ac25-85a8-4b40-e98f-9c4890af9598",
        "colab": {
          "base_uri": "https://localhost:8080/",
          "height": 1000
        }
      },
      "execution_count": 36,
      "outputs": [
        {
          "output_type": "display_data",
          "data": {
            "text/plain": [
              "<IPython.core.display.Markdown object>"
            ],
            "text/markdown": "- What specific tasks and industries are most likely to be automated or augmented by AI agents?\n- How might AI agents reshape job roles and skill requirements across different sectors?\n- What strategies can be implemented to mitigate potential job displacement caused by AI agents?\n- How can education and training programs adapt to prepare workers for the changing demands of the labor market?\n- What new job opportunities might emerge as a direct or indirect result of the widespread adoption of AI agents?\n- How do the economic benefits of AI agent adoption compare to the potential social costs related to employment?\n- What are the ethical considerations surrounding the use of AI agents in the workplace, particularly regarding bias and fairness?\n- How might government policies and regulations need to evolve to address the labor market implications of AI agents?\n- What are the potential long-term effects of AI agents on wage levels and income inequality?\n- How does the impact of AI agents on the labor market differ across various countries or regions, and what factors contribute to these differences?\nOkay, I will use the `simple_search_agent` to conduct search and give answers to each question about AI Agent's impact on labour market.\n\nOkay, I have the search results for each of your questions. Here's a summary presented in markdown format:\n\n### What specific tasks and industries are most likely to be automated or augmented by AI agents?\n\nAI agents are likely to automate tasks such as data entry, repetitive administrative work, customer interactions, lead generation, and HR tasks. Industries with high automation potential include customer service, finance, healthcare, logistics, manufacturing, marketing, retail, high tech, and education. Specific roles at risk include data entry clerks, customer service representatives, cashiers, telemarketers, and assembly line operators.\n\n### How might AI agents reshape job roles and skill requirements across different sectors?\n\nAI agents will automate routine tasks, leading to job displacement and the creation of new roles in AI management, machine learning, data analysis, and AI ethics. Existing jobs will be transformed to incorporate AI tools, enhancing productivity. Skill requirements will evolve, with increased demand for technical skills like data analytics and soft skills like critical thinking and communication. Industries like manufacturing, healthcare, and customer service will see significant changes in job roles.\n\n### What strategies can be implemented to mitigate potential job displacement caused by AI agents?\n\nStrategies to mitigate job displacement include reskilling and upskilling programs, promoting AI-human collaboration through job redesign, encouraging innovation and entrepreneurship in AI-related fields, implementing supportive policies like social safety nets and wage subsidies, and adopting ethical AI deployment guidelines. Transparent communication about AI's impact is also crucial.\n\n### How can education and training programs adapt to prepare workers for the changing demands of the labor market?\n\nEducation and training programs should focus on skills-based learning, regularly update curricula to align with job market demands, embrace lifelong learning, integrate technology like AI tools, strengthen industry partnerships, and support career transitions. They should also recognize the importance of skills and credentials over traditional degrees.\n\n### What new job opportunities might emerge as a direct or indirect result of the widespread adoption of AI agents?\n\nNew job opportunities will emerge directly in areas like AI agent development, machine learning engineering, AI training, AI ethics, and AI integration consulting. Indirectly, there will be increased demand for data analysts and creative roles in marketing, as well as growth in education and power systems engineering.\n\n### How do the economic benefits of AI agent adoption compare to the potential social costs related to employment?\n\nThe economic benefits of AI adoption include increased productivity, cost reduction, and revenue growth. However, the social costs include job displacement, the need for reskilling, potential wage stagnation, and increased income inequality. Balancing these requires proactive measures like investments in reskilling, new social safety nets, and thoughtful policy and regulation.\n\n### What are the ethical considerations surrounding the use of AI agents in the workplace, particularly regarding bias and fairness?\n\nEthical considerations include bias and fairness in AI decision-making, the need for transparency and explainability in AI processes, accountability for AI actions, job displacement, and data privacy. Addressing these requires rebalancing training data, auditing AI systems for bias, and establishing ethical frameworks and legal compliance.\n\n### How might government policies and regulations need to evolve to address the labor market implications of AI agents?\n\nGovernment policies and regulations need to evolve to protect workers' rights, address job displacement through training programs, promote fairness in hiring and promotion, ensure algorithmic transparency, and support collective bargaining. Establishing AI standards boards and defining clear accountability for AI systems are also important.\n\n### What are the potential long-term effects of AI agents on wage levels and income inequality?\n\nThe long-term effects are complex, with potential negative impacts including job displacement, wage stagnation, and increased income inequality. However, there are also potential positive impacts such as increased productivity, new job creation, and improved job quality. The actual outcome will depend on policy choices, the speed of AI adoption, and the adaptability of workers.\n\n### How does the impact of AI agents on the labor market differ across various countries or regions, and what factors contribute to these differences?\n\nThe impact of AI varies across countries due to differing levels of AI exposure and complementarity, economic structure, workforce skills, government policies, technological infrastructure, and cultural factors. Advanced economies with highly skilled workforces and strong AI strategies are better positioned to benefit, while emerging economies may face greater challenges related to job displacement and skills gaps.\n## AI Agent's Impact on the Labour Market: A Research Report\n\n### Introduction\n\nThis report summarizes the potential impacts of Artificial Intelligence (AI) agents on the labor market, based on a review of recent research. It addresses key questions regarding automation, job roles, mitigation strategies, education, new opportunities, economic considerations, ethics, policy, wages, inequality, and global variations.\n\n### 1. Automation and Affected Industries\n\n**What specific tasks and industries are most likely to be automated or augmented by AI agents?**\n\nAI agents are likely to automate tasks such as:\n\n*   Data Entry and Processing\n*   Repetitive Administrative Tasks\n*   Customer Interactions\n*   Lead Generation and Qualification\n*   Sales and Marketing Automation\n*   HR Tasks\n*   Data Analysis\n\nIndustries with high automation potential include:\n\n*   Customer Service\n*   Finance\n*   Healthcare\n*   Logistics and Warehousing\n*   Manufacturing\n*   Marketing\n*   Retail and Consumer Packaged Goods (CPG)\n*   High Tech\n*   Education\n\nSpecific roles at risk include:\n\n*   Data Entry Clerks\n*   Customer Service Representatives\n*   Cashiers\n*   Telemarketers\n*   Receptionists\n*   Assembly Line Operators\n*   Quality Inspectors\n*   Bank Tellers\n*   Stock Traders\n*   Loan Officers\n\n### 2. Reshaping Job Roles and Skill Requirements\n\n**How might AI agents reshape job roles and skill requirements across different sectors?**\n\nAI agents will automate routine tasks, leading to both job displacement and the creation of new roles. Existing jobs will be transformed to incorporate AI tools, enhancing productivity. Skill requirements will evolve, with increased demand for technical skills (data analytics, machine learning) and soft skills (critical thinking, communication). Industries like manufacturing, healthcare, and customer service will see significant changes.\n\n### 3. Mitigating Job Displacement\n\n**What strategies can be implemented to mitigate potential job displacement caused by AI agents?**\n\nStrategies include:\n\n*   Reskilling and upskilling programs\n*   Promoting AI-human collaboration through job redesign\n*   Encouraging innovation and entrepreneurship in AI-related fields\n*   Implementing supportive policies like social safety nets and wage subsidies\n*   Adopting ethical AI deployment guidelines\n*   Transparent communication about AI's impact\n\n### 4. Adapting Education and Training\n\n**How can education and training programs adapt to prepare workers for the changing demands of the labor market?**\n\nEducation and training programs should:\n\n*   Focus on skills-based learning\n*   Regularly update curricula to align with job market demands\n*   Embrace lifelong learning\n*   Integrate technology like AI tools\n*   Strengthen industry partnerships\n*   Support career transitions\n*   Recognize the importance of skills and credentials over traditional degrees\n\n### 5. New Job Opportunities\n\n**What new job opportunities might emerge as a direct or indirect result of the widespread adoption of AI agents?**\n\n*Directly Related to AI Agents:*\n\n*   AI Agent Developers\n*   Machine Learning Engineers\n*   AI Trainers/Teachers\n*   AI Ethicists/Policy Specialists\n*   AI Integration Consultants\n*   AI System Auditors\n*   AI Maintenance Professionals\n*   Prompt Engineers\n*   AI Personality Designers\n\n*Indirectly Related to AI Agents:*\n\n*   Data Analysts\n*   Creative roles in marketing and branding\n*   University and Higher Education Teachers\n*   Power Systems Engineers\n\n### 6. Economic Benefits vs. Social Costs\n\n**How do the economic benefits of AI agent adoption compare to the potential social costs related to employment?**\n\nThe economic benefits of AI adoption include increased productivity, cost reduction, and revenue growth. However, the social costs include job displacement, the need for reskilling, potential wage stagnation, and increased income inequality. Balancing these requires proactive measures such as investments in reskilling, new social safety nets, and thoughtful policy and regulation.\n\n### 7. Ethical Considerations\n\n**What are the ethical considerations surrounding the use of AI agents in the workplace, particularly regarding bias and fairness?**\n\nEthical considerations include:\n\n*   Bias and fairness in AI decision-making\n*   The need for transparency and explainability in AI processes\n*   Accountability for AI actions\n*   Job displacement\n*   Data privacy\n\nAddressing these requires rebalancing training data, auditing AI systems for bias, and establishing ethical frameworks and legal compliance.\n\n### 8. Government Policies and Regulations\n\n**How might government policies and regulations need to evolve to address the labor market implications of AI agents?**\n\nGovernment policies and regulations need to:\n\n*   Protect workers' rights\n*   Address job displacement through training programs\n*   Promote fairness in hiring and promotion\n*   Ensure algorithmic transparency\n*   Support collective bargaining\n*   Establish AI standards boards\n*   Define clear accountability for AI systems\n\n### 9. Long-Term Effects on Wages and Income Inequality\n\n**What are the potential long-term effects of AI agents on wage levels and income inequality?**\n\nThe long-term effects are complex, with potential negative impacts including job displacement, wage stagnation, and increased income inequality. However, there are also potential positive impacts such as increased productivity, new job creation, and improved job quality. The actual outcome will depend on policy choices, the speed of AI adoption, and the adaptability of workers.\n\n### 10. Global Variations\n\n**How does the impact of AI agents on the labor market differ across various countries or regions, and what factors contribute to these differences?**\n\nThe impact of AI varies across countries due to:\n\n*   Differing levels of AI exposure and complementarity\n*   Economic structure\n*   Workforce skills\n*   Government policies\n*   Technological infrastructure\n*   Cultural factors\n\nAdvanced economies with highly skilled workforces and strong AI strategies are better positioned to benefit, while emerging economies may face greater challenges related to job displacement and skills gaps.\n\n### Conclusion\n\nAI agents present both opportunities and challenges for the labor market. Proactive and thoughtful policies, combined with a focus on education, ethics, and worker support, will be crucial to maximizing the benefits of AI while mitigating its potential negative consequences.\n"
          },
          "metadata": {}
        }
      ]
    },
    {
      "cell_type": "code",
      "source": [],
      "metadata": {
        "id": "fGLLZvsd-_St"
      },
      "execution_count": null,
      "outputs": []
    },
    {
      "cell_type": "markdown",
      "source": [
        "## Bonus: Finish the remaining researches\n",
        "\n",
        "Note that the above result has many open questions not yet researched. Try to build an agent tree that completes the research. Some possible directions:\n",
        "\n",
        "- Use LoopAgent, refer to the QuickStart notebook of how to exit_loop.\n",
        "- Optimize the prompt of multiple_search agent so it conducts more thorough searches."
      ],
      "metadata": {
        "id": "JtQ9j3TrPh-J"
      }
    },
    {
      "cell_type": "markdown",
      "source": [
        "## Bonus: Format with grounding data\n",
        "\n",
        "The simple_search_agent returns not only the search results summary, but also the grounding web pages and references / citations."
      ],
      "metadata": {
        "id": "EksjqPnJQDlu"
      }
    },
    {
      "cell_type": "code",
      "source": [],
      "metadata": {
        "id": "YFxdhVFAPmH1"
      },
      "execution_count": null,
      "outputs": []
    }
  ]
}