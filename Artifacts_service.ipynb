{
  "nbformat": 4,
  "nbformat_minor": 0,
  "metadata": {
    "colab": {
      "provenance": []
    },
    "kernelspec": {
      "name": "python3",
      "display_name": "Python 3"
    },
    "language_info": {
      "name": "python"
    }
  },
  "cells": [
    {
      "cell_type": "markdown",
      "source": [
        "# ADK CoLab Boilerplate\n",
        "\n",
        "Last Update:\n",
        "\n",
        "- June 7, 2025\n",
        "- ADK == 1.1.1"
      ],
      "metadata": {
        "id": "4LLX5Yxa3CQK"
      }
    },
    {
      "cell_type": "markdown",
      "source": [
        "<table align=\"left\">\n",
        "  <td style=\"text-align: center\">\n",
        "    <a href=\"https://colab.sandbox.google.com/github/hupili/google-adk-101/blob/main/Artifacts_service.ipynb\">\n",
        "      <img width=\"32px\" src=\"https://www.gstatic.com/pantheon/images/bigquery/welcome_page/colab-logo.svg\" alt=\"Google Colaboratory logo\"><br> Run in Colab\n",
        "    </a>\n",
        "  </td>\n",
        "  <td style=\"text-align: center\">\n",
        "    <a href=\"https://console.cloud.google.com/vertex-ai/colab/import/https:%2F%2Fraw.githubusercontent.com%2Fhupili%2Fgoogle-adk-101%2Fmain%2FArtifacts_service.ipynb\">\n",
        "      <img width=\"32px\" src=\"https://www.gstatic.com/pantheon/images/bigquery/welcome_page/colab-enterprise-logo.png\" alt=\"Google Cloud Colab Enterprise logo\"><br> Run in Colab Enterprise\n",
        "    </a>\n",
        "  </td>    \n",
        "  <td style=\"text-align: center\">\n",
        "    <a href=\"https://github.com/hupili/google-adk-101/blob/main/Artifacts_service.ipynb\">\n",
        "      <img width=\"32px\" src=\"https://www.gstatic.com/monospace/240802/git_host_github_mask.svg\" alt=\"GitHub logo\"><br> View on GitHub\n",
        "    </a>\n",
        "  </td>\n",
        "  <td style=\"text-align: center\">\n",
        "    <a href=\"https://console.cloud.google.com/vertex-ai/workbench/deploy-notebook?download_url=https://raw.githubusercontent.com/hupili/google-adk-101/main/Artifacts_service.ipynb\">\n",
        "      <img width=\"32px\" src=\"https://www.gstatic.com/cloud/images/navigation/vertex-ai.svg\" alt=\"Vertex AI logo\"><br> Open in Vertex AI Workbench\n",
        "    </a>\n",
        "  </td>\n",
        "</table>"
      ],
      "metadata": {
        "id": "d3JKoxwtyJgX"
      }
    },
    {
      "cell_type": "code",
      "source": [],
      "metadata": {
        "id": "niH3G2hvPjrZ"
      },
      "execution_count": null,
      "outputs": []
    },
    {
      "cell_type": "markdown",
      "source": [
        "## Environment Setup"
      ],
      "metadata": {
        "id": "IoAj8G-02_0R"
      }
    },
    {
      "cell_type": "code",
      "execution_count": 35,
      "metadata": {
        "id": "38kRHmz02DqR"
      },
      "outputs": [],
      "source": [
        "import os\n",
        "\n",
        "# API_KEY = '' # @param {type:\"string\"}\n",
        "# os.environ[\"GOOGLE_GENAI_USE_VERTEXAI\"] = \"FALSE\" # Use Vertex AI API\n",
        "# os.environ[\"GOOGLE_API_KEY\"] = API_KEY\n",
        "\n",
        "PROJECT_ID = \"hupili-genai-bb\"  # @param {type:\"string\"}\n",
        "if not PROJECT_ID:\n",
        "    PROJECT_ID = str(os.environ.get(\"GOOGLE_CLOUD_PROJECT\"))\n",
        "\n",
        "LOCATION = \"us-central1\" # @param {type:\"string\"}\n",
        "\n",
        "STAGING_BUCKET = 'gs://agent_engine_deploy_staging' # @param {type:\"string\"}\n",
        "ARTIFACTS_BUCKET = 'hupili-genai-bb-public' # @param {type:\"string\"}\n",
        "\n",
        "os.environ[\"GOOGLE_CLOUD_PROJECT\"] = PROJECT_ID\n",
        "os.environ[\"GOOGLE_CLOUD_LOCATION\"] = LOCATION\n",
        "os.environ[\"GOOGLE_GENAI_USE_VERTEXAI\"] = \"TRUE\" # Use Vertex AI API\n",
        "\n",
        "# [your-project-id]"
      ]
    },
    {
      "cell_type": "code",
      "source": [
        "import vertexai\n",
        "\n",
        "vertexai.init(\n",
        "    project=PROJECT_ID,\n",
        "    location=LOCATION,\n",
        "    staging_bucket=STAGING_BUCKET,\n",
        ")"
      ],
      "metadata": {
        "id": "lUDcVWOq2HFH"
      },
      "execution_count": 36,
      "outputs": []
    },
    {
      "cell_type": "code",
      "source": [
        "from google.colab import auth\n",
        "auth.authenticate_user()"
      ],
      "metadata": {
        "id": "htFtAp592LYP"
      },
      "execution_count": 37,
      "outputs": []
    },
    {
      "cell_type": "code",
      "source": [
        "!pip install deprecated\n",
        "!pip install google-adk==1.1.1"
      ],
      "metadata": {
        "colab": {
          "base_uri": "https://localhost:8080/"
        },
        "id": "8x3NAoCo2M0G",
        "outputId": "707d3cce-10f8-403b-8858-1f84ff5127b0"
      },
      "execution_count": 38,
      "outputs": [
        {
          "output_type": "stream",
          "name": "stdout",
          "text": [
            "Requirement already satisfied: deprecated in /usr/local/lib/python3.11/dist-packages (1.2.18)\n",
            "Requirement already satisfied: wrapt<2,>=1.10 in /usr/local/lib/python3.11/dist-packages (from deprecated) (1.17.2)\n",
            "Requirement already satisfied: google-adk==1.1.1 in /usr/local/lib/python3.11/dist-packages (1.1.1)\n",
            "Requirement already satisfied: authlib>=1.5.1 in /usr/local/lib/python3.11/dist-packages (from google-adk==1.1.1) (1.6.0)\n",
            "Requirement already satisfied: click>=8.1.8 in /usr/local/lib/python3.11/dist-packages (from google-adk==1.1.1) (8.2.1)\n",
            "Requirement already satisfied: fastapi>=0.115.0 in /usr/local/lib/python3.11/dist-packages (from google-adk==1.1.1) (0.115.12)\n",
            "Requirement already satisfied: google-api-python-client>=2.157.0 in /usr/local/lib/python3.11/dist-packages (from google-adk==1.1.1) (2.171.0)\n",
            "Requirement already satisfied: google-cloud-aiplatform>=1.87.0 in /usr/local/lib/python3.11/dist-packages (from google-adk==1.1.1) (1.95.1)\n",
            "Requirement already satisfied: google-cloud-secret-manager>=2.22.0 in /usr/local/lib/python3.11/dist-packages (from google-adk==1.1.1) (2.24.0)\n",
            "Requirement already satisfied: google-cloud-speech>=2.30.0 in /usr/local/lib/python3.11/dist-packages (from google-adk==1.1.1) (2.32.0)\n",
            "Requirement already satisfied: google-cloud-storage<3.0.0,>=2.18.0 in /usr/local/lib/python3.11/dist-packages (from google-adk==1.1.1) (2.19.0)\n",
            "Requirement already satisfied: google-genai>=1.14.0 in /usr/local/lib/python3.11/dist-packages (from google-adk==1.1.1) (1.18.0)\n",
            "Requirement already satisfied: graphviz>=0.20.2 in /usr/local/lib/python3.11/dist-packages (from google-adk==1.1.1) (0.20.3)\n",
            "Requirement already satisfied: mcp>=1.5.0 in /usr/local/lib/python3.11/dist-packages (from google-adk==1.1.1) (1.9.3)\n",
            "Requirement already satisfied: opentelemetry-api>=1.31.0 in /usr/local/lib/python3.11/dist-packages (from google-adk==1.1.1) (1.34.0)\n",
            "Requirement already satisfied: opentelemetry-exporter-gcp-trace>=1.9.0 in /usr/local/lib/python3.11/dist-packages (from google-adk==1.1.1) (1.9.0)\n",
            "Requirement already satisfied: opentelemetry-sdk>=1.31.0 in /usr/local/lib/python3.11/dist-packages (from google-adk==1.1.1) (1.34.0)\n",
            "Requirement already satisfied: pydantic<3.0.0,>=2.0 in /usr/local/lib/python3.11/dist-packages (from google-adk==1.1.1) (2.11.5)\n",
            "Requirement already satisfied: python-dotenv>=1.0.0 in /usr/local/lib/python3.11/dist-packages (from google-adk==1.1.1) (1.1.0)\n",
            "Requirement already satisfied: PyYAML>=6.0.2 in /usr/local/lib/python3.11/dist-packages (from google-adk==1.1.1) (6.0.2)\n",
            "Requirement already satisfied: sqlalchemy>=2.0 in /usr/local/lib/python3.11/dist-packages (from google-adk==1.1.1) (2.0.41)\n",
            "Requirement already satisfied: tzlocal>=5.3 in /usr/local/lib/python3.11/dist-packages (from google-adk==1.1.1) (5.3.1)\n",
            "Requirement already satisfied: uvicorn>=0.34.0 in /usr/local/lib/python3.11/dist-packages (from google-adk==1.1.1) (0.34.3)\n",
            "Requirement already satisfied: cryptography in /usr/local/lib/python3.11/dist-packages (from authlib>=1.5.1->google-adk==1.1.1) (43.0.3)\n",
            "Requirement already satisfied: starlette<0.47.0,>=0.40.0 in /usr/local/lib/python3.11/dist-packages (from fastapi>=0.115.0->google-adk==1.1.1) (0.46.2)\n",
            "Requirement already satisfied: typing-extensions>=4.8.0 in /usr/local/lib/python3.11/dist-packages (from fastapi>=0.115.0->google-adk==1.1.1) (4.14.0)\n",
            "Requirement already satisfied: httplib2<1.0.0,>=0.19.0 in /usr/local/lib/python3.11/dist-packages (from google-api-python-client>=2.157.0->google-adk==1.1.1) (0.22.0)\n",
            "Requirement already satisfied: google-auth!=2.24.0,!=2.25.0,<3.0.0,>=1.32.0 in /usr/local/lib/python3.11/dist-packages (from google-api-python-client>=2.157.0->google-adk==1.1.1) (2.38.0)\n",
            "Requirement already satisfied: google-auth-httplib2<1.0.0,>=0.2.0 in /usr/local/lib/python3.11/dist-packages (from google-api-python-client>=2.157.0->google-adk==1.1.1) (0.2.0)\n",
            "Requirement already satisfied: google-api-core!=2.0.*,!=2.1.*,!=2.2.*,!=2.3.0,<3.0.0,>=1.31.5 in /usr/local/lib/python3.11/dist-packages (from google-api-python-client>=2.157.0->google-adk==1.1.1) (2.25.0)\n",
            "Requirement already satisfied: uritemplate<5,>=3.0.1 in /usr/local/lib/python3.11/dist-packages (from google-api-python-client>=2.157.0->google-adk==1.1.1) (4.2.0)\n",
            "Requirement already satisfied: proto-plus<2.0.0,>=1.22.3 in /usr/local/lib/python3.11/dist-packages (from google-cloud-aiplatform>=1.87.0->google-adk==1.1.1) (1.26.1)\n",
            "Requirement already satisfied: protobuf!=4.21.0,!=4.21.1,!=4.21.2,!=4.21.3,!=4.21.4,!=4.21.5,<7.0.0,>=3.20.2 in /usr/local/lib/python3.11/dist-packages (from google-cloud-aiplatform>=1.87.0->google-adk==1.1.1) (5.29.5)\n",
            "Requirement already satisfied: packaging>=14.3 in /usr/local/lib/python3.11/dist-packages (from google-cloud-aiplatform>=1.87.0->google-adk==1.1.1) (24.2)\n",
            "Requirement already satisfied: google-cloud-bigquery!=3.20.0,<4.0.0,>=1.15.0 in /usr/local/lib/python3.11/dist-packages (from google-cloud-aiplatform>=1.87.0->google-adk==1.1.1) (3.34.0)\n",
            "Requirement already satisfied: google-cloud-resource-manager<3.0.0,>=1.3.3 in /usr/local/lib/python3.11/dist-packages (from google-cloud-aiplatform>=1.87.0->google-adk==1.1.1) (1.14.2)\n",
            "Requirement already satisfied: shapely<3.0.0 in /usr/local/lib/python3.11/dist-packages (from google-cloud-aiplatform>=1.87.0->google-adk==1.1.1) (2.1.1)\n",
            "Requirement already satisfied: docstring-parser<1 in /usr/local/lib/python3.11/dist-packages (from google-cloud-aiplatform>=1.87.0->google-adk==1.1.1) (0.16)\n",
            "Requirement already satisfied: grpc-google-iam-v1<1.0.0,>=0.14.0 in /usr/local/lib/python3.11/dist-packages (from google-cloud-secret-manager>=2.22.0->google-adk==1.1.1) (0.14.2)\n",
            "Requirement already satisfied: google-cloud-core<3.0dev,>=2.3.0 in /usr/local/lib/python3.11/dist-packages (from google-cloud-storage<3.0.0,>=2.18.0->google-adk==1.1.1) (2.4.3)\n",
            "Requirement already satisfied: google-resumable-media>=2.7.2 in /usr/local/lib/python3.11/dist-packages (from google-cloud-storage<3.0.0,>=2.18.0->google-adk==1.1.1) (2.7.2)\n",
            "Requirement already satisfied: requests<3.0.0dev,>=2.18.0 in /usr/local/lib/python3.11/dist-packages (from google-cloud-storage<3.0.0,>=2.18.0->google-adk==1.1.1) (2.32.3)\n",
            "Requirement already satisfied: google-crc32c<2.0dev,>=1.0 in /usr/local/lib/python3.11/dist-packages (from google-cloud-storage<3.0.0,>=2.18.0->google-adk==1.1.1) (1.7.1)\n",
            "Requirement already satisfied: anyio<5.0.0,>=4.8.0 in /usr/local/lib/python3.11/dist-packages (from google-genai>=1.14.0->google-adk==1.1.1) (4.9.0)\n",
            "Requirement already satisfied: httpx<1.0.0,>=0.28.1 in /usr/local/lib/python3.11/dist-packages (from google-genai>=1.14.0->google-adk==1.1.1) (0.28.1)\n",
            "Requirement already satisfied: websockets<15.1.0,>=13.0.0 in /usr/local/lib/python3.11/dist-packages (from google-genai>=1.14.0->google-adk==1.1.1) (15.0.1)\n",
            "Requirement already satisfied: httpx-sse>=0.4 in /usr/local/lib/python3.11/dist-packages (from mcp>=1.5.0->google-adk==1.1.1) (0.4.0)\n",
            "Requirement already satisfied: pydantic-settings>=2.5.2 in /usr/local/lib/python3.11/dist-packages (from mcp>=1.5.0->google-adk==1.1.1) (2.9.1)\n",
            "Requirement already satisfied: python-multipart>=0.0.9 in /usr/local/lib/python3.11/dist-packages (from mcp>=1.5.0->google-adk==1.1.1) (0.0.20)\n",
            "Requirement already satisfied: sse-starlette>=1.6.1 in /usr/local/lib/python3.11/dist-packages (from mcp>=1.5.0->google-adk==1.1.1) (2.3.6)\n",
            "Requirement already satisfied: importlib-metadata<8.8.0,>=6.0 in /usr/local/lib/python3.11/dist-packages (from opentelemetry-api>=1.31.0->google-adk==1.1.1) (8.7.0)\n",
            "Requirement already satisfied: google-cloud-trace~=1.1 in /usr/local/lib/python3.11/dist-packages (from opentelemetry-exporter-gcp-trace>=1.9.0->google-adk==1.1.1) (1.16.1)\n",
            "Requirement already satisfied: opentelemetry-resourcedetector-gcp==1.*,>=1.5.0dev0 in /usr/local/lib/python3.11/dist-packages (from opentelemetry-exporter-gcp-trace>=1.9.0->google-adk==1.1.1) (1.9.0a0)\n",
            "Requirement already satisfied: opentelemetry-semantic-conventions==0.55b0 in /usr/local/lib/python3.11/dist-packages (from opentelemetry-sdk>=1.31.0->google-adk==1.1.1) (0.55b0)\n",
            "Requirement already satisfied: annotated-types>=0.6.0 in /usr/local/lib/python3.11/dist-packages (from pydantic<3.0.0,>=2.0->google-adk==1.1.1) (0.7.0)\n",
            "Requirement already satisfied: pydantic-core==2.33.2 in /usr/local/lib/python3.11/dist-packages (from pydantic<3.0.0,>=2.0->google-adk==1.1.1) (2.33.2)\n",
            "Requirement already satisfied: typing-inspection>=0.4.0 in /usr/local/lib/python3.11/dist-packages (from pydantic<3.0.0,>=2.0->google-adk==1.1.1) (0.4.1)\n",
            "Requirement already satisfied: greenlet>=1 in /usr/local/lib/python3.11/dist-packages (from sqlalchemy>=2.0->google-adk==1.1.1) (3.2.2)\n",
            "Requirement already satisfied: h11>=0.8 in /usr/local/lib/python3.11/dist-packages (from uvicorn>=0.34.0->google-adk==1.1.1) (0.16.0)\n",
            "Requirement already satisfied: idna>=2.8 in /usr/local/lib/python3.11/dist-packages (from anyio<5.0.0,>=4.8.0->google-genai>=1.14.0->google-adk==1.1.1) (3.10)\n",
            "Requirement already satisfied: sniffio>=1.1 in /usr/local/lib/python3.11/dist-packages (from anyio<5.0.0,>=4.8.0->google-genai>=1.14.0->google-adk==1.1.1) (1.3.1)\n",
            "Requirement already satisfied: googleapis-common-protos<2.0.0,>=1.56.2 in /usr/local/lib/python3.11/dist-packages (from google-api-core!=2.0.*,!=2.1.*,!=2.2.*,!=2.3.0,<3.0.0,>=1.31.5->google-api-python-client>=2.157.0->google-adk==1.1.1) (1.70.0)\n",
            "Requirement already satisfied: grpcio<2.0.0,>=1.33.2 in /usr/local/lib/python3.11/dist-packages (from google-api-core[grpc]!=2.0.*,!=2.1.*,!=2.2.*,!=2.3.*,!=2.4.*,!=2.5.*,!=2.6.*,!=2.7.*,<3.0.0,>=1.34.1->google-cloud-aiplatform>=1.87.0->google-adk==1.1.1) (1.72.1)\n",
            "Requirement already satisfied: grpcio-status<2.0.0,>=1.33.2 in /usr/local/lib/python3.11/dist-packages (from google-api-core[grpc]!=2.0.*,!=2.1.*,!=2.2.*,!=2.3.*,!=2.4.*,!=2.5.*,!=2.6.*,!=2.7.*,<3.0.0,>=1.34.1->google-cloud-aiplatform>=1.87.0->google-adk==1.1.1) (1.71.0)\n",
            "Requirement already satisfied: cachetools<6.0,>=2.0.0 in /usr/local/lib/python3.11/dist-packages (from google-auth!=2.24.0,!=2.25.0,<3.0.0,>=1.32.0->google-api-python-client>=2.157.0->google-adk==1.1.1) (5.5.2)\n",
            "Requirement already satisfied: pyasn1-modules>=0.2.1 in /usr/local/lib/python3.11/dist-packages (from google-auth!=2.24.0,!=2.25.0,<3.0.0,>=1.32.0->google-api-python-client>=2.157.0->google-adk==1.1.1) (0.4.2)\n",
            "Requirement already satisfied: rsa<5,>=3.1.4 in /usr/local/lib/python3.11/dist-packages (from google-auth!=2.24.0,!=2.25.0,<3.0.0,>=1.32.0->google-api-python-client>=2.157.0->google-adk==1.1.1) (4.9.1)\n",
            "Requirement already satisfied: python-dateutil<3.0.0,>=2.8.2 in /usr/local/lib/python3.11/dist-packages (from google-cloud-bigquery!=3.20.0,<4.0.0,>=1.15.0->google-cloud-aiplatform>=1.87.0->google-adk==1.1.1) (2.9.0.post0)\n",
            "Requirement already satisfied: pyparsing!=3.0.0,!=3.0.1,!=3.0.2,!=3.0.3,<4,>=2.4.2 in /usr/local/lib/python3.11/dist-packages (from httplib2<1.0.0,>=0.19.0->google-api-python-client>=2.157.0->google-adk==1.1.1) (3.2.3)\n",
            "Requirement already satisfied: certifi in /usr/local/lib/python3.11/dist-packages (from httpx<1.0.0,>=0.28.1->google-genai>=1.14.0->google-adk==1.1.1) (2025.4.26)\n",
            "Requirement already satisfied: httpcore==1.* in /usr/local/lib/python3.11/dist-packages (from httpx<1.0.0,>=0.28.1->google-genai>=1.14.0->google-adk==1.1.1) (1.0.9)\n",
            "Requirement already satisfied: zipp>=3.20 in /usr/local/lib/python3.11/dist-packages (from importlib-metadata<8.8.0,>=6.0->opentelemetry-api>=1.31.0->google-adk==1.1.1) (3.22.0)\n",
            "Requirement already satisfied: charset-normalizer<4,>=2 in /usr/local/lib/python3.11/dist-packages (from requests<3.0.0dev,>=2.18.0->google-cloud-storage<3.0.0,>=2.18.0->google-adk==1.1.1) (3.4.2)\n",
            "Requirement already satisfied: urllib3<3,>=1.21.1 in /usr/local/lib/python3.11/dist-packages (from requests<3.0.0dev,>=2.18.0->google-cloud-storage<3.0.0,>=2.18.0->google-adk==1.1.1) (2.4.0)\n",
            "Requirement already satisfied: numpy>=1.21 in /usr/local/lib/python3.11/dist-packages (from shapely<3.0.0->google-cloud-aiplatform>=1.87.0->google-adk==1.1.1) (2.0.2)\n",
            "Requirement already satisfied: cffi>=1.12 in /usr/local/lib/python3.11/dist-packages (from cryptography->authlib>=1.5.1->google-adk==1.1.1) (1.17.1)\n",
            "Requirement already satisfied: pycparser in /usr/local/lib/python3.11/dist-packages (from cffi>=1.12->cryptography->authlib>=1.5.1->google-adk==1.1.1) (2.22)\n",
            "Requirement already satisfied: pyasn1<0.7.0,>=0.6.1 in /usr/local/lib/python3.11/dist-packages (from pyasn1-modules>=0.2.1->google-auth!=2.24.0,!=2.25.0,<3.0.0,>=1.32.0->google-api-python-client>=2.157.0->google-adk==1.1.1) (0.6.1)\n",
            "Requirement already satisfied: six>=1.5 in /usr/local/lib/python3.11/dist-packages (from python-dateutil<3.0.0,>=2.8.2->google-cloud-bigquery!=3.20.0,<4.0.0,>=1.15.0->google-cloud-aiplatform>=1.87.0->google-adk==1.1.1) (1.17.0)\n"
          ]
        }
      ]
    },
    {
      "cell_type": "code",
      "source": [
        "from google import adk"
      ],
      "metadata": {
        "id": "nXbXcpKE2POf"
      },
      "execution_count": 39,
      "outputs": []
    },
    {
      "cell_type": "code",
      "source": [
        "import json\n",
        "import time\n",
        "\n",
        "def pprint_events(events):\n",
        "    '''Pretty print of events generated by ADK runner'''\n",
        "    start_time = time.time()\n",
        "    for _, event in enumerate(events):\n",
        "        is_final_response = event.is_final_response()\n",
        "        function_calls = event.get_function_calls()\n",
        "        function_responses = event.get_function_responses()\n",
        "        agent_res = json.loads(event.content.model_dump_json(indent=2, exclude_none=True))\n",
        "\n",
        "        if is_final_response:\n",
        "            print('>>> inside final response...')\n",
        "            final_response = event.content.parts[0].text\n",
        "            end_time = time.time()\n",
        "            elapsed_time_ms = round((end_time - start_time) * 1000, 3)\n",
        "            print(f'Final Response ({elapsed_time_ms} ms):\\n{final_response}')\n",
        "            print(\"-----------------------------\")\n",
        "        elif function_calls:\n",
        "            print('+++ inside the function call...')\n",
        "            for function_call in function_calls:\n",
        "                print(f\"function, [args]:  {function_call.name}, {function_call.args}\")\n",
        "        elif function_responses:\n",
        "            print('--- inside the function call response...')\n",
        "            # TODO(Pili): copied from walkthrough codes. Find root cause of 'pending' not found.\n",
        "            # if not event.actions.pending:\n",
        "            if True:\n",
        "                for function_response in function_responses:\n",
        "                    details = function_response.response\n",
        "                    recommended_list = list(details.values())\n",
        "                    print(f\"Function Name: {function_response.name}\")\n",
        "                    result=json.dumps(recommended_list)\n",
        "                    print(f\"Function Results {result}\")\n",
        "            else:\n",
        "                print(agent_res)\n",
        "    print(f\"Total elapsed time: {elapsed_time_ms}\")\n"
      ],
      "metadata": {
        "id": "MPL-1JEm2jjh"
      },
      "execution_count": 40,
      "outputs": []
    },
    {
      "cell_type": "code",
      "source": [
        "import random\n",
        "import asyncio\n",
        "\n",
        "from google.adk.tools import google_search\n",
        "from google.adk import Agent\n",
        "from google.adk.agents import Agent, LlmAgent\n",
        "from google.genai import types\n",
        "from pydantic import BaseModel\n",
        "from google.genai import types\n",
        "from google.adk.sessions import InMemorySessionService\n",
        "from google.adk.runners import Runner\n",
        "\n",
        "async def caller_factory(root_agent, app_name='App12345', user_id='User12345', session_id=None):\n",
        "  session_service = InMemorySessionService()\n",
        "  if session_id is None:\n",
        "    suffix = random.randint(100000, 999999)\n",
        "    session_id = f'{app_name}-{user_id}-{suffix}'\n",
        "  session = await session_service.create_session(\n",
        "      app_name=app_name, user_id=user_id, session_id=session_id)\n",
        "  runner = Runner(agent=root_agent, app_name=app_name, session_service=session_service)\n",
        "  def _call(query):\n",
        "    content = types.Content(role='user', parts=[types.Part(text=query)])\n",
        "    events = runner.run(user_id=session.user_id, session_id=session.id, new_message=content)\n",
        "    return events\n",
        "  return _call"
      ],
      "metadata": {
        "id": "Gob7RCZ12mQM"
      },
      "execution_count": 41,
      "outputs": []
    },
    {
      "cell_type": "code",
      "source": [
        "MODEL = \"gemini-2.0-flash\"\n",
        "APP_NAME = \"simple_search_example\"\n",
        "USER_ID = \"user12345\"\n",
        "SESSION_ID = \"session12345\"\n",
        "AGENT_NAME = \"simple_search_agent\"\n",
        "\n",
        "# Agent\n",
        "simple_search_agent = Agent(\n",
        "    model=MODEL,\n",
        "    name=\"simple_search_agent\",\n",
        "    description=\"Agent to answer questions using Google Search.\",\n",
        "    instruction=\"I can answer your questions by searching the internet. Just ask me anything!\",\n",
        "    generate_content_config=types.GenerateContentConfig(\n",
        "        max_output_tokens=8000,\n",
        "    ),\n",
        "    tools=[google_search],\n",
        ")"
      ],
      "metadata": {
        "id": "bPhHDCYQ2VyP"
      },
      "execution_count": 42,
      "outputs": []
    },
    {
      "cell_type": "code",
      "source": [
        "call_agent = await caller_factory(simple_search_agent)"
      ],
      "metadata": {
        "id": "XuVy13Nq2pnO"
      },
      "execution_count": 43,
      "outputs": []
    },
    {
      "cell_type": "code",
      "source": [
        "events = call_agent('Hello')"
      ],
      "metadata": {
        "id": "kSn3YLe29B5X"
      },
      "execution_count": 44,
      "outputs": []
    },
    {
      "cell_type": "code",
      "source": [],
      "metadata": {
        "id": "aH8AFZ4zyIzP"
      },
      "execution_count": 44,
      "outputs": []
    },
    {
      "cell_type": "markdown",
      "source": [
        "# GCS Artifacts"
      ],
      "metadata": {
        "id": "2d2HXlKu-jy1"
      }
    },
    {
      "cell_type": "code",
      "source": [
        "from google.adk.artifacts import GcsArtifactService\n",
        "\n",
        "# Specify the GCS bucket name\n",
        "gcs_bucket_name_py = ARTIFACTS_BUCKET # Replace with your bucket name\n",
        "\n",
        "try:\n",
        "    gcs_service_py = GcsArtifactService(bucket_name=gcs_bucket_name_py)\n",
        "    print(f\"Python GcsArtifactService initialized for bucket: {gcs_bucket_name_py}\")\n",
        "    # Ensure your environment has credentials to access this bucket.\n",
        "    # e.g., via Application Default Credentials (ADC)\n",
        "\n",
        "    # Then pass it to the Runner\n",
        "    # runner = Runner(..., artifact_service=gcs_service_py)\n",
        "\n",
        "except Exception as e:\n",
        "    # Catch potential errors during GCS client initialization (e.g., auth issues)\n",
        "    print(f\"Error initializing Python GcsArtifactService: {e}\")\n",
        "    # Handle the error appropriately - maybe fall back to InMemory or raise\n",
        "\n",
        "async def caller_factory(root_agent, app_name='App12345', user_id='User12345', session_id=None):\n",
        "  session_service = InMemorySessionService()\n",
        "  if session_id is None:\n",
        "    suffix = random.randint(100000, 999999)\n",
        "    session_id = f'{app_name}-{user_id}-{suffix}'\n",
        "  session = await session_service.create_session(\n",
        "      app_name=app_name, user_id=user_id, session_id=session_id)\n",
        "  runner = Runner(agent=root_agent, app_name=app_name, session_service=session_service, artifact_service=gcs_service_py)\n",
        "  def _call(query):\n",
        "    content = types.Content(role='user', parts=[types.Part(text=query)])\n",
        "    events = runner.run(user_id=session.user_id, session_id=session.id, new_message=content)\n",
        "    return events\n",
        "  return _call"
      ],
      "metadata": {
        "colab": {
          "base_uri": "https://localhost:8080/"
        },
        "id": "IfqOuoy5-kfT",
        "outputId": "71746e44-ebf9-4ec0-cfcf-62d7fdece832"
      },
      "execution_count": 45,
      "outputs": [
        {
          "output_type": "stream",
          "name": "stdout",
          "text": [
            "Python GcsArtifactService initialized for bucket: hupili-genai-bb-public\n"
          ]
        }
      ]
    },
    {
      "cell_type": "code",
      "source": [
        "from google.adk.tools.tool_context import ToolContext\n",
        "import google.genai.types as types\n",
        "from google.adk.agents.callback_context import CallbackContext # Or ToolContext\n",
        "import base64\n",
        "from google.cloud import storage\n",
        "import mimetypes # Import mimetypes\n",
        "\n",
        "async def save_text_file(\n",
        "    filename: str, file_text: str, mime_type: str, tool_context: ToolContext\n",
        ") -> str:\n",
        "    \"\"\"Save a text file to artifacts service.\n",
        "    \"\"\"\n",
        "    try:\n",
        "        file_bytes = file_text.encode('utf-8')\n",
        "        artifact = types.Part(inline_data=types.Blob(data=file_bytes, mime_type=mime_type))\n",
        "        # Pass only the filename to save_artifact\n",
        "        await tool_context.save_artifact(filename=filename, artifact=artifact)\n",
        "        return filename\n",
        "    except Exception as e:\n",
        "        print(f\"Error saving file {e}\")\n",
        "        return \"\"\n",
        "\n",
        "async def load_text_file(\n",
        "    filename: str, tool_context: ToolContext\n",
        ") -> str:\n",
        "    \"\"\"Load a text file from artifacts service.\n",
        "    \"\"\"\n",
        "    try:\n",
        "        artifact = await tool_context.load_artifact(filename=filename)\n",
        "        file_bytes = artifact.inline_data.data\n",
        "        file_text = file_bytes.decode('utf-8')\n",
        "        return file_text\n",
        "    except Exception as e:\n",
        "        print(f\"Error loading file {e}\")\n",
        "        return \"\"\n",
        "\n",
        "\n",
        "async def list_files(tool_context: ToolContext) -> str:\n",
        "    \"\"\"Tool to list available artifacts for the user.\"\"\"\n",
        "    try:\n",
        "        available_files = await tool_context.list_artifacts()\n",
        "        if not available_files:\n",
        "            return \"You have no saved artifacts.\"\n",
        "        else:\n",
        "            # Format the list for the user/LLM\n",
        "            file_list_str = \"\\n\".join([f\"- {fname}\" for fname in available_files])\n",
        "            return f\"Here are your available Python artifacts:\\n{file_list_str}\"\n",
        "    except ValueError as e:\n",
        "        print(f\"Error listing Python artifacts: {e}. Is ArtifactService configured?\")\n",
        "        return \"Error: Could not list Python artifacts.\"\n",
        "    except Exception as e:\n",
        "        print(f\"An unexpected error occurred during Python artifact list: {e}\")\n",
        "        return \"Error: An unexpected error occurred while listing Python artifacts.\"\n",
        "\n",
        "PUBLISH_BUCKET = ARTIFACTS_BUCKET\n",
        "\n",
        "async def publish_file(file_name: str, path_prefix: str, tool_context: ToolContext) -> str:\n",
        "    \"\"\"Tool to publish a file from the artifact service to public bucket.\n",
        "\n",
        "    Args:\n",
        "    - file_name: name of the file to publish\n",
        "    - path_prefix: the path prefix on the public bucket\n",
        "    - tool_context: ToolContext object\n",
        "    \"\"\"\n",
        "    try:\n",
        "        artifact = await tool_context.load_artifact(filename=file_name)\n",
        "        file_bytes = artifact.inline_data.data\n",
        "        file_text = file_bytes.decode('utf-8')\n",
        "        print(f'loaded artifacts: {file_text[: 100]}')\n",
        "\n",
        "        if path_prefix.startswith(\"/\"):\n",
        "          path_prefix = path_prefix[1:]\n",
        "        if path_prefix.endswith(\"/\"):\n",
        "          path_prefix = path_prefix[:-1]\n",
        "\n",
        "        # Derive content type from file extension\n",
        "        mime_type, _ = mimetypes.guess_type(file_name)\n",
        "        if mime_type is None:\n",
        "            mime_type = 'application/octet-stream' # Default if type cannot be guessed\n",
        "\n",
        "        # write the file to PUBLISH_BUCKET\n",
        "        storage_client = storage.Client()\n",
        "        bucket = storage_client.bucket(PUBLISH_BUCKET)\n",
        "        blob = bucket.blob(f\"{path_prefix}/{file_name}\")\n",
        "\n",
        "        blob.upload_from_string(file_bytes.decode('utf-8'), content_type=mime_type)\n",
        "\n",
        "        gs_url = f\"gs://{PUBLISH_BUCKET}/{path_prefix}/{file_name}\"\n",
        "        # Add a nounce to invalidate the cache on published URL\n",
        "        nounce = str(random.randint(0,10000))\n",
        "        public_url = f'https://storage.googleapis.com/{PUBLISH_BUCKET}/{path_prefix}/{file_name}?nounce={nounce}'\n",
        "        return f\"File '{file_name}' published to {public_url}\"\n",
        "    except Exception as e:\n",
        "        return f\"Error publishing file: {e}\""
      ],
      "metadata": {
        "id": "5SbvSdoT-p3x"
      },
      "execution_count": 91,
      "outputs": []
    },
    {
      "cell_type": "code",
      "source": [],
      "metadata": {
        "id": "KD4PlIuZGHLg"
      },
      "execution_count": 91,
      "outputs": []
    },
    {
      "cell_type": "code",
      "source": [
        "MODEL = \"gemini-2.0-flash\"\n",
        "APP_NAME = \"artifact_agent\"\n",
        "USER_ID = \"user12345\"\n",
        "SESSION_ID = \"session12345\"\n",
        "AGENT_NAME = \"artifact_agent\"\n",
        "\n",
        "# Agent\n",
        "artifact_agent = Agent(\n",
        "    model=MODEL,\n",
        "    name=\"artifact_agent\",\n",
        "    description=\"Agent to fulfill user query and save results to artifacts\",\n",
        "    instruction=\"I can answer your questions and save the results to artifacts\",\n",
        "    generate_content_config=types.GenerateContentConfig(\n",
        "        max_output_tokens=8000,\n",
        "    ),\n",
        "    tools=[save_text_file, load_text_file, list_files, publish_file],\n",
        ")"
      ],
      "metadata": {
        "id": "mhPAqiGsAhyR"
      },
      "execution_count": 95,
      "outputs": []
    },
    {
      "cell_type": "code",
      "source": [
        "call_agent = await caller_factory(artifact_agent)"
      ],
      "metadata": {
        "id": "BuqsEh0tAtV-"
      },
      "execution_count": 96,
      "outputs": []
    },
    {
      "cell_type": "code",
      "source": [
        "events = call_agent('write a plan in markdown format to conduct research on AI Agent 2025. Save it to plan.md')\n",
        "pprint_events(events)"
      ],
      "metadata": {
        "colab": {
          "base_uri": "https://localhost:8080/"
        },
        "id": "e6qyP7MYA30V",
        "outputId": "937eb2ea-83c7-4505-cceb-95ede7547aff"
      },
      "execution_count": 97,
      "outputs": [
        {
          "output_type": "stream",
          "name": "stderr",
          "text": [
            "WARNING:google_genai.types:Warning: there are non-text parts in the response: ['function_call'], returning concatenated text result from text parts. Check the full candidates.content.parts accessor to get the full model response.\n"
          ]
        },
        {
          "output_type": "stream",
          "name": "stdout",
          "text": [
            "+++ inside the function call...\n",
            "function, [args]:  save_text_file, {'mime_type': 'text/markdown', 'filename': 'plan.md', 'file_text': '# Research Plan: AI Agents in 2025\\n\\n## Goal\\n\\nTo understand the landscape of AI Agents in 2025, including their capabilities, applications, and potential impact.\\n\\n## Objectives\\n\\n*   Identify the key trends driving the development of AI Agents.\\n*   Analyze the capabilities of state-of-the-art AI Agents.\\n*   Explore the potential applications of AI Agents in various industries.\\n*   Assess the potential societal and economic impact of AI Agents.\\n*   Identify the ethical considerations surrounding AI Agents.\\n\\n## Research Questions\\n\\n*   What are the key technological advancements enabling the development of more sophisticated AI Agents?\\n*   What are the limitations of current AI Agents?\\n*   In which industries are AI Agents expected to have the greatest impact?\\n*   What are the potential risks and benefits of widespread adoption of AI Agents?\\n*   How can we ensure that AI Agents are developed and used responsibly?\\n\\n## Methodology\\n\\n1.  **Literature Review:** Conduct a comprehensive review of academic papers, industry reports, and news articles related to AI Agents.\\n2.  **Expert Interviews:** Interview leading researchers and practitioners in the field of AI Agents.\\n3.  **Case Studies:** Analyze real-world examples of AI Agent deployments.\\n4.  **Trend Analysis:** Identify and analyze emerging trends in AI Agent development.\\n\\n## Timeline\\n\\n*   **Week 1-2:** Literature Review\\n*   **Week 3-4:** Expert Interviews\\n*   **Week 5-6:** Case Studies\\n*   **Week 7-8:** Trend Analysis\\n*   **Week 9-10:** Report Writing\\n\\n## Deliverables\\n\\n*   A comprehensive research report summarizing the findings of the research.\\n*   A presentation summarizing the key findings of the research.\\n\\n## Resources\\n\\n*   Academic databases (e.g., IEEE Xplore, ACM Digital Library)\\n*   Industry reports (e.g., Gartner, Forrester)\\n*   News articles and blogs\\n*   Expert network\\n'}\n",
            "--- inside the function call response...\n",
            "Function Name: save_text_file\n",
            "Function Results [\"plan.md\"]\n",
            ">>> inside final response...\n",
            "Final Response (4894.209 ms):\n",
            "I have saved the research plan to `plan.md`.\n",
            "\n",
            "-----------------------------\n",
            "Total elapsed time: 4894.209\n"
          ]
        }
      ]
    },
    {
      "cell_type": "code",
      "source": [
        "# list(events)"
      ],
      "metadata": {
        "id": "gyVICZ3iCPYv"
      },
      "execution_count": 98,
      "outputs": []
    },
    {
      "cell_type": "code",
      "source": [
        "events = call_agent('what are my files?')\n",
        "pprint_events(events)"
      ],
      "metadata": {
        "colab": {
          "base_uri": "https://localhost:8080/"
        },
        "id": "F4XuYmmtBBI1",
        "outputId": "bf47f3a6-30eb-4913-b2c9-dd81557d374f"
      },
      "execution_count": 99,
      "outputs": [
        {
          "output_type": "stream",
          "name": "stderr",
          "text": [
            "WARNING:google_genai.types:Warning: there are non-text parts in the response: ['function_call'], returning concatenated text result from text parts. Check the full candidates.content.parts accessor to get the full model response.\n"
          ]
        },
        {
          "output_type": "stream",
          "name": "stdout",
          "text": [
            "+++ inside the function call...\n",
            "function, [args]:  list_files, {}\n",
            "--- inside the function call response...\n",
            "Function Name: list_files\n",
            "Function Results [\"Here are your available Python artifacts:\\n- plan.md\"]\n",
            ">>> inside final response...\n",
            "Final Response (1520.092 ms):\n",
            "Your file is plan.md\n",
            "\n",
            "-----------------------------\n",
            "Total elapsed time: 1520.092\n"
          ]
        }
      ]
    },
    {
      "cell_type": "code",
      "source": [
        "events = call_agent('Turn the plan into a beautiful webpage')\n",
        "pprint_events(events)"
      ],
      "metadata": {
        "colab": {
          "base_uri": "https://localhost:8080/"
        },
        "id": "5hoE1ZaDBf9J",
        "outputId": "d19abd20-dfe7-4b5c-b23e-8ace85e33001"
      },
      "execution_count": 100,
      "outputs": [
        {
          "output_type": "stream",
          "name": "stdout",
          "text": [
            ">>> inside final response...\n",
            "Final Response (1112.444 ms):\n",
            "I can save the plan as an HTML file, but I can't create a \"beautiful\" webpage without more specific instructions on the desired look and feel. I will use a basic HTML structure and include the markdown content.\n",
            "\n",
            "What filename do you want to use?\n",
            "\n",
            "-----------------------------\n",
            "Total elapsed time: 1112.444\n"
          ]
        }
      ]
    },
    {
      "cell_type": "code",
      "source": [
        "events = call_agent('sure proceed with a basic web page and save to index.html')\n",
        "pprint_events(events)"
      ],
      "metadata": {
        "colab": {
          "base_uri": "https://localhost:8080/"
        },
        "id": "AbTDx8tOHI_s",
        "outputId": "4c040393-d483-4860-f2df-822f6e4b6d92"
      },
      "execution_count": 101,
      "outputs": [
        {
          "output_type": "stream",
          "name": "stderr",
          "text": [
            "WARNING:google_genai.types:Warning: there are non-text parts in the response: ['function_call'], returning concatenated text result from text parts. Check the full candidates.content.parts accessor to get the full model response.\n"
          ]
        },
        {
          "output_type": "stream",
          "name": "stdout",
          "text": [
            "+++ inside the function call...\n",
            "function, [args]:  load_text_file, {'filename': 'plan.md'}\n",
            "--- inside the function call response...\n",
            "Function Name: load_text_file\n",
            "Function Results [\"# Research Plan: AI Agents in 2025\\n\\n## Goal\\n\\nTo understand the landscape of AI Agents in 2025, including their capabilities, applications, and potential impact.\\n\\n## Objectives\\n\\n*   Identify the key trends driving the development of AI Agents.\\n*   Analyze the capabilities of state-of-the-art AI Agents.\\n*   Explore the potential applications of AI Agents in various industries.\\n*   Assess the potential societal and economic impact of AI Agents.\\n*   Identify the ethical considerations surrounding AI Agents.\\n\\n## Research Questions\\n\\n*   What are the key technological advancements enabling the development of more sophisticated AI Agents?\\n*   What are the limitations of current AI Agents?\\n*   In which industries are AI Agents expected to have the greatest impact?\\n*   What are the potential risks and benefits of widespread adoption of AI Agents?\\n*   How can we ensure that AI Agents are developed and used responsibly?\\n\\n## Methodology\\n\\n1.  **Literature Review:** Conduct a comprehensive review of academic papers, industry reports, and news articles related to AI Agents.\\n2.  **Expert Interviews:** Interview leading researchers and practitioners in the field of AI Agents.\\n3.  **Case Studies:** Analyze real-world examples of AI Agent deployments.\\n4.  **Trend Analysis:** Identify and analyze emerging trends in AI Agent development.\\n\\n## Timeline\\n\\n*   **Week 1-2:** Literature Review\\n*   **Week 3-4:** Expert Interviews\\n*   **Week 5-6:** Case Studies\\n*   **Week 7-8:** Trend Analysis\\n*   **Week 9-10:** Report Writing\\n\\n## Deliverables\\n\\n*   A comprehensive research report summarizing the findings of the research.\\n*   A presentation summarizing the key findings of the research.\\n\\n## Resources\\n\\n*   Academic databases (e.g., IEEE Xplore, ACM Digital Library)\\n*   Industry reports (e.g., Gartner, Forrester)\\n*   News articles and blogs\\n*   Expert network\\n\"]\n"
          ]
        },
        {
          "output_type": "stream",
          "name": "stderr",
          "text": [
            "WARNING:google_genai.types:Warning: there are non-text parts in the response: ['function_call'], returning concatenated text result from text parts. Check the full candidates.content.parts accessor to get the full model response.\n"
          ]
        },
        {
          "output_type": "stream",
          "name": "stdout",
          "text": [
            "+++ inside the function call...\n",
            "function, [args]:  save_text_file, {'mime_type': 'text/html', 'file_text': '<!DOCTYPE html>\\n<html>\\n<head>\\n  <title>AI Agent 2025 Research Plan</title>\\n</head>\\n<body>\\n  <h1>AI Agent 2025 Research Plan</h1>\\n  <p><strong>Goal:</strong> To understand the landscape of AI Agents in 2025, including their capabilities, applications, and potential impact.</p>\\n  <h2>Objectives</h2>\\n  <ul>\\n    <li>Identify the key trends driving the development of AI Agents.</li>\\n    <li>Analyze the capabilities of state-of-the-art AI Agents.</li>\\n    <li>Explore the potential applications of AI Agents in various industries.</li>\\n    <li>Assess the potential societal and economic impact of AI Agents.</li>\\n    <li>Identify the ethical considerations surrounding AI Agents.</li>\\n  </ul>\\n  <h2>Research Questions</h2>\\n  <ul>\\n    <li>What are the key technological advancements enabling the development of more sophisticated AI Agents?</li>\\n    <li>What are the limitations of current AI Agents?</li>\\n    <li>In which industries are AI Agents expected to have the greatest impact?</li>\\n    <li>What are the potential risks and benefits of widespread adoption of AI Agents?</li>\\n    <li>How can we ensure that AI Agents are developed and used responsibly?</li>\\n  </ul>\\n  <h2>Methodology</h2>\\n  <ol>\\n    <li><strong>Literature Review:</strong> Conduct a comprehensive review of academic papers, industry reports, and news articles related to AI Agents.</li>\\n    <li><strong>Expert Interviews:</strong> Interview leading researchers and practitioners in the field of AI Agents.</li>\\n    <li><strong>Case Studies:</strong> Analyze real-world examples of AI Agent deployments.</li>\\n    <li><strong>Trend Analysis:</strong> Identify and analyze emerging trends in AI Agent development.</li>\\n  </ol>\\n  <h2>Timeline</h2>\\n  <ul>\\n    <li><strong>Week 1-2:</strong> Literature Review</li>\\n    <li><strong>Week 3-4:</strong> Expert Interviews</li>\\n    <li><strong>Week 5-6:</strong> Case Studies</li>\\n    <li><strong>Week 7-8:</strong> Trend Analysis</li>\\n    <li><strong>Week 9-10:</strong> Report Writing</li>\\n  </ul>\\n  <h2>Deliverables</h2>\\n  <ul>\\n    <li>A comprehensive research report summarizing the findings of the research.</li>\\n    <li>A presentation summarizing the key findings of the research.</li>\\n  </ul>\\n  <h2>Resources</h2>\\n  <ul>\\n    <li>Academic databases (e.g., IEEE Xplore, ACM Digital Library)</li>\\n    <li>Industry reports (e.g., Gartner, Forrester)</li>\\n    <li>News articles and blogs</li>\\n    <li>Expert network</li>\\n  </ul>\\n</body>\\n</html>', 'filename': 'index.html'}\n",
            "--- inside the function call response...\n",
            "Function Name: save_text_file\n",
            "Function Results [\"index.html\"]\n",
            ">>> inside final response...\n",
            "Final Response (5767.981 ms):\n",
            "I've created a basic webpage from the plan and saved it to `index.html`.\n",
            "\n",
            "-----------------------------\n",
            "Total elapsed time: 5767.981\n"
          ]
        }
      ]
    },
    {
      "cell_type": "code",
      "source": [
        "events = call_agent('publish that to /adk-101/demo-artifact-service-plan/')\n",
        "pprint_events(events)"
      ],
      "metadata": {
        "colab": {
          "base_uri": "https://localhost:8080/"
        },
        "id": "Eoc3qf68HQ4L",
        "outputId": "42b6520b-b2d6-49db-8a32-cd20aafbd2d8"
      },
      "execution_count": 102,
      "outputs": [
        {
          "output_type": "stream",
          "name": "stderr",
          "text": [
            "WARNING:google_genai.types:Warning: there are non-text parts in the response: ['function_call'], returning concatenated text result from text parts. Check the full candidates.content.parts accessor to get the full model response.\n"
          ]
        },
        {
          "output_type": "stream",
          "name": "stdout",
          "text": [
            "+++ inside the function call...\n",
            "function, [args]:  publish_file, {'file_name': 'index.html', 'path_prefix': '/adk-101/demo-artifact-service-plan/'}\n",
            "loaded artifacts: <!DOCTYPE html>\n",
            "<html>\n",
            "<head>\n",
            "  <title>AI Agent 2025 Research Plan</title>\n",
            "</head>\n",
            "<body>\n",
            "  <h1>AI A\n",
            "--- inside the function call response...\n",
            "Function Name: publish_file\n",
            "Function Results [\"File 'index.html' published to https://storage.googleapis.com/hupili-genai-bb-public/adk-101/demo-artifact-service-plan/index.html?nounce=4394\"]\n",
            ">>> inside final response...\n",
            "Final Response (2614.427 ms):\n",
            "I have published the file `index.html` to `https://storage.googleapis.com/hupili-genai-bb-public/adk-101/demo-artifact-service-plan/index.html?nounce=4394`.\n",
            "\n",
            "-----------------------------\n",
            "Total elapsed time: 2614.427\n"
          ]
        }
      ]
    },
    {
      "cell_type": "code",
      "source": [
        "events = call_agent('add tailwind css to the webpage and save to index2.html')\n",
        "pprint_events(events)"
      ],
      "metadata": {
        "colab": {
          "base_uri": "https://localhost:8080/"
        },
        "id": "HvUZd9pVHbIK",
        "outputId": "7cee1ca5-f466-45c4-f5e7-898999b24ff0"
      },
      "execution_count": 103,
      "outputs": [
        {
          "output_type": "stream",
          "name": "stderr",
          "text": [
            "WARNING:google_genai.types:Warning: there are non-text parts in the response: ['function_call'], returning concatenated text result from text parts. Check the full candidates.content.parts accessor to get the full model response.\n"
          ]
        },
        {
          "output_type": "stream",
          "name": "stdout",
          "text": [
            "+++ inside the function call...\n",
            "function, [args]:  load_text_file, {'filename': 'index.html'}\n",
            "--- inside the function call response...\n",
            "Function Name: load_text_file\n",
            "Function Results [\"<!DOCTYPE html>\\n<html>\\n<head>\\n  <title>AI Agent 2025 Research Plan</title>\\n</head>\\n<body>\\n  <h1>AI Agent 2025 Research Plan</h1>\\n  <p><strong>Goal:</strong> To understand the landscape of AI Agents in 2025, including their capabilities, applications, and potential impact.</p>\\n  <h2>Objectives</h2>\\n  <ul>\\n    <li>Identify the key trends driving the development of AI Agents.</li>\\n    <li>Analyze the capabilities of state-of-the-art AI Agents.</li>\\n    <li>Explore the potential applications of AI Agents in various industries.</li>\\n    <li>Assess the potential societal and economic impact of AI Agents.</li>\\n    <li>Identify the ethical considerations surrounding AI Agents.</li>\\n  </ul>\\n  <h2>Research Questions</h2>\\n  <ul>\\n    <li>What are the key technological advancements enabling the development of more sophisticated AI Agents?</li>\\n    <li>What are the limitations of current AI Agents?</li>\\n    <li>In which industries are AI Agents expected to have the greatest impact?</li>\\n    <li>What are the potential risks and benefits of widespread adoption of AI Agents?</li>\\n    <li>How can we ensure that AI Agents are developed and used responsibly?</li>\\n  </ul>\\n  <h2>Methodology</h2>\\n  <ol>\\n    <li><strong>Literature Review:</strong> Conduct a comprehensive review of academic papers, industry reports, and news articles related to AI Agents.</li>\\n    <li><strong>Expert Interviews:</strong> Interview leading researchers and practitioners in the field of AI Agents.</li>\\n    <li><strong>Case Studies:</strong> Analyze real-world examples of AI Agent deployments.</li>\\n    <li><strong>Trend Analysis:</strong> Identify and analyze emerging trends in AI Agent development.</li>\\n  </ol>\\n  <h2>Timeline</h2>\\n  <ul>\\n    <li><strong>Week 1-2:</strong> Literature Review</li>\\n    <li><strong>Week 3-4:</strong> Expert Interviews</li>\\n    <li><strong>Week 5-6:</strong> Case Studies</li>\\n    <li><strong>Week 7-8:</strong> Trend Analysis</li>\\n    <li><strong>Week 9-10:</strong> Report Writing</li>\\n  </ul>\\n  <h2>Deliverables</h2>\\n  <ul>\\n    <li>A comprehensive research report summarizing the findings of the research.</li>\\n    <li>A presentation summarizing the key findings of the research.</li>\\n  </ul>\\n  <h2>Resources</h2>\\n  <ul>\\n    <li>Academic databases (e.g., IEEE Xplore, ACM Digital Library)</li>\\n    <li>Industry reports (e.g., Gartner, Forrester)</li>\\n    <li>News articles and blogs</li>\\n    <li>Expert network</li>\\n  </ul>\\n</body>\\n</html>\"]\n"
          ]
        },
        {
          "output_type": "stream",
          "name": "stderr",
          "text": [
            "WARNING:google_genai.types:Warning: there are non-text parts in the response: ['function_call'], returning concatenated text result from text parts. Check the full candidates.content.parts accessor to get the full model response.\n"
          ]
        },
        {
          "output_type": "stream",
          "name": "stdout",
          "text": [
            "+++ inside the function call...\n",
            "function, [args]:  save_text_file, {'filename': 'index2.html', 'file_text': '<!DOCTYPE html>\\n<html lang=\"en\">\\n<head>\\n    <meta charset=\"UTF-8\">\\n    <meta name=\"viewport\" content=\"width=device-width, initial-scale=1.0\">\\n    <title>AI Agent 2025 Research Plan</title>\\n    <link href=\"https://cdn.jsdelivr.net/npm/tailwindcss@2.2.19/dist/tailwind.min.css\" rel=\"stylesheet\">\\n</head>\\n<body class=\"bg-gray-100 font-sans\">\\n    <div class=\"container mx-auto p-8\">\\n        <h1 class=\"text-3xl font-bold mb-4\">AI Agent 2025 Research Plan</h1>\\n        <p class=\"mb-4\"><strong class=\"font-medium\">Goal:</strong> To understand the landscape of AI Agents in 2025, including their capabilities, applications, and potential impact.</p>\\n\\n        <h2 class=\"text-2xl font-semibold mt-6 mb-2\">Objectives</h2>\\n        <ul class=\"list-disc pl-5 mb-4\">\\n            <li>Identify the key trends driving the development of AI Agents.</li>\\n            <li>Analyze the capabilities of state-of-the-art AI Agents.</li>\\n            <li>Explore the potential applications of AI Agents in various industries.</li>\\n            <li>Assess the potential societal and economic impact of AI Agents.</li>\\n            <li>Identify the ethical considerations surrounding AI Agents.</li>\\n        </ul>\\n\\n        <h2 class=\"text-2xl font-semibold mt-6 mb-2\">Research Questions</h2>\\n        <ul class=\"list-disc pl-5 mb-4\">\\n            <li>What are the key technological advancements enabling the development of more sophisticated AI Agents?</li>\\n            <li>What are the limitations of current AI Agents?</li>\\n            <li>In which industries are AI Agents expected to have the greatest impact?</li>\\n            <li>What are the potential risks and benefits of widespread adoption of AI Agents?</li>\\n            <li>How can we ensure that AI Agents are developed and used responsibly?</li>\\n        </ul>\\n\\n        <h2 class=\"text-2xl font-semibold mt-6 mb-2\">Methodology</h2>\\n        <ol class=\"list-decimal pl-5 mb-4\">\\n            <li><strong class=\"font-medium\">Literature Review:</strong> Conduct a comprehensive review of academic papers, industry reports, and news articles related to AI Agents.</li>\\n            <li><strong class=\"font-medium\">Expert Interviews:</strong> Interview leading researchers and practitioners in the field of AI Agents.</li>\\n            <li><strong class=\"font-medium\">Case Studies:</strong> Analyze real-world examples of AI Agent deployments.</li>\\n            <li><strong class=\"font-medium\">Trend Analysis:</strong> Identify and analyze emerging trends in AI Agent development.</li>\\n        </ol>\\n\\n        <h2 class=\"text-2xl font-semibold mt-6 mb-2\">Timeline</h2>\\n        <ul class=\"list-disc pl-5 mb-4\">\\n            <li><strong class=\"font-medium\">Week 1-2:</strong> Literature Review</li>\\n            <li><strong class=\"font-medium\">Week 3-4:</strong> Expert Interviews</li>\\n            <li><strong class=\"font-medium\">Week 5-6:</strong> Case Studies</li>\\n            <li><strong class=\"font-medium\">Week 7-8:</strong> Trend Analysis</li>\\n            <li><strong class=\"font-medium\">Week 9-10:</strong> Report Writing</li>\\n        </ul>\\n\\n        <h2 class=\"text-2xl font-semibold mt-6 mb-2\">Deliverables</h2>\\n        <ul class=\"list-disc pl-5 mb-4\">\\n            <li>A comprehensive research report summarizing the findings of the research.</li>\\n            <li>A presentation summarizing the key findings of the research.</li>\\n        </ul>\\n\\n        <h2 class=\"text-2xl font-semibold mt-6 mb-2\">Resources</h2>\\n        <ul class=\"list-disc pl-5 mb-4\">\\n            <li>Academic databases (e.g., IEEE Xplore, ACM Digital Library)</li>\\n            <li>Industry reports (e.g., Gartner, Forrester)</li>\\n            <li>News articles and blogs</li>\\n            <li>Expert network</li>\\n        </ul>\\n    </div>\\n</body>\\n</html>', 'mime_type': 'text/html'}\n",
            "--- inside the function call response...\n",
            "Function Name: save_text_file\n",
            "Function Results [\"index2.html\"]\n",
            ">>> inside final response...\n",
            "Final Response (8102.347 ms):\n",
            "I've created a new webpage with Tailwind CSS and saved it to `index2.html`.\n",
            "\n",
            "-----------------------------\n",
            "Total elapsed time: 8102.347\n"
          ]
        }
      ]
    },
    {
      "cell_type": "code",
      "source": [
        "events = call_agent('publish that to /adk-101/demo-artifact-service-plan/')\n",
        "pprint_events(events)"
      ],
      "metadata": {
        "colab": {
          "base_uri": "https://localhost:8080/"
        },
        "id": "ub-aW8_6JnnH",
        "outputId": "8e0ccaa3-14a1-4c1d-945e-e96e94ed66e3"
      },
      "execution_count": 104,
      "outputs": [
        {
          "output_type": "stream",
          "name": "stderr",
          "text": [
            "WARNING:google_genai.types:Warning: there are non-text parts in the response: ['function_call'], returning concatenated text result from text parts. Check the full candidates.content.parts accessor to get the full model response.\n"
          ]
        },
        {
          "output_type": "stream",
          "name": "stdout",
          "text": [
            "+++ inside the function call...\n",
            "function, [args]:  publish_file, {'file_name': 'index2.html', 'path_prefix': '/adk-101/demo-artifact-service-plan/'}\n",
            "loaded artifacts: <!DOCTYPE html>\n",
            "<html lang=\"en\">\n",
            "<head>\n",
            "    <meta charset=\"UTF-8\">\n",
            "    <meta name=\"viewport\" content\n",
            "--- inside the function call response...\n",
            "Function Name: publish_file\n",
            "Function Results [\"File 'index2.html' published to https://storage.googleapis.com/hupili-genai-bb-public/adk-101/demo-artifact-service-plan/index2.html?nounce=4314\"]\n",
            ">>> inside final response...\n",
            "Final Response (2594.95 ms):\n",
            "I have published the file `index2.html` to `https://storage.googleapis.com/hupili-genai-bb-public/adk-101/demo-artifact-service-plan/index2.html?nounce=4314`.\n",
            "\n",
            "-----------------------------\n",
            "Total elapsed time: 2594.95\n"
          ]
        }
      ]
    },
    {
      "cell_type": "code",
      "source": [
        "events = call_agent('redesign it using bento grid and save to index3.html')\n",
        "pprint_events(events)"
      ],
      "metadata": {
        "colab": {
          "base_uri": "https://localhost:8080/"
        },
        "id": "mOhskfC9Jp9k",
        "outputId": "030c71d7-419b-4a83-8b5a-965309a5af99"
      },
      "execution_count": 105,
      "outputs": [
        {
          "output_type": "stream",
          "name": "stderr",
          "text": [
            "WARNING:google_genai.types:Warning: there are non-text parts in the response: ['function_call'], returning concatenated text result from text parts. Check the full candidates.content.parts accessor to get the full model response.\n"
          ]
        },
        {
          "output_type": "stream",
          "name": "stdout",
          "text": [
            "+++ inside the function call...\n",
            "function, [args]:  save_text_file, {'file_text': '<!DOCTYPE html>\\n<html lang=\"en\">\\n<head>\\n    <meta charset=\"UTF-8\">\\n    <meta name=\"viewport\" content=\"width=device-width, initial-scale=1.0\">\\n    <title>AI Agent 2025 Research Plan - Bento Grid</title>\\n    <link href=\"https://cdn.jsdelivr.net/npm/tailwindcss@2.2.19/dist/tailwind.min.css\" rel=\"stylesheet\">\\n</head>\\n<body class=\"bg-gray-100 font-sans\">\\n    <div class=\"container mx-auto p-8 grid grid-cols-1 md:grid-cols-2 lg:grid-cols-3 gap-4\">\\n\\n        <!-- Main Title -->\\n        <div class=\"col-span-full bg-white p-4 rounded-lg shadow-md\">\\n            <h1 class=\"text-3xl font-bold mb-4\">AI Agent 2025 Research Plan</h1>\\n            <p class=\"text-gray-700\"><strong class=\"font-medium\">Goal:</strong> To understand the landscape of AI Agents in 2025.</p>\\n        </div>\\n\\n        <!-- Objectives -->\\n        <div class=\"bg-white p-4 rounded-lg shadow-md\">\\n            <h2 class=\"text-xl font-semibold mb-2\">Objectives</h2>\\n            <ul class=\"list-disc pl-5\">\\n                <li>Identify key trends</li>\\n                <li>Analyze capabilities</li>\\n                <li>Explore applications</li>\\n            </ul>\\n        </div>\\n\\n        <!-- Research Questions -->\\n        <div class=\"bg-white p-4 rounded-lg shadow-md\">\\n            <h2 class=\"text-xl font-semibold mb-2\">Research Questions</h2>\\n            <ul class=\"list-disc pl-5\">\\n                <li>What are key advancements?</li>\\n                <li>What are the limitations?</li>\\n                <li>Which industries will be impacted?</li>\\n            </ul>\\n        </div>\\n\\n        <!-- Methodology -->\\n        <div class=\"bg-white p-4 rounded-lg shadow-md md:col-span-2\">\\n            <h2 class=\"text-xl font-semibold mb-2\">Methodology</h2>\\n            <ol class=\"list-decimal pl-5\">\\n                <li>Literature Review</li>\\n                <li>Expert Interviews</li>\\n                <li>Case Studies</li>\\n            </ol>\\n        </div>\\n\\n        <!-- Timeline -->\\n        <div class=\"bg-white p-4 rounded-lg shadow-md\">\\n            <h2 class=\"text-xl font-semibold mb-2\">Timeline</h2>\\n            <ul class=\"list-disc pl-5\">\\n                <li>Week 1-2: Literature Review</li>\\n                <li>Week 3-4: Expert Interviews</li>\\n            </ul>\\n        </div>\\n\\n        <!-- Deliverables -->\\n        <div class=\"bg-white p-4 rounded-lg shadow-md\">\\n            <h2 class=\"text-xl font-semibold mb-2\">Deliverables</h2>\\n            <ul class=\"list-disc pl-5\">\\n                <li>Research Report</li>\\n                <li>Presentation</li>\\n            </ul>\\n        </div>\\n\\n        <!-- Resources -->\\n         <div class=\"bg-white p-4 rounded-lg shadow-md\">\\n            <h2 class=\"text-xl font-semibold mb-2\">Resources</h2>\\n            <ul class=\"list-disc pl-5\">\\n                <li>Academic Databases</li>\\n                <li>Industry Reports</li>\\n            </ul>\\n        </div>\\n\\n    </div>\\n</body>\\n</html>', 'filename': 'index3.html', 'mime_type': 'text/html'}\n",
            "--- inside the function call response...\n",
            "Function Name: save_text_file\n",
            "Function Results [\"index3.html\"]\n",
            ">>> inside final response...\n",
            "Final Response (6709.895 ms):\n",
            "I have created a basic Bento grid layout and saved it to `index3.html`. You'll likely need to customize it further.\n",
            "\n",
            "-----------------------------\n",
            "Total elapsed time: 6709.895\n"
          ]
        }
      ]
    },
    {
      "cell_type": "code",
      "source": [
        "events = call_agent('publish that to /adk-101/demo-artifact-service-plan/')\n",
        "pprint_events(events)"
      ],
      "metadata": {
        "colab": {
          "base_uri": "https://localhost:8080/"
        },
        "id": "mpMc85jGJw_b",
        "outputId": "be886b1b-7f22-4565-afc5-f4eb57ef473f"
      },
      "execution_count": 106,
      "outputs": [
        {
          "output_type": "stream",
          "name": "stderr",
          "text": [
            "WARNING:google_genai.types:Warning: there are non-text parts in the response: ['function_call'], returning concatenated text result from text parts. Check the full candidates.content.parts accessor to get the full model response.\n"
          ]
        },
        {
          "output_type": "stream",
          "name": "stdout",
          "text": [
            "+++ inside the function call...\n",
            "function, [args]:  publish_file, {'file_name': 'index3.html', 'path_prefix': '/adk-101/demo-artifact-service-plan/'}\n",
            "loaded artifacts: <!DOCTYPE html>\n",
            "<html lang=\"en\">\n",
            "<head>\n",
            "    <meta charset=\"UTF-8\">\n",
            "    <meta name=\"viewport\" content\n",
            "--- inside the function call response...\n",
            "Function Name: publish_file\n",
            "Function Results [\"File 'index3.html' published to https://storage.googleapis.com/hupili-genai-bb-public/adk-101/demo-artifact-service-plan/index3.html?nounce=9615\"]\n",
            ">>> inside final response...\n",
            "Final Response (2601.28 ms):\n",
            "I have published the file `index3.html` to `https://storage.googleapis.com/hupili-genai-bb-public/adk-101/demo-artifact-service-plan/index3.html?nounce=9615`.\n",
            "\n",
            "-----------------------------\n",
            "Total elapsed time: 2601.28\n"
          ]
        }
      ]
    },
    {
      "cell_type": "code",
      "source": [
        "events = call_agent('change the color scheme to be sci-fi style, save it to index4.html and publish that to /adk-101/demo-artifact-service-plan/')\n",
        "pprint_events(events)"
      ],
      "metadata": {
        "colab": {
          "base_uri": "https://localhost:8080/"
        },
        "id": "Ruo8h2nWJzza",
        "outputId": "17c2c99d-4138-4e8a-e4e4-37c4f9d3dc1b"
      },
      "execution_count": 107,
      "outputs": [
        {
          "output_type": "stream",
          "name": "stderr",
          "text": [
            "WARNING:google_genai.types:Warning: there are non-text parts in the response: ['function_call'], returning concatenated text result from text parts. Check the full candidates.content.parts accessor to get the full model response.\n"
          ]
        },
        {
          "output_type": "stream",
          "name": "stdout",
          "text": [
            "+++ inside the function call...\n",
            "function, [args]:  save_text_file, {'filename': 'index4.html', 'mime_type': 'text/html', 'file_text': '<!DOCTYPE html>\\n<html lang=\"en\">\\n<head>\\n    <meta charset=\"UTF-8\">\\n    <meta name=\"viewport\" content=\"width=device-width, initial-scale=1.0\">\\n    <title>AI Agent 2025 Research Plan - Sci-Fi</title>\\n    <link href=\"https://cdn.jsdelivr.net/npm/tailwindcss@2.2.19/dist/tailwind.min.css\" rel=\"stylesheet\">\\n</head>\\n<body class=\"bg-gray-900 text-gray-100 font-sans\">\\n    <div class=\"container mx-auto p-8 grid grid-cols-1 md:grid-cols-2 lg:grid-cols-3 gap-4\">\\n\\n        <!-- Main Title -->\\n        <div class=\"col-span-full bg-gray-800 p-4 rounded-lg shadow-md border border-blue-500\">\\n            <h1 class=\"text-3xl font-bold mb-4 text-blue-300\">AI Agent 2025 Research Plan</h1>\\n            <p class=\"text-gray-300\"><strong class=\"font-medium text-blue-200\">Goal:</strong> To understand the landscape of AI Agents in 2025.</p>\\n        </div>\\n\\n        <!-- Objectives -->\\n        <div class=\"bg-gray-800 p-4 rounded-lg shadow-md border border-green-500\">\\n            <h2 class=\"text-xl font-semibold mb-2 text-green-300\">Objectives</h2>\\n            <ul class=\"list-disc pl-5 text-gray-300\">\\n                <li>Identify key trends</li>\\n                <li>Analyze capabilities</li>\\n                <li>Explore applications</li>\\n            </ul>\\n        </div>\\n\\n        <!-- Research Questions -->\\n        <div class=\"bg-gray-800 p-4 rounded-lg shadow-md border border-purple-500\">\\n            <h2 class=\"text-xl font-semibold mb-2 text-purple-300\">Research Questions</h2>\\n            <ul class=\"list-disc pl-5 text-gray-300\">\\n                <li>What are key advancements?</li>\\n                <li>What are the limitations?</li>\\n                <li>Which industries will be impacted?</li>\\n            </ul>\\n        </div>\\n\\n        <!-- Methodology -->\\n        <div class=\"bg-gray-800 p-4 rounded-lg shadow-md md:col-span-2 border border-yellow-500\">\\n            <h2 class=\"text-xl font-semibold mb-2 text-yellow-300\">Methodology</h2>\\n            <ol class=\"list-decimal pl-5 text-gray-300\">\\n                <li>Literature Review</li>\\n                <li>Expert Interviews</li>\\n                <li>Case Studies</li>\\n            </ol>\\n        </div>\\n\\n        <!-- Timeline -->\\n        <div class=\"bg-gray-800 p-4 rounded-lg shadow-md border border-red-500\">\\n            <h2 class=\"text-xl font-semibold mb-2 text-red-300\">Timeline</h2>\\n            <ul class=\"list-disc pl-5 text-gray-300\">\\n                <li>Week 1-2: Literature Review</li>\\n                <li>Week 3-4: Expert Interviews</li>\\n            </ul>\\n        </div>\\n\\n        <!-- Deliverables -->\\n        <div class=\"bg-gray-800 p-4 rounded-lg shadow-md border border-teal-500\">\\n            <h2 class=\"text-xl font-semibold mb-2 text-teal-300\">Deliverables</h2>\\n            <ul class=\"list-disc pl-5 text-gray-300\">\\n                <li>Research Report</li>\\n                <li>Presentation</li>\\n            </ul>\\n        </div>\\n\\n        <!-- Resources -->\\n         <div class=\"bg-gray-800 p-4 rounded-lg shadow-md border border-pink-500\">\\n            <h2 class=\"text-xl font-semibold mb-2 text-pink-300\">Resources</h2>\\n            <ul class=\"list-disc pl-5 text-gray-300\">\\n                <li>Academic Databases</li>\\n                <li>Industry Reports</li>\\n            </ul>\\n        </div>\\n\\n    </div>\\n</body>\\n</html>'}\n",
            "--- inside the function call response...\n",
            "Function Name: save_text_file\n",
            "Function Results [\"index4.html\"]\n"
          ]
        },
        {
          "output_type": "stream",
          "name": "stderr",
          "text": [
            "WARNING:google_genai.types:Warning: there are non-text parts in the response: ['function_call'], returning concatenated text result from text parts. Check the full candidates.content.parts accessor to get the full model response.\n"
          ]
        },
        {
          "output_type": "stream",
          "name": "stdout",
          "text": [
            "+++ inside the function call...\n",
            "function, [args]:  publish_file, {'file_name': 'index4.html', 'path_prefix': '/adk-101/demo-artifact-service-plan/'}\n",
            "loaded artifacts: <!DOCTYPE html>\n",
            "<html lang=\"en\">\n",
            "<head>\n",
            "    <meta charset=\"UTF-8\">\n",
            "    <meta name=\"viewport\" content\n",
            "--- inside the function call response...\n",
            "Function Name: publish_file\n",
            "Function Results [\"File 'index4.html' published to https://storage.googleapis.com/hupili-genai-bb-public/adk-101/demo-artifact-service-plan/index4.html?nounce=8332\"]\n",
            ">>> inside final response...\n",
            "Final Response (9314.321 ms):\n",
            "I've created `index4.html` with a sci-fi color scheme and published it to `https://storage.googleapis.com/hupili-genai-bb-public/adk-101/demo-artifact-service-plan/index4.html?nounce=8332`.\n",
            "\n",
            "-----------------------------\n",
            "Total elapsed time: 9314.321\n"
          ]
        }
      ]
    },
    {
      "cell_type": "code",
      "source": [
        "events = call_agent('add some tailwind page load transition, save it to index5.html and publish that to /adk-101/demo-artifact-service-plan/')\n",
        "pprint_events(events)"
      ],
      "metadata": {
        "colab": {
          "base_uri": "https://localhost:8080/"
        },
        "id": "fefDks-0KCzd",
        "outputId": "4d6c2b7b-9b91-43a9-cee8-f9f1f071e5a9"
      },
      "execution_count": 108,
      "outputs": [
        {
          "output_type": "stream",
          "name": "stderr",
          "text": [
            "WARNING:google_genai.types:Warning: there are non-text parts in the response: ['function_call'], returning concatenated text result from text parts. Check the full candidates.content.parts accessor to get the full model response.\n"
          ]
        },
        {
          "output_type": "stream",
          "name": "stdout",
          "text": [
            "+++ inside the function call...\n",
            "function, [args]:  save_text_file, {'file_text': '<!DOCTYPE html>\\n<html lang=\"en\">\\n<head>\\n    <meta charset=\"UTF-8\">\\n    <meta name=\"viewport\" content=\"width=device-width, initial-scale=1.0\">\\n    <title>AI Agent 2025 Research Plan - Sci-Fi with Transition</title>\\n    <link href=\"https://cdn.jsdelivr.net/npm/tailwindcss@2.2.19/dist/tailwind.min.css\" rel=\"stylesheet\">\\n    <style>\\n        body {\\n            opacity: 0;\\n            transition: opacity 0.5s ease-in-out;\\n        }\\n        body.loaded {\\n            opacity: 1;\\n        }\\n    </style>\\n</head>\\n<body class=\"bg-gray-900 text-gray-100 font-sans\">\\n    <div class=\"container mx-auto p-8 grid grid-cols-1 md:grid-cols-2 lg:grid-cols-3 gap-4\">\\n\\n        <!-- Main Title -->\\n        <div class=\"col-span-full bg-gray-800 p-4 rounded-lg shadow-md border border-blue-500\">\\n            <h1 class=\"text-3xl font-bold mb-4 text-blue-300\">AI Agent 2025 Research Plan</h1>\\n            <p class=\"text-gray-300\"><strong class=\"font-medium text-blue-200\">Goal:</strong> To understand the landscape of AI Agents in 2025.</p>\\n        </div>\\n\\n        <!-- Objectives -->\\n        <div class=\"bg-gray-800 p-4 rounded-lg shadow-md border border-green-500\">\\n            <h2 class=\"text-xl font-semibold mb-2 text-green-300\">Objectives</h2>\\n            <ul class=\"list-disc pl-5 text-gray-300\">\\n                <li>Identify key trends</li>\\n                <li>Analyze capabilities</li>\\n                <li>Explore applications</li>\\n            </ul>\\n        </div>\\n\\n        <!-- Research Questions -->\\n        <div class=\"bg-gray-800 p-4 rounded-lg shadow-md border border-purple-500\">\\n            <h2 class=\"text-xl font-semibold mb-2 text-purple-300\">Research Questions</h2>\\n            <ul class=\"list-disc pl-5 text-gray-300\">\\n                <li>What are key advancements?</li>\\n                <li>What are the limitations?</li>\\n                <li>Which industries will be impacted?</li>\\n            </ul>\\n        </div>\\n\\n        <!-- Methodology -->\\n        <div class=\"bg-gray-800 p-4 rounded-lg shadow-md md:col-span-2 border border-yellow-500\">\\n            <h2 class=\"text-xl font-semibold mb-2 text-yellow-300\">Methodology</h2>\\n            <ol class=\"list-decimal pl-5 text-gray-300\">\\n                <li>Literature Review</li>\\n                <li>Expert Interviews</li>\\n                <li>Case Studies</li>\\n            </ol>\\n        </div>\\n\\n        <!-- Timeline -->\\n        <div class=\"bg-gray-800 p-4 rounded-lg shadow-md border border-red-500\">\\n            <h2 class=\"text-xl font-semibold mb-2 text-red-300\">Timeline</h2>\\n            <ul class=\"list-disc pl-5 text-gray-300\">\\n                <li>Week 1-2: Literature Review</li>\\n                <li>Week 3-4: Expert Interviews</li>\\n            </ul>\\n        </div>\\n\\n        <!-- Deliverables -->\\n        <div class=\"bg-gray-800 p-4 rounded-lg shadow-md border border-teal-500\">\\n            <h2 class=\"text-xl font-semibold mb-2 text-teal-300\">Deliverables</h2>\\n            <ul class=\"list-disc pl-5 text-gray-300\">\\n                <li>Research Report</li>\\n                <li>Presentation</li>\\n            </ul>\\n        </div>\\n\\n        <!-- Resources -->\\n         <div class=\"bg-gray-800 p-4 rounded-lg shadow-md border border-pink-500\">\\n            <h2 class=\"text-xl font-semibold mb-2 text-pink-300\">Resources</h2>\\n            <ul class=\"list-disc pl-5 text-gray-300\">\\n                <li>Academic Databases</li>\\n                <li>Industry Reports</li>\\n            </ul>\\n        </div>\\n\\n    </div>\\n    <script>\\n        document.addEventListener(\"DOMContentLoaded\", function(event) {\\n            document.body.classList.add(\\'loaded\\');\\n        });\\n    </script>\\n</body>\\n</html>', 'filename': 'index5.html', 'mime_type': 'text/html'}\n",
            "--- inside the function call response...\n",
            "Function Name: save_text_file\n",
            "Function Results [\"index5.html\"]\n"
          ]
        },
        {
          "output_type": "stream",
          "name": "stderr",
          "text": [
            "WARNING:google_genai.types:Warning: there are non-text parts in the response: ['function_call'], returning concatenated text result from text parts. Check the full candidates.content.parts accessor to get the full model response.\n"
          ]
        },
        {
          "output_type": "stream",
          "name": "stdout",
          "text": [
            "+++ inside the function call...\n",
            "function, [args]:  publish_file, {'file_name': 'index5.html', 'path_prefix': '/adk-101/demo-artifact-service-plan/'}\n",
            "loaded artifacts: <!DOCTYPE html>\n",
            "<html lang=\"en\">\n",
            "<head>\n",
            "    <meta charset=\"UTF-8\">\n",
            "    <meta name=\"viewport\" content\n",
            "--- inside the function call response...\n",
            "Function Name: publish_file\n",
            "Function Results [\"File 'index5.html' published to https://storage.googleapis.com/hupili-genai-bb-public/adk-101/demo-artifact-service-plan/index5.html?nounce=7574\"]\n",
            ">>> inside final response...\n",
            "Final Response (8997.642 ms):\n",
            "I've added a page load transition to `index5.html` and published it to `https://storage.googleapis.com/hupili-genai-bb-public/adk-101/demo-artifact-service-plan/index5.html?nounce=7574`.\n",
            "\n",
            "-----------------------------\n",
            "Total elapsed time: 8997.642\n"
          ]
        }
      ]
    },
    {
      "cell_type": "code",
      "source": [
        "events = call_agent('Yes, publish that to /adk-101/demo-artifact-service-plan/')\n",
        "pprint_events(events)"
      ],
      "metadata": {
        "colab": {
          "base_uri": "https://localhost:8080/"
        },
        "id": "V6FfOuwxNTs-",
        "outputId": "acee9ed8-7793-4784-b9ad-41c1cf402097"
      },
      "execution_count": 109,
      "outputs": [
        {
          "output_type": "stream",
          "name": "stdout",
          "text": [
            ">>> inside final response...\n",
            "Final Response (1093.278 ms):\n",
            "I already published `index5.html` to `/adk-101/demo-artifact-service-plan/` in the previous turn. Did you want me to publish it again?\n",
            "\n",
            "-----------------------------\n",
            "Total elapsed time: 1093.278\n"
          ]
        }
      ]
    },
    {
      "cell_type": "code",
      "source": [],
      "metadata": {
        "id": "iEFu89LBOrYC"
      },
      "execution_count": null,
      "outputs": []
    }
  ]
}