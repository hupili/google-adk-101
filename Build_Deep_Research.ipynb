{
  "nbformat": 4,
  "nbformat_minor": 0,
  "metadata": {
    "colab": {
      "provenance": [],
      "toc_visible": true
    },
    "kernelspec": {
      "name": "python3",
      "display_name": "Python 3"
    },
    "language_info": {
      "name": "python"
    }
  },
  "cells": [
    {
      "cell_type": "markdown",
      "source": [
        "# Build Deep Research\n",
        "\n",
        "This notebook walks through a naive implementation of DeepResearch like behaviour using ADK.\n"
      ],
      "metadata": {
        "id": "aLj1-M-tbXkB"
      }
    },
    {
      "cell_type": "markdown",
      "source": [
        "<table align=\"left\">\n",
        "  <td style=\"text-align: center\">\n",
        "    <a href=\"https://colab.sandbox.google.com/github/hupili/google-adk-101/blob/main/Build_Deep_Research.ipynb\">\n",
        "      <img width=\"32px\" src=\"https://www.gstatic.com/pantheon/images/bigquery/welcome_page/colab-logo.svg\" alt=\"Google Colaboratory logo\"><br> Run in Colab\n",
        "    </a>\n",
        "  </td>\n",
        "  <td style=\"text-align: center\">\n",
        "    <a href=\"https://console.cloud.google.com/vertex-ai/colab/import/https:%2F%2Fraw.githubusercontent.com%2Fhupili%2Fgoogle-adk-101%2Fmain%2FBuild_Deep_Research.ipynb\">\n",
        "      <img width=\"32px\" src=\"https://www.gstatic.com/pantheon/images/bigquery/welcome_page/colab-enterprise-logo.png\" alt=\"Google Cloud Colab Enterprise logo\"><br> Run in Colab Enterprise\n",
        "    </a>\n",
        "  </td>    \n",
        "  <td style=\"text-align: center\">\n",
        "    <a href=\"https://github.com/hupili/google-adk-101/blob/main/Build_Deep_Research.ipynb\">\n",
        "      <img width=\"32px\" src=\"https://www.gstatic.com/monospace/240802/git_host_github_mask.svg\" alt=\"GitHub logo\"><br> View on GitHub\n",
        "    </a>\n",
        "  </td>\n",
        "  <td style=\"text-align: center\">\n",
        "    <a href=\"https://console.cloud.google.com/vertex-ai/workbench/deploy-notebook?download_url=https://raw.githubusercontent.com/hupili/google-adk-101/blob/main/Build_Deep_Research.ipynb\">\n",
        "      <img width=\"32px\" src=\"https://www.gstatic.com/cloud/images/navigation/vertex-ai.svg\" alt=\"Vertex AI logo\"><br> Open in Vertex AI Workbench\n",
        "    </a>\n",
        "  </td>\n",
        "</table>"
      ],
      "metadata": {
        "id": "eZxgo50CA7q4"
      }
    },
    {
      "cell_type": "markdown",
      "source": [
        "| | |\n",
        "|-|-|\n",
        "| Author(s) | [Pili Hu](https://github.com/hupili)|\n",
        "| Reviewers(s) | Nil |\n",
        "| Last updated | 2025-06-02 |\n",
        "| google-adk | 1.1.1 |\n",
        "| vertexai | 1.93.1 |"
      ],
      "metadata": {
        "id": "9OTR-0NgbYpg"
      }
    },
    {
      "cell_type": "markdown",
      "source": [
        "## Environment"
      ],
      "metadata": {
        "id": "FmmSp3Lsbhww"
      }
    },
    {
      "cell_type": "code",
      "execution_count": 1,
      "metadata": {
        "id": "W8sX8hfAbPnU"
      },
      "outputs": [],
      "source": [
        "import os\n",
        "\n",
        "# API_KEY = '' # @param {type:\"string\"}\n",
        "# os.environ[\"GOOGLE_GENAI_USE_VERTEXAI\"] = \"FALSE\" # Use Vertex AI API\n",
        "# os.environ[\"GOOGLE_API_KEY\"] = API_KEY\n",
        "\n",
        "PROJECT_ID = \"hupili-genai-bb\"  # @param {type:\"string\"}\n",
        "if not PROJECT_ID:\n",
        "    PROJECT_ID = str(os.environ.get(\"GOOGLE_CLOUD_PROJECT\"))\n",
        "\n",
        "LOCATION = \"us-central1\" # @param {type:\"string\"}\n",
        "\n",
        "STAGING_BUCKET = 'gs://agent_engine_deploy_staging' # @param {type:\"string\"}\n",
        "\n",
        "os.environ[\"GOOGLE_CLOUD_PROJECT\"] = PROJECT_ID\n",
        "os.environ[\"GOOGLE_CLOUD_LOCATION\"] = LOCATION\n",
        "os.environ[\"GOOGLE_GENAI_USE_VERTEXAI\"] = \"TRUE\" # Use Vertex AI API\n",
        "\n",
        "# [your-project-id]"
      ]
    },
    {
      "cell_type": "code",
      "source": [
        "import vertexai\n",
        "\n",
        "vertexai.init(\n",
        "    project=PROJECT_ID,\n",
        "    location=LOCATION,\n",
        "    staging_bucket=STAGING_BUCKET,\n",
        ")"
      ],
      "metadata": {
        "id": "iFko8Uqrf_JV"
      },
      "execution_count": 2,
      "outputs": []
    },
    {
      "cell_type": "code",
      "source": [
        "from google.colab import auth\n",
        "auth.authenticate_user()"
      ],
      "metadata": {
        "id": "-ryI15UDbrfT"
      },
      "execution_count": 3,
      "outputs": []
    },
    {
      "cell_type": "code",
      "source": [
        "!pip install google-adk==1.1.1"
      ],
      "metadata": {
        "colab": {
          "base_uri": "https://localhost:8080/"
        },
        "id": "cSLs5ifodzSB",
        "outputId": "5a2634e2-f63e-40c4-8e7b-74e6fd71ad95"
      },
      "execution_count": 4,
      "outputs": [
        {
          "output_type": "stream",
          "name": "stdout",
          "text": [
            "Requirement already satisfied: google-adk==1.1.1 in /usr/local/lib/python3.11/dist-packages (1.1.1)\n",
            "Requirement already satisfied: authlib>=1.5.1 in /usr/local/lib/python3.11/dist-packages (from google-adk==1.1.1) (1.6.0)\n",
            "Requirement already satisfied: click>=8.1.8 in /usr/local/lib/python3.11/dist-packages (from google-adk==1.1.1) (8.2.1)\n",
            "Requirement already satisfied: fastapi>=0.115.0 in /usr/local/lib/python3.11/dist-packages (from google-adk==1.1.1) (0.115.12)\n",
            "Requirement already satisfied: google-api-python-client>=2.157.0 in /usr/local/lib/python3.11/dist-packages (from google-adk==1.1.1) (2.170.0)\n",
            "Requirement already satisfied: google-cloud-aiplatform>=1.87.0 in /usr/local/lib/python3.11/dist-packages (from google-adk==1.1.1) (1.95.0)\n",
            "Requirement already satisfied: google-cloud-secret-manager>=2.22.0 in /usr/local/lib/python3.11/dist-packages (from google-adk==1.1.1) (2.23.3)\n",
            "Requirement already satisfied: google-cloud-speech>=2.30.0 in /usr/local/lib/python3.11/dist-packages (from google-adk==1.1.1) (2.32.0)\n",
            "Requirement already satisfied: google-cloud-storage<3.0.0,>=2.18.0 in /usr/local/lib/python3.11/dist-packages (from google-adk==1.1.1) (2.19.0)\n",
            "Requirement already satisfied: google-genai>=1.14.0 in /usr/local/lib/python3.11/dist-packages (from google-adk==1.1.1) (1.17.0)\n",
            "Requirement already satisfied: graphviz>=0.20.2 in /usr/local/lib/python3.11/dist-packages (from google-adk==1.1.1) (0.20.3)\n",
            "Requirement already satisfied: mcp>=1.5.0 in /usr/local/lib/python3.11/dist-packages (from google-adk==1.1.1) (1.9.2)\n",
            "Requirement already satisfied: opentelemetry-api>=1.31.0 in /usr/local/lib/python3.11/dist-packages (from google-adk==1.1.1) (1.33.1)\n",
            "Requirement already satisfied: opentelemetry-exporter-gcp-trace>=1.9.0 in /usr/local/lib/python3.11/dist-packages (from google-adk==1.1.1) (1.9.0)\n",
            "Requirement already satisfied: opentelemetry-sdk>=1.31.0 in /usr/local/lib/python3.11/dist-packages (from google-adk==1.1.1) (1.33.1)\n",
            "Requirement already satisfied: pydantic<3.0.0,>=2.0 in /usr/local/lib/python3.11/dist-packages (from google-adk==1.1.1) (2.11.5)\n",
            "Requirement already satisfied: python-dotenv>=1.0.0 in /usr/local/lib/python3.11/dist-packages (from google-adk==1.1.1) (1.1.0)\n",
            "Requirement already satisfied: PyYAML>=6.0.2 in /usr/local/lib/python3.11/dist-packages (from google-adk==1.1.1) (6.0.2)\n",
            "Requirement already satisfied: sqlalchemy>=2.0 in /usr/local/lib/python3.11/dist-packages (from google-adk==1.1.1) (2.0.41)\n",
            "Requirement already satisfied: tzlocal>=5.3 in /usr/local/lib/python3.11/dist-packages (from google-adk==1.1.1) (5.3.1)\n",
            "Requirement already satisfied: uvicorn>=0.34.0 in /usr/local/lib/python3.11/dist-packages (from google-adk==1.1.1) (0.34.2)\n",
            "Requirement already satisfied: cryptography in /usr/local/lib/python3.11/dist-packages (from authlib>=1.5.1->google-adk==1.1.1) (43.0.3)\n",
            "Requirement already satisfied: starlette<0.47.0,>=0.40.0 in /usr/local/lib/python3.11/dist-packages (from fastapi>=0.115.0->google-adk==1.1.1) (0.46.2)\n",
            "Requirement already satisfied: typing-extensions>=4.8.0 in /usr/local/lib/python3.11/dist-packages (from fastapi>=0.115.0->google-adk==1.1.1) (4.13.2)\n",
            "Requirement already satisfied: httplib2<1.0.0,>=0.19.0 in /usr/local/lib/python3.11/dist-packages (from google-api-python-client>=2.157.0->google-adk==1.1.1) (0.22.0)\n",
            "Requirement already satisfied: google-auth!=2.24.0,!=2.25.0,<3.0.0,>=1.32.0 in /usr/local/lib/python3.11/dist-packages (from google-api-python-client>=2.157.0->google-adk==1.1.1) (2.38.0)\n",
            "Requirement already satisfied: google-auth-httplib2<1.0.0,>=0.2.0 in /usr/local/lib/python3.11/dist-packages (from google-api-python-client>=2.157.0->google-adk==1.1.1) (0.2.0)\n",
            "Requirement already satisfied: google-api-core!=2.0.*,!=2.1.*,!=2.2.*,!=2.3.0,<3.0.0,>=1.31.5 in /usr/local/lib/python3.11/dist-packages (from google-api-python-client>=2.157.0->google-adk==1.1.1) (2.24.2)\n",
            "Requirement already satisfied: uritemplate<5,>=3.0.1 in /usr/local/lib/python3.11/dist-packages (from google-api-python-client>=2.157.0->google-adk==1.1.1) (4.1.1)\n",
            "Requirement already satisfied: proto-plus<2.0.0,>=1.22.3 in /usr/local/lib/python3.11/dist-packages (from google-cloud-aiplatform>=1.87.0->google-adk==1.1.1) (1.26.1)\n",
            "Requirement already satisfied: protobuf!=4.21.0,!=4.21.1,!=4.21.2,!=4.21.3,!=4.21.4,!=4.21.5,<7.0.0,>=3.20.2 in /usr/local/lib/python3.11/dist-packages (from google-cloud-aiplatform>=1.87.0->google-adk==1.1.1) (5.29.5)\n",
            "Requirement already satisfied: packaging>=14.3 in /usr/local/lib/python3.11/dist-packages (from google-cloud-aiplatform>=1.87.0->google-adk==1.1.1) (24.2)\n",
            "Requirement already satisfied: google-cloud-bigquery!=3.20.0,<4.0.0,>=1.15.0 in /usr/local/lib/python3.11/dist-packages (from google-cloud-aiplatform>=1.87.0->google-adk==1.1.1) (3.34.0)\n",
            "Requirement already satisfied: google-cloud-resource-manager<3.0.0,>=1.3.3 in /usr/local/lib/python3.11/dist-packages (from google-cloud-aiplatform>=1.87.0->google-adk==1.1.1) (1.14.2)\n",
            "Requirement already satisfied: shapely<3.0.0 in /usr/local/lib/python3.11/dist-packages (from google-cloud-aiplatform>=1.87.0->google-adk==1.1.1) (2.1.1)\n",
            "Requirement already satisfied: docstring-parser<1 in /usr/local/lib/python3.11/dist-packages (from google-cloud-aiplatform>=1.87.0->google-adk==1.1.1) (0.16)\n",
            "Requirement already satisfied: grpc-google-iam-v1<1.0.0,>=0.14.0 in /usr/local/lib/python3.11/dist-packages (from google-cloud-secret-manager>=2.22.0->google-adk==1.1.1) (0.14.2)\n",
            "Requirement already satisfied: google-cloud-core<3.0dev,>=2.3.0 in /usr/local/lib/python3.11/dist-packages (from google-cloud-storage<3.0.0,>=2.18.0->google-adk==1.1.1) (2.4.3)\n",
            "Requirement already satisfied: google-resumable-media>=2.7.2 in /usr/local/lib/python3.11/dist-packages (from google-cloud-storage<3.0.0,>=2.18.0->google-adk==1.1.1) (2.7.2)\n",
            "Requirement already satisfied: requests<3.0.0dev,>=2.18.0 in /usr/local/lib/python3.11/dist-packages (from google-cloud-storage<3.0.0,>=2.18.0->google-adk==1.1.1) (2.32.3)\n",
            "Requirement already satisfied: google-crc32c<2.0dev,>=1.0 in /usr/local/lib/python3.11/dist-packages (from google-cloud-storage<3.0.0,>=2.18.0->google-adk==1.1.1) (1.7.1)\n",
            "Requirement already satisfied: anyio<5.0.0,>=4.8.0 in /usr/local/lib/python3.11/dist-packages (from google-genai>=1.14.0->google-adk==1.1.1) (4.9.0)\n",
            "Requirement already satisfied: httpx<1.0.0,>=0.28.1 in /usr/local/lib/python3.11/dist-packages (from google-genai>=1.14.0->google-adk==1.1.1) (0.28.1)\n",
            "Requirement already satisfied: websockets<15.1.0,>=13.0.0 in /usr/local/lib/python3.11/dist-packages (from google-genai>=1.14.0->google-adk==1.1.1) (15.0.1)\n",
            "Requirement already satisfied: httpx-sse>=0.4 in /usr/local/lib/python3.11/dist-packages (from mcp>=1.5.0->google-adk==1.1.1) (0.4.0)\n",
            "Requirement already satisfied: pydantic-settings>=2.5.2 in /usr/local/lib/python3.11/dist-packages (from mcp>=1.5.0->google-adk==1.1.1) (2.9.1)\n",
            "Requirement already satisfied: python-multipart>=0.0.9 in /usr/local/lib/python3.11/dist-packages (from mcp>=1.5.0->google-adk==1.1.1) (0.0.20)\n",
            "Requirement already satisfied: sse-starlette>=1.6.1 in /usr/local/lib/python3.11/dist-packages (from mcp>=1.5.0->google-adk==1.1.1) (2.3.6)\n",
            "Requirement already satisfied: deprecated>=1.2.6 in /usr/local/lib/python3.11/dist-packages (from opentelemetry-api>=1.31.0->google-adk==1.1.1) (1.2.18)\n",
            "Requirement already satisfied: importlib-metadata<8.7.0,>=6.0 in /usr/local/lib/python3.11/dist-packages (from opentelemetry-api>=1.31.0->google-adk==1.1.1) (8.6.1)\n",
            "Requirement already satisfied: google-cloud-trace~=1.1 in /usr/local/lib/python3.11/dist-packages (from opentelemetry-exporter-gcp-trace>=1.9.0->google-adk==1.1.1) (1.16.1)\n",
            "Requirement already satisfied: opentelemetry-resourcedetector-gcp==1.*,>=1.5.0dev0 in /usr/local/lib/python3.11/dist-packages (from opentelemetry-exporter-gcp-trace>=1.9.0->google-adk==1.1.1) (1.9.0a0)\n",
            "Requirement already satisfied: opentelemetry-semantic-conventions==0.54b1 in /usr/local/lib/python3.11/dist-packages (from opentelemetry-sdk>=1.31.0->google-adk==1.1.1) (0.54b1)\n",
            "Requirement already satisfied: annotated-types>=0.6.0 in /usr/local/lib/python3.11/dist-packages (from pydantic<3.0.0,>=2.0->google-adk==1.1.1) (0.7.0)\n",
            "Requirement already satisfied: pydantic-core==2.33.2 in /usr/local/lib/python3.11/dist-packages (from pydantic<3.0.0,>=2.0->google-adk==1.1.1) (2.33.2)\n",
            "Requirement already satisfied: typing-inspection>=0.4.0 in /usr/local/lib/python3.11/dist-packages (from pydantic<3.0.0,>=2.0->google-adk==1.1.1) (0.4.1)\n",
            "Requirement already satisfied: greenlet>=1 in /usr/local/lib/python3.11/dist-packages (from sqlalchemy>=2.0->google-adk==1.1.1) (3.2.2)\n",
            "Requirement already satisfied: h11>=0.8 in /usr/local/lib/python3.11/dist-packages (from uvicorn>=0.34.0->google-adk==1.1.1) (0.16.0)\n",
            "Requirement already satisfied: idna>=2.8 in /usr/local/lib/python3.11/dist-packages (from anyio<5.0.0,>=4.8.0->google-genai>=1.14.0->google-adk==1.1.1) (3.10)\n",
            "Requirement already satisfied: sniffio>=1.1 in /usr/local/lib/python3.11/dist-packages (from anyio<5.0.0,>=4.8.0->google-genai>=1.14.0->google-adk==1.1.1) (1.3.1)\n",
            "Requirement already satisfied: wrapt<2,>=1.10 in /usr/local/lib/python3.11/dist-packages (from deprecated>=1.2.6->opentelemetry-api>=1.31.0->google-adk==1.1.1) (1.17.2)\n",
            "Requirement already satisfied: googleapis-common-protos<2.0.0,>=1.56.2 in /usr/local/lib/python3.11/dist-packages (from google-api-core!=2.0.*,!=2.1.*,!=2.2.*,!=2.3.0,<3.0.0,>=1.31.5->google-api-python-client>=2.157.0->google-adk==1.1.1) (1.70.0)\n",
            "Requirement already satisfied: grpcio<2.0dev,>=1.33.2 in /usr/local/lib/python3.11/dist-packages (from google-api-core[grpc]!=2.0.*,!=2.1.*,!=2.2.*,!=2.3.*,!=2.4.*,!=2.5.*,!=2.6.*,!=2.7.*,<3.0.0,>=1.34.1->google-cloud-aiplatform>=1.87.0->google-adk==1.1.1) (1.71.0)\n",
            "Requirement already satisfied: grpcio-status<2.0.dev0,>=1.33.2 in /usr/local/lib/python3.11/dist-packages (from google-api-core[grpc]!=2.0.*,!=2.1.*,!=2.2.*,!=2.3.*,!=2.4.*,!=2.5.*,!=2.6.*,!=2.7.*,<3.0.0,>=1.34.1->google-cloud-aiplatform>=1.87.0->google-adk==1.1.1) (1.71.0)\n",
            "Requirement already satisfied: cachetools<6.0,>=2.0.0 in /usr/local/lib/python3.11/dist-packages (from google-auth!=2.24.0,!=2.25.0,<3.0.0,>=1.32.0->google-api-python-client>=2.157.0->google-adk==1.1.1) (5.5.2)\n",
            "Requirement already satisfied: pyasn1-modules>=0.2.1 in /usr/local/lib/python3.11/dist-packages (from google-auth!=2.24.0,!=2.25.0,<3.0.0,>=1.32.0->google-api-python-client>=2.157.0->google-adk==1.1.1) (0.4.2)\n",
            "Requirement already satisfied: rsa<5,>=3.1.4 in /usr/local/lib/python3.11/dist-packages (from google-auth!=2.24.0,!=2.25.0,<3.0.0,>=1.32.0->google-api-python-client>=2.157.0->google-adk==1.1.1) (4.9.1)\n",
            "Requirement already satisfied: python-dateutil<3.0.0,>=2.8.2 in /usr/local/lib/python3.11/dist-packages (from google-cloud-bigquery!=3.20.0,<4.0.0,>=1.15.0->google-cloud-aiplatform>=1.87.0->google-adk==1.1.1) (2.9.0.post0)\n",
            "Requirement already satisfied: pyparsing!=3.0.0,!=3.0.1,!=3.0.2,!=3.0.3,<4,>=2.4.2 in /usr/local/lib/python3.11/dist-packages (from httplib2<1.0.0,>=0.19.0->google-api-python-client>=2.157.0->google-adk==1.1.1) (3.2.3)\n",
            "Requirement already satisfied: certifi in /usr/local/lib/python3.11/dist-packages (from httpx<1.0.0,>=0.28.1->google-genai>=1.14.0->google-adk==1.1.1) (2025.4.26)\n",
            "Requirement already satisfied: httpcore==1.* in /usr/local/lib/python3.11/dist-packages (from httpx<1.0.0,>=0.28.1->google-genai>=1.14.0->google-adk==1.1.1) (1.0.9)\n",
            "Requirement already satisfied: zipp>=3.20 in /usr/local/lib/python3.11/dist-packages (from importlib-metadata<8.7.0,>=6.0->opentelemetry-api>=1.31.0->google-adk==1.1.1) (3.22.0)\n",
            "Requirement already satisfied: charset-normalizer<4,>=2 in /usr/local/lib/python3.11/dist-packages (from requests<3.0.0dev,>=2.18.0->google-cloud-storage<3.0.0,>=2.18.0->google-adk==1.1.1) (3.4.2)\n",
            "Requirement already satisfied: urllib3<3,>=1.21.1 in /usr/local/lib/python3.11/dist-packages (from requests<3.0.0dev,>=2.18.0->google-cloud-storage<3.0.0,>=2.18.0->google-adk==1.1.1) (2.4.0)\n",
            "Requirement already satisfied: numpy>=1.21 in /usr/local/lib/python3.11/dist-packages (from shapely<3.0.0->google-cloud-aiplatform>=1.87.0->google-adk==1.1.1) (2.0.2)\n",
            "Requirement already satisfied: cffi>=1.12 in /usr/local/lib/python3.11/dist-packages (from cryptography->authlib>=1.5.1->google-adk==1.1.1) (1.17.1)\n",
            "Requirement already satisfied: pycparser in /usr/local/lib/python3.11/dist-packages (from cffi>=1.12->cryptography->authlib>=1.5.1->google-adk==1.1.1) (2.22)\n",
            "Requirement already satisfied: pyasn1<0.7.0,>=0.6.1 in /usr/local/lib/python3.11/dist-packages (from pyasn1-modules>=0.2.1->google-auth!=2.24.0,!=2.25.0,<3.0.0,>=1.32.0->google-api-python-client>=2.157.0->google-adk==1.1.1) (0.6.1)\n",
            "Requirement already satisfied: six>=1.5 in /usr/local/lib/python3.11/dist-packages (from python-dateutil<3.0.0,>=2.8.2->google-cloud-bigquery!=3.20.0,<4.0.0,>=1.15.0->google-cloud-aiplatform>=1.87.0->google-adk==1.1.1) (1.17.0)\n"
          ]
        }
      ]
    },
    {
      "cell_type": "code",
      "source": [
        "from google import adk"
      ],
      "metadata": {
        "id": "eo0P3ZdG1CeI"
      },
      "execution_count": 5,
      "outputs": []
    },
    {
      "cell_type": "code",
      "source": [
        "adk.__version__"
      ],
      "metadata": {
        "colab": {
          "base_uri": "https://localhost:8080/",
          "height": 35
        },
        "id": "4lCNTOYN1EOU",
        "outputId": "dcf7b233-4056-4c19-dd35-4390aa4de7c8"
      },
      "execution_count": 6,
      "outputs": [
        {
          "output_type": "execute_result",
          "data": {
            "text/plain": [
              "'1.1.1'"
            ],
            "application/vnd.google.colaboratory.intrinsic+json": {
              "type": "string"
            }
          },
          "metadata": {},
          "execution_count": 6
        }
      ]
    },
    {
      "cell_type": "code",
      "source": [
        "vertexai.__version__"
      ],
      "metadata": {
        "colab": {
          "base_uri": "https://localhost:8080/",
          "height": 35
        },
        "id": "OOz115cL1F4T",
        "outputId": "26ff1c41-bf00-45cd-d2b1-d0fbb94280ad"
      },
      "execution_count": 7,
      "outputs": [
        {
          "output_type": "execute_result",
          "data": {
            "text/plain": [
              "'1.95.0'"
            ],
            "application/vnd.google.colaboratory.intrinsic+json": {
              "type": "string"
            }
          },
          "metadata": {},
          "execution_count": 7
        }
      ]
    },
    {
      "cell_type": "markdown",
      "source": [
        "## Util functions"
      ],
      "metadata": {
        "id": "vvaXZRWTbvL1"
      }
    },
    {
      "cell_type": "code",
      "source": [
        "from vertexai import agent_engines\n",
        "from vertexai.preview import reasoning_engines"
      ],
      "metadata": {
        "id": "d-jKZ541bWc-"
      },
      "execution_count": 8,
      "outputs": []
    },
    {
      "cell_type": "code",
      "source": [
        "def delete(resource_id: str) -> None:\n",
        "    remote_agent = agent_engines.get(resource_id)\n",
        "    remote_agent.delete(force=True)\n",
        "    print(f\"Deleted remote agent: {resource_id}\")\n",
        "\n",
        "def list_agents() -> None:\n",
        "    remote_agents = agent_engines.list()\n",
        "    TEMPLATE = '''\n",
        "{agent.name} (\"{agent.display_name}\")\n",
        "- Create time: {agent.create_time}\n",
        "- Update time: {agent.update_time}\n",
        "'''\n",
        "    remote_agents_string = '\\n'.join(TEMPLATE.format(agent=agent) for agent in remote_agents)\n",
        "    print(f\"All remote agents:\\n{remote_agents_string}\")"
      ],
      "metadata": {
        "id": "m8ld-1qdcap_"
      },
      "execution_count": 9,
      "outputs": []
    },
    {
      "cell_type": "code",
      "source": [
        "list_agents()"
      ],
      "metadata": {
        "colab": {
          "base_uri": "https://localhost:8080/"
        },
        "id": "qrtl_BLFb7e3",
        "outputId": "c822dd46-3d97-49de-82be-d9a29741ff61"
      },
      "execution_count": 10,
      "outputs": [
        {
          "output_type": "stream",
          "name": "stdout",
          "text": [
            "All remote agents:\n",
            "\n",
            "5147799092037943296 (\"\")\n",
            "- Create time: 2025-06-02 14:14:28.600149+00:00\n",
            "- Update time: 2025-06-02 14:18:55.955685+00:00\n",
            "\n",
            "\n",
            "2164164338904989696 (\"\")\n",
            "- Create time: 2025-06-02 11:57:47.050939+00:00\n",
            "- Update time: 2025-06-02 12:01:18.059991+00:00\n",
            "\n",
            "\n",
            "6087608854902734848 (\"DICE_AGENT\")\n",
            "- Create time: 2025-04-25 08:19:20.817490+00:00\n",
            "- Update time: 2025-04-25 08:22:05.936293+00:00\n",
            "\n",
            "\n",
            "7916070303615156224 (\"llm_auditor\")\n",
            "- Create time: 2025-04-25 07:13:25.339138+00:00\n",
            "- Update time: 2025-04-25 07:18:12.898631+00:00\n",
            "\n",
            "\n",
            "5307078744484085760 (\"llm_auditor\")\n",
            "- Create time: 2025-04-09 08:22:36.179879+00:00\n",
            "- Update time: 2025-04-09 08:25:42.734584+00:00\n",
            "\n",
            "\n",
            "8402318325882814464 (\"\")\n",
            "- Create time: 2025-03-28 08:42:23.121480+00:00\n",
            "- Update time: 2025-03-28 08:46:29.629436+00:00\n",
            "\n",
            "\n",
            "66410502317670400 (\"my-awesome-agent\")\n",
            "- Create time: 2025-03-07 01:22:05.930759+00:00\n",
            "- Update time: 2025-03-07 01:33:02.201959+00:00\n",
            "\n"
          ]
        }
      ]
    },
    {
      "cell_type": "code",
      "source": [
        "def call_remote_agent_engine_app(app, user_id, session_id, query):\n",
        "  response_text = ''\n",
        "  for event in app.stream_query(\n",
        "      user_id=user_id,\n",
        "      session_id=session_id,\n",
        "      message=query,\n",
        "  ):\n",
        "      print(event)\n",
        "      all_parts = event.get('content', {}).get('parts', [])\n",
        "      for part in all_parts:\n",
        "          response_text += (part.get('text', ''))\n",
        "  return response_text"
      ],
      "metadata": {
        "id": "4geFcqXucWM9"
      },
      "execution_count": 11,
      "outputs": []
    },
    {
      "cell_type": "markdown",
      "source": [
        "## Simple Search Agent"
      ],
      "metadata": {
        "id": "x_Hrsr83ddXj"
      }
    },
    {
      "cell_type": "code",
      "source": [
        "from google.adk.tools import google_search\n",
        "from google.adk import Agent\n",
        "from google.adk.agents import Agent, LlmAgent\n",
        "from google.genai import types\n",
        "from pydantic import BaseModel\n",
        "from google.genai import types\n",
        "from google.adk.sessions import InMemorySessionService\n",
        "from google.adk.runners import Runner\n",
        "\n",
        "MODEL = \"gemini-2.0-flash\"\n",
        "APP_NAME = \"simple_search_example\"\n",
        "USER_ID = \"user12345\"\n",
        "SESSION_ID = \"session12345\"\n",
        "AGENT_NAME = \"simple_search_agent\"\n",
        "\n",
        "# Agent\n",
        "simple_search_agent = Agent(\n",
        "    model=MODEL,\n",
        "    name=\"simple_search_agent\",\n",
        "    description=\"Agent to answer questions using Google Search.\",\n",
        "    instruction=\"I can answer your questions by searching the internet. Just ask me anything!\",\n",
        "    generate_content_config=types.GenerateContentConfig(\n",
        "        max_output_tokens=8000,\n",
        "    ),\n",
        "    tools=[google_search],\n",
        ")\n",
        "\n",
        "app = reasoning_engines.AdkApp(\n",
        "    agent=simple_search_agent,\n",
        "    enable_tracing=True,\n",
        ")"
      ],
      "metadata": {
        "id": "FvY2sMgbdfjE"
      },
      "execution_count": 12,
      "outputs": []
    },
    {
      "cell_type": "code",
      "source": [
        "session = app.create_session(user_id=USER_ID)\n",
        "session"
      ],
      "metadata": {
        "id": "KPNpVCSZewe7",
        "outputId": "bc6accf4-5e54-4c23-8416-ddb09e13c7cf",
        "colab": {
          "base_uri": "https://localhost:8080/"
        }
      },
      "execution_count": 14,
      "outputs": [
        {
          "output_type": "execute_result",
          "data": {
            "text/plain": [
              "Session(id='a45543d2-7d66-42fe-9105-028cf6e8a071', app_name='default-app-name', user_id='user12345', state={}, events=[], last_update_time=1748878780.263915)"
            ]
          },
          "metadata": {},
          "execution_count": 14
        }
      ]
    },
    {
      "cell_type": "code",
      "source": [
        "call_remote_agent_engine_app(app, USER_ID, session.id, \"what is the weather in New York\")"
      ],
      "metadata": {
        "id": "q9bKIFYgd9N_",
        "outputId": "fceb3dcd-b684-42d5-8408-78dc62466f14",
        "colab": {
          "base_uri": "https://localhost:8080/",
          "height": 107
        }
      },
      "execution_count": 15,
      "outputs": [
        {
          "output_type": "stream",
          "name": "stdout",
          "text": [
            "{'content': {'parts': [{'text': 'The weather in New York City, NY on Monday, June 2, 2025 is sunny with a temperature of 67°F (19°C), but it feels like 71°F (22°C). There is a 0% chance of rain.\\n\\nThe forecast for the next few days is:\\n\\n*   **Tuesday:** Sunny, with a high near 80°F (26°C).\\n*   **Wednesday:** Sunny, with a high near 85°F (28°C).\\n*   **Thursday:** Mostly sunny, with a high near 87°F (33°C) and a 30% chance of showers after 2pm.\\n*   **Friday:** Partly sunny, with a high near 86°F (28°C) and a 30% chance of showers.\\n'}], 'role': 'model'}, 'grounding_metadata': {'grounding_chunks': [{'web': {'domain': 'google.com', 'title': 'Weather information for locality: New York, administrative_area: NY', 'uri': 'https://www.google.com/search?q=weather+in+New York,+NY'}}, {'web': {'domain': 'bbc.com', 'title': 'bbc.com', 'uri': 'https://vertexaisearch.cloud.google.com/grounding-api-redirect/AbF9wXFhaqQGQGybtEZ2uOnNs2onQDsOwI2sRMVOf0EO5BM7AzQXU06Fk1zL5P7ztxVtlzaZa7vFAJKJ2mzpZtH-CYcQkakdf2un8uzCrQir95lzDyM94hLBu8vjnkdsuN4='}}, {'web': {'domain': 'accuweather.com', 'title': 'accuweather.com', 'uri': 'https://vertexaisearch.cloud.google.com/grounding-api-redirect/AbF9wXFFWd8tIQrbm1X8iYLJ14tN488GaSyjlTY5_G_l6JLa_Iw42W3BICc_yEUpwhpbqMtJIjoxLNEeF3PwR_pWGH3MKIrbZSJaK5POn4J9ZGK4KOorjHztlsx3HjLYbugnQ-pnyd6r3J5n8eCSMKAqIaYgbtiV9y19KEu3792zKaRYh9yb'}}, {'web': {'domain': 'accuweather.com', 'title': 'accuweather.com', 'uri': 'https://vertexaisearch.cloud.google.com/grounding-api-redirect/AbF9wXGucK_UQ1pdN3soAUVG_sLkoybggwOZECo2aMVGkHGcecj5ytlDaODOaet6P0QPoMewjzX1wyDl88Eu_a5-Zdj6VowMBGGULoUy7MFKwNY8j0vrZLzujSyEQ__Kcg7wnbcTA3v3LFZ2bQBY0hqJMZK8eIuJ6ehCyCNnlgWiHf-BEJTGBJoEpPPMB6I='}}], 'grounding_supports': [{'confidence_scores': [0.774195], 'grounding_chunk_indices': [0], 'segment': {'end_index': 135, 'text': 'The weather in New York City, NY on Monday, June 2, 2025 is sunny with a temperature of 67°F (19°C), but it feels like 71°F (22°C).'}}, {'confidence_scores': [0.8227268, 0.8726673, 0.94950545, 0.9552698], 'grounding_chunk_indices': [1, 0, 2, 3], 'segment': {'end_index': 165, 'start_index': 136, 'text': 'There is a 0% chance of rain.'}}], 'retrieval_metadata': {}, 'search_entry_point': {'rendered_content': '<style>\\n.container {\\n  align-items: center;\\n  border-radius: 8px;\\n  display: flex;\\n  font-family: Google Sans, Roboto, sans-serif;\\n  font-size: 14px;\\n  line-height: 20px;\\n  padding: 8px 12px;\\n}\\n.chip {\\n  display: inline-block;\\n  border: solid 1px;\\n  border-radius: 16px;\\n  min-width: 14px;\\n  padding: 5px 16px;\\n  text-align: center;\\n  user-select: none;\\n  margin: 0 8px;\\n  -webkit-tap-highlight-color: transparent;\\n}\\n.carousel {\\n  overflow: auto;\\n  scrollbar-width: none;\\n  white-space: nowrap;\\n  margin-right: -12px;\\n}\\n.headline {\\n  display: flex;\\n  margin-right: 4px;\\n}\\n.gradient-container {\\n  position: relative;\\n}\\n.gradient {\\n  position: absolute;\\n  transform: translate(3px, -9px);\\n  height: 36px;\\n  width: 9px;\\n}\\n@media (prefers-color-scheme: light) {\\n  .container {\\n    background-color: #fafafa;\\n    box-shadow: 0 0 0 1px #0000000f;\\n  }\\n  .headline-label {\\n    color: #1f1f1f;\\n  }\\n  .chip {\\n    background-color: #ffffff;\\n    border-color: #d2d2d2;\\n    color: #5e5e5e;\\n    text-decoration: none;\\n  }\\n  .chip:hover {\\n    background-color: #f2f2f2;\\n  }\\n  .chip:focus {\\n    background-color: #f2f2f2;\\n  }\\n  .chip:active {\\n    background-color: #d8d8d8;\\n    border-color: #b6b6b6;\\n  }\\n  .logo-dark {\\n    display: none;\\n  }\\n  .gradient {\\n    background: linear-gradient(90deg, #fafafa 15%, #fafafa00 100%);\\n  }\\n}\\n@media (prefers-color-scheme: dark) {\\n  .container {\\n    background-color: #1f1f1f;\\n    box-shadow: 0 0 0 1px #ffffff26;\\n  }\\n  .headline-label {\\n    color: #fff;\\n  }\\n  .chip {\\n    background-color: #2c2c2c;\\n    border-color: #3c4043;\\n    color: #fff;\\n    text-decoration: none;\\n  }\\n  .chip:hover {\\n    background-color: #353536;\\n  }\\n  .chip:focus {\\n    background-color: #353536;\\n  }\\n  .chip:active {\\n    background-color: #464849;\\n    border-color: #53575b;\\n  }\\n  .logo-light {\\n    display: none;\\n  }\\n  .gradient {\\n    background: linear-gradient(90deg, #1f1f1f 15%, #1f1f1f00 100%);\\n  }\\n}\\n</style>\\n<div class=\"container\">\\n  <div class=\"headline\">\\n    <svg class=\"logo-light\" width=\"18\" height=\"18\" viewBox=\"9 9 35 35\" fill=\"none\" xmlns=\"http://www.w3.org/2000/svg\">\\n      <path fill-rule=\"evenodd\" clip-rule=\"evenodd\" d=\"M42.8622 27.0064C42.8622 25.7839 42.7525 24.6084 42.5487 23.4799H26.3109V30.1568H35.5897C35.1821 32.3041 33.9596 34.1222 32.1258 35.3448V39.6864H37.7213C40.9814 36.677 42.8622 32.2571 42.8622 27.0064V27.0064Z\" fill=\"#4285F4\"/>\\n      <path fill-rule=\"evenodd\" clip-rule=\"evenodd\" d=\"M26.3109 43.8555C30.9659 43.8555 34.8687 42.3195 37.7213 39.6863L32.1258 35.3447C30.5898 36.3792 28.6306 37.0061 26.3109 37.0061C21.8282 37.0061 18.0195 33.9811 16.6559 29.906H10.9194V34.3573C13.7563 39.9841 19.5712 43.8555 26.3109 43.8555V43.8555Z\" fill=\"#34A853\"/>\\n      <path fill-rule=\"evenodd\" clip-rule=\"evenodd\" d=\"M16.6559 29.8904C16.3111 28.8559 16.1074 27.7588 16.1074 26.6146C16.1074 25.4704 16.3111 24.3733 16.6559 23.3388V18.8875H10.9194C9.74388 21.2072 9.06992 23.8247 9.06992 26.6146C9.06992 29.4045 9.74388 32.022 10.9194 34.3417L15.3864 30.8621L16.6559 29.8904V29.8904Z\" fill=\"#FBBC05\"/>\\n      <path fill-rule=\"evenodd\" clip-rule=\"evenodd\" d=\"M26.3109 16.2386C28.85 16.2386 31.107 17.1164 32.9095 18.8091L37.8466 13.8719C34.853 11.082 30.9659 9.3736 26.3109 9.3736C19.5712 9.3736 13.7563 13.245 10.9194 18.8875L16.6559 23.3388C18.0195 19.2636 21.8282 16.2386 26.3109 16.2386V16.2386Z\" fill=\"#EA4335\"/>\\n    </svg>\\n    <svg class=\"logo-dark\" width=\"18\" height=\"18\" viewBox=\"0 0 48 48\" xmlns=\"http://www.w3.org/2000/svg\">\\n      <circle cx=\"24\" cy=\"23\" fill=\"#FFF\" r=\"22\"/>\\n      <path d=\"M33.76 34.26c2.75-2.56 4.49-6.37 4.49-11.26 0-.89-.08-1.84-.29-3H24.01v5.99h8.03c-.4 2.02-1.5 3.56-3.07 4.56v.75l3.91 2.97h.88z\" fill=\"#4285F4\"/>\\n      <path d=\"M15.58 25.77A8.845 8.845 0 0 0 24 31.86c1.92 0 3.62-.46 4.97-1.31l4.79 3.71C31.14 36.7 27.65 38 24 38c-5.93 0-11.01-3.4-13.45-8.36l.17-1.01 4.06-2.85h.8z\" fill=\"#34A853\"/>\\n      <path d=\"M15.59 20.21a8.864 8.864 0 0 0 0 5.58l-5.03 3.86c-.98-2-1.53-4.25-1.53-6.64 0-2.39.55-4.64 1.53-6.64l1-.22 3.81 2.98.22 1.08z\" fill=\"#FBBC05\"/>\\n      <path d=\"M24 14.14c2.11 0 4.02.75 5.52 1.98l4.36-4.36C31.22 9.43 27.81 8 24 8c-5.93 0-11.01 3.4-13.45 8.36l5.03 3.85A8.86 8.86 0 0 1 24 14.14z\" fill=\"#EA4335\"/>\\n    </svg>\\n    <div class=\"gradient-container\"><div class=\"gradient\"></div></div>\\n  </div>\\n  <div class=\"carousel\">\\n    <a class=\"chip\" href=\"https://vertexaisearch.cloud.google.com/grounding-api-redirect/AbF9wXELwTRVViItS7uPUgHOhITql7J4kPjOVM7W13PC3oiEq77bTTG-jPM6wOgFhJW8M8-UvWWkXmhHu4v8VGxgBSzlRL5u0WeKRaN4V2sxrEzIxSLmOO_uGowkn-zIyKr9tnX4OR81q2zwOVl97OLHWeKn0dFSctTIMOUbMQj3G2Qoq6dKl8qoTSQ9Qa8OfrljuhUf-dkyXg==\">weather in New York</a>\\n  </div>\\n</div>\\n'}, 'web_search_queries': ['weather in New York']}, 'usage_metadata': {'candidates_token_count': 191, 'candidates_tokens_details': [{'modality': <MediaModality.TEXT: 'TEXT'>, 'token_count': 191}], 'prompt_token_count': 54, 'prompt_tokens_details': [{'modality': <MediaModality.TEXT: 'TEXT'>, 'token_count': 54}], 'total_token_count': 245, 'traffic_type': <TrafficType.ON_DEMAND: 'ON_DEMAND'>}, 'invocation_id': 'e-aece9f4c-2362-43d3-b7fb-a6e6fc6c37fc', 'author': 'simple_search_agent', 'actions': {'state_delta': {}, 'artifact_delta': {}, 'requested_auth_configs': {}}, 'id': 'SWhY2WCZ', 'timestamp': 1748878785.29169}\n"
          ]
        },
        {
          "output_type": "execute_result",
          "data": {
            "text/plain": [
              "'The weather in New York City, NY on Monday, June 2, 2025 is sunny with a temperature of 67°F (19°C), but it feels like 71°F (22°C). There is a 0% chance of rain.\\n\\nThe forecast for the next few days is:\\n\\n*   **Tuesday:** Sunny, with a high near 80°F (26°C).\\n*   **Wednesday:** Sunny, with a high near 85°F (28°C).\\n*   **Thursday:** Mostly sunny, with a high near 87°F (33°C) and a 30% chance of showers after 2pm.\\n*   **Friday:** Partly sunny, with a high near 86°F (28°C) and a 30% chance of showers.\\n'"
            ],
            "application/vnd.google.colaboratory.intrinsic+json": {
              "type": "string"
            }
          },
          "metadata": {},
          "execution_count": 15
        }
      ]
    },
    {
      "cell_type": "code",
      "source": [
        "call_remote_agent_engine_app(app, USER_ID, session.id, \"is earth square?\")"
      ],
      "metadata": {
        "id": "f_PD0oMRDOX5",
        "outputId": "53577d68-0863-412e-bedb-bd98118a6583",
        "colab": {
          "base_uri": "https://localhost:8080/",
          "height": 142
        }
      },
      "execution_count": 16,
      "outputs": [
        {
          "output_type": "stream",
          "name": "stdout",
          "text": [
            "{'content': {'parts': [{'text': \"No, the Earth is not square. While it appears round from space, it's more accurately described as an irregularly shaped ellipsoid, or a sphere.\\n\\nHere's why:\\n\\n*   **Gravity:** Earth's gravity pulls everything towards its center. If Earth were made of a homogenous material, gravity would make it a perfect sphere.\\n*   **Rotation:** The Earth's rotation causes a centrifugal force, which is greater at the equator than at the poles. This force deforms the sphere into an oblate ellipsoid, which means it bulges at the equator.\\n*   **Irregularities:** The Earth isn't homogenous. It comprises materials with different densities, and it has mountains and ocean trenches, all of which contribute to its irregular shape.\\n\"}], 'role': 'model'}, 'grounding_metadata': {'grounding_chunks': [{'web': {'domain': 'ucl.ac.uk', 'title': 'ucl.ac.uk', 'uri': 'https://vertexaisearch.cloud.google.com/grounding-api-redirect/AbF9wXE5NgBud-1EB-T8NkQYrvIDyJXwgGJy63LGMSAfqe4r5EXiuOPga43Kr1FLFYHNgZvC8jePfVeg-ILVBIdrOVvJDLnTVJbaakfjnqkJHyXnlIgRaHqHw6tf_NYM3Wet5D5LcSobqrrOwhUzrW193-m_6PH7uvfpb1YJOWu0qpIWdmKwzFFDjg=='}}, {'web': {'domain': 'wikipedia.org', 'title': 'wikipedia.org', 'uri': 'https://vertexaisearch.cloud.google.com/grounding-api-redirect/AbF9wXE3KEgnHpY3uMLShNu42EA719A6U3ihg4fQr3dVdPcVw4tTCoKiUyAMP96NFngQD3cwc1j5ptlNwmbJeB16rkfLxsvurq0WWQ8sdndNwepsIfbVaZWacXBQKmL91dmlT7pxv1x2thkYxA=='}}, {'web': {'domain': 'noaa.gov', 'title': 'noaa.gov', 'uri': 'https://vertexaisearch.cloud.google.com/grounding-api-redirect/AbF9wXG9T1CuoTcxVLhOrBsl4-67FgvQtJ4Qw8B3LOuqkaii4XCq5oLR7FfWXs-fk7QEJYmfX-7MLGRT8twFZkbPgu_8LMI7nV4sM2Ow1P5EqdFu7c_vL5qVpwUjDCycH__FAoEzWo8ZfMfxzDJh_GHD9PI='}}, {'web': {'domain': 'nasa.gov', 'title': 'nasa.gov', 'uri': 'https://vertexaisearch.cloud.google.com/grounding-api-redirect/AbF9wXG0TdEf2IhN2GKL96eSKfo-r0xJS0WgEXVhf-OH2Sja0bptJm43XDgf8qIZoxp2r81XPzip5qnvo4zILHZzbgqXBttYSEBbDH_aag2qU_uxxJcxyovI2lHndSj_n_r20fFOW8qDm2RwTtWgR325jgDnU2yMcj2BS0uGz-7IMoIZiBLCmvLpB5qIPjk7DmS8hmeiig=='}}, {'web': {'domain': 'nasa.gov', 'title': 'nasa.gov', 'uri': 'https://vertexaisearch.cloud.google.com/grounding-api-redirect/AbF9wXFs8KNTNB63-ONe6ZvLazYSBEy4SMNJZXb5RR-8ZvxI6l5EBmIxe5n5z7Y22eNbohtTfNK4lNr22-o4EetgzEaf1389U_o8zH82vsRk7VxQYPkBWoY801JACIOO2FV1HE7b0YsKYxcIp_OSa1xELSW9Fj7m69RN0y2Y0JGN8vmd6A=='}}], 'grounding_supports': [{'confidence_scores': [0.627801], 'grounding_chunk_indices': [0], 'segment': {'end_index': 227, 'start_index': 158, 'text': \"*   **Gravity:** Earth's gravity pulls everything towards its center.\"}}, {'confidence_scores': [0.91499346], 'grounding_chunk_indices': [0], 'segment': {'end_index': 312, 'start_index': 228, 'text': 'If Earth were made of a homogenous material, gravity would make it a perfect sphere.'}}, {'confidence_scores': [0.97560817, 0.6612481], 'grounding_chunk_indices': [1, 2], 'segment': {'end_index': 430, 'start_index': 313, 'text': \"*   **Rotation:** The Earth's rotation causes a centrifugal force, which is greater at the equator than at the poles.\"}}, {'confidence_scores': [0.7606056, 0.6174429, 0.60095423, 0.74619144, 0.7925776], 'grounding_chunk_indices': [3, 1, 4, 2, 0], 'segment': {'end_index': 576, 'start_index': 525, 'text': \"*   **Irregularities:** The Earth isn't homogenous.\"}}, {'confidence_scores': [0.7534139], 'grounding_chunk_indices': [2], 'segment': {'end_index': 714, 'start_index': 577, 'text': 'It comprises materials with different densities, and it has mountains and ocean trenches, all of which contribute to its irregular shape.'}}], 'retrieval_metadata': {}, 'search_entry_point': {'rendered_content': '<style>\\n.container {\\n  align-items: center;\\n  border-radius: 8px;\\n  display: flex;\\n  font-family: Google Sans, Roboto, sans-serif;\\n  font-size: 14px;\\n  line-height: 20px;\\n  padding: 8px 12px;\\n}\\n.chip {\\n  display: inline-block;\\n  border: solid 1px;\\n  border-radius: 16px;\\n  min-width: 14px;\\n  padding: 5px 16px;\\n  text-align: center;\\n  user-select: none;\\n  margin: 0 8px;\\n  -webkit-tap-highlight-color: transparent;\\n}\\n.carousel {\\n  overflow: auto;\\n  scrollbar-width: none;\\n  white-space: nowrap;\\n  margin-right: -12px;\\n}\\n.headline {\\n  display: flex;\\n  margin-right: 4px;\\n}\\n.gradient-container {\\n  position: relative;\\n}\\n.gradient {\\n  position: absolute;\\n  transform: translate(3px, -9px);\\n  height: 36px;\\n  width: 9px;\\n}\\n@media (prefers-color-scheme: light) {\\n  .container {\\n    background-color: #fafafa;\\n    box-shadow: 0 0 0 1px #0000000f;\\n  }\\n  .headline-label {\\n    color: #1f1f1f;\\n  }\\n  .chip {\\n    background-color: #ffffff;\\n    border-color: #d2d2d2;\\n    color: #5e5e5e;\\n    text-decoration: none;\\n  }\\n  .chip:hover {\\n    background-color: #f2f2f2;\\n  }\\n  .chip:focus {\\n    background-color: #f2f2f2;\\n  }\\n  .chip:active {\\n    background-color: #d8d8d8;\\n    border-color: #b6b6b6;\\n  }\\n  .logo-dark {\\n    display: none;\\n  }\\n  .gradient {\\n    background: linear-gradient(90deg, #fafafa 15%, #fafafa00 100%);\\n  }\\n}\\n@media (prefers-color-scheme: dark) {\\n  .container {\\n    background-color: #1f1f1f;\\n    box-shadow: 0 0 0 1px #ffffff26;\\n  }\\n  .headline-label {\\n    color: #fff;\\n  }\\n  .chip {\\n    background-color: #2c2c2c;\\n    border-color: #3c4043;\\n    color: #fff;\\n    text-decoration: none;\\n  }\\n  .chip:hover {\\n    background-color: #353536;\\n  }\\n  .chip:focus {\\n    background-color: #353536;\\n  }\\n  .chip:active {\\n    background-color: #464849;\\n    border-color: #53575b;\\n  }\\n  .logo-light {\\n    display: none;\\n  }\\n  .gradient {\\n    background: linear-gradient(90deg, #1f1f1f 15%, #1f1f1f00 100%);\\n  }\\n}\\n</style>\\n<div class=\"container\">\\n  <div class=\"headline\">\\n    <svg class=\"logo-light\" width=\"18\" height=\"18\" viewBox=\"9 9 35 35\" fill=\"none\" xmlns=\"http://www.w3.org/2000/svg\">\\n      <path fill-rule=\"evenodd\" clip-rule=\"evenodd\" d=\"M42.8622 27.0064C42.8622 25.7839 42.7525 24.6084 42.5487 23.4799H26.3109V30.1568H35.5897C35.1821 32.3041 33.9596 34.1222 32.1258 35.3448V39.6864H37.7213C40.9814 36.677 42.8622 32.2571 42.8622 27.0064V27.0064Z\" fill=\"#4285F4\"/>\\n      <path fill-rule=\"evenodd\" clip-rule=\"evenodd\" d=\"M26.3109 43.8555C30.9659 43.8555 34.8687 42.3195 37.7213 39.6863L32.1258 35.3447C30.5898 36.3792 28.6306 37.0061 26.3109 37.0061C21.8282 37.0061 18.0195 33.9811 16.6559 29.906H10.9194V34.3573C13.7563 39.9841 19.5712 43.8555 26.3109 43.8555V43.8555Z\" fill=\"#34A853\"/>\\n      <path fill-rule=\"evenodd\" clip-rule=\"evenodd\" d=\"M16.6559 29.8904C16.3111 28.8559 16.1074 27.7588 16.1074 26.6146C16.1074 25.4704 16.3111 24.3733 16.6559 23.3388V18.8875H10.9194C9.74388 21.2072 9.06992 23.8247 9.06992 26.6146C9.06992 29.4045 9.74388 32.022 10.9194 34.3417L15.3864 30.8621L16.6559 29.8904V29.8904Z\" fill=\"#FBBC05\"/>\\n      <path fill-rule=\"evenodd\" clip-rule=\"evenodd\" d=\"M26.3109 16.2386C28.85 16.2386 31.107 17.1164 32.9095 18.8091L37.8466 13.8719C34.853 11.082 30.9659 9.3736 26.3109 9.3736C19.5712 9.3736 13.7563 13.245 10.9194 18.8875L16.6559 23.3388C18.0195 19.2636 21.8282 16.2386 26.3109 16.2386V16.2386Z\" fill=\"#EA4335\"/>\\n    </svg>\\n    <svg class=\"logo-dark\" width=\"18\" height=\"18\" viewBox=\"0 0 48 48\" xmlns=\"http://www.w3.org/2000/svg\">\\n      <circle cx=\"24\" cy=\"23\" fill=\"#FFF\" r=\"22\"/>\\n      <path d=\"M33.76 34.26c2.75-2.56 4.49-6.37 4.49-11.26 0-.89-.08-1.84-.29-3H24.01v5.99h8.03c-.4 2.02-1.5 3.56-3.07 4.56v.75l3.91 2.97h.88z\" fill=\"#4285F4\"/>\\n      <path d=\"M15.58 25.77A8.845 8.845 0 0 0 24 31.86c1.92 0 3.62-.46 4.97-1.31l4.79 3.71C31.14 36.7 27.65 38 24 38c-5.93 0-11.01-3.4-13.45-8.36l.17-1.01 4.06-2.85h.8z\" fill=\"#34A853\"/>\\n      <path d=\"M15.59 20.21a8.864 8.864 0 0 0 0 5.58l-5.03 3.86c-.98-2-1.53-4.25-1.53-6.64 0-2.39.55-4.64 1.53-6.64l1-.22 3.81 2.98.22 1.08z\" fill=\"#FBBC05\"/>\\n      <path d=\"M24 14.14c2.11 0 4.02.75 5.52 1.98l4.36-4.36C31.22 9.43 27.81 8 24 8c-5.93 0-11.01 3.4-13.45 8.36l5.03 3.85A8.86 8.86 0 0 1 24 14.14z\" fill=\"#EA4335\"/>\\n    </svg>\\n    <div class=\"gradient-container\"><div class=\"gradient\"></div></div>\\n  </div>\\n  <div class=\"carousel\">\\n    <a class=\"chip\" href=\"https://vertexaisearch.cloud.google.com/grounding-api-redirect/AbF9wXH6YVsD9pRrvWd5zoLVfz-w2ffCJ2w5mD-EciWW-fQmEsltW3rzxsCNlp8x66A644eP88zKBJDqgFsn2j3tmpemvOiRkXCluKSyynUZReGmgbfNq6PLWpZGKhk3Ay84vZl72m6WHscT8VLM2io67xQ5EUw6DwPp9hAj5ovXR9U-omDSZjIXJWWK-iJBmYOdWqgW1vuEow==\">shape of the earth</a>\\n  </div>\\n</div>\\n'}, 'web_search_queries': ['shape of the earth']}, 'usage_metadata': {'candidates_token_count': 158, 'candidates_tokens_details': [{'modality': <MediaModality.TEXT: 'TEXT'>, 'token_count': 158}], 'prompt_token_count': 249, 'prompt_tokens_details': [{'modality': <MediaModality.TEXT: 'TEXT'>, 'token_count': 249}], 'total_token_count': 407, 'traffic_type': <TrafficType.ON_DEMAND: 'ON_DEMAND'>}, 'invocation_id': 'e-96d1e824-30ea-4f04-91a3-0e204ae307b1', 'author': 'simple_search_agent', 'actions': {'state_delta': {}, 'artifact_delta': {}, 'requested_auth_configs': {}}, 'id': 'mngZZBf2', 'timestamp': 1748878789.729042}\n"
          ]
        },
        {
          "output_type": "execute_result",
          "data": {
            "text/plain": [
              "\"No, the Earth is not square. While it appears round from space, it's more accurately described as an irregularly shaped ellipsoid, or a sphere.\\n\\nHere's why:\\n\\n*   **Gravity:** Earth's gravity pulls everything towards its center. If Earth were made of a homogenous material, gravity would make it a perfect sphere.\\n*   **Rotation:** The Earth's rotation causes a centrifugal force, which is greater at the equator than at the poles. This force deforms the sphere into an oblate ellipsoid, which means it bulges at the equator.\\n*   **Irregularities:** The Earth isn't homogenous. It comprises materials with different densities, and it has mountains and ocean trenches, all of which contribute to its irregular shape.\\n\""
            ],
            "application/vnd.google.colaboratory.intrinsic+json": {
              "type": "string"
            }
          },
          "metadata": {},
          "execution_count": 16
        }
      ]
    },
    {
      "cell_type": "markdown",
      "source": [
        "## Search multiple questions\n"
      ],
      "metadata": {
        "id": "36NHGlMyDYE4"
      }
    },
    {
      "cell_type": "code",
      "source": [
        "from google.adk.tools.agent_tool import AgentTool\n",
        "\n",
        "# Instantiate again because each agent tree shall have unique objects.\n",
        "simple_search_agent = Agent(\n",
        "    model=MODEL,\n",
        "    name=\"simple_search_agent\",\n",
        "    description=\"Agent to answer questions using Google Search.\",\n",
        "    instruction=\"I can answer your questions by searching the internet. Just ask me anything!\",\n",
        "    generate_content_config=types.GenerateContentConfig(\n",
        "        max_output_tokens=8000,\n",
        "    ),\n",
        "    tools=[google_search],\n",
        ")\n",
        "\n",
        "multiple_search_agent = Agent(\n",
        "    model=MODEL,\n",
        "    name=\"research_agent\",\n",
        "    description=\"Get answers to multiple questions one by one.\",\n",
        "    instruction=\"Observe the pending questions in the chat log and call the simple_search_agent to conduct search and give answers to each question. Present the search result in a markdown, one section per question and answer\",\n",
        "    generate_content_config=types.GenerateContentConfig(\n",
        "        max_output_tokens=8000,\n",
        "    ),\n",
        "    tools=[AgentTool(simple_search_agent)],\n",
        ")\n",
        "\n",
        "app = reasoning_engines.AdkApp(\n",
        "    agent=multiple_search_agent,\n",
        "    enable_tracing=True,\n",
        ")\n",
        "\n",
        "session = app.create_session(user_id=USER_ID)\n",
        "\n",
        "call_remote_agent_engine_app(app, USER_ID, session.id, \"\"\"\n",
        "- Is Earth square?\n",
        "- Is Moon flat?\n",
        "- Is Sun cold?\n",
        "\"\"\")"
      ],
      "metadata": {
        "id": "EvBH8KkUDgrS",
        "outputId": "b0ba127a-d3ba-41f0-9583-9a73289a8de3",
        "colab": {
          "base_uri": "https://localhost:8080/",
          "height": 507
        }
      },
      "execution_count": 18,
      "outputs": [
        {
          "output_type": "stream",
          "name": "stderr",
          "text": [
            "WARNING:google_genai.types:Warning: there are non-text parts in the response: ['function_call', 'function_call', 'function_call'], returning concatenated text result from text parts. Check the full candidates.content.parts accessor to get the full model response.\n"
          ]
        },
        {
          "output_type": "stream",
          "name": "stdout",
          "text": [
            "{'content': {'parts': [{'function_call': {'id': 'adk-9a69d478-19fd-4851-9c21-58233dcde773', 'args': {'request': 'Is Earth square?'}, 'name': 'simple_search_agent'}}, {'function_call': {'id': 'adk-7dbfd77b-5c0b-49e6-8c14-23b94531cbec', 'args': {'request': 'Is Moon flat?'}, 'name': 'simple_search_agent'}}, {'function_call': {'id': 'adk-bf91f868-96ae-469d-9299-a6e4670afcc0', 'args': {'request': 'Is Sun cold?'}, 'name': 'simple_search_agent'}}], 'role': 'model'}, 'usage_metadata': {'candidates_token_count': 30, 'candidates_tokens_details': [{'modality': <MediaModality.TEXT: 'TEXT'>, 'token_count': 30}], 'prompt_token_count': 107, 'prompt_tokens_details': [{'modality': <MediaModality.TEXT: 'TEXT'>, 'token_count': 107}], 'total_token_count': 137, 'traffic_type': <TrafficType.ON_DEMAND: 'ON_DEMAND'>}, 'invocation_id': 'e-35b48e17-4858-4326-8ace-513eb1fc3c85', 'author': 'research_agent', 'actions': {'state_delta': {}, 'artifact_delta': {}, 'requested_auth_configs': {}}, 'long_running_tool_ids': set(), 'id': 'cZ71tEjD', 'timestamp': 1748878805.710652}\n"
          ]
        },
        {
          "output_type": "stream",
          "name": "stderr",
          "text": [
            "WARNING:opentelemetry.sdk.trace.export:Already shutdown, dropping span.\n",
            "WARNING:opentelemetry.sdk.trace.export:Already shutdown, dropping span.\n",
            "WARNING:opentelemetry.sdk.trace.export:Already shutdown, dropping span.\n",
            "WARNING:opentelemetry.sdk.trace.export:Already shutdown, dropping span.\n",
            "WARNING:opentelemetry.sdk.trace.export:Already shutdown, dropping span.\n",
            "WARNING:opentelemetry.sdk.trace.export:Already shutdown, dropping span.\n",
            "WARNING:opentelemetry.sdk.trace.export:Already shutdown, dropping span.\n",
            "WARNING:opentelemetry.sdk.trace.export:Already shutdown, dropping span.\n",
            "WARNING:opentelemetry.sdk.trace.export:Already shutdown, dropping span.\n",
            "WARNING:opentelemetry.sdk.trace.export:Already shutdown, dropping span.\n",
            "WARNING:opentelemetry.sdk.trace.export:Already shutdown, dropping span.\n",
            "WARNING:opentelemetry.sdk.trace.export:Already shutdown, dropping span.\n",
            "WARNING:opentelemetry.sdk.trace.export:Already shutdown, dropping span.\n",
            "WARNING:opentelemetry.sdk.trace.export:Already shutdown, dropping span.\n",
            "WARNING:opentelemetry.sdk.trace.export:Already shutdown, dropping span.\n",
            "WARNING:opentelemetry.sdk.trace.export:Already shutdown, dropping span.\n",
            "WARNING:opentelemetry.sdk.trace.export:Already shutdown, dropping span.\n"
          ]
        },
        {
          "output_type": "stream",
          "name": "stdout",
          "text": [
            "{'content': {'parts': [{'function_response': {'id': 'adk-9a69d478-19fd-4851-9c21-58233dcde773', 'name': 'simple_search_agent', 'response': {'result': \"No, the Earth is not square. While it appears round from space, it is more accurately described as an irregularly shaped ellipsoid, sometimes referred to as a spheroid.\\n\\nHere's why:\\n\\n*   **Gravity:** The Earth's own gravity pulls everything towards its center. If the Earth were made of a homogenous material, it would be a perfect sphere, flattened slightly by its rotation.\\n*   **Rotation:** The Earth's rotation causes a centrifugal force that makes it bulge at the equator.\\n*   **Irregularities:** The Earth is not perfectly uniform in density or composition. Mountains, ocean trenches, and variations in the Earth's gravity field further distort its shape.\\n\\n\"}}}, {'function_response': {'id': 'adk-7dbfd77b-5c0b-49e6-8c14-23b94531cbec', 'name': 'simple_search_agent', 'response': {'result': \"No, the Moon is not flat. It is a sphere, although not a perfect one. More specifically, it's often described as an oblate spheroid or even egg-shaped.\\n\\nHere's what makes up the Moon's shape:\\n\\n*   **Overall Shape:** The Moon is spherical.\\n*   **Not perfectly spherical:** The Moon isn't a perfect sphere; it's slightly stretched with a bulge towards Earth, making it closer to an egg shape.\\n*   **Technical Description:** It is technically a scalene ellipsoid because of tidal stretching.\\n*   **More spherical than Earth:** The Moon is actually closer to being a perfect sphere than the Earth is.\\n\\n\"}}}, {'function_response': {'id': 'adk-bf91f868-96ae-469d-9299-a6e4670afcc0', 'name': 'simple_search_agent', 'response': {'result': \"The Sun is not cold. It is a giant ball of fire propelled by nuclear reactions, with a surface temperature of about 5800 Kelvin (around 10,000 degrees Fahrenheit). The Sun's high temperature causes it to constantly emit massive amounts of thermal radiation in all directions.\\n\\n\"}}}], 'role': 'user'}, 'invocation_id': 'KLEDg7Aq', 'author': 'research_agent', 'actions': {'state_delta': {}, 'artifact_delta': {}, 'requested_auth_configs': {}}, 'id': '2Deb6KGp', 'timestamp': 1748878810.128696}\n"
          ]
        },
        {
          "output_type": "stream",
          "name": "stderr",
          "text": [
            "WARNING:opentelemetry.sdk.trace.export:Already shutdown, dropping span.\n",
            "WARNING:opentelemetry.sdk.trace.export:Already shutdown, dropping span.\n",
            "WARNING:opentelemetry.sdk.trace.export:Already shutdown, dropping span.\n"
          ]
        },
        {
          "output_type": "stream",
          "name": "stdout",
          "text": [
            "{'content': {'parts': [{'text': '### Is Earth square?\\n\\nNo, the Earth is not square. It is an irregularly shaped ellipsoid, sometimes referred to as a spheroid.\\n\\n### Is Moon flat?\\n\\nNo, the Moon is not flat. It is a sphere, although not a perfect one, and is often described as an oblate spheroid or even egg-shaped.\\n\\n### Is Sun cold?\\n\\nThe Sun is not cold. It is a giant ball of fire propelled by nuclear reactions, with a surface temperature of about 5800 Kelvin (around 10,000 degrees Fahrenheit).\\n'}], 'role': 'model'}, 'usage_metadata': {'candidates_token_count': 121, 'candidates_tokens_details': [{'modality': <MediaModality.TEXT: 'TEXT'>, 'token_count': 121}], 'prompt_token_count': 505, 'prompt_tokens_details': [{'modality': <MediaModality.TEXT: 'TEXT'>, 'token_count': 505}], 'total_token_count': 626, 'traffic_type': <TrafficType.ON_DEMAND: 'ON_DEMAND'>}, 'invocation_id': 'e-35b48e17-4858-4326-8ace-513eb1fc3c85', 'author': 'research_agent', 'actions': {'state_delta': {}, 'artifact_delta': {}, 'requested_auth_configs': {}}, 'id': 'VIFeX3LV', 'timestamp': 1748878815.131678}\n"
          ]
        },
        {
          "output_type": "execute_result",
          "data": {
            "text/plain": [
              "'### Is Earth square?\\n\\nNo, the Earth is not square. It is an irregularly shaped ellipsoid, sometimes referred to as a spheroid.\\n\\n### Is Moon flat?\\n\\nNo, the Moon is not flat. It is a sphere, although not a perfect one, and is often described as an oblate spheroid or even egg-shaped.\\n\\n### Is Sun cold?\\n\\nThe Sun is not cold. It is a giant ball of fire propelled by nuclear reactions, with a surface temperature of about 5800 Kelvin (around 10,000 degrees Fahrenheit).\\n'"
            ],
            "application/vnd.google.colaboratory.intrinsic+json": {
              "type": "string"
            }
          },
          "metadata": {},
          "execution_count": 18
        }
      ]
    },
    {
      "cell_type": "code",
      "source": [
        "# One sample data related to function call\n",
        "# data = {\n",
        "#     'content': {\n",
        "#         'parts': [\n",
        "#             {'function_call':\n",
        "#              {'id': 'adk-86084634-fdb5-45ff-be8f-ef3fc5866a35',\n",
        "#               'args': {'request': 'Is Earth square?'},\n",
        "#               'name': 'simple_search_agent'}},\n",
        "#             {'function_call':\n",
        "#              {'id': 'adk-482d0901-8ff9-4f48-bf2c-03539b6dc35a',\n",
        "#               'args': {'request': 'Is Moon flat?'}, 'name': 'simple_search_agent'}},\n",
        "#             {'function_call':\n",
        "#              {'id': 'adk-a8b821f0-b93c-470e-bf41-fa89e7be6d9c',\n",
        "#               'args': {'request': 'Is Sun cold?'}, 'name': 'simple_search_agent'}}"
      ],
      "metadata": {
        "id": "Zf0BBszDEZ-Q"
      },
      "execution_count": 19,
      "outputs": []
    },
    {
      "cell_type": "markdown",
      "source": [
        "## Generate the research plan"
      ],
      "metadata": {
        "id": "D_GaJdRlGeMo"
      }
    },
    {
      "cell_type": "code",
      "source": [
        "DEEP_RESEARCH_PLAN_INSTRUCTION = \"\"\"\n",
        "Instruction for a Deep Research Plan Agent\n",
        "As a Deep Research Plan Agent, your primary objective is to generate a comprehensive and insightful research plan. This plan will be presented as a markdown bullet point list of questions. The goal is to not only address the user's explicit query but also to anticipate and explore related avenues of inquiry that would be of interest for a thorough understanding of the topic. Your output should guide the user through a structured and deep exploration of their subject.\n",
        "\n",
        "Here is the process to follow:\n",
        "\n",
        "Deconstruct the Core Topic:\n",
        "\n",
        "What is the fundamental subject of the user's request?\n",
        "What are the primary keywords and concepts?\n",
        "What is the implicit goal of the user's research? (e.g., to understand a concept, to make a decision, to compare and contrast, to solve a problem).\n",
        "Generate Foundational Questions:\n",
        "\n",
        "Start with the basics to establish a strong foundation.\n",
        "What is the definition of the core topic?\n",
        "What is its history and origin?\n",
        "What are the key principles and theories that underpin it?\n",
        "Who are the seminal thinkers, researchers, or figures associated with this topic?\n",
        "Explore Deeper, More Nuanced Aspects:\n",
        "\n",
        "Move beyond the surface-level inquiries.\n",
        "What are the current debates or controversies surrounding this topic?\n",
        "What are the different schools of thought or perspectives?\n",
        "What are the key components, mechanisms, or processes involved? How do they interact?\n",
        "What are the less obvious or often overlooked aspects of this topic?\n",
        "Investigate Connections and Relationships:\n",
        "\n",
        "Think about how the topic connects to broader fields and concepts.\n",
        "How does this topic relate to other relevant disciplines or areas of study?\n",
        "What are the upstream causes and downstream effects of the subject?\n",
        "How has this topic influenced, or been influenced by, historical, social, technological, or economic factors?\n",
        "Consider Practical Applications and Implications:\n",
        "\n",
        "Explore the real-world significance of the topic.\n",
        "What are the practical applications or use cases?\n",
        "What are the ethical, social, or economic implications?\n",
        "Who are the key stakeholders affected by or involved in this topic?\n",
        "Look to the Future:\n",
        "\n",
        "Encourage forward-thinking inquiry.\n",
        "What are the emerging trends and future directions of research in this area?\n",
        "What are the unanswered questions or existing gaps in knowledge?\n",
        "What are the potential future impacts or developments related to this topic?\n",
        "Synthesize and Structure the Plan:\n",
        "\n",
        "Organize the generated questions into a logical flow. A good structure might be:\n",
        "Foundational Understanding\n",
        "In-Depth Analysis\n",
        "Context and Connections\n",
        "Practical Implications\n",
        "Future Outlook\n",
        "Present the final output as a clean, easy-to-read markdown bullet point list.\n",
        "Use sub-bullets to group related questions and create a hierarchical structure.\n",
        "Ensure the questions are open-ended and encourage critical thinking rather than simple fact-finding.\n",
        "By following these instructions, you will create a research plan that is not only deep and thoughtful but also anticipates the user's latent interests, guiding them toward a truly comprehensive understanding of their chosen topic.\n",
        "\"\"\""
      ],
      "metadata": {
        "id": "OO2X30YIMyVC"
      },
      "execution_count": 20,
      "outputs": []
    },
    {
      "cell_type": "code",
      "source": [
        "# Instantiate again because each agent tree shall have unique objects.\n",
        "plan_agent = Agent(\n",
        "    model=MODEL,\n",
        "    name=\"plan_agent\",\n",
        "    description=\"Agent to generate a research plan based on the question or topic given by the user\",\n",
        "    instruction=DEEP_RESEARCH_PLAN_INSTRUCTION,\n",
        "    generate_content_config=types.GenerateContentConfig(\n",
        "        max_output_tokens=8000,\n",
        "    ),\n",
        ")"
      ],
      "metadata": {
        "id": "ODUc5KDZGhXD"
      },
      "execution_count": 21,
      "outputs": []
    },
    {
      "cell_type": "code",
      "source": [
        "app = reasoning_engines.AdkApp(\n",
        "    agent=plan_agent,\n",
        "    enable_tracing=True,\n",
        ")\n",
        "\n",
        "session = app.create_session(user_id=USER_ID)\n",
        "\n",
        "response_text = call_remote_agent_engine_app(app, USER_ID, session.id, \"\"\"AI Agent's impact on labour market\"\"\")"
      ],
      "metadata": {
        "id": "mC2JHEnSM8pP",
        "outputId": "577e0ee1-aac3-4269-f624-f047b5e04f2b",
        "colab": {
          "base_uri": "https://localhost:8080/"
        }
      },
      "execution_count": 23,
      "outputs": [
        {
          "output_type": "stream",
          "name": "stderr",
          "text": [
            "WARNING:opentelemetry.sdk.trace.export:Already shutdown, dropping span.\n",
            "WARNING:opentelemetry.sdk.trace.export:Already shutdown, dropping span.\n",
            "WARNING:opentelemetry.sdk.trace.export:Already shutdown, dropping span.\n"
          ]
        },
        {
          "output_type": "stream",
          "name": "stdout",
          "text": [
            "{'content': {'parts': [{'text': 'Okay, I can create a research plan to deeply investigate the impact of AI Agents on the labor market. Here\\'s a structured plan to guide a comprehensive exploration of this topic:\\n\\n*   **Foundational Understanding:**\\n\\n    *   What exactly are \"AI Agents,\" and how do they differ from other forms of AI or automation?\\n        *   What are the different types of AI Agents (e.g., task-specific, general-purpose, embodied, software-based)?\\n        *   What are some examples of AI Agents currently being used in different industries?\\n    *   What are the key characteristics of the current labor market that are relevant to the impact of AI Agents?\\n        *   What are the existing trends in automation, globalization, and skills gaps?\\n        *   How is the labor market structured in terms of different sectors, skill levels, and employment types?\\n    *   What are the projected rates of adoption and development of AI Agents in the coming years?\\n        *   Which industries are likely to be most heavily impacted in the short and long term?\\n        *   What are the major technological bottlenecks or enabling factors for wider adoption?\\n\\n*   **In-Depth Analysis:**\\n\\n    *   How are AI Agents currently impacting employment levels in different sectors?\\n        *   Which jobs are most vulnerable to displacement by AI Agents?\\n        *   Are AI Agents creating new jobs, and if so, what types of jobs are these?\\n        *   What is the net effect of AI Agents on overall employment rates?\\n    *   How are AI Agents changing the nature of work and the skills required in different occupations?\\n        *   Are AI Agents augmenting human capabilities or replacing them entirely?\\n        *   What new skills are becoming more important in an AI-driven workplace (e.g., creativity, critical thinking, emotional intelligence, AI oversight)?\\n        *   How is the demand for different skills evolving as AI Agents become more prevalent?\\n    *   What are the potential impacts of AI Agents on wages and income inequality?\\n        *   Are AI Agents contributing to wage stagnation or decline for certain groups of workers?\\n        *   Are the benefits of AI-driven productivity gains being distributed equitably?\\n        *   Could AI Agents exacerbate existing inequalities based on race, gender, or education level?\\n\\n*   **Context and Connections:**\\n\\n    *   How does the impact of AI Agents on the labor market compare to the impact of previous technological revolutions (e.g., the Industrial Revolution, the rise of computers)?\\n        *   What lessons can we learn from history about managing technological disruption and its effects on employment?\\n    *   What are the ethical considerations related to the use of AI Agents in the workplace?\\n        *   How can we ensure fairness, transparency, and accountability in the design and deployment of AI Agents?\\n        *   What are the potential risks of bias or discrimination in AI-driven hiring, promotion, or performance evaluation processes?\\n    *   How are government policies and regulations addressing the challenges and opportunities presented by AI Agents in the labor market?\\n        *   Are existing labor laws and social safety nets adequate to protect workers in an AI-driven economy?\\n        *   What types of policies are being considered or implemented to promote retraining, upskilling, and job creation?\\n        *   How are governments addressing issues such as data privacy, algorithmic bias, and the concentration of economic power in the hands of AI developers?\\n\\n*   **Practical Implications:**\\n\\n    *   What strategies can businesses adopt to successfully integrate AI Agents into their workforce while minimizing negative impacts on employees?\\n        *   How can companies invest in employee training and development to prepare workers for new roles and responsibilities?\\n        *   What are the best practices for managing the ethical and social implications of AI Agent deployment?\\n    *   What steps can individuals take to prepare themselves for the changing demands of the labor market in the age of AI Agents?\\n        *   What skills and knowledge are most likely to be valuable in the future?\\n        *   How can workers adapt to a more dynamic and uncertain job market?\\n    *   What are the implications of AI Agents for education and training systems?\\n        *   How should educational institutions adapt their curricula to prepare students for an AI-driven world?\\n        *   What are the most effective approaches to lifelong learning and reskilling?\\n\\n*   **Future Outlook:**\\n\\n    *   What are the potential long-term scenarios for the labor market as AI Agents become more sophisticated and pervasive?\\n        *   Will AI Agents eventually lead to widespread job displacement and a \"jobless future\"?\\n        *   Could AI Agents create new forms of work and economic opportunity that we cannot yet imagine?\\n    *   What are the key areas of ongoing research and development related to AI Agents and their impact on the labor market?\\n        *   What are the most pressing research questions that need to be addressed?\\n        *   What are the potential breakthroughs or unexpected developments that could significantly alter the trajectory of AI\\'s impact on work?\\n    *   What are the potential societal and political implications of a labor market increasingly shaped by AI Agents?\\n        *   How might AI Agents affect social cohesion, political stability, and the distribution of power?\\n        *   What are the long-term implications for democracy and human autonomy?\\n'}], 'role': 'model'}, 'usage_metadata': {'candidates_token_count': 1114, 'candidates_tokens_details': [{'modality': <MediaModality.TEXT: 'TEXT'>, 'token_count': 1114}], 'prompt_token_count': 670, 'prompt_tokens_details': [{'modality': <MediaModality.TEXT: 'TEXT'>, 'token_count': 670}], 'total_token_count': 1784, 'traffic_type': <TrafficType.ON_DEMAND: 'ON_DEMAND'>}, 'invocation_id': 'e-386feed8-554f-4ba4-9e70-3786edbc2732', 'author': 'plan_agent', 'actions': {'state_delta': {}, 'artifact_delta': {}, 'requested_auth_configs': {}}, 'id': 'cfus0TZ0', 'timestamp': 1748878831.92774}\n"
          ]
        }
      ]
    },
    {
      "cell_type": "code",
      "source": [
        "# prompt: display response_text as markdown\n",
        "\n",
        "from IPython.display import display, Markdown\n",
        "\n",
        "display(Markdown(response_text))"
      ],
      "metadata": {
        "id": "xm9ctt8GNQL5",
        "outputId": "3e68ff5c-fa73-4afe-845b-1542f02bb84c",
        "colab": {
          "base_uri": "https://localhost:8080/",
          "height": 1000
        }
      },
      "execution_count": 24,
      "outputs": [
        {
          "output_type": "display_data",
          "data": {
            "text/plain": [
              "<IPython.core.display.Markdown object>"
            ],
            "text/markdown": "Okay, I can create a research plan to deeply investigate the impact of AI Agents on the labor market. Here's a structured plan to guide a comprehensive exploration of this topic:\n\n*   **Foundational Understanding:**\n\n    *   What exactly are \"AI Agents,\" and how do they differ from other forms of AI or automation?\n        *   What are the different types of AI Agents (e.g., task-specific, general-purpose, embodied, software-based)?\n        *   What are some examples of AI Agents currently being used in different industries?\n    *   What are the key characteristics of the current labor market that are relevant to the impact of AI Agents?\n        *   What are the existing trends in automation, globalization, and skills gaps?\n        *   How is the labor market structured in terms of different sectors, skill levels, and employment types?\n    *   What are the projected rates of adoption and development of AI Agents in the coming years?\n        *   Which industries are likely to be most heavily impacted in the short and long term?\n        *   What are the major technological bottlenecks or enabling factors for wider adoption?\n\n*   **In-Depth Analysis:**\n\n    *   How are AI Agents currently impacting employment levels in different sectors?\n        *   Which jobs are most vulnerable to displacement by AI Agents?\n        *   Are AI Agents creating new jobs, and if so, what types of jobs are these?\n        *   What is the net effect of AI Agents on overall employment rates?\n    *   How are AI Agents changing the nature of work and the skills required in different occupations?\n        *   Are AI Agents augmenting human capabilities or replacing them entirely?\n        *   What new skills are becoming more important in an AI-driven workplace (e.g., creativity, critical thinking, emotional intelligence, AI oversight)?\n        *   How is the demand for different skills evolving as AI Agents become more prevalent?\n    *   What are the potential impacts of AI Agents on wages and income inequality?\n        *   Are AI Agents contributing to wage stagnation or decline for certain groups of workers?\n        *   Are the benefits of AI-driven productivity gains being distributed equitably?\n        *   Could AI Agents exacerbate existing inequalities based on race, gender, or education level?\n\n*   **Context and Connections:**\n\n    *   How does the impact of AI Agents on the labor market compare to the impact of previous technological revolutions (e.g., the Industrial Revolution, the rise of computers)?\n        *   What lessons can we learn from history about managing technological disruption and its effects on employment?\n    *   What are the ethical considerations related to the use of AI Agents in the workplace?\n        *   How can we ensure fairness, transparency, and accountability in the design and deployment of AI Agents?\n        *   What are the potential risks of bias or discrimination in AI-driven hiring, promotion, or performance evaluation processes?\n    *   How are government policies and regulations addressing the challenges and opportunities presented by AI Agents in the labor market?\n        *   Are existing labor laws and social safety nets adequate to protect workers in an AI-driven economy?\n        *   What types of policies are being considered or implemented to promote retraining, upskilling, and job creation?\n        *   How are governments addressing issues such as data privacy, algorithmic bias, and the concentration of economic power in the hands of AI developers?\n\n*   **Practical Implications:**\n\n    *   What strategies can businesses adopt to successfully integrate AI Agents into their workforce while minimizing negative impacts on employees?\n        *   How can companies invest in employee training and development to prepare workers for new roles and responsibilities?\n        *   What are the best practices for managing the ethical and social implications of AI Agent deployment?\n    *   What steps can individuals take to prepare themselves for the changing demands of the labor market in the age of AI Agents?\n        *   What skills and knowledge are most likely to be valuable in the future?\n        *   How can workers adapt to a more dynamic and uncertain job market?\n    *   What are the implications of AI Agents for education and training systems?\n        *   How should educational institutions adapt their curricula to prepare students for an AI-driven world?\n        *   What are the most effective approaches to lifelong learning and reskilling?\n\n*   **Future Outlook:**\n\n    *   What are the potential long-term scenarios for the labor market as AI Agents become more sophisticated and pervasive?\n        *   Will AI Agents eventually lead to widespread job displacement and a \"jobless future\"?\n        *   Could AI Agents create new forms of work and economic opportunity that we cannot yet imagine?\n    *   What are the key areas of ongoing research and development related to AI Agents and their impact on the labor market?\n        *   What are the most pressing research questions that need to be addressed?\n        *   What are the potential breakthroughs or unexpected developments that could significantly alter the trajectory of AI's impact on work?\n    *   What are the potential societal and political implications of a labor market increasingly shaped by AI Agents?\n        *   How might AI Agents affect social cohesion, political stability, and the distribution of power?\n        *   What are the long-term implications for democracy and human autonomy?\n"
          },
          "metadata": {}
        }
      ]
    },
    {
      "cell_type": "code",
      "source": [],
      "metadata": {
        "id": "Q52YKm5xNe4o"
      },
      "execution_count": 24,
      "outputs": []
    },
    {
      "cell_type": "markdown",
      "source": [
        "## Puting it all together"
      ],
      "metadata": {
        "id": "2EiljVZoNfTV"
      }
    },
    {
      "cell_type": "markdown",
      "source": [],
      "metadata": {
        "id": "oE2ozDmbGb5c"
      }
    },
    {
      "cell_type": "code",
      "source": [
        "# Instantiate again because each agent tree shall have unique objects.\n",
        "plan_agent = Agent(\n",
        "    model=MODEL,\n",
        "    name=\"plan_agent\",\n",
        "    description=\"Agent to generate a research plan based on the question or topic given by the user\",\n",
        "    instruction=DEEP_RESEARCH_PLAN_INSTRUCTION,\n",
        "    generate_content_config=types.GenerateContentConfig(\n",
        "        max_output_tokens=8000,\n",
        "    ),\n",
        ")\n",
        "\n",
        "simple_search_agent = Agent(\n",
        "    model=MODEL,\n",
        "    name=\"simple_search_agent\",\n",
        "    description=\"Agent to answer questions using Google Search.\",\n",
        "    instruction=\"I can answer your questions by searching the internet. Just ask me anything!\",\n",
        "    generate_content_config=types.GenerateContentConfig(\n",
        "        max_output_tokens=8000,\n",
        "    ),\n",
        "    tools=[google_search],\n",
        ")\n",
        "\n",
        "multiple_search_agent = Agent(\n",
        "    model=MODEL,\n",
        "    name=\"research_agent\",\n",
        "    description=\"Get answers to multiple questions one by one.\",\n",
        "    instruction=\"Observe the pending questions in the chat log and call the simple_search_agent to conduct search and give answers to each question. Present the search result in a markdown, one section per question and answer\",\n",
        "    generate_content_config=types.GenerateContentConfig(\n",
        "        max_output_tokens=8000,\n",
        "    ),\n",
        "    tools=[AgentTool(simple_search_agent)],\n",
        ")\n",
        "\n",
        "report_agent = Agent(\n",
        "    model=MODEL,\n",
        "    name=\"report_agent\",\n",
        "    description=\"Agent to generate a markdown research report from the questions and their search results from the Internet\",\n",
        "    instruction=\"Summarize the research results and present research report in markdown format\",\n",
        "    generate_content_config=types.GenerateContentConfig(\n",
        "        max_output_tokens=8000,\n",
        "    ),\n",
        ")\n",
        "\n",
        "from google.adk.agents.sequential_agent import SequentialAgent\n",
        "\n",
        "root_agent = SequentialAgent(\n",
        "    name=\"deep_researcher\",\n",
        "    description=\"This is a deep research that makes research plan, use Google search to gather information and generate a report.\",\n",
        "    sub_agents=[plan_agent, multiple_search_agent, report_agent],\n",
        ")\n",
        "\n",
        "app = reasoning_engines.AdkApp(\n",
        "    agent=root_agent,\n",
        "    enable_tracing=True,\n",
        ")"
      ],
      "metadata": {
        "id": "plbGlrGZNjo3"
      },
      "execution_count": 25,
      "outputs": []
    },
    {
      "cell_type": "code",
      "source": [
        "session = app.create_session(user_id=USER_ID)\n",
        "\n",
        "response_text = call_remote_agent_engine_app(app, USER_ID, session.id, \"\"\"AI Agent's impact on labour market\"\"\")"
      ],
      "metadata": {
        "id": "hdLGJEvfOnu1",
        "outputId": "53f9ff0f-4254-4d5c-cb66-20886f50e1d5",
        "colab": {
          "base_uri": "https://localhost:8080/"
        }
      },
      "execution_count": 27,
      "outputs": [
        {
          "output_type": "stream",
          "name": "stderr",
          "text": [
            "WARNING:opentelemetry.sdk.trace.export:Already shutdown, dropping span.\n",
            "WARNING:opentelemetry.sdk.trace.export:Already shutdown, dropping span.\n"
          ]
        },
        {
          "output_type": "stream",
          "name": "stdout",
          "text": [
            "{'content': {'parts': [{'text': \"Okay, I can create a research plan to investigate the impact of AI Agents on the labor market. Here's a plan designed to guide a thorough exploration of the topic:\\n\\n*   **Foundational Understanding**\\n\\n    *   What is the definition of an AI Agent, and what are the different types of AI Agents relevant to the labor market (e.g., chatbots, robotic process automation, autonomous systems)?\\n    *   What are the key capabilities and limitations of current AI Agent technologies?\\n    *   What are the historical trends of automation and technological advancements and their effects on employment?\\n*   **In-Depth Analysis**\\n\\n    *   How are AI Agents currently being implemented in various industries and sectors?\\n    *   What specific job roles and tasks are most susceptible to being augmented or replaced by AI Agents?\\n    *   What are the observed effects of AI Agent implementation on employment levels, both positive (job creation) and negative (job displacement)?\\n    *   How is the introduction of AI Agents affecting the skill requirements for various jobs?\\n    *   What are the effects of AI Agents on wages and income inequality?\\n    *   What are the psychological and sociological impacts on workers whose jobs are affected by AI Agents?\\n*   **Context and Connections**\\n\\n    *   How does the impact of AI Agents on the labor market vary across different countries and economies? What are the influencing factors?\\n    *   What are the ethical considerations surrounding the use of AI Agents in the workplace, such as bias, privacy, and accountability?\\n    *   What are the existing legal and regulatory frameworks governing the use of AI Agents in employment?\\n    *   How do economic factors like productivity growth, investment, and consumer demand mediate the impact of AI Agents on employment?\\n    *   How does the development and deployment of AI Agents intersect with broader trends like globalization, remote work, and the gig economy?\\n*   **Practical Implications**\\n\\n    *   What strategies can businesses and policymakers adopt to mitigate the negative impacts of AI Agents on workers and promote a smooth transition?\\n    *   What types of education and training programs can help workers develop the skills needed to complement or work alongside AI Agents?\\n    *   How can labor unions and worker organizations adapt to the changing landscape of work in the age of AI Agents?\\n    *   What innovative approaches to social safety nets and income support can help workers who are displaced by AI Agents? (e.g., universal basic income, retraining stipends)\\n*   **Future Outlook**\\n\\n    *   What are the emerging trends and future directions in AI Agent technology, and how might these trends further impact the labor market?\\n    *   What are the potential long-term effects of widespread AI Agent adoption on the nature of work, the organization of companies, and the distribution of wealth?\\n    *   What are the key uncertainties and unknowns surrounding the future of AI Agents and their impact on the labor market?\\n    *   What research and development efforts are needed to ensure that AI Agents are used in a way that benefits both businesses and workers?\\n\"}], 'role': 'model'}, 'usage_metadata': {'candidates_token_count': 640, 'candidates_tokens_details': [{'modality': <MediaModality.TEXT: 'TEXT'>, 'token_count': 640}], 'prompt_token_count': 670, 'prompt_tokens_details': [{'modality': <MediaModality.TEXT: 'TEXT'>, 'token_count': 670}], 'total_token_count': 1310, 'traffic_type': <TrafficType.ON_DEMAND: 'ON_DEMAND'>}, 'invocation_id': 'e-54988485-7b90-4f04-82eb-3d004a64995e', 'author': 'plan_agent', 'actions': {'state_delta': {}, 'artifact_delta': {}, 'requested_auth_configs': {}}, 'id': 'rRV6vrM5', 'timestamp': 1748878867.237752}\n"
          ]
        },
        {
          "output_type": "stream",
          "name": "stderr",
          "text": [
            "WARNING:google_genai.types:Warning: there are non-text parts in the response: ['function_call', 'function_call'], returning concatenated text result from text parts. Check the full candidates.content.parts accessor to get the full model response.\n"
          ]
        },
        {
          "output_type": "stream",
          "name": "stdout",
          "text": [
            "{'content': {'parts': [{'text': 'Okay, I will now conduct searches to answer the questions outlined in the research plan. Here are the search results, organized by question:\\n\\n**Foundational Understanding**\\n\\n*   **What is the definition of an AI Agent, and what are the different types of AI Agents relevant to the labor market (e.g., chatbots, robotic process automation, autonomous systems)?**\\n'}, {'function_call': {'id': 'adk-42c95696-04c6-4ebb-bb38-f04098214038', 'args': {'request': 'definition of AI Agent labor market'}, 'name': 'simple_search_agent'}}, {'function_call': {'id': 'adk-1ae91f4f-9efa-4daf-bca0-b0506ed9909d', 'args': {'request': 'types of AI Agents in labor market'}, 'name': 'simple_search_agent'}}], 'role': 'model'}, 'usage_metadata': {'candidates_token_count': 102, 'candidates_tokens_details': [{'modality': <MediaModality.TEXT: 'TEXT'>, 'token_count': 102}], 'prompt_token_count': 746, 'prompt_tokens_details': [{'modality': <MediaModality.TEXT: 'TEXT'>, 'token_count': 746}], 'total_token_count': 848, 'traffic_type': <TrafficType.ON_DEMAND: 'ON_DEMAND'>}, 'invocation_id': 'e-54988485-7b90-4f04-82eb-3d004a64995e', 'author': 'research_agent', 'actions': {'state_delta': {}, 'artifact_delta': {}, 'requested_auth_configs': {}}, 'long_running_tool_ids': set(), 'id': 'FcRzgcYI', 'timestamp': 1748878872.743707}\n"
          ]
        },
        {
          "output_type": "stream",
          "name": "stderr",
          "text": [
            "WARNING:opentelemetry.sdk.trace.export:Already shutdown, dropping span.\n",
            "WARNING:opentelemetry.sdk.trace.export:Already shutdown, dropping span.\n",
            "WARNING:opentelemetry.sdk.trace.export:Already shutdown, dropping span.\n",
            "WARNING:opentelemetry.sdk.trace.export:Already shutdown, dropping span.\n",
            "WARNING:opentelemetry.sdk.trace.export:Already shutdown, dropping span.\n",
            "WARNING:opentelemetry.sdk.trace.export:Already shutdown, dropping span.\n",
            "WARNING:opentelemetry.sdk.trace.export:Already shutdown, dropping span.\n",
            "WARNING:opentelemetry.sdk.trace.export:Already shutdown, dropping span.\n",
            "WARNING:opentelemetry.sdk.trace.export:Already shutdown, dropping span.\n",
            "WARNING:opentelemetry.sdk.trace.export:Already shutdown, dropping span.\n",
            "WARNING:opentelemetry.sdk.trace.export:Already shutdown, dropping span.\n",
            "WARNING:opentelemetry.sdk.trace.export:Already shutdown, dropping span.\n"
          ]
        },
        {
          "output_type": "stream",
          "name": "stdout",
          "text": [
            "{'content': {'parts': [{'function_response': {'id': 'adk-42c95696-04c6-4ebb-bb38-f04098214038', 'name': 'simple_search_agent', 'response': {'result': 'The \"AI Agent labor market\" refers to the evolving ecosystem where AI agents are increasingly integrated into the workforce, impacting job roles, skill requirements, and overall employment trends. AI agents are sophisticated software programs designed to autonomously perform tasks, make decisions, and interact with their environment with minimal human oversight.\\n\\nHere\\'s a breakdown of key aspects:\\n\\n**1. Definition of AI Agents:**\\n\\n*   AI agents are software programs designed to autonomously perform tasks or make decisions based on data.\\n*   They perceive their environment, process information, and take action, similar to humans but powered by algorithms and machine learning.\\n*   They can be simple, like reactive agents responding to specific inputs, or more complex, like deliberative agents that plan and predict outcomes. Hybrid agents combine both approaches.\\n*   AI agents are built on large language models (LLMs) and can interface with tools, other models, and systems to achieve user goals.\\n\\n**2. Impact on the Job Market:**\\n\\n*   **Automation of tasks:** AI agents are automating repetitive tasks like data processing, inventory management, and customer support.\\n*   **Job displacement:** AI is projected to displace millions of jobs. Some reports suggest that generative AI could replace up to 300 million full-time jobs globally. Certain sectors, like office administration, customer service, and production work, are more vulnerable.\\n*   **Job creation:** AI is also driving the emergence of new roles, such as AI trainers, data analysts, AI ethics consultants, and AI product managers. It\\'s predicted that AI could create significantly more jobs than it displaces.\\n*   **Transformation of existing jobs:** Many jobs will be enhanced rather than replaced, with AI automating repetitive tasks and freeing up employees to focus on more complex, creative, or strategic work.\\n*   **Demand for new skills:** The AI-transformed workforce requires employees to develop new skills, including AI literacy, programming, data analysis, and the ability to work alongside AI systems.\\n*   **Changes to hiring processes:** AI is being used to optimize recruitment and workforce management, improving hiring efficiency.\\n*   **Shift in the division of labor:** There\\'s a fundamental shift in how tasks are divided between humans and machines, requiring workers to adapt and develop skills that complement AI capabilities.\\n\\n**3. Key Trends and Statistics:**\\n\\n*   AI agents are set to autonomously make a significant percentage of daily work decisions by 2028, potentially boosting productivity.\\n*   The AI agents market is experiencing rapid growth, with projections of substantial increases in market size and adoption across various industries.\\n*   A significant percentage of employers anticipate reducing their workforce due to AI automation.\\n*   There\\'s a growing concern that AI could disproportionately impact entry-level jobs.\\n*   Many new AI jobs require advanced degrees.\\n\\n**4. Challenges and Considerations:**\\n\\n*   **Ethical concerns:** Ensuring the ethical and responsible use of AI agents is crucial, particularly in decision-making processes.\\n*   **Security risks:** Integrating AI agents raises security and compliance challenges that need to be addressed.\\n*   **Need for upskilling:** Preparing the workforce for the AI-driven economy requires significant investment in upskilling and reskilling initiatives.\\n*   **Trust and transparency:** Organizations need to build trust in AI-augmented decision-making processes.\\n\\nIn conclusion, the AI agent labor market is characterized by both disruption and opportunity. While AI agents are automating tasks and displacing some jobs, they are also creating new roles, transforming existing ones, and driving the need for new skills. Navigating this changing landscape requires adaptability, a focus on lifelong learning, and a commitment to responsible AI implementation.\\n'}}}, {'function_response': {'id': 'adk-1ae91f4f-9efa-4daf-bca0-b0506ed9909d', 'name': 'simple_search_agent', 'response': {'result': \"AI agents are transforming the labor market in several ways, leading to both new opportunities and potential disruptions. Here's a breakdown of the types of AI agents and their impact:\\n\\n**1. Types of AI Agents in the Labor Market**\\n\\n*   **AI-powered Customer Service:** AI agents, like chatbots, are managing routine customer inquiries, freeing up human agents to handle more complex issues.\\n*   **AI Assistants for Administrative Tasks:** These agents automate repetitive administrative tasks such as data collection, document verification, compliance support, and internal reporting. This helps free up skilled workers to focus on decision-making, creativity, and strategy.\\n*   **AI Agents in Healthcare:** AI agents can assist with patient inquiries, reduce response times, extract relevant data from patient forms, and pre-fill administrative systems.\\n*   **AI Agents in Finance:** These agents can automatically match invoices to ledger entries and flag discrepancies.\\n*   **AI Agents in HR:** They can cross-verify payroll data with employment contracts to help prevent fraud and compliance issues.\\n\\n**2. Impact on the Job Market**\\n\\n*   **Automation of Tasks:** AI is automating repetitive and routine tasks across industries, which can lead to job displacement in certain sectors.\\n*   **Job Creation:** AI is also creating new job roles, such as AI trainers, data analysts, AI ethicists, and machine learning engineers.\\n*   **Increased Productivity:** AI tools like ChatGPT can increase worker productivity by assisting with tasks like content creation, grammar checking, and note-taking.\\n*   **Demand for New Skills:** The job market is shifting towards roles that require technological skills, AI literacy, and the ability to work alongside AI tools.\\n*   **Changes in Hiring Processes:** AI is affecting hiring processes, requiring professionals to develop new skills to stay relevant.\\n*   **Potential Impact on Entry-Level Jobs:** AI could automate many entry-level roles, potentially narrowing entry pathways for newcomers. However, AI can also be harnessed to train junior staff and make specialized skills more accessible.\\n*   **Digital Labor Force:** AI agents are contributing to a digital labor force that can work alongside humans to streamline operations, enhance productivity, and reduce costs.\\n\\n**3. The Need for Adaptation and Collaboration**\\n\\n*   **Adaptability and AI Literacy:** Employees need to embrace adaptability and AI literacy to remain competitive in the evolving workforce.\\n*   **Collaboration Between Humans and AI:** Humans and AI agents are becoming powerful allies in the workplace. AI is freeing people to focus on emotional intelligence, critical thinking, and creativity.\\n*   **Upskilling and Reskilling:** Companies and employees need to invest in upskilling and reskilling efforts to prepare for the AI-driven economy.\\n*   **Ethical Considerations:** As AI becomes more prevalent, it's important to address potential issues such as biases and the spread of deepfakes.\\n\"}}}], 'role': 'user'}, 'invocation_id': '0aJZbeE9', 'author': 'research_agent', 'actions': {'state_delta': {}, 'artifact_delta': {}, 'requested_auth_configs': {}}, 'id': 'Cj4Vr5aw', 'timestamp': 1748878888.433404}\n"
          ]
        },
        {
          "output_type": "stream",
          "name": "stderr",
          "text": [
            "WARNING:google_genai.types:Warning: there are non-text parts in the response: ['function_call', 'function_call'], returning concatenated text result from text parts. Check the full candidates.content.parts accessor to get the full model response.\n"
          ]
        },
        {
          "output_type": "stream",
          "name": "stdout",
          "text": [
            "{'content': {'parts': [{'text': '*   **What are the key capabilities and limitations of current AI Agent technologies?**\\n'}, {'function_call': {'id': 'adk-ed45a77d-db6f-423f-bd22-043be5f51b1d', 'args': {'request': 'capabilities of AI Agent technologies'}, 'name': 'simple_search_agent'}}, {'function_call': {'id': 'adk-13b85a22-8bb0-4a47-83a8-480c41555ad9', 'args': {'request': 'limitations of AI Agent technologies'}, 'name': 'simple_search_agent'}}], 'role': 'model'}, 'usage_metadata': {'candidates_token_count': 40, 'candidates_tokens_details': [{'modality': <MediaModality.TEXT: 'TEXT'>, 'token_count': 40}], 'prompt_token_count': 2217, 'prompt_tokens_details': [{'modality': <MediaModality.TEXT: 'TEXT'>, 'token_count': 2217}], 'total_token_count': 2257, 'traffic_type': <TrafficType.ON_DEMAND: 'ON_DEMAND'>}, 'invocation_id': 'e-54988485-7b90-4f04-82eb-3d004a64995e', 'author': 'research_agent', 'actions': {'state_delta': {}, 'artifact_delta': {}, 'requested_auth_configs': {}}, 'long_running_tool_ids': set(), 'id': 'N7AOLB2k', 'timestamp': 1748878894.481977}\n"
          ]
        },
        {
          "output_type": "stream",
          "name": "stderr",
          "text": [
            "WARNING:opentelemetry.sdk.trace.export:Already shutdown, dropping span.\n",
            "WARNING:opentelemetry.sdk.trace.export:Already shutdown, dropping span.\n",
            "WARNING:opentelemetry.sdk.trace.export:Already shutdown, dropping span.\n",
            "WARNING:opentelemetry.sdk.trace.export:Already shutdown, dropping span.\n",
            "WARNING:opentelemetry.sdk.trace.export:Already shutdown, dropping span.\n",
            "WARNING:opentelemetry.sdk.trace.export:Already shutdown, dropping span.\n",
            "WARNING:opentelemetry.sdk.trace.export:Already shutdown, dropping span.\n",
            "WARNING:opentelemetry.sdk.trace.export:Already shutdown, dropping span.\n",
            "WARNING:opentelemetry.sdk.trace.export:Already shutdown, dropping span.\n",
            "WARNING:opentelemetry.sdk.trace.export:Already shutdown, dropping span.\n",
            "WARNING:opentelemetry.sdk.trace.export:Already shutdown, dropping span.\n",
            "WARNING:opentelemetry.sdk.trace.export:Already shutdown, dropping span.\n"
          ]
        },
        {
          "output_type": "stream",
          "name": "stdout",
          "text": [
            "{'content': {'parts': [{'function_response': {'id': 'adk-ed45a77d-db6f-423f-bd22-043be5f51b1d', 'name': 'simple_search_agent', 'response': {'result': 'AI Agent technologies have a broad range of capabilities, including:\\n\\n*   **Reasoning:** AI agents use logic and available information to draw conclusions, make inferences, and solve problems. They can analyze data, identify patterns, and make informed decisions based on evidence and context.\\n*   **Acting:** AI agents can perform tasks based on decisions, plans, or external input. This can include physical actions or digital actions like sending messages or updating data.\\n*   **Autonomy:** AI agents can operate and make decisions independently to achieve a goal.\\n*   **Learning:** AI agents employ machine learning to adapt and improve their performance over time.\\n*   **Task Automation: AI agents can automate complex tasks that would otherwise require human resources, leading to goals being reached inexpensively, rapidly, and at scale.\\n*   **Data Analysis:** AI agents can analyze and synthesize information at a scale no human team could match, identifying patterns and delivering insights that drive strategic decisions.\\n*   **Tool Use:** AI agents can leverage external tools, APIs, and systems to enhance their capabilities, such as accessing enterprise databases or interacting with analytics platforms.\\n*   **Interactivity:** AI Agents can seamlessly navigate and interact with digital interfaces like web applications, portals, or software tools, mimicking human interactions to accomplish goals within existing systems.\\n\\nAI agents can also enhance productivity and efficiency by automating repetitive tasks, providing quick access to information, and ensuring consistency and reliability in task execution. They can also improve customer experience by personalizing product recommendations, providing prompt responses, and improving customer engagement.\\n'}}}, {'function_response': {'id': 'adk-13b85a22-8bb0-4a47-83a8-480c41555ad9', 'name': 'simple_search_agent', 'response': {'result': \"AI agent technologies, while promising, have several limitations:\\n\\n**1. Technical Limitations:**\\n\\n*   **Errors and Malfunctions:** AI agents are prone to errors, especially when encountering new situations or data they haven't been trained on.\\n*   **Security Issues:** They can be vulnerable to cyberattacks, and their autonomous nature raises concerns about potential misuse.\\n*   **Dependence on Data:** AI agents heavily rely on large datasets for training. Poor quality or biased data can lead to flawed and discriminatory outcomes.\\n*   **Integration Complexities:** Integrating AI agents into existing systems can be challenging, requiring customization, resources, and expertise.\\n*   **Lack of True Creativity:** AI agents can generate content but lack genuine creativity, intuition, and abstract thinking.\\n\\n**2. Ethical Concerns:**\\n\\n*   **Bias and Fairness:** AI agents can perpetuate and amplify biases present in the data they are trained on, leading to unfair or discriminatory outcomes.\\n*   **Accountability:** It's difficult to assign accountability for the actions of AI agents, especially when they make errors or cause harm.\\n*   **Privacy and Data Protection:** AI agents require vast amounts of personal data, raising concerns about privacy and security.\\n*   **Transparency:** Lack of transparency in how AI agents make decisions can create trust issues.\\n\\n**3. Limitations in Decision-Making and Understanding:**\\n\\n*   **Autonomous Decision-Making:** AI agents struggle to make truly autonomous decisions and often rely on pre-programmed rules or narrow datasets.\\n*   **Contextual Understanding:** AI agents may struggle with nuanced conversations, cultural sensitivities, and sarcasm.\\n*   **Emotional Intelligence:** They lack emotional intelligence and empathy, which are crucial in situations requiring human judgment.\\n*   **Reasoning Skills:** Many agents lack the reasoning skills needed to adapt to changing circumstances.\\n\\n**4. Challenges in Multi-Agent Collaboration:**\\n\\n*   **Communication:** Communication between agents can be limited, leading to misunderstandings or conflicting actions.\\n*   **Trust and Reliability:** It's hard for agents to gauge if they can depend on each other's inputs or actions.\\n*   **Balancing Goals:** Agents may prioritize their own tasks over the needs of the larger system.\\n\\n**5. Socioeconomic Risks:**\\n\\n*   **Job Displacement:** The automation potential of AI agents raises concerns about job displacement and the need for workforce adaptation.\\n*   **Over-Reliance and Disempowerment:** Over-dependence on AI agents could lead to a decline in human skills and critical thinking.\\n\\n**6. Need for Oversight and Training**\\n\\n*   **Human Oversight**: AI agents require monitoring and fine-tuning to remain effective.\\n*   **Training**: AI agents require a great deal of training, and they might still take a long time to complete tasks.\\n\\nTo mitigate these limitations, it's crucial to implement strategies such as:\\n\\n*   Improving the transparency of AI agents.\\n*   Establishing clear ethical guidelines.\\n*   Prioritizing data governance and cybersecurity.\\n*   Maintaining human oversight.\\n\"}}}], 'role': 'user'}, 'invocation_id': 'vqWJwmBY', 'author': 'research_agent', 'actions': {'state_delta': {}, 'artifact_delta': {}, 'requested_auth_configs': {}}, 'id': 'MhfyNhfT', 'timestamp': 1748878899.126696}\n"
          ]
        },
        {
          "output_type": "stream",
          "name": "stderr",
          "text": [
            "WARNING:google_genai.types:Warning: there are non-text parts in the response: ['function_call'], returning concatenated text result from text parts. Check the full candidates.content.parts accessor to get the full model response.\n"
          ]
        },
        {
          "output_type": "stream",
          "name": "stdout",
          "text": [
            "{'content': {'parts': [{'text': '*   **What are the historical trends of automation and technological advancements and their effects on employment?**\\n'}, {'function_call': {'id': 'adk-2d8a652a-65eb-46a6-976f-5641c64d6304', 'args': {'request': 'historical trends of automation and technological advancements effects on employment'}, 'name': 'simple_search_agent'}}], 'role': 'model'}, 'usage_metadata': {'candidates_token_count': 37, 'candidates_tokens_details': [{'modality': <MediaModality.TEXT: 'TEXT'>, 'token_count': 37}], 'prompt_token_count': 3222, 'prompt_tokens_details': [{'modality': <MediaModality.TEXT: 'TEXT'>, 'token_count': 3222}], 'total_token_count': 3259, 'traffic_type': <TrafficType.ON_DEMAND: 'ON_DEMAND'>}, 'invocation_id': 'e-54988485-7b90-4f04-82eb-3d004a64995e', 'author': 'research_agent', 'actions': {'state_delta': {}, 'artifact_delta': {}, 'requested_auth_configs': {}}, 'long_running_tool_ids': set(), 'id': 'XXh3nAWS', 'timestamp': 1748878904.960741}\n"
          ]
        },
        {
          "output_type": "stream",
          "name": "stderr",
          "text": [
            "WARNING:opentelemetry.sdk.trace.export:Already shutdown, dropping span.\n",
            "WARNING:opentelemetry.sdk.trace.export:Already shutdown, dropping span.\n",
            "WARNING:opentelemetry.sdk.trace.export:Already shutdown, dropping span.\n",
            "WARNING:opentelemetry.sdk.trace.export:Already shutdown, dropping span.\n",
            "WARNING:opentelemetry.sdk.trace.export:Already shutdown, dropping span.\n",
            "WARNING:opentelemetry.sdk.trace.export:Already shutdown, dropping span.\n"
          ]
        },
        {
          "output_type": "stream",
          "name": "stdout",
          "text": [
            "{'content': {'parts': [{'function_response': {'id': 'adk-2d8a652a-65eb-46a6-976f-5641c64d6304', 'name': 'simple_search_agent', 'response': {'result': 'The historical trends of automation and technological advancements have had a complex and multifaceted effect on employment, characterized by both job displacement and job creation. Here\\'s a breakdown of these trends: \\n\\n **1. Job Displacement** \\n\\n *   **Automation of tasks**: AI and automation can perform various tasks previously done by humans, leading to job displacement and a widening skills gap. For example, self-service checkout machines and AI-powered robots in factories are replacing human workers. \\n *   **Reduced demand for low-skill jobs**: Technological advancements reduce the need for low-skill jobs while increasing the demand for high-skill jobs. Workers displaced from low-skill jobs may face challenges like unemployment, wage decline, and difficulty in finding new jobs. \\n *   **\"Skill-biased technological change\"**: Technological advancements can reduce the demand for labor, particularly for low-skilled workers. \\n *   **Impact on manufacturing**:  Much of the decline in manufacturing employment is due to automation.  A study found that automation accounted for 87% of job losses in manufacturing from 2000 to 2010, while globalization and trade accounted for 13%. \\n\\n **2. Job Creation** \\n\\n *   **New industries and jobs**: Technology has enabled the emergence of new industries and jobs. Many people have shifted to employment in areas like software development, data analysis, and AI prompt engineering. \\n *   **Technology creates new tasks**: Technical innovations also lead to new jobs. \\n *   **Increased productivity and economic growth**: Technological change can create a \"virtuous circle\" that leads to new jobs, productivity and competitiveness gains, and economic growth. \\n\\n **3. Transformations in the Nature of Work** \\n\\n *   **Changes in job roles**: Automation can change job content. For example, the rise of ATMs led to bank tellers focusing more on customer service and relationship management. \\n *   **Increased demand for high-order cognitive skills**: The increasing use of technology creates a higher demand for uniquely human skills gained through experience. \\n *   **Job quality improvement**: Work can become less routine, repetitive, and tedious. \\n\\n **4. Historical Examples** \\n\\n *   **Industrial Revolution**: Innovations like steam and electric engines automated tasks requiring physical strength. \\n *   **Information Technology Revolution**: Computers automated analytical tasks that followed explicit rules. \\n *   **Agriculture**:  Automation augmented farmers\\' productivity but led to a decline in the share of agricultural jobs. New jobs were created in the manufacturing industry. \\n *   **Financial Industry**: The rise of ATMs led to an increase in bank teller jobs as their roles shifted to relationship management. \\n\\n **5. The Role of AI** \\n\\n *   **AI\\'s impact on jobs**: AI can free up time for workers to complete other tasks and potentially lead to wage increases. \\n *   **AI vs. Past Automation Waves**: AI can automate tasks that do not follow explicit rules and are learned through experience and intuition. \\n\\n **6. Overall Impact** \\n\\n *   **Job polarization**: Technology trends have widened the wage gap, with highly educated professionals more likely to work in new fields. \\n *   **Net job losses**: From 1980 to the present, technology has replaced more U.S. jobs than it has generated. \\n *   **Mixed outlook for the future**:  The World Economic Forum’s 2023 Future of Jobs report predicts that 83 million jobs will be destroyed versus 69 million created in the next five years.\\n'}}}], 'role': 'user'}, 'invocation_id': 'e-54988485-7b90-4f04-82eb-3d004a64995e', 'author': 'research_agent', 'actions': {'state_delta': {}, 'artifact_delta': {}, 'requested_auth_configs': {}}, 'id': 'nKVUBJFt', 'timestamp': 1748878913.021422}\n"
          ]
        },
        {
          "output_type": "stream",
          "name": "stderr",
          "text": [
            "WARNING:google_genai.types:Warning: there are non-text parts in the response: ['function_call'], returning concatenated text result from text parts. Check the full candidates.content.parts accessor to get the full model response.\n"
          ]
        },
        {
          "output_type": "stream",
          "name": "stdout",
          "text": [
            "{'content': {'parts': [{'text': '**In-Depth Analysis**\\n\\n*   **How are AI Agents currently being implemented in various industries and sectors?**\\n'}, {'function_call': {'id': 'adk-54adca84-4e06-452a-9393-6d27754466e7', 'args': {'request': 'AI Agents implementation in industries and sectors'}, 'name': 'simple_search_agent'}}], 'role': 'model'}, 'usage_metadata': {'candidates_token_count': 38, 'candidates_tokens_details': [{'modality': <MediaModality.TEXT: 'TEXT'>, 'token_count': 38}], 'prompt_token_count': 4007, 'prompt_tokens_details': [{'modality': <MediaModality.TEXT: 'TEXT'>, 'token_count': 4007}], 'total_token_count': 4045, 'traffic_type': <TrafficType.ON_DEMAND: 'ON_DEMAND'>}, 'invocation_id': 'e-54988485-7b90-4f04-82eb-3d004a64995e', 'author': 'research_agent', 'actions': {'state_delta': {}, 'artifact_delta': {}, 'requested_auth_configs': {}}, 'long_running_tool_ids': set(), 'id': 'xmZBZTCb', 'timestamp': 1748878913.025246}\n"
          ]
        },
        {
          "output_type": "stream",
          "name": "stderr",
          "text": [
            "WARNING:opentelemetry.sdk.trace.export:Already shutdown, dropping span.\n",
            "WARNING:opentelemetry.sdk.trace.export:Already shutdown, dropping span.\n",
            "WARNING:opentelemetry.sdk.trace.export:Already shutdown, dropping span.\n",
            "WARNING:opentelemetry.sdk.trace.export:Already shutdown, dropping span.\n",
            "WARNING:opentelemetry.sdk.trace.export:Already shutdown, dropping span.\n",
            "WARNING:opentelemetry.sdk.trace.export:Already shutdown, dropping span.\n"
          ]
        },
        {
          "output_type": "stream",
          "name": "stdout",
          "text": [
            "{'content': {'parts': [{'function_response': {'id': 'adk-54adca84-4e06-452a-9393-6d27754466e7', 'name': 'simple_search_agent', 'response': {'result': \"AI agents are being implemented across various industries and sectors, transforming operations, enhancing decision-making, and improving customer experiences. Here's a breakdown of AI agent implementation in different areas:\\n\\n**1. Business Impact and Use Cases**\\n\\n*   **Automation of Standardized Processes**: AI agents can handle repetitive tasks with accuracy and speed, reducing human error and freeing employees for higher-value work.\\n*   **Collaboration with Humans**: AI agents act as intelligent collaborators, enhancing human teams by providing actionable insights, supporting decision-making, and executing tasks that augment human expertise.\\n*   **Data Insights**: AI agents analyze and synthesize information at a scale that human teams cannot match, identifying patterns and delivering insights that drive strategic decisions.\\n*   **Marketing**: AI agents are used to create blog posts, reducing costs and improving speed. One company reduced costs by 95% and improved speed by 50x.\\n*   **Customer Service**: AI-driven chatbots and virtual assistants manage high volumes of customer requests, offering instant answers without human intervention.\\n*   **Supply Chain Management**: AI agents monitor real-time inventory, predict stock shortages, and reorder products automatically.\\n*   **Financial Analysis and Fraud Detection**: AI-powered tools monitor transactions, detect fraudulent activity, and provide real-time financial insights.\\n*   **Predictive Maintenance**: AI-driven systems predict machine failures, schedule maintenance, and reduce operational downtime in factories.\\n*   **Human Resources**: AI agents help HR teams scale critical processes, such as onboarding and internal mobility, while enhancing the employee experience. They can also resolve common employee questions and recommend personalized career opportunities.\\n\\n**2. Industries and Sectors**\\n\\n*   **Retail and E-commerce**: AI agents assist with supply chain management, inventory tracking, personalized customer recommendations, and adaptive advertising.\\n*   **Finance**: AI agents are used for risk assessment, fraud detection, and financial insights.\\n*   **Healthcare and Life Sciences**: AI agents can improve logistics, optimize workflows, and assist in decision-making.\\n*   **Higher Education**: AI agents are being implemented.\\n*   **Manufacturing**: AI agents are used for predictive maintenance.\\n*   **Public Sector**: AI agents can transform how governments operate to better meet societal problems.\\n\\n**3. Key Capabilities of AI Agents**\\n\\n*   **Data-Driven Decision-Making**: AI agents analyze structured and unstructured data to provide real-time insights, predict trends, and support informed decision-making.\\n*   **Process Automation**: AI agents handle repetitive tasks, freeing up employees for high-value work.\\n*   **Personalized Interactions**: AI agents tailor conversations based on user history, behavior, and preferences.\\n*   **Adaptability**: AI agents can update their plans in real time as things change, making them more adaptable to process change and edge cases.\\n\\n**4. Components of AI Agents**\\n\\n*   **Agent-Centric Interfaces**: Protocols and APIs connect agents to users, databases, sensors, and other systems, allowing them to observe their environment.\\n*   **Memory Module**: Includes short-term memory for recent events and immediate context, as well as long-term memory for factual knowledge and past conversations.\\n*   **Profile Module**: Defines the agent's attributes.\\n\\n**5. The Future of AI Agents**\\n\\n*   AI agents are expected to become more intelligent, interconnected, and autonomous.\\n*   Businesses are rapidly integrating AI-driven automation into workflows.\\n*   AI agents will be onboarded like human workers, learning roles and responsibilities and integrating into workflows.\\n*   Supervising AI agents will become a core skill.\\n*   The market for AI agents is expected to grow significantly in the coming years.\\n\\n**6. Challenges and Considerations**\\n\\n*   **High Costs**: Scaling AI projects can be expensive.\\n*   **Unpredictability of Large Language Models (LLMs)**: Businesses are realizing that LLMs alone are not enough and are turning to AI agents to execute workflows.\\n*   **Ethical Standards**: Ensuring agents achieve their objectives and uphold standards of privacy, fairness, and ethical use is crucial.\\n\\nIn conclusion, AI agents are being implemented across various industries to automate tasks, improve decision-making, and enhance customer experiences. As AI technology evolves, AI agents will become even more prevalent and integrated into business operations.\\n\"}}}], 'role': 'user'}, 'invocation_id': 'e-54988485-7b90-4f04-82eb-3d004a64995e', 'author': 'research_agent', 'actions': {'state_delta': {}, 'artifact_delta': {}, 'requested_auth_configs': {}}, 'id': 'HwbpINoe', 'timestamp': 1748878921.679911}\n"
          ]
        },
        {
          "output_type": "stream",
          "name": "stderr",
          "text": [
            "WARNING:google_genai.types:Warning: there are non-text parts in the response: ['function_call', 'function_call'], returning concatenated text result from text parts. Check the full candidates.content.parts accessor to get the full model response.\n"
          ]
        },
        {
          "output_type": "stream",
          "name": "stdout",
          "text": [
            "{'content': {'parts': [{'text': '*   **What specific job roles and tasks are most susceptible to being augmented or replaced by AI Agents?**\\n'}, {'function_call': {'id': 'adk-6b45c28d-795f-4b7d-91d4-3954bf519a1b', 'args': {'request': 'job roles replaced by AI Agents'}, 'name': 'simple_search_agent'}}, {'function_call': {'id': 'adk-87b4c098-d48d-4554-830e-d81b0fadf5e6', 'args': {'request': 'tasks replaced by AI Agents'}, 'name': 'simple_search_agent'}}], 'role': 'model'}, 'usage_metadata': {'candidates_token_count': 46, 'candidates_tokens_details': [{'modality': <MediaModality.TEXT: 'TEXT'>, 'token_count': 46}], 'prompt_token_count': 4951, 'prompt_tokens_details': [{'modality': <MediaModality.TEXT: 'TEXT'>, 'token_count': 4951}], 'total_token_count': 4997, 'traffic_type': <TrafficType.ON_DEMAND: 'ON_DEMAND'>}, 'invocation_id': 'e-54988485-7b90-4f04-82eb-3d004a64995e', 'author': 'research_agent', 'actions': {'state_delta': {}, 'artifact_delta': {}, 'requested_auth_configs': {}}, 'long_running_tool_ids': set(), 'id': '5WezM9PO', 'timestamp': 1748878921.684268}\n"
          ]
        },
        {
          "output_type": "stream",
          "name": "stderr",
          "text": [
            "WARNING:opentelemetry.sdk.trace.export:Already shutdown, dropping span.\n",
            "WARNING:opentelemetry.sdk.trace.export:Already shutdown, dropping span.\n",
            "WARNING:opentelemetry.sdk.trace.export:Already shutdown, dropping span.\n",
            "WARNING:opentelemetry.sdk.trace.export:Already shutdown, dropping span.\n",
            "WARNING:opentelemetry.sdk.trace.export:Already shutdown, dropping span.\n",
            "WARNING:opentelemetry.sdk.trace.export:Already shutdown, dropping span.\n",
            "WARNING:opentelemetry.sdk.trace.export:Already shutdown, dropping span.\n",
            "WARNING:opentelemetry.sdk.trace.export:Already shutdown, dropping span.\n",
            "WARNING:opentelemetry.sdk.trace.export:Already shutdown, dropping span.\n",
            "WARNING:opentelemetry.sdk.trace.export:Already shutdown, dropping span.\n",
            "WARNING:opentelemetry.sdk.trace.export:Already shutdown, dropping span.\n",
            "WARNING:opentelemetry.sdk.trace.export:Already shutdown, dropping span.\n"
          ]
        },
        {
          "output_type": "stream",
          "name": "stdout",
          "text": [
            "{'content': {'parts': [{'function_response': {'id': 'adk-6b45c28d-795f-4b7d-91d4-3954bf519a1b', 'name': 'simple_search_agent', 'response': {'result': \"Based on the search results, here are some job roles that are likely to be replaced or significantly impacted by AI agents:\\n\\n*   **Data Entry Clerks:** AI can automate tedious and structured data processing tasks quickly and with minimal errors.\\n*   **Telemarketers:** AI-powered systems can handle many telemarketing tasks.\\n*   **Receptionists:** AI can perform scheduling, and other receptionist duties.\\n*   **Customer Service Representatives:** AI chatbots can manage routine customer inquiries.\\n*   **Bookkeeping Clerks:** AI can automate bookkeeping tasks.\\n*   **Retail Cashiers:** Self-checkout systems and automation are replacing cashiers.\\n*   **Manufacturing Workers**: Automation is replacing manual labor on production lines.\\n*   **Bank Tellers:** Online banking and mobile apps are reducing the need for bank tellers.\\n*   **Proofreaders:** AI tools can assist with proofreading tasks.\\n*   **Postal Service Clerks:** Automated sorting systems are replacing these roles.\\n*   **Administrative Assistants and Executive Secretaries:** AI-powered scheduling and productivity apps can handle tasks previously done by these roles.\\n*   **Financial analysts and advisors**: AI is increasingly capable of data analysis and financial modeling.\\n*   **Legal assistants and paralegals**: AI tools can automate document analysis and legal research.\\n\\nIt's important to note that many sources suggest that while AI will displace some jobs, it will also create new opportunities in fields like AI development, data science, and human-AI collaboration.\\n\"}}}, {'function_response': {'id': 'adk-87b4c098-d48d-4554-830e-d81b0fadf5e6', 'name': 'simple_search_agent', 'response': {'result': \"AI agents are increasingly taking over various tasks, primarily those that are repetitive and administrative in nature. Here's a breakdown of how AI agents are impacting different areas:\\n\\n**1. General Office and Administrative Tasks:**\\n\\n*   **Automation of Repetitive Tasks:** AI agents are designed to handle rule-based, repetitive functions based on observed behavior and data patterns.\\n*   **Specific Examples:** This includes tasks like data collection, document verification, compliance support, internal reporting, and process documentation.\\n*   **Freeing Up Human Workers:** By taking over these tasks, AI agents allow skilled workers to focus on decision-making, creativity, and strategy.\\n\\n**2. Recruitment and HR:**\\n\\n*   **Automating Hiring Processes:** AI agents are being used to automate tasks such as CV screening, interview scheduling, and candidate communication.\\n*   **Improved Efficiency:** This helps streamline the recruitment process, improve candidate experience, and reduce time-to-hire.\\n*   **Reducing Errors and Bias:** AI can reduce human error and unconscious bias in shortlisting applicants.\\n\\n**3. Customer Service:**\\n\\n*   **Handling Common Queries:** AI chatbots are capable of handling a large percentage of routine customer inquiries.\\n*   **24/7 Availability:** AI agents can provide round-the-clock support without fatigue.\\n*   **Personalized Experiences:** AI agents can track customer behavior, segment leads, and suggest personalized campaigns.\\n\\n**4. Marketing:**\\n\\n*   **Automated Marketing Tasks:** AI agents can assist with tasks such as tracking customer behavior, segmenting leads, and generating emails.\\n*   **Focus on Strategy:** This allows marketing teams to focus on creative strategies instead of manual data crunching.\\n\\n**5. Impact on Jobs:**\\n\\n*   **Reshaping Work:** AI agents are not necessarily replacing jobs entirely but are reshaping how people work.\\n*   **Shifting Roles:** As AI takes over routine tasks, human workers can focus on higher-value activities requiring judgment, innovation, and empathy.\\n*   **Increased Value of Human Skills:** Skills such as emotional intelligence, leadership, and complex problem-solving become more valuable.\\n\\n**Overall Benefits of AI Agent Implementation:**\\n\\n*   **Increased Speed and Efficiency:** AI agents can perform tasks more quickly and efficiently than humans.\\n*   **Reduced Operational Costs:** Automation can lead to lower operational costs for businesses.\\n*   **Scalability:** AI-driven processes can be easily scaled to meet changing business needs.\\n*   **Smarter Decision-Making:** AI can provide real-time data and insights for better decision-making.\\n\"}}}], 'role': 'user'}, 'invocation_id': 'az7xElyY', 'author': 'research_agent', 'actions': {'state_delta': {}, 'artifact_delta': {}, 'requested_auth_configs': {}}, 'id': 'A6tn7HQb', 'timestamp': 1748878926.475874}\n"
          ]
        },
        {
          "output_type": "stream",
          "name": "stderr",
          "text": [
            "WARNING:google_genai.types:Warning: there are non-text parts in the response: ['function_call'], returning concatenated text result from text parts. Check the full candidates.content.parts accessor to get the full model response.\n"
          ]
        },
        {
          "output_type": "stream",
          "name": "stdout",
          "text": [
            "{'content': {'parts': [{'text': '*   **What are the observed effects of AI Agent implementation on employment levels, both positive (job creation) and negative (job displacement)?**\\n'}, {'function_call': {'id': 'adk-83795c86-d928-464e-be18-63eb646f93f0', 'args': {'request': 'effects of AI Agent implementation on employment levels'}, 'name': 'simple_search_agent'}}], 'role': 'model'}, 'usage_metadata': {'candidates_token_count': 44, 'candidates_tokens_details': [{'modality': <MediaModality.TEXT: 'TEXT'>, 'token_count': 44}], 'prompt_token_count': 5858, 'prompt_tokens_details': [{'modality': <MediaModality.TEXT: 'TEXT'>, 'token_count': 5858}], 'total_token_count': 5902, 'traffic_type': <TrafficType.ON_DEMAND: 'ON_DEMAND'>}, 'invocation_id': 'e-54988485-7b90-4f04-82eb-3d004a64995e', 'author': 'research_agent', 'actions': {'state_delta': {}, 'artifact_delta': {}, 'requested_auth_configs': {}}, 'long_running_tool_ids': set(), 'id': 'EqGCGbgn', 'timestamp': 1748878931.446227}\n"
          ]
        },
        {
          "output_type": "stream",
          "name": "stderr",
          "text": [
            "WARNING:opentelemetry.sdk.trace.export:Already shutdown, dropping span.\n",
            "WARNING:opentelemetry.sdk.trace.export:Already shutdown, dropping span.\n",
            "WARNING:opentelemetry.sdk.trace.export:Already shutdown, dropping span.\n",
            "WARNING:opentelemetry.sdk.trace.export:Already shutdown, dropping span.\n",
            "WARNING:opentelemetry.sdk.trace.export:Already shutdown, dropping span.\n",
            "WARNING:opentelemetry.sdk.trace.export:Already shutdown, dropping span.\n"
          ]
        },
        {
          "output_type": "stream",
          "name": "stdout",
          "text": [
            "{'content': {'parts': [{'function_response': {'id': 'adk-83795c86-d928-464e-be18-63eb646f93f0', 'name': 'simple_search_agent', 'response': {'result': \"The implementation of AI agents is expected to have a multifaceted impact on employment levels. Here's a breakdown of the potential effects:\\n\\n**1. Job Displacement:**\\n\\n*   **Automation of tasks:** AI agents are capable of automating repetitive and routine tasks, leading to job displacement in various industries. Tasks such as data entry, data processing, customer support and administrative duties are increasingly being automated.\\n*   **Specific job roles at risk:** Roles such as data entry clerks, administrative assistants, and those involving highly structured tasks are particularly vulnerable to automation.\\n*   **Layoff announcements:** Some companies have already announced layoffs attributed to AI integration. For example, Microsoft and IBM have had layoffs this year.\\n\\n**2. Job Creation:**\\n\\n*   **Emergence of new roles:** AI is also driving the creation of new job roles, such as AI trainers, data analysts, AI maintenance professionals, AI ethicists, AI agent developers, and AI system auditors.\\n*   **Increased demand for AI-related skills:** There is a growing demand for workers skilled in AI system design, data analysis, and AI programming.\\n*   **New opportunities in creative fields:** AI is also creating opportunities for innovators who can harness AI tools for impactful campaigns, dynamic content, and personalized user experiences.\\n\\n**3. Job Transformation/Evolution:**\\n\\n*   **Focus on higher-value work:** By automating mundane and repetitive tasks, AI agents can free up skilled workers to focus on decision-making, creativity, and strategy.\\n*   **Collaboration between humans and AI:** The future of work involves collaboration between humans and AI agents, with AI handling routine processes and humans focusing on emotional intelligence, critical thinking, and innovation.\\n*   **Need for adaptability and AI literacy:** Employees need to embrace adaptability and AI literacy to remain competitive in an evolving workforce where collaboration with AI tools becomes the norm. The World Economic Forum's Future of Jobs Report 2025 indicates that employers expect 39% of key skills required in the job market will change by 2030, with technological skills leading the way.\\n\\n**4. Overall Impact:**\\n\\n*   **Potential net job gain:** Projections suggest that AI could displace millions of jobs but create even more new ones.\\n*   **Increased productivity:** AI agents can unlock latent productivity by automating tasks and improving efficiency.\\n*   **Economic Growth:** Agentic AI could add trillions annually to the global GDP by 2030.\\n*   **Concerns about job displacement and inequality:** The shift towards AI-driven automation raises concerns about job displacement, inequality, and social unrest.\\n\\n**Predictions and Concerns**\\n\\n*   Some experts predict a significant percentage of work hours could be automated.\\n*   There are concerns that AI could eliminate a substantial portion of entry-level white-collar jobs.\\n*   Bias in AI systems and the need for transparency in AI decision-making are ethical considerations.\\n*   AI is literally eating jobs and the data is concerning, with hundreds of people losing their jobs to AI every single day.\\n\\nIt's important to note that different reports and analyses offer varying perspectives on the extent of job displacement and creation. While some studies suggest a net positive impact on employment, others caution about potential job losses and the need for proactive measures to support displaced workers and promote skills development.\\n\"}}}], 'role': 'user'}, 'invocation_id': 'e-54988485-7b90-4f04-82eb-3d004a64995e', 'author': 'research_agent', 'actions': {'state_delta': {}, 'artifact_delta': {}, 'requested_auth_configs': {}}, 'id': 'WoLcYTEw', 'timestamp': 1748878939.126261}\n"
          ]
        },
        {
          "output_type": "stream",
          "name": "stderr",
          "text": [
            "WARNING:google_genai.types:Warning: there are non-text parts in the response: ['function_call'], returning concatenated text result from text parts. Check the full candidates.content.parts accessor to get the full model response.\n"
          ]
        },
        {
          "output_type": "stream",
          "name": "stdout",
          "text": [
            "{'content': {'parts': [{'text': '*   **How is the introduction of AI Agents affecting the skill requirements for various jobs?**\\n'}, {'function_call': {'id': 'adk-7df7f8bd-d6bf-4f6c-838c-96fb0804f946', 'args': {'request': 'How is AI affecting skill requirements for jobs?'}, 'name': 'simple_search_agent'}}], 'role': 'model'}, 'usage_metadata': {'candidates_token_count': 35, 'candidates_tokens_details': [{'modality': <MediaModality.TEXT: 'TEXT'>, 'token_count': 35}], 'prompt_token_count': 6595, 'prompt_tokens_details': [{'modality': <MediaModality.TEXT: 'TEXT'>, 'token_count': 6595}], 'total_token_count': 6630, 'traffic_type': <TrafficType.ON_DEMAND: 'ON_DEMAND'>}, 'invocation_id': 'e-54988485-7b90-4f04-82eb-3d004a64995e', 'author': 'research_agent', 'actions': {'state_delta': {}, 'artifact_delta': {}, 'requested_auth_configs': {}}, 'long_running_tool_ids': set(), 'id': 'tuUUMA6s', 'timestamp': 1748878939.131094}\n"
          ]
        },
        {
          "output_type": "stream",
          "name": "stderr",
          "text": [
            "WARNING:opentelemetry.sdk.trace.export:Already shutdown, dropping span.\n",
            "WARNING:opentelemetry.sdk.trace.export:Already shutdown, dropping span.\n",
            "WARNING:opentelemetry.sdk.trace.export:Already shutdown, dropping span.\n",
            "WARNING:opentelemetry.sdk.trace.export:Already shutdown, dropping span.\n",
            "WARNING:opentelemetry.sdk.trace.export:Already shutdown, dropping span.\n",
            "WARNING:opentelemetry.sdk.trace.export:Already shutdown, dropping span.\n"
          ]
        },
        {
          "output_type": "stream",
          "name": "stdout",
          "text": [
            "{'content': {'parts': [{'function_response': {'id': 'adk-7df7f8bd-d6bf-4f6c-838c-96fb0804f946', 'name': 'simple_search_agent', 'response': {'result': \"AI is significantly changing the skill requirements for jobs across various industries. Here's a breakdown of how AI is impacting the job market:\\n\\n**1. Automation of Routine Tasks:**\\n\\n*   AI is automating many routine and repetitive tasks, which frees up workers to focus on more complex, creative, and strategic work.\\n*   This automation leads to increased efficiency and productivity in the workplace.\\n\\n**2. Creation of New Job Roles:**\\n\\n*   AI is creating new job roles that require a combination of technical and human skills.\\n*   Examples of emerging roles include: AI Ethics Specialists, Data Scientists, Machine Learning Engineers, Robotics Process Automation (RPA) Developers, AI Product Managers, and AI Trainers.\\n\\n**3. Shift in Skill Requirements:**\\n\\n*   Traditional skill sets are being supplemented with AI-specific proficiencies.\\n*   New jobs demand a deep understanding of AI algorithms and technologies, as well as expertise in programming, data analysis, and domain-specific knowledge.\\n*   Programming skills now include languages like Python and R, which are widely used in AI development.\\n*   Data analysis now encompasses proficiency in data preprocessing, feature engineering, and algorithm selection for machine learning models.\\n\\n**4. Increased Emphasis on Human Skills:**\\n\\n*   While technical skills are increasingly important, human qualities such as empathy, critical thinking, creativity, and emotional intelligence remain vital.\\n*   There is a growing demand for social and emotional skills, such as communication, collaboration, and understanding of mutual needs, to effectively collaborate with AI systems.\\n\\n**5. AI Literacy and Adaptability:**\\n\\n*   Skill requirements for traditional roles are evolving, with a growing emphasis on AI literacy and the ability to collaborate with AI systems.\\n*   The workforce will need to be adaptable and committed to lifelong learning to stay ready for changes in technology and job requirements.\\n\\n**6. Impact on Specific Industries:**\\n\\n*   In manufacturing, workers need to acquire new skills to operate and maintain machines and robots that are taking over manual tasks.\\n*   Marketing professionals now require skills in AI-driven data analysis tools to glean insights from consumer behavior patterns.\\n*   In healthcare, AI is being used to assist doctors and nurses with diagnosis and treatment recommendations, improving patient outcomes and reducing the workload of healthcare professionals.\\n\\n**7. Continuous Learning and Adaptation:**\\n\\n*   As AI continues to advance, it is imperative for individuals and organizations to stay adaptable and prioritize continuous learning to be prepared for the future of work.\\n*   HR managers need to support employees in developing their skills throughout their professional careers and encourage continuous learning.\\n\"}}}], 'role': 'user'}, 'invocation_id': 'e-54988485-7b90-4f04-82eb-3d004a64995e', 'author': 'research_agent', 'actions': {'state_delta': {}, 'artifact_delta': {}, 'requested_auth_configs': {}}, 'id': 'c16rCA1Z', 'timestamp': 1748878945.494495}\n"
          ]
        },
        {
          "output_type": "stream",
          "name": "stderr",
          "text": [
            "WARNING:google_genai.types:Warning: there are non-text parts in the response: ['function_call'], returning concatenated text result from text parts. Check the full candidates.content.parts accessor to get the full model response.\n"
          ]
        },
        {
          "output_type": "stream",
          "name": "stdout",
          "text": [
            "{'content': {'parts': [{'text': '*   **What are the effects of AI Agents on wages and income inequality?**\\n'}, {'function_call': {'id': 'adk-15a46298-05c5-44b5-979c-787465baaf3a', 'args': {'request': 'effects of AI Agents on wages and income inequality'}, 'name': 'simple_search_agent'}}], 'role': 'model'}, 'usage_metadata': {'candidates_token_count': 33, 'candidates_tokens_details': [{'modality': <MediaModality.TEXT: 'TEXT'>, 'token_count': 33}], 'prompt_token_count': 7169, 'prompt_tokens_details': [{'modality': <MediaModality.TEXT: 'TEXT'>, 'token_count': 7169}], 'total_token_count': 7202, 'traffic_type': <TrafficType.ON_DEMAND: 'ON_DEMAND'>}, 'invocation_id': 'e-54988485-7b90-4f04-82eb-3d004a64995e', 'author': 'research_agent', 'actions': {'state_delta': {}, 'artifact_delta': {}, 'requested_auth_configs': {}}, 'long_running_tool_ids': set(), 'id': 'abOuEJ8Z', 'timestamp': 1748878945.499332}\n"
          ]
        },
        {
          "output_type": "stream",
          "name": "stderr",
          "text": [
            "WARNING:opentelemetry.sdk.trace.export:Already shutdown, dropping span.\n",
            "WARNING:opentelemetry.sdk.trace.export:Already shutdown, dropping span.\n",
            "WARNING:opentelemetry.sdk.trace.export:Already shutdown, dropping span.\n",
            "WARNING:opentelemetry.sdk.trace.export:Already shutdown, dropping span.\n",
            "WARNING:opentelemetry.sdk.trace.export:Already shutdown, dropping span.\n",
            "WARNING:opentelemetry.sdk.trace.export:Already shutdown, dropping span.\n"
          ]
        },
        {
          "output_type": "stream",
          "name": "stdout",
          "text": [
            "{'content': {'parts': [{'function_response': {'id': 'adk-15a46298-05c5-44b5-979c-787465baaf3a', 'name': 'simple_search_agent', 'response': {'result': 'The impact of AI agents on wages and income inequality is a complex and evolving issue with varied perspectives:\\n\\n**1. Job Displacement and Creation:**\\n\\n*   **Job Losses:** AI agents are expected to displace millions of jobs globally. A Goldman Sachs report suggests AI could take away around 300 million full-time equivalent jobs by 2030. Some reports indicate that AI has already eliminated jobs in 2025. One source claims 76,440 jobs have been lost to AI in 2025 alone.\\n*   **New Job Creation:** AI is also expected to create new job opportunities, particularly in fields requiring AI-related technical skills. Approximately 69 million new jobs are expected to be created after the AI transition. Roles such as machine-learning specialists, AI maintenance professionals, AI system designers, data analysts, and AI programmers are expected to experience high growth rates.\\n*   **Job Transformation:** Approximately 23% of current jobs are expected to change by 2027 due to AI. AI is unlikely to fully replace many jobs but will alter how work is performed, signaling a future of human-AI collaboration.\\n\\n**2. Impact on Wages:**\\n\\n*   **Wage Stagnation/Decline:** Some research suggests that AI and automation technologies have contributed to wage declines, particularly among blue-collar workers. \"Algorithmic wage discrimination,\" where AI evaluations lead to pay disparities workers don\\'t understand, is also a concern.\\n*   **Minimal Impact:** A recent study in Denmark found that generative AI chatbots have had minimal impact on earnings or recorded hours across various occupations.\\n*   **Potential for Wage Growth:** If AI significantly complements human labor and productivity gains are substantial, higher growth and labor demand could compensate for job displacement, potentially increasing incomes. Also, new job tasks may boost wages if these are more high value-added tasks.\\n\\n**3. Income Inequality:**\\n\\n*   **Exacerbating Inequality:** Some sources suggest AI could worsen income inequality. AI-driven productivity boosts may initially favor high-income workers, leaving lower-wage workers behind. Continued AI advancement could shift economic returns from labor to capital, benefiting those who own AI technologies.\\n*   **Reducing Inequality:** Other research suggests AI could boost middle-class wages and help reduce inequality, particularly if lower-skilled workers within specific occupations experience greater productivity gains from AI than their higher-skilled counterparts.\\n*   **Global Inequality:** AI could widen income disparities between countries, benefiting nations with advanced AI capabilities while leaving poorer ones behind.\\n\\n**4. Skills and Adaptation:**\\n\\n*   **Need for Upskilling/Reskilling:** A key factor in mitigating negative impacts is the need for individuals, firms, and policymakers to focus on reskilling and upskilling programs.\\n*   **AI Literacy:** Employees need to embrace adaptability and AI literacy to remain competitive in an evolving workforce.\\n*   **Collaboration with AI:** Learning to collaborate effectively with AI agents is becoming essential and could future-proof careers.\\n\\n**5. Ethical Considerations:**\\n\\n*   **Transparency and Accountability:** It is essential to ensure transparency in AI decision-making processes.\\n*   **Data Privacy:** Addressing ethical concerns such as data privacy and algorithmic bias is paramount.\\n*   **Support for Displaced Workers:** Organizations have a responsibility to support workers displaced by AI.\\n\\n**6. Overall Economic Impact:**\\n\\n*   **Productivity Boost:** AI is expected to boost macro-level productivity.\\n*   **Economic Growth:** AI is likely to boost economic growth through higher productivity and the development of new products and services.\\n*   **GDP Contribution:** AI is expected to contribute significantly to the global GDP.\\n\\nIt\\'s important to note that many of these predictions and studies are based on current trends and expectations, and the actual impact of AI agents on wages and income inequality may vary depending on technological advancements, policy decisions, and societal responses.\\n'}}}], 'role': 'user'}, 'invocation_id': 'e-54988485-7b90-4f04-82eb-3d004a64995e', 'author': 'research_agent', 'actions': {'state_delta': {}, 'artifact_delta': {}, 'requested_auth_configs': {}}, 'id': '3bzR2QW8', 'timestamp': 1748878954.583249}\n"
          ]
        },
        {
          "output_type": "stream",
          "name": "stderr",
          "text": [
            "WARNING:google_genai.types:Warning: there are non-text parts in the response: ['function_call', 'function_call'], returning concatenated text result from text parts. Check the full candidates.content.parts accessor to get the full model response.\n"
          ]
        },
        {
          "output_type": "stream",
          "name": "stdout",
          "text": [
            "{'content': {'parts': [{'text': '*   **What are the psychological and sociological impacts on workers whose jobs are affected by AI Agents?**\\n'}, {'function_call': {'id': 'adk-ce5b98ad-e055-4d85-8ca8-bf2675028bc8', 'args': {'request': 'psychological impact on workers whose jobs are affected by AI Agents'}, 'name': 'simple_search_agent'}}, {'function_call': {'id': 'adk-3c690822-b969-48e4-bb27-9574ac973d94', 'args': {'request': 'sociological impact on workers whose jobs are affected by AI Agents'}, 'name': 'simple_search_agent'}}], 'role': 'model'}, 'usage_metadata': {'candidates_token_count': 57, 'candidates_tokens_details': [{'modality': <MediaModality.TEXT: 'TEXT'>, 'token_count': 57}], 'prompt_token_count': 8017, 'prompt_tokens_details': [{'modality': <MediaModality.TEXT: 'TEXT'>, 'token_count': 8017}], 'total_token_count': 8074, 'traffic_type': <TrafficType.ON_DEMAND: 'ON_DEMAND'>}, 'invocation_id': 'e-54988485-7b90-4f04-82eb-3d004a64995e', 'author': 'research_agent', 'actions': {'state_delta': {}, 'artifact_delta': {}, 'requested_auth_configs': {}}, 'long_running_tool_ids': set(), 'id': 'cBfujDku', 'timestamp': 1748878954.609241}\n"
          ]
        },
        {
          "output_type": "stream",
          "name": "stderr",
          "text": [
            "WARNING:opentelemetry.sdk.trace.export:Already shutdown, dropping span.\n",
            "WARNING:opentelemetry.sdk.trace.export:Already shutdown, dropping span.\n",
            "WARNING:opentelemetry.sdk.trace.export:Already shutdown, dropping span.\n",
            "WARNING:opentelemetry.sdk.trace.export:Already shutdown, dropping span.\n",
            "WARNING:opentelemetry.sdk.trace.export:Already shutdown, dropping span.\n",
            "WARNING:opentelemetry.sdk.trace.export:Already shutdown, dropping span.\n",
            "WARNING:opentelemetry.sdk.trace.export:Already shutdown, dropping span.\n",
            "WARNING:opentelemetry.sdk.trace.export:Already shutdown, dropping span.\n",
            "WARNING:opentelemetry.sdk.trace.export:Already shutdown, dropping span.\n",
            "WARNING:opentelemetry.sdk.trace.export:Already shutdown, dropping span.\n",
            "WARNING:opentelemetry.sdk.trace.export:Already shutdown, dropping span.\n",
            "WARNING:opentelemetry.sdk.trace.export:Already shutdown, dropping span.\n"
          ]
        },
        {
          "output_type": "stream",
          "name": "stdout",
          "text": [
            "{'content': {'parts': [{'function_response': {'id': 'adk-ce5b98ad-e055-4d85-8ca8-bf2675028bc8', 'name': 'simple_search_agent', 'response': {'result': 'The increasing presence of AI agents in the workplace has a multifaceted psychological impact on workers, encompassing both potential benefits and significant challenges. Here\\'s a breakdown of the key areas:\\n\\n**1. Anxiety and Stress:**\\n\\n*   **Job Security Concerns:** A primary concern is the fear of job displacement due to AI automation. Studies show a significant percentage of workers worry about AI making their jobs obsolete.\\n*   **Increased Stress and Burnout:** The pressure to adapt to new AI systems, learn new skills, and keep up with the rapid pace of technological change can lead to fatigue, burnout, anxiety, and increased stress levels. Surveys reveal a strong connection between \"AI anxiety\" and poor mental health, with many reporting workplace stress and burnout.\\n*   **Feelings of Inadequacy:** Employees may grapple with feelings of inadequacy and a loss of perceived value, worrying that their unique skills and contributions could be devalued in a world where AI can replicate human abilities.\\n*   **Lack of Transparency:** When companies are not transparent about their AI implementation plans, employees are more likely to feel anxious and jump to conclusions about their job security.\\n\\n**2. Impact on Mental Health:**\\n\\n*   **Negative Mental Health Effects:** Workers who are concerned about AI are more likely to report negative impacts on their mental health, including increased tension and stress during the workday.\\n*   **Depression and Hopelessness:** Prolonged unemployment or underemployment resulting from AI-related job displacement can lead to feelings of worthlessness, anxiety about the future, and depression.\\n*   **Social Isolation:** Job loss can disrupt daily routines and social networks, leading to feelings of loneliness.\\n\\n**3. Self-Esteem and Purpose:**\\n\\n*   **Reduced Self-Esteem:** The presence of AI can influence the perception of one\\'s competence and value at work, affecting self-esteem. Constant comparison with AI capabilities can undermine confidence in individual skills.\\n*   **Loss of Meaning and Purpose:** Employees may struggle with a sense of lost meaning and purpose if they feel their work is being taken over by AI.\\n\\n**4. Changes in the Work Environment:**\\n\\n*   **Weaker Team Bonds:** AI automation can reduce opportunities for collaborative work and interpersonal interaction, weakening team bonds.\\n*   **Increased Competition:** Fear of job elimination can create a scarcity mindset and cutthroat competition among coworkers.\\n\\n**5. Potential Benefits:**\\n\\n*   **Reduced Workload and Stress:** AI can automate tasks, reduce workload, and increase efficiency, which can positively impact employee mental health by reducing errors, simplifying communication, and facilitating greater work-life balance.\\n*   **Improved Job Engagement:** Workers who perform meaningful, skill-based activities facilitated by automation may experience increased job engagement and lower stress levels.\\n*   **AI for Mental Health Support:** AI-powered chatbots and personalized mental health apps can provide employees with 24/7 support, coping strategies, and personalized advice.\\n\\n**6. Strategies for Mitigation:**\\n\\n*   **Transparency and Communication:** Open communication about AI implementation plans can help alleviate anxiety and build trust.\\n*   **Training and Support:** Providing employees with adequate AI training and support can help them adapt to new technologies and feel more confident in their roles.\\n*   **Focus on Human-AI Collaboration:** Emphasizing human-AI collaboration rather than complete automation can improve employee acceptance and reduce disruption.\\n*   **Promote a Culture of Recognition and Support:** Recognizing individual achievements and providing constructive feedback can strengthen employees\\' self-esteem and sense of belonging.\\n*   **Mental Health Resources:** Companies can offer AI mental health resources and education to support employees\\' well-being.\\n*   **Employee Involvement:** Involving employees in decisions about how AI is used can improve their attitudes toward the technology and increase job satisfaction.\\n*   **Address Cognitive Saturation:** Establish clear limits on AI use and provide gradual, strategic training to prevent overexposure and cognitive overload.\\n\\nBy proactively addressing these psychological challenges and implementing supportive strategies, organizations can create healthier and more productive work environments where AI and employees can work together effectively.\\n'}}}, {'function_response': {'id': 'adk-3c690822-b969-48e4-bb27-9574ac973d94', 'name': 'simple_search_agent', 'response': {'result': 'The increasing integration of AI agents into the workplace has profound sociological impacts on workers, affecting various aspects of their professional and personal lives. These impacts can be both positive and negative, creating a complex and evolving landscape for the workforce.\\n\\n**Potential Negative Impacts:**\\n\\n*   **Job Displacement and Insecurity:**\\n\\n    *   AI-driven automation can lead to the displacement of workers, especially in roles involving routine and repetitive tasks across sectors like manufacturing, transportation, customer service, and data analysis.\\n    *   Studies suggest that millions of jobs worldwide are at risk of being displaced by AI technologies in the coming years.\\n    *   The fear of job loss can lead to anxiety, stress, and reduced job satisfaction among workers.\\n*   **Economic Inequality:**\\n\\n    *   The wealth generated by AI-driven productivity may concentrate in the hands of those who own or control AI technologies, exacerbating economic inequality.\\n    *   The labor market may become polarized, with high-paying jobs requiring advanced technical skills and low-paying, non-automatable jobs, leading to a shrinking middle class.\\n*   **Deskilling and Wage Stagnation:**\\n\\n    *   AI could automate tasks previously requiring specialized skills, potentially deskilling some roles and reducing the value of certain jobs.\\n    *   As entry-level roles decline, salary expectations may shift, with remaining hires expected to take on roles supported by AI for less money.\\n*   **Reduced Social Interaction and Mental Health:**\\n\\n    *   Increased reliance on AI may lead to reduced human interaction in the workplace, negatively impacting employee morale, well-being, and mental health.\\n    *   Some executives believe AI will result in fewer human interactions, causing stress and alienation among employees.\\n*   **Community Impact:**\\n\\n    *   Job displacement can lead to the decline of industries that sustain communities, causing social disruption and eroding the social fabric.\\n    *   Communities dependent on industries like manufacturing or retail may face economic decline and social challenges as jobs disappear.\\n\\n**Potential Positive Impacts:**\\n\\n*   **Job Creation and Transformation:**\\n\\n    *   AI is creating new job opportunities that require skills such as critical thinking, creativity, and problem-solving.\\n    *   AI is also enhancing existing jobs by improving accuracy and precision in tasks like quality control and data analysis.\\n    *   New roles are emerging in fields such as data analytics, machine learning, and AI development.\\n*   **Improved Work Quality and Work-Life Balance:**\\n\\n    *   AI can automate repetitive tasks, freeing up employees to focus on more complex and creative work.\\n    *   Increased efficiency through AI can lead to more flexible working arrangements, shorter workweeks, and opportunities to pursue fulfilling activities.\\n*   **Increased Productivity and Economic Growth:**\\n\\n    *   AI is expected to boost productivity, leading to economic growth and potentially higher wages for some workers.\\n    *   The World Economic Forum identifies productivity enhancement as a key driver for potential economic growth, with a strong correlation between AI usage in the workplace and greater productivity.\\n*   **Democratization of Access to Jobs**\\n\\n    *   AI can make it easier to build technical knowledge and skills.\\n    *   Companies could harness AI to train the next generation of senior professionals.\\n\\n**Overall Considerations:**\\n\\n*   **The Need for Upskilling and Reskilling:** To adapt to the changing job market, workers need opportunities for upskilling and reskilling in areas such as data analysis, machine learning, and AI development.\\n*   **The Importance of Ethical AI Governance:** Addressing challenges related to AI bias, workplace surveillance, and lack of transparency requires forward-thinking policies and ethical AI governance.\\n*   **The Role of Social Safety Nets:** Modernizing social safety nets is necessary to support workers displaced by automation, with concepts like universal basic income (UBI) and portable benefits gaining attention.\\n*   **The Significance of Mental Health Support:** Companies need to provide mental health support to help workers cope with job insecurity and the stress of adapting to AI-driven changes.\\n\\nBy understanding and addressing these sociological impacts, policymakers, businesses, and individuals can work together to create a future where AI benefits everyone and minimizes the negative consequences for workers.\\n'}}}], 'role': 'user'}, 'invocation_id': '9dH3Gmpt', 'author': 'research_agent', 'actions': {'state_delta': {}, 'artifact_delta': {}, 'requested_auth_configs': {}}, 'id': 'si12mUHD', 'timestamp': 1748878964.16203}\n"
          ]
        },
        {
          "output_type": "stream",
          "name": "stderr",
          "text": [
            "WARNING:google_genai.types:Warning: there are non-text parts in the response: ['function_call', 'function_call'], returning concatenated text result from text parts. Check the full candidates.content.parts accessor to get the full model response.\n"
          ]
        },
        {
          "output_type": "stream",
          "name": "stdout",
          "text": [
            "{'content': {'parts': [{'text': '**Context and Connections**\\n\\n*   **How does the impact of AI Agents on the labor market vary across different countries and economies? What are the influencing factors?**\\n'}, {'function_call': {'id': 'adk-7e6dc8fd-33bb-4cbc-b86e-f74821fda456', 'args': {'request': 'How does the impact of AI Agents on the labor market vary across different countries and economies?'}, 'name': 'simple_search_agent'}}, {'function_call': {'id': 'adk-ac3fc412-6395-414e-a36d-3f5d95afd915', 'args': {'request': 'influencing factors on AI impact across different countries and economies'}, 'name': 'simple_search_agent'}}], 'role': 'model'}, 'usage_metadata': {'candidates_token_count': 76, 'candidates_tokens_details': [{'modality': <MediaModality.TEXT: 'TEXT'>, 'token_count': 76}], 'prompt_token_count': 9793, 'prompt_tokens_details': [{'modality': <MediaModality.TEXT: 'TEXT'>, 'token_count': 9793}], 'total_token_count': 9869, 'traffic_type': <TrafficType.ON_DEMAND: 'ON_DEMAND'>}, 'invocation_id': 'e-54988485-7b90-4f04-82eb-3d004a64995e', 'author': 'research_agent', 'actions': {'state_delta': {}, 'artifact_delta': {}, 'requested_auth_configs': {}}, 'long_running_tool_ids': set(), 'id': 'SQYwE3Gy', 'timestamp': 1748878971.750896}\n"
          ]
        },
        {
          "output_type": "stream",
          "name": "stderr",
          "text": [
            "WARNING:opentelemetry.sdk.trace.export:Already shutdown, dropping span.\n",
            "WARNING:opentelemetry.sdk.trace.export:Already shutdown, dropping span.\n",
            "WARNING:opentelemetry.sdk.trace.export:Already shutdown, dropping span.\n",
            "WARNING:opentelemetry.sdk.trace.export:Already shutdown, dropping span.\n",
            "WARNING:opentelemetry.sdk.trace.export:Already shutdown, dropping span.\n",
            "WARNING:opentelemetry.sdk.trace.export:Already shutdown, dropping span.\n",
            "WARNING:opentelemetry.sdk.trace.export:Already shutdown, dropping span.\n",
            "WARNING:opentelemetry.sdk.trace.export:Already shutdown, dropping span.\n",
            "WARNING:opentelemetry.sdk.trace.export:Already shutdown, dropping span.\n",
            "WARNING:opentelemetry.sdk.trace.export:Already shutdown, dropping span.\n",
            "WARNING:opentelemetry.sdk.trace.export:Already shutdown, dropping span.\n",
            "WARNING:opentelemetry.sdk.trace.export:Already shutdown, dropping span.\n"
          ]
        },
        {
          "output_type": "stream",
          "name": "stdout",
          "text": [
            "{'content': {'parts': [{'function_response': {'id': 'adk-7e6dc8fd-33bb-4cbc-b86e-f74821fda456', 'name': 'simple_search_agent', 'response': {'result': \"The impact of AI agents on the labor market varies significantly across different countries and economies, influenced by factors like technological infrastructure, levels of development, and the types of industries prevalent in each region. Here's a breakdown of the key differences:\\n\\n**1. Level of Development and Technological Infrastructure:**\\n\\n*   **High-Income Countries:** These countries generally face a higher employment exposure to automation due to AI. This is because they often have more advanced technological infrastructure and a greater reliance on industries that can be easily automated.\\n*   **Low-Income Countries:** These countries typically have a lower risk of job displacement due to automation in the short term because they may lack the infrastructure and resources to implement AI technologies widely. However, they also risk falling behind in the long term if they do not adapt to AI-driven changes.\\n\\n**2. Economic Structure and Industry Focus:**\\n\\n*   **Manufacturing-Based Economies:** Countries heavily reliant on manufacturing may see significant job displacement in routine tasks as AI-powered automation becomes more prevalent.\\n*   **Service-Based Economies:** These economies may experience a shift in job roles, with some jobs becoming obsolete while new opportunities emerge in AI development, data analysis, and related fields.\\n\\n**3. Policy and Adaptation Strategies:**\\n\\n*   **Countries with proactive policies:** Nations that invest in education and training programs to help workers adapt to AI-driven changes in the labor market may experience a smoother transition and be able to capitalize on the new opportunities created by AI.\\n*   **Countries with slow adoption:** Those that lag in AI adoption and lack supportive policies may face challenges such as increased unemployment and income inequality.\\n\\n**4. Differing Impacts on Job Quality:**\\n\\n*   AI is expected to impact the quality of jobs, particularly in terms of work intensity and autonomy. Clerical work is particularly susceptible to automation, affecting women in middle-income countries who are overrepresented in those roles.\\n\\n**5. Regional Examples:**\\n\\n*   **Latin America and the Caribbean (LAC):** While automation exposure is relatively small (2-5% of total employment), the potential for productive transformation with generative AI is higher (8-12%). This is particularly true in education, health, and personal services.\\n\\nIn summary, the impact of AI on the labor market is not uniform. It depends on a country's economic structure, technological readiness, and policy responses. While AI poses risks such as job displacement, it also presents opportunities for economic growth and the creation of new jobs, provided that countries proactively manage its integration and invest in their workforce.\\n\"}}}, {'function_response': {'id': 'adk-ac3fc412-6395-414e-a36d-3f5d95afd915', 'name': 'simple_search_agent', 'response': {'result': \"Several factors influence the impact of AI across different countries and economies. These factors can be broadly categorized as:\\n\\n**1. Economic Factors:**\\n\\n*   **Level of Economic Development:** Advanced economies are generally better positioned to leverage AI due to their superior digital infrastructure, greater investment in AI development, and more advanced data systems. They also face greater risks and opportunities due to AI's potential impact on high-skilled jobs. Emerging markets and developing economies may face fewer immediate disruptions from AI but risk falling behind due to a lack of infrastructure and skilled workforces.\\n*   **Labor Market Structure:** Developing countries often have a higher share of employment in manual and agricultural work, which has limited exposure to AI.\\n*   **Income Inequality:** AI could exacerbate income and wealth inequality within countries. Workers who can harness AI may see increased productivity and wages, while those who cannot may fall behind.\\n\\n**2. Technological Factors:**\\n\\n*   **Digital Infrastructure:** Access to reliable electricity and internet is crucial for enabling AI adoption, particularly in rural areas.\\n*   **AI Preparedness:** The level of AI readiness, as measured by indices like the AI Preparedness Index (AIPI), which considers digital infrastructure, human capital, innovation, and regulation, significantly impacts a country's ability to adopt and benefit from AI.\\n*   **Access to Technology:** Restrictions on access to advanced technologies, such as semiconductors, can hinder AI development in some countries.\\n\\n**3. Human Capital Factors:**\\n\\n*   **Skilled Workforce:** A digitally competent workforce is essential for leveraging AI. Countries need to invest in education and training to equip their labor force with the skills needed for AI adoption.\\n*   **AI Talent:** Access to top AI talent is a key factor in frontier AI development.\\n*   **STEM Expertise:** Inclusive STEM (Science, Technology, Engineering, and Mathematics) expertise is important for smooth AI adoption.\\n\\n**4. Policy and Regulatory Factors:**\\n\\n*   **Government AI Readiness:** Government readiness for AI implementation in public services is crucial.\\n*   **Regulatory Frameworks:** Appropriate legal frameworks that promote investments in digital innovation while addressing the risks inherent in widespread AI adoption are essential.\\n*   **Ethical Considerations:** Ethical considerations, privacy, and accountability are important factors in AI governance.\\n\\n**5. Cultural Factors:**\\n\\n*   **Cultural Values:** Cultural differences shape how societies perceive and integrate AI. Individualistic cultures may view AI as a threat to autonomy, while collectivist cultures may see it as an extension of the self.\\n*   **Trust in Technology:** The level of trust in AI algorithms can vary across countries, particularly in those with high levels of corruption.\\n\\n**6. Other Factors:**\\n\\n*   **Geopolitical Scenarios:** Current geopolitical scenarios and thriving modernization make it important for countries to adopt newer technologies and digitize their economies.\\n*   **International Collaboration:** Global collaboration, ethical AI practices, and a commitment to leveraging AI for public services are necessary to ensure that AI development is inclusive and benefits all.\\n*   **Sustainability:** The power consumption of AI systems and the use of renewable energy sources in AI deployments are important considerations for environmental sustainability.\\n\\nIt's important to note that AI's impact is not uniform and will vary depending on the specific context of each country and economy.\\n\"}}}], 'role': 'user'}, 'invocation_id': 'Fe4JTNU4', 'author': 'research_agent', 'actions': {'state_delta': {}, 'artifact_delta': {}, 'requested_auth_configs': {}}, 'id': 'RWYSmIBY', 'timestamp': 1748878979.033355}\n"
          ]
        },
        {
          "output_type": "stream",
          "name": "stderr",
          "text": [
            "WARNING:google_genai.types:Warning: there are non-text parts in the response: ['function_call'], returning concatenated text result from text parts. Check the full candidates.content.parts accessor to get the full model response.\n"
          ]
        },
        {
          "output_type": "stream",
          "name": "stdout",
          "text": [
            "{'content': {'parts': [{'text': '*   **What are the ethical considerations surrounding the use of AI Agents in the workplace, such as bias, privacy, and accountability?**\\n'}, {'function_call': {'id': 'adk-f868ffa1-1722-4ea8-b401-440c09350ebb', 'args': {'request': 'ethical considerations surrounding the use of AI Agents in the workplace'}, 'name': 'simple_search_agent'}}], 'role': 'model'}, 'usage_metadata': {'candidates_token_count': 46, 'candidates_tokens_details': [{'modality': <MediaModality.TEXT: 'TEXT'>, 'token_count': 46}], 'prompt_token_count': 11077, 'prompt_tokens_details': [{'modality': <MediaModality.TEXT: 'TEXT'>, 'token_count': 11077}], 'total_token_count': 11123, 'traffic_type': <TrafficType.ON_DEMAND: 'ON_DEMAND'>}, 'invocation_id': 'e-54988485-7b90-4f04-82eb-3d004a64995e', 'author': 'research_agent', 'actions': {'state_delta': {}, 'artifact_delta': {}, 'requested_auth_configs': {}}, 'long_running_tool_ids': set(), 'id': 'FI19NGhs', 'timestamp': 1748878986.030085}\n"
          ]
        },
        {
          "output_type": "stream",
          "name": "stderr",
          "text": [
            "WARNING:opentelemetry.sdk.trace.export:Already shutdown, dropping span.\n",
            "WARNING:opentelemetry.sdk.trace.export:Already shutdown, dropping span.\n",
            "WARNING:opentelemetry.sdk.trace.export:Already shutdown, dropping span.\n",
            "WARNING:opentelemetry.sdk.trace.export:Already shutdown, dropping span.\n",
            "WARNING:opentelemetry.sdk.trace.export:Already shutdown, dropping span.\n",
            "WARNING:opentelemetry.sdk.trace.export:Already shutdown, dropping span.\n"
          ]
        },
        {
          "output_type": "stream",
          "name": "stdout",
          "text": [
            "{'content': {'parts': [{'function_response': {'id': 'adk-f868ffa1-1722-4ea8-b401-440c09350ebb', 'name': 'simple_search_agent', 'response': {'result': 'The integration of AI agents in the workplace presents a range of ethical considerations that need careful attention. These considerations span from potential job displacement and bias in AI systems to concerns about accountability, transparency, and the overall impact on human dignity and fairness.\\n\\n Here\\'s a breakdown of the key ethical considerations: \\n\\n **1. Job Displacement and the Changing Nature of Work** \\n\\n *   **The Dilemma**: AI agents can automate routine and repetitive tasks, leading to job displacement in various industries. Studies show a significant percentage of businesses planning to reduce their workforce due to automation.  While AI also creates new jobs, there\\'s concern that job losses may outpace new opportunities, especially in developing nations. \\n *   **Ethical Response**: \\n *   Prioritize ethical considerations in AI implementation. \\n *   Invest in training and reskilling programs to prepare individuals for AI integration. \\n *   Identify new job opportunities and skill requirements. \\n *   Implement regulations that protect employees. \\n\\n **2. Bias and Discrimination** \\n\\n *   **The Dilemma**: AI bias can arise from biased data used to train AI algorithms, leading to unintentional discrimination against certain groups. This can result in unfairness in hiring, promotions, performance reviews, and other workplace decisions. \\n *  **Examples of AI Bias**: \\n *   AI-powered recruitment tools rejecting candidates with resume gaps, disproportionately affecting working parents. \\n *   AI recommending promotions based on historical data favoring certain demographics. \\n *   AI assigning higher scores to employees working longer hours, penalizing those with caregiving responsibilities. \\n *   **Ethical Response**: \\n *   Use diverse and inclusive datasets to avoid bias. \\n *   Thoroughly understand the applications of AI to identify potential risks of unfairness and discrimination. \\n *   Ensure AI models are trained on data reflecting the workforce\\'s diversity. \\n *   Monitor and test AI models for biased outcomes. \\n\\n **3. Accountability and Transparency** \\n\\n *   **The Dilemma**:  AI agents can perform complex tasks independently, raising questions about who is responsible when they make mistakes or act unethically. A lack of transparency in AI decision-making processes can also erode trust. \\n *   **Ethical Response**: \\n *   Establish AI-specific governance structures. \\n *   Implement AI ethics audits. \\n *   Design AI systems for transparency. \\n *   Assign responsibility for AI actions and consequences. \\n *   Incorporate human oversight. \\n\\n **4. Privacy and Surveillance** \\n\\n *   **The Dilemma**: AI-powered surveillance technologies can monitor employee productivity, raising concerns about privacy violations and the potential for creating a \"precision economy\" where employees face constant digital scrutiny. \\n *   **Ethical Response**: \\n *   Balance privacy against productivity demands. \\n *   Implement strong moral guidelines and clear AI systems to protect privacy. \\n *   Advocate for laws and policies that protect people from possible abuses. \\n\\n **5. Human Dignity and Well-being** \\n\\n *   **The Dilemma**: Even when AI is deployed to augment human labor, employees may experience a decline in self-worth if they perceive AI agents as better at their jobs. \\n *   **Ethical Response**: \\n *  Ensure AI enhances human capabilities rather than replaces them. \\n *   Involve diverse perspectives in AI development to promote fairness and respect for human rights. \\n *   Consider the psychological consequences of AI deployment on employees. \\n\\n **6. Governance and Regulation** \\n\\n *   **The Dilemma**: The rapid advancement of AI capabilities challenges existing governance structures, and inconsistent regulations across different regions can create further complexity. \\n *   **Ethical Response**: \\n *   Develop clear AI governance policies. \\n *   Adhere to applicable laws, regulations, and ethical standards. \\n *   Support ongoing dialogue and collaboration between technology providers, businesses, policymakers, and workers. \\n\\n **7. The Need for Human Oversight** \\n\\n *   **The Dilemma**: Over-reliance on AI systems without human involvement can lead to mistakes and a lack of accountability. \\n *   **Ethical Response**: \\n *   Incorporate \"human-in-the-loop\" elements. \\n *   Ensure AI supports, rather than replaces, human judgment. \\n *   Establish policies and procedures for how AI agents and their managers will work together. \\n\\n By proactively addressing these ethical considerations, businesses can harness the power of AI agents in a way that benefits both the organization and its employees, while upholding human values and promoting a fair and equitable workplace.\\n'}}}], 'role': 'user'}, 'invocation_id': 'e-54988485-7b90-4f04-82eb-3d004a64995e', 'author': 'research_agent', 'actions': {'state_delta': {}, 'artifact_delta': {}, 'requested_auth_configs': {}}, 'id': 'iJkainKs', 'timestamp': 1748878996.520379}\n"
          ]
        },
        {
          "output_type": "stream",
          "name": "stderr",
          "text": [
            "WARNING:google_genai.types:Warning: there are non-text parts in the response: ['function_call'], returning concatenated text result from text parts. Check the full candidates.content.parts accessor to get the full model response.\n"
          ]
        },
        {
          "output_type": "stream",
          "name": "stdout",
          "text": [
            "{'content': {'parts': [{'text': '*   **What are the existing legal and regulatory frameworks governing the use of AI Agents in employment?**\\n'}, {'function_call': {'id': 'adk-9955d37e-c537-4897-aa95-df2d951534bc', 'args': {'request': 'legal and regulatory frameworks governing the use of AI Agents in employment'}, 'name': 'simple_search_agent'}}], 'role': 'model'}, 'usage_metadata': {'candidates_token_count': 40, 'candidates_tokens_details': [{'modality': <MediaModality.TEXT: 'TEXT'>, 'token_count': 40}], 'prompt_token_count': 12082, 'prompt_tokens_details': [{'modality': <MediaModality.TEXT: 'TEXT'>, 'token_count': 12082}], 'total_token_count': 12122, 'traffic_type': <TrafficType.ON_DEMAND: 'ON_DEMAND'>}, 'invocation_id': 'e-54988485-7b90-4f04-82eb-3d004a64995e', 'author': 'research_agent', 'actions': {'state_delta': {}, 'artifact_delta': {}, 'requested_auth_configs': {}}, 'long_running_tool_ids': set(), 'id': '0ESv9lKr', 'timestamp': 1748878996.525767}\n"
          ]
        },
        {
          "output_type": "stream",
          "name": "stderr",
          "text": [
            "WARNING:opentelemetry.sdk.trace.export:Already shutdown, dropping span.\n",
            "WARNING:opentelemetry.sdk.trace.export:Already shutdown, dropping span.\n",
            "WARNING:opentelemetry.sdk.trace.export:Already shutdown, dropping span.\n",
            "WARNING:opentelemetry.sdk.trace.export:Already shutdown, dropping span.\n",
            "WARNING:opentelemetry.sdk.trace.export:Already shutdown, dropping span.\n",
            "WARNING:opentelemetry.sdk.trace.export:Already shutdown, dropping span.\n"
          ]
        },
        {
          "output_type": "stream",
          "name": "stdout",
          "text": [
            "{'content': {'parts': [{'function_response': {'id': 'adk-9955d37e-c537-4897-aa95-df2d951534bc', 'name': 'simple_search_agent', 'response': {'result': \"It appears you're asking about the legal and regulatory frameworks that govern the use of AI agents in employment. Here's a breakdown of the key areas and concerns:\\n\\n**1. Current State of Regulations**\\n\\n*   **Lagging Behind:** Legal and regulatory frameworks for AI are generally behind the rapid development and adoption of the technology.\\n*   **Regulatory Vacuum:** Much of the development of AI has occurred without specific regulations in place. However, regulators are starting to catch up.\\n*   **Increasing Regulation:** There's a surge in proposed AI regulations worldwide.\\n\\n**2. Key Legal and Ethical Concerns**\\n\\n*   **Accountability and Liability:**\\n    *   It's crucial to determine who is responsible when AI agents make errors or cause harm.\\n    *   One approach is to hold the deployer of the AI system responsible, similar to how employers are liable for their employees' actions.\\n    *   Another option is to impose direct liability on AI developers or operators based on risk assessments.\\n*   **Data Privacy:**\\n    *   AI agents often require access to large amounts of data, raising concerns about data exposure and compliance with privacy regulations like GDPR and CCPA.\\n    *   Companies need to ensure AI systems comply with data protection regulations through audits, security measures, and transparent user consent frameworks.\\n*   **Bias and Discrimination:**\\n    *   AI systems can perpetuate and amplify biases present in the data they are trained on, leading to unfair or discriminatory outcomes in hiring and other employment decisions.\\n*   **Transparency and Explainability:**\\n    *   It's important to understand how AI agents make decisions to ensure fairness and accountability.\\n    *   Transparency is key for oversight and control of AI systems.\\n*   **Job Displacement:** The use of AI in employment raises concerns about potential job displacement and the need for workforce retraining and adaptation.\\n\\n**3. Emerging Regulatory Frameworks and Guidelines**\\n\\n*   **EU AI Act:** This regulation mandates transparency and human oversight for AI systems.\\n*   **AI Agent Compliance Frameworks:** These frameworks provide guidelines and tools to ensure AI agents act in accordance with legal, ethical, and organizational standards. They include:\\n    *   Defining standards based on laws and ethical principles.\\n    *   Integrating safeguards to prevent harmful behavior.\\n    *   Monitoring AI agent operations.\\n    *   Updating policies as laws and technologies evolve.\\n*   **California Consumer Privacy Act (CCPA):** The CCPA proposes regulations emphasizing cybersecurity, risk assessment, and transparency for AI.\\n\\n**4. Compliance Measures**\\n\\n*   **Know Where AI is Used:** Organizations need to identify all areas where AI is being used.\\n*   **Review Existing Regulations:** Ensure AI projects comply with existing laws like GDPR.\\n*   **Monitor Developing Legislation:** Stay informed about new and upcoming AI regulations.\\n*   **Implement Governance Frameworks:** Establish guidelines for AI development and deployment, promoting the use of unbiased data and aligning AI systems with legal and ethical requirements.\\n*   **Establish Strict Access Controls:** Implement security measures to protect data.\\n*   **Utilize Real-time Monitoring and Human Oversight:** Continuously monitor AI agent behavior and ensure human intervention when necessary.\\n\\n**5. Challenges**\\n\\n*   **Lack of a Unified Definition of AI:** The absence of a universally accepted definition of AI makes regulation and compliance difficult.\\n*   **Rapid Pace of Innovation:** The speed at which AI technology is evolving makes it challenging for regulations to keep up.\\n\\nIn summary, the legal and regulatory landscape for AI in employment is still developing. Organizations need to proactively address the legal, ethical, and security risks associated with AI agents by implementing robust compliance frameworks and staying informed about emerging regulations.\\n\"}}}], 'role': 'user'}, 'invocation_id': 'e-54988485-7b90-4f04-82eb-3d004a64995e', 'author': 'research_agent', 'actions': {'state_delta': {}, 'artifact_delta': {}, 'requested_auth_configs': {}}, 'id': 'O6JRFXjV', 'timestamp': 1748879005.049024}\n"
          ]
        },
        {
          "output_type": "stream",
          "name": "stderr",
          "text": [
            "WARNING:google_genai.types:Warning: there are non-text parts in the response: ['function_call'], returning concatenated text result from text parts. Check the full candidates.content.parts accessor to get the full model response.\n"
          ]
        },
        {
          "output_type": "stream",
          "name": "stdout",
          "text": [
            "{'content': {'parts': [{'text': '*   **How do economic factors like productivity growth, investment, and consumer demand mediate the impact of AI Agents on employment?**\\n'}, {'function_call': {'id': 'adk-ef488f5a-707d-4d8f-9815-7223cab003e3', 'args': {'request': 'How do economic factors mediate the impact of AI Agents on employment?'}, 'name': 'simple_search_agent'}}], 'role': 'model'}, 'usage_metadata': {'candidates_token_count': 46, 'candidates_tokens_details': [{'modality': <MediaModality.TEXT: 'TEXT'>, 'token_count': 46}], 'prompt_token_count': 12896, 'prompt_tokens_details': [{'modality': <MediaModality.TEXT: 'TEXT'>, 'token_count': 12896}], 'total_token_count': 12942, 'traffic_type': <TrafficType.ON_DEMAND: 'ON_DEMAND'>}, 'invocation_id': 'e-54988485-7b90-4f04-82eb-3d004a64995e', 'author': 'research_agent', 'actions': {'state_delta': {}, 'artifact_delta': {}, 'requested_auth_configs': {}}, 'long_running_tool_ids': set(), 'id': 'DoKI40jv', 'timestamp': 1748879005.054639}\n"
          ]
        },
        {
          "output_type": "stream",
          "name": "stderr",
          "text": [
            "WARNING:opentelemetry.sdk.trace.export:Already shutdown, dropping span.\n",
            "WARNING:opentelemetry.sdk.trace.export:Already shutdown, dropping span.\n",
            "WARNING:opentelemetry.sdk.trace.export:Already shutdown, dropping span.\n",
            "WARNING:opentelemetry.sdk.trace.export:Already shutdown, dropping span.\n",
            "WARNING:opentelemetry.sdk.trace.export:Already shutdown, dropping span.\n",
            "WARNING:opentelemetry.sdk.trace.export:Already shutdown, dropping span.\n"
          ]
        },
        {
          "output_type": "stream",
          "name": "stdout",
          "text": [
            "{'content': {'parts': [{'function_response': {'id': 'adk-ef488f5a-707d-4d8f-9815-7223cab003e3', 'name': 'simple_search_agent', 'response': {'result': 'Economic factors significantly mediate the impact of AI agents on employment through various channels:\\n\\n**1. Demand for Labor:**\\n\\n*   **Increased Productivity & Economic Growth:** AI can boost economic growth by making workers more productive and reducing the costs of goods and services. This increased productivity results in higher demand for labor, re-employing some displaced workers.\\n*   **New Products, Markets & Sectors:** AI can create entirely new products, markets, and sectors, leading to increased demand for workers in new roles.\\n*   **Job Displacement:** AI can automate tasks, reducing the number of workers needed for the same output.\\n\\n**2. Supply of Labor:**\\n\\n*   **Increased Dynamism:** AI can increase labor market dynamism, prompting workers to seek new jobs.\\n*   **Skills Development:** AI can boost the quality of the labor force by helping workers gain new skills.\\n\\n**3. Wages and Income Inequality:**\\n\\n*   **Wage Polarization:** Workers who can effectively use AI may see increased productivity and wages, while those who cannot may fall behind.\\n*   **Increased Inequality:** Productivity gains from AI adoption may disproportionately benefit high earners and owners of capital, potentially worsening overall inequality.\\n\\n**4. Economic Restructuring:**\\n\\n*   **Decline of Traditional Sectors:** AI may cause a decline in traditional industries.\\n*   **Rise of New High-Tech Industries:** The emergence of new high-tech industries can lead to a shift of labor between industries.\\n\\n**5. Government intervention:**\\n\\n*   **Comprehensive Social Safety Nets:** Establishing comprehensive social safety nets can protect livelihoods.\\n*   **Retraining Programs:** Offering retraining programs for vulnerable workers can help them adapt to the changing job market.\\n*   **Investment in Education:** Investment in employee development through upskilling can reduce technological exclusion.\\n\\n**6. Global economy:**\\n\\n*   **Developed vs. Emerging Economies:** Advanced economies face greater risks and opportunities from AI compared to emerging markets due to a greater impact on high-skilled jobs.\\n*   **Expansion to developing countries**: US firms are expanding business operations in India, where skilled professionals can be employed at significantly lower costs, further intensifying competition for white-collar roles.\\n\\nIn conclusion, the economic impact of AI on employment is complex and multifaceted. While AI may lead to job displacement in some areas, it also has the potential to create new jobs, increase productivity, and drive economic growth. Economic factors such as labor demand and supply, wage structures, and industry shifts play a crucial role in mediating these impacts.\\n'}}}], 'role': 'user'}, 'invocation_id': 'e-54988485-7b90-4f04-82eb-3d004a64995e', 'author': 'research_agent', 'actions': {'state_delta': {}, 'artifact_delta': {}, 'requested_auth_configs': {}}, 'id': 'iPrqZmyw', 'timestamp': 1748879012.102195}\n"
          ]
        },
        {
          "output_type": "stream",
          "name": "stderr",
          "text": [
            "WARNING:google_genai.types:Warning: there are non-text parts in the response: ['function_call'], returning concatenated text result from text parts. Check the full candidates.content.parts accessor to get the full model response.\n"
          ]
        },
        {
          "output_type": "stream",
          "name": "stdout",
          "text": [
            "{'content': {'parts': [{'text': '*   **How does the development and deployment of AI Agents intersect with broader trends like globalization, remote work, and the gig economy?**\\n'}, {'function_call': {'id': 'adk-d27a92ec-2d36-4d6d-822e-5bff76c8f8b0', 'args': {'request': 'How does the development and deployment of AI Agents intersect with broader trends like globalization, remote work, and the gig economy?'}, 'name': 'simple_search_agent'}}], 'role': 'model'}, 'usage_metadata': {'candidates_token_count': 59, 'candidates_tokens_details': [{'modality': <MediaModality.TEXT: 'TEXT'>, 'token_count': 59}], 'prompt_token_count': 13467, 'prompt_tokens_details': [{'modality': <MediaModality.TEXT: 'TEXT'>, 'token_count': 13467}], 'total_token_count': 13526, 'traffic_type': <TrafficType.ON_DEMAND: 'ON_DEMAND'>}, 'invocation_id': 'e-54988485-7b90-4f04-82eb-3d004a64995e', 'author': 'research_agent', 'actions': {'state_delta': {}, 'artifact_delta': {}, 'requested_auth_configs': {}}, 'long_running_tool_ids': set(), 'id': 'gLJ3YZW8', 'timestamp': 1748879012.108521}\n"
          ]
        },
        {
          "output_type": "stream",
          "name": "stderr",
          "text": [
            "WARNING:opentelemetry.sdk.trace.export:Already shutdown, dropping span.\n",
            "WARNING:opentelemetry.sdk.trace.export:Already shutdown, dropping span.\n",
            "WARNING:opentelemetry.sdk.trace.export:Already shutdown, dropping span.\n",
            "WARNING:opentelemetry.sdk.trace.export:Already shutdown, dropping span.\n",
            "WARNING:opentelemetry.sdk.trace.export:Already shutdown, dropping span.\n",
            "WARNING:opentelemetry.sdk.trace.export:Already shutdown, dropping span.\n"
          ]
        },
        {
          "output_type": "stream",
          "name": "stdout",
          "text": [
            "{'content': {'parts': [{'function_response': {'id': 'adk-d27a92ec-2d36-4d6d-822e-5bff76c8f8b0', 'name': 'simple_search_agent', 'response': {'result': \"The development and deployment of AI Agents are intertwined with globalization, remote work, and the gig economy in several significant ways:\\n\\n **1. Globalization:**\\n\\n *   **Enhanced Communication and Collaboration:** AI agents, especially multilingual ones, break down language barriers, enabling seamless communication and collaboration across borders. They facilitate real-time translation, support multilingual documentation, and enhance global knowledge sharing.\\n *   **Improved Customer Experience:**  AI agents provide round-the-clock support in multiple languages, meeting the expectations of customers in a globalized marketplace. This leads to enhanced personalization through deeper user data analysis, delivering culturally nuanced interactions.\\n *   **Operational Efficiency:** Multilingual AI agents reduce the need for large, multilingual human support teams, cutting operational costs while maintaining consistent service quality. They can handle multiple interactions simultaneously and process requests faster.\\n *   **Accelerated Time to Market:** AI agents automate workflows like asset management, translation syncing, and stakeholder communications, reducing time to market without compromising quality. They also help manage terminology and ensure consistent messaging across regions.\\n *   **Economic Impact:** AI is seen as a driver of globalization, with AI agents heralding a new era of technological development and potentially leading to a period of abundance. However, there's also concern that the benefits of AI may not be evenly distributed, potentially widening economic disparities between developed and emerging markets.\\n\\n **2. Remote Work:**\\n\\n *   **Automated Project Coordination:** AI chat agents act as embedded project managers, automating task assignments, highlighting performance insights, and filtering message streams. This reduces friction and lag time for remote teams.\\n *   **Instant Support for Remote Teams:** AI agents streamline back-office functions like IT and HR, providing 24/7 support for troubleshooting, answering policy questions, and guiding employees through internal systems.\\n *   **Improved Communication:** AI agents bridge communication gaps in remote work by supporting consistent, timely, and transparent communication among team members. Tools like Zoom's AI Companion enhance teamwork by offering real-time support across meetings and chats.\\n *   **Enhanced Collaboration:** AI agents facilitate seamless communication between remote and in-office employees, ensuring everyone remains informed and aligned. They also help eliminate data silos, fostering a shared understanding of goals and progress.\\n *   **Performance Management:** AI enables less subjective and more data-driven performance evaluations, promoting continuous feedback and reducing anxiety around annual reviews.\\n *   **Employee Well-being:** AI agents can monitor stress indicators and provide tailored wellness suggestions, contributing to a healthier remote workforce.\\n\\n **3. Gig Economy:**\\n\\n *   **Scalability for Talent Platforms:** AI agents automate tasks like onboarding, monitoring project milestones, and facilitating payments, enabling talent platforms to manage a growing user base without compromising quality.\\n *   **Matching Freelancers with Projects:** AI agents analyze the skills and experience of freelancers to match them with suitable projects, improving efficiency and satisfaction for both parties.\\n *   **Automated Administration:** Agents handle administrative tasks such as invoicing, payments, and contract management, freeing up freelancers to focus on their core competencies.\\n *   **Real-time Feedback:** AI agents provide freelancers and clients with real-time feedback on their performance, helping them improve their skills and deliver higher-quality work.\\n *   **New Opportunities and Revenue Streams:** AI agents enable freelancers to tap into new revenue streams through automation, dynamic pricing, and the creation of new services. They can also expand their capacity and optimize pricing.\\n *   **AI as Intermediary:** AI agents can act as intermediaries between gig workers and clients, assigning tasks, facilitating payment, and dispatching work.\\n\\n **Challenges and Considerations:**\\n\\n *   **Data Quality and Integration:**  AI agents require access to clean, consistent, and relevant data, which can be a challenge due to fragmented data across siloed systems.\\n *   **Complexity of Integration:** Connecting diverse systems with varying architectures and protocols can be complex.\\n *   **Scalability:** AI agents must be able to scale effectively, especially when interacting with real-time data or serving many users.\\n *   **Security and Compliance:** AI systems are vulnerable to security threats, and organizations need to adhere to regulations when designing AI agents. Decentralized deployment can make it difficult to implement uniform security measures.\\n *   **Bias and Fairness:** AI systems learn from historical data, and if the data contains biases, AI may amplify them.\\n *   **Job Displacement:** The automation capabilities of AI agents raise concerns about job displacement and the need for worker retraining.\\n *   **Ethical Considerations:**  It's important to build ethical and inclusive systems, ensuring equitable treatment of freelancers and clients.\\n *   **Governance:**  The autonomy and adaptability of AI agents make them more difficult to govern, requiring careful consideration of decision-making processes and potential risks.\\n\"}}}], 'role': 'user'}, 'invocation_id': 'e-54988485-7b90-4f04-82eb-3d004a64995e', 'author': 'research_agent', 'actions': {'state_delta': {}, 'artifact_delta': {}, 'requested_auth_configs': {}}, 'id': 'NjxkgDkb', 'timestamp': 1748879023.541371}\n"
          ]
        },
        {
          "output_type": "stream",
          "name": "stderr",
          "text": [
            "WARNING:google_genai.types:Warning: there are non-text parts in the response: ['function_call', 'function_call'], returning concatenated text result from text parts. Check the full candidates.content.parts accessor to get the full model response.\n"
          ]
        },
        {
          "output_type": "stream",
          "name": "stdout",
          "text": [
            "{'content': {'parts': [{'text': '**Practical Implications**\\n\\n*   **What strategies can businesses and policymakers adopt to mitigate the negative impacts of AI Agents on workers and promote a smooth transition?**\\n'}, {'function_call': {'id': 'adk-e020a39f-6acc-42fe-bd46-57a2b7e502bf', 'args': {'request': 'strategies to mitigate the negative impacts of AI Agents on workers'}, 'name': 'simple_search_agent'}}, {'function_call': {'id': 'adk-8b60860f-abb9-4141-93b2-bfd70e769461', 'args': {'request': 'strategies to promote a smooth transition to AI Agents'}, 'name': 'simple_search_agent'}}], 'role': 'model'}, 'usage_metadata': {'candidates_token_count': 65, 'candidates_tokens_details': [{'modality': <MediaModality.TEXT: 'TEXT'>, 'token_count': 65}], 'prompt_token_count': 14516, 'prompt_tokens_details': [{'modality': <MediaModality.TEXT: 'TEXT'>, 'token_count': 14516}], 'total_token_count': 14581, 'traffic_type': <TrafficType.ON_DEMAND: 'ON_DEMAND'>}, 'invocation_id': 'e-54988485-7b90-4f04-82eb-3d004a64995e', 'author': 'research_agent', 'actions': {'state_delta': {}, 'artifact_delta': {}, 'requested_auth_configs': {}}, 'long_running_tool_ids': set(), 'id': 'i34kBQVg', 'timestamp': 1748879023.547609}\n"
          ]
        },
        {
          "output_type": "stream",
          "name": "stderr",
          "text": [
            "WARNING:opentelemetry.sdk.trace.export:Already shutdown, dropping span.\n",
            "WARNING:opentelemetry.sdk.trace.export:Already shutdown, dropping span.\n",
            "WARNING:opentelemetry.sdk.trace.export:Already shutdown, dropping span.\n",
            "WARNING:opentelemetry.sdk.trace.export:Already shutdown, dropping span.\n",
            "WARNING:opentelemetry.sdk.trace.export:Already shutdown, dropping span.\n",
            "WARNING:opentelemetry.sdk.trace.export:Already shutdown, dropping span.\n",
            "WARNING:opentelemetry.sdk.trace.export:Already shutdown, dropping span.\n",
            "WARNING:opentelemetry.sdk.trace.export:Already shutdown, dropping span.\n",
            "WARNING:opentelemetry.sdk.trace.export:Already shutdown, dropping span.\n",
            "WARNING:opentelemetry.sdk.trace.export:Already shutdown, dropping span.\n",
            "WARNING:opentelemetry.sdk.trace.export:Already shutdown, dropping span.\n",
            "WARNING:opentelemetry.sdk.trace.export:Already shutdown, dropping span.\n"
          ]
        },
        {
          "output_type": "stream",
          "name": "stdout",
          "text": [
            "{'content': {'parts': [{'function_response': {'id': 'adk-e020a39f-6acc-42fe-bd46-57a2b7e502bf', 'name': 'simple_search_agent', 'response': {'result': \"To mitigate the negative impacts of AI agents on workers, consider the following strategies:\\n\\n**1. Workforce Transition & Support:**\\n\\n*   **Retraining and Upskilling Programs:**\\n    *   Offer comprehensive programs to help workers adapt to AI-supported roles, enhancing their existing skills with new digital competencies.\\n    *   Focus training on AI literacy, including how AI works, prompt creation, effective AI use, and bias/inaccuracy evaluation.\\n    *   Expand existing data upskilling programs to focus on AI literacy.\\n    *   Emphasize the development of soft skills and emotional intelligence, which are less likely to be automated.\\n*   **Reskilling Initiatives:**\\n    *   Provide training in entirely new skill sets, transitioning workers to emerging roles in data analysis, AI oversight, or digital operations.\\n    *   Help employees transition to roles that require more complex problem-solving and strategic thinking.\\n*   **Job Redesign:**\\n    *   Identify tasks that AI can automate and reallocate employees to higher-value tasks requiring creativity, critical thinking, and emotional intelligence.\\n*   **Support for Displaced Employees:**\\n    *   Offer fair severance packages, outplacement services, and upskilling programs.\\n    *   Provide income support through unemployment insurance or other social protection measures.\\n    *   Offer job-search and retraining assistance.\\n    *   Consider wage insurance to make up for pay differences if reallocated to lower-paying jobs.\\n\\n**2. Ethical and Transparent AI Implementation:**\\n\\n*   **Transparency:**\\n    *   Communicate the intentions and implications of AI adoption to employees.\\n    *   Offer context and details about the risks and opportunities shaping AI policy.\\n*   **Fairness:**\\n    *   Ensure AI-driven decisions (hiring, promotion, performance evaluation) are free from bias and discrimination.\\n*   **Open Communication:**\\n    *   Create forums for employees to voice concerns about AI's impact on their roles.\\n*   **Employee Data Rights:**\\n    *   Establish an employee data bill of rights outlining the purpose of data collection, limiting data collection to that purpose, and recognizing employees' right to be informed about collected data.\\n*   **Worker Participation:**\\n    *   Include workers in the implementation of AI and automation technologies.\\n    *   Grant workers and their representatives access to the algorithm behind AI technologies.\\n\\n**3. Promoting a Culture of Adaptability and Learning:**\\n\\n*   **Continuous Learning:**\\n    *   Foster a culture of continuous learning by establishing internal training programs, partnering with educational institutions, and providing resources for self-directed learning.\\n*   **Growth Mindset:**\\n    *   Encourage employees to view AI as a tool that enhances their work rather than replaces them.\\n    *   Highlight success stories where AI has helped employees perform better.\\n*   **AI Literacy Training:**\\n    *   Provide training to boost confidence and reduce anxiety about new technologies.\\n*   **Collaboration with AI:**\\n    *   Encourage employees to collaborate with AI tools to enhance job performance and create new possibilities.\\n*   **On-the-Job Training:**\\n    *   Offer opportunities to improve knowledge and expertise in AI tools by using AI applications while doing their jobs.\\n\\n**4. Addressing Employee Concerns and Well-being:**\\n\\n*   **Address Job Security Concerns:**\\n    *   Focus on reskilling and upskilling programs to help employees transition into AI-supported roles.\\n*   **Manage Workload and Pressure:**\\n    *   Set realistic performance goals and ensure AI complements human work.\\n    *   Encourage regular breaks and mindfulness activities.\\n*   **Reduce Stress:**\\n    *   Encourage open communication and transparency to reduce uncertainty and stress.\\n    *   Use focus groups and surveys to assess employee experiences and concerns.\\n*   **Promote Mental Fitness:**\\n    *   Support employees' mental well-being through resources and programs.\\n\\n**5. Government and Policy Measures:**\\n\\n*   **Encourage Complementary Innovation:**\\n    *   Promote technological innovation that complements human labor rather than replaces it.\\n*   **Invest in Education:**\\n    *   Offer financial assistance for workers to pursue further education, including university degrees or vocational training.\\n*   **Support Services:**\\n    *   Provide career counseling and job placement services to help workers navigate the job market and find suitable employment.\\n*   **Robust Welfare State:**\\n    *   Implement welfare programs to ease the transition and support workers affected by job displacement.\\n\"}}}, {'function_response': {'id': 'adk-8b60860f-abb9-4141-93b2-bfd70e769461', 'name': 'simple_search_agent', 'response': {'result': \"To promote a smooth transition to AI Agents, consider these strategies:\\n\\n*   **Start with a focused scope:** Define the specific purpose and scope of the AI agent to ensure it addresses key business needs.\\n*   **Data Quality:** Collect and prepare high-quality training data to ensure the AI agent can accurately understand and process user input.\\n*   **Incremental Deployment:** Use deployment strategies like incremental upgrades and rollouts to achieve a smooth transition without disrupting existing systems. Launch the agent to a small group of users for feedback before a large-scale rollout.\\n*   **Continuous Monitoring:** Review the agent's performance, including response time, accuracy, and user satisfaction. Regularly collect user feedback to identify areas for improvement.\\n*   **AI Governance Frameworks:** Establish policies for oversight, risk assessment, and accountability. Define when human intervention is required and set risk thresholds.\\n*   **Human Oversight:** Maintain human-in-the-loop systems for AI agents involved in high-impact decisions.\\n*   **Reskilling:** Offer opportunities to reskill employees and ensure a smooth transition for the workforce as AI agents take over repetitive tasks.\\n*   **Ethical AI Standards:** Align AI agent development with responsible AI principles and frameworks like the OECD AI Principles.\\n*   **Modular Design:** Build AI agents using a modular and composable approach to the software architecture.\\n*   **Customer Journey Mapping:** Use customer journey mapping to identify pain points and opportunities for AI agents to improve the customer experience.\\n*   **Change Management:** Strategize on the best way to manage the transition smoothly, considering potential applications, risks, and solutions.\\n\\n\"}}}], 'role': 'user'}, 'invocation_id': 'P8r48u1z', 'author': 'research_agent', 'actions': {'state_delta': {}, 'artifact_delta': {}, 'requested_auth_configs': {}}, 'id': 'ts0Red0A', 'timestamp': 1748879033.439542}\n"
          ]
        },
        {
          "output_type": "stream",
          "name": "stderr",
          "text": [
            "WARNING:google_genai.types:Warning: there are non-text parts in the response: ['function_call'], returning concatenated text result from text parts. Check the full candidates.content.parts accessor to get the full model response.\n"
          ]
        },
        {
          "output_type": "stream",
          "name": "stdout",
          "text": [
            "{'content': {'parts': [{'text': '*   **What types of education and training programs can help workers develop the skills needed to complement or work alongside AI Agents?**\\n'}, {'function_call': {'id': 'adk-8a7137bc-5082-4d9d-add4-b51108dc8415', 'args': {'request': 'education and training programs help workers develop the skills needed to work alongside AI Agents'}, 'name': 'simple_search_agent'}}], 'role': 'model'}, 'usage_metadata': {'candidates_token_count': 48, 'candidates_tokens_details': [{'modality': <MediaModality.TEXT: 'TEXT'>, 'token_count': 48}], 'prompt_token_count': 15860, 'prompt_tokens_details': [{'modality': <MediaModality.TEXT: 'TEXT'>, 'token_count': 15860}], 'total_token_count': 15908, 'traffic_type': <TrafficType.ON_DEMAND: 'ON_DEMAND'>}, 'invocation_id': 'e-54988485-7b90-4f04-82eb-3d004a64995e', 'author': 'research_agent', 'actions': {'state_delta': {}, 'artifact_delta': {}, 'requested_auth_configs': {}}, 'long_running_tool_ids': set(), 'id': 'N38QtE4A', 'timestamp': 1748879037.324456}\n"
          ]
        },
        {
          "output_type": "stream",
          "name": "stderr",
          "text": [
            "WARNING:opentelemetry.sdk.trace.export:Already shutdown, dropping span.\n",
            "WARNING:opentelemetry.sdk.trace.export:Already shutdown, dropping span.\n",
            "WARNING:opentelemetry.sdk.trace.export:Already shutdown, dropping span.\n",
            "WARNING:opentelemetry.sdk.trace.export:Already shutdown, dropping span.\n",
            "WARNING:opentelemetry.sdk.trace.export:Already shutdown, dropping span.\n",
            "WARNING:opentelemetry.sdk.trace.export:Already shutdown, dropping span.\n"
          ]
        },
        {
          "output_type": "stream",
          "name": "stdout",
          "text": [
            "{'content': {'parts': [{'function_response': {'id': 'adk-8a7137bc-5082-4d9d-add4-b51108dc8415', 'name': 'simple_search_agent', 'response': {'result': 'Yes, education and training programs are indeed helping workers develop the skills needed to work alongside AI agents. Here\\'s a breakdown of how these programs are structured and what they aim to achieve:\\n\\n**1. Types of Skills Developed:**\\n\\n*   **Technical Literacy:** These programs aim to provide a foundational understanding of AI, machine learning, and how AI agents work. This includes understanding how AI agents consume, process, and interact with software. (Training Industry, Forbes, World Economic Forum)\\n*   **Strategic Oversight:** Training programs are teaching employees how to guide, manage, and optimize the use of AI agents in daily operations. This involves skills like creativity, problem-solving, and critical thinking. (Training Industry)\\n*   **AI-Specific Skills:** These include skills in prompt engineering, using generative AI, natural language processing, machine learning, and robotic process automation. (IBM, Google)\\n*   **\"Human\" or Soft Skills:** Programs also focus on developing uniquely human skills such as critical thinking, communication, emotional intelligence, and adaptability, as these are areas where humans can excel alongside AI. (Forbes, Training Industry)\\n\\n**2. Program Components and Approaches:**\\n\\n*   **Upskilling vs. Reskilling:**\\n    *   **Upskilling** focuses on improving existing skills through AI training and development programs to minimize skill gaps. (IBM)\\n    *   **Reskilling** involves learning an entirely new set of skills for a new job role. (IBM)\\n*   **Personalized Learning:** AI is used to create tailored learning paths based on individual employee performance, skills, and preferences. (Oracle, Pesto Tech)\\n*   **Hands-on Training:** Many programs incorporate hands-on exercises, real-world scenarios, and projects to provide practical experience. (IBM, Salesforce)\\n*   **On-the-Job Training:** Employees improve their AI skills by using AI tools in their daily tasks. (IBM)\\n*   **AI-Driven Learning Platforms:** Platforms use AI algorithms to automate the creation and delivery of training content. (Pesto Tech)\\n*   **Pilot Programs:** Companies are using pilot programs to test the effectiveness of AI agent training and gather feedback before full implementation. (Entrepreneur)\\n\\n**3. Examples of Training Programs and Resources:**\\n\\n*   **Google AI Essentials:** A beginner-friendly course to learn how AI can assist in daily tasks. (Google)\\n*   **Google Cloud Skills Boost:** Offers AI-related courses and hands-on labs with Google Cloud products. (Google)\\n*   **IBM AI Upskilling Program:** Includes strategic essentials, elements of enterprise AI, and putting AI to work for specific disciplines. (IBM)\\n*   **GP Strategies\\' Human+AI: Practical AI for Learning Leaders:** Equips leaders with the skills to use AI responsibly and strategically. (GP Strategies)\\n*   **Udacity AI Courses:** Offers programs focusing on deep learning, computer vision, natural language processing, and AI product management. (Udacity)\\n*   **Salesforce AI Agent Course:** Teaches how to build, optimize, and deploy intelligent workflows using AI agents. (Salesforce)\\n*   **Cisco Networking Academy (NetAcad):** Offers free IT training and certifications in various tech fields, including AI. (Forbes)\\n\\n**4. Key Benefits of These Programs:**\\n\\n*   **Increased Productivity:** Equipping employees with AI skills enhances productivity and fosters innovation. (GP Strategies)\\n*   **Improved Employee Engagement:** Personalized learning experiences lead to higher engagement and satisfaction. (Pesto Tech)\\n*   **Better Knowledge Retention:** Training tailored to individual roles improves knowledge retention. (Pesto Tech)\\n*   **Adaptability:** Upskilling ensures employees are better equipped to adapt to technological changes. (Forbes)\\n*   **Competitive Advantage:** Organizations prioritizing AI training will stay competitive in an increasingly AI-driven market. (GP Strategies)\\n*   **Cost Reduction:** AI can automate administrative tasks, reducing costs. (Forbes, Pesto Tech)\\n\\n**5. The Role of Collaboration:**\\n\\n*   **Employers, educators, and workers** need to collaborate to create lifelong learning opportunities and a future-ready workforce. (World Economic Forum)\\n*   **Partnerships** between organizations and educational institutions are crucial for global upskilling efforts. (Forbes)\\n\\nIn conclusion, education and training programs are essential for preparing the workforce to effectively collaborate with AI agents. These programs focus on developing technical skills, strategic thinking, and uniquely human capabilities, ensuring that employees can thrive in an AI-enhanced environment.\\n'}}}], 'role': 'user'}, 'invocation_id': 'e-54988485-7b90-4f04-82eb-3d004a64995e', 'author': 'research_agent', 'actions': {'state_delta': {}, 'artifact_delta': {}, 'requested_auth_configs': {}}, 'id': 'A1nurcEx', 'timestamp': 1748879048.031746}\n"
          ]
        },
        {
          "output_type": "stream",
          "name": "stderr",
          "text": [
            "WARNING:google_genai.types:Warning: there are non-text parts in the response: ['function_call'], returning concatenated text result from text parts. Check the full candidates.content.parts accessor to get the full model response.\n"
          ]
        },
        {
          "output_type": "stream",
          "name": "stdout",
          "text": [
            "{'content': {'parts': [{'text': '*   **How can labor unions and worker organizations adapt to the changing landscape of work in the age of AI Agents?**\\n'}, {'function_call': {'id': 'adk-7e9b70d6-1bf4-4cdf-9b70-17675043086e', 'args': {'request': 'How can labor unions and worker organizations adapt to AI Agents?'}, 'name': 'simple_search_agent'}}], 'role': 'model'}, 'usage_metadata': {'candidates_token_count': 44, 'candidates_tokens_details': [{'modality': <MediaModality.TEXT: 'TEXT'>, 'token_count': 44}], 'prompt_token_count': 16853, 'prompt_tokens_details': [{'modality': <MediaModality.TEXT: 'TEXT'>, 'token_count': 16853}], 'total_token_count': 16897, 'traffic_type': <TrafficType.ON_DEMAND: 'ON_DEMAND'>}, 'invocation_id': 'e-54988485-7b90-4f04-82eb-3d004a64995e', 'author': 'research_agent', 'actions': {'state_delta': {}, 'artifact_delta': {}, 'requested_auth_configs': {}}, 'long_running_tool_ids': set(), 'id': 'qqtHadx2', 'timestamp': 1748879048.03827}\n"
          ]
        },
        {
          "output_type": "stream",
          "name": "stderr",
          "text": [
            "WARNING:opentelemetry.sdk.trace.export:Already shutdown, dropping span.\n",
            "WARNING:opentelemetry.sdk.trace.export:Already shutdown, dropping span.\n",
            "WARNING:opentelemetry.sdk.trace.export:Already shutdown, dropping span.\n",
            "WARNING:opentelemetry.sdk.trace.export:Already shutdown, dropping span.\n",
            "WARNING:opentelemetry.sdk.trace.export:Already shutdown, dropping span.\n",
            "WARNING:opentelemetry.sdk.trace.export:Already shutdown, dropping span.\n"
          ]
        },
        {
          "output_type": "stream",
          "name": "stdout",
          "text": [
            "{'content': {'parts': [{'function_response': {'id': 'adk-7e9b70d6-1bf4-4cdf-9b70-17675043086e', 'name': 'simple_search_agent', 'response': {'result': \"To adapt to AI agents, labor unions and worker organizations can undertake several strategies:\\n\\n**1. Embrace and Leverage AI Tools:**\\n*   **AI-powered chatbots:** Use AI chatbots and virtual platforms to engage with workers in real-time, provide support, and address concerns.\\n*   **Data Analytics:** Use AI-powered data analytics to gain insights into industry trends, company performance, and market dynamics. This strengthens their bargaining power.\\n*   **Digital Tools:** Adopt digital tools to enhance outreach and advocacy.\\n\\n**2. Advocate for Worker Rights and Protections:**\\n\\n*   **Right to Organize:** Focus on protecting workers' rights to organize, even in automated and algorithmically managed workplaces.\\n*   **Collective Bargaining:** Negotiate contract provisions that prevent job elimination, limit surveillance and algorithmic management, and ensure workers benefit from AI-driven productivity gains.\\n*   **Regulation:** Push for regulations that protect collective bargaining rights in industries where automation is prevalent.\\n*   **Transparency:** Advocate for transparency in how AI is used in hiring, performance tracking, and management decisions.\\n\\n**3. Focus on Skills Development and Training:**\\n\\n*   **Upskilling and Reskilling:** Champion worker transition by advocating for upskilling and reskilling initiatives and social safety nets.\\n*   **Training Programs:** Implement training programs that equip workers with the skills needed to thrive in an AI-driven job market.\\n\\n**4. Collaboration and Partnerships:**\\n\\n*   **Tech Companies:** Collaborate with tech companies to ensure AI is harnessed responsibly and benefits both workers and businesses.\\n*   **Inter-institutional partnerships:** Develop partnerships with academia and companies developing AI tools.\\n*   **Feedback Mechanisms:** Establish feedback mechanisms where union representatives can share knowledge and concerns directly with AI product developers, co-designing worker-centered technology.\\n\\n**5. Adapting Union Structure and Strategy:**\\n\\n*   **Membership Models:** Expand recruitment efforts to include independent contractors and gig economy workers.\\n*   **Representation Thresholds:** Re-evaluate labor laws to ensure unions remain effective in advocating for workers' rights in automated environments, considering flexible representation thresholds.\\n\\n**6. Addressing Challenges**\\n\\n*   **Worker displacement:** Advocate for policies that safeguard workers, such as just transition programs, retraining, and unemployment benefits.\\n*   **Data privacy:** Adapt data management strategies to comply with privacy regulations while advocating effectively for workers' rights.\\n\\n**7. Promote worker involvement**\\n\\n*   **Involvement in AI implementation:** Ensure workers and their unions are involved in deciding how AI is introduced and used in the workplace.\\n*   **Human oversight:** Argue that algorithmic decision-making cannot replace human oversight, especially in areas that affect employment, wages, and working conditions.\\n\"}}}], 'role': 'user'}, 'invocation_id': 'e-54988485-7b90-4f04-82eb-3d004a64995e', 'author': 'research_agent', 'actions': {'state_delta': {}, 'artifact_delta': {}, 'requested_auth_configs': {}}, 'id': 'xGPgufek', 'timestamp': 1748879055.169941}\n"
          ]
        },
        {
          "output_type": "stream",
          "name": "stderr",
          "text": [
            "WARNING:google_genai.types:Warning: there are non-text parts in the response: ['function_call'], returning concatenated text result from text parts. Check the full candidates.content.parts accessor to get the full model response.\n"
          ]
        },
        {
          "output_type": "stream",
          "name": "stdout",
          "text": [
            "{'content': {'parts': [{'text': '*   **What innovative approaches to social safety nets and income support can help workers who are displaced by AI Agents? (e.g., universal basic income, retraining stipends)**\\n'}, {'function_call': {'id': 'adk-bc473b14-bf12-45c8-8f75-6e3780ab7f78', 'args': {'request': 'innovative approaches to social safety nets and income support for workers displaced by AI Agents'}, 'name': 'simple_search_agent'}}], 'role': 'model'}, 'usage_metadata': {'candidates_token_count': 58, 'candidates_tokens_details': [{'modality': <MediaModality.TEXT: 'TEXT'>, 'token_count': 58}], 'prompt_token_count': 17469, 'prompt_tokens_details': [{'modality': <MediaModality.TEXT: 'TEXT'>, 'token_count': 17469}], 'total_token_count': 17527, 'traffic_type': <TrafficType.ON_DEMAND: 'ON_DEMAND'>}, 'invocation_id': 'e-54988485-7b90-4f04-82eb-3d004a64995e', 'author': 'research_agent', 'actions': {'state_delta': {}, 'artifact_delta': {}, 'requested_auth_configs': {}}, 'long_running_tool_ids': set(), 'id': 'OmZTgfqA', 'timestamp': 1748879055.176073}\n"
          ]
        },
        {
          "output_type": "stream",
          "name": "stderr",
          "text": [
            "WARNING:opentelemetry.sdk.trace.export:Already shutdown, dropping span.\n",
            "WARNING:opentelemetry.sdk.trace.export:Already shutdown, dropping span.\n",
            "WARNING:opentelemetry.sdk.trace.export:Already shutdown, dropping span.\n",
            "WARNING:opentelemetry.sdk.trace.export:Already shutdown, dropping span.\n",
            "WARNING:opentelemetry.sdk.trace.export:Already shutdown, dropping span.\n",
            "WARNING:opentelemetry.sdk.trace.export:Already shutdown, dropping span.\n"
          ]
        },
        {
          "output_type": "stream",
          "name": "stdout",
          "text": [
            "{'content': {'parts': [{'function_response': {'id': 'adk-bc473b14-bf12-45c8-8f75-6e3780ab7f78', 'name': 'simple_search_agent', 'response': {'result': \"The rise of AI presents both opportunities and challenges for the workforce. AI-driven technologies can boost productivity and create new jobs, but they also pose a risk of job displacement and economic inequality. To address these challenges, innovative approaches to social safety nets and income support are needed to support workers displaced by AI. Here are some potential solutions:\\n\\n**1. Modernizing Social Insurance and Safety Nets:**\\n\\n*   **AI Displacement Insurance (AIDI):** This program would offer financial assistance and resources to workers whose jobs are displaced by AI technologies, helping them transition into new roles. AIDI should focus on increasing participation, tailoring benefits to recipients' economic status, and implementing novel funding mechanisms to enhance the program's financial resilience.\\n*   **Expanding and Modernizing Unemployment Insurance:** Governments should expand and modernize unemployment insurance to provide displaced workers with more time to retrain and find new jobs.\\n*   **Portable Benefits:** These benefits are not tied to a specific employer, making them ideal for workers in the gig economy or those who experience frequent job changes.\\n*   **Strengthening Social Safety Nets:** Robust social safety nets are crucial to support workers as they transition to new jobs or go through training.\\n\\n**2. Income Support Programs:**\\n\\n*   **Universal Basic Income (UBI):** UBI is a fixed income provided to all citizens regardless of their employment status, providing a safety net for displaced individuals. Pilot programs have shown improved employment opportunities, financial stability, and health outcomes for participants.\\n*   **Guaranteed Income:** Unconditional cash distributions could help mitigate the labor market shocks caused by AI advancements.\\n*   **Wage Insurance:** This program can help workers who find new jobs with lower pay by compensating them for a portion of the difference between their previous and current wages for a limited period.\\n*   **Business and Worker Supplements:** Similar to Short-Time Compensation, AI Adjustment Assistance could include partial unemployment compensation to employees facing reduced work hours, averting unnecessary mass layoffs.\\n\\n**3. Reskilling and Upskilling Initiatives:**\\n\\n*   **Investing in Training Programs:** Training programs can help displaced workers acquire new skills that are in demand, making them more competitive in the job market.\\n*   **Education Subsidies and Grants:** Financial assistance for workers to pursue further education, including university degrees or vocational training, can improve their job prospects.\\n*   **Career Counseling and Job Placement Services:** Guidance and support can help workers navigate the job market, identify new opportunities, and find suitable employment.\\n*   **Incentives for Reskilling:** AI response legislation could encourage pre-and registered apprenticeships that align with good jobs.\\n\\n**4. Government Policies and Initiatives:**\\n\\n*   **AI Adjustment Assistance:** Establishing eligibility for workers affected by AI, considering job losses caused by increased AI use by employers or significant automation contributing to separations.\\n*   **Evolving Trade Adjustment Assistance:** Adapting federal policy to AI while protecting workers, providing retraining, income support, job search assistance, health care benefits, and even relocation aid.\\n*   **Incentivizing AI Job Creation:** Governments can directly invest in AI, recognizing its potential to create new jobs.\\n*   **Ethical AI Guidelines:** Implementing AI ethics guidelines can ensure AI adoption does not lead to excessive job losses.\\n\\n**5. Addressing Inequality:**\\n\\n*   **Progressive Taxation and Wealth Redistribution:** These measures could help reduce inequality within nations, while international cooperation and targeted aid could support AI adoption in developing countries.\\n\\n**6. Other Considerations:**\\n\\n*   **Engaging in Ongoing Research and Dialogue:** The complexity of managing the AI transition requires ongoing research, dialogue, and policy innovation.\\n*   **Fostering Partnerships:** Partnerships between educational institutions, businesses, and government entities can facilitate the creation of apprenticeship programs.\\n*   **Adapting to the Evolving Economic Landscape:** Developing countries should also consider new fiscal policies that adapt to the evolving economic landscape.\\n\\nBy implementing these innovative approaches, governments can create a more resilient and equitable future for workers in the age of AI.\\n\"}}}], 'role': 'user'}, 'invocation_id': 'e-54988485-7b90-4f04-82eb-3d004a64995e', 'author': 'research_agent', 'actions': {'state_delta': {}, 'artifact_delta': {}, 'requested_auth_configs': {}}, 'id': 'eiIQF0nS', 'timestamp': 1748879064.337444}\n"
          ]
        },
        {
          "output_type": "stream",
          "name": "stderr",
          "text": [
            "WARNING:google_genai.types:Warning: there are non-text parts in the response: ['function_call'], returning concatenated text result from text parts. Check the full candidates.content.parts accessor to get the full model response.\n"
          ]
        },
        {
          "output_type": "stream",
          "name": "stdout",
          "text": [
            "{'content': {'parts': [{'text': '**Future Outlook**\\n\\n*   **What are the emerging trends and future directions in AI Agent technology, and how might these trends further impact the labor market?**\\n'}, {'function_call': {'id': 'adk-03cde362-8864-4401-91bb-635df03cf9db', 'args': {'request': 'emerging trends and future directions in AI Agent technology and impact on labor market'}, 'name': 'simple_search_agent'}}], 'role': 'model'}, 'usage_metadata': {'candidates_token_count': 55, 'candidates_tokens_details': [{'modality': <MediaModality.TEXT: 'TEXT'>, 'token_count': 55}], 'prompt_token_count': 18358, 'prompt_tokens_details': [{'modality': <MediaModality.TEXT: 'TEXT'>, 'token_count': 18358}], 'total_token_count': 18413, 'traffic_type': <TrafficType.ON_DEMAND: 'ON_DEMAND'>}, 'invocation_id': 'e-54988485-7b90-4f04-82eb-3d004a64995e', 'author': 'research_agent', 'actions': {'state_delta': {}, 'artifact_delta': {}, 'requested_auth_configs': {}}, 'long_running_tool_ids': set(), 'id': 'nefBbYwO', 'timestamp': 1748879064.345097}\n"
          ]
        },
        {
          "output_type": "stream",
          "name": "stderr",
          "text": [
            "WARNING:opentelemetry.sdk.trace.export:Already shutdown, dropping span.\n",
            "WARNING:opentelemetry.sdk.trace.export:Already shutdown, dropping span.\n",
            "WARNING:opentelemetry.sdk.trace.export:Already shutdown, dropping span.\n",
            "WARNING:opentelemetry.sdk.trace.export:Already shutdown, dropping span.\n",
            "WARNING:opentelemetry.sdk.trace.export:Already shutdown, dropping span.\n",
            "WARNING:opentelemetry.sdk.trace.export:Already shutdown, dropping span.\n"
          ]
        },
        {
          "output_type": "stream",
          "name": "stdout",
          "text": [
            "{'content': {'parts': [{'function_response': {'id': 'adk-03cde362-8864-4401-91bb-635df03cf9db', 'name': 'simple_search_agent', 'response': {'result': \"The rise of AI agent technology is poised to significantly reshape the labor market, with emerging trends pointing towards both challenges and opportunities. Here's a breakdown of the key aspects:\\n\\n**1. Emerging Trends and Future Directions:**\\n\\n*   **Increased Automation:** AI agents are increasingly capable of automating repetitive tasks across various industries, including data processing, customer support, and inventory management.\\n*   **AI-Human Collaboration:** The focus is shifting towards humans and AI agents working together, leveraging the strengths of both. AI handles mundane tasks, freeing up humans for creative problem-solving, innovation, and strategic thinking.\\n*   **Personalized Experiences:** AI agents are enhancing personalization in customer service and other areas, using data-driven insights to tailor interactions and services to individual needs.\\n*   **New Roles and Specializations:** The rise of AI is creating new job roles such as AI specialists, data analysts, AI trainers, AI ethics consultants, machine learning specialists, and AI maintenance professionals.\\n*   **AI Agent Operating Systems:** Companies are developing AI agent operating systems to orchestrate different agents into new workflows and processes, to scale AI effectively while managing risks and costs.\\n*   **Digital Labor:** Digital labor solutions, facilitated by AI agents, are becoming more prevalent, encompassing tasks from data entry to complex decision-making.\\n\\n**2. Impact on the Labor Market:**\\n\\n*   **Job Displacement:** AI-driven automation is expected to displace some jobs, particularly those involving repetitive or rules-based tasks like data entry and telemarketing. Studies estimate that a significant percentage of businesses plan to reduce their workforce due to automation.\\n*   **Job Creation:** AI is also creating new jobs, particularly in technology-driven fields. Predictions suggest substantial growth in roles related to AI system design, data analysis, and AI programming.\\n*   **Skill Shift:** The demand for digital skills is increasing, requiring workers to adapt and acquire new skills in technology and data management to remain competitive.\\n*   **Productivity Boost:** AI can complement workers by making them more productive, leading to economic growth and increased demand for labor.\\n*   **Changes in Workplace Experience:** AI has the potential to improve job quality by reducing mundane tasks, improving workplace access, and enhancing health and safety.\\n*   **Psychological Impact:** The introduction of AI in the workplace can lead to psychological effects on workers, such as fear of job loss and increased stress.\\n*   **Salary Expectations:** As entry-level roles decline, salary expectations are also shifting, with remaining hires expected to take on roles supported by AI for less money.\\n\\n**3. Challenges and Opportunities:**\\n\\n*   **Reskilling and Upskilling:** A key challenge is the need for workforce reskilling to prepare workers for new roles and adapt to the changing demands of the AI-driven economy.\\n*   **Ethical Considerations:** The integration of AI agents raises ethical concerns that need to be addressed, including issues related to bias, transparency, and accountability.\\n*   **Adaptability and AI Literacy:** Employees need to embrace adaptability and AI literacy to remain competitive in an evolving workforce where collaboration with AI tools is the norm.\\n*   **Strategic Integration:** Businesses need to strategically integrate AI agents to automate tasks and enable employees to focus on innovation and growth.\\n*   **New Economic Models:** AI could follow the pattern of previous technological waves and create new products, markets, and sectors of the economy that require workers to perform new tasks and jobs.\\n\\n**4. Predictions and Projections**\\n\\n*   AI is projected to displace 75 million jobs globally while creating 133 million new ones by 2025, resulting in a net gain of 58 million jobs.\\n*   By 2030, up to 30% of global work activities could be automated.\\n*   AI and automation are predicted to contribute 69 million new jobs worldwide by 2028.\\n\\nIn conclusion, AI agent technology presents both challenges and opportunities for the labor market. While some jobs may be displaced, new roles will emerge, requiring workers to adapt and acquire new skills. By strategically integrating AI and prioritizing workforce development, businesses and policymakers can harness the full potential of AI while mitigating its risks.\\n\"}}}], 'role': 'user'}, 'invocation_id': 'e-54988485-7b90-4f04-82eb-3d004a64995e', 'author': 'research_agent', 'actions': {'state_delta': {}, 'artifact_delta': {}, 'requested_auth_configs': {}}, 'id': 'kSc4fe6m', 'timestamp': 1748879073.564359}\n"
          ]
        },
        {
          "output_type": "stream",
          "name": "stderr",
          "text": [
            "WARNING:google_genai.types:Warning: there are non-text parts in the response: ['function_call'], returning concatenated text result from text parts. Check the full candidates.content.parts accessor to get the full model response.\n"
          ]
        },
        {
          "output_type": "stream",
          "name": "stdout",
          "text": [
            "{'content': {'parts': [{'text': '*   **What are the potential long-term effects of widespread AI Agent adoption on the nature of work, the organization of companies, and the distribution of wealth?**\\n'}, {'function_call': {'id': 'adk-cbbfb677-5b07-4cd7-9e28-e9596b176759', 'args': {'request': 'long-term effects of widespread AI Agent adoption on the nature of work, the organization of companies, and the distribution of wealth'}, 'name': 'simple_search_agent'}}], 'role': 'model'}, 'usage_metadata': {'candidates_token_count': 66, 'candidates_tokens_details': [{'modality': <MediaModality.TEXT: 'TEXT'>, 'token_count': 66}], 'prompt_token_count': 19286, 'prompt_tokens_details': [{'modality': <MediaModality.TEXT: 'TEXT'>, 'token_count': 19286}], 'total_token_count': 19352, 'traffic_type': <TrafficType.ON_DEMAND: 'ON_DEMAND'>}, 'invocation_id': 'e-54988485-7b90-4f04-82eb-3d004a64995e', 'author': 'research_agent', 'actions': {'state_delta': {}, 'artifact_delta': {}, 'requested_auth_configs': {}}, 'long_running_tool_ids': set(), 'id': '2zmwoqHj', 'timestamp': 1748879073.571079}\n"
          ]
        },
        {
          "output_type": "stream",
          "name": "stderr",
          "text": [
            "WARNING:opentelemetry.sdk.trace.export:Already shutdown, dropping span.\n",
            "WARNING:opentelemetry.sdk.trace.export:Already shutdown, dropping span.\n",
            "WARNING:opentelemetry.sdk.trace.export:Already shutdown, dropping span.\n",
            "WARNING:opentelemetry.sdk.trace.export:Already shutdown, dropping span.\n",
            "WARNING:opentelemetry.sdk.trace.export:Already shutdown, dropping span.\n",
            "WARNING:opentelemetry.sdk.trace.export:Already shutdown, dropping span.\n"
          ]
        },
        {
          "output_type": "stream",
          "name": "stdout",
          "text": [
            "{'content': {'parts': [{'function_response': {'id': 'adk-cbbfb677-5b07-4cd7-9e28-e9596b176759', 'name': 'simple_search_agent', 'response': {'result': \"The widespread adoption of AI agents is poised to bring about significant long-term effects across various facets of work, organizational structures, and wealth distribution. Here's a breakdown of these potential impacts:\\n\\n**1. Nature of Work:**\\n\\n*   **Increased Productivity & Efficiency:** AI agents can automate simple and complex tasks, freeing up employees to focus on higher-level priorities such as strategic growth, relationship building, and creative problem-solving. Studies show AI tools can increase productivity, especially for novice and low-skilled workers.\\n*   **Evolution of Skills:** AI agents can help bridge skill shortages by automating specialized tasks, enabling employees to focus on developing new skills and adapting to evolving job requirements. The focus shifts towards roles requiring uniquely human skills.\\n*   **Potential for Longer Hours & Reduced Well-being:** While AI can boost output and compensation, it may not necessarily enhance workers' quality of life. Some studies suggest that higher AI exposure is associated with longer work hours and reduced job satisfaction and work-life balance.\\n*   **Improved Workplace Experience:** AI has the potential to improve job quality by reducing mundane tasks, improving workplace access for different types of workers, and helping to improve workplace health and safety.\\n*   **Changes in Labor Demand:** AI is expected to generate some job losses due to labor substitution. However, it is also likely to create new demand for labor by boosting economic growth and speeding the development of new products and services.\\n\\n**2. Organization of Companies:**\\n\\n*   **Flatter Hierarchies & Dynamic Teams:** AI agents can automate decision-making processes and reduce the need for current levels of supervision and oversight, potentially leading to flatter, more focused organizational hierarchies and dynamic team structures.\\n*   **Increased Agility:** AI adoption allows organizations to react faster to market shifts, adjust strategies in real-time, and optimize processes with data-backed insights.\\n*   **Competitive Advantage:** Organizations that invest in AI agent technology are better positioned to harness its potential, driving innovation and sustaining long-term growth.\\n*   **Streamlined Operations:** AI agents can streamline and facilitate transactions and business processes, working with other agents to coordinate complex workflows.\\n*   **Data-Driven Insights:** With AI assisting in decision-making, organizations can optimize processes with data-backed insights.\\n\\n**3. Distribution of Wealth:**\\n\\n*   **Increased Wealth Inequality:** While AI may reduce wage inequality by displacing high-income workers, it is likely to substantially increase wealth inequality as these same workers benefit from higher returns on their capital holdings.\\n*   **Economic Disruptions & Disparities:** AI has the potential to bring about widespread economic disruptions and magnify existing disparities.\\n*   **Benefits for High-Skilled Workers:** AI could widen income disparities within countries, benefiting highly skilled workers, displacing lower-skilled jobs, and concentrating wealth among those who control the technology.\\n*   **Exacerbation of Global Inequality:** AI could reinforce the dominance of wealthier nations in high-value sectors and undermine lower-cost labor in developing countries, potentially exacerbating global inequality.\\n*   **Productivity Gains & Income Growth:** Gains in productivity, if strong, could result in higher growth and higher incomes for most workers.\\n\\n**Challenges and Considerations:**\\n\\n*   **Trust & Ethics:** The adoption of AI agents presents challenges around issues of trust, ethical concerns, and accountability in the event of failure.\\n*   **Data Quality & Security:** Organizations must invest in the skills, practices, and technologies required to deliver trustworthy AI agents, ensuring data quality and security.\\n*   **Need for Human Oversight:** Human oversight is essential to ensure that AI agent actions are beneficial and aligned with organizational goals.\\n*   **Workforce Development:** Organizations need to focus on building a workforce that can develop and use AI tools effectively, driving adoption and change management.\\n*   **Policy & Regulation:** Governments need to develop policies that promote the beneficial use of AI while mitigating its potential risks, such as increased inequality and job displacement.\\n\\nIt's important to note that the long-term effects of AI agent adoption are still uncertain and will depend on a variety of factors, including the pace of technological development, the choices made by businesses and governments, and the adaptability of workers.\\n\"}}}], 'role': 'user'}, 'invocation_id': 'e-54988485-7b90-4f04-82eb-3d004a64995e', 'author': 'research_agent', 'actions': {'state_delta': {}, 'artifact_delta': {}, 'requested_auth_configs': {}}, 'id': 'HItZ3VT0', 'timestamp': 1748879083.531127}\n"
          ]
        },
        {
          "output_type": "stream",
          "name": "stderr",
          "text": [
            "WARNING:google_genai.types:Warning: there are non-text parts in the response: ['function_call'], returning concatenated text result from text parts. Check the full candidates.content.parts accessor to get the full model response.\n"
          ]
        },
        {
          "output_type": "stream",
          "name": "stdout",
          "text": [
            "{'content': {'parts': [{'text': '*   **What are the key uncertainties and unknowns surrounding the future of AI Agents and their impact on the labor market?**\\n'}, {'function_call': {'id': 'adk-bd7a24a2-1e0f-4a93-bb05-73a81204a790', 'args': {'request': 'key uncertainties and unknowns surrounding the future of AI Agents and their impact on the labor market'}, 'name': 'simple_search_agent'}}], 'role': 'model'}, 'usage_metadata': {'candidates_token_count': 49, 'candidates_tokens_details': [{'modality': <MediaModality.TEXT: 'TEXT'>, 'token_count': 49}], 'prompt_token_count': 20230, 'prompt_tokens_details': [{'modality': <MediaModality.TEXT: 'TEXT'>, 'token_count': 20230}], 'total_token_count': 20279, 'traffic_type': <TrafficType.ON_DEMAND: 'ON_DEMAND'>}, 'invocation_id': 'e-54988485-7b90-4f04-82eb-3d004a64995e', 'author': 'research_agent', 'actions': {'state_delta': {}, 'artifact_delta': {}, 'requested_auth_configs': {}}, 'long_running_tool_ids': set(), 'id': 'rdyly2Sz', 'timestamp': 1748879083.53838}\n"
          ]
        },
        {
          "output_type": "stream",
          "name": "stderr",
          "text": [
            "WARNING:opentelemetry.sdk.trace.export:Already shutdown, dropping span.\n",
            "WARNING:opentelemetry.sdk.trace.export:Already shutdown, dropping span.\n",
            "WARNING:opentelemetry.sdk.trace.export:Already shutdown, dropping span.\n",
            "WARNING:opentelemetry.sdk.trace.export:Already shutdown, dropping span.\n",
            "WARNING:opentelemetry.sdk.trace.export:Already shutdown, dropping span.\n",
            "WARNING:opentelemetry.sdk.trace.export:Already shutdown, dropping span.\n"
          ]
        },
        {
          "output_type": "stream",
          "name": "stdout",
          "text": [
            "{'content': {'parts': [{'function_response': {'id': 'adk-bd7a24a2-1e0f-4a93-bb05-73a81204a790', 'name': 'simple_search_agent', 'response': {'result': \"It appears you're asking about the uncertainties and unknowns surrounding the future impact of AI agents on the labor market. Here's a breakdown of key areas of concern and potential impacts:\\n\\n**1. Job Displacement & Creation**\\n*   **Automation:** AI agents can automate routine and repetitive tasks, leading to job displacement in certain sectors. Some estimate AI could impact nearly 50 million US jobs.\\n*   **New Roles:** AI is also expected to create new jobs, such as AI trainers, data analysts, AI maintenance professionals, AI ethicists, and machine learning engineers.\\n*   **Net Impact:** Projections vary, with some suggesting a net gain in jobs. One projection estimates AI displacing 75 million jobs globally but creating 133 million new ones by 2025.\\n*   **Entry-Level Roles:** There's concern AI could reduce entry-level opportunities as AI-powered tools automate tasks often performed by junior staff.\\n\\n**2. Skills & Adaptation**\\n*   **Skill Shifts:** Workers will need to adapt and develop new skills to complement AI agents' capabilities.\\n*   **Essential Skills:** Adaptability and AI literacy are becoming essential for remaining competitive. The fastest-growing skills include AI-driven data analysis, networking, cybersecurity, and technological literacy.\\n*   **Reskilling & Upskilling:** Companies are expected to prioritize reskilling and upskilling their workforce to enhance collaboration with AI systems.\\n\\n**3. Ethical Considerations**\\n*   **Accountability & Transparency:** Determining responsibility when AI systems make errors is complex.\\n*   **Bias & Fairness:** Ensuring AI systems are free from bias and do not discriminate is crucial.\\n*   **Data Privacy:** Protecting sensitive data used by AI agents is essential.\\n*   **Ethical AI Usage:** Understanding AI ethics will be critical for employees.\\n*   **Job displacement and economic impact:** Automation of tasks by AI agents can lead to job losses, raising ethical questions about the societal impact and the responsibility of organizations to support displaced workers.\\n\\n**4. The Changing Nature of Work**\\n*   **Human-AI Collaboration:** The future of work will involve humans and AI collaborating to deliver better results.\\n*   **Focus on High-Value Work:** AI agents can free up employees to focus on more strategic, creative, and relationship-building work.\\n*   **Augmented Decision-Making:**  Organizations face the challenge of instilling trust that AI-augmented decision-making leads to better and ethical decisions.\\n\\n**5. Economic & Market Dynamics**\\n*   **Increased Efficiency & Productivity:** Organizations are integrating AI agents to automate tasks and increase efficiency.\\n*   **Shifting Labor Division:** AI is causing a fundamental shift in the division of labor between humans and machines.\\n*   **New Business Models:** AI agents could optimize or even automate entire business functions.\\n*   **Competition:** US firms are expanding operations in countries like India where skilled professionals can be employed at lower costs, intensifying competition for some roles.\\n\\n**6. AI Capabilities & Limitations**\\n*   **Metacognitive & Strategic Reasoning:** AI agents will need to develop metacognitive reasoning (understanding and improving themselves) and strategic reasoning (adapting to other agents' behavior).\\n*   **Task Complexity:** While AI agents can handle complex, multi-step tasks, they may not be able to do *everything*.\\n*   **Human Oversight:** AI agents may require human oversight, especially for unique or higher-order problems.\\n\\n**7. Uncertainty & Implementation**\\n\\n*   **Pace of Adoption:** The speed at which AI agents are adopted and integrated into the workforce remains uncertain.\\n*   **Public Perception:** Bridging the gap in public understanding of AI is a hurdle to widespread adoption.\\n*   **Evolving Technology:** The AI industry is rapidly evolving, with constant innovations reshaping the landscape.\\n*   **Policy & Regulation:** Governments may respond to AI disruption in different ways, from waiting to see what happens to proactively establishing controls.\\n\"}}}], 'role': 'user'}, 'invocation_id': 'e-54988485-7b90-4f04-82eb-3d004a64995e', 'author': 'research_agent', 'actions': {'state_delta': {}, 'artifact_delta': {}, 'requested_auth_configs': {}}, 'id': 'JFYBRqx4', 'timestamp': 1748879093.508658}\n"
          ]
        },
        {
          "output_type": "stream",
          "name": "stderr",
          "text": [
            "WARNING:google_genai.types:Warning: there are non-text parts in the response: ['function_call'], returning concatenated text result from text parts. Check the full candidates.content.parts accessor to get the full model response.\n"
          ]
        },
        {
          "output_type": "stream",
          "name": "stdout",
          "text": [
            "{'content': {'parts': [{'text': '*   **What research and development efforts are needed to ensure that AI Agents are used in a way that benefits both businesses and workers?**\\n'}, {'function_call': {'id': 'adk-1d5c6a89-edcc-4a2c-8ccb-62533dcd524c', 'args': {'request': 'research and development efforts are needed to ensure that AI Agents are used in a way that benefits both businesses and workers'}, 'name': 'simple_search_agent'}}], 'role': 'model'}, 'usage_metadata': {'candidates_token_count': 57, 'candidates_tokens_details': [{'modality': <MediaModality.TEXT: 'TEXT'>, 'token_count': 57}], 'prompt_token_count': 21115, 'prompt_tokens_details': [{'modality': <MediaModality.TEXT: 'TEXT'>, 'token_count': 21115}], 'total_token_count': 21172, 'traffic_type': <TrafficType.ON_DEMAND: 'ON_DEMAND'>}, 'invocation_id': 'e-54988485-7b90-4f04-82eb-3d004a64995e', 'author': 'research_agent', 'actions': {'state_delta': {}, 'artifact_delta': {}, 'requested_auth_configs': {}}, 'long_running_tool_ids': set(), 'id': 'T3QncBiU', 'timestamp': 1748879093.517067}\n"
          ]
        },
        {
          "output_type": "stream",
          "name": "stderr",
          "text": [
            "WARNING:opentelemetry.sdk.trace.export:Already shutdown, dropping span.\n",
            "WARNING:opentelemetry.sdk.trace.export:Already shutdown, dropping span.\n",
            "WARNING:opentelemetry.sdk.trace.export:Already shutdown, dropping span.\n",
            "WARNING:opentelemetry.sdk.trace.export:Already shutdown, dropping span.\n",
            "WARNING:opentelemetry.sdk.trace.export:Already shutdown, dropping span.\n",
            "WARNING:opentelemetry.sdk.trace.export:Already shutdown, dropping span.\n"
          ]
        },
        {
          "output_type": "stream",
          "name": "stdout",
          "text": [
            "{'content': {'parts': [{'function_response': {'id': 'adk-1d5c6a89-edcc-4a2c-8ccb-62533dcd524c', 'name': 'simple_search_agent', 'response': {'result': \"It's true that research and development efforts are essential to ensure AI agents benefit both businesses and workers. Here's a breakdown of why, and what areas these efforts should focus on:\\n\\n**1. Benefits of AI Agents in Business and Work:**\\n\\n*   **Increased Productivity & Efficiency:** AI agents can automate repetitive tasks (like data entry, scheduling, and basic research), freeing up human workers for more creative and strategic work. Some businesses have reported a potential 30% increase in operational efficiency.\\n*   **Cost Savings:** Businesses using AI agents have reported cost reductions (as high as 30%) through handling more customer inquiries and boosting e-commerce efficiency. AI agents can also reduce the need for employee benefits and compensation for downtime.\\n*   **Improved Decision-Making:** AI agents can quickly process vast amounts of data, identify patterns, and provide data-driven insights for better decision-making.\\n*   **24/7 Support:** AI agents can provide round-the-clock customer service, handling multiple inquiries simultaneously.\\n*   **Accelerated Research:** AI agents can assist researchers by automating tasks, analyzing data, generating insights, and even helping formulate new research questions.\\n\\n**2. Key Areas for Research and Development:**\\n\\n*   **Ethical Considerations:**\\n    *   **Bias Mitigation:** AI agents can perpetuate existing prejudices if trained on biased data. R&D is needed to develop methods for identifying and mitigating bias in data and algorithms.\\n    *   **Transparency & Explainability:** It's crucial to understand how AI agents make decisions. Research is needed to develop techniques that make AI decision-making processes more transparent and explainable.\\n    *   **Accountability:** Clear governance structures and ethical frameworks are needed to ensure responsible AI development and deployment.\\n    *   **Value Alignment:** Ensuring that AI agents' values align with human values and societal ideals is crucial.\\n    *   **Preserving Human Dignity:** Even when AI augments rather than replaces human labor, it's important to address potential psychological consequences and ensure human workers don't experience a decline in self-worth.\\n*   **Addressing Job Displacement:**\\n    *   **Reskilling Programs:** With the rise of AI agents, many HR leaders are planning to reskill employees for new roles in the digital labor era. Research is needed to develop effective reskilling programs that equip workers with the skills needed to thrive in an AI-driven workplace.\\n    *   **Job Redesign:** Industries need to redesign jobs to incorporate AI agents effectively, focusing on human-AI collaboration.\\n*   **Data Quality and Management:**\\n    *   **Data Compatibility:** A major challenge is ensuring data is compatible and of high quality for AI agents to use effectively.\\n    *   **Data Governance:** Robust data governance policies are needed to ensure data quality standards and consistent data management.\\n*   **Security:**\\n    *   **Cybersecurity Measures:** AI agents can be vulnerable to attacks that manipulate their behavior or steal sensitive data. Strong cybersecurity measures are essential to protect AI systems.\\n*   **Performance and Scalability:**\\n    *   **Scalability Solutions**: AI agents, especially those dealing with real-time data, need to be able to scale effectively.\\n*   **Human-AI Collaboration:**\\n    *   **Collaboration Models**: Researching and establishing frameworks for effective human-AI agent collaboration is crucial.\\n*   **Regulation and Oversight:**\\n    *   **Establishing Oversight**: Governments may need to establish oversight for the internal use of AI in R&D, as well as external deployments.\\n*   **AI Literacy:**\\n    *   **Training Programs:** Training programs are needed to educate employees and researchers about algorithmic and AI literacy.\\n\\n**3. Potential Risks if Not Addressed:**\\n\\n*   **Unethical actions:** Without proper safeguards, AI agents could engage in unethical activities, such as plagiarism or data fabrication.\\n*   **Misuse:** More autonomous AI assistants may enable misuse, such as spreading misinformation or engaging in cyberattacks.\\n*   **Deskilling:** Over-reliance on AI agents could lead to a loss of critical thinking skills among researchers and workers.\\n\\nBy focusing on these research and development areas, we can work towards a future where AI agents are used in a way that benefits both businesses and workers, promoting innovation while upholding ethical principles and safeguarding human well-being.\\n\"}}}], 'role': 'user'}, 'invocation_id': 'e-54988485-7b90-4f04-82eb-3d004a64995e', 'author': 'research_agent', 'actions': {'state_delta': {}, 'artifact_delta': {}, 'requested_auth_configs': {}}, 'id': '6sdMQl5e', 'timestamp': 1748879103.603152}\n"
          ]
        },
        {
          "output_type": "stream",
          "name": "stderr",
          "text": [
            "WARNING:opentelemetry.sdk.trace.export:Already shutdown, dropping span.\n",
            "WARNING:opentelemetry.sdk.trace.export:Already shutdown, dropping span.\n"
          ]
        },
        {
          "output_type": "stream",
          "name": "stdout",
          "text": [
            "{'content': {'parts': [{'text': 'Okay, I have answered all the questions from the research plan.\\n'}], 'role': 'model'}, 'usage_metadata': {'candidates_token_count': 14, 'candidates_tokens_details': [{'modality': <MediaModality.TEXT: 'TEXT'>, 'token_count': 14}], 'prompt_token_count': 22081, 'prompt_tokens_details': [{'modality': <MediaModality.TEXT: 'TEXT'>, 'token_count': 22081}], 'total_token_count': 22095, 'traffic_type': <TrafficType.ON_DEMAND: 'ON_DEMAND'>}, 'invocation_id': 'e-54988485-7b90-4f04-82eb-3d004a64995e', 'author': 'research_agent', 'actions': {'state_delta': {}, 'artifact_delta': {}, 'requested_auth_configs': {}}, 'id': 'lm4vQhEK', 'timestamp': 1748879103.610679}\n"
          ]
        },
        {
          "output_type": "stream",
          "name": "stderr",
          "text": [
            "WARNING:opentelemetry.sdk.trace.export:Already shutdown, dropping span.\n",
            "WARNING:opentelemetry.sdk.trace.export:Already shutdown, dropping span.\n",
            "WARNING:opentelemetry.sdk.trace.export:Already shutdown, dropping span.\n",
            "WARNING:opentelemetry.sdk.trace.export:Already shutdown, dropping span.\n"
          ]
        },
        {
          "output_type": "stream",
          "name": "stdout",
          "text": [
            "{'content': {'parts': [{'text': 'Okay, here\\'s a research report in markdown format, summarizing the search results regarding the impact of AI Agents on the labor market.\\n\\n# Research Report: AI Agent\\'s Impact on the Labor Market\\n\\n## 1. Foundational Understanding\\n\\n### 1.1. Definition and Types of AI Agents in the Labor Market\\n\\nAI agents are sophisticated software programs designed to autonomously perform tasks, make decisions, and interact with their environment with minimal human oversight. Key characteristics include autonomy, reasoning, learning, and interactivity.\\n\\n**Types of AI Agents:**\\n\\n*   **Chatbots:** Managing routine customer inquiries.\\n*   **Robotic Process Automation (RPA):** Automating repetitive administrative tasks like data collection, document verification, and reporting.\\n*   **AI Assistants:** Assisting in healthcare, finance, and HR tasks such as patient inquiry management, invoice matching, and payroll verification.\\n*   **Autonomous Systems:** Managing inventory, predicting stock shortages, and reordering products automatically.\\n\\n### 1.2. Key Capabilities and Limitations of Current AI Agent Technologies\\n\\n**Capabilities:**\\n\\n*   **Reasoning:** Drawing conclusions and solving problems based on available information.\\n*   **Acting:** Performing tasks based on decisions and external inputs.\\n*   **Autonomy:** Operating and making decisions independently.\\n*   **Learning:** Adapting and improving performance over time through machine learning.\\n*   **Task Automation:** Automating complex tasks at scale.\\n*   **Data Analysis:** Identifying patterns and delivering strategic insights.\\n*   **Tool Use:** Leveraging external tools, APIs, and systems.\\n*   **Interactivity:** Seamlessly interacting with digital interfaces.\\n\\n**Limitations:**\\n\\n*   **Errors and Malfunctions:** Prone to errors, especially in novel situations.\\n*   **Security Issues:** Vulnerable to cyberattacks.\\n*   **Dependence on Data:** Reliance on large, potentially biased datasets.\\n*   **Integration Complexities:** Challenges in integrating with existing systems.\\n*   **Lack of Creativity:** Limited in genuine creativity, intuition, and abstract thinking.\\n*   **Ethical Concerns:** Potential for bias, lack of accountability, and privacy violations.\\n*   **Decision-Making Limitations:** Struggles with nuanced conversations and emotional intelligence.\\n*   **Communication Challenges:** Limited communication between agents.\\n\\n### 1.3. Historical Trends of Automation and Technological Advancements and Their Effects on Employment\\n\\nHistorical trends indicate a complex relationship between automation and employment, characterized by both job displacement and job creation.\\n\\n*   **Job Displacement:** Automation of tasks, reduced demand for low-skill jobs, and skill-biased technological change.\\n*   **Job Creation:** Emergence of new industries and jobs, increased productivity, and economic growth.\\n*   **Transformation of Work:** Changes in job roles (e.g., bank tellers shifting to customer service), increased demand for high-order cognitive skills, and job quality improvements.\\n\\n## 2. In-Depth Analysis\\n\\n### 2.1. Current Implementation of AI Agents in Various Industries and Sectors\\n\\nAI agents are being implemented across various sectors to automate tasks, enhance decision-making, and improve customer experiences.\\n\\n*   **Business:** Automation of standardized processes, collaboration with humans, and data insights.\\n*   **Marketing:** Content creation and personalized customer interactions.\\n*   **Customer Service:** AI-driven chatbots and virtual assistants.\\n*   **Supply Chain Management:** Real-time inventory monitoring and automated reordering.\\n*   **Finance:** Fraud detection and financial analysis.\\n*   **Healthcare:** Patient inquiry management and workflow optimization.\\n*   **Human Resources:** Onboarding, internal mobility, and employee query resolution.\\n\\n### 2.2. Specific Job Roles and Tasks Most Susceptible to Augmentation or Replacement by AI Agents\\n\\nJob roles susceptible to AI augmentation or replacement include:\\n\\n*   Data Entry Clerks\\n*   Telemarketers\\n*   Receptionists\\n*   Customer Service Representatives\\n*   Bookkeeping Clerks\\n*   Retail Cashiers\\n*   Manufacturing Workers\\n*   Administrative Assistants\\n\\nTasks include repetitive and administrative functions, such as data collection, document verification, compliance support, and internal reporting.\\n\\n### 2.3. Observed Effects of AI Agent Implementation on Employment Levels\\n\\n*   **Job Displacement:** Automation leads to job displacement, particularly in routine-based roles.\\n*   **Job Creation:** Emergence of new roles like AI trainers, data analysts, and AI maintenance professionals.\\n*   **Job Transformation:** Shifting focus to higher-value work, requiring adaptability and AI literacy.\\n*   **Overall Impact:** Potential net job gain, increased productivity, and economic growth, though concerns about inequality persist.\\n\\n### 2.4. Impact of AI Agents on Skill Requirements for Various Jobs\\n\\nAI is shifting skill requirements, emphasizing technical skills and human qualities.\\n\\n*   **Automation of Routine Tasks:** Workers focus on complex, creative, and strategic work.\\n*   **Creation of New Job Roles:** Demand for AI Ethics Specialists, Data Scientists, and Machine Learning Engineers.\\n*   **Shift in Skill Requirements:** Need for AI-specific proficiencies like programming and data analysis.\\n*   **Increased Emphasis on Human Skills:** Importance of empathy, critical thinking, and emotional intelligence.\\n\\n### 2.5. Effects of AI Agents on Wages and Income Inequality\\n\\nAI\\'s impact on wages and income inequality is complex:\\n\\n*   **Job Losses:** Potential displacement of millions of jobs.\\n*   **New Job Creation:** Creation of new job opportunities in AI-related fields.\\n*   **Wage Stagnation/Decline:** Possible decline in wages for some workers due to automation.\\n*   **Exacerbating Inequality:** AI could worsen income inequality by favoring high-income workers.\\n*   **Need for Upskilling/Reskilling:** Mitigating negative impacts through training programs and adaptability.\\n\\n### 2.6. Psychological and Sociological Impacts on Workers\\n\\n*   **Anxiety and Stress:** Job security concerns, increased stress, and feelings of inadequacy.\\n*   **Impact on Mental Health:** Negative effects on mental health, including depression and social isolation.\\n*   **Self-Esteem and Purpose:** Reduced self-esteem and loss of meaning.\\n*   **Changes in Work Environment:** Weaker team bonds and increased competition.\\n*   **Potential Benefits:** Reduced workload and improved job engagement.\\n*   **Job Displacement and Insecurity:** Leading to anxiety and reduced job satisfaction.\\n*   **Economic Inequality:** Concentration of wealth and a shrinking middle class.\\n*   **Deskilling:** Potential deskilling of some roles.\\n*   **Reduced Social Interaction:** Negative impact on employee morale and well-being.\\n\\n## 3. Context and Connections\\n\\n### 3.1. Variation of AI Agent Impact Across Countries and Economies\\n\\nThe impact of AI varies based on technological infrastructure, levels of development, and industry types:\\n\\n*   **High-Income Countries:** Higher employment exposure due to advanced infrastructure.\\n*   **Low-Income Countries:** Lower risk of job displacement in the short term but risk of falling behind.\\n*   **Manufacturing-Based Economies:** Significant job displacement in routine tasks.\\n*   **Service-Based Economies:** Shift in job roles and new opportunities in AI development.\\n\\n### 3.2. Ethical Considerations\\n\\n*   **Job Displacement:** Ethical implementation, training programs, and regulations are crucial.\\n*   **Bias and Discrimination:** Use diverse data sets and monitor AI models for bias.\\n*   **Accountability and Transparency:** Establish AI governance structures and assign responsibility for AI actions.\\n*   **Privacy and Surveillance:** Balance privacy against productivity demands.\\n*   **Human Dignity and Well-being:** Ensure AI enhances human capabilities rather than replaces them.\\n\\n### 3.3. Legal and Regulatory Frameworks\\n\\n*   Regulations are lagging behind AI development.\\n*   Key concerns include accountability, data privacy, bias, and transparency.\\n*   Emerging frameworks include the EU AI Act and AI Agent Compliance Frameworks.\\n\\n### 3.4. Mediation by Economic Factors\\n\\nEconomic factors mediate AI\\'s impact:\\n\\n*   **Productivity Growth:** Boosts demand for labor and economic growth.\\n*   **Investment:** Drives AI development and job creation.\\n*   **Consumer Demand:** Influences the adoption and impact of AI.\\n\\n### 3.5. Intersection with Globalization, Remote Work, and the Gig Economy\\n\\n*   **Globalization:** AI enhances communication and customer experience across borders.\\n*   **Remote Work:** AI automates project coordination and provides support for remote teams.\\n*   **Gig Economy:** AI enables talent platforms to manage a growing user base and matches freelancers with projects.\\n\\n## 4. Practical Implications\\n\\n### 4.1. Strategies for Businesses and Policymakers\\n\\n*   **Workforce Transition & Support:** Retraining programs, job redesign, and support for displaced employees.\\n*   **Ethical & Transparent AI Implementation:** Transparency, fairness, and open communication.\\n*   **Culture of Adaptability & Learning:** Continuous learning and a growth mindset.\\n*   **Addressing Employee Concerns & Well-being:** Managing workload and promoting mental fitness.\\n*   **Government & Policy Measures:** Encouraging complementary innovation and investing in education.\\n\\n### 4.2. Education and Training Programs\\n\\n*   Technical literacy, strategic oversight, AI-specific skills, and \"human\" skills.\\n*   Upskilling and reskilling initiatives, personalized learning, and hands-on training.\\n\\n### 4.3. Adaptation for Labor Unions and Worker Organizations\\n\\n*   Embrace AI tools, advocate for worker rights, focus on skills development, and foster collaboration.\\n\\n### 4.4. Innovative Approaches to Social Safety Nets\\n\\n*   Universal Basic Income (UBI), AI Displacement Insurance (AIDI), portable benefits, and wage insurance.\\n\\n## 5. Future Outlook\\n\\n### 5.1. Emerging Trends and Future Directions\\n\\n*   Increased automation, AI-human collaboration, personalized experiences, and new roles.\\n\\n### 5.2. Potential Long-Term Effects\\n\\n*   **Nature of Work:** Increased productivity, evolving skills, and improved workplace experience.\\n*   **Organization of Companies:** Flatter hierarchies and increased agility.\\n*   **Distribution of Wealth:** Increased wealth inequality.\\n\\n### 5.3. Key Uncertainties and Unknowns\\n\\n*   Job displacement and creation, skill shifts, ethical considerations, and economic dynamics.\\n\\n### 5.4. Needed Research and Development Efforts\\n\\n*   Ethical considerations (bias mitigation, transparency, accountability), addressing job displacement (reskilling programs, job redesign), and data quality management.\\n\\nThis report provides a comprehensive overview of the multifaceted impact of AI Agents on the labor market, highlighting both the opportunities and challenges that lie ahead. Further research and proactive strategies are essential to ensure a smooth and equitable transition into the age of AI.\\n'}], 'role': 'model'}, 'usage_metadata': {'candidates_token_count': 2259, 'candidates_tokens_details': [{'modality': <MediaModality.TEXT: 'TEXT'>, 'token_count': 2259}], 'prompt_token_count': 23971, 'prompt_tokens_details': [{'modality': <MediaModality.TEXT: 'TEXT'>, 'token_count': 23971}], 'total_token_count': 26230, 'traffic_type': <TrafficType.ON_DEMAND: 'ON_DEMAND'>}, 'invocation_id': 'e-54988485-7b90-4f04-82eb-3d004a64995e', 'author': 'report_agent', 'actions': {'state_delta': {}, 'artifact_delta': {}, 'requested_auth_configs': {}}, 'id': 'cf0aJWZv', 'timestamp': 1748879105.002818}\n"
          ]
        }
      ]
    },
    {
      "cell_type": "code",
      "source": [
        "from IPython.display import display, Markdown\n",
        "\n",
        "display(Markdown(response_text))"
      ],
      "metadata": {
        "id": "LMghoNFNO9Gs",
        "outputId": "8c3be32d-a584-48a9-e9e4-9cfc6aec9563",
        "colab": {
          "base_uri": "https://localhost:8080/",
          "height": 1000
        }
      },
      "execution_count": 28,
      "outputs": [
        {
          "output_type": "display_data",
          "data": {
            "text/plain": [
              "<IPython.core.display.Markdown object>"
            ],
            "text/markdown": "Okay, I can create a research plan to investigate the impact of AI Agents on the labor market. Here's a plan designed to guide a thorough exploration of the topic:\n\n*   **Foundational Understanding**\n\n    *   What is the definition of an AI Agent, and what are the different types of AI Agents relevant to the labor market (e.g., chatbots, robotic process automation, autonomous systems)?\n    *   What are the key capabilities and limitations of current AI Agent technologies?\n    *   What are the historical trends of automation and technological advancements and their effects on employment?\n*   **In-Depth Analysis**\n\n    *   How are AI Agents currently being implemented in various industries and sectors?\n    *   What specific job roles and tasks are most susceptible to being augmented or replaced by AI Agents?\n    *   What are the observed effects of AI Agent implementation on employment levels, both positive (job creation) and negative (job displacement)?\n    *   How is the introduction of AI Agents affecting the skill requirements for various jobs?\n    *   What are the effects of AI Agents on wages and income inequality?\n    *   What are the psychological and sociological impacts on workers whose jobs are affected by AI Agents?\n*   **Context and Connections**\n\n    *   How does the impact of AI Agents on the labor market vary across different countries and economies? What are the influencing factors?\n    *   What are the ethical considerations surrounding the use of AI Agents in the workplace, such as bias, privacy, and accountability?\n    *   What are the existing legal and regulatory frameworks governing the use of AI Agents in employment?\n    *   How do economic factors like productivity growth, investment, and consumer demand mediate the impact of AI Agents on employment?\n    *   How does the development and deployment of AI Agents intersect with broader trends like globalization, remote work, and the gig economy?\n*   **Practical Implications**\n\n    *   What strategies can businesses and policymakers adopt to mitigate the negative impacts of AI Agents on workers and promote a smooth transition?\n    *   What types of education and training programs can help workers develop the skills needed to complement or work alongside AI Agents?\n    *   How can labor unions and worker organizations adapt to the changing landscape of work in the age of AI Agents?\n    *   What innovative approaches to social safety nets and income support can help workers who are displaced by AI Agents? (e.g., universal basic income, retraining stipends)\n*   **Future Outlook**\n\n    *   What are the emerging trends and future directions in AI Agent technology, and how might these trends further impact the labor market?\n    *   What are the potential long-term effects of widespread AI Agent adoption on the nature of work, the organization of companies, and the distribution of wealth?\n    *   What are the key uncertainties and unknowns surrounding the future of AI Agents and their impact on the labor market?\n    *   What research and development efforts are needed to ensure that AI Agents are used in a way that benefits both businesses and workers?\nOkay, I will now conduct searches to answer the questions outlined in the research plan. Here are the search results, organized by question:\n\n**Foundational Understanding**\n\n*   **What is the definition of an AI Agent, and what are the different types of AI Agents relevant to the labor market (e.g., chatbots, robotic process automation, autonomous systems)?**\n*   **What are the key capabilities and limitations of current AI Agent technologies?**\n*   **What are the historical trends of automation and technological advancements and their effects on employment?**\n**In-Depth Analysis**\n\n*   **How are AI Agents currently being implemented in various industries and sectors?**\n*   **What specific job roles and tasks are most susceptible to being augmented or replaced by AI Agents?**\n*   **What are the observed effects of AI Agent implementation on employment levels, both positive (job creation) and negative (job displacement)?**\n*   **How is the introduction of AI Agents affecting the skill requirements for various jobs?**\n*   **What are the effects of AI Agents on wages and income inequality?**\n*   **What are the psychological and sociological impacts on workers whose jobs are affected by AI Agents?**\n**Context and Connections**\n\n*   **How does the impact of AI Agents on the labor market vary across different countries and economies? What are the influencing factors?**\n*   **What are the ethical considerations surrounding the use of AI Agents in the workplace, such as bias, privacy, and accountability?**\n*   **What are the existing legal and regulatory frameworks governing the use of AI Agents in employment?**\n*   **How do economic factors like productivity growth, investment, and consumer demand mediate the impact of AI Agents on employment?**\n*   **How does the development and deployment of AI Agents intersect with broader trends like globalization, remote work, and the gig economy?**\n**Practical Implications**\n\n*   **What strategies can businesses and policymakers adopt to mitigate the negative impacts of AI Agents on workers and promote a smooth transition?**\n*   **What types of education and training programs can help workers develop the skills needed to complement or work alongside AI Agents?**\n*   **How can labor unions and worker organizations adapt to the changing landscape of work in the age of AI Agents?**\n*   **What innovative approaches to social safety nets and income support can help workers who are displaced by AI Agents? (e.g., universal basic income, retraining stipends)**\n**Future Outlook**\n\n*   **What are the emerging trends and future directions in AI Agent technology, and how might these trends further impact the labor market?**\n*   **What are the potential long-term effects of widespread AI Agent adoption on the nature of work, the organization of companies, and the distribution of wealth?**\n*   **What are the key uncertainties and unknowns surrounding the future of AI Agents and their impact on the labor market?**\n*   **What research and development efforts are needed to ensure that AI Agents are used in a way that benefits both businesses and workers?**\nOkay, I have answered all the questions from the research plan.\nOkay, here's a research report in markdown format, summarizing the search results regarding the impact of AI Agents on the labor market.\n\n# Research Report: AI Agent's Impact on the Labor Market\n\n## 1. Foundational Understanding\n\n### 1.1. Definition and Types of AI Agents in the Labor Market\n\nAI agents are sophisticated software programs designed to autonomously perform tasks, make decisions, and interact with their environment with minimal human oversight. Key characteristics include autonomy, reasoning, learning, and interactivity.\n\n**Types of AI Agents:**\n\n*   **Chatbots:** Managing routine customer inquiries.\n*   **Robotic Process Automation (RPA):** Automating repetitive administrative tasks like data collection, document verification, and reporting.\n*   **AI Assistants:** Assisting in healthcare, finance, and HR tasks such as patient inquiry management, invoice matching, and payroll verification.\n*   **Autonomous Systems:** Managing inventory, predicting stock shortages, and reordering products automatically.\n\n### 1.2. Key Capabilities and Limitations of Current AI Agent Technologies\n\n**Capabilities:**\n\n*   **Reasoning:** Drawing conclusions and solving problems based on available information.\n*   **Acting:** Performing tasks based on decisions and external inputs.\n*   **Autonomy:** Operating and making decisions independently.\n*   **Learning:** Adapting and improving performance over time through machine learning.\n*   **Task Automation:** Automating complex tasks at scale.\n*   **Data Analysis:** Identifying patterns and delivering strategic insights.\n*   **Tool Use:** Leveraging external tools, APIs, and systems.\n*   **Interactivity:** Seamlessly interacting with digital interfaces.\n\n**Limitations:**\n\n*   **Errors and Malfunctions:** Prone to errors, especially in novel situations.\n*   **Security Issues:** Vulnerable to cyberattacks.\n*   **Dependence on Data:** Reliance on large, potentially biased datasets.\n*   **Integration Complexities:** Challenges in integrating with existing systems.\n*   **Lack of Creativity:** Limited in genuine creativity, intuition, and abstract thinking.\n*   **Ethical Concerns:** Potential for bias, lack of accountability, and privacy violations.\n*   **Decision-Making Limitations:** Struggles with nuanced conversations and emotional intelligence.\n*   **Communication Challenges:** Limited communication between agents.\n\n### 1.3. Historical Trends of Automation and Technological Advancements and Their Effects on Employment\n\nHistorical trends indicate a complex relationship between automation and employment, characterized by both job displacement and job creation.\n\n*   **Job Displacement:** Automation of tasks, reduced demand for low-skill jobs, and skill-biased technological change.\n*   **Job Creation:** Emergence of new industries and jobs, increased productivity, and economic growth.\n*   **Transformation of Work:** Changes in job roles (e.g., bank tellers shifting to customer service), increased demand for high-order cognitive skills, and job quality improvements.\n\n## 2. In-Depth Analysis\n\n### 2.1. Current Implementation of AI Agents in Various Industries and Sectors\n\nAI agents are being implemented across various sectors to automate tasks, enhance decision-making, and improve customer experiences.\n\n*   **Business:** Automation of standardized processes, collaboration with humans, and data insights.\n*   **Marketing:** Content creation and personalized customer interactions.\n*   **Customer Service:** AI-driven chatbots and virtual assistants.\n*   **Supply Chain Management:** Real-time inventory monitoring and automated reordering.\n*   **Finance:** Fraud detection and financial analysis.\n*   **Healthcare:** Patient inquiry management and workflow optimization.\n*   **Human Resources:** Onboarding, internal mobility, and employee query resolution.\n\n### 2.2. Specific Job Roles and Tasks Most Susceptible to Augmentation or Replacement by AI Agents\n\nJob roles susceptible to AI augmentation or replacement include:\n\n*   Data Entry Clerks\n*   Telemarketers\n*   Receptionists\n*   Customer Service Representatives\n*   Bookkeeping Clerks\n*   Retail Cashiers\n*   Manufacturing Workers\n*   Administrative Assistants\n\nTasks include repetitive and administrative functions, such as data collection, document verification, compliance support, and internal reporting.\n\n### 2.3. Observed Effects of AI Agent Implementation on Employment Levels\n\n*   **Job Displacement:** Automation leads to job displacement, particularly in routine-based roles.\n*   **Job Creation:** Emergence of new roles like AI trainers, data analysts, and AI maintenance professionals.\n*   **Job Transformation:** Shifting focus to higher-value work, requiring adaptability and AI literacy.\n*   **Overall Impact:** Potential net job gain, increased productivity, and economic growth, though concerns about inequality persist.\n\n### 2.4. Impact of AI Agents on Skill Requirements for Various Jobs\n\nAI is shifting skill requirements, emphasizing technical skills and human qualities.\n\n*   **Automation of Routine Tasks:** Workers focus on complex, creative, and strategic work.\n*   **Creation of New Job Roles:** Demand for AI Ethics Specialists, Data Scientists, and Machine Learning Engineers.\n*   **Shift in Skill Requirements:** Need for AI-specific proficiencies like programming and data analysis.\n*   **Increased Emphasis on Human Skills:** Importance of empathy, critical thinking, and emotional intelligence.\n\n### 2.5. Effects of AI Agents on Wages and Income Inequality\n\nAI's impact on wages and income inequality is complex:\n\n*   **Job Losses:** Potential displacement of millions of jobs.\n*   **New Job Creation:** Creation of new job opportunities in AI-related fields.\n*   **Wage Stagnation/Decline:** Possible decline in wages for some workers due to automation.\n*   **Exacerbating Inequality:** AI could worsen income inequality by favoring high-income workers.\n*   **Need for Upskilling/Reskilling:** Mitigating negative impacts through training programs and adaptability.\n\n### 2.6. Psychological and Sociological Impacts on Workers\n\n*   **Anxiety and Stress:** Job security concerns, increased stress, and feelings of inadequacy.\n*   **Impact on Mental Health:** Negative effects on mental health, including depression and social isolation.\n*   **Self-Esteem and Purpose:** Reduced self-esteem and loss of meaning.\n*   **Changes in Work Environment:** Weaker team bonds and increased competition.\n*   **Potential Benefits:** Reduced workload and improved job engagement.\n*   **Job Displacement and Insecurity:** Leading to anxiety and reduced job satisfaction.\n*   **Economic Inequality:** Concentration of wealth and a shrinking middle class.\n*   **Deskilling:** Potential deskilling of some roles.\n*   **Reduced Social Interaction:** Negative impact on employee morale and well-being.\n\n## 3. Context and Connections\n\n### 3.1. Variation of AI Agent Impact Across Countries and Economies\n\nThe impact of AI varies based on technological infrastructure, levels of development, and industry types:\n\n*   **High-Income Countries:** Higher employment exposure due to advanced infrastructure.\n*   **Low-Income Countries:** Lower risk of job displacement in the short term but risk of falling behind.\n*   **Manufacturing-Based Economies:** Significant job displacement in routine tasks.\n*   **Service-Based Economies:** Shift in job roles and new opportunities in AI development.\n\n### 3.2. Ethical Considerations\n\n*   **Job Displacement:** Ethical implementation, training programs, and regulations are crucial.\n*   **Bias and Discrimination:** Use diverse data sets and monitor AI models for bias.\n*   **Accountability and Transparency:** Establish AI governance structures and assign responsibility for AI actions.\n*   **Privacy and Surveillance:** Balance privacy against productivity demands.\n*   **Human Dignity and Well-being:** Ensure AI enhances human capabilities rather than replaces them.\n\n### 3.3. Legal and Regulatory Frameworks\n\n*   Regulations are lagging behind AI development.\n*   Key concerns include accountability, data privacy, bias, and transparency.\n*   Emerging frameworks include the EU AI Act and AI Agent Compliance Frameworks.\n\n### 3.4. Mediation by Economic Factors\n\nEconomic factors mediate AI's impact:\n\n*   **Productivity Growth:** Boosts demand for labor and economic growth.\n*   **Investment:** Drives AI development and job creation.\n*   **Consumer Demand:** Influences the adoption and impact of AI.\n\n### 3.5. Intersection with Globalization, Remote Work, and the Gig Economy\n\n*   **Globalization:** AI enhances communication and customer experience across borders.\n*   **Remote Work:** AI automates project coordination and provides support for remote teams.\n*   **Gig Economy:** AI enables talent platforms to manage a growing user base and matches freelancers with projects.\n\n## 4. Practical Implications\n\n### 4.1. Strategies for Businesses and Policymakers\n\n*   **Workforce Transition & Support:** Retraining programs, job redesign, and support for displaced employees.\n*   **Ethical & Transparent AI Implementation:** Transparency, fairness, and open communication.\n*   **Culture of Adaptability & Learning:** Continuous learning and a growth mindset.\n*   **Addressing Employee Concerns & Well-being:** Managing workload and promoting mental fitness.\n*   **Government & Policy Measures:** Encouraging complementary innovation and investing in education.\n\n### 4.2. Education and Training Programs\n\n*   Technical literacy, strategic oversight, AI-specific skills, and \"human\" skills.\n*   Upskilling and reskilling initiatives, personalized learning, and hands-on training.\n\n### 4.3. Adaptation for Labor Unions and Worker Organizations\n\n*   Embrace AI tools, advocate for worker rights, focus on skills development, and foster collaboration.\n\n### 4.4. Innovative Approaches to Social Safety Nets\n\n*   Universal Basic Income (UBI), AI Displacement Insurance (AIDI), portable benefits, and wage insurance.\n\n## 5. Future Outlook\n\n### 5.1. Emerging Trends and Future Directions\n\n*   Increased automation, AI-human collaboration, personalized experiences, and new roles.\n\n### 5.2. Potential Long-Term Effects\n\n*   **Nature of Work:** Increased productivity, evolving skills, and improved workplace experience.\n*   **Organization of Companies:** Flatter hierarchies and increased agility.\n*   **Distribution of Wealth:** Increased wealth inequality.\n\n### 5.3. Key Uncertainties and Unknowns\n\n*   Job displacement and creation, skill shifts, ethical considerations, and economic dynamics.\n\n### 5.4. Needed Research and Development Efforts\n\n*   Ethical considerations (bias mitigation, transparency, accountability), addressing job displacement (reskilling programs, job redesign), and data quality management.\n\nThis report provides a comprehensive overview of the multifaceted impact of AI Agents on the labor market, highlighting both the opportunities and challenges that lie ahead. Further research and proactive strategies are essential to ensure a smooth and equitable transition into the age of AI.\n"
          },
          "metadata": {}
        }
      ]
    },
    {
      "cell_type": "code",
      "source": [],
      "metadata": {
        "id": "fGLLZvsd-_St"
      },
      "execution_count": null,
      "outputs": []
    },
    {
      "cell_type": "markdown",
      "source": [
        "## Bonus: Finish the remaining researches\n",
        "\n",
        "Note that the above result has many open questions not yet researched. Try to build an agent tree that completes the research. Some possible directions:\n",
        "\n",
        "- Use LoopAgent, refer to the QuickStart notebook of how to exit_loop.\n",
        "- Optimize the prompt of multiple_search agent so it conducts more thorough searches."
      ],
      "metadata": {
        "id": "JtQ9j3TrPh-J"
      }
    },
    {
      "cell_type": "markdown",
      "source": [
        "## Bonus: Format with grounding data\n",
        "\n",
        "The simple_search_agent returns not only the search results summary, but also the grounding web pages and references / citations."
      ],
      "metadata": {
        "id": "EksjqPnJQDlu"
      }
    },
    {
      "cell_type": "code",
      "source": [],
      "metadata": {
        "id": "YFxdhVFAPmH1"
      },
      "execution_count": null,
      "outputs": []
    }
  ]
}