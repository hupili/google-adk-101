{
  "nbformat": 4,
  "nbformat_minor": 0,
  "metadata": {
    "colab": {
      "provenance": [],
      "toc_visible": true
    },
    "kernelspec": {
      "name": "python3",
      "display_name": "Python 3"
    },
    "language_info": {
      "name": "python"
    }
  },
  "cells": [
    {
      "cell_type": "markdown",
      "source": [
        "# Deploy ADK to Agent Engine\n"
      ],
      "metadata": {
        "id": "aLj1-M-tbXkB"
      }
    },
    {
      "cell_type": "markdown",
      "source": [
        "<table align=\"left\">\n",
        "  <td style=\"text-align: center\">\n",
        "    <a href=\"https://colab.sandbox.google.com/github/hupili/google-adk-101/blob/main/Deploy_to_Agent_Engine.ipynb\">\n",
        "      <img width=\"32px\" src=\"https://www.gstatic.com/pantheon/images/bigquery/welcome_page/colab-logo.svg\" alt=\"Google Colaboratory logo\"><br> Run in Colab\n",
        "    </a>\n",
        "  </td>\n",
        "  <td style=\"text-align: center\">\n",
        "    <a href=\"https://console.cloud.google.com/vertex-ai/colab/import/https:%2F%2Fraw.githubusercontent.com%2Fhupili%2Fgoogle-adk-101%2Fmain%2FDeploy_to_Agent_Engine.ipynb\">\n",
        "      <img width=\"32px\" src=\"https://www.gstatic.com/pantheon/images/bigquery/welcome_page/colab-enterprise-logo.png\" alt=\"Google Cloud Colab Enterprise logo\"><br> Run in Colab Enterprise\n",
        "    </a>\n",
        "  </td>    \n",
        "  <td style=\"text-align: center\">\n",
        "    <a href=\"https://github.com/hupili/google-adk-101/blob/main/Deploy_to_Agent_Engine.ipynb\">\n",
        "      <img width=\"32px\" src=\"https://www.gstatic.com/monospace/240802/git_host_github_mask.svg\" alt=\"GitHub logo\"><br> View on GitHub\n",
        "    </a>\n",
        "  </td>\n",
        "  <td style=\"text-align: center\">\n",
        "    <a href=\"https://console.cloud.google.com/vertex-ai/workbench/deploy-notebook?download_url=https://raw.githubusercontent.com/hupili/google-adk-101/blob/main/Deploy_to_Agent_Engine.ipynb\">\n",
        "      <img width=\"32px\" src=\"https://www.gstatic.com/cloud/images/navigation/vertex-ai.svg\" alt=\"Vertex AI logo\"><br> Open in Vertex AI Workbench\n",
        "    </a>\n",
        "  </td>\n",
        "</table>"
      ],
      "metadata": {
        "id": "eZxgo50CA7q4"
      }
    },
    {
      "cell_type": "markdown",
      "source": [
        "| | |\n",
        "|-|-|\n",
        "| Author(s) | [Pili Hu](https://github.com/hupili)|\n",
        "| Reviewers(s) | Nil |\n",
        "| Last updated | 2025-06-12 |\n",
        "| google-adk | 1.1.1 |\n",
        "| vertexai | 1.93.1 |"
      ],
      "metadata": {
        "id": "9OTR-0NgbYpg"
      }
    },
    {
      "cell_type": "markdown",
      "source": [
        "Changelog:\n",
        "\n",
        "- 20250612: Add clean-up section.\n",
        "- 20250612: Support display_name on agent engine."
      ],
      "metadata": {
        "id": "2w3Qt3RSP85x"
      }
    },
    {
      "cell_type": "markdown",
      "source": [
        "## Environment"
      ],
      "metadata": {
        "id": "FmmSp3Lsbhww"
      }
    },
    {
      "cell_type": "code",
      "execution_count": 4,
      "metadata": {
        "id": "W8sX8hfAbPnU"
      },
      "outputs": [],
      "source": [
        "import os\n",
        "\n",
        "# API_KEY = '' # @param {type:\"string\"}\n",
        "# os.environ[\"GOOGLE_GENAI_USE_VERTEXAI\"] = \"FALSE\" # Use Vertex AI API\n",
        "# os.environ[\"GOOGLE_API_KEY\"] = API_KEY\n",
        "\n",
        "PROJECT_ID = \"hupili-genai-bb\"  # @param {type:\"string\"}\n",
        "if not PROJECT_ID:\n",
        "    PROJECT_ID = str(os.environ.get(\"GOOGLE_CLOUD_PROJECT\"))\n",
        "\n",
        "LOCATION = \"us-central1\" # @param {type:\"string\"}\n",
        "\n",
        "STAGING_BUCKET = 'gs://agent_engine_deploy_staging' # @param {type:\"string\"}\n",
        "\n",
        "os.environ[\"GOOGLE_CLOUD_PROJECT\"] = PROJECT_ID\n",
        "os.environ[\"GOOGLE_CLOUD_LOCATION\"] = LOCATION\n",
        "os.environ[\"GOOGLE_GENAI_USE_VERTEXAI\"] = \"TRUE\" # Use Vertex AI API\n",
        "\n",
        "# [your-project-id]"
      ]
    },
    {
      "cell_type": "code",
      "source": [
        "\n",
        "import vertexai\n",
        "\n",
        "vertexai.init(\n",
        "    project=PROJECT_ID,\n",
        "    location=LOCATION,\n",
        "    staging_bucket=STAGING_BUCKET,\n",
        ")"
      ],
      "metadata": {
        "id": "iFko8Uqrf_JV"
      },
      "execution_count": 5,
      "outputs": []
    },
    {
      "cell_type": "code",
      "source": [
        "from google.colab import auth\n",
        "auth.authenticate_user()"
      ],
      "metadata": {
        "id": "-ryI15UDbrfT"
      },
      "execution_count": 6,
      "outputs": []
    },
    {
      "cell_type": "code",
      "source": [
        "!pip install deprecated\n",
        "!pip install google-adk==1.1.1"
      ],
      "metadata": {
        "colab": {
          "base_uri": "https://localhost:8080/",
          "height": 1000
        },
        "id": "cSLs5ifodzSB",
        "outputId": "52602754-cf3f-4002-d735-f0e263fb3530"
      },
      "execution_count": 2,
      "outputs": [
        {
          "output_type": "stream",
          "name": "stdout",
          "text": [
            "Collecting deprecated\n",
            "  Downloading Deprecated-1.2.18-py2.py3-none-any.whl.metadata (5.7 kB)\n",
            "Requirement already satisfied: wrapt<2,>=1.10 in /usr/local/lib/python3.11/dist-packages (from deprecated) (1.17.2)\n",
            "Downloading Deprecated-1.2.18-py2.py3-none-any.whl (10.0 kB)\n",
            "Installing collected packages: deprecated\n",
            "Successfully installed deprecated-1.2.18\n",
            "Collecting google-adk==1.1.1\n",
            "  Downloading google_adk-1.1.1-py3-none-any.whl.metadata (9.5 kB)\n",
            "Collecting authlib>=1.5.1 (from google-adk==1.1.1)\n",
            "  Downloading authlib-1.6.0-py2.py3-none-any.whl.metadata (4.1 kB)\n",
            "Requirement already satisfied: click>=8.1.8 in /usr/local/lib/python3.11/dist-packages (from google-adk==1.1.1) (8.2.1)\n",
            "Requirement already satisfied: fastapi>=0.115.0 in /usr/local/lib/python3.11/dist-packages (from google-adk==1.1.1) (0.115.12)\n",
            "Requirement already satisfied: google-api-python-client>=2.157.0 in /usr/local/lib/python3.11/dist-packages (from google-adk==1.1.1) (2.171.0)\n",
            "Requirement already satisfied: google-cloud-aiplatform>=1.87.0 in /usr/local/lib/python3.11/dist-packages (from google-adk==1.1.1) (1.95.1)\n",
            "Collecting google-cloud-secret-manager>=2.22.0 (from google-adk==1.1.1)\n",
            "  Downloading google_cloud_secret_manager-2.24.0-py3-none-any.whl.metadata (9.7 kB)\n",
            "Collecting google-cloud-speech>=2.30.0 (from google-adk==1.1.1)\n",
            "  Downloading google_cloud_speech-2.33.0-py3-none-any.whl.metadata (9.6 kB)\n",
            "Requirement already satisfied: google-cloud-storage<3.0.0,>=2.18.0 in /usr/local/lib/python3.11/dist-packages (from google-adk==1.1.1) (2.19.0)\n",
            "Requirement already satisfied: google-genai>=1.14.0 in /usr/local/lib/python3.11/dist-packages (from google-adk==1.1.1) (1.18.0)\n",
            "Requirement already satisfied: graphviz>=0.20.2 in /usr/local/lib/python3.11/dist-packages (from google-adk==1.1.1) (0.20.3)\n",
            "Collecting mcp>=1.5.0 (from google-adk==1.1.1)\n",
            "  Downloading mcp-1.9.3-py3-none-any.whl.metadata (28 kB)\n",
            "Collecting opentelemetry-api>=1.31.0 (from google-adk==1.1.1)\n",
            "  Downloading opentelemetry_api-1.34.1-py3-none-any.whl.metadata (1.5 kB)\n",
            "Collecting opentelemetry-exporter-gcp-trace>=1.9.0 (from google-adk==1.1.1)\n",
            "  Downloading opentelemetry_exporter_gcp_trace-1.9.0-py3-none-any.whl.metadata (3.3 kB)\n",
            "Collecting opentelemetry-sdk>=1.31.0 (from google-adk==1.1.1)\n",
            "  Downloading opentelemetry_sdk-1.34.1-py3-none-any.whl.metadata (1.6 kB)\n",
            "Requirement already satisfied: pydantic<3.0.0,>=2.0 in /usr/local/lib/python3.11/dist-packages (from google-adk==1.1.1) (2.11.5)\n",
            "Collecting python-dotenv>=1.0.0 (from google-adk==1.1.1)\n",
            "  Downloading python_dotenv-1.1.0-py3-none-any.whl.metadata (24 kB)\n",
            "Requirement already satisfied: PyYAML>=6.0.2 in /usr/local/lib/python3.11/dist-packages (from google-adk==1.1.1) (6.0.2)\n",
            "Requirement already satisfied: sqlalchemy>=2.0 in /usr/local/lib/python3.11/dist-packages (from google-adk==1.1.1) (2.0.41)\n",
            "Requirement already satisfied: tzlocal>=5.3 in /usr/local/lib/python3.11/dist-packages (from google-adk==1.1.1) (5.3.1)\n",
            "Requirement already satisfied: uvicorn>=0.34.0 in /usr/local/lib/python3.11/dist-packages (from google-adk==1.1.1) (0.34.3)\n",
            "Requirement already satisfied: cryptography in /usr/local/lib/python3.11/dist-packages (from authlib>=1.5.1->google-adk==1.1.1) (43.0.3)\n",
            "Requirement already satisfied: starlette<0.47.0,>=0.40.0 in /usr/local/lib/python3.11/dist-packages (from fastapi>=0.115.0->google-adk==1.1.1) (0.46.2)\n",
            "Requirement already satisfied: typing-extensions>=4.8.0 in /usr/local/lib/python3.11/dist-packages (from fastapi>=0.115.0->google-adk==1.1.1) (4.14.0)\n",
            "Requirement already satisfied: httplib2<1.0.0,>=0.19.0 in /usr/local/lib/python3.11/dist-packages (from google-api-python-client>=2.157.0->google-adk==1.1.1) (0.22.0)\n",
            "Requirement already satisfied: google-auth!=2.24.0,!=2.25.0,<3.0.0,>=1.32.0 in /usr/local/lib/python3.11/dist-packages (from google-api-python-client>=2.157.0->google-adk==1.1.1) (2.38.0)\n",
            "Requirement already satisfied: google-auth-httplib2<1.0.0,>=0.2.0 in /usr/local/lib/python3.11/dist-packages (from google-api-python-client>=2.157.0->google-adk==1.1.1) (0.2.0)\n",
            "Requirement already satisfied: google-api-core!=2.0.*,!=2.1.*,!=2.2.*,!=2.3.0,<3.0.0,>=1.31.5 in /usr/local/lib/python3.11/dist-packages (from google-api-python-client>=2.157.0->google-adk==1.1.1) (2.25.0)\n",
            "Requirement already satisfied: uritemplate<5,>=3.0.1 in /usr/local/lib/python3.11/dist-packages (from google-api-python-client>=2.157.0->google-adk==1.1.1) (4.2.0)\n",
            "Requirement already satisfied: proto-plus<2.0.0,>=1.22.3 in /usr/local/lib/python3.11/dist-packages (from google-cloud-aiplatform>=1.87.0->google-adk==1.1.1) (1.26.1)\n",
            "Requirement already satisfied: protobuf!=4.21.0,!=4.21.1,!=4.21.2,!=4.21.3,!=4.21.4,!=4.21.5,<7.0.0,>=3.20.2 in /usr/local/lib/python3.11/dist-packages (from google-cloud-aiplatform>=1.87.0->google-adk==1.1.1) (5.29.5)\n",
            "Requirement already satisfied: packaging>=14.3 in /usr/local/lib/python3.11/dist-packages (from google-cloud-aiplatform>=1.87.0->google-adk==1.1.1) (24.2)\n",
            "Requirement already satisfied: google-cloud-bigquery!=3.20.0,<4.0.0,>=1.15.0 in /usr/local/lib/python3.11/dist-packages (from google-cloud-aiplatform>=1.87.0->google-adk==1.1.1) (3.34.0)\n",
            "Requirement already satisfied: google-cloud-resource-manager<3.0.0,>=1.3.3 in /usr/local/lib/python3.11/dist-packages (from google-cloud-aiplatform>=1.87.0->google-adk==1.1.1) (1.14.2)\n",
            "Requirement already satisfied: shapely<3.0.0 in /usr/local/lib/python3.11/dist-packages (from google-cloud-aiplatform>=1.87.0->google-adk==1.1.1) (2.1.1)\n",
            "Requirement already satisfied: docstring-parser<1 in /usr/local/lib/python3.11/dist-packages (from google-cloud-aiplatform>=1.87.0->google-adk==1.1.1) (0.16)\n",
            "Requirement already satisfied: grpc-google-iam-v1<1.0.0,>=0.14.0 in /usr/local/lib/python3.11/dist-packages (from google-cloud-secret-manager>=2.22.0->google-adk==1.1.1) (0.14.2)\n",
            "Requirement already satisfied: google-cloud-core<3.0dev,>=2.3.0 in /usr/local/lib/python3.11/dist-packages (from google-cloud-storage<3.0.0,>=2.18.0->google-adk==1.1.1) (2.4.3)\n",
            "Requirement already satisfied: google-resumable-media>=2.7.2 in /usr/local/lib/python3.11/dist-packages (from google-cloud-storage<3.0.0,>=2.18.0->google-adk==1.1.1) (2.7.2)\n",
            "Requirement already satisfied: requests<3.0.0dev,>=2.18.0 in /usr/local/lib/python3.11/dist-packages (from google-cloud-storage<3.0.0,>=2.18.0->google-adk==1.1.1) (2.32.3)\n",
            "Requirement already satisfied: google-crc32c<2.0dev,>=1.0 in /usr/local/lib/python3.11/dist-packages (from google-cloud-storage<3.0.0,>=2.18.0->google-adk==1.1.1) (1.7.1)\n",
            "Requirement already satisfied: anyio<5.0.0,>=4.8.0 in /usr/local/lib/python3.11/dist-packages (from google-genai>=1.14.0->google-adk==1.1.1) (4.9.0)\n",
            "Requirement already satisfied: httpx<1.0.0,>=0.28.1 in /usr/local/lib/python3.11/dist-packages (from google-genai>=1.14.0->google-adk==1.1.1) (0.28.1)\n",
            "Requirement already satisfied: websockets<15.1.0,>=13.0.0 in /usr/local/lib/python3.11/dist-packages (from google-genai>=1.14.0->google-adk==1.1.1) (15.0.1)\n",
            "Collecting httpx-sse>=0.4 (from mcp>=1.5.0->google-adk==1.1.1)\n",
            "  Downloading httpx_sse-0.4.0-py3-none-any.whl.metadata (9.0 kB)\n",
            "Collecting pydantic-settings>=2.5.2 (from mcp>=1.5.0->google-adk==1.1.1)\n",
            "  Downloading pydantic_settings-2.9.1-py3-none-any.whl.metadata (3.8 kB)\n",
            "Requirement already satisfied: python-multipart>=0.0.9 in /usr/local/lib/python3.11/dist-packages (from mcp>=1.5.0->google-adk==1.1.1) (0.0.20)\n",
            "Collecting sse-starlette>=1.6.1 (from mcp>=1.5.0->google-adk==1.1.1)\n",
            "  Downloading sse_starlette-2.3.6-py3-none-any.whl.metadata (10 kB)\n",
            "Requirement already satisfied: importlib-metadata<8.8.0,>=6.0 in /usr/local/lib/python3.11/dist-packages (from opentelemetry-api>=1.31.0->google-adk==1.1.1) (8.7.0)\n",
            "Collecting google-cloud-trace~=1.1 (from opentelemetry-exporter-gcp-trace>=1.9.0->google-adk==1.1.1)\n",
            "  Downloading google_cloud_trace-1.16.2-py3-none-any.whl.metadata (9.7 kB)\n",
            "Collecting opentelemetry-resourcedetector-gcp==1.*,>=1.5.0dev0 (from opentelemetry-exporter-gcp-trace>=1.9.0->google-adk==1.1.1)\n",
            "  Downloading opentelemetry_resourcedetector_gcp-1.9.0a0-py3-none-any.whl.metadata (2.4 kB)\n",
            "Collecting opentelemetry-semantic-conventions==0.55b1 (from opentelemetry-sdk>=1.31.0->google-adk==1.1.1)\n",
            "  Downloading opentelemetry_semantic_conventions-0.55b1-py3-none-any.whl.metadata (2.5 kB)\n",
            "Requirement already satisfied: annotated-types>=0.6.0 in /usr/local/lib/python3.11/dist-packages (from pydantic<3.0.0,>=2.0->google-adk==1.1.1) (0.7.0)\n",
            "Requirement already satisfied: pydantic-core==2.33.2 in /usr/local/lib/python3.11/dist-packages (from pydantic<3.0.0,>=2.0->google-adk==1.1.1) (2.33.2)\n",
            "Requirement already satisfied: typing-inspection>=0.4.0 in /usr/local/lib/python3.11/dist-packages (from pydantic<3.0.0,>=2.0->google-adk==1.1.1) (0.4.1)\n",
            "Requirement already satisfied: greenlet>=1 in /usr/local/lib/python3.11/dist-packages (from sqlalchemy>=2.0->google-adk==1.1.1) (3.2.2)\n",
            "Requirement already satisfied: h11>=0.8 in /usr/local/lib/python3.11/dist-packages (from uvicorn>=0.34.0->google-adk==1.1.1) (0.16.0)\n",
            "Requirement already satisfied: idna>=2.8 in /usr/local/lib/python3.11/dist-packages (from anyio<5.0.0,>=4.8.0->google-genai>=1.14.0->google-adk==1.1.1) (3.10)\n",
            "Requirement already satisfied: sniffio>=1.1 in /usr/local/lib/python3.11/dist-packages (from anyio<5.0.0,>=4.8.0->google-genai>=1.14.0->google-adk==1.1.1) (1.3.1)\n",
            "Requirement already satisfied: googleapis-common-protos<2.0.0,>=1.56.2 in /usr/local/lib/python3.11/dist-packages (from google-api-core!=2.0.*,!=2.1.*,!=2.2.*,!=2.3.0,<3.0.0,>=1.31.5->google-api-python-client>=2.157.0->google-adk==1.1.1) (1.70.0)\n",
            "Requirement already satisfied: grpcio<2.0.0,>=1.33.2 in /usr/local/lib/python3.11/dist-packages (from google-api-core[grpc]!=2.0.*,!=2.1.*,!=2.2.*,!=2.3.*,!=2.4.*,!=2.5.*,!=2.6.*,!=2.7.*,<3.0.0,>=1.34.1->google-cloud-aiplatform>=1.87.0->google-adk==1.1.1) (1.72.1)\n",
            "Requirement already satisfied: grpcio-status<2.0.0,>=1.33.2 in /usr/local/lib/python3.11/dist-packages (from google-api-core[grpc]!=2.0.*,!=2.1.*,!=2.2.*,!=2.3.*,!=2.4.*,!=2.5.*,!=2.6.*,!=2.7.*,<3.0.0,>=1.34.1->google-cloud-aiplatform>=1.87.0->google-adk==1.1.1) (1.71.0)\n",
            "Requirement already satisfied: cachetools<6.0,>=2.0.0 in /usr/local/lib/python3.11/dist-packages (from google-auth!=2.24.0,!=2.25.0,<3.0.0,>=1.32.0->google-api-python-client>=2.157.0->google-adk==1.1.1) (5.5.2)\n",
            "Requirement already satisfied: pyasn1-modules>=0.2.1 in /usr/local/lib/python3.11/dist-packages (from google-auth!=2.24.0,!=2.25.0,<3.0.0,>=1.32.0->google-api-python-client>=2.157.0->google-adk==1.1.1) (0.4.2)\n",
            "Requirement already satisfied: rsa<5,>=3.1.4 in /usr/local/lib/python3.11/dist-packages (from google-auth!=2.24.0,!=2.25.0,<3.0.0,>=1.32.0->google-api-python-client>=2.157.0->google-adk==1.1.1) (4.9.1)\n",
            "Requirement already satisfied: python-dateutil<3.0.0,>=2.8.2 in /usr/local/lib/python3.11/dist-packages (from google-cloud-bigquery!=3.20.0,<4.0.0,>=1.15.0->google-cloud-aiplatform>=1.87.0->google-adk==1.1.1) (2.9.0.post0)\n",
            "Requirement already satisfied: pyparsing!=3.0.0,!=3.0.1,!=3.0.2,!=3.0.3,<4,>=2.4.2 in /usr/local/lib/python3.11/dist-packages (from httplib2<1.0.0,>=0.19.0->google-api-python-client>=2.157.0->google-adk==1.1.1) (3.2.3)\n",
            "Requirement already satisfied: certifi in /usr/local/lib/python3.11/dist-packages (from httpx<1.0.0,>=0.28.1->google-genai>=1.14.0->google-adk==1.1.1) (2025.4.26)\n",
            "Requirement already satisfied: httpcore==1.* in /usr/local/lib/python3.11/dist-packages (from httpx<1.0.0,>=0.28.1->google-genai>=1.14.0->google-adk==1.1.1) (1.0.9)\n",
            "Requirement already satisfied: zipp>=3.20 in /usr/local/lib/python3.11/dist-packages (from importlib-metadata<8.8.0,>=6.0->opentelemetry-api>=1.31.0->google-adk==1.1.1) (3.22.0)\n",
            "Requirement already satisfied: charset-normalizer<4,>=2 in /usr/local/lib/python3.11/dist-packages (from requests<3.0.0dev,>=2.18.0->google-cloud-storage<3.0.0,>=2.18.0->google-adk==1.1.1) (3.4.2)\n",
            "Requirement already satisfied: urllib3<3,>=1.21.1 in /usr/local/lib/python3.11/dist-packages (from requests<3.0.0dev,>=2.18.0->google-cloud-storage<3.0.0,>=2.18.0->google-adk==1.1.1) (2.4.0)\n",
            "Requirement already satisfied: numpy>=1.21 in /usr/local/lib/python3.11/dist-packages (from shapely<3.0.0->google-cloud-aiplatform>=1.87.0->google-adk==1.1.1) (2.0.2)\n",
            "Requirement already satisfied: cffi>=1.12 in /usr/local/lib/python3.11/dist-packages (from cryptography->authlib>=1.5.1->google-adk==1.1.1) (1.17.1)\n",
            "Requirement already satisfied: pycparser in /usr/local/lib/python3.11/dist-packages (from cffi>=1.12->cryptography->authlib>=1.5.1->google-adk==1.1.1) (2.22)\n",
            "Requirement already satisfied: pyasn1<0.7.0,>=0.6.1 in /usr/local/lib/python3.11/dist-packages (from pyasn1-modules>=0.2.1->google-auth!=2.24.0,!=2.25.0,<3.0.0,>=1.32.0->google-api-python-client>=2.157.0->google-adk==1.1.1) (0.6.1)\n",
            "Requirement already satisfied: six>=1.5 in /usr/local/lib/python3.11/dist-packages (from python-dateutil<3.0.0,>=2.8.2->google-cloud-bigquery!=3.20.0,<4.0.0,>=1.15.0->google-cloud-aiplatform>=1.87.0->google-adk==1.1.1) (1.17.0)\n",
            "Downloading google_adk-1.1.1-py3-none-any.whl (1.2 MB)\n",
            "\u001b[2K   \u001b[90m━━━━━━━━━━━━━━━━━━━━━━━━━━━━━━━━━━━━━━━━\u001b[0m \u001b[32m1.2/1.2 MB\u001b[0m \u001b[31m26.8 MB/s\u001b[0m eta \u001b[36m0:00:00\u001b[0m\n",
            "\u001b[?25hDownloading authlib-1.6.0-py2.py3-none-any.whl (239 kB)\n",
            "\u001b[2K   \u001b[90m━━━━━━━━━━━━━━━━━━━━━━━━━━━━━━━━━━━━━━━━\u001b[0m \u001b[32m240.0/240.0 kB\u001b[0m \u001b[31m16.3 MB/s\u001b[0m eta \u001b[36m0:00:00\u001b[0m\n",
            "\u001b[?25hDownloading google_cloud_secret_manager-2.24.0-py3-none-any.whl (218 kB)\n",
            "\u001b[2K   \u001b[90m━━━━━━━━━━━━━━━━━━━━━━━━━━━━━━━━━━━━━━━━\u001b[0m \u001b[32m218.1/218.1 kB\u001b[0m \u001b[31m16.0 MB/s\u001b[0m eta \u001b[36m0:00:00\u001b[0m\n",
            "\u001b[?25hDownloading google_cloud_speech-2.33.0-py3-none-any.whl (335 kB)\n",
            "\u001b[2K   \u001b[90m━━━━━━━━━━━━━━━━━━━━━━━━━━━━━━━━━━━━━━━━\u001b[0m \u001b[32m335.7/335.7 kB\u001b[0m \u001b[31m23.6 MB/s\u001b[0m eta \u001b[36m0:00:00\u001b[0m\n",
            "\u001b[?25hDownloading mcp-1.9.3-py3-none-any.whl (131 kB)\n",
            "\u001b[2K   \u001b[90m━━━━━━━━━━━━━━━━━━━━━━━━━━━━━━━━━━━━━━━━\u001b[0m \u001b[32m131.1/131.1 kB\u001b[0m \u001b[31m9.0 MB/s\u001b[0m eta \u001b[36m0:00:00\u001b[0m\n",
            "\u001b[?25hDownloading opentelemetry_api-1.34.1-py3-none-any.whl (65 kB)\n",
            "\u001b[2K   \u001b[90m━━━━━━━━━━━━━━━━━━━━━━━━━━━━━━━━━━━━━━━━\u001b[0m \u001b[32m65.8/65.8 kB\u001b[0m \u001b[31m4.1 MB/s\u001b[0m eta \u001b[36m0:00:00\u001b[0m\n",
            "\u001b[?25hDownloading opentelemetry_exporter_gcp_trace-1.9.0-py3-none-any.whl (13 kB)\n",
            "Downloading opentelemetry_resourcedetector_gcp-1.9.0a0-py3-none-any.whl (20 kB)\n",
            "Downloading opentelemetry_sdk-1.34.1-py3-none-any.whl (118 kB)\n",
            "\u001b[2K   \u001b[90m━━━━━━━━━━━━━━━━━━━━━━━━━━━━━━━━━━━━━━━━\u001b[0m \u001b[32m118.5/118.5 kB\u001b[0m \u001b[31m7.5 MB/s\u001b[0m eta \u001b[36m0:00:00\u001b[0m\n",
            "\u001b[?25hDownloading opentelemetry_semantic_conventions-0.55b1-py3-none-any.whl (196 kB)\n",
            "\u001b[2K   \u001b[90m━━━━━━━━━━━━━━━━━━━━━━━━━━━━━━━━━━━━━━━━\u001b[0m \u001b[32m196.2/196.2 kB\u001b[0m \u001b[31m14.1 MB/s\u001b[0m eta \u001b[36m0:00:00\u001b[0m\n",
            "\u001b[?25hDownloading python_dotenv-1.1.0-py3-none-any.whl (20 kB)\n",
            "Downloading google_cloud_trace-1.16.2-py3-none-any.whl (103 kB)\n",
            "\u001b[2K   \u001b[90m━━━━━━━━━━━━━━━━━━━━━━━━━━━━━━━━━━━━━━━━\u001b[0m \u001b[32m103.8/103.8 kB\u001b[0m \u001b[31m7.8 MB/s\u001b[0m eta \u001b[36m0:00:00\u001b[0m\n",
            "\u001b[?25hDownloading httpx_sse-0.4.0-py3-none-any.whl (7.8 kB)\n",
            "Downloading pydantic_settings-2.9.1-py3-none-any.whl (44 kB)\n",
            "\u001b[2K   \u001b[90m━━━━━━━━━━━━━━━━━━━━━━━━━━━━━━━━━━━━━━━━\u001b[0m \u001b[32m44.4/44.4 kB\u001b[0m \u001b[31m2.6 MB/s\u001b[0m eta \u001b[36m0:00:00\u001b[0m\n",
            "\u001b[?25hDownloading sse_starlette-2.3.6-py3-none-any.whl (10 kB)\n",
            "Installing collected packages: python-dotenv, httpx-sse, sse-starlette, opentelemetry-api, pydantic-settings, opentelemetry-semantic-conventions, authlib, opentelemetry-sdk, mcp, opentelemetry-resourcedetector-gcp, google-cloud-trace, google-cloud-speech, google-cloud-secret-manager, opentelemetry-exporter-gcp-trace, google-adk\n",
            "Successfully installed authlib-1.6.0 google-adk-1.1.1 google-cloud-secret-manager-2.24.0 google-cloud-speech-2.33.0 google-cloud-trace-1.16.2 httpx-sse-0.4.0 mcp-1.9.3 opentelemetry-api-1.34.1 opentelemetry-exporter-gcp-trace-1.9.0 opentelemetry-resourcedetector-gcp-1.9.0a0 opentelemetry-sdk-1.34.1 opentelemetry-semantic-conventions-0.55b1 pydantic-settings-2.9.1 python-dotenv-1.1.0 sse-starlette-2.3.6\n"
          ]
        },
        {
          "output_type": "display_data",
          "data": {
            "application/vnd.colab-display-data+json": {
              "pip_warning": {
                "packages": [
                  "google"
                ]
              },
              "id": "9912aa8fb5ea408684130a4c222214bc"
            }
          },
          "metadata": {}
        }
      ]
    },
    {
      "cell_type": "code",
      "source": [
        "from google import adk"
      ],
      "metadata": {
        "id": "eo0P3ZdG1CeI"
      },
      "execution_count": 3,
      "outputs": []
    },
    {
      "cell_type": "code",
      "source": [
        "adk.__version__"
      ],
      "metadata": {
        "colab": {
          "base_uri": "https://localhost:8080/",
          "height": 35
        },
        "id": "4lCNTOYN1EOU",
        "outputId": "071c360e-bf52-45f2-fede-ecf88690fe7d"
      },
      "execution_count": 7,
      "outputs": [
        {
          "output_type": "execute_result",
          "data": {
            "text/plain": [
              "'1.1.1'"
            ],
            "application/vnd.google.colaboratory.intrinsic+json": {
              "type": "string"
            }
          },
          "metadata": {},
          "execution_count": 7
        }
      ]
    },
    {
      "cell_type": "code",
      "source": [
        "vertexai.__version__"
      ],
      "metadata": {
        "colab": {
          "base_uri": "https://localhost:8080/",
          "height": 35
        },
        "id": "OOz115cL1F4T",
        "outputId": "62bac00a-358f-4db2-ef81-0f6fcc8e81d8"
      },
      "execution_count": 8,
      "outputs": [
        {
          "output_type": "execute_result",
          "data": {
            "text/plain": [
              "'1.95.1'"
            ],
            "application/vnd.google.colaboratory.intrinsic+json": {
              "type": "string"
            }
          },
          "metadata": {},
          "execution_count": 8
        }
      ]
    },
    {
      "cell_type": "markdown",
      "source": [
        "## AE 101"
      ],
      "metadata": {
        "id": "vvaXZRWTbvL1"
      }
    },
    {
      "cell_type": "code",
      "source": [
        "from vertexai import agent_engines"
      ],
      "metadata": {
        "id": "d-jKZ541bWc-"
      },
      "execution_count": 9,
      "outputs": []
    },
    {
      "cell_type": "code",
      "source": [
        "def delete(resource_id: str) -> None:\n",
        "    remote_agent = agent_engines.get(resource_id)\n",
        "    remote_agent.delete(force=True)\n",
        "    print(f\"Deleted remote agent: {resource_id}\")\n",
        "\n",
        "def list_agents() -> None:\n",
        "    remote_agents = agent_engines.list()\n",
        "    TEMPLATE = '''\n",
        "{agent.name} (\"{agent.display_name}\")\n",
        "- Create time: {agent.create_time}\n",
        "- Update time: {agent.update_time}\n",
        "'''\n",
        "    remote_agents_string = '\\n'.join(TEMPLATE.format(agent=agent) for agent in remote_agents)\n",
        "    print(f\"All remote agents:\\n{remote_agents_string}\")"
      ],
      "metadata": {
        "id": "m8ld-1qdcap_"
      },
      "execution_count": 10,
      "outputs": []
    },
    {
      "cell_type": "code",
      "source": [
        "list_agents()"
      ],
      "metadata": {
        "colab": {
          "base_uri": "https://localhost:8080/"
        },
        "id": "qrtl_BLFb7e3",
        "outputId": "d2f0e9f4-675f-4ae3-9ab7-710d20d97f77"
      },
      "execution_count": 11,
      "outputs": [
        {
          "output_type": "stream",
          "name": "stdout",
          "text": [
            "All remote agents:\n",
            "\n",
            "8348169577238102016 (\"\")\n",
            "- Create time: 2025-06-03 06:09:08.152391+00:00\n",
            "- Update time: 2025-06-03 06:13:15.300308+00:00\n",
            "\n",
            "\n",
            "5147799092037943296 (\"\")\n",
            "- Create time: 2025-06-02 14:14:28.600149+00:00\n",
            "- Update time: 2025-06-02 14:18:55.955685+00:00\n",
            "\n",
            "\n",
            "2164164338904989696 (\"\")\n",
            "- Create time: 2025-06-02 11:57:47.050939+00:00\n",
            "- Update time: 2025-06-02 12:01:18.059991+00:00\n",
            "\n",
            "\n",
            "6087608854902734848 (\"DICE_AGENT\")\n",
            "- Create time: 2025-04-25 08:19:20.817490+00:00\n",
            "- Update time: 2025-04-25 08:22:05.936293+00:00\n",
            "\n",
            "\n",
            "7916070303615156224 (\"llm_auditor\")\n",
            "- Create time: 2025-04-25 07:13:25.339138+00:00\n",
            "- Update time: 2025-04-25 07:18:12.898631+00:00\n",
            "\n",
            "\n",
            "5307078744484085760 (\"llm_auditor\")\n",
            "- Create time: 2025-04-09 08:22:36.179879+00:00\n",
            "- Update time: 2025-04-09 08:25:42.734584+00:00\n",
            "\n",
            "\n",
            "8402318325882814464 (\"\")\n",
            "- Create time: 2025-03-28 08:42:23.121480+00:00\n",
            "- Update time: 2025-03-28 08:46:29.629436+00:00\n",
            "\n",
            "\n",
            "66410502317670400 (\"my-awesome-agent\")\n",
            "- Create time: 2025-03-07 01:22:05.930759+00:00\n",
            "- Update time: 2025-03-07 01:33:02.201959+00:00\n",
            "\n"
          ]
        }
      ]
    },
    {
      "cell_type": "code",
      "source": [],
      "metadata": {
        "id": "4geFcqXucWM9"
      },
      "execution_count": 11,
      "outputs": []
    },
    {
      "cell_type": "markdown",
      "source": [
        "## ADK Agent"
      ],
      "metadata": {
        "id": "x_Hrsr83ddXj"
      }
    },
    {
      "cell_type": "code",
      "source": [
        "from google.adk.tools import google_search\n",
        "from google.adk import Agent\n",
        "from google.adk.agents import Agent, LlmAgent\n",
        "from google.genai import types\n",
        "from pydantic import BaseModel\n",
        "from google.genai import types\n",
        "from google.adk.sessions import InMemorySessionService\n",
        "from google.adk.runners import Runner\n",
        "\n",
        "MODEL = \"gemini-2.0-flash\"\n",
        "APP_NAME = \"simple_search_example\"\n",
        "USER_ID = \"user12345\"\n",
        "SESSION_ID = \"session12345\"\n",
        "AGENT_NAME = \"simple_search_agent\"\n",
        "\n",
        "# Agent\n",
        "simple_search_agent = Agent(\n",
        "    model=MODEL,\n",
        "    name=\"simple_search_agent\",\n",
        "    description=\"Agent to answer questions using Google Search.\",\n",
        "    instruction=\"I can answer your questions by searching the internet. Just ask me anything!\",\n",
        "    generate_content_config=types.GenerateContentConfig(\n",
        "        max_output_tokens=8000,\n",
        "    ),\n",
        "    tools=[google_search],\n",
        ")\n",
        "\n",
        "# Session and Runner\n",
        "session_service = InMemorySessionService()\n",
        "session = await session_service.create_session(app_name=APP_NAME, user_id=USER_ID, session_id=SESSION_ID)\n",
        "runner = Runner(agent=simple_search_agent, app_name=APP_NAME, session_service=session_service)\n",
        "\n",
        "# Agent Interaction\n",
        "def call_agent(runner, session, query):\n",
        "  content = types.Content(role='user', parts=[types.Part(text=query)])\n",
        "  events = runner.run(user_id=session.user_id, session_id=session.id, new_message=content)\n",
        "  return events\n",
        "\n",
        "events = call_agent(runner, session, \"what is next Google IO date?\")\n",
        "list(events)"
      ],
      "metadata": {
        "colab": {
          "base_uri": "https://localhost:8080/"
        },
        "id": "FvY2sMgbdfjE",
        "outputId": "71897d19-b9de-4102-ccc4-f617e205cb5c"
      },
      "execution_count": 12,
      "outputs": [
        {
          "output_type": "execute_result",
          "data": {
            "text/plain": [
              "[Event(content=Content(parts=[Part(video_metadata=None, thought=None, inline_data=None, file_data=None, thought_signature=None, code_execution_result=None, executable_code=None, function_call=None, function_response=None, text='Google I/O 2025 is scheduled to take place on May 20-21, 2025. The event will be held at the Shoreline Amphitheatre in Mountain View, California, and will be livestreamed on YouTube.\\n')], role='model'), grounding_metadata=GroundingMetadata(grounding_chunks=[GroundingChunk(retrieved_context=None, web=GroundingChunkWeb(domain='blog.google', title='blog.google', uri='https://vertexaisearch.cloud.google.com/grounding-api-redirect/AbF9wXGi3w1bBYZHRxdWRJo4l-hqtUUlCJK9Y4Y-pqetcpskjGd4UYO5K6Vy7_msL-rHs35EpHEP9iuYVpkF0t8OTUaJo8fmW3RlfGl4arSQbH-A0sDq8R7xQlfUn1JM8YDjgFwU7rmG5wh9BjvEi6e7JoJqhA==')), GroundingChunk(retrieved_context=None, web=GroundingChunkWeb(domain='indianexpress.com', title='indianexpress.com', uri='https://vertexaisearch.cloud.google.com/grounding-api-redirect/AbF9wXH49Y8uBVGJtNlZQGaOKDc8xXBrpxhNLptNAPY1VfnmwbQybMighIjgrZLyIvzPeESfvIwARo9bbMZ1l_inWZU4j-WbzVZyqQnGjEUiq4MegzDJO28_Ec56S35qrkOl3FBmGxHxpflMz21hivP56UJnvf_ON5CsSDgY_tlnbm_A2V3CBCdXoX0Rj8nIIgdNROwQLh84isSLwVctgM4NRWdMezwkNQD6')), GroundingChunk(retrieved_context=None, web=GroundingChunkWeb(domain='io.google', title='io.google', uri='https://vertexaisearch.cloud.google.com/grounding-api-redirect/AbF9wXEgF8j_4pqnockepMgTyuLmBndYBc66X4RJuyjDista5nKeF5n5G8DlSb2VaMRfEsPggPZWrE1UXwDv_1Ap2oGbfiAN43SbJp5HZwDMBQJd05OEQcbRSQc='))], grounding_supports=[GroundingSupport(confidence_scores=[0.9855817, 0.7578696, 0.9775853], grounding_chunk_indices=[0, 1, 2], segment=Segment(end_index=62, part_index=None, start_index=None, text='Google I/O 2025 is scheduled to take place on May 20-21, 2025.'))], retrieval_metadata=RetrievalMetadata(google_search_dynamic_retrieval_score=None), retrieval_queries=None, search_entry_point=SearchEntryPoint(rendered_content='<style>\\n.container {\\n  align-items: center;\\n  border-radius: 8px;\\n  display: flex;\\n  font-family: Google Sans, Roboto, sans-serif;\\n  font-size: 14px;\\n  line-height: 20px;\\n  padding: 8px 12px;\\n}\\n.chip {\\n  display: inline-block;\\n  border: solid 1px;\\n  border-radius: 16px;\\n  min-width: 14px;\\n  padding: 5px 16px;\\n  text-align: center;\\n  user-select: none;\\n  margin: 0 8px;\\n  -webkit-tap-highlight-color: transparent;\\n}\\n.carousel {\\n  overflow: auto;\\n  scrollbar-width: none;\\n  white-space: nowrap;\\n  margin-right: -12px;\\n}\\n.headline {\\n  display: flex;\\n  margin-right: 4px;\\n}\\n.gradient-container {\\n  position: relative;\\n}\\n.gradient {\\n  position: absolute;\\n  transform: translate(3px, -9px);\\n  height: 36px;\\n  width: 9px;\\n}\\n@media (prefers-color-scheme: light) {\\n  .container {\\n    background-color: #fafafa;\\n    box-shadow: 0 0 0 1px #0000000f;\\n  }\\n  .headline-label {\\n    color: #1f1f1f;\\n  }\\n  .chip {\\n    background-color: #ffffff;\\n    border-color: #d2d2d2;\\n    color: #5e5e5e;\\n    text-decoration: none;\\n  }\\n  .chip:hover {\\n    background-color: #f2f2f2;\\n  }\\n  .chip:focus {\\n    background-color: #f2f2f2;\\n  }\\n  .chip:active {\\n    background-color: #d8d8d8;\\n    border-color: #b6b6b6;\\n  }\\n  .logo-dark {\\n    display: none;\\n  }\\n  .gradient {\\n    background: linear-gradient(90deg, #fafafa 15%, #fafafa00 100%);\\n  }\\n}\\n@media (prefers-color-scheme: dark) {\\n  .container {\\n    background-color: #1f1f1f;\\n    box-shadow: 0 0 0 1px #ffffff26;\\n  }\\n  .headline-label {\\n    color: #fff;\\n  }\\n  .chip {\\n    background-color: #2c2c2c;\\n    border-color: #3c4043;\\n    color: #fff;\\n    text-decoration: none;\\n  }\\n  .chip:hover {\\n    background-color: #353536;\\n  }\\n  .chip:focus {\\n    background-color: #353536;\\n  }\\n  .chip:active {\\n    background-color: #464849;\\n    border-color: #53575b;\\n  }\\n  .logo-light {\\n    display: none;\\n  }\\n  .gradient {\\n    background: linear-gradient(90deg, #1f1f1f 15%, #1f1f1f00 100%);\\n  }\\n}\\n</style>\\n<div class=\"container\">\\n  <div class=\"headline\">\\n    <svg class=\"logo-light\" width=\"18\" height=\"18\" viewBox=\"9 9 35 35\" fill=\"none\" xmlns=\"http://www.w3.org/2000/svg\">\\n      <path fill-rule=\"evenodd\" clip-rule=\"evenodd\" d=\"M42.8622 27.0064C42.8622 25.7839 42.7525 24.6084 42.5487 23.4799H26.3109V30.1568H35.5897C35.1821 32.3041 33.9596 34.1222 32.1258 35.3448V39.6864H37.7213C40.9814 36.677 42.8622 32.2571 42.8622 27.0064V27.0064Z\" fill=\"#4285F4\"/>\\n      <path fill-rule=\"evenodd\" clip-rule=\"evenodd\" d=\"M26.3109 43.8555C30.9659 43.8555 34.8687 42.3195 37.7213 39.6863L32.1258 35.3447C30.5898 36.3792 28.6306 37.0061 26.3109 37.0061C21.8282 37.0061 18.0195 33.9811 16.6559 29.906H10.9194V34.3573C13.7563 39.9841 19.5712 43.8555 26.3109 43.8555V43.8555Z\" fill=\"#34A853\"/>\\n      <path fill-rule=\"evenodd\" clip-rule=\"evenodd\" d=\"M16.6559 29.8904C16.3111 28.8559 16.1074 27.7588 16.1074 26.6146C16.1074 25.4704 16.3111 24.3733 16.6559 23.3388V18.8875H10.9194C9.74388 21.2072 9.06992 23.8247 9.06992 26.6146C9.06992 29.4045 9.74388 32.022 10.9194 34.3417L15.3864 30.8621L16.6559 29.8904V29.8904Z\" fill=\"#FBBC05\"/>\\n      <path fill-rule=\"evenodd\" clip-rule=\"evenodd\" d=\"M26.3109 16.2386C28.85 16.2386 31.107 17.1164 32.9095 18.8091L37.8466 13.8719C34.853 11.082 30.9659 9.3736 26.3109 9.3736C19.5712 9.3736 13.7563 13.245 10.9194 18.8875L16.6559 23.3388C18.0195 19.2636 21.8282 16.2386 26.3109 16.2386V16.2386Z\" fill=\"#EA4335\"/>\\n    </svg>\\n    <svg class=\"logo-dark\" width=\"18\" height=\"18\" viewBox=\"0 0 48 48\" xmlns=\"http://www.w3.org/2000/svg\">\\n      <circle cx=\"24\" cy=\"23\" fill=\"#FFF\" r=\"22\"/>\\n      <path d=\"M33.76 34.26c2.75-2.56 4.49-6.37 4.49-11.26 0-.89-.08-1.84-.29-3H24.01v5.99h8.03c-.4 2.02-1.5 3.56-3.07 4.56v.75l3.91 2.97h.88z\" fill=\"#4285F4\"/>\\n      <path d=\"M15.58 25.77A8.845 8.845 0 0 0 24 31.86c1.92 0 3.62-.46 4.97-1.31l4.79 3.71C31.14 36.7 27.65 38 24 38c-5.93 0-11.01-3.4-13.45-8.36l.17-1.01 4.06-2.85h.8z\" fill=\"#34A853\"/>\\n      <path d=\"M15.59 20.21a8.864 8.864 0 0 0 0 5.58l-5.03 3.86c-.98-2-1.53-4.25-1.53-6.64 0-2.39.55-4.64 1.53-6.64l1-.22 3.81 2.98.22 1.08z\" fill=\"#FBBC05\"/>\\n      <path d=\"M24 14.14c2.11 0 4.02.75 5.52 1.98l4.36-4.36C31.22 9.43 27.81 8 24 8c-5.93 0-11.01 3.4-13.45 8.36l5.03 3.85A8.86 8.86 0 0 1 24 14.14z\" fill=\"#EA4335\"/>\\n    </svg>\\n    <div class=\"gradient-container\"><div class=\"gradient\"></div></div>\\n  </div>\\n  <div class=\"carousel\">\\n    <a class=\"chip\" href=\"https://vertexaisearch.cloud.google.com/grounding-api-redirect/AbF9wXFKyH-L4ByMN6j4b1YWTt-j79hyWlPOFFUvxQblRILQss4w-liaqwvJINPPHDgHsO6SVXiTyRmwIg6MOPi_08-osbEpmSfti4RupN390Nip-1xk8QdiQ6DYh7xBMJPuUUkgKGM-fvZm5_KOnr2Puw8pXO7B3WirGAw9tXa1TSm62vm3ecyRVauqSQ-o5pZiCM0DAxpbKho=\">next google io date</a>\\n  </div>\\n</div>\\n', sdk_blob=None), web_search_queries=['next google io date']), partial=None, turn_complete=None, error_code=None, error_message=None, interrupted=None, custom_metadata=None, usage_metadata=GenerateContentResponseUsageMetadata(cache_tokens_details=None, cached_content_token_count=None, candidates_token_count=55, candidates_tokens_details=[ModalityTokenCount(modality=<MediaModality.TEXT: 'TEXT'>, token_count=55)], prompt_token_count=54, prompt_tokens_details=[ModalityTokenCount(modality=<MediaModality.TEXT: 'TEXT'>, token_count=54)], thoughts_token_count=None, tool_use_prompt_token_count=None, tool_use_prompt_tokens_details=None, total_token_count=109, traffic_type=<TrafficType.ON_DEMAND: 'ON_DEMAND'>), invocation_id='e-2a96987c-e9b5-4d18-943b-930d14676f4c', author='simple_search_agent', actions=EventActions(skip_summarization=None, state_delta={}, artifact_delta={}, transfer_to_agent=None, escalate=None, requested_auth_configs={}), long_running_tool_ids=None, branch=None, id='qqMueUhT', timestamp=1749699305.476715)]"
            ]
          },
          "metadata": {},
          "execution_count": 12
        }
      ]
    },
    {
      "cell_type": "code",
      "source": [],
      "metadata": {
        "id": "KPNpVCSZewe7"
      },
      "execution_count": null,
      "outputs": []
    },
    {
      "cell_type": "code",
      "source": [
        "#"
      ],
      "metadata": {
        "id": "q9bKIFYgd9N_"
      },
      "execution_count": null,
      "outputs": []
    },
    {
      "cell_type": "markdown",
      "source": [
        "## Agent Engine Local"
      ],
      "metadata": {
        "id": "vlF8T3wbfCro"
      }
    },
    {
      "cell_type": "code",
      "source": [
        "# Setting a proper display name let's you find it easier in the future\n",
        "from datetime import datetime\n",
        "datetime_str = datetime.strftime(datetime.now(), '%Y-%m-%d-%H-%M-%S')\n",
        "agent_engine_display_name = f\"simple_search_agent_{datetime_str}\"\n",
        "agent_engine_display_name"
      ],
      "metadata": {
        "id": "FDir_oktNMZe",
        "outputId": "90a23ce9-242e-40ad-c861-a6388c7a167e",
        "colab": {
          "base_uri": "https://localhost:8080/",
          "height": 35
        }
      },
      "execution_count": 29,
      "outputs": [
        {
          "output_type": "execute_result",
          "data": {
            "text/plain": [
              "'simple_search_agent_2025-06-12-03-40-05'"
            ],
            "application/vnd.google.colaboratory.intrinsic+json": {
              "type": "string"
            }
          },
          "metadata": {},
          "execution_count": 29
        }
      ]
    },
    {
      "cell_type": "code",
      "source": [
        "from vertexai.preview import reasoning_engines\n",
        "\n",
        "app = reasoning_engines.AdkApp(\n",
        "    agent=simple_search_agent,\n",
        "    enable_tracing=True,\n",
        ")"
      ],
      "metadata": {
        "id": "9RKd1-wIfEJX"
      },
      "execution_count": 30,
      "outputs": []
    },
    {
      "cell_type": "code",
      "source": [
        "session = app.create_session(user_id=\"u_123\")\n",
        "session"
      ],
      "metadata": {
        "colab": {
          "base_uri": "https://localhost:8080/"
        },
        "id": "iEZnWmGkfEoq",
        "outputId": "4fa95ce5-d523-4fda-bb07-265124e16b2b"
      },
      "execution_count": 31,
      "outputs": [
        {
          "output_type": "execute_result",
          "data": {
            "text/plain": [
              "Session(id='847de9d8-e9fb-4130-9496-681b57b1d54f', app_name='default-app-name', user_id='u_123', state={}, events=[], last_update_time=1749699607.065701)"
            ]
          },
          "metadata": {},
          "execution_count": 31
        }
      ]
    },
    {
      "cell_type": "code",
      "source": [
        "app.list_sessions(user_id=\"u_123\")"
      ],
      "metadata": {
        "colab": {
          "base_uri": "https://localhost:8080/"
        },
        "id": "BsqyNY5pfI0h",
        "outputId": "33da185d-2008-42e9-f8df-3fa165e47619"
      },
      "execution_count": 32,
      "outputs": [
        {
          "output_type": "execute_result",
          "data": {
            "text/plain": [
              "ListSessionsResponse(sessions=[Session(id='847de9d8-e9fb-4130-9496-681b57b1d54f', app_name='default-app-name', user_id='u_123', state={}, events=[], last_update_time=1749699607.065701)])"
            ]
          },
          "metadata": {},
          "execution_count": 32
        }
      ]
    },
    {
      "cell_type": "code",
      "source": [
        "my_session = app.get_session(user_id=\"u_123\", session_id=session.id)"
      ],
      "metadata": {
        "id": "vnIKr7t8fOcn"
      },
      "execution_count": 33,
      "outputs": []
    },
    {
      "cell_type": "code",
      "source": [
        "my_session"
      ],
      "metadata": {
        "colab": {
          "base_uri": "https://localhost:8080/"
        },
        "id": "PTHT4QSzfZM5",
        "outputId": "421ed30e-c550-4503-8de5-7b8b57474c9e"
      },
      "execution_count": 34,
      "outputs": [
        {
          "output_type": "execute_result",
          "data": {
            "text/plain": [
              "Session(id='847de9d8-e9fb-4130-9496-681b57b1d54f', app_name='default-app-name', user_id='u_123', state={}, events=[], last_update_time=1749699607.065701)"
            ]
          },
          "metadata": {},
          "execution_count": 34
        }
      ]
    },
    {
      "cell_type": "code",
      "source": [
        "for event in app.stream_query(\n",
        "    user_id=\"u_123\",\n",
        "    session_id=my_session.id,\n",
        "    message=\"whats the weather in new york\",\n",
        "):\n",
        "  print(event)"
      ],
      "metadata": {
        "colab": {
          "base_uri": "https://localhost:8080/"
        },
        "id": "YMaoBWQGfZxT",
        "outputId": "0dbdca37-0ea5-40b0-a133-ce35f889df5d"
      },
      "execution_count": 35,
      "outputs": [
        {
          "output_type": "stream",
          "name": "stdout",
          "text": [
            "{'content': {'parts': [{'text': \"The weather in New York, NY is currently clear with a temperature of 75°F (24°C), but it feels like 77°F (25°C). The chance of rain is around 0%.\\n\\nHere's the forecast for the next few days:\\n\\n*   **Thursday:** Sunny, with a high near 86°F (30°C).\\n*   **Friday:** Mostly sunny, with a high near 77°F (25°C).\\n*   **Saturday:** Chance of showers, with a high near 71°F (21°C).\\n\"}], 'role': 'model'}, 'grounding_metadata': {'grounding_chunks': [{'web': {'domain': 'google.com', 'title': 'Weather information for locality: New York, administrative_area: NY', 'uri': 'https://www.google.com/search?q=weather+in+New York,+NY'}}, {'web': {'domain': 'bbc.co.uk', 'title': 'bbc.co.uk', 'uri': 'https://vertexaisearch.cloud.google.com/grounding-api-redirect/AbF9wXFjDukDtx_83xkFC22mCZCivvZob2ysj6Wk6h7cxOMrYz3UNRZw2hg1kb4P-4WYk-aPYHP3Fjw3zxIq8_D0nnywH2sf5GbUbvTMbZ5Ux7kNollm4GNwVCIh5X5jCgVn9OE='}}, {'web': {'domain': 'accuweather.com', 'title': 'accuweather.com', 'uri': 'https://vertexaisearch.cloud.google.com/grounding-api-redirect/AbF9wXGhZY40IYxc2gBH_4h1Ic4fzRPtXshIzSEpbTYLxgyrNpTpX4g6Sy5NqhtgLnlyCypnlvmfB9tz2oPip4hnzMLvCxVec8JVLbOeUstiEF-6QYbmo39-C6MdUIhn5h6MeCxhyDYkyvUR-lUf9h2YpQKO-5wG_KQi0FF5kD7wPP8Gv-hVCg=='}}], 'grounding_supports': [{'confidence_scores': [0.7279265], 'grounding_chunk_indices': [0], 'segment': {'end_index': 116, 'text': 'The weather in New York, NY is currently clear with a temperature of 75°F (24°C), but it feels like 77°F (25°C).'}}, {'confidence_scores': [0.9183382, 0.9081069, 0.86039513], 'grounding_chunk_indices': [0, 1, 2], 'segment': {'end_index': 149, 'start_index': 117, 'text': 'The chance of rain is around 0%.'}}, {'confidence_scores': [0.8253594], 'grounding_chunk_indices': [1], 'segment': {'end_index': 313, 'start_index': 252, 'text': '*   **Friday:** Mostly sunny, with a high near 77°F (25°C).'}}], 'retrieval_metadata': {}, 'search_entry_point': {'rendered_content': '<style>\\n.container {\\n  align-items: center;\\n  border-radius: 8px;\\n  display: flex;\\n  font-family: Google Sans, Roboto, sans-serif;\\n  font-size: 14px;\\n  line-height: 20px;\\n  padding: 8px 12px;\\n}\\n.chip {\\n  display: inline-block;\\n  border: solid 1px;\\n  border-radius: 16px;\\n  min-width: 14px;\\n  padding: 5px 16px;\\n  text-align: center;\\n  user-select: none;\\n  margin: 0 8px;\\n  -webkit-tap-highlight-color: transparent;\\n}\\n.carousel {\\n  overflow: auto;\\n  scrollbar-width: none;\\n  white-space: nowrap;\\n  margin-right: -12px;\\n}\\n.headline {\\n  display: flex;\\n  margin-right: 4px;\\n}\\n.gradient-container {\\n  position: relative;\\n}\\n.gradient {\\n  position: absolute;\\n  transform: translate(3px, -9px);\\n  height: 36px;\\n  width: 9px;\\n}\\n@media (prefers-color-scheme: light) {\\n  .container {\\n    background-color: #fafafa;\\n    box-shadow: 0 0 0 1px #0000000f;\\n  }\\n  .headline-label {\\n    color: #1f1f1f;\\n  }\\n  .chip {\\n    background-color: #ffffff;\\n    border-color: #d2d2d2;\\n    color: #5e5e5e;\\n    text-decoration: none;\\n  }\\n  .chip:hover {\\n    background-color: #f2f2f2;\\n  }\\n  .chip:focus {\\n    background-color: #f2f2f2;\\n  }\\n  .chip:active {\\n    background-color: #d8d8d8;\\n    border-color: #b6b6b6;\\n  }\\n  .logo-dark {\\n    display: none;\\n  }\\n  .gradient {\\n    background: linear-gradient(90deg, #fafafa 15%, #fafafa00 100%);\\n  }\\n}\\n@media (prefers-color-scheme: dark) {\\n  .container {\\n    background-color: #1f1f1f;\\n    box-shadow: 0 0 0 1px #ffffff26;\\n  }\\n  .headline-label {\\n    color: #fff;\\n  }\\n  .chip {\\n    background-color: #2c2c2c;\\n    border-color: #3c4043;\\n    color: #fff;\\n    text-decoration: none;\\n  }\\n  .chip:hover {\\n    background-color: #353536;\\n  }\\n  .chip:focus {\\n    background-color: #353536;\\n  }\\n  .chip:active {\\n    background-color: #464849;\\n    border-color: #53575b;\\n  }\\n  .logo-light {\\n    display: none;\\n  }\\n  .gradient {\\n    background: linear-gradient(90deg, #1f1f1f 15%, #1f1f1f00 100%);\\n  }\\n}\\n</style>\\n<div class=\"container\">\\n  <div class=\"headline\">\\n    <svg class=\"logo-light\" width=\"18\" height=\"18\" viewBox=\"9 9 35 35\" fill=\"none\" xmlns=\"http://www.w3.org/2000/svg\">\\n      <path fill-rule=\"evenodd\" clip-rule=\"evenodd\" d=\"M42.8622 27.0064C42.8622 25.7839 42.7525 24.6084 42.5487 23.4799H26.3109V30.1568H35.5897C35.1821 32.3041 33.9596 34.1222 32.1258 35.3448V39.6864H37.7213C40.9814 36.677 42.8622 32.2571 42.8622 27.0064V27.0064Z\" fill=\"#4285F4\"/>\\n      <path fill-rule=\"evenodd\" clip-rule=\"evenodd\" d=\"M26.3109 43.8555C30.9659 43.8555 34.8687 42.3195 37.7213 39.6863L32.1258 35.3447C30.5898 36.3792 28.6306 37.0061 26.3109 37.0061C21.8282 37.0061 18.0195 33.9811 16.6559 29.906H10.9194V34.3573C13.7563 39.9841 19.5712 43.8555 26.3109 43.8555V43.8555Z\" fill=\"#34A853\"/>\\n      <path fill-rule=\"evenodd\" clip-rule=\"evenodd\" d=\"M16.6559 29.8904C16.3111 28.8559 16.1074 27.7588 16.1074 26.6146C16.1074 25.4704 16.3111 24.3733 16.6559 23.3388V18.8875H10.9194C9.74388 21.2072 9.06992 23.8247 9.06992 26.6146C9.06992 29.4045 9.74388 32.022 10.9194 34.3417L15.3864 30.8621L16.6559 29.8904V29.8904Z\" fill=\"#FBBC05\"/>\\n      <path fill-rule=\"evenodd\" clip-rule=\"evenodd\" d=\"M26.3109 16.2386C28.85 16.2386 31.107 17.1164 32.9095 18.8091L37.8466 13.8719C34.853 11.082 30.9659 9.3736 26.3109 9.3736C19.5712 9.3736 13.7563 13.245 10.9194 18.8875L16.6559 23.3388C18.0195 19.2636 21.8282 16.2386 26.3109 16.2386V16.2386Z\" fill=\"#EA4335\"/>\\n    </svg>\\n    <svg class=\"logo-dark\" width=\"18\" height=\"18\" viewBox=\"0 0 48 48\" xmlns=\"http://www.w3.org/2000/svg\">\\n      <circle cx=\"24\" cy=\"23\" fill=\"#FFF\" r=\"22\"/>\\n      <path d=\"M33.76 34.26c2.75-2.56 4.49-6.37 4.49-11.26 0-.89-.08-1.84-.29-3H24.01v5.99h8.03c-.4 2.02-1.5 3.56-3.07 4.56v.75l3.91 2.97h.88z\" fill=\"#4285F4\"/>\\n      <path d=\"M15.58 25.77A8.845 8.845 0 0 0 24 31.86c1.92 0 3.62-.46 4.97-1.31l4.79 3.71C31.14 36.7 27.65 38 24 38c-5.93 0-11.01-3.4-13.45-8.36l.17-1.01 4.06-2.85h.8z\" fill=\"#34A853\"/>\\n      <path d=\"M15.59 20.21a8.864 8.864 0 0 0 0 5.58l-5.03 3.86c-.98-2-1.53-4.25-1.53-6.64 0-2.39.55-4.64 1.53-6.64l1-.22 3.81 2.98.22 1.08z\" fill=\"#FBBC05\"/>\\n      <path d=\"M24 14.14c2.11 0 4.02.75 5.52 1.98l4.36-4.36C31.22 9.43 27.81 8 24 8c-5.93 0-11.01 3.4-13.45 8.36l5.03 3.85A8.86 8.86 0 0 1 24 14.14z\" fill=\"#EA4335\"/>\\n    </svg>\\n    <div class=\"gradient-container\"><div class=\"gradient\"></div></div>\\n  </div>\\n  <div class=\"carousel\">\\n    <a class=\"chip\" href=\"https://vertexaisearch.cloud.google.com/grounding-api-redirect/AbF9wXGvURhEAyhnF6DV23YHg6ipFf4tveHxKLdpUkimZ3lZ9Bg7SQOieojt8QuE4K-ex_Kaqp-PbsKMw5h6I_Xlc-WPJEUc-IwtK6xHfM_hB9PhGK49T8XQWEUC2ak76XGotzFNnmMUl1Nt5U9Nq8KKgiFepLk2HWSEN_q-y2J4IT_1JRfUHv2bG6P8xsgeNF9JHhgXGidf3Fk=\">weather in new york</a>\\n  </div>\\n</div>\\n'}, 'web_search_queries': ['weather in new york']}, 'usage_metadata': {'candidates_token_count': 134, 'candidates_tokens_details': [{'modality': <MediaModality.TEXT: 'TEXT'>, 'token_count': 134}], 'prompt_token_count': 53, 'prompt_tokens_details': [{'modality': <MediaModality.TEXT: 'TEXT'>, 'token_count': 53}], 'total_token_count': 187, 'traffic_type': <TrafficType.ON_DEMAND: 'ON_DEMAND'>}, 'invocation_id': 'e-3497b754-788c-426d-b4ed-71c437b8dd96', 'author': 'simple_search_agent', 'actions': {'state_delta': {}, 'artifact_delta': {}, 'requested_auth_configs': {}}, 'id': '1JptITGI', 'timestamp': 1749699609.192288}\n"
          ]
        }
      ]
    },
    {
      "cell_type": "markdown",
      "source": [
        "## Agent Engine Remote"
      ],
      "metadata": {
        "id": "ahxFyz8xgrRJ"
      }
    },
    {
      "cell_type": "code",
      "source": [
        "from vertexai import agent_engines"
      ],
      "metadata": {
        "id": "r_HwTmhqzbE8"
      },
      "execution_count": null,
      "outputs": []
    },
    {
      "cell_type": "code",
      "source": [
        "remote_app = agent_engines.create(\n",
        "    display_name=agent_engine_display_name,\n",
        "    agent_engine=simple_search_agent,\n",
        "    requirements=[\n",
        "        \"google-cloud-aiplatform[adk,agent_engines]\"\n",
        "    ]\n",
        ")"
      ],
      "metadata": {
        "id": "8tHzGfuqfcpV",
        "colab": {
          "base_uri": "https://localhost:8080/"
        },
        "outputId": "9ca5b272-e834-4246-d858-06ce9c788ff3"
      },
      "execution_count": 36,
      "outputs": [
        {
          "output_type": "stream",
          "name": "stderr",
          "text": [
            "INFO:vertexai.agent_engines:Deploying google.adk.agents.Agent as an application.\n",
            "INFO:vertexai.agent_engines:Identified the following requirements: {'cloudpickle': '3.1.1', 'google-cloud-aiplatform': '1.95.1', 'pydantic': '2.11.5'}\n",
            "WARNING:vertexai.agent_engines:The following requirements are missing: {'cloudpickle', 'pydantic'}\n",
            "INFO:vertexai.agent_engines:The following requirements are appended: {'cloudpickle==3.1.1', 'pydantic==2.11.5'}\n",
            "INFO:vertexai.agent_engines:The final list of requirements: ['google-cloud-aiplatform[adk,agent_engines]', 'cloudpickle==3.1.1', 'pydantic==2.11.5']\n",
            "INFO:vertexai.agent_engines:Using bucket agent_engine_deploy_staging\n",
            "INFO:vertexai.agent_engines:Wrote to gs://agent_engine_deploy_staging/agent_engine/agent_engine.pkl\n",
            "INFO:vertexai.agent_engines:Writing to gs://agent_engine_deploy_staging/agent_engine/requirements.txt\n",
            "INFO:vertexai.agent_engines:Creating in-memory tarfile of extra_packages\n",
            "INFO:vertexai.agent_engines:Writing to gs://agent_engine_deploy_staging/agent_engine/dependencies.tar.gz\n",
            "INFO:vertexai.agent_engines:Creating AgentEngine\n",
            "INFO:vertexai.agent_engines:Create AgentEngine backing LRO: projects/160214671203/locations/us-central1/reasoningEngines/8759404518212370432/operations/591415038154113024\n",
            "INFO:vertexai.agent_engines:View progress and logs at https://console.cloud.google.com/logs/query?project=hupili-genai-bb\n",
            "INFO:vertexai.agent_engines:AgentEngine created. Resource name: projects/160214671203/locations/us-central1/reasoningEngines/8759404518212370432\n",
            "INFO:vertexai.agent_engines:To use this AgentEngine in another session:\n",
            "INFO:vertexai.agent_engines:agent_engine = vertexai.agent_engines.get('projects/160214671203/locations/us-central1/reasoningEngines/8759404518212370432')\n"
          ]
        }
      ]
    },
    {
      "cell_type": "code",
      "source": [
        "remote_app.resource_name"
      ],
      "metadata": {
        "colab": {
          "base_uri": "https://localhost:8080/",
          "height": 35
        },
        "id": "p0xyzLtFfvCE",
        "outputId": "6199f87d-eddb-493e-8fae-c522cf86d348"
      },
      "execution_count": 37,
      "outputs": [
        {
          "output_type": "execute_result",
          "data": {
            "text/plain": [
              "'projects/160214671203/locations/us-central1/reasoningEngines/8759404518212370432'"
            ],
            "application/vnd.google.colaboratory.intrinsic+json": {
              "type": "string"
            }
          },
          "metadata": {},
          "execution_count": 37
        }
      ]
    },
    {
      "cell_type": "code",
      "source": [
        "# Get the previously created AE App\n",
        "remote_app = agent_engines.get('projects/160214671203/locations/us-central1/reasoningEngines/8759404518212370432')"
      ],
      "metadata": {
        "id": "RaXuW857_uDZ"
      },
      "execution_count": 48,
      "outputs": []
    },
    {
      "cell_type": "code",
      "source": [
        "remote_session = remote_app.create_session(user_id=\"u_456\")\n",
        "remote_session"
      ],
      "metadata": {
        "colab": {
          "base_uri": "https://localhost:8080/"
        },
        "id": "YebZqhFpgkVZ",
        "outputId": "3d204d22-2c58-4d1b-e3b6-b7dff72e8ed5"
      },
      "execution_count": 49,
      "outputs": [
        {
          "output_type": "execute_result",
          "data": {
            "text/plain": [
              "{'appName': '8759404518212370432',\n",
              " 'events': [],\n",
              " 'state': {},\n",
              " 'id': '2378565258030612480',\n",
              " 'userId': 'u_456',\n",
              " 'lastUpdateTime': 1749707207.280203}"
            ]
          },
          "metadata": {},
          "execution_count": 49
        }
      ]
    },
    {
      "cell_type": "code",
      "source": [
        "remote_app.list_sessions(user_id=\"u_456\")"
      ],
      "metadata": {
        "colab": {
          "base_uri": "https://localhost:8080/"
        },
        "id": "dxZxVmOOg1Ve",
        "outputId": "5af29447-d0e0-4d61-ab5c-40864c37db01"
      },
      "execution_count": 50,
      "outputs": [
        {
          "output_type": "execute_result",
          "data": {
            "text/plain": [
              "{'sessions': [{'appName': '8759404518212370432',\n",
              "   'events': [],\n",
              "   'state': {},\n",
              "   'id': '2378565258030612480',\n",
              "   'userId': 'u_456',\n",
              "   'lastUpdateTime': 1749707207.280203},\n",
              "  {'appName': '8759404518212370432',\n",
              "   'events': [],\n",
              "   'state': {},\n",
              "   'id': '6477403868891185152',\n",
              "   'userId': 'u_456',\n",
              "   'lastUpdateTime': 1749700134.069227},\n",
              "  {'appName': '8759404518212370432',\n",
              "   'events': [],\n",
              "   'state': {},\n",
              "   'id': '1865717850463797248',\n",
              "   'lastUpdateTime': 1749700130.442556,\n",
              "   'userId': 'u_456'}]}"
            ]
          },
          "metadata": {},
          "execution_count": 50
        }
      ]
    },
    {
      "cell_type": "code",
      "source": [
        "remote_app"
      ],
      "metadata": {
        "colab": {
          "base_uri": "https://localhost:8080/"
        },
        "id": "0idIvMoJg2O5",
        "outputId": "b8ea065d-95db-44b6-aa79-e6552c5451c7"
      },
      "execution_count": 51,
      "outputs": [
        {
          "output_type": "execute_result",
          "data": {
            "text/plain": [
              "<vertexai.agent_engines._agent_engines.AgentEngine object at 0x7dc6ba5a74d0> \n",
              "resource name: projects/160214671203/locations/us-central1/reasoningEngines/8759404518212370432"
            ]
          },
          "metadata": {},
          "execution_count": 51
        }
      ]
    },
    {
      "cell_type": "code",
      "source": [
        "for event in remote_app.stream_query(\n",
        "    user_id=\"u_456\",\n",
        "    session_id=remote_session[\"id\"],\n",
        "    message=\"whats the weather in Hong Kong\",\n",
        "):\n",
        "    print(event)"
      ],
      "metadata": {
        "colab": {
          "base_uri": "https://localhost:8080/"
        },
        "id": "AdD2ZHdPzceQ",
        "outputId": "ef651055-5eb8-4ee5-d24c-f3c26f0b0ad0"
      },
      "execution_count": 52,
      "outputs": [
        {
          "output_type": "stream",
          "name": "stdout",
          "text": [
            "{'content': {'parts': [{'text': 'The weather in Hong Kong is mostly cloudy. The temperature is 87°F (31°C), but it feels like 97°F (36°C) due to 73% humidity. There is a 15% chance of rain.\\n\\nThe forecast for the next few days includes:\\n\\n*   **Thursday:** Heavy thunderstorms during the day and light rain at night (50% chance of rain). Temperatures between 79°F (26°C) and 87°F (31°C).\\n*   **Friday:** Heavy thunderstorms during the day and scattered thunderstorms at night (55% chance of rain during the day and 50% at night). Temperatures between 80°F (27°C) and 85°F (29°C).\\n*   **Saturday:** Scattered thunderstorms during the day and thunderstorms at night (50% chance of rain). Temperatures between 82°F (28°C) and 85°F (29°C).'}], 'role': 'model'}, 'grounding_metadata': {'grounding_chunks': [{'web': {'domain': 'google.com', 'title': 'Weather information for query: weather in Hong Kong', 'uri': 'https://www.google.com/search?q=weather+in+Hong+Kong'}}], 'grounding_supports': [{'confidence_scores': [0.6658294], 'grounding_chunk_indices': [0], 'segment': {'end_index': 42, 'text': 'The weather in Hong Kong is mostly cloudy.'}}, {'confidence_scores': [0.9653415], 'grounding_chunk_indices': [0], 'segment': {'end_index': 129, 'start_index': 43, 'text': 'The temperature is 87°F (31°C), but it feels like 97°F (36°C) due to 73% humidity.'}}, {'confidence_scores': [0.9504715], 'grounding_chunk_indices': [0], 'segment': {'end_index': 160, 'start_index': 130, 'text': 'There is a 15% chance of rain.'}}, {'confidence_scores': [0.89973027], 'grounding_chunk_indices': [0], 'segment': {'end_index': 306, 'start_index': 208, 'text': '*   **Thursday:** Heavy thunderstorms during the day and light rain at night (50% chance of rain).'}}, {'confidence_scores': [0.9141939], 'grounding_chunk_indices': [0], 'segment': {'end_index': 360, 'start_index': 307, 'text': 'Temperatures between 79°F (26°C) and 87°F (31°C).'}}, {'confidence_scores': [0.67426604], 'grounding_chunk_indices': [0], 'segment': {'end_index': 502, 'start_index': 361, 'text': '*   **Friday:** Heavy thunderstorms during the day and scattered thunderstorms at night (55% chance of rain during the day and 50% at night).'}}, {'confidence_scores': [0.77992755], 'grounding_chunk_indices': [0], 'segment': {'end_index': 556, 'start_index': 503, 'text': 'Temperatures between 80°F (27°C) and 85°F (29°C).'}}, {'confidence_scores': [0.8833391], 'grounding_chunk_indices': [0], 'segment': {'end_index': 662, 'start_index': 557, 'text': '*   **Saturday:** Scattered thunderstorms during the day and thunderstorms at night (50% chance of rain).'}}, {'confidence_scores': [0.6925645], 'grounding_chunk_indices': [0], 'segment': {'end_index': 716, 'start_index': 663, 'text': 'Temperatures between 82°F (28°C) and 85°F (29°C).'}}], 'retrieval_metadata': {}, 'search_entry_point': {'rendered_content': '<style>\\n.container {\\n  align-items: center;\\n  border-radius: 8px;\\n  display: flex;\\n  font-family: Google Sans, Roboto, sans-serif;\\n  font-size: 14px;\\n  line-height: 20px;\\n  padding: 8px 12px;\\n}\\n.chip {\\n  display: inline-block;\\n  border: solid 1px;\\n  border-radius: 16px;\\n  min-width: 14px;\\n  padding: 5px 16px;\\n  text-align: center;\\n  user-select: none;\\n  margin: 0 8px;\\n  -webkit-tap-highlight-color: transparent;\\n}\\n.carousel {\\n  overflow: auto;\\n  scrollbar-width: none;\\n  white-space: nowrap;\\n  margin-right: -12px;\\n}\\n.headline {\\n  display: flex;\\n  margin-right: 4px;\\n}\\n.gradient-container {\\n  position: relative;\\n}\\n.gradient {\\n  position: absolute;\\n  transform: translate(3px, -9px);\\n  height: 36px;\\n  width: 9px;\\n}\\n@media (prefers-color-scheme: light) {\\n  .container {\\n    background-color: #fafafa;\\n    box-shadow: 0 0 0 1px #0000000f;\\n  }\\n  .headline-label {\\n    color: #1f1f1f;\\n  }\\n  .chip {\\n    background-color: #ffffff;\\n    border-color: #d2d2d2;\\n    color: #5e5e5e;\\n    text-decoration: none;\\n  }\\n  .chip:hover {\\n    background-color: #f2f2f2;\\n  }\\n  .chip:focus {\\n    background-color: #f2f2f2;\\n  }\\n  .chip:active {\\n    background-color: #d8d8d8;\\n    border-color: #b6b6b6;\\n  }\\n  .logo-dark {\\n    display: none;\\n  }\\n  .gradient {\\n    background: linear-gradient(90deg, #fafafa 15%, #fafafa00 100%);\\n  }\\n}\\n@media (prefers-color-scheme: dark) {\\n  .container {\\n    background-color: #1f1f1f;\\n    box-shadow: 0 0 0 1px #ffffff26;\\n  }\\n  .headline-label {\\n    color: #fff;\\n  }\\n  .chip {\\n    background-color: #2c2c2c;\\n    border-color: #3c4043;\\n    color: #fff;\\n    text-decoration: none;\\n  }\\n  .chip:hover {\\n    background-color: #353536;\\n  }\\n  .chip:focus {\\n    background-color: #353536;\\n  }\\n  .chip:active {\\n    background-color: #464849;\\n    border-color: #53575b;\\n  }\\n  .logo-light {\\n    display: none;\\n  }\\n  .gradient {\\n    background: linear-gradient(90deg, #1f1f1f 15%, #1f1f1f00 100%);\\n  }\\n}\\n</style>\\n<div class=\"container\">\\n  <div class=\"headline\">\\n    <svg class=\"logo-light\" width=\"18\" height=\"18\" viewBox=\"9 9 35 35\" fill=\"none\" xmlns=\"http://www.w3.org/2000/svg\">\\n      <path fill-rule=\"evenodd\" clip-rule=\"evenodd\" d=\"M42.8622 27.0064C42.8622 25.7839 42.7525 24.6084 42.5487 23.4799H26.3109V30.1568H35.5897C35.1821 32.3041 33.9596 34.1222 32.1258 35.3448V39.6864H37.7213C40.9814 36.677 42.8622 32.2571 42.8622 27.0064V27.0064Z\" fill=\"#4285F4\"/>\\n      <path fill-rule=\"evenodd\" clip-rule=\"evenodd\" d=\"M26.3109 43.8555C30.9659 43.8555 34.8687 42.3195 37.7213 39.6863L32.1258 35.3447C30.5898 36.3792 28.6306 37.0061 26.3109 37.0061C21.8282 37.0061 18.0195 33.9811 16.6559 29.906H10.9194V34.3573C13.7563 39.9841 19.5712 43.8555 26.3109 43.8555V43.8555Z\" fill=\"#34A853\"/>\\n      <path fill-rule=\"evenodd\" clip-rule=\"evenodd\" d=\"M16.6559 29.8904C16.3111 28.8559 16.1074 27.7588 16.1074 26.6146C16.1074 25.4704 16.3111 24.3733 16.6559 23.3388V18.8875H10.9194C9.74388 21.2072 9.06992 23.8247 9.06992 26.6146C9.06992 29.4045 9.74388 32.022 10.9194 34.3417L15.3864 30.8621L16.6559 29.8904V29.8904Z\" fill=\"#FBBC05\"/>\\n      <path fill-rule=\"evenodd\" clip-rule=\"evenodd\" d=\"M26.3109 16.2386C28.85 16.2386 31.107 17.1164 32.9095 18.8091L37.8466 13.8719C34.853 11.082 30.9659 9.3736 26.3109 9.3736C19.5712 9.3736 13.7563 13.245 10.9194 18.8875L16.6559 23.3388C18.0195 19.2636 21.8282 16.2386 26.3109 16.2386V16.2386Z\" fill=\"#EA4335\"/>\\n    </svg>\\n    <svg class=\"logo-dark\" width=\"18\" height=\"18\" viewBox=\"0 0 48 48\" xmlns=\"http://www.w3.org/2000/svg\">\\n      <circle cx=\"24\" cy=\"23\" fill=\"#FFF\" r=\"22\"/>\\n      <path d=\"M33.76 34.26c2.75-2.56 4.49-6.37 4.49-11.26 0-.89-.08-1.84-.29-3H24.01v5.99h8.03c-.4 2.02-1.5 3.56-3.07 4.56v.75l3.91 2.97h.88z\" fill=\"#4285F4\"/>\\n      <path d=\"M15.58 25.77A8.845 8.845 0 0 0 24 31.86c1.92 0 3.62-.46 4.97-1.31l4.79 3.71C31.14 36.7 27.65 38 24 38c-5.93 0-11.01-3.4-13.45-8.36l.17-1.01 4.06-2.85h.8z\" fill=\"#34A853\"/>\\n      <path d=\"M15.59 20.21a8.864 8.864 0 0 0 0 5.58l-5.03 3.86c-.98-2-1.53-4.25-1.53-6.64 0-2.39.55-4.64 1.53-6.64l1-.22 3.81 2.98.22 1.08z\" fill=\"#FBBC05\"/>\\n      <path d=\"M24 14.14c2.11 0 4.02.75 5.52 1.98l4.36-4.36C31.22 9.43 27.81 8 24 8c-5.93 0-11.01 3.4-13.45 8.36l5.03 3.85A8.86 8.86 0 0 1 24 14.14z\" fill=\"#EA4335\"/>\\n    </svg>\\n    <div class=\"gradient-container\"><div class=\"gradient\"></div></div>\\n  </div>\\n  <div class=\"carousel\">\\n    <a class=\"chip\" href=\"https://vertexaisearch.cloud.google.com/grounding-api-redirect/AUZIYQFMFL0amjz2xM9XmKAdkF9Gh6t4toLIigQHC6yoNNgICnP0EtIPnMSH9q_0ck7wW8cCMtLVwp3a7-vLHEPxIH8SzSCl8zqyNtNn89cJs0vrkyjvQHXGfMIlTIhuBKcc4cYeBFAW6QvsfL4CzWSt6ZdjwxlmYPWrc4ZBeJs3tusAktz_GVMunArP1VFOrwNRABvPjytbD1iW\">weather in Hong Kong</a>\\n  </div>\\n</div>\\n'}, 'web_search_queries': ['weather in Hong Kong']}, 'usage_metadata': {'candidates_token_count': 224, 'candidates_tokens_details': [{'modality': 'TEXT', 'token_count': 224}], 'prompt_token_count': 53, 'prompt_tokens_details': [{'modality': 'TEXT', 'token_count': 53}], 'total_token_count': 277, 'traffic_type': 'ON_DEMAND'}, 'invocation_id': 'e-a2b8b72f-92c3-46ae-93f1-c362566afc87', 'author': 'simple_search_agent', 'actions': {'state_delta': {}, 'artifact_delta': {}, 'requested_auth_configs': {}}, 'id': 'WOPdazKA', 'timestamp': 1749707212.507068}\n"
          ]
        }
      ]
    },
    {
      "cell_type": "code",
      "source": [
        "for event in remote_app.stream_query(\n",
        "    user_id=\"u_456\",\n",
        "    session_id=remote_session[\"id\"],\n",
        "    message=\"Remember my home location is Hong Kong.\",\n",
        "):\n",
        "    print(event)"
      ],
      "metadata": {
        "colab": {
          "base_uri": "https://localhost:8080/"
        },
        "id": "7ZvZIdur0jnw",
        "outputId": "e0e16c78-0a1a-4031-b322-71872ed3823e"
      },
      "execution_count": 53,
      "outputs": [
        {
          "output_type": "stream",
          "name": "stdout",
          "text": [
            "{'content': {'parts': [{'text': 'Okay, I will remember that your home location is Hong Kong. How can I help you today?\\n'}], 'role': 'model'}, 'grounding_metadata': {}, 'usage_metadata': {'candidates_token_count': 21, 'candidates_tokens_details': [{'modality': 'TEXT', 'token_count': 21}], 'prompt_token_count': 285, 'prompt_tokens_details': [{'modality': 'TEXT', 'token_count': 285}], 'total_token_count': 306, 'traffic_type': 'ON_DEMAND'}, 'invocation_id': 'e-0dbb4824-c33a-49e1-a2aa-b36e6640c839', 'author': 'simple_search_agent', 'actions': {'state_delta': {}, 'artifact_delta': {}, 'requested_auth_configs': {}}, 'id': '2pyETuV0', 'timestamp': 1749707217.261611}\n"
          ]
        }
      ]
    },
    {
      "cell_type": "markdown",
      "source": [],
      "metadata": {
        "id": "16JX8Jrr0dKb"
      }
    },
    {
      "cell_type": "code",
      "source": [
        "new_remote_app = agent_engines.get(remote_app.resource_name)"
      ],
      "metadata": {
        "id": "XUFfmz8ezgaP"
      },
      "execution_count": 54,
      "outputs": []
    },
    {
      "cell_type": "code",
      "source": [
        "remote_session2 = remote_app.create_session(user_id=\"u_456\")\n",
        "remote_session2"
      ],
      "metadata": {
        "colab": {
          "base_uri": "https://localhost:8080/"
        },
        "id": "mZHSB1i80eEJ",
        "outputId": "839d7701-66a6-447a-8bad-af559cb08d6a"
      },
      "execution_count": 55,
      "outputs": [
        {
          "output_type": "execute_result",
          "data": {
            "text/plain": [
              "{'appName': '8759404518212370432',\n",
              " 'events': [],\n",
              " 'state': {},\n",
              " 'id': '1225643753423765504',\n",
              " 'userId': 'u_456',\n",
              " 'lastUpdateTime': 1749707221.992257}"
            ]
          },
          "metadata": {},
          "execution_count": 55
        }
      ]
    },
    {
      "cell_type": "code",
      "source": [
        "for event in remote_app.stream_query(\n",
        "    user_id=\"u_456\",\n",
        "    session_id=remote_session[\"id\"],\n",
        "    message=\"what is my home location?\",\n",
        "):\n",
        "    print(event)"
      ],
      "metadata": {
        "colab": {
          "base_uri": "https://localhost:8080/"
        },
        "id": "wHkupqVu02Rr",
        "outputId": "cbd99999-c9fc-4a3f-cf20-954c4cb9ea2f"
      },
      "execution_count": 56,
      "outputs": [
        {
          "output_type": "stream",
          "name": "stdout",
          "text": [
            "{'content': {'parts': [{'text': 'Your home location is Hong Kong.\\n'}], 'role': 'model'}, 'grounding_metadata': {}, 'usage_metadata': {'candidates_token_count': 8, 'candidates_tokens_details': [{'modality': 'TEXT', 'token_count': 8}], 'prompt_token_count': 312, 'prompt_tokens_details': [{'modality': 'TEXT', 'token_count': 312}], 'total_token_count': 320, 'traffic_type': 'ON_DEMAND'}, 'invocation_id': 'e-b2107c86-4d0c-4433-b209-5b52e196dc28', 'author': 'simple_search_agent', 'actions': {'state_delta': {}, 'artifact_delta': {}, 'requested_auth_configs': {}}, 'id': 'xG6zXQeE', 'timestamp': 1749707223.390685}\n"
          ]
        }
      ]
    },
    {
      "cell_type": "code",
      "source": [
        "for event in remote_app.stream_query(\n",
        "    user_id=\"u_456\",\n",
        "    session_id=remote_session2[\"id\"],\n",
        "    message=\"what is my home location?\",\n",
        "):\n",
        "    print(event)"
      ],
      "metadata": {
        "colab": {
          "base_uri": "https://localhost:8080/"
        },
        "id": "OBc6Bcdp06fS",
        "outputId": "004ff081-be79-446c-8bf4-b793885a7683"
      },
      "execution_count": 57,
      "outputs": [
        {
          "output_type": "stream",
          "name": "stdout",
          "text": [
            "{'content': {'parts': [{'text': 'I do not have access to that information. I am a language model, and do not have personal information about you.\\n'}], 'role': 'model'}, 'grounding_metadata': {}, 'usage_metadata': {'candidates_token_count': 25, 'candidates_tokens_details': [{'modality': 'TEXT', 'token_count': 25}], 'prompt_token_count': 53, 'prompt_tokens_details': [{'modality': 'TEXT', 'token_count': 53}], 'total_token_count': 78, 'traffic_type': 'ON_DEMAND'}, 'invocation_id': 'e-48a4cde4-fb51-41a3-b910-65da8098479a', 'author': 'simple_search_agent', 'actions': {'state_delta': {}, 'artifact_delta': {}, 'requested_auth_configs': {}}, 'id': 'P2ZjxVZV', 'timestamp': 1749707224.813233}\n"
          ]
        }
      ]
    },
    {
      "cell_type": "code",
      "source": [
        "def call_remote_agent_engine_app(app, user_id, session_id, query):\n",
        "  response_text = ''\n",
        "  for event in app.stream_query(\n",
        "      user_id=user_id,\n",
        "      session_id=session_id,\n",
        "      message=query,\n",
        "  ):\n",
        "      print(event)\n",
        "      all_parts = event.get('content', {}).get('parts', [])\n",
        "      for part in all_parts:\n",
        "          response_text += (part.get('text', ''))\n",
        "  return response_text"
      ],
      "metadata": {
        "id": "bjQ1yS3u79RS"
      },
      "execution_count": 58,
      "outputs": []
    },
    {
      "cell_type": "code",
      "source": [
        "call_remote_agent_engine_app(remote_app, \"u_456\", remote_session2[\"id\"], \"what is my home location?\")"
      ],
      "metadata": {
        "colab": {
          "base_uri": "https://localhost:8080/",
          "height": 90
        },
        "id": "pQMc0MtW08iP",
        "outputId": "fd940855-b47f-4d71-e161-7b942f71e4a3"
      },
      "execution_count": 59,
      "outputs": [
        {
          "output_type": "stream",
          "name": "stdout",
          "text": [
            "{'content': {'parts': [{'text': 'As a large language model, an AI, I have no memory of previous conversations and therefore do not know your home location. I also do not have access to your personal information.\\n'}], 'role': 'model'}, 'grounding_metadata': {}, 'usage_metadata': {'candidates_token_count': 37, 'candidates_tokens_details': [{'modality': 'TEXT', 'token_count': 37}], 'prompt_token_count': 84, 'prompt_tokens_details': [{'modality': 'TEXT', 'token_count': 84}], 'total_token_count': 121, 'traffic_type': 'ON_DEMAND'}, 'invocation_id': 'e-488107e4-aabf-4348-9e38-302404af4703', 'author': 'simple_search_agent', 'actions': {'state_delta': {}, 'artifact_delta': {}, 'requested_auth_configs': {}}, 'id': 'zbYY9rES', 'timestamp': 1749707229.471723}\n"
          ]
        },
        {
          "output_type": "execute_result",
          "data": {
            "text/plain": [
              "'As a large language model, an AI, I have no memory of previous conversations and therefore do not know your home location. I also do not have access to your personal information.\\n'"
            ],
            "application/vnd.google.colaboratory.intrinsic+json": {
              "type": "string"
            }
          },
          "metadata": {},
          "execution_count": 59
        }
      ]
    },
    {
      "cell_type": "code",
      "source": [
        "call_remote_agent_engine_app(remote_app, \"u_456\", remote_session[\"id\"], \"what is my home location?\")"
      ],
      "metadata": {
        "colab": {
          "base_uri": "https://localhost:8080/",
          "height": 73
        },
        "id": "T2T2SjtK8_aH",
        "outputId": "b47ec3a8-602d-4e8a-d468-8e1083d58543"
      },
      "execution_count": 60,
      "outputs": [
        {
          "output_type": "stream",
          "name": "stdout",
          "text": [
            "{'content': {'parts': [{'text': 'Your home location is Hong Kong.\\n'}], 'role': 'model'}, 'grounding_metadata': {'retrieval_metadata': {}, 'search_entry_point': {'rendered_content': '<style>\\n.container {\\n  align-items: center;\\n  border-radius: 8px;\\n  display: flex;\\n  font-family: Google Sans, Roboto, sans-serif;\\n  font-size: 14px;\\n  line-height: 20px;\\n  padding: 8px 12px;\\n}\\n.chip {\\n  display: inline-block;\\n  border: solid 1px;\\n  border-radius: 16px;\\n  min-width: 14px;\\n  padding: 5px 16px;\\n  text-align: center;\\n  user-select: none;\\n  margin: 0 8px;\\n  -webkit-tap-highlight-color: transparent;\\n}\\n.carousel {\\n  overflow: auto;\\n  scrollbar-width: none;\\n  white-space: nowrap;\\n  margin-right: -12px;\\n}\\n.headline {\\n  display: flex;\\n  margin-right: 4px;\\n}\\n.gradient-container {\\n  position: relative;\\n}\\n.gradient {\\n  position: absolute;\\n  transform: translate(3px, -9px);\\n  height: 36px;\\n  width: 9px;\\n}\\n@media (prefers-color-scheme: light) {\\n  .container {\\n    background-color: #fafafa;\\n    box-shadow: 0 0 0 1px #0000000f;\\n  }\\n  .headline-label {\\n    color: #1f1f1f;\\n  }\\n  .chip {\\n    background-color: #ffffff;\\n    border-color: #d2d2d2;\\n    color: #5e5e5e;\\n    text-decoration: none;\\n  }\\n  .chip:hover {\\n    background-color: #f2f2f2;\\n  }\\n  .chip:focus {\\n    background-color: #f2f2f2;\\n  }\\n  .chip:active {\\n    background-color: #d8d8d8;\\n    border-color: #b6b6b6;\\n  }\\n  .logo-dark {\\n    display: none;\\n  }\\n  .gradient {\\n    background: linear-gradient(90deg, #fafafa 15%, #fafafa00 100%);\\n  }\\n}\\n@media (prefers-color-scheme: dark) {\\n  .container {\\n    background-color: #1f1f1f;\\n    box-shadow: 0 0 0 1px #ffffff26;\\n  }\\n  .headline-label {\\n    color: #fff;\\n  }\\n  .chip {\\n    background-color: #2c2c2c;\\n    border-color: #3c4043;\\n    color: #fff;\\n    text-decoration: none;\\n  }\\n  .chip:hover {\\n    background-color: #353536;\\n  }\\n  .chip:focus {\\n    background-color: #353536;\\n  }\\n  .chip:active {\\n    background-color: #464849;\\n    border-color: #53575b;\\n  }\\n  .logo-light {\\n    display: none;\\n  }\\n  .gradient {\\n    background: linear-gradient(90deg, #1f1f1f 15%, #1f1f1f00 100%);\\n  }\\n}\\n</style>\\n<div class=\"container\">\\n  <div class=\"headline\">\\n    <svg class=\"logo-light\" width=\"18\" height=\"18\" viewBox=\"9 9 35 35\" fill=\"none\" xmlns=\"http://www.w3.org/2000/svg\">\\n      <path fill-rule=\"evenodd\" clip-rule=\"evenodd\" d=\"M42.8622 27.0064C42.8622 25.7839 42.7525 24.6084 42.5487 23.4799H26.3109V30.1568H35.5897C35.1821 32.3041 33.9596 34.1222 32.1258 35.3448V39.6864H37.7213C40.9814 36.677 42.8622 32.2571 42.8622 27.0064V27.0064Z\" fill=\"#4285F4\"/>\\n      <path fill-rule=\"evenodd\" clip-rule=\"evenodd\" d=\"M26.3109 43.8555C30.9659 43.8555 34.8687 42.3195 37.7213 39.6863L32.1258 35.3447C30.5898 36.3792 28.6306 37.0061 26.3109 37.0061C21.8282 37.0061 18.0195 33.9811 16.6559 29.906H10.9194V34.3573C13.7563 39.9841 19.5712 43.8555 26.3109 43.8555V43.8555Z\" fill=\"#34A853\"/>\\n      <path fill-rule=\"evenodd\" clip-rule=\"evenodd\" d=\"M16.6559 29.8904C16.3111 28.8559 16.1074 27.7588 16.1074 26.6146C16.1074 25.4704 16.3111 24.3733 16.6559 23.3388V18.8875H10.9194C9.74388 21.2072 9.06992 23.8247 9.06992 26.6146C9.06992 29.4045 9.74388 32.022 10.9194 34.3417L15.3864 30.8621L16.6559 29.8904V29.8904Z\" fill=\"#FBBC05\"/>\\n      <path fill-rule=\"evenodd\" clip-rule=\"evenodd\" d=\"M26.3109 16.2386C28.85 16.2386 31.107 17.1164 32.9095 18.8091L37.8466 13.8719C34.853 11.082 30.9659 9.3736 26.3109 9.3736C19.5712 9.3736 13.7563 13.245 10.9194 18.8875L16.6559 23.3388C18.0195 19.2636 21.8282 16.2386 26.3109 16.2386V16.2386Z\" fill=\"#EA4335\"/>\\n    </svg>\\n    <svg class=\"logo-dark\" width=\"18\" height=\"18\" viewBox=\"0 0 48 48\" xmlns=\"http://www.w3.org/2000/svg\">\\n      <circle cx=\"24\" cy=\"23\" fill=\"#FFF\" r=\"22\"/>\\n      <path d=\"M33.76 34.26c2.75-2.56 4.49-6.37 4.49-11.26 0-.89-.08-1.84-.29-3H24.01v5.99h8.03c-.4 2.02-1.5 3.56-3.07 4.56v.75l3.91 2.97h.88z\" fill=\"#4285F4\"/>\\n      <path d=\"M15.58 25.77A8.845 8.845 0 0 0 24 31.86c1.92 0 3.62-.46 4.97-1.31l4.79 3.71C31.14 36.7 27.65 38 24 38c-5.93 0-11.01-3.4-13.45-8.36l.17-1.01 4.06-2.85h.8z\" fill=\"#34A853\"/>\\n      <path d=\"M15.59 20.21a8.864 8.864 0 0 0 0 5.58l-5.03 3.86c-.98-2-1.53-4.25-1.53-6.64 0-2.39.55-4.64 1.53-6.64l1-.22 3.81 2.98.22 1.08z\" fill=\"#FBBC05\"/>\\n      <path d=\"M24 14.14c2.11 0 4.02.75 5.52 1.98l4.36-4.36C31.22 9.43 27.81 8 24 8c-5.93 0-11.01 3.4-13.45 8.36l5.03 3.85A8.86 8.86 0 0 1 24 14.14z\" fill=\"#EA4335\"/>\\n    </svg>\\n    <div class=\"gradient-container\"><div class=\"gradient\"></div></div>\\n  </div>\\n  <div class=\"carousel\">\\n    <a class=\"chip\" href=\"https://vertexaisearch.cloud.google.com/grounding-api-redirect/AUZIYQGoTS764ybqJIlYmY_td5QFhpn5m9VKtvPeStnzsC9J1l2eTU-Bp7s9mNRfZ2wjwImp99zEsJAeHwrpC822o9jPJOCvl-dRLcvN3_CNPJBmidO8kHxCy6XX2uH6IiHn5yfGy-030rqx0zgwsU_jKdJdlIQ6U0rvIHE3LH18njKnhXTNgujIWfsHvGGsduR-JjPcZfAU4SbGot-O\">what is my home location</a>\\n  </div>\\n</div>\\n'}, 'web_search_queries': ['what is my home location']}, 'usage_metadata': {'candidates_token_count': 8, 'candidates_tokens_details': [{'modality': 'TEXT', 'token_count': 8}], 'prompt_token_count': 326, 'prompt_tokens_details': [{'modality': 'TEXT', 'token_count': 326}], 'total_token_count': 334, 'traffic_type': 'ON_DEMAND'}, 'invocation_id': 'e-307ec924-560b-43e3-a006-8b14b0f2074d', 'author': 'simple_search_agent', 'actions': {'state_delta': {}, 'artifact_delta': {}, 'requested_auth_configs': {}}, 'id': 'IhZDDsCs', 'timestamp': 1749707235.035256}\n"
          ]
        },
        {
          "output_type": "execute_result",
          "data": {
            "text/plain": [
              "'Your home location is Hong Kong.\\n'"
            ],
            "application/vnd.google.colaboratory.intrinsic+json": {
              "type": "string"
            }
          },
          "metadata": {},
          "execution_count": 60
        }
      ]
    },
    {
      "cell_type": "markdown",
      "source": [
        "## Mesop"
      ],
      "metadata": {
        "id": "5B2R4s-r70Yt"
      }
    },
    {
      "cell_type": "code",
      "source": [
        "!pip install mesop"
      ],
      "metadata": {
        "colab": {
          "base_uri": "https://localhost:8080/"
        },
        "id": "yC9Gragl71TD",
        "outputId": "50d5b5ac-8be4-4717-fc5a-b7f01d582d21"
      },
      "execution_count": 61,
      "outputs": [
        {
          "output_type": "stream",
          "name": "stdout",
          "text": [
            "Collecting mesop\n",
            "  Downloading mesop-1.0.1-py3-none-any.whl.metadata (1.2 kB)\n",
            "Requirement already satisfied: absl-py in /usr/local/lib/python3.11/dist-packages (from mesop) (1.4.0)\n",
            "Collecting deepdiff==6.* (from mesop)\n",
            "  Downloading deepdiff-6.7.1-py3-none-any.whl.metadata (6.1 kB)\n",
            "Requirement already satisfied: flask in /usr/local/lib/python3.11/dist-packages (from mesop) (3.1.1)\n",
            "Requirement already satisfied: msgpack in /usr/local/lib/python3.11/dist-packages (from mesop) (1.1.0)\n",
            "Requirement already satisfied: protobuf in /usr/local/lib/python3.11/dist-packages (from mesop) (5.29.5)\n",
            "Requirement already satisfied: pydantic in /usr/local/lib/python3.11/dist-packages (from mesop) (2.11.5)\n",
            "Requirement already satisfied: python-dotenv in /usr/local/lib/python3.11/dist-packages (from mesop) (1.1.0)\n",
            "Collecting watchdog (from mesop)\n",
            "  Downloading watchdog-6.0.0-py3-none-manylinux2014_x86_64.whl.metadata (44 kB)\n",
            "\u001b[2K     \u001b[90m━━━━━━━━━━━━━━━━━━━━━━━━━━━━━━━━━━━━━━━━\u001b[0m \u001b[32m44.3/44.3 kB\u001b[0m \u001b[31m2.0 MB/s\u001b[0m eta \u001b[36m0:00:00\u001b[0m\n",
            "\u001b[?25hRequirement already satisfied: werkzeug>=3.0.6 in /usr/local/lib/python3.11/dist-packages (from mesop) (3.1.3)\n",
            "Collecting ordered-set<4.2.0,>=4.0.2 (from deepdiff==6.*->mesop)\n",
            "  Downloading ordered_set-4.1.0-py3-none-any.whl.metadata (5.3 kB)\n",
            "Requirement already satisfied: MarkupSafe>=2.1.1 in /usr/local/lib/python3.11/dist-packages (from werkzeug>=3.0.6->mesop) (3.0.2)\n",
            "Requirement already satisfied: blinker>=1.9.0 in /usr/local/lib/python3.11/dist-packages (from flask->mesop) (1.9.0)\n",
            "Requirement already satisfied: click>=8.1.3 in /usr/local/lib/python3.11/dist-packages (from flask->mesop) (8.2.1)\n",
            "Requirement already satisfied: itsdangerous>=2.2.0 in /usr/local/lib/python3.11/dist-packages (from flask->mesop) (2.2.0)\n",
            "Requirement already satisfied: jinja2>=3.1.2 in /usr/local/lib/python3.11/dist-packages (from flask->mesop) (3.1.6)\n",
            "Requirement already satisfied: annotated-types>=0.6.0 in /usr/local/lib/python3.11/dist-packages (from pydantic->mesop) (0.7.0)\n",
            "Requirement already satisfied: pydantic-core==2.33.2 in /usr/local/lib/python3.11/dist-packages (from pydantic->mesop) (2.33.2)\n",
            "Requirement already satisfied: typing-extensions>=4.12.2 in /usr/local/lib/python3.11/dist-packages (from pydantic->mesop) (4.14.0)\n",
            "Requirement already satisfied: typing-inspection>=0.4.0 in /usr/local/lib/python3.11/dist-packages (from pydantic->mesop) (0.4.1)\n",
            "Downloading mesop-1.0.1-py3-none-any.whl (7.4 MB)\n",
            "\u001b[2K   \u001b[90m━━━━━━━━━━━━━━━━━━━━━━━━━━━━━━━━━━━━━━━━\u001b[0m \u001b[32m7.4/7.4 MB\u001b[0m \u001b[31m48.5 MB/s\u001b[0m eta \u001b[36m0:00:00\u001b[0m\n",
            "\u001b[?25hDownloading deepdiff-6.7.1-py3-none-any.whl (76 kB)\n",
            "\u001b[2K   \u001b[90m━━━━━━━━━━━━━━━━━━━━━━━━━━━━━━━━━━━━━━━━\u001b[0m \u001b[32m76.6/76.6 kB\u001b[0m \u001b[31m4.3 MB/s\u001b[0m eta \u001b[36m0:00:00\u001b[0m\n",
            "\u001b[?25hDownloading watchdog-6.0.0-py3-none-manylinux2014_x86_64.whl (79 kB)\n",
            "\u001b[2K   \u001b[90m━━━━━━━━━━━━━━━━━━━━━━━━━━━━━━━━━━━━━━━━\u001b[0m \u001b[32m79.1/79.1 kB\u001b[0m \u001b[31m4.5 MB/s\u001b[0m eta \u001b[36m0:00:00\u001b[0m\n",
            "\u001b[?25hDownloading ordered_set-4.1.0-py3-none-any.whl (7.6 kB)\n",
            "Installing collected packages: watchdog, ordered-set, deepdiff, mesop\n",
            "Successfully installed deepdiff-6.7.1 mesop-1.0.1 ordered-set-4.1.0 watchdog-6.0.0\n"
          ]
        }
      ]
    },
    {
      "cell_type": "code",
      "source": [
        "import mesop as me\n",
        "import mesop.labs as mel\n",
        "\n",
        "me.colab_run()"
      ],
      "metadata": {
        "colab": {
          "base_uri": "https://localhost:8080/"
        },
        "id": "OB6aG24N9CMg",
        "outputId": "bd93c1d4-feb1-4c88-e9f9-362324b764db"
      },
      "execution_count": null,
      "outputs": [
        {
          "output_type": "stream",
          "name": "stdout",
          "text": [
            "\n",
            "\u001b[32mRunning server on: http://localhost:32123\u001b[0m\n",
            " * Serving Flask app 'mesop.server.server'\n",
            " * Debug mode: off\n"
          ]
        }
      ]
    },
    {
      "cell_type": "code",
      "source": [
        "@me.page(path=\"/hello_world\")\n",
        "def hello_world():\n",
        "  me.text(\"Hello World!\")"
      ],
      "metadata": {
        "id": "R_7xLRrT9Eyo"
      },
      "execution_count": null,
      "outputs": []
    },
    {
      "cell_type": "code",
      "source": [
        "me.colab_show(path=\"/hello_world\", height=100)"
      ],
      "metadata": {
        "colab": {
          "base_uri": "https://localhost:8080/",
          "height": 121
        },
        "id": "6mmr1vP09J08",
        "outputId": "5b327998-01c2-42b2-9c26-58a2c82ad6b6"
      },
      "execution_count": null,
      "outputs": [
        {
          "output_type": "display_data",
          "data": {
            "text/plain": [
              "<IPython.core.display.Javascript object>"
            ],
            "application/javascript": [
              "(async (port, path, width, height, cache, element) => {\n",
              "    if (!google.colab.kernel.accessAllowed && !cache) {\n",
              "      return;\n",
              "    }\n",
              "    element.appendChild(document.createTextNode(''));\n",
              "    const url = await google.colab.kernel.proxyPort(port, {cache});\n",
              "    const iframe = document.createElement('iframe');\n",
              "    iframe.src = new URL(path, url).toString();\n",
              "    iframe.height = height;\n",
              "    iframe.width = width;\n",
              "    iframe.style.border = 0;\n",
              "    iframe.allow = [\n",
              "        'accelerometer',\n",
              "        'autoplay',\n",
              "        'camera',\n",
              "        'clipboard-read',\n",
              "        'clipboard-write',\n",
              "        'gyroscope',\n",
              "        'magnetometer',\n",
              "        'microphone',\n",
              "        'serial',\n",
              "        'usb',\n",
              "        'xr-spatial-tracking',\n",
              "    ].join('; ');\n",
              "    element.appendChild(iframe);\n",
              "  })(32123, \"/hello_world\", \"100%\", 100, false, window.element)"
            ]
          },
          "metadata": {}
        }
      ]
    },
    {
      "cell_type": "code",
      "source": [
        "@me.page(path=\"/chat\")\n",
        "def chat():\n",
        "  mel.chat(transform)\n",
        "\n",
        "def transform(prompt: str, history: list[mel.ChatMessage]) -> str:\n",
        "  return \"Hello \" + prompt"
      ],
      "metadata": {
        "id": "_xJ4JO1N9LMs"
      },
      "execution_count": null,
      "outputs": []
    },
    {
      "cell_type": "code",
      "source": [
        "me.colab_show(path=\"/chat\")"
      ],
      "metadata": {
        "colab": {
          "base_uri": "https://localhost:8080/",
          "height": 421
        },
        "id": "ARI6-B3j9N-j",
        "outputId": "7aa72cfe-0141-4f04-d437-48f0448fd14f"
      },
      "execution_count": null,
      "outputs": [
        {
          "output_type": "display_data",
          "data": {
            "text/plain": [
              "<IPython.core.display.Javascript object>"
            ],
            "application/javascript": [
              "(async (port, path, width, height, cache, element) => {\n",
              "    if (!google.colab.kernel.accessAllowed && !cache) {\n",
              "      return;\n",
              "    }\n",
              "    element.appendChild(document.createTextNode(''));\n",
              "    const url = await google.colab.kernel.proxyPort(port, {cache});\n",
              "    const iframe = document.createElement('iframe');\n",
              "    iframe.src = new URL(path, url).toString();\n",
              "    iframe.height = height;\n",
              "    iframe.width = width;\n",
              "    iframe.style.border = 0;\n",
              "    iframe.allow = [\n",
              "        'accelerometer',\n",
              "        'autoplay',\n",
              "        'camera',\n",
              "        'clipboard-read',\n",
              "        'clipboard-write',\n",
              "        'gyroscope',\n",
              "        'magnetometer',\n",
              "        'microphone',\n",
              "        'serial',\n",
              "        'usb',\n",
              "        'xr-spatial-tracking',\n",
              "    ].join('; ');\n",
              "    element.appendChild(iframe);\n",
              "  })(32123, \"/chat\", \"100%\", \"400\", false, window.element)"
            ]
          },
          "metadata": {}
        }
      ]
    },
    {
      "cell_type": "code",
      "source": [
        "USER_ID = 'mesop_user_123'\n",
        "SESSION = remote_app.create_session(user_id=USER_ID)\n",
        "\n",
        "@me.page(path=\"/chat_ae\")\n",
        "def chat():\n",
        "  mel.chat(transform)\n",
        "\n",
        "def transform(prompt: str, history: list[mel.ChatMessage]) -> str:\n",
        "  # No need to use history, as AE already manages the session.\n",
        "  return call_remote_agent_engine_app(remote_app, USER_ID, SESSION['id'], prompt)"
      ],
      "metadata": {
        "id": "MNNkzLwU9Qv6"
      },
      "execution_count": null,
      "outputs": []
    },
    {
      "cell_type": "code",
      "source": [
        "me.colab_show(path=\"/chat_ae\")"
      ],
      "metadata": {
        "colab": {
          "base_uri": "https://localhost:8080/",
          "height": 421
        },
        "id": "AWDc6MMX9w_m",
        "outputId": "b71f05b6-ca40-40d1-fa81-06610db1e9bf"
      },
      "execution_count": null,
      "outputs": [
        {
          "output_type": "display_data",
          "data": {
            "text/plain": [
              "<IPython.core.display.Javascript object>"
            ],
            "application/javascript": [
              "(async (port, path, width, height, cache, element) => {\n",
              "    if (!google.colab.kernel.accessAllowed && !cache) {\n",
              "      return;\n",
              "    }\n",
              "    element.appendChild(document.createTextNode(''));\n",
              "    const url = await google.colab.kernel.proxyPort(port, {cache});\n",
              "    const iframe = document.createElement('iframe');\n",
              "    iframe.src = new URL(path, url).toString();\n",
              "    iframe.height = height;\n",
              "    iframe.width = width;\n",
              "    iframe.style.border = 0;\n",
              "    iframe.allow = [\n",
              "        'accelerometer',\n",
              "        'autoplay',\n",
              "        'camera',\n",
              "        'clipboard-read',\n",
              "        'clipboard-write',\n",
              "        'gyroscope',\n",
              "        'magnetometer',\n",
              "        'microphone',\n",
              "        'serial',\n",
              "        'usb',\n",
              "        'xr-spatial-tracking',\n",
              "    ].join('; ');\n",
              "    element.appendChild(iframe);\n",
              "  })(32123, \"/chat_ae\", \"100%\", \"400\", false, window.element)"
            ]
          },
          "metadata": {}
        }
      ]
    },
    {
      "cell_type": "markdown",
      "source": [
        "### Screenshots\n",
        "\n",
        "The dynamic web UI may not present on the export notebook. Below are the screenshots."
      ],
      "metadata": {
        "id": "AA-NQ6Ba_Awx"
      }
    },
    {
      "cell_type": "code",
      "source": [
        "from IPython.display import Image, display"
      ],
      "metadata": {
        "id": "iLjF4ru4_HMe"
      },
      "execution_count": null,
      "outputs": []
    },
    {
      "cell_type": "code",
      "source": [
        "display(Image(url='https://github.com/hupili/google-adk-101/raw/main/images/ss-ae-mesop-1.png'))"
      ],
      "metadata": {
        "colab": {
          "base_uri": "https://localhost:8080/",
          "height": 295
        },
        "id": "pUlKlQwc9zME",
        "outputId": "ec14adce-a0d7-4e07-8ce2-18613a87d7dd"
      },
      "execution_count": null,
      "outputs": [
        {
          "output_type": "display_data",
          "data": {
            "text/html": [
              "<img src=\"https://github.com/hupili/google-adk-101/raw/main/images/ss-ae-mesop-1.png\"/>"
            ],
            "text/plain": [
              "<IPython.core.display.Image object>"
            ]
          },
          "metadata": {}
        }
      ]
    },
    {
      "cell_type": "code",
      "source": [
        "display(Image(url='https://github.com/hupili/google-adk-101/raw/main/images/ss-ae-mesop-2.png'))"
      ],
      "metadata": {
        "colab": {
          "base_uri": "https://localhost:8080/",
          "height": 314
        },
        "id": "9-Mse6yk-8u_",
        "outputId": "7ab689df-6b85-42f6-a213-af084c2f9b79"
      },
      "execution_count": null,
      "outputs": [
        {
          "output_type": "display_data",
          "data": {
            "text/html": [
              "<img src=\"https://github.com/hupili/google-adk-101/raw/main/images/ss-ae-mesop-2.png\"/>"
            ],
            "text/plain": [
              "<IPython.core.display.Image object>"
            ]
          },
          "metadata": {}
        }
      ]
    },
    {
      "cell_type": "code",
      "source": [],
      "metadata": {
        "id": "n3F25IMVPpIg"
      },
      "execution_count": null,
      "outputs": []
    },
    {
      "cell_type": "markdown",
      "source": [
        "## Clenaup"
      ],
      "metadata": {
        "id": "eF6qwTdSPphw"
      }
    },
    {
      "cell_type": "markdown",
      "source": [
        "### List agents"
      ],
      "metadata": {
        "id": "ftSQaV5DPuJ0"
      }
    },
    {
      "cell_type": "code",
      "source": [
        "list_agents()"
      ],
      "metadata": {
        "id": "fGLLZvsd-_St",
        "outputId": "62a2ce66-4e47-4526-ce4b-7c189efb9bce",
        "colab": {
          "base_uri": "https://localhost:8080/"
        }
      },
      "execution_count": 38,
      "outputs": [
        {
          "output_type": "stream",
          "name": "stdout",
          "text": [
            "All remote agents:\n",
            "\n",
            "8759404518212370432 (\"simple_search_agent_2025-06-12-03-40-05\")\n",
            "- Create time: 2025-06-12 03:45:32.901003+00:00\n",
            "- Update time: 2025-06-12 03:48:17.882669+00:00\n",
            "\n",
            "\n",
            "8348169577238102016 (\"\")\n",
            "- Create time: 2025-06-03 06:09:08.152391+00:00\n",
            "- Update time: 2025-06-03 06:13:15.300308+00:00\n",
            "\n",
            "\n",
            "5147799092037943296 (\"\")\n",
            "- Create time: 2025-06-02 14:14:28.600149+00:00\n",
            "- Update time: 2025-06-02 14:18:55.955685+00:00\n",
            "\n",
            "\n",
            "2164164338904989696 (\"\")\n",
            "- Create time: 2025-06-02 11:57:47.050939+00:00\n",
            "- Update time: 2025-06-02 12:01:18.059991+00:00\n",
            "\n",
            "\n",
            "6087608854902734848 (\"DICE_AGENT\")\n",
            "- Create time: 2025-04-25 08:19:20.817490+00:00\n",
            "- Update time: 2025-04-25 08:22:05.936293+00:00\n",
            "\n",
            "\n",
            "7916070303615156224 (\"llm_auditor\")\n",
            "- Create time: 2025-04-25 07:13:25.339138+00:00\n",
            "- Update time: 2025-04-25 07:18:12.898631+00:00\n",
            "\n",
            "\n",
            "5307078744484085760 (\"llm_auditor\")\n",
            "- Create time: 2025-04-09 08:22:36.179879+00:00\n",
            "- Update time: 2025-04-09 08:25:42.734584+00:00\n",
            "\n",
            "\n",
            "8402318325882814464 (\"\")\n",
            "- Create time: 2025-03-28 08:42:23.121480+00:00\n",
            "- Update time: 2025-03-28 08:46:29.629436+00:00\n",
            "\n",
            "\n",
            "66410502317670400 (\"my-awesome-agent\")\n",
            "- Create time: 2025-03-07 01:22:05.930759+00:00\n",
            "- Update time: 2025-03-07 01:33:02.201959+00:00\n",
            "\n"
          ]
        }
      ]
    },
    {
      "cell_type": "code",
      "source": [],
      "metadata": {
        "id": "15phL-cyPrS9"
      },
      "execution_count": null,
      "outputs": []
    },
    {
      "cell_type": "markdown",
      "source": [
        "### Delete agents\n",
        "\n",
        "Delete agent accordingly."
      ],
      "metadata": {
        "id": "D-qQxXBOPsCU"
      }
    },
    {
      "cell_type": "code",
      "source": [],
      "metadata": {
        "id": "sQI4clbgPtfj"
      },
      "execution_count": null,
      "outputs": []
    }
  ]
}