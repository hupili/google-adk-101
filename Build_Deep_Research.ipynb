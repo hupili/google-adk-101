{
  "nbformat": 4,
  "nbformat_minor": 0,
  "metadata": {
    "colab": {
      "provenance": [],
      "toc_visible": true
    },
    "kernelspec": {
      "name": "python3",
      "display_name": "Python 3"
    },
    "language_info": {
      "name": "python"
    }
  },
  "cells": [
    {
      "cell_type": "markdown",
      "source": [
        "# Deep Research\n"
      ],
      "metadata": {
        "id": "aLj1-M-tbXkB"
      }
    },
    {
      "cell_type": "markdown",
      "source": [
        "<table align=\"left\">\n",
        "  <td style=\"text-align: center\">\n",
        "    <a href=\"https://colab.sandbox.google.com/github/hupili/google-adk-101/blob/main/Deploy_to_Agent_Engine.ipynb\">\n",
        "      <img width=\"32px\" src=\"https://www.gstatic.com/pantheon/images/bigquery/welcome_page/colab-logo.svg\" alt=\"Google Colaboratory logo\"><br> Run in Colab\n",
        "    </a>\n",
        "  </td>\n",
        "  <td style=\"text-align: center\">\n",
        "    <a href=\"https://console.cloud.google.com/vertex-ai/colab/import/https:%2F%2Fraw.githubusercontent.com%2Fhupili%2Fgoogle-adk-101%2Fmain%2FDeploy_to_Agent_Engine.ipynb\">\n",
        "      <img width=\"32px\" src=\"https://www.gstatic.com/pantheon/images/bigquery/welcome_page/colab-enterprise-logo.png\" alt=\"Google Cloud Colab Enterprise logo\"><br> Run in Colab Enterprise\n",
        "    </a>\n",
        "  </td>    \n",
        "  <td style=\"text-align: center\">\n",
        "    <a href=\"https://github.com/hupili/google-adk-101/blob/main/Deploy_to_Agent_Engine.ipynb\">\n",
        "      <img width=\"32px\" src=\"https://www.gstatic.com/monospace/240802/git_host_github_mask.svg\" alt=\"GitHub logo\"><br> View on GitHub\n",
        "    </a>\n",
        "  </td>\n",
        "  <td style=\"text-align: center\">\n",
        "    <a href=\"https://console.cloud.google.com/vertex-ai/workbench/deploy-notebook?download_url=https://raw.githubusercontent.com/hupili/google-adk-101/blob/main/Deploy_to_Agent_Engine.ipynb\">\n",
        "      <img width=\"32px\" src=\"https://www.gstatic.com/cloud/images/navigation/vertex-ai.svg\" alt=\"Vertex AI logo\"><br> Open in Vertex AI Workbench\n",
        "    </a>\n",
        "  </td>\n",
        "</table>"
      ],
      "metadata": {
        "id": "eZxgo50CA7q4"
      }
    },
    {
      "cell_type": "markdown",
      "source": [
        "| | |\n",
        "|-|-|\n",
        "| Author(s) | [Pili Hu](https://github.com/hupili)|\n",
        "| Reviewers(s) | Nil |\n",
        "| Last updated | 2025-06-02 |\n",
        "| google-adk | 1.1.1 |\n",
        "| vertexai | 1.93.1 |"
      ],
      "metadata": {
        "id": "9OTR-0NgbYpg"
      }
    },
    {
      "cell_type": "markdown",
      "source": [
        "## Environment"
      ],
      "metadata": {
        "id": "FmmSp3Lsbhww"
      }
    },
    {
      "cell_type": "code",
      "execution_count": 1,
      "metadata": {
        "id": "W8sX8hfAbPnU"
      },
      "outputs": [],
      "source": [
        "import os\n",
        "\n",
        "# API_KEY = '' # @param {type:\"string\"}\n",
        "# os.environ[\"GOOGLE_GENAI_USE_VERTEXAI\"] = \"FALSE\" # Use Vertex AI API\n",
        "# os.environ[\"GOOGLE_API_KEY\"] = API_KEY\n",
        "\n",
        "PROJECT_ID = \"hupili-genai-bb\"  # @param {type:\"string\"}\n",
        "if not PROJECT_ID:\n",
        "    PROJECT_ID = str(os.environ.get(\"GOOGLE_CLOUD_PROJECT\"))\n",
        "\n",
        "LOCATION = \"us-central1\" # @param {type:\"string\"}\n",
        "\n",
        "STAGING_BUCKET = 'gs://agent_engine_deploy_staging' # @param {type:\"string\"}\n",
        "\n",
        "os.environ[\"GOOGLE_CLOUD_PROJECT\"] = PROJECT_ID\n",
        "os.environ[\"GOOGLE_CLOUD_LOCATION\"] = LOCATION\n",
        "os.environ[\"GOOGLE_GENAI_USE_VERTEXAI\"] = \"TRUE\" # Use Vertex AI API\n",
        "\n",
        "# [your-project-id]"
      ]
    },
    {
      "cell_type": "code",
      "source": [
        "\n",
        "import vertexai\n",
        "\n",
        "vertexai.init(\n",
        "    project=PROJECT_ID,\n",
        "    location=LOCATION,\n",
        "    staging_bucket=STAGING_BUCKET,\n",
        ")"
      ],
      "metadata": {
        "id": "iFko8Uqrf_JV"
      },
      "execution_count": 2,
      "outputs": []
    },
    {
      "cell_type": "code",
      "source": [
        "from google.colab import auth\n",
        "auth.authenticate_user()"
      ],
      "metadata": {
        "id": "-ryI15UDbrfT"
      },
      "execution_count": 3,
      "outputs": []
    },
    {
      "cell_type": "code",
      "source": [
        "!pip install google-adk==1.1.1"
      ],
      "metadata": {
        "colab": {
          "base_uri": "https://localhost:8080/"
        },
        "id": "cSLs5ifodzSB",
        "outputId": "f8ba2c83-172d-463f-912e-50cdc25b9db6"
      },
      "execution_count": 4,
      "outputs": [
        {
          "output_type": "stream",
          "name": "stdout",
          "text": [
            "Requirement already satisfied: google-adk==1.1.1 in /usr/local/lib/python3.11/dist-packages (1.1.1)\n",
            "Requirement already satisfied: authlib>=1.5.1 in /usr/local/lib/python3.11/dist-packages (from google-adk==1.1.1) (1.6.0)\n",
            "Requirement already satisfied: click>=8.1.8 in /usr/local/lib/python3.11/dist-packages (from google-adk==1.1.1) (8.2.1)\n",
            "Requirement already satisfied: fastapi>=0.115.0 in /usr/local/lib/python3.11/dist-packages (from google-adk==1.1.1) (0.115.12)\n",
            "Requirement already satisfied: google-api-python-client>=2.157.0 in /usr/local/lib/python3.11/dist-packages (from google-adk==1.1.1) (2.169.0)\n",
            "Requirement already satisfied: google-cloud-aiplatform>=1.87.0 in /usr/local/lib/python3.11/dist-packages (from google-adk==1.1.1) (1.93.1)\n",
            "Requirement already satisfied: google-cloud-secret-manager>=2.22.0 in /usr/local/lib/python3.11/dist-packages (from google-adk==1.1.1) (2.23.3)\n",
            "Requirement already satisfied: google-cloud-speech>=2.30.0 in /usr/local/lib/python3.11/dist-packages (from google-adk==1.1.1) (2.32.0)\n",
            "Requirement already satisfied: google-cloud-storage<3.0.0,>=2.18.0 in /usr/local/lib/python3.11/dist-packages (from google-adk==1.1.1) (2.19.0)\n",
            "Requirement already satisfied: google-genai>=1.14.0 in /usr/local/lib/python3.11/dist-packages (from google-adk==1.1.1) (1.16.1)\n",
            "Requirement already satisfied: graphviz>=0.20.2 in /usr/local/lib/python3.11/dist-packages (from google-adk==1.1.1) (0.20.3)\n",
            "Requirement already satisfied: mcp>=1.5.0 in /usr/local/lib/python3.11/dist-packages (from google-adk==1.1.1) (1.9.2)\n",
            "Requirement already satisfied: opentelemetry-api>=1.31.0 in /usr/local/lib/python3.11/dist-packages (from google-adk==1.1.1) (1.33.1)\n",
            "Requirement already satisfied: opentelemetry-exporter-gcp-trace>=1.9.0 in /usr/local/lib/python3.11/dist-packages (from google-adk==1.1.1) (1.9.0)\n",
            "Requirement already satisfied: opentelemetry-sdk>=1.31.0 in /usr/local/lib/python3.11/dist-packages (from google-adk==1.1.1) (1.33.1)\n",
            "Requirement already satisfied: pydantic<3.0.0,>=2.0 in /usr/local/lib/python3.11/dist-packages (from google-adk==1.1.1) (2.11.4)\n",
            "Requirement already satisfied: python-dotenv>=1.0.0 in /usr/local/lib/python3.11/dist-packages (from google-adk==1.1.1) (1.1.0)\n",
            "Requirement already satisfied: PyYAML>=6.0.2 in /usr/local/lib/python3.11/dist-packages (from google-adk==1.1.1) (6.0.2)\n",
            "Requirement already satisfied: sqlalchemy>=2.0 in /usr/local/lib/python3.11/dist-packages (from google-adk==1.1.1) (2.0.41)\n",
            "Requirement already satisfied: tzlocal>=5.3 in /usr/local/lib/python3.11/dist-packages (from google-adk==1.1.1) (5.3.1)\n",
            "Requirement already satisfied: uvicorn>=0.34.0 in /usr/local/lib/python3.11/dist-packages (from google-adk==1.1.1) (0.34.3)\n",
            "Requirement already satisfied: cryptography in /usr/local/lib/python3.11/dist-packages (from authlib>=1.5.1->google-adk==1.1.1) (43.0.3)\n",
            "Requirement already satisfied: starlette<0.47.0,>=0.40.0 in /usr/local/lib/python3.11/dist-packages (from fastapi>=0.115.0->google-adk==1.1.1) (0.46.2)\n",
            "Requirement already satisfied: typing-extensions>=4.8.0 in /usr/local/lib/python3.11/dist-packages (from fastapi>=0.115.0->google-adk==1.1.1) (4.13.2)\n",
            "Requirement already satisfied: httplib2<1.0.0,>=0.19.0 in /usr/local/lib/python3.11/dist-packages (from google-api-python-client>=2.157.0->google-adk==1.1.1) (0.22.0)\n",
            "Requirement already satisfied: google-auth!=2.24.0,!=2.25.0,<3.0.0,>=1.32.0 in /usr/local/lib/python3.11/dist-packages (from google-api-python-client>=2.157.0->google-adk==1.1.1) (2.38.0)\n",
            "Requirement already satisfied: google-auth-httplib2<1.0.0,>=0.2.0 in /usr/local/lib/python3.11/dist-packages (from google-api-python-client>=2.157.0->google-adk==1.1.1) (0.2.0)\n",
            "Requirement already satisfied: google-api-core!=2.0.*,!=2.1.*,!=2.2.*,!=2.3.0,<3.0.0,>=1.31.5 in /usr/local/lib/python3.11/dist-packages (from google-api-python-client>=2.157.0->google-adk==1.1.1) (2.24.2)\n",
            "Requirement already satisfied: uritemplate<5,>=3.0.1 in /usr/local/lib/python3.11/dist-packages (from google-api-python-client>=2.157.0->google-adk==1.1.1) (4.1.1)\n",
            "Requirement already satisfied: proto-plus<2.0.0,>=1.22.3 in /usr/local/lib/python3.11/dist-packages (from google-cloud-aiplatform>=1.87.0->google-adk==1.1.1) (1.26.1)\n",
            "Requirement already satisfied: protobuf!=4.21.0,!=4.21.1,!=4.21.2,!=4.21.3,!=4.21.4,!=4.21.5,<7.0.0,>=3.20.2 in /usr/local/lib/python3.11/dist-packages (from google-cloud-aiplatform>=1.87.0->google-adk==1.1.1) (5.29.4)\n",
            "Requirement already satisfied: packaging>=14.3 in /usr/local/lib/python3.11/dist-packages (from google-cloud-aiplatform>=1.87.0->google-adk==1.1.1) (24.2)\n",
            "Requirement already satisfied: google-cloud-bigquery!=3.20.0,<4.0.0,>=1.15.0 in /usr/local/lib/python3.11/dist-packages (from google-cloud-aiplatform>=1.87.0->google-adk==1.1.1) (3.33.0)\n",
            "Requirement already satisfied: google-cloud-resource-manager<3.0.0,>=1.3.3 in /usr/local/lib/python3.11/dist-packages (from google-cloud-aiplatform>=1.87.0->google-adk==1.1.1) (1.14.2)\n",
            "Requirement already satisfied: shapely<3.0.0 in /usr/local/lib/python3.11/dist-packages (from google-cloud-aiplatform>=1.87.0->google-adk==1.1.1) (2.1.1)\n",
            "Requirement already satisfied: docstring-parser<1 in /usr/local/lib/python3.11/dist-packages (from google-cloud-aiplatform>=1.87.0->google-adk==1.1.1) (0.16)\n",
            "Requirement already satisfied: grpc-google-iam-v1<1.0.0,>=0.14.0 in /usr/local/lib/python3.11/dist-packages (from google-cloud-secret-manager>=2.22.0->google-adk==1.1.1) (0.14.2)\n",
            "Requirement already satisfied: google-cloud-core<3.0dev,>=2.3.0 in /usr/local/lib/python3.11/dist-packages (from google-cloud-storage<3.0.0,>=2.18.0->google-adk==1.1.1) (2.4.3)\n",
            "Requirement already satisfied: google-resumable-media>=2.7.2 in /usr/local/lib/python3.11/dist-packages (from google-cloud-storage<3.0.0,>=2.18.0->google-adk==1.1.1) (2.7.2)\n",
            "Requirement already satisfied: requests<3.0.0dev,>=2.18.0 in /usr/local/lib/python3.11/dist-packages (from google-cloud-storage<3.0.0,>=2.18.0->google-adk==1.1.1) (2.32.3)\n",
            "Requirement already satisfied: google-crc32c<2.0dev,>=1.0 in /usr/local/lib/python3.11/dist-packages (from google-cloud-storage<3.0.0,>=2.18.0->google-adk==1.1.1) (1.7.1)\n",
            "Requirement already satisfied: anyio<5.0.0,>=4.8.0 in /usr/local/lib/python3.11/dist-packages (from google-genai>=1.14.0->google-adk==1.1.1) (4.9.0)\n",
            "Requirement already satisfied: httpx<1.0.0,>=0.28.1 in /usr/local/lib/python3.11/dist-packages (from google-genai>=1.14.0->google-adk==1.1.1) (0.28.1)\n",
            "Requirement already satisfied: websockets<15.1.0,>=13.0.0 in /usr/local/lib/python3.11/dist-packages (from google-genai>=1.14.0->google-adk==1.1.1) (15.0.1)\n",
            "Requirement already satisfied: httpx-sse>=0.4 in /usr/local/lib/python3.11/dist-packages (from mcp>=1.5.0->google-adk==1.1.1) (0.4.0)\n",
            "Requirement already satisfied: pydantic-settings>=2.5.2 in /usr/local/lib/python3.11/dist-packages (from mcp>=1.5.0->google-adk==1.1.1) (2.9.1)\n",
            "Requirement already satisfied: python-multipart>=0.0.9 in /usr/local/lib/python3.11/dist-packages (from mcp>=1.5.0->google-adk==1.1.1) (0.0.20)\n",
            "Requirement already satisfied: sse-starlette>=1.6.1 in /usr/local/lib/python3.11/dist-packages (from mcp>=1.5.0->google-adk==1.1.1) (2.3.6)\n",
            "Requirement already satisfied: deprecated>=1.2.6 in /usr/local/lib/python3.11/dist-packages (from opentelemetry-api>=1.31.0->google-adk==1.1.1) (1.2.18)\n",
            "Requirement already satisfied: importlib-metadata<8.7.0,>=6.0 in /usr/local/lib/python3.11/dist-packages (from opentelemetry-api>=1.31.0->google-adk==1.1.1) (8.6.1)\n",
            "Requirement already satisfied: google-cloud-trace~=1.1 in /usr/local/lib/python3.11/dist-packages (from opentelemetry-exporter-gcp-trace>=1.9.0->google-adk==1.1.1) (1.16.1)\n",
            "Requirement already satisfied: opentelemetry-resourcedetector-gcp==1.*,>=1.5.0dev0 in /usr/local/lib/python3.11/dist-packages (from opentelemetry-exporter-gcp-trace>=1.9.0->google-adk==1.1.1) (1.9.0a0)\n",
            "Requirement already satisfied: opentelemetry-semantic-conventions==0.54b1 in /usr/local/lib/python3.11/dist-packages (from opentelemetry-sdk>=1.31.0->google-adk==1.1.1) (0.54b1)\n",
            "Requirement already satisfied: annotated-types>=0.6.0 in /usr/local/lib/python3.11/dist-packages (from pydantic<3.0.0,>=2.0->google-adk==1.1.1) (0.7.0)\n",
            "Requirement already satisfied: pydantic-core==2.33.2 in /usr/local/lib/python3.11/dist-packages (from pydantic<3.0.0,>=2.0->google-adk==1.1.1) (2.33.2)\n",
            "Requirement already satisfied: typing-inspection>=0.4.0 in /usr/local/lib/python3.11/dist-packages (from pydantic<3.0.0,>=2.0->google-adk==1.1.1) (0.4.1)\n",
            "Requirement already satisfied: greenlet>=1 in /usr/local/lib/python3.11/dist-packages (from sqlalchemy>=2.0->google-adk==1.1.1) (3.2.2)\n",
            "Requirement already satisfied: h11>=0.8 in /usr/local/lib/python3.11/dist-packages (from uvicorn>=0.34.0->google-adk==1.1.1) (0.16.0)\n",
            "Requirement already satisfied: idna>=2.8 in /usr/local/lib/python3.11/dist-packages (from anyio<5.0.0,>=4.8.0->google-genai>=1.14.0->google-adk==1.1.1) (3.10)\n",
            "Requirement already satisfied: sniffio>=1.1 in /usr/local/lib/python3.11/dist-packages (from anyio<5.0.0,>=4.8.0->google-genai>=1.14.0->google-adk==1.1.1) (1.3.1)\n",
            "Requirement already satisfied: wrapt<2,>=1.10 in /usr/local/lib/python3.11/dist-packages (from deprecated>=1.2.6->opentelemetry-api>=1.31.0->google-adk==1.1.1) (1.17.2)\n",
            "Requirement already satisfied: googleapis-common-protos<2.0.0,>=1.56.2 in /usr/local/lib/python3.11/dist-packages (from google-api-core!=2.0.*,!=2.1.*,!=2.2.*,!=2.3.0,<3.0.0,>=1.31.5->google-api-python-client>=2.157.0->google-adk==1.1.1) (1.70.0)\n",
            "Requirement already satisfied: grpcio<2.0dev,>=1.33.2 in /usr/local/lib/python3.11/dist-packages (from google-api-core[grpc]!=2.0.*,!=2.1.*,!=2.2.*,!=2.3.*,!=2.4.*,!=2.5.*,!=2.6.*,!=2.7.*,<3.0.0,>=1.34.1->google-cloud-aiplatform>=1.87.0->google-adk==1.1.1) (1.71.0)\n",
            "Requirement already satisfied: grpcio-status<2.0.dev0,>=1.33.2 in /usr/local/lib/python3.11/dist-packages (from google-api-core[grpc]!=2.0.*,!=2.1.*,!=2.2.*,!=2.3.*,!=2.4.*,!=2.5.*,!=2.6.*,!=2.7.*,<3.0.0,>=1.34.1->google-cloud-aiplatform>=1.87.0->google-adk==1.1.1) (1.71.0)\n",
            "Requirement already satisfied: cachetools<6.0,>=2.0.0 in /usr/local/lib/python3.11/dist-packages (from google-auth!=2.24.0,!=2.25.0,<3.0.0,>=1.32.0->google-api-python-client>=2.157.0->google-adk==1.1.1) (5.5.2)\n",
            "Requirement already satisfied: pyasn1-modules>=0.2.1 in /usr/local/lib/python3.11/dist-packages (from google-auth!=2.24.0,!=2.25.0,<3.0.0,>=1.32.0->google-api-python-client>=2.157.0->google-adk==1.1.1) (0.4.2)\n",
            "Requirement already satisfied: rsa<5,>=3.1.4 in /usr/local/lib/python3.11/dist-packages (from google-auth!=2.24.0,!=2.25.0,<3.0.0,>=1.32.0->google-api-python-client>=2.157.0->google-adk==1.1.1) (4.9.1)\n",
            "Requirement already satisfied: python-dateutil<3.0.0,>=2.8.2 in /usr/local/lib/python3.11/dist-packages (from google-cloud-bigquery!=3.20.0,<4.0.0,>=1.15.0->google-cloud-aiplatform>=1.87.0->google-adk==1.1.1) (2.9.0.post0)\n",
            "Requirement already satisfied: pyparsing!=3.0.0,!=3.0.1,!=3.0.2,!=3.0.3,<4,>=2.4.2 in /usr/local/lib/python3.11/dist-packages (from httplib2<1.0.0,>=0.19.0->google-api-python-client>=2.157.0->google-adk==1.1.1) (3.2.3)\n",
            "Requirement already satisfied: certifi in /usr/local/lib/python3.11/dist-packages (from httpx<1.0.0,>=0.28.1->google-genai>=1.14.0->google-adk==1.1.1) (2025.4.26)\n",
            "Requirement already satisfied: httpcore==1.* in /usr/local/lib/python3.11/dist-packages (from httpx<1.0.0,>=0.28.1->google-genai>=1.14.0->google-adk==1.1.1) (1.0.9)\n",
            "Requirement already satisfied: zipp>=3.20 in /usr/local/lib/python3.11/dist-packages (from importlib-metadata<8.7.0,>=6.0->opentelemetry-api>=1.31.0->google-adk==1.1.1) (3.21.0)\n",
            "Requirement already satisfied: charset-normalizer<4,>=2 in /usr/local/lib/python3.11/dist-packages (from requests<3.0.0dev,>=2.18.0->google-cloud-storage<3.0.0,>=2.18.0->google-adk==1.1.1) (3.4.2)\n",
            "Requirement already satisfied: urllib3<3,>=1.21.1 in /usr/local/lib/python3.11/dist-packages (from requests<3.0.0dev,>=2.18.0->google-cloud-storage<3.0.0,>=2.18.0->google-adk==1.1.1) (2.4.0)\n",
            "Requirement already satisfied: numpy>=1.21 in /usr/local/lib/python3.11/dist-packages (from shapely<3.0.0->google-cloud-aiplatform>=1.87.0->google-adk==1.1.1) (2.0.2)\n",
            "Requirement already satisfied: cffi>=1.12 in /usr/local/lib/python3.11/dist-packages (from cryptography->authlib>=1.5.1->google-adk==1.1.1) (1.17.1)\n",
            "Requirement already satisfied: pycparser in /usr/local/lib/python3.11/dist-packages (from cffi>=1.12->cryptography->authlib>=1.5.1->google-adk==1.1.1) (2.22)\n",
            "Requirement already satisfied: pyasn1<0.7.0,>=0.6.1 in /usr/local/lib/python3.11/dist-packages (from pyasn1-modules>=0.2.1->google-auth!=2.24.0,!=2.25.0,<3.0.0,>=1.32.0->google-api-python-client>=2.157.0->google-adk==1.1.1) (0.6.1)\n",
            "Requirement already satisfied: six>=1.5 in /usr/local/lib/python3.11/dist-packages (from python-dateutil<3.0.0,>=2.8.2->google-cloud-bigquery!=3.20.0,<4.0.0,>=1.15.0->google-cloud-aiplatform>=1.87.0->google-adk==1.1.1) (1.17.0)\n"
          ]
        }
      ]
    },
    {
      "cell_type": "code",
      "source": [
        "from google import adk"
      ],
      "metadata": {
        "id": "eo0P3ZdG1CeI"
      },
      "execution_count": 5,
      "outputs": []
    },
    {
      "cell_type": "code",
      "source": [
        "adk.__version__"
      ],
      "metadata": {
        "colab": {
          "base_uri": "https://localhost:8080/",
          "height": 35
        },
        "id": "4lCNTOYN1EOU",
        "outputId": "6c60b9ad-c7cd-4ba7-9f84-60a39bf39f39"
      },
      "execution_count": 6,
      "outputs": [
        {
          "output_type": "execute_result",
          "data": {
            "text/plain": [
              "'1.1.1'"
            ],
            "application/vnd.google.colaboratory.intrinsic+json": {
              "type": "string"
            }
          },
          "metadata": {},
          "execution_count": 6
        }
      ]
    },
    {
      "cell_type": "code",
      "source": [
        "vertexai.__version__"
      ],
      "metadata": {
        "colab": {
          "base_uri": "https://localhost:8080/",
          "height": 35
        },
        "id": "OOz115cL1F4T",
        "outputId": "892164df-6ec5-4098-c802-99f162297c7e"
      },
      "execution_count": 7,
      "outputs": [
        {
          "output_type": "execute_result",
          "data": {
            "text/plain": [
              "'1.93.1'"
            ],
            "application/vnd.google.colaboratory.intrinsic+json": {
              "type": "string"
            }
          },
          "metadata": {},
          "execution_count": 7
        }
      ]
    },
    {
      "cell_type": "markdown",
      "source": [
        "## Util functions"
      ],
      "metadata": {
        "id": "vvaXZRWTbvL1"
      }
    },
    {
      "cell_type": "code",
      "source": [
        "from vertexai import agent_engines\n",
        "from vertexai.preview import reasoning_engines"
      ],
      "metadata": {
        "id": "d-jKZ541bWc-"
      },
      "execution_count": 13,
      "outputs": []
    },
    {
      "cell_type": "code",
      "source": [
        "def delete(resource_id: str) -> None:\n",
        "    remote_agent = agent_engines.get(resource_id)\n",
        "    remote_agent.delete(force=True)\n",
        "    print(f\"Deleted remote agent: {resource_id}\")\n",
        "\n",
        "def list_agents() -> None:\n",
        "    remote_agents = agent_engines.list()\n",
        "    TEMPLATE = '''\n",
        "{agent.name} (\"{agent.display_name}\")\n",
        "- Create time: {agent.create_time}\n",
        "- Update time: {agent.update_time}\n",
        "'''\n",
        "    remote_agents_string = '\\n'.join(TEMPLATE.format(agent=agent) for agent in remote_agents)\n",
        "    print(f\"All remote agents:\\n{remote_agents_string}\")"
      ],
      "metadata": {
        "id": "m8ld-1qdcap_"
      },
      "execution_count": 9,
      "outputs": []
    },
    {
      "cell_type": "code",
      "source": [
        "list_agents()"
      ],
      "metadata": {
        "colab": {
          "base_uri": "https://localhost:8080/"
        },
        "id": "qrtl_BLFb7e3",
        "outputId": "a1939558-1cb2-486c-bc91-68a5febc42cb"
      },
      "execution_count": 10,
      "outputs": [
        {
          "output_type": "stream",
          "name": "stdout",
          "text": [
            "All remote agents:\n",
            "\n",
            "5147799092037943296 (\"\")\n",
            "- Create time: 2025-06-02 14:14:28.600149+00:00\n",
            "- Update time: 2025-06-02 14:18:55.955685+00:00\n",
            "\n",
            "\n",
            "2164164338904989696 (\"\")\n",
            "- Create time: 2025-06-02 11:57:47.050939+00:00\n",
            "- Update time: 2025-06-02 12:01:18.059991+00:00\n",
            "\n",
            "\n",
            "6087608854902734848 (\"DICE_AGENT\")\n",
            "- Create time: 2025-04-25 08:19:20.817490+00:00\n",
            "- Update time: 2025-04-25 08:22:05.936293+00:00\n",
            "\n",
            "\n",
            "7916070303615156224 (\"llm_auditor\")\n",
            "- Create time: 2025-04-25 07:13:25.339138+00:00\n",
            "- Update time: 2025-04-25 07:18:12.898631+00:00\n",
            "\n",
            "\n",
            "5307078744484085760 (\"llm_auditor\")\n",
            "- Create time: 2025-04-09 08:22:36.179879+00:00\n",
            "- Update time: 2025-04-09 08:25:42.734584+00:00\n",
            "\n",
            "\n",
            "8402318325882814464 (\"\")\n",
            "- Create time: 2025-03-28 08:42:23.121480+00:00\n",
            "- Update time: 2025-03-28 08:46:29.629436+00:00\n",
            "\n",
            "\n",
            "66410502317670400 (\"my-awesome-agent\")\n",
            "- Create time: 2025-03-07 01:22:05.930759+00:00\n",
            "- Update time: 2025-03-07 01:33:02.201959+00:00\n",
            "\n"
          ]
        }
      ]
    },
    {
      "cell_type": "code",
      "source": [
        "def call_remote_agent_engine_app(app, user_id, session_id, query):\n",
        "  response_text = ''\n",
        "  for event in app.stream_query(\n",
        "      user_id=user_id,\n",
        "      session_id=session_id,\n",
        "      message=query,\n",
        "  ):\n",
        "      print(event)\n",
        "      all_parts = event.get('content', {}).get('parts', [])\n",
        "      for part in all_parts:\n",
        "          response_text += (part.get('text', ''))\n",
        "  return response_text"
      ],
      "metadata": {
        "id": "4geFcqXucWM9"
      },
      "execution_count": 11,
      "outputs": []
    },
    {
      "cell_type": "markdown",
      "source": [
        "## Simple Search Agent"
      ],
      "metadata": {
        "id": "x_Hrsr83ddXj"
      }
    },
    {
      "cell_type": "code",
      "source": [
        "from google.adk.tools import google_search\n",
        "from google.adk import Agent\n",
        "from google.adk.agents import Agent, LlmAgent\n",
        "from google.genai import types\n",
        "from pydantic import BaseModel\n",
        "from google.genai import types\n",
        "from google.adk.sessions import InMemorySessionService\n",
        "from google.adk.runners import Runner\n",
        "\n",
        "MODEL = \"gemini-2.0-flash\"\n",
        "APP_NAME = \"simple_search_example\"\n",
        "USER_ID = \"user12345\"\n",
        "SESSION_ID = \"session12345\"\n",
        "AGENT_NAME = \"simple_search_agent\"\n",
        "\n",
        "# Agent\n",
        "simple_search_agent = Agent(\n",
        "    model=MODEL,\n",
        "    name=\"simple_search_agent\",\n",
        "    description=\"Agent to answer questions using Google Search.\",\n",
        "    instruction=\"I can answer your questions by searching the internet. Just ask me anything!\",\n",
        "    generate_content_config=types.GenerateContentConfig(\n",
        "        max_output_tokens=8000,\n",
        "    ),\n",
        "    tools=[google_search],\n",
        ")\n",
        "\n",
        "app = reasoning_engines.AdkApp(\n",
        "    agent=simple_search_agent,\n",
        "    enable_tracing=True,\n",
        ")"
      ],
      "metadata": {
        "id": "FvY2sMgbdfjE"
      },
      "execution_count": 14,
      "outputs": []
    },
    {
      "cell_type": "code",
      "source": [
        "session = await app.create_session(user_id=USER_ID)\n",
        "session"
      ],
      "metadata": {
        "id": "KPNpVCSZewe7",
        "outputId": "07551367-462f-43cd-a637-f37c6cd42e85",
        "colab": {
          "base_uri": "https://localhost:8080/"
        }
      },
      "execution_count": 15,
      "outputs": [
        {
          "output_type": "execute_result",
          "data": {
            "text/plain": [
              "Session(id='84fb74fa-bf03-45e5-b802-88f753580004', app_name='default-app-name', user_id='user12345', state={}, events=[], last_update_time=1748874587.3218415)"
            ]
          },
          "metadata": {},
          "execution_count": 15
        }
      ]
    },
    {
      "cell_type": "code",
      "source": [
        "call_remote_agent_engine_app(app, USER_ID, session.id, \"what is the weather in New York\")"
      ],
      "metadata": {
        "id": "q9bKIFYgd9N_",
        "outputId": "d94c2535-b0c9-49bc-8aee-e2ada6aec5d4",
        "colab": {
          "base_uri": "https://localhost:8080/",
          "height": 107
        }
      },
      "execution_count": 16,
      "outputs": [
        {
          "output_type": "stream",
          "name": "stdout",
          "text": [
            "{'content': {'parts': [{'text': 'The weather in New York City, NY is currently sunny with a temperature of 66°F (19°C). It feels like 70°F (21°C). The humidity is around 43%.\\n\\nThe forecast for today, June 2, 2025, is partly cloudy during the day and clear at night. There is a 10% chance of rain during the day and a 15% chance at night. The temperature will be between 56°F (13°C) and 72°F (22°C).\\n'}], 'role': 'model'}, 'grounding_metadata': {'grounding_chunks': [{'web': {'domain': 'google.com', 'title': 'Weather information for locality: New York, administrative_area: NY', 'uri': 'https://www.google.com/search?q=weather+in+New York,+NY'}}], 'grounding_supports': [{'confidence_scores': [0.7873515], 'grounding_chunk_indices': [0], 'segment': {'end_index': 236, 'start_index': 147, 'text': 'The forecast for today, June 2, 2025, is partly cloudy during the day and clear at night.'}}, {'confidence_scores': [0.82351136], 'grounding_chunk_indices': [0], 'segment': {'end_index': 308, 'start_index': 237, 'text': 'There is a 10% chance of rain during the day and a 15% chance at night.'}}, {'confidence_scores': [0.8661444], 'grounding_chunk_indices': [0], 'segment': {'end_index': 373, 'start_index': 309, 'text': 'The temperature will be between 56°F (13°C) and 72°F (22°C).'}}], 'retrieval_metadata': {}, 'search_entry_point': {'rendered_content': '<style>\\n.container {\\n  align-items: center;\\n  border-radius: 8px;\\n  display: flex;\\n  font-family: Google Sans, Roboto, sans-serif;\\n  font-size: 14px;\\n  line-height: 20px;\\n  padding: 8px 12px;\\n}\\n.chip {\\n  display: inline-block;\\n  border: solid 1px;\\n  border-radius: 16px;\\n  min-width: 14px;\\n  padding: 5px 16px;\\n  text-align: center;\\n  user-select: none;\\n  margin: 0 8px;\\n  -webkit-tap-highlight-color: transparent;\\n}\\n.carousel {\\n  overflow: auto;\\n  scrollbar-width: none;\\n  white-space: nowrap;\\n  margin-right: -12px;\\n}\\n.headline {\\n  display: flex;\\n  margin-right: 4px;\\n}\\n.gradient-container {\\n  position: relative;\\n}\\n.gradient {\\n  position: absolute;\\n  transform: translate(3px, -9px);\\n  height: 36px;\\n  width: 9px;\\n}\\n@media (prefers-color-scheme: light) {\\n  .container {\\n    background-color: #fafafa;\\n    box-shadow: 0 0 0 1px #0000000f;\\n  }\\n  .headline-label {\\n    color: #1f1f1f;\\n  }\\n  .chip {\\n    background-color: #ffffff;\\n    border-color: #d2d2d2;\\n    color: #5e5e5e;\\n    text-decoration: none;\\n  }\\n  .chip:hover {\\n    background-color: #f2f2f2;\\n  }\\n  .chip:focus {\\n    background-color: #f2f2f2;\\n  }\\n  .chip:active {\\n    background-color: #d8d8d8;\\n    border-color: #b6b6b6;\\n  }\\n  .logo-dark {\\n    display: none;\\n  }\\n  .gradient {\\n    background: linear-gradient(90deg, #fafafa 15%, #fafafa00 100%);\\n  }\\n}\\n@media (prefers-color-scheme: dark) {\\n  .container {\\n    background-color: #1f1f1f;\\n    box-shadow: 0 0 0 1px #ffffff26;\\n  }\\n  .headline-label {\\n    color: #fff;\\n  }\\n  .chip {\\n    background-color: #2c2c2c;\\n    border-color: #3c4043;\\n    color: #fff;\\n    text-decoration: none;\\n  }\\n  .chip:hover {\\n    background-color: #353536;\\n  }\\n  .chip:focus {\\n    background-color: #353536;\\n  }\\n  .chip:active {\\n    background-color: #464849;\\n    border-color: #53575b;\\n  }\\n  .logo-light {\\n    display: none;\\n  }\\n  .gradient {\\n    background: linear-gradient(90deg, #1f1f1f 15%, #1f1f1f00 100%);\\n  }\\n}\\n</style>\\n<div class=\"container\">\\n  <div class=\"headline\">\\n    <svg class=\"logo-light\" width=\"18\" height=\"18\" viewBox=\"9 9 35 35\" fill=\"none\" xmlns=\"http://www.w3.org/2000/svg\">\\n      <path fill-rule=\"evenodd\" clip-rule=\"evenodd\" d=\"M42.8622 27.0064C42.8622 25.7839 42.7525 24.6084 42.5487 23.4799H26.3109V30.1568H35.5897C35.1821 32.3041 33.9596 34.1222 32.1258 35.3448V39.6864H37.7213C40.9814 36.677 42.8622 32.2571 42.8622 27.0064V27.0064Z\" fill=\"#4285F4\"/>\\n      <path fill-rule=\"evenodd\" clip-rule=\"evenodd\" d=\"M26.3109 43.8555C30.9659 43.8555 34.8687 42.3195 37.7213 39.6863L32.1258 35.3447C30.5898 36.3792 28.6306 37.0061 26.3109 37.0061C21.8282 37.0061 18.0195 33.9811 16.6559 29.906H10.9194V34.3573C13.7563 39.9841 19.5712 43.8555 26.3109 43.8555V43.8555Z\" fill=\"#34A853\"/>\\n      <path fill-rule=\"evenodd\" clip-rule=\"evenodd\" d=\"M16.6559 29.8904C16.3111 28.8559 16.1074 27.7588 16.1074 26.6146C16.1074 25.4704 16.3111 24.3733 16.6559 23.3388V18.8875H10.9194C9.74388 21.2072 9.06992 23.8247 9.06992 26.6146C9.06992 29.4045 9.74388 32.022 10.9194 34.3417L15.3864 30.8621L16.6559 29.8904V29.8904Z\" fill=\"#FBBC05\"/>\\n      <path fill-rule=\"evenodd\" clip-rule=\"evenodd\" d=\"M26.3109 16.2386C28.85 16.2386 31.107 17.1164 32.9095 18.8091L37.8466 13.8719C34.853 11.082 30.9659 9.3736 26.3109 9.3736C19.5712 9.3736 13.7563 13.245 10.9194 18.8875L16.6559 23.3388C18.0195 19.2636 21.8282 16.2386 26.3109 16.2386V16.2386Z\" fill=\"#EA4335\"/>\\n    </svg>\\n    <svg class=\"logo-dark\" width=\"18\" height=\"18\" viewBox=\"0 0 48 48\" xmlns=\"http://www.w3.org/2000/svg\">\\n      <circle cx=\"24\" cy=\"23\" fill=\"#FFF\" r=\"22\"/>\\n      <path d=\"M33.76 34.26c2.75-2.56 4.49-6.37 4.49-11.26 0-.89-.08-1.84-.29-3H24.01v5.99h8.03c-.4 2.02-1.5 3.56-3.07 4.56v.75l3.91 2.97h.88z\" fill=\"#4285F4\"/>\\n      <path d=\"M15.58 25.77A8.845 8.845 0 0 0 24 31.86c1.92 0 3.62-.46 4.97-1.31l4.79 3.71C31.14 36.7 27.65 38 24 38c-5.93 0-11.01-3.4-13.45-8.36l.17-1.01 4.06-2.85h.8z\" fill=\"#34A853\"/>\\n      <path d=\"M15.59 20.21a8.864 8.864 0 0 0 0 5.58l-5.03 3.86c-.98-2-1.53-4.25-1.53-6.64 0-2.39.55-4.64 1.53-6.64l1-.22 3.81 2.98.22 1.08z\" fill=\"#FBBC05\"/>\\n      <path d=\"M24 14.14c2.11 0 4.02.75 5.52 1.98l4.36-4.36C31.22 9.43 27.81 8 24 8c-5.93 0-11.01 3.4-13.45 8.36l5.03 3.85A8.86 8.86 0 0 1 24 14.14z\" fill=\"#EA4335\"/>\\n    </svg>\\n    <div class=\"gradient-container\"><div class=\"gradient\"></div></div>\\n  </div>\\n  <div class=\"carousel\">\\n    <a class=\"chip\" href=\"https://vertexaisearch.cloud.google.com/grounding-api-redirect/AbF9wXHGpaqA1hIy2xXcX9gjYw-ksVfkyyLTFgkURGR7gkQc5_IYTpaxjUHRRC9XR8ObS6fRyzqOay5OYRCQayIFskBZO_35W_Ak6qcBP809wWF8YKS72RxSON6NautyGTSTKO527AZrbrxILbzw6cR23ZiN6LrPED5sOWzyadMbB1dckHYkycJLQKtRFIcPnRV-rFyG3K-zJQ==\">weather in New York</a>\\n  </div>\\n</div>\\n'}, 'web_search_queries': ['weather in New York']}, 'usage_metadata': {'candidates_token_count': 127, 'candidates_tokens_details': [{'modality': <MediaModality.TEXT: 'TEXT'>, 'token_count': 127}], 'prompt_token_count': 54, 'prompt_tokens_details': [{'modality': <MediaModality.TEXT: 'TEXT'>, 'token_count': 54}], 'total_token_count': 181, 'traffic_type': <TrafficType.ON_DEMAND: 'ON_DEMAND'>}, 'invocation_id': 'e-fae0b098-09e0-4811-8ed6-0b7841c3086a', 'author': 'simple_search_agent', 'actions': {'state_delta': {}, 'artifact_delta': {}, 'requested_auth_configs': {}}, 'id': 'EKF2NvSM', 'timestamp': 1748874610.364891}\n"
          ]
        },
        {
          "output_type": "execute_result",
          "data": {
            "text/plain": [
              "'The weather in New York City, NY is currently sunny with a temperature of 66°F (19°C). It feels like 70°F (21°C). The humidity is around 43%.\\n\\nThe forecast for today, June 2, 2025, is partly cloudy during the day and clear at night. There is a 10% chance of rain during the day and a 15% chance at night. The temperature will be between 56°F (13°C) and 72°F (22°C).\\n'"
            ],
            "application/vnd.google.colaboratory.intrinsic+json": {
              "type": "string"
            }
          },
          "metadata": {},
          "execution_count": 16
        }
      ]
    },
    {
      "cell_type": "code",
      "source": [
        "call_remote_agent_engine_app(app, USER_ID, session.id, \"is earth square?\")"
      ],
      "metadata": {
        "id": "f_PD0oMRDOX5",
        "outputId": "e76fe5ad-161a-4820-d376-cceac77ea181",
        "colab": {
          "base_uri": "https://localhost:8080/",
          "height": 90
        }
      },
      "execution_count": 17,
      "outputs": [
        {
          "output_type": "stream",
          "name": "stdout",
          "text": [
            "{'content': {'parts': [{'text': \"No, the Earth is not square. While it appears round from space, its shape is more accurately described as an irregular ellipsoid, or oblate spheroid. This means it's like a sphere that is slightly flattened at the poles and bulging at the equator due to the centrifugal force of its rotation.\\n\"}], 'role': 'model'}, 'grounding_metadata': {'grounding_chunks': [{'web': {'domain': 'wikipedia.org', 'title': 'wikipedia.org', 'uri': 'https://vertexaisearch.cloud.google.com/grounding-api-redirect/AbF9wXEZFTPlbIl4Y1lw8Kxz-ClTYPXBNRpk3OMdnhnPTMywNuDNDZ8KR2gDGdk2hbsySwHysGt7puy8DtzRqpcNa1cDOIjbaJf_WCwpwlJPaEO6yngbcRe-XJEFPHcMvCn9OqZYyxs='}}, {'web': {'domain': 'quora.com', 'title': 'quora.com', 'uri': 'https://vertexaisearch.cloud.google.com/grounding-api-redirect/AbF9wXEGkHBOrIxodevtxmD5ABp3O2VeJoFAaXi4As-wOBQGDD_P4_eizIy4em5SyjFTHvjV6ohNkRAY8dfFnOpL-z0hY50buvCfreWDqJIJUKE_DV0dga4PrAWSMzyEZvXsHIOHWyNdk0bKpgP47_hKFpovBawtHTX414W8qMBMGEzFfCIE39Ry3e9quALJnIZ0iU7STRclnzZrodO0841W-bY='}}, {'web': {'domain': 'wikipedia.org', 'title': 'wikipedia.org', 'uri': 'https://vertexaisearch.cloud.google.com/grounding-api-redirect/AbF9wXHoVFA-4e2qYiProxnIIvWY3CYAAwfv6rD24qyWa780VmV6DcEdV3gtfWGYDzoLTw2IWUdaklz6J334mnerqboCEh9oCb0zvcgWkD58f6UhjQiBBfaXAT9Hz_WbEHr6YJfE2SLjz1CAmBxWHFY='}}, {'web': {'domain': 'space.com', 'title': 'space.com', 'uri': 'https://vertexaisearch.cloud.google.com/grounding-api-redirect/AbF9wXFepH5n1fGVHiHjSawFojM1C578FRKIWFJqrkT1NcWDGhpcvXOCCgR9CL6tZKudhLXCgcW9UWPHaG--_X8EecSgv5fiiA61-Qi8_jqkPPbzz1zx5ufG1B0ln_-JMukmxABOrBPZ6QXSUw7ekQs='}}], 'grounding_supports': [{'confidence_scores': [0.659435, 0.6621418], 'grounding_chunk_indices': [0, 1], 'segment': {'end_index': 28, 'text': 'No, the Earth is not square.'}}, {'confidence_scores': [0.7070438], 'grounding_chunk_indices': [2], 'segment': {'end_index': 149, 'start_index': 29, 'text': 'While it appears round from space, its shape is more accurately described as an irregular ellipsoid, or oblate spheroid.'}}, {'confidence_scores': [0.7453527], 'grounding_chunk_indices': [3], 'segment': {'end_index': 292, 'start_index': 150, 'text': \"This means it's like a sphere that is slightly flattened at the poles and bulging at the equator due to the centrifugal force of its rotation.\"}}], 'retrieval_metadata': {}, 'search_entry_point': {'rendered_content': '<style>\\n.container {\\n  align-items: center;\\n  border-radius: 8px;\\n  display: flex;\\n  font-family: Google Sans, Roboto, sans-serif;\\n  font-size: 14px;\\n  line-height: 20px;\\n  padding: 8px 12px;\\n}\\n.chip {\\n  display: inline-block;\\n  border: solid 1px;\\n  border-radius: 16px;\\n  min-width: 14px;\\n  padding: 5px 16px;\\n  text-align: center;\\n  user-select: none;\\n  margin: 0 8px;\\n  -webkit-tap-highlight-color: transparent;\\n}\\n.carousel {\\n  overflow: auto;\\n  scrollbar-width: none;\\n  white-space: nowrap;\\n  margin-right: -12px;\\n}\\n.headline {\\n  display: flex;\\n  margin-right: 4px;\\n}\\n.gradient-container {\\n  position: relative;\\n}\\n.gradient {\\n  position: absolute;\\n  transform: translate(3px, -9px);\\n  height: 36px;\\n  width: 9px;\\n}\\n@media (prefers-color-scheme: light) {\\n  .container {\\n    background-color: #fafafa;\\n    box-shadow: 0 0 0 1px #0000000f;\\n  }\\n  .headline-label {\\n    color: #1f1f1f;\\n  }\\n  .chip {\\n    background-color: #ffffff;\\n    border-color: #d2d2d2;\\n    color: #5e5e5e;\\n    text-decoration: none;\\n  }\\n  .chip:hover {\\n    background-color: #f2f2f2;\\n  }\\n  .chip:focus {\\n    background-color: #f2f2f2;\\n  }\\n  .chip:active {\\n    background-color: #d8d8d8;\\n    border-color: #b6b6b6;\\n  }\\n  .logo-dark {\\n    display: none;\\n  }\\n  .gradient {\\n    background: linear-gradient(90deg, #fafafa 15%, #fafafa00 100%);\\n  }\\n}\\n@media (prefers-color-scheme: dark) {\\n  .container {\\n    background-color: #1f1f1f;\\n    box-shadow: 0 0 0 1px #ffffff26;\\n  }\\n  .headline-label {\\n    color: #fff;\\n  }\\n  .chip {\\n    background-color: #2c2c2c;\\n    border-color: #3c4043;\\n    color: #fff;\\n    text-decoration: none;\\n  }\\n  .chip:hover {\\n    background-color: #353536;\\n  }\\n  .chip:focus {\\n    background-color: #353536;\\n  }\\n  .chip:active {\\n    background-color: #464849;\\n    border-color: #53575b;\\n  }\\n  .logo-light {\\n    display: none;\\n  }\\n  .gradient {\\n    background: linear-gradient(90deg, #1f1f1f 15%, #1f1f1f00 100%);\\n  }\\n}\\n</style>\\n<div class=\"container\">\\n  <div class=\"headline\">\\n    <svg class=\"logo-light\" width=\"18\" height=\"18\" viewBox=\"9 9 35 35\" fill=\"none\" xmlns=\"http://www.w3.org/2000/svg\">\\n      <path fill-rule=\"evenodd\" clip-rule=\"evenodd\" d=\"M42.8622 27.0064C42.8622 25.7839 42.7525 24.6084 42.5487 23.4799H26.3109V30.1568H35.5897C35.1821 32.3041 33.9596 34.1222 32.1258 35.3448V39.6864H37.7213C40.9814 36.677 42.8622 32.2571 42.8622 27.0064V27.0064Z\" fill=\"#4285F4\"/>\\n      <path fill-rule=\"evenodd\" clip-rule=\"evenodd\" d=\"M26.3109 43.8555C30.9659 43.8555 34.8687 42.3195 37.7213 39.6863L32.1258 35.3447C30.5898 36.3792 28.6306 37.0061 26.3109 37.0061C21.8282 37.0061 18.0195 33.9811 16.6559 29.906H10.9194V34.3573C13.7563 39.9841 19.5712 43.8555 26.3109 43.8555V43.8555Z\" fill=\"#34A853\"/>\\n      <path fill-rule=\"evenodd\" clip-rule=\"evenodd\" d=\"M16.6559 29.8904C16.3111 28.8559 16.1074 27.7588 16.1074 26.6146C16.1074 25.4704 16.3111 24.3733 16.6559 23.3388V18.8875H10.9194C9.74388 21.2072 9.06992 23.8247 9.06992 26.6146C9.06992 29.4045 9.74388 32.022 10.9194 34.3417L15.3864 30.8621L16.6559 29.8904V29.8904Z\" fill=\"#FBBC05\"/>\\n      <path fill-rule=\"evenodd\" clip-rule=\"evenodd\" d=\"M26.3109 16.2386C28.85 16.2386 31.107 17.1164 32.9095 18.8091L37.8466 13.8719C34.853 11.082 30.9659 9.3736 26.3109 9.3736C19.5712 9.3736 13.7563 13.245 10.9194 18.8875L16.6559 23.3388C18.0195 19.2636 21.8282 16.2386 26.3109 16.2386V16.2386Z\" fill=\"#EA4335\"/>\\n    </svg>\\n    <svg class=\"logo-dark\" width=\"18\" height=\"18\" viewBox=\"0 0 48 48\" xmlns=\"http://www.w3.org/2000/svg\">\\n      <circle cx=\"24\" cy=\"23\" fill=\"#FFF\" r=\"22\"/>\\n      <path d=\"M33.76 34.26c2.75-2.56 4.49-6.37 4.49-11.26 0-.89-.08-1.84-.29-3H24.01v5.99h8.03c-.4 2.02-1.5 3.56-3.07 4.56v.75l3.91 2.97h.88z\" fill=\"#4285F4\"/>\\n      <path d=\"M15.58 25.77A8.845 8.845 0 0 0 24 31.86c1.92 0 3.62-.46 4.97-1.31l4.79 3.71C31.14 36.7 27.65 38 24 38c-5.93 0-11.01-3.4-13.45-8.36l.17-1.01 4.06-2.85h.8z\" fill=\"#34A853\"/>\\n      <path d=\"M15.59 20.21a8.864 8.864 0 0 0 0 5.58l-5.03 3.86c-.98-2-1.53-4.25-1.53-6.64 0-2.39.55-4.64 1.53-6.64l1-.22 3.81 2.98.22 1.08z\" fill=\"#FBBC05\"/>\\n      <path d=\"M24 14.14c2.11 0 4.02.75 5.52 1.98l4.36-4.36C31.22 9.43 27.81 8 24 8c-5.93 0-11.01 3.4-13.45 8.36l5.03 3.85A8.86 8.86 0 0 1 24 14.14z\" fill=\"#EA4335\"/>\\n    </svg>\\n    <div class=\"gradient-container\"><div class=\"gradient\"></div></div>\\n  </div>\\n  <div class=\"carousel\">\\n    <a class=\"chip\" href=\"https://vertexaisearch.cloud.google.com/grounding-api-redirect/AbF9wXFxcfNoUHllJAj8fwZ1YbZQIOuR2WsIAZSr2cq5QY8BQRY30bkKJ2QoJqz_EPDW0E1avyIZXerB-9WDcc-V9JonWqZ5yZjtCSsj3aFchcrL4LHu-5fKwdVWyDVk-2pi4dDlkmmw7bsHTadfszSkCnQ6w6ZApbMHzVwmVgEoEVvERLaDdptQuzZhsqd_UyMZppZRtclWqvKE6d8=\">Is the Earth square?</a>\\n    <a class=\"chip\" href=\"https://vertexaisearch.cloud.google.com/grounding-api-redirect/AbF9wXHQHwJieybxhkYdFSV4bhkqsYR3bwCHkKfUx2LQ6GuqVxRd3rx500D9c9RQ3OJwIHXUeq3VyjTPWExUfdwQlZ-ZJmalY2owSM2uctLVWJoc0DS6NSRCHPckTJMEBBTVwulfO6dHwxz-1Af4h7-luhfktabYKf3uxXrQgkL5cAGvgfj-SsS_T0_aAytSSpGbYd2vGbSGHg==\">shape of the earth</a>\\n  </div>\\n</div>\\n'}, 'web_search_queries': ['Is the Earth square?', 'shape of the earth']}, 'usage_metadata': {'candidates_token_count': 62, 'candidates_tokens_details': [{'modality': <MediaModality.TEXT: 'TEXT'>, 'token_count': 62}], 'prompt_token_count': 185, 'prompt_tokens_details': [{'modality': <MediaModality.TEXT: 'TEXT'>, 'token_count': 185}], 'total_token_count': 247, 'traffic_type': <TrafficType.ON_DEMAND: 'ON_DEMAND'>}, 'invocation_id': 'e-275250f6-a2a6-4469-9974-2165db7671e0', 'author': 'simple_search_agent', 'actions': {'state_delta': {}, 'artifact_delta': {}, 'requested_auth_configs': {}}, 'id': 'Mh9sV87x', 'timestamp': 1748874624.425723}\n"
          ]
        },
        {
          "output_type": "execute_result",
          "data": {
            "text/plain": [
              "\"No, the Earth is not square. While it appears round from space, its shape is more accurately described as an irregular ellipsoid, or oblate spheroid. This means it's like a sphere that is slightly flattened at the poles and bulging at the equator due to the centrifugal force of its rotation.\\n\""
            ],
            "application/vnd.google.colaboratory.intrinsic+json": {
              "type": "string"
            }
          },
          "metadata": {},
          "execution_count": 17
        }
      ]
    },
    {
      "cell_type": "markdown",
      "source": [
        "## Search multiple questions\n"
      ],
      "metadata": {
        "id": "36NHGlMyDYE4"
      }
    },
    {
      "cell_type": "code",
      "source": [
        "from google.adk.tools.agent_tool import AgentTool\n",
        "\n",
        "# Instantiate again because each agent tree shall have unique objects.\n",
        "simple_search_agent = Agent(\n",
        "    model=MODEL,\n",
        "    name=\"simple_search_agent\",\n",
        "    description=\"Agent to answer questions using Google Search.\",\n",
        "    instruction=\"I can answer your questions by searching the internet. Just ask me anything!\",\n",
        "    generate_content_config=types.GenerateContentConfig(\n",
        "        max_output_tokens=8000,\n",
        "    ),\n",
        "    tools=[google_search],\n",
        ")\n",
        "\n",
        "multiple_search_agent = Agent(\n",
        "    model=MODEL,\n",
        "    name=\"research_agent\",\n",
        "    description=\"Get answers to multiple questions one by one.\",\n",
        "    instruction=\"Observe the pending questions in the chat log and call the simple_search_agent to conduct search and give answers to each question. Present the search result in a markdown, one section per question and answer\",\n",
        "    generate_content_config=types.GenerateContentConfig(\n",
        "        max_output_tokens=8000,\n",
        "    ),\n",
        "    tools=[AgentTool(simple_search_agent)],\n",
        ")\n",
        "\n",
        "app = reasoning_engines.AdkApp(\n",
        "    agent=multiple_search_agent,\n",
        "    enable_tracing=True,\n",
        ")\n",
        "\n",
        "session = await app.create_session(user_id=USER_ID)\n",
        "\n",
        "call_remote_agent_engine_app(app, USER_ID, session.id, \"\"\"\n",
        "- Is Earth square?\n",
        "- Is Moon flat?\n",
        "- Is Sun cold?\n",
        "\"\"\")"
      ],
      "metadata": {
        "id": "EvBH8KkUDgrS",
        "outputId": "6ebf9fcb-00c0-4e6e-d6fe-1109d1fca0a9",
        "colab": {
          "base_uri": "https://localhost:8080/",
          "height": 507
        }
      },
      "execution_count": 19,
      "outputs": [
        {
          "output_type": "stream",
          "name": "stderr",
          "text": [
            "WARNING:google_genai.types:Warning: there are non-text parts in the response: ['function_call', 'function_call', 'function_call'], returning concatenated text result from text parts. Check the full candidates.content.parts accessor to get the full model response.\n"
          ]
        },
        {
          "output_type": "stream",
          "name": "stdout",
          "text": [
            "{'content': {'parts': [{'function_call': {'id': 'adk-86084634-fdb5-45ff-be8f-ef3fc5866a35', 'args': {'request': 'Is Earth square?'}, 'name': 'simple_search_agent'}}, {'function_call': {'id': 'adk-482d0901-8ff9-4f48-bf2c-03539b6dc35a', 'args': {'request': 'Is Moon flat?'}, 'name': 'simple_search_agent'}}, {'function_call': {'id': 'adk-a8b821f0-b93c-470e-bf41-fa89e7be6d9c', 'args': {'request': 'Is Sun cold?'}, 'name': 'simple_search_agent'}}], 'role': 'model'}, 'usage_metadata': {'candidates_token_count': 30, 'candidates_tokens_details': [{'modality': <MediaModality.TEXT: 'TEXT'>, 'token_count': 30}], 'prompt_token_count': 107, 'prompt_tokens_details': [{'modality': <MediaModality.TEXT: 'TEXT'>, 'token_count': 107}], 'total_token_count': 137, 'traffic_type': <TrafficType.ON_DEMAND: 'ON_DEMAND'>}, 'invocation_id': 'e-cfc453fb-eff3-4ac1-80e8-9f3962b47308', 'author': 'research_agent', 'actions': {'state_delta': {}, 'artifact_delta': {}, 'requested_auth_configs': {}}, 'long_running_tool_ids': set(), 'id': 'duUSbE4X', 'timestamp': 1748875251.26615}\n"
          ]
        },
        {
          "output_type": "stream",
          "name": "stderr",
          "text": [
            "WARNING:opentelemetry.sdk.trace.export:Already shutdown, dropping span.\n",
            "WARNING:opentelemetry.sdk.trace.export:Already shutdown, dropping span.\n",
            "WARNING:opentelemetry.sdk.trace.export:Already shutdown, dropping span.\n",
            "WARNING:opentelemetry.sdk.trace.export:Already shutdown, dropping span.\n",
            "WARNING:opentelemetry.sdk.trace.export:Already shutdown, dropping span.\n",
            "WARNING:opentelemetry.sdk.trace.export:Already shutdown, dropping span.\n",
            "WARNING:opentelemetry.sdk.trace.export:Already shutdown, dropping span.\n",
            "WARNING:opentelemetry.sdk.trace.export:Already shutdown, dropping span.\n",
            "WARNING:opentelemetry.sdk.trace.export:Already shutdown, dropping span.\n",
            "WARNING:opentelemetry.sdk.trace.export:Already shutdown, dropping span.\n",
            "WARNING:opentelemetry.sdk.trace.export:Already shutdown, dropping span.\n",
            "WARNING:opentelemetry.sdk.trace.export:Already shutdown, dropping span.\n",
            "WARNING:opentelemetry.sdk.trace.export:Already shutdown, dropping span.\n",
            "WARNING:opentelemetry.sdk.trace.export:Already shutdown, dropping span.\n",
            "WARNING:opentelemetry.sdk.trace.export:Already shutdown, dropping span.\n",
            "WARNING:opentelemetry.sdk.trace.export:Already shutdown, dropping span.\n",
            "WARNING:opentelemetry.sdk.trace.export:Already shutdown, dropping span.\n"
          ]
        },
        {
          "output_type": "stream",
          "name": "stdout",
          "text": [
            "{'content': {'parts': [{'function_response': {'id': 'adk-86084634-fdb5-45ff-be8f-ef3fc5866a35', 'name': 'simple_search_agent', 'response': {'result': 'No, the Earth is not square. While it appears round from space, its shape is more accurately described as an irregularly shaped ellipsoid.\\n'}}}, {'function_response': {'id': 'adk-482d0901-8ff9-4f48-bf2c-03539b6dc35a', 'name': 'simple_search_agent', 'response': {'result': \"Although the moon may appear to be flat to the naked eye, it is actually a sphere. Here's why:\\n\\n*   **Optical Illusion:** When you look at the moon, it can be difficult to see its 3-dimensional shape due to its distance and the lack of visual cues.\\n*   **Telescopic Views:** When viewed through a telescope, the moon appears more textured and round.\\n*   **Lunar Phases:** The phases of the moon demonstrate that it is a sphere, as we see different amounts of the illuminated surface as it orbits the Earth.\\n*   **Historical Theories:** There was an ancient theory that the moon was flat, but this has been disproven.\\n*   **Scientific Evidence:** Space missions have confirmed that the moon is a sphere.\\n*   **Tidal Forces:** Scientists believe that tidal forces in the moon's early history contributed to its shape.\\n\"}}}, {'function_response': {'id': 'adk-a8b821f0-b93c-470e-bf41-fa89e7be6d9c', 'name': 'simple_search_agent', 'response': {'result': \"While it might seem counterintuitive, the Sun is not cold. Here's a breakdown:\\n\\n*   **The Sun is incredibly hot:** The surface of the sun remains at an extremely hot temperature of about 5800 Kelvin all year round.\\n*   **Nuclear Reactions:** The sun is a giant ball of fire driven by continuous nuclear reactions.\\n*   **Heat Emission:** The high temperature of the sun causes it to constantly emit massive amounts of thermal radiation in all directions, including infrared waves, visible light, and ultraviolet waves.\\n*   **Misconception about winter:** The sun doesn't get cold in the winter. The Earth's tilt causes sunlight to spread over a larger area, making it feel weaker, but the sun itself remains hot.\\n\\n\"}}}], 'role': 'user'}, 'invocation_id': 'ZDPdNc8k', 'author': 'research_agent', 'actions': {'state_delta': {}, 'artifact_delta': {}, 'requested_auth_configs': {}}, 'id': '6LXJY2Tz', 'timestamp': 1748875254.119695}\n"
          ]
        },
        {
          "output_type": "stream",
          "name": "stderr",
          "text": [
            "WARNING:opentelemetry.sdk.trace.export:Already shutdown, dropping span.\n",
            "WARNING:opentelemetry.sdk.trace.export:Already shutdown, dropping span.\n",
            "WARNING:opentelemetry.sdk.trace.export:Already shutdown, dropping span.\n"
          ]
        },
        {
          "output_type": "stream",
          "name": "stdout",
          "text": [
            "{'content': {'parts': [{'text': '### Is Earth square?\\n\\nNo, the Earth is not square. While it appears round from space, its shape is more accurately described as an irregularly shaped ellipsoid.\\n\\n### Is Moon flat?\\n\\nAlthough the moon may appear to be flat to the naked eye, it is actually a sphere.\\n\\n### Is Sun cold?\\n\\nWhile it might seem counterintuitive, the Sun is not cold. The surface of the sun remains at an extremely hot temperature of about 5800 Kelvin all year round.\\n'}], 'role': 'model'}, 'usage_metadata': {'candidates_token_count': 103, 'candidates_tokens_details': [{'modality': <MediaModality.TEXT: 'TEXT'>, 'token_count': 103}], 'prompt_token_count': 526, 'prompt_tokens_details': [{'modality': <MediaModality.TEXT: 'TEXT'>, 'token_count': 526}], 'total_token_count': 629, 'traffic_type': <TrafficType.ON_DEMAND: 'ON_DEMAND'>}, 'invocation_id': 'e-cfc453fb-eff3-4ac1-80e8-9f3962b47308', 'author': 'research_agent', 'actions': {'state_delta': {}, 'artifact_delta': {}, 'requested_auth_configs': {}}, 'id': '1rLKynyk', 'timestamp': 1748875259.950973}\n"
          ]
        },
        {
          "output_type": "execute_result",
          "data": {
            "text/plain": [
              "'### Is Earth square?\\n\\nNo, the Earth is not square. While it appears round from space, its shape is more accurately described as an irregularly shaped ellipsoid.\\n\\n### Is Moon flat?\\n\\nAlthough the moon may appear to be flat to the naked eye, it is actually a sphere.\\n\\n### Is Sun cold?\\n\\nWhile it might seem counterintuitive, the Sun is not cold. The surface of the sun remains at an extremely hot temperature of about 5800 Kelvin all year round.\\n'"
            ],
            "application/vnd.google.colaboratory.intrinsic+json": {
              "type": "string"
            }
          },
          "metadata": {},
          "execution_count": 19
        }
      ]
    },
    {
      "cell_type": "code",
      "source": [
        "# One sample data related to function call\n",
        "# data = {\n",
        "#     'content': {\n",
        "#         'parts': [\n",
        "#             {'function_call':\n",
        "#              {'id': 'adk-86084634-fdb5-45ff-be8f-ef3fc5866a35',\n",
        "#               'args': {'request': 'Is Earth square?'},\n",
        "#               'name': 'simple_search_agent'}},\n",
        "#             {'function_call':\n",
        "#              {'id': 'adk-482d0901-8ff9-4f48-bf2c-03539b6dc35a',\n",
        "#               'args': {'request': 'Is Moon flat?'}, 'name': 'simple_search_agent'}},\n",
        "#             {'function_call':\n",
        "#              {'id': 'adk-a8b821f0-b93c-470e-bf41-fa89e7be6d9c',\n",
        "#               'args': {'request': 'Is Sun cold?'}, 'name': 'simple_search_agent'}}"
      ],
      "metadata": {
        "id": "Zf0BBszDEZ-Q"
      },
      "execution_count": 23,
      "outputs": []
    },
    {
      "cell_type": "markdown",
      "source": [
        "## Generate the research plan"
      ],
      "metadata": {
        "id": "D_GaJdRlGeMo"
      }
    },
    {
      "cell_type": "code",
      "source": [
        "DEEP_RESEARCH_PLAN_INSTRUCTION = \"\"\"\n",
        "Instruction for a Deep Research Plan Agent\n",
        "As a Deep Research Plan Agent, your primary objective is to generate a comprehensive and insightful research plan. This plan will be presented as a markdown bullet point list of questions. The goal is to not only address the user's explicit query but also to anticipate and explore related avenues of inquiry that would be of interest for a thorough understanding of the topic. Your output should guide the user through a structured and deep exploration of their subject.\n",
        "\n",
        "Here is the process to follow:\n",
        "\n",
        "Deconstruct the Core Topic:\n",
        "\n",
        "What is the fundamental subject of the user's request?\n",
        "What are the primary keywords and concepts?\n",
        "What is the implicit goal of the user's research? (e.g., to understand a concept, to make a decision, to compare and contrast, to solve a problem).\n",
        "Generate Foundational Questions:\n",
        "\n",
        "Start with the basics to establish a strong foundation.\n",
        "What is the definition of the core topic?\n",
        "What is its history and origin?\n",
        "What are the key principles and theories that underpin it?\n",
        "Who are the seminal thinkers, researchers, or figures associated with this topic?\n",
        "Explore Deeper, More Nuanced Aspects:\n",
        "\n",
        "Move beyond the surface-level inquiries.\n",
        "What are the current debates or controversies surrounding this topic?\n",
        "What are the different schools of thought or perspectives?\n",
        "What are the key components, mechanisms, or processes involved? How do they interact?\n",
        "What are the less obvious or often overlooked aspects of this topic?\n",
        "Investigate Connections and Relationships:\n",
        "\n",
        "Think about how the topic connects to broader fields and concepts.\n",
        "How does this topic relate to other relevant disciplines or areas of study?\n",
        "What are the upstream causes and downstream effects of the subject?\n",
        "How has this topic influenced, or been influenced by, historical, social, technological, or economic factors?\n",
        "Consider Practical Applications and Implications:\n",
        "\n",
        "Explore the real-world significance of the topic.\n",
        "What are the practical applications or use cases?\n",
        "What are the ethical, social, or economic implications?\n",
        "Who are the key stakeholders affected by or involved in this topic?\n",
        "Look to the Future:\n",
        "\n",
        "Encourage forward-thinking inquiry.\n",
        "What are the emerging trends and future directions of research in this area?\n",
        "What are the unanswered questions or existing gaps in knowledge?\n",
        "What are the potential future impacts or developments related to this topic?\n",
        "Synthesize and Structure the Plan:\n",
        "\n",
        "Organize the generated questions into a logical flow. A good structure might be:\n",
        "Foundational Understanding\n",
        "In-Depth Analysis\n",
        "Context and Connections\n",
        "Practical Implications\n",
        "Future Outlook\n",
        "Present the final output as a clean, easy-to-read markdown bullet point list.\n",
        "Use sub-bullets to group related questions and create a hierarchical structure.\n",
        "Ensure the questions are open-ended and encourage critical thinking rather than simple fact-finding.\n",
        "By following these instructions, you will create a research plan that is not only deep and thoughtful but also anticipates the user's latent interests, guiding them toward a truly comprehensive understanding of their chosen topic.\n",
        "\"\"\""
      ],
      "metadata": {
        "id": "OO2X30YIMyVC"
      },
      "execution_count": 24,
      "outputs": []
    },
    {
      "cell_type": "code",
      "source": [
        "# Instantiate again because each agent tree shall have unique objects.\n",
        "plan_agent = Agent(\n",
        "    model=MODEL,\n",
        "    name=\"plan_agent\",\n",
        "    description=\"Agent to generate a research plan based on the question or topic given by the user\",\n",
        "    instruction=DEEP_RESEARCH_PLAN_INSTRUCTION,\n",
        "    generate_content_config=types.GenerateContentConfig(\n",
        "        max_output_tokens=8000,\n",
        "    ),\n",
        ")"
      ],
      "metadata": {
        "id": "ODUc5KDZGhXD"
      },
      "execution_count": 26,
      "outputs": []
    },
    {
      "cell_type": "code",
      "source": [
        "app = reasoning_engines.AdkApp(\n",
        "    agent=plan_agent,\n",
        "    enable_tracing=True,\n",
        ")\n",
        "\n",
        "session = await app.create_session(user_id=USER_ID)\n",
        "\n",
        "response_text = call_remote_agent_engine_app(app, USER_ID, session.id, \"\"\"AI Agent's impact on labour market\"\"\")"
      ],
      "metadata": {
        "id": "mC2JHEnSM8pP",
        "outputId": "cf79047e-0365-4151-c681-cf32496c26db",
        "colab": {
          "base_uri": "https://localhost:8080/"
        }
      },
      "execution_count": 31,
      "outputs": [
        {
          "output_type": "stream",
          "name": "stderr",
          "text": [
            "WARNING:opentelemetry.sdk.trace.export:Already shutdown, dropping span.\n",
            "WARNING:opentelemetry.sdk.trace.export:Already shutdown, dropping span.\n",
            "WARNING:opentelemetry.sdk.trace.export:Already shutdown, dropping span.\n"
          ]
        },
        {
          "output_type": "stream",
          "name": "stdout",
          "text": [
            "{'content': {'parts': [{'text': 'Okay, I can create a research plan to deeply investigate the impact of AI Agents on the labor market. Here\\'s a possible plan, structured as a series of questions to guide a comprehensive exploration:\\n\\n*   **Foundational Understanding**\\n    *   What is the definition of an \"AI Agent\" in the context of the labor market?\\n        *   What are some examples of AI Agents currently used in different industries?\\n        *   How do AI Agents differ from other forms of automation?\\n    *   What are the historical trends of automation and technological advancements impacting the labor market?\\n        *   What lessons can be learned from previous industrial revolutions?\\n        *   How does the current wave of AI-driven automation compare to previous waves?\\n    *   What are the fundamental economic theories related to automation and employment?\\n        *   What is the \"lump of labor\" fallacy and why is it considered a fallacy?\\n        *   How do concepts like \"skill-biased technological change\" and \"routine-biased technological change\" apply?\\n\\n*   **In-Depth Analysis: Job Displacement and Creation**\\n    *   Which specific jobs and industries are most vulnerable to displacement by AI Agents?\\n        *   What are the characteristics of jobs that are easily automated by AI?\\n        *   How are wages and employment levels being affected in these vulnerable sectors?\\n    *   What new jobs and industries are emerging as a result of AI Agent development and deployment?\\n        *   What skills and training are required for these new roles?\\n        *   Are these new jobs being created at a rate sufficient to offset job displacement?\\n    *   How is the nature of work changing due to AI Agents?\\n        *   Is there a shift towards more \"cognitive\" or \"creative\" tasks and away from \"routine\" tasks?\\n        *   How are AI Agents augmenting human capabilities in the workplace?\\n    *   What are the potential impacts on different skill levels and educational backgrounds?\\n        *   Are low-skilled workers disproportionately affected by AI-driven automation?\\n        *   How can education and training programs adapt to prepare workers for the future of work?\\n\\n*   **Context and Connections: Broader Economic and Social Implications**\\n    *   How is the adoption of AI Agents affecting income inequality?\\n        *   Is automation contributing to a widening gap between high-skilled and low-skilled workers?\\n        *   What policy interventions can mitigate the negative impacts on income distribution?\\n    *   What are the potential impacts on productivity and economic growth?\\n        *   How can businesses and governments maximize the benefits of AI-driven productivity gains?\\n        *   Are there risks of \"technological unemployment\" where productivity gains don\\'t translate into widespread prosperity?\\n    *   How are different countries and regions being affected differently by AI adoption?\\n        *   What are the factors that contribute to these differences (e.g., education systems, labor laws, industrial structure)?\\n        *   What policies are being implemented in different countries to address the challenges and opportunities of AI in the labor market?\\n    *   What are the ethical considerations surrounding the use of AI Agents in the workplace?\\n        *   How can we ensure fairness, transparency, and accountability in AI-driven decision-making?\\n        *   What are the potential biases embedded in AI algorithms and how can they be addressed?\\n\\n*   **Practical Implications: Strategies for Adaptation and Mitigation**\\n    *   What strategies can businesses adopt to successfully integrate AI Agents into their workforce?\\n        *   How can they reskill and upskill their existing employees?\\n        *   What organizational changes are needed to leverage the full potential of AI?\\n    *   What role should governments play in preparing the workforce for the age of AI?\\n        *   What investments are needed in education, training, and infrastructure?\\n        *   Should governments consider policies like universal basic income or other forms of social safety net?\\n    *   How can workers protect themselves from job displacement and enhance their career prospects in the age of AI?\\n        *   What skills and knowledge are most valuable in the AI-driven economy?\\n        *   How can workers adapt to continuous learning and reskilling throughout their careers?\\n\\n*   **Future Outlook: Emerging Trends and Unanswered Questions**\\n    *   What are the emerging trends in AI Agent technology and how might they impact the labor market in the future?\\n        *   What are the potential breakthroughs in AI that could significantly accelerate automation?\\n        *   How might the increasing sophistication of AI Agents affect jobs that are currently considered safe from automation?\\n    *   What are the key unanswered questions and areas for future research?\\n        *   How can we better predict the long-term impacts of AI on employment and wages?\\n        *   What are the best strategies for fostering innovation and ensuring that the benefits of AI are widely shared?\\n    *   What are the potential long-term societal implications of widespread AI adoption in the labor market?\\n        *   How might it affect social cohesion, political stability, and the overall quality of life?\\n        *   What are the possible scenarios for the future of work and how can we prepare for them?\\n'}], 'role': 'model'}, 'usage_metadata': {'candidates_token_count': 1087, 'candidates_tokens_details': [{'modality': <MediaModality.TEXT: 'TEXT'>, 'token_count': 1087}], 'prompt_token_count': 670, 'prompt_tokens_details': [{'modality': <MediaModality.TEXT: 'TEXT'>, 'token_count': 670}], 'total_token_count': 1757, 'traffic_type': <TrafficType.ON_DEMAND: 'ON_DEMAND'>}, 'invocation_id': 'e-9fa3f929-b885-472a-9234-a3409cca5f2b', 'author': 'plan_agent', 'actions': {'state_delta': {}, 'artifact_delta': {}, 'requested_auth_configs': {}}, 'id': 'LJWFi2P9', 'timestamp': 1748877272.762811}\n"
          ]
        }
      ]
    },
    {
      "cell_type": "code",
      "source": [
        "# prompt: display response_text as markdown\n",
        "\n",
        "from IPython.display import display, Markdown\n",
        "\n",
        "display(Markdown(response_text))"
      ],
      "metadata": {
        "id": "xm9ctt8GNQL5",
        "outputId": "6d486cbf-b2b7-4f44-8f59-74827dfbe629",
        "colab": {
          "base_uri": "https://localhost:8080/",
          "height": 1000
        }
      },
      "execution_count": 32,
      "outputs": [
        {
          "output_type": "display_data",
          "data": {
            "text/plain": [
              "<IPython.core.display.Markdown object>"
            ],
            "text/markdown": "Okay, I can create a research plan to deeply investigate the impact of AI Agents on the labor market. Here's a possible plan, structured as a series of questions to guide a comprehensive exploration:\n\n*   **Foundational Understanding**\n    *   What is the definition of an \"AI Agent\" in the context of the labor market?\n        *   What are some examples of AI Agents currently used in different industries?\n        *   How do AI Agents differ from other forms of automation?\n    *   What are the historical trends of automation and technological advancements impacting the labor market?\n        *   What lessons can be learned from previous industrial revolutions?\n        *   How does the current wave of AI-driven automation compare to previous waves?\n    *   What are the fundamental economic theories related to automation and employment?\n        *   What is the \"lump of labor\" fallacy and why is it considered a fallacy?\n        *   How do concepts like \"skill-biased technological change\" and \"routine-biased technological change\" apply?\n\n*   **In-Depth Analysis: Job Displacement and Creation**\n    *   Which specific jobs and industries are most vulnerable to displacement by AI Agents?\n        *   What are the characteristics of jobs that are easily automated by AI?\n        *   How are wages and employment levels being affected in these vulnerable sectors?\n    *   What new jobs and industries are emerging as a result of AI Agent development and deployment?\n        *   What skills and training are required for these new roles?\n        *   Are these new jobs being created at a rate sufficient to offset job displacement?\n    *   How is the nature of work changing due to AI Agents?\n        *   Is there a shift towards more \"cognitive\" or \"creative\" tasks and away from \"routine\" tasks?\n        *   How are AI Agents augmenting human capabilities in the workplace?\n    *   What are the potential impacts on different skill levels and educational backgrounds?\n        *   Are low-skilled workers disproportionately affected by AI-driven automation?\n        *   How can education and training programs adapt to prepare workers for the future of work?\n\n*   **Context and Connections: Broader Economic and Social Implications**\n    *   How is the adoption of AI Agents affecting income inequality?\n        *   Is automation contributing to a widening gap between high-skilled and low-skilled workers?\n        *   What policy interventions can mitigate the negative impacts on income distribution?\n    *   What are the potential impacts on productivity and economic growth?\n        *   How can businesses and governments maximize the benefits of AI-driven productivity gains?\n        *   Are there risks of \"technological unemployment\" where productivity gains don't translate into widespread prosperity?\n    *   How are different countries and regions being affected differently by AI adoption?\n        *   What are the factors that contribute to these differences (e.g., education systems, labor laws, industrial structure)?\n        *   What policies are being implemented in different countries to address the challenges and opportunities of AI in the labor market?\n    *   What are the ethical considerations surrounding the use of AI Agents in the workplace?\n        *   How can we ensure fairness, transparency, and accountability in AI-driven decision-making?\n        *   What are the potential biases embedded in AI algorithms and how can they be addressed?\n\n*   **Practical Implications: Strategies for Adaptation and Mitigation**\n    *   What strategies can businesses adopt to successfully integrate AI Agents into their workforce?\n        *   How can they reskill and upskill their existing employees?\n        *   What organizational changes are needed to leverage the full potential of AI?\n    *   What role should governments play in preparing the workforce for the age of AI?\n        *   What investments are needed in education, training, and infrastructure?\n        *   Should governments consider policies like universal basic income or other forms of social safety net?\n    *   How can workers protect themselves from job displacement and enhance their career prospects in the age of AI?\n        *   What skills and knowledge are most valuable in the AI-driven economy?\n        *   How can workers adapt to continuous learning and reskilling throughout their careers?\n\n*   **Future Outlook: Emerging Trends and Unanswered Questions**\n    *   What are the emerging trends in AI Agent technology and how might they impact the labor market in the future?\n        *   What are the potential breakthroughs in AI that could significantly accelerate automation?\n        *   How might the increasing sophistication of AI Agents affect jobs that are currently considered safe from automation?\n    *   What are the key unanswered questions and areas for future research?\n        *   How can we better predict the long-term impacts of AI on employment and wages?\n        *   What are the best strategies for fostering innovation and ensuring that the benefits of AI are widely shared?\n    *   What are the potential long-term societal implications of widespread AI adoption in the labor market?\n        *   How might it affect social cohesion, political stability, and the overall quality of life?\n        *   What are the possible scenarios for the future of work and how can we prepare for them?\n"
          },
          "metadata": {}
        }
      ]
    },
    {
      "cell_type": "code",
      "source": [],
      "metadata": {
        "id": "Q52YKm5xNe4o"
      },
      "execution_count": null,
      "outputs": []
    },
    {
      "cell_type": "markdown",
      "source": [
        "## Puting it all together"
      ],
      "metadata": {
        "id": "2EiljVZoNfTV"
      }
    },
    {
      "cell_type": "markdown",
      "source": [],
      "metadata": {
        "id": "oE2ozDmbGb5c"
      }
    },
    {
      "cell_type": "code",
      "source": [
        "# Instantiate again because each agent tree shall have unique objects.\n",
        "plan_agent = Agent(\n",
        "    model=MODEL,\n",
        "    name=\"plan_agent\",\n",
        "    description=\"Agent to generate a research plan based on the question or topic given by the user\",\n",
        "    instruction=DEEP_RESEARCH_PLAN_INSTRUCTION,\n",
        "    generate_content_config=types.GenerateContentConfig(\n",
        "        max_output_tokens=8000,\n",
        "    ),\n",
        ")\n",
        "\n",
        "simple_search_agent = Agent(\n",
        "    model=MODEL,\n",
        "    name=\"simple_search_agent\",\n",
        "    description=\"Agent to answer questions using Google Search.\",\n",
        "    instruction=\"I can answer your questions by searching the internet. Just ask me anything!\",\n",
        "    generate_content_config=types.GenerateContentConfig(\n",
        "        max_output_tokens=8000,\n",
        "    ),\n",
        "    tools=[google_search],\n",
        ")\n",
        "\n",
        "multiple_search_agent = Agent(\n",
        "    model=MODEL,\n",
        "    name=\"research_agent\",\n",
        "    description=\"Get answers to multiple questions one by one.\",\n",
        "    instruction=\"Observe the pending questions in the chat log and call the simple_search_agent to conduct search and give answers to each question. Present the search result in a markdown, one section per question and answer\",\n",
        "    generate_content_config=types.GenerateContentConfig(\n",
        "        max_output_tokens=8000,\n",
        "    ),\n",
        "    tools=[AgentTool(simple_search_agent)],\n",
        ")\n",
        "\n",
        "report_agent = Agent(\n",
        "    model=MODEL,\n",
        "    name=\"report_agent\",\n",
        "    description=\"Agent to generate a markdown research report from the questions and their search results from the Internet\",\n",
        "    instruction=\"Summarize the research results and present research report in markdown format\",\n",
        "    generate_content_config=types.GenerateContentConfig(\n",
        "        max_output_tokens=8000,\n",
        "    ),\n",
        ")\n",
        "\n",
        "from google.adk.agents.sequential_agent import SequentialAgent\n",
        "\n",
        "root_agent = SequentialAgent(\n",
        "    name=\"deep_researcher\",\n",
        "    description=\"This is a deep research that makes research plan, use Google search to gather information and generate a report.\",\n",
        "    sub_agents=[plan_agent, multiple_search_agent, report_agent],\n",
        ")\n",
        "\n",
        "app = reasoning_engines.AdkApp(\n",
        "    agent=root_agent,\n",
        "    enable_tracing=True,\n",
        ")"
      ],
      "metadata": {
        "id": "plbGlrGZNjo3"
      },
      "execution_count": 37,
      "outputs": []
    },
    {
      "cell_type": "code",
      "source": [
        "session = await app.create_session(user_id=USER_ID)\n",
        "\n",
        "response_text = call_remote_agent_engine_app(app, USER_ID, session.id, \"\"\"AI Agent's impact on labour market\"\"\")"
      ],
      "metadata": {
        "id": "hdLGJEvfOnu1",
        "outputId": "6c579531-edce-4259-ac9e-d7c06c7d063c",
        "colab": {
          "base_uri": "https://localhost:8080/"
        }
      },
      "execution_count": 39,
      "outputs": [
        {
          "output_type": "stream",
          "name": "stderr",
          "text": [
            "WARNING:opentelemetry.sdk.trace.export:Already shutdown, dropping span.\n",
            "WARNING:opentelemetry.sdk.trace.export:Already shutdown, dropping span.\n"
          ]
        },
        {
          "output_type": "stream",
          "name": "stdout",
          "text": [
            "{'content': {'parts': [{'text': \"Okay, I can help you create a research plan to deeply explore the impact of AI Agents on the labor market. Here's a structured plan with questions to guide your research:\\n\\n*   **Foundational Understanding**\\n    *   What is the definition of an AI Agent in the context of the labor market?\\n    *   What are the different types of AI Agents currently being used or developed (e.g., chatbots, robotic process automation, virtual assistants)?\\n    *   What are the historical trends of automation and technological advancements and their impact on employment?\\n    *   What are the key economic theories related to technological unemployment and job creation?\\n\\n*   **In-Depth Analysis**\\n    *   How are AI Agents currently being used in different industries and sectors?\\n    *   What specific tasks and roles are most susceptible to automation by AI Agents?\\n    *   What are the arguments for and against the displacement of human workers by AI Agents?\\n    *   What is the impact of AI Agents on the quality of jobs (e.g., wages, benefits, working conditions, skill requirements)?\\n    *   How is the introduction of AI Agents affecting the demand for different skill sets?\\n    *   What new job roles and opportunities are emerging as a result of AI Agent development and implementation?\\n    *   How are AI Agents changing the nature of work (e.g., remote work, gig economy, collaboration between humans and AI)?\\n    *   What are the psychological and social impacts on workers who are displaced or whose jobs are significantly altered by AI Agents?\\n\\n*   **Context and Connections**\\n    *   How does the impact of AI Agents on the labor market differ across countries and regions, considering factors like economic development, education levels, and regulatory environments?\\n    *   What are the ethical considerations surrounding the use of AI Agents in the workplace (e.g., bias, fairness, transparency, accountability)?\\n    *   How are labor unions and worker advocacy groups responding to the increasing presence of AI Agents in the workplace?\\n    *   What are the legal and regulatory frameworks governing the use of AI Agents in employment, and how might these need to evolve?\\n    *   How do AI Agents affect income inequality and wealth distribution?\\n    *   How does the development and deployment of AI Agents relate to broader trends in globalization and technological change?\\n\\n*   **Practical Implications**\\n    *   What strategies can businesses and organizations adopt to manage the transition to an AI-driven workforce effectively?\\n    *   What policies can governments implement to mitigate the negative impacts of AI Agents on employment and promote a more equitable distribution of benefits?\\n    *   What role should education and training programs play in preparing workers for the changing demands of the labor market?\\n    *   How can individuals adapt and develop the skills needed to remain competitive in an AI-driven economy?\\n    *   What are some examples of successful (or unsuccessful) implementations of AI Agents in the workplace, and what lessons can be learned from these cases?\\n    *   How can we measure and evaluate the overall impact of AI Agents on productivity, economic growth, and social well-being?\\n\\n*   **Future Outlook**\\n    *   What are the emerging trends and future directions in AI Agent technology that are likely to further impact the labor market?\\n    *   What are the potential long-term consequences of widespread AI Agent adoption on the nature of work, the structure of the economy, and social inequality?\\n    *   What are the potential risks and challenges associated with the increasing reliance on AI Agents in the workplace, and how can these be addressed?\\n    *   What are the potential opportunities for creating a more inclusive and prosperous future through the responsible and ethical development and deployment of AI Agents?\\n    *   How can we ensure that the benefits of AI Agents are shared broadly and that the transition to an AI-driven economy is managed in a way that benefits all members of society?\\n\\nThis research plan should provide a comprehensive framework for exploring the multifaceted impact of AI Agents on the labor market. Remember to critically evaluate your sources and consider multiple perspectives to form your own informed opinion.\\n\"}], 'role': 'model'}, 'usage_metadata': {'candidates_token_count': 858, 'candidates_tokens_details': [{'modality': <MediaModality.TEXT: 'TEXT'>, 'token_count': 858}], 'prompt_token_count': 670, 'prompt_tokens_details': [{'modality': <MediaModality.TEXT: 'TEXT'>, 'token_count': 670}], 'total_token_count': 1528, 'traffic_type': <TrafficType.ON_DEMAND: 'ON_DEMAND'>}, 'invocation_id': 'e-fdb59cf2-4f91-4c88-8c07-dbdb25cd514c', 'author': 'plan_agent', 'actions': {'state_delta': {}, 'artifact_delta': {}, 'requested_auth_configs': {}}, 'id': 'vffjic5L', 'timestamp': 1748877635.559637}\n"
          ]
        },
        {
          "output_type": "stream",
          "name": "stderr",
          "text": [
            "WARNING:google_genai.types:Warning: there are non-text parts in the response: ['function_call'], returning concatenated text result from text parts. Check the full candidates.content.parts accessor to get the full model response.\n"
          ]
        },
        {
          "output_type": "stream",
          "name": "stdout",
          "text": [
            "{'content': {'parts': [{'text': 'Okay, I will use the search tool to answer the questions in your research plan regarding the impact of AI Agents on the labor market. Here are the search results, organized by question:\\n\\n**Foundational Understanding**\\n\\n*   **What is the definition of an AI Agent in the context of the labor market?**\\n'}, {'function_call': {'id': 'adk-7c0110ae-6cd7-4cbd-9a34-634352666ca1', 'args': {'request': 'definition of AI Agent in labor market context'}, 'name': 'simple_search_agent'}}], 'role': 'model'}, 'usage_metadata': {'candidates_token_count': 79, 'candidates_tokens_details': [{'modality': <MediaModality.TEXT: 'TEXT'>, 'token_count': 79}], 'prompt_token_count': 964, 'prompt_tokens_details': [{'modality': <MediaModality.TEXT: 'TEXT'>, 'token_count': 964}], 'total_token_count': 1043, 'traffic_type': <TrafficType.ON_DEMAND: 'ON_DEMAND'>}, 'invocation_id': 'e-fdb59cf2-4f91-4c88-8c07-dbdb25cd514c', 'author': 'research_agent', 'actions': {'state_delta': {}, 'artifact_delta': {}, 'requested_auth_configs': {}}, 'long_running_tool_ids': set(), 'id': 'LXqr3DDv', 'timestamp': 1748877642.243922}\n"
          ]
        },
        {
          "output_type": "stream",
          "name": "stderr",
          "text": [
            "WARNING:opentelemetry.sdk.trace.export:Already shutdown, dropping span.\n",
            "WARNING:opentelemetry.sdk.trace.export:Already shutdown, dropping span.\n",
            "WARNING:opentelemetry.sdk.trace.export:Already shutdown, dropping span.\n",
            "WARNING:opentelemetry.sdk.trace.export:Already shutdown, dropping span.\n",
            "WARNING:opentelemetry.sdk.trace.export:Already shutdown, dropping span.\n",
            "WARNING:opentelemetry.sdk.trace.export:Already shutdown, dropping span.\n"
          ]
        },
        {
          "output_type": "stream",
          "name": "stdout",
          "text": [
            "{'content': {'parts': [{'function_response': {'id': 'adk-7c0110ae-6cd7-4cbd-9a34-634352666ca1', 'name': 'simple_search_agent', 'response': {'result': 'In the context of the labor market, an AI agent can be defined as a sophisticated software program that:\\n\\n*   **Autonomously performs tasks:** It can work independently with minimal human oversight.\\n*   **Perceives its environment:** It gathers information from various sources.\\n*   **Makes decisions:** It analyzes data and chooses actions to achieve specific goals.\\n*   **Takes action:** It executes tasks and adapts in real-time.\\n*   **Learns and improves:** It uses machine learning to optimize its performance over time.\\n\\nAI agents in the labor market are revolutionizing various industries by:\\n\\n*   **Automating repetitive tasks:** This allows human employees to focus on more creative, strategic, and innovative work.\\n*   **Boosting productivity:** AI agents can process data and complete tasks faster and more accurately than humans.\\n*   **Creating new job roles:** While some jobs may be displaced, new roles are emerging in areas such as AI training, data analysis, and AI ethics.\\n*   **Improving decision-making:** AI agents can provide actionable insights and support decision-making.\\n*   **Reshaping the workplace:** AI has the potential to improve job quality by reducing mundane tasks and improving workplace health and safety.\\n*   **Negotiating contracts, refining skills, managing reputations, and even strategically hiring or collaborating with other agents and humans:** This highlights the potential for AI agents to operate with increasing autonomy and flexibility in future labor markets.\\n\\n'}}}], 'role': 'user'}, 'invocation_id': 'e-fdb59cf2-4f91-4c88-8c07-dbdb25cd514c', 'author': 'research_agent', 'actions': {'state_delta': {}, 'artifact_delta': {}, 'requested_auth_configs': {}}, 'id': 'M9A3k0MX', 'timestamp': 1748877657.167559}\n"
          ]
        },
        {
          "output_type": "stream",
          "name": "stderr",
          "text": [
            "WARNING:google_genai.types:Warning: there are non-text parts in the response: ['function_call'], returning concatenated text result from text parts. Check the full candidates.content.parts accessor to get the full model response.\n"
          ]
        },
        {
          "output_type": "stream",
          "name": "stdout",
          "text": [
            "{'content': {'parts': [{'text': 'An AI agent in the labor market is a software program that autonomously performs tasks, perceives its environment, makes decisions, takes action, and learns/improves over time. They automate tasks, boost productivity, create new job roles, improve decision-making, and reshape the workplace.\\n\\n*   **What are the different types of AI Agents currently being used or developed (e.g., chatbots, robotic process automation, virtual assistants)?**\\n'}, {'function_call': {'id': 'adk-376d4aa5-eae5-4f75-8d9c-c6be200be9e0', 'args': {'request': 'types of AI Agents in use in labor market'}, 'name': 'simple_search_agent'}}], 'role': 'model'}, 'usage_metadata': {'candidates_token_count': 106, 'candidates_tokens_details': [{'modality': <MediaModality.TEXT: 'TEXT'>, 'token_count': 106}], 'prompt_token_count': 1352, 'prompt_tokens_details': [{'modality': <MediaModality.TEXT: 'TEXT'>, 'token_count': 1352}], 'total_token_count': 1458, 'traffic_type': <TrafficType.ON_DEMAND: 'ON_DEMAND'>}, 'invocation_id': 'e-fdb59cf2-4f91-4c88-8c07-dbdb25cd514c', 'author': 'research_agent', 'actions': {'state_delta': {}, 'artifact_delta': {}, 'requested_auth_configs': {}}, 'long_running_tool_ids': set(), 'id': 's7CNh4hw', 'timestamp': 1748877657.171533}\n"
          ]
        },
        {
          "output_type": "stream",
          "name": "stderr",
          "text": [
            "WARNING:opentelemetry.sdk.trace.export:Already shutdown, dropping span.\n",
            "WARNING:opentelemetry.sdk.trace.export:Already shutdown, dropping span.\n",
            "WARNING:opentelemetry.sdk.trace.export:Already shutdown, dropping span.\n",
            "WARNING:opentelemetry.sdk.trace.export:Already shutdown, dropping span.\n",
            "WARNING:opentelemetry.sdk.trace.export:Already shutdown, dropping span.\n",
            "WARNING:opentelemetry.sdk.trace.export:Already shutdown, dropping span.\n"
          ]
        },
        {
          "output_type": "stream",
          "name": "stdout",
          "text": [
            "{'content': {'parts': [{'function_response': {'id': 'adk-376d4aa5-eae5-4f75-8d9c-c6be200be9e0', 'name': 'simple_search_agent', 'response': {'result': 'AI agents are rapidly changing the labor market, automating tasks and creating new opportunities. Here\\'s a breakdown of the types of AI agents and their impact:\\n\\n**1. Types of AI Agents:**\\n\\n*   **Simple Reflex Agents:** These are the most basic, reacting to environmental conditions based on pre-defined rules. They don\\'t consider past experiences. A thermostat is an example (adjusting temperature based on readings).\\n*   **Model-Based Reflex Agents:** These agents use an internal model of the environment, tracking changes to make better decisions.\\n*   **Goal-Based Agents:** They make decisions based on achieving specific goals, considering multiple options.\\n*   **Utility-Based Agents:** These agents consider both goals and the \"utility\" or desirability of different outcomes.\\n*   **Learning Agents:** These agents can adapt and improve their performance over time by learning from past experiences.\\n*   **Hierarchical Agents:** Complex problems are broken down into smaller tasks, with higher-level agents overseeing lower-level agents.\\n*   **Multi-Agent Systems:** Multiple AI agents collaborate or compete to achieve a common objective or individual goals.\\n\\n**2. How They\\'re Used:**\\n\\n*   **Automating Routine Tasks:** AI agents handle repetitive tasks with speed and accuracy. Examples include data entry, scheduling, and processing invoices.\\n*   **Customer Service:** AI-powered chatbots and virtual assistants provide personalized interactions and 24/7 availability, answering routine inquiries.\\n*   **Data Analysis:** AI agents analyze and synthesize information to identify patterns and insights for strategic decisions.\\n*   **Administrative Tasks**: They can automatically extract data from forms and pre-fill systems.\\n\\n**3. Impact on the Labor Market:**\\n\\n*   **Job Evolution:** AI agents may take over some tasks, freeing up skilled workers to focus on decision-making, creativity, and strategy.\\n*   **New Roles:** AI is creating new jobs such as AI trainers, data analysts, and AI ethics consultants.\\n*   **Collaboration:** AI agents are increasingly serving as collaborative tools to enhance productivity. They can assist with creative tasks, provide predictive analytics, and generate content.\\n*   **Increased Productivity:** AI agents speed up labor-intensive processes, making workers more productive.\\n*   **Need for Upskilling:** Employees need to adapt and develop AI literacy to remain competitive.\\n\\n**4. Examples of AI Agent Applications:**\\n\\n*   **Marketing:** Creating blog posts and optimizing marketing campaigns.\\n*   **Finance:** Matching invoices to ledger entries and detecting fraud.\\n*   **HR:** Verifying payroll data and supporting recruitment.\\n*   **Healthcare:** Extracting data from patient forms.\\n\\n**5. Important Considerations:**\\n\\n*   **Ethical Implications:** It\\'s crucial to address ethical concerns related to AI, including potential bias and job displacement.\\n*   **Trust:** Organizations need to instill trust in AI-augmented decision-making.\\n*   **Training:** Employees need training in responsible AI use.\\n'}}}], 'role': 'user'}, 'invocation_id': 'e-fdb59cf2-4f91-4c88-8c07-dbdb25cd514c', 'author': 'research_agent', 'actions': {'state_delta': {}, 'artifact_delta': {}, 'requested_auth_configs': {}}, 'id': 'iOLUhXIB', 'timestamp': 1748877664.575288}\n"
          ]
        },
        {
          "output_type": "stream",
          "name": "stderr",
          "text": [
            "WARNING:google_genai.types:Warning: there are non-text parts in the response: ['function_call'], returning concatenated text result from text parts. Check the full candidates.content.parts accessor to get the full model response.\n"
          ]
        },
        {
          "output_type": "stream",
          "name": "stdout",
          "text": [
            "{'content': {'parts': [{'text': 'Different types of AI Agents include: Simple Reflex Agents, Model-Based Reflex Agents, Goal-Based Agents, Utility-Based Agents, Learning Agents, Hierarchical Agents, and Multi-Agent Systems. They are used for automating routine tasks, customer service (chatbots), data analysis, and administrative tasks.\\n\\n*   **What are the historical trends of automation and technological advancements and their impact on employment?**\\n'}, {'function_call': {'id': 'adk-47d943b9-6826-4644-90e8-f3708d38bf27', 'args': {'request': 'historical trends of automation and technological advancements impact on employment'}, 'name': 'simple_search_agent'}}], 'role': 'model'}, 'usage_metadata': {'candidates_token_count': 98, 'candidates_tokens_details': [{'modality': <MediaModality.TEXT: 'TEXT'>, 'token_count': 98}], 'prompt_token_count': 2085, 'prompt_tokens_details': [{'modality': <MediaModality.TEXT: 'TEXT'>, 'token_count': 2085}], 'total_token_count': 2183, 'traffic_type': <TrafficType.ON_DEMAND: 'ON_DEMAND'>}, 'invocation_id': 'e-fdb59cf2-4f91-4c88-8c07-dbdb25cd514c', 'author': 'research_agent', 'actions': {'state_delta': {}, 'artifact_delta': {}, 'requested_auth_configs': {}}, 'long_running_tool_ids': set(), 'id': 'GuPgYgdT', 'timestamp': 1748877664.578967}\n"
          ]
        },
        {
          "output_type": "stream",
          "name": "stderr",
          "text": [
            "WARNING:opentelemetry.sdk.trace.export:Already shutdown, dropping span.\n",
            "WARNING:opentelemetry.sdk.trace.export:Already shutdown, dropping span.\n",
            "WARNING:opentelemetry.sdk.trace.export:Already shutdown, dropping span.\n",
            "WARNING:opentelemetry.sdk.trace.export:Already shutdown, dropping span.\n",
            "WARNING:opentelemetry.sdk.trace.export:Already shutdown, dropping span.\n",
            "WARNING:opentelemetry.sdk.trace.export:Already shutdown, dropping span.\n"
          ]
        },
        {
          "output_type": "stream",
          "name": "stdout",
          "text": [
            "{'content': {'parts': [{'function_response': {'id': 'adk-47d943b9-6826-4644-90e8-f3708d38bf27', 'name': 'simple_search_agent', 'response': {'result': 'The historical trends of automation and technological advancements have had a multifaceted impact on employment, characterized by both job displacement and job creation. Here\\'s a breakdown of these trends:\\n\\n**1. Job Displacement:**\\n\\n*   **Automation replaces routine tasks:** Automation has historically led to the displacement of workers in routine-based jobs, whether physical or cognitive. Examples include the decline of complex craftsman occupations in manufacturing and routine clerical jobs in office work due to electrification and mechanical switching technologies.\\n*   **Digital automation and inequality:** Digital automation since the 1980s has contributed to labor market inequality, with production and clerical workers experiencing job losses or wage decline.\\n*   **The \"new automation\" and future displacement:** The \"new automation\" driven by advanced robotics and AI has the potential to displace a wider range of workers, including college graduates and professionals in fields like vehicle driving, retail, healthcare, law, and finance.\\n*   **Manufacturing job losses:** The introduction of computers in manufacturing reduced labor costs, increased production, and allowed for management to control the pace of production, which also led to job losses.\\n\\n**2. Job Creation and Shifting Job Roles:**\\n\\n*   **Technology creates new jobs:** Technical innovations also lead to the creation of new jobs such as shipping and receiving clerks, buyers and department heads, and civil and aeronautical engineers.\\n*   **Shift from manual to intellectual labor**: While automation has erased some jobs, it has also brought a shift in the kinds of work available, for example, a trend away from manual to intellectual labor.\\n*   **Increased productivity and new demand:** Automation can lead to increased productivity and lower costs, which in turn stimulates consumer spending and creates new jobs.\\n*   **Demand for skilled workers:** Automation creates demand for workers who can complement machines, perform tasks beyond their capabilities, and maintain or use them in new ways, such as machinists, advanced welders, and technicians.\\n*   **Growth in specific sectors:** In the UK, employment in manufacturing has fallen significantly over the last 50 years, while the services sector has grown substantially.\\n\\n**3. Wage and Compensation Shifts:**\\n\\n*   **Wage stagnation and decline:** Workers displaced by automation or competing with machines may experience wage stagnation or decline.\\n*   **Increased labor market inequality:** Digital automation has contributed to increased labor market inequality, as highly educated analytical workers often enjoy rising compensation while others are left worse off.\\n*   **Shift from labor to capital:** Automation generally shifts compensation from workers to business owners, who benefit from higher profits with less need for labor.\\n\\n**4. The Role of Education and Training:**\\n\\n*   **Adaptation through education:** Workers who acquire more education and training can adapt to technological changes, learn new tasks, and become more complementary with machines.\\n\\n**5. Broader Economic and Social Impacts:**\\n\\n*   **Impact on job quality and worker power**: Automation can affect job quality and workers\\' bargaining power.\\n*   **Changes in labor market dynamics**: Employers\\' decisions about technology integration can have broader effects on labor market dynamics, labor market flows, and the organization of work.\\n*   **Need for policy adjustments:** Governments need to respond to the impact of technological change by supporting retraining programs and other measures to help workers adapt.\\n\\nIt\\'s important to note that the impact of automation is not always immediate or uniform. Employment effects can vary across industries, regions, and demographic groups, and they can change over time.\\n'}}}], 'role': 'user'}, 'invocation_id': 'e-fdb59cf2-4f91-4c88-8c07-dbdb25cd514c', 'author': 'research_agent', 'actions': {'state_delta': {}, 'artifact_delta': {}, 'requested_auth_configs': {}}, 'id': 'C66ixrSX', 'timestamp': 1748877673.031383}\n"
          ]
        },
        {
          "output_type": "stream",
          "name": "stderr",
          "text": [
            "WARNING:google_genai.types:Warning: there are non-text parts in the response: ['function_call'], returning concatenated text result from text parts. Check the full candidates.content.parts accessor to get the full model response.\n"
          ]
        },
        {
          "output_type": "stream",
          "name": "stdout",
          "text": [
            "{'content': {'parts': [{'text': 'Historically, automation has led to both job displacement (especially in routine tasks) and job creation (new jobs requiring specialized skills). It has also contributed to wage stagnation/decline for some workers and increased labor market inequality.\\n\\n*   **What are the key economic theories related to technological unemployment and job creation?**\\n'}, {'function_call': {'id': 'adk-445f1f9a-8a7f-452e-90ce-ff4f470fe770', 'args': {'request': 'economic theories related to technological unemployment and job creation'}, 'name': 'simple_search_agent'}}], 'role': 'model'}, 'usage_metadata': {'candidates_token_count': 78, 'candidates_tokens_details': [{'modality': <MediaModality.TEXT: 'TEXT'>, 'token_count': 78}], 'prompt_token_count': 2902, 'prompt_tokens_details': [{'modality': <MediaModality.TEXT: 'TEXT'>, 'token_count': 2902}], 'total_token_count': 2980, 'traffic_type': <TrafficType.ON_DEMAND: 'ON_DEMAND'>}, 'invocation_id': 'e-fdb59cf2-4f91-4c88-8c07-dbdb25cd514c', 'author': 'research_agent', 'actions': {'state_delta': {}, 'artifact_delta': {}, 'requested_auth_configs': {}}, 'long_running_tool_ids': set(), 'id': 'A0OQeetX', 'timestamp': 1748877673.038043}\n"
          ]
        },
        {
          "output_type": "stream",
          "name": "stderr",
          "text": [
            "WARNING:opentelemetry.sdk.trace.export:Already shutdown, dropping span.\n",
            "WARNING:opentelemetry.sdk.trace.export:Already shutdown, dropping span.\n",
            "WARNING:opentelemetry.sdk.trace.export:Already shutdown, dropping span.\n",
            "WARNING:opentelemetry.sdk.trace.export:Already shutdown, dropping span.\n",
            "WARNING:opentelemetry.sdk.trace.export:Already shutdown, dropping span.\n",
            "WARNING:opentelemetry.sdk.trace.export:Already shutdown, dropping span.\n"
          ]
        },
        {
          "output_type": "stream",
          "name": "stdout",
          "text": [
            "{'content': {'parts': [{'function_response': {'id': 'adk-445f1f9a-8a7f-452e-90ce-ff4f470fe770', 'name': 'simple_search_agent', 'response': {'result': 'Several economic theories attempt to explain the complex relationship between technological advancements, unemployment, and job creation. Here\\'s an overview of some key perspectives:\\n\\n**1. Technological Unemployment Theory:**\\n\\n*   **Definition:** This theory posits that technological progress, automation, and mechanization lead to job losses because machines can perform tasks previously done by humans.\\n*   **Structural Unemployment:** Technological unemployment is considered a type of structural unemployment, resulting from the restructuring of industries and reduced demand for labor in certain sectors.\\n*   **Temporary vs. Permanent:** The unemployment can be temporary if workers can retrain and find new jobs. However, it can become permanent if skills become obsolete.\\n\\n**2. Compensation Theory:**\\n\\n*   **Main Idea:** This theory argues that the economy can compensate for the job displacement caused by technology through various mechanisms.\\n*   **Mechanisms of Compensation:**\\n    *   **New jobs in capital goods sector:** Technology creates new jobs related to the production, maintenance, and operation of new machines and technologies.\\n    *   **Decreasing Prices:** Lower production costs due to technology lead to lower prices, increasing consumer demand and potentially creating more jobs.\\n    *   **Increased Productivity:** Technology enhances productivity, leading to higher revenues and wages.\\n    *   **New Industries and Markets:** Technological advancements can lead to the emergence of entirely new industries and markets, generating new employment opportunities.\\n\\n**3. Skills-Biased Technological Change (SBTC):**\\n\\n*   **Core Concept:** Technological change increases the demand for highly skilled and educated workers while reducing the demand for low-skilled workers.\\n*   **Impact on Wage Inequality:** SBTC can lead to a wider gap in wages and employment opportunities between high-skilled and low-skilled workers.\\n\\n**4. Search-Matching Theory:**\\n\\n*   **Premise:** This theory explains unemployment as a result of frictions in the labor market, where it takes time for workers and firms to find each other.\\n*   **Job Creation Factors:** Job creation depends on the availability of workers (unemployment) and the number of job openings.\\n\\n**5. Demand-Oriented Theories:**\\n\\n*   **Keynesian Economics:** This perspective emphasizes the role of aggregate demand in determining employment levels. It suggests that government intervention, such as increased spending and lower taxes, can stimulate demand and create jobs.\\n*   **Wage and Aggregate Demand:** These models point to wages and aggregate demand as key factors in job creation.\\n\\n**6. Automation and Job Displacement:**\\n\\n*   **Automation:**  Driven by advancements in robotics and AI, automation enables routine and repetitive tasks to be completed by technology, increasing efficiency and productivity.\\n*   **Job Displacement:** Automation can lead to short-term job losses due to reduced demand for manual labor.\\n*   **Reskilling and Upskilling:** Automation also creates opportunities for workers to take on higher-value tasks that require uniquely human skills.\\n\\n**7. The Role of Artificial Intelligence (AI):**\\n\\n*   **Impact on Labor Market:** AI can affect employment types of contracts and working conditions like work time, place, and organization.\\n*   **Productivity and Wages:** The introduction of AI is associated with increased productivity and wage increases.\\n*   **Job Creation and Destruction:** Technology has the capacity to both create and destroy jobs, sometimes rapidly.\\n\\n**Additional Considerations:**\\n\\n*   **Net Job Creation:** Research suggests that since 1980, technology has replaced more jobs than it has created in the U.S.\\n*   **Digital Divide:** Unequal access to digital technologies can worsen existing social and economic disparities and restrict opportunities.\\n*   **R&D Expenditure:** High levels of Research and Development expenditure are associated with employment growth and skills enhancement.\\n*   **The Luddite Fallacy:** This is the argument that technological unemployment is a fallacy because technology will ultimately create more jobs than it destroys.\\n*   **The \"Reserve Army of Labor\":**  Marx\\'s concept which describes a pool of unemployed workers that capitalists can draw upon to keep wages low.\\n'}}}], 'role': 'user'}, 'invocation_id': 'e-fdb59cf2-4f91-4c88-8c07-dbdb25cd514c', 'author': 'research_agent', 'actions': {'state_delta': {}, 'artifact_delta': {}, 'requested_auth_configs': {}}, 'id': 'kicIAHHL', 'timestamp': 1748877682.062597}\n"
          ]
        },
        {
          "output_type": "stream",
          "name": "stderr",
          "text": [
            "WARNING:opentelemetry.sdk.trace.export:Already shutdown, dropping span.\n",
            "WARNING:opentelemetry.sdk.trace.export:Already shutdown, dropping span.\n"
          ]
        },
        {
          "output_type": "stream",
          "name": "stdout",
          "text": [
            "{'content': {'parts': [{'text': 'Key economic theories include: Technological Unemployment Theory, Compensation Theory, Skills-Biased Technological Change (SBTC), Search-Matching Theory, and Demand-Oriented Theories (Keynesian). These theories offer different perspectives on how technology impacts job displacement and creation, wage inequality, and overall employment levels.\\n'}], 'role': 'model'}, 'usage_metadata': {'candidates_token_count': 60, 'candidates_tokens_details': [{'modality': <MediaModality.TEXT: 'TEXT'>, 'token_count': 60}], 'prompt_token_count': 3825, 'prompt_tokens_details': [{'modality': <MediaModality.TEXT: 'TEXT'>, 'token_count': 3825}], 'total_token_count': 3885, 'traffic_type': <TrafficType.ON_DEMAND: 'ON_DEMAND'>}, 'invocation_id': 'e-fdb59cf2-4f91-4c88-8c07-dbdb25cd514c', 'author': 'research_agent', 'actions': {'state_delta': {}, 'artifact_delta': {}, 'requested_auth_configs': {}}, 'id': 'Jdmx3O4i', 'timestamp': 1748877682.067006}\n"
          ]
        },
        {
          "output_type": "stream",
          "name": "stderr",
          "text": [
            "WARNING:opentelemetry.sdk.trace.export:Already shutdown, dropping span.\n",
            "WARNING:opentelemetry.sdk.trace.export:Already shutdown, dropping span.\n",
            "WARNING:opentelemetry.sdk.trace.export:Already shutdown, dropping span.\n",
            "WARNING:opentelemetry.sdk.trace.export:Already shutdown, dropping span.\n"
          ]
        },
        {
          "output_type": "stream",
          "name": "stdout",
          "text": [
            "{'content': {'parts': [{'text': '```markdown\\n## AI Agents\\' Impact on the Labor Market: A Research Report\\n\\nThis report summarizes research findings on the multifaceted impacts of AI Agents on the labor market, addressing key questions across foundational understanding, in-depth analysis, context/connections, practical implications, and future outlook.\\n\\n### I. Foundational Understanding\\n\\n*   **Definition of an AI Agent in the Labor Market:**\\n    *   An AI agent is a sophisticated software program that **autonomously performs tasks**, **perceives its environment**, **makes decisions**, **takes action**, and **learns and improves** over time. In the labor market, AI agents automate tasks, boost productivity, create new job roles, improve decision-making, and reshape the workplace.\\n\\n*   **Types of AI Agents:**\\n    *   Different types of AI Agents include:\\n        *   **Simple Reflex Agents:** React to environmental conditions based on pre-defined rules (e.g., thermostat).\\n        *   **Model-Based Reflex Agents:** Use an internal model of the environment to make decisions.\\n        *   **Goal-Based Agents:** Make decisions based on achieving specific goals.\\n        *   **Utility-Based Agents:** Consider both goals and the \"utility\" of different outcomes.\\n        *   **Learning Agents:** Adapt and improve performance over time.\\n        *   **Hierarchical Agents:** Break down complex problems into smaller tasks.\\n        *   **Multi-Agent Systems:** Collaborate or compete to achieve objectives.\\n    *   These agents are used for automating routine tasks, customer service (chatbots), data analysis, and administrative tasks.\\n\\n*   **Historical Trends of Automation and Technological Advancements:**\\n    *   Historically, automation has led to both **job displacement** (especially in routine tasks) and **job creation** (new jobs requiring specialized skills).  It has also contributed to **wage stagnation/decline** for some workers and **increased labor market inequality**.\\n\\n*   **Key Economic Theories:**\\n    *   Key economic theories related to technological unemployment and job creation include:\\n        *   **Technological Unemployment Theory:** Technology leads to job losses.\\n        *   **Compensation Theory:** The economy can compensate for job displacement through new jobs and increased demand.\\n        *   **Skills-Biased Technological Change (SBTC):** Technology increases demand for high-skilled workers and reduces demand for low-skilled workers.\\n        *   **Search-Matching Theory:** Unemployment results from frictions in the labor market.\\n        *   **Demand-Oriented Theories (Keynesian):** Government intervention can stimulate demand and create jobs.\\n    *   These theories offer different perspectives on how technology impacts job displacement and creation, wage inequality, and overall employment levels.\\n\\n### II. In-Depth Analysis (To be populated with further research)\\n\\n*   How are AI Agents currently being used in different industries and sectors?\\n*   What specific tasks and roles are most susceptible to automation by AI Agents?\\n*   What are the arguments for and against the displacement of human workers by AI Agents?\\n*   What is the impact of AI Agents on the quality of jobs?\\n*   How is the introduction of AI Agents affecting the demand for different skill sets?\\n*   What new job roles and opportunities are emerging?\\n*   How are AI Agents changing the nature of work?\\n*   What are the psychological and social impacts on workers?\\n\\n### III. Context and Connections (To be populated with further research)\\n\\n*   How does the impact of AI Agents differ across countries and regions?\\n*   What are the ethical considerations surrounding the use of AI Agents?\\n*   How are labor unions and worker advocacy groups responding?\\n*   What are the legal and regulatory frameworks governing the use of AI Agents?\\n*   How do AI Agents affect income inequality and wealth distribution?\\n*   How does the development of AI Agents relate to broader trends in globalization?\\n\\n### IV. Practical Implications (To be populated with further research)\\n\\n*   What strategies can businesses and organizations adopt?\\n*   What policies can governments implement?\\n*   What role should education and training programs play?\\n*   How can individuals adapt and develop the skills needed?\\n*   What are some examples of successful (or unsuccessful) implementations?\\n*   How can we measure and evaluate the overall impact of AI Agents?\\n\\n### V. Future Outlook (To be populated with further research)\\n\\n*   What are the emerging trends and future directions in AI Agent technology?\\n*   What are the potential long-term consequences of widespread AI Agent adoption?\\n*   What are the potential risks and challenges?\\n*   What are the potential opportunities for creating a more inclusive future?\\n*   How can we ensure that the benefits of AI Agents are shared broadly?\\n\\nThis report provides a starting point for understanding the complex impacts of AI Agents on the labor market. Further research is needed to address the remaining questions and develop a more comprehensive understanding.\\n```'}], 'role': 'model'}, 'usage_metadata': {'candidates_token_count': 1031, 'candidates_tokens_details': [{'modality': <MediaModality.TEXT: 'TEXT'>, 'token_count': 1031}], 'prompt_token_count': 4136, 'prompt_tokens_details': [{'modality': <MediaModality.TEXT: 'TEXT'>, 'token_count': 4136}], 'total_token_count': 5167, 'traffic_type': <TrafficType.ON_DEMAND: 'ON_DEMAND'>}, 'invocation_id': 'e-fdb59cf2-4f91-4c88-8c07-dbdb25cd514c', 'author': 'report_agent', 'actions': {'state_delta': {}, 'artifact_delta': {}, 'requested_auth_configs': {}}, 'id': '4C29qvsE', 'timestamp': 1748877683.260803}\n"
          ]
        }
      ]
    },
    {
      "cell_type": "code",
      "source": [
        "from IPython.display import display, Markdown\n",
        "\n",
        "display(Markdown(response_text))"
      ],
      "metadata": {
        "id": "LMghoNFNO9Gs",
        "outputId": "8f96bfbe-ccbc-4851-8bc9-d5a4110e426a",
        "colab": {
          "base_uri": "https://localhost:8080/",
          "height": 1000
        }
      },
      "execution_count": 40,
      "outputs": [
        {
          "output_type": "display_data",
          "data": {
            "text/plain": [
              "<IPython.core.display.Markdown object>"
            ],
            "text/markdown": "Okay, I can help you create a research plan to deeply explore the impact of AI Agents on the labor market. Here's a structured plan with questions to guide your research:\n\n*   **Foundational Understanding**\n    *   What is the definition of an AI Agent in the context of the labor market?\n    *   What are the different types of AI Agents currently being used or developed (e.g., chatbots, robotic process automation, virtual assistants)?\n    *   What are the historical trends of automation and technological advancements and their impact on employment?\n    *   What are the key economic theories related to technological unemployment and job creation?\n\n*   **In-Depth Analysis**\n    *   How are AI Agents currently being used in different industries and sectors?\n    *   What specific tasks and roles are most susceptible to automation by AI Agents?\n    *   What are the arguments for and against the displacement of human workers by AI Agents?\n    *   What is the impact of AI Agents on the quality of jobs (e.g., wages, benefits, working conditions, skill requirements)?\n    *   How is the introduction of AI Agents affecting the demand for different skill sets?\n    *   What new job roles and opportunities are emerging as a result of AI Agent development and implementation?\n    *   How are AI Agents changing the nature of work (e.g., remote work, gig economy, collaboration between humans and AI)?\n    *   What are the psychological and social impacts on workers who are displaced or whose jobs are significantly altered by AI Agents?\n\n*   **Context and Connections**\n    *   How does the impact of AI Agents on the labor market differ across countries and regions, considering factors like economic development, education levels, and regulatory environments?\n    *   What are the ethical considerations surrounding the use of AI Agents in the workplace (e.g., bias, fairness, transparency, accountability)?\n    *   How are labor unions and worker advocacy groups responding to the increasing presence of AI Agents in the workplace?\n    *   What are the legal and regulatory frameworks governing the use of AI Agents in employment, and how might these need to evolve?\n    *   How do AI Agents affect income inequality and wealth distribution?\n    *   How does the development and deployment of AI Agents relate to broader trends in globalization and technological change?\n\n*   **Practical Implications**\n    *   What strategies can businesses and organizations adopt to manage the transition to an AI-driven workforce effectively?\n    *   What policies can governments implement to mitigate the negative impacts of AI Agents on employment and promote a more equitable distribution of benefits?\n    *   What role should education and training programs play in preparing workers for the changing demands of the labor market?\n    *   How can individuals adapt and develop the skills needed to remain competitive in an AI-driven economy?\n    *   What are some examples of successful (or unsuccessful) implementations of AI Agents in the workplace, and what lessons can be learned from these cases?\n    *   How can we measure and evaluate the overall impact of AI Agents on productivity, economic growth, and social well-being?\n\n*   **Future Outlook**\n    *   What are the emerging trends and future directions in AI Agent technology that are likely to further impact the labor market?\n    *   What are the potential long-term consequences of widespread AI Agent adoption on the nature of work, the structure of the economy, and social inequality?\n    *   What are the potential risks and challenges associated with the increasing reliance on AI Agents in the workplace, and how can these be addressed?\n    *   What are the potential opportunities for creating a more inclusive and prosperous future through the responsible and ethical development and deployment of AI Agents?\n    *   How can we ensure that the benefits of AI Agents are shared broadly and that the transition to an AI-driven economy is managed in a way that benefits all members of society?\n\nThis research plan should provide a comprehensive framework for exploring the multifaceted impact of AI Agents on the labor market. Remember to critically evaluate your sources and consider multiple perspectives to form your own informed opinion.\nOkay, I will use the search tool to answer the questions in your research plan regarding the impact of AI Agents on the labor market. Here are the search results, organized by question:\n\n**Foundational Understanding**\n\n*   **What is the definition of an AI Agent in the context of the labor market?**\nAn AI agent in the labor market is a software program that autonomously performs tasks, perceives its environment, makes decisions, takes action, and learns/improves over time. They automate tasks, boost productivity, create new job roles, improve decision-making, and reshape the workplace.\n\n*   **What are the different types of AI Agents currently being used or developed (e.g., chatbots, robotic process automation, virtual assistants)?**\nDifferent types of AI Agents include: Simple Reflex Agents, Model-Based Reflex Agents, Goal-Based Agents, Utility-Based Agents, Learning Agents, Hierarchical Agents, and Multi-Agent Systems. They are used for automating routine tasks, customer service (chatbots), data analysis, and administrative tasks.\n\n*   **What are the historical trends of automation and technological advancements and their impact on employment?**\nHistorically, automation has led to both job displacement (especially in routine tasks) and job creation (new jobs requiring specialized skills). It has also contributed to wage stagnation/decline for some workers and increased labor market inequality.\n\n*   **What are the key economic theories related to technological unemployment and job creation?**\nKey economic theories include: Technological Unemployment Theory, Compensation Theory, Skills-Biased Technological Change (SBTC), Search-Matching Theory, and Demand-Oriented Theories (Keynesian). These theories offer different perspectives on how technology impacts job displacement and creation, wage inequality, and overall employment levels.\n```markdown\n## AI Agents' Impact on the Labor Market: A Research Report\n\nThis report summarizes research findings on the multifaceted impacts of AI Agents on the labor market, addressing key questions across foundational understanding, in-depth analysis, context/connections, practical implications, and future outlook.\n\n### I. Foundational Understanding\n\n*   **Definition of an AI Agent in the Labor Market:**\n    *   An AI agent is a sophisticated software program that **autonomously performs tasks**, **perceives its environment**, **makes decisions**, **takes action**, and **learns and improves** over time. In the labor market, AI agents automate tasks, boost productivity, create new job roles, improve decision-making, and reshape the workplace.\n\n*   **Types of AI Agents:**\n    *   Different types of AI Agents include:\n        *   **Simple Reflex Agents:** React to environmental conditions based on pre-defined rules (e.g., thermostat).\n        *   **Model-Based Reflex Agents:** Use an internal model of the environment to make decisions.\n        *   **Goal-Based Agents:** Make decisions based on achieving specific goals.\n        *   **Utility-Based Agents:** Consider both goals and the \"utility\" of different outcomes.\n        *   **Learning Agents:** Adapt and improve performance over time.\n        *   **Hierarchical Agents:** Break down complex problems into smaller tasks.\n        *   **Multi-Agent Systems:** Collaborate or compete to achieve objectives.\n    *   These agents are used for automating routine tasks, customer service (chatbots), data analysis, and administrative tasks.\n\n*   **Historical Trends of Automation and Technological Advancements:**\n    *   Historically, automation has led to both **job displacement** (especially in routine tasks) and **job creation** (new jobs requiring specialized skills).  It has also contributed to **wage stagnation/decline** for some workers and **increased labor market inequality**.\n\n*   **Key Economic Theories:**\n    *   Key economic theories related to technological unemployment and job creation include:\n        *   **Technological Unemployment Theory:** Technology leads to job losses.\n        *   **Compensation Theory:** The economy can compensate for job displacement through new jobs and increased demand.\n        *   **Skills-Biased Technological Change (SBTC):** Technology increases demand for high-skilled workers and reduces demand for low-skilled workers.\n        *   **Search-Matching Theory:** Unemployment results from frictions in the labor market.\n        *   **Demand-Oriented Theories (Keynesian):** Government intervention can stimulate demand and create jobs.\n    *   These theories offer different perspectives on how technology impacts job displacement and creation, wage inequality, and overall employment levels.\n\n### II. In-Depth Analysis (To be populated with further research)\n\n*   How are AI Agents currently being used in different industries and sectors?\n*   What specific tasks and roles are most susceptible to automation by AI Agents?\n*   What are the arguments for and against the displacement of human workers by AI Agents?\n*   What is the impact of AI Agents on the quality of jobs?\n*   How is the introduction of AI Agents affecting the demand for different skill sets?\n*   What new job roles and opportunities are emerging?\n*   How are AI Agents changing the nature of work?\n*   What are the psychological and social impacts on workers?\n\n### III. Context and Connections (To be populated with further research)\n\n*   How does the impact of AI Agents differ across countries and regions?\n*   What are the ethical considerations surrounding the use of AI Agents?\n*   How are labor unions and worker advocacy groups responding?\n*   What are the legal and regulatory frameworks governing the use of AI Agents?\n*   How do AI Agents affect income inequality and wealth distribution?\n*   How does the development of AI Agents relate to broader trends in globalization?\n\n### IV. Practical Implications (To be populated with further research)\n\n*   What strategies can businesses and organizations adopt?\n*   What policies can governments implement?\n*   What role should education and training programs play?\n*   How can individuals adapt and develop the skills needed?\n*   What are some examples of successful (or unsuccessful) implementations?\n*   How can we measure and evaluate the overall impact of AI Agents?\n\n### V. Future Outlook (To be populated with further research)\n\n*   What are the emerging trends and future directions in AI Agent technology?\n*   What are the potential long-term consequences of widespread AI Agent adoption?\n*   What are the potential risks and challenges?\n*   What are the potential opportunities for creating a more inclusive future?\n*   How can we ensure that the benefits of AI Agents are shared broadly?\n\nThis report provides a starting point for understanding the complex impacts of AI Agents on the labor market. Further research is needed to address the remaining questions and develop a more comprehensive understanding.\n```"
          },
          "metadata": {}
        }
      ]
    },
    {
      "cell_type": "code",
      "source": [],
      "metadata": {
        "id": "fGLLZvsd-_St"
      },
      "execution_count": null,
      "outputs": []
    },
    {
      "cell_type": "markdown",
      "source": [
        "## Bonus: Finish the remaining researches\n",
        "\n",
        "Note that the above result has many open questions not yet researched. Try to build an agent tree that completes the research. Some possible directions:\n",
        "\n",
        "- Use LoopAgent, refer to the QuickStart notebook of how to exit_loop.\n",
        "- Optimize the prompt of multiple_search agent so it conducts more thorough searches."
      ],
      "metadata": {
        "id": "JtQ9j3TrPh-J"
      }
    },
    {
      "cell_type": "markdown",
      "source": [
        "## Bonus: Format with grounding data\n",
        "\n",
        "The simple_search_agent returns not only the search results summary, but also the grounding web pages and references / citations."
      ],
      "metadata": {
        "id": "EksjqPnJQDlu"
      }
    },
    {
      "cell_type": "code",
      "source": [],
      "metadata": {
        "id": "YFxdhVFAPmH1"
      },
      "execution_count": null,
      "outputs": []
    }
  ]
}