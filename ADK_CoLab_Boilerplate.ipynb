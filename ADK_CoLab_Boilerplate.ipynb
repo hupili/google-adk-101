{
  "nbformat": 4,
  "nbformat_minor": 0,
  "metadata": {
    "colab": {
      "provenance": []
    },
    "kernelspec": {
      "name": "python3",
      "display_name": "Python 3"
    },
    "language_info": {
      "name": "python"
    }
  },
  "cells": [
    {
      "cell_type": "markdown",
      "source": [
        "# ADK CoLab Boilerplate\n",
        "\n",
        "Last Update:\n",
        "\n",
        "- July 31, 2025\n",
        "- ADK == 1.8.0"
      ],
      "metadata": {
        "id": "4LLX5Yxa3CQK"
      }
    },
    {
      "cell_type": "markdown",
      "source": [
        "<table align=\"left\">\n",
        "  <td style=\"text-align: center\">\n",
        "    <a href=\"https://colab.sandbox.google.com/github/hupili/google-adk-101/blob/main/ADK_CoLab_Boilerplate.ipynb\">\n",
        "      <img width=\"32px\" src=\"https://www.gstatic.com/pantheon/images/bigquery/welcome_page/colab-logo.svg\" alt=\"Google Colaboratory logo\"><br> Run in Colab\n",
        "    </a>\n",
        "  </td>\n",
        "  <td style=\"text-align: center\">\n",
        "    <a href=\"https://console.cloud.google.com/vertex-ai/colab/import/https:%2F%2Fraw.githubusercontent.com%2Fhupili%2Fgoogle-adk-101%2Fmain%2FADK_CoLab_Boilerplate.ipynb\">\n",
        "      <img width=\"32px\" src=\"https://www.gstatic.com/pantheon/images/bigquery/welcome_page/colab-enterprise-logo.png\" alt=\"Google Cloud Colab Enterprise logo\"><br> Run in Colab Enterprise\n",
        "    </a>\n",
        "  </td>    \n",
        "  <td style=\"text-align: center\">\n",
        "    <a href=\"https://github.com/hupili/google-adk-101/blob/main/ADK_CoLab_Boilerplate.ipynb\">\n",
        "      <img width=\"32px\" src=\"https://www.gstatic.com/monospace/240802/git_host_github_mask.svg\" alt=\"GitHub logo\"><br> View on GitHub\n",
        "    </a>\n",
        "  </td>\n",
        "  <td style=\"text-align: center\">\n",
        "    <a href=\"https://console.cloud.google.com/vertex-ai/workbench/deploy-notebook?download_url=https://raw.githubusercontent.com/hupili/google-adk-101/main/ADK_CoLab_Boilerplate.ipynb\">\n",
        "      <img width=\"32px\" src=\"https://www.gstatic.com/cloud/images/navigation/vertex-ai.svg\" alt=\"Vertex AI logo\"><br> Open in Vertex AI Workbench\n",
        "    </a>\n",
        "  </td>\n",
        "</table>"
      ],
      "metadata": {
        "id": "d3JKoxwtyJgX"
      }
    },
    {
      "cell_type": "markdown",
      "source": [
        "## Environment Setup"
      ],
      "metadata": {
        "id": "IoAj8G-02_0R"
      }
    },
    {
      "cell_type": "code",
      "execution_count": 40,
      "metadata": {
        "id": "38kRHmz02DqR"
      },
      "outputs": [],
      "source": [
        "import os\n",
        "\n",
        "# API_KEY = '' # @param {type:\"string\"}\n",
        "# os.environ[\"GOOGLE_GENAI_USE_VERTEXAI\"] = \"FALSE\" # Use Vertex AI API\n",
        "# os.environ[\"GOOGLE_API_KEY\"] = API_KEY\n",
        "\n",
        "PROJECT_ID = \"hupili-genai-bb\"  # @param {type:\"string\"}\n",
        "if not PROJECT_ID:\n",
        "    PROJECT_ID = str(os.environ.get(\"GOOGLE_CLOUD_PROJECT\"))\n",
        "\n",
        "LOCATION = \"us-central1\" # @param {type:\"string\"}\n",
        "\n",
        "STAGING_BUCKET = 'gs://agent_engine_deploy_staging' # @param {type:\"string\"}\n",
        "\n",
        "os.environ[\"GOOGLE_CLOUD_PROJECT\"] = PROJECT_ID\n",
        "os.environ[\"GOOGLE_CLOUD_LOCATION\"] = LOCATION\n",
        "os.environ[\"GOOGLE_GENAI_USE_VERTEXAI\"] = \"TRUE\" # Use Vertex AI API\n",
        "\n",
        "# [your-project-id]"
      ]
    },
    {
      "cell_type": "code",
      "source": [
        "import vertexai\n",
        "\n",
        "vertexai.init(\n",
        "    project=PROJECT_ID,\n",
        "    location=LOCATION,\n",
        "    staging_bucket=STAGING_BUCKET,\n",
        ")"
      ],
      "metadata": {
        "id": "lUDcVWOq2HFH"
      },
      "execution_count": 41,
      "outputs": []
    },
    {
      "cell_type": "code",
      "source": [
        "from google.colab import auth\n",
        "auth.authenticate_user()"
      ],
      "metadata": {
        "id": "htFtAp592LYP"
      },
      "execution_count": 42,
      "outputs": []
    },
    {
      "cell_type": "code",
      "source": [
        "!pip install google-adk==1.8.0"
      ],
      "metadata": {
        "colab": {
          "base_uri": "https://localhost:8080/"
        },
        "id": "8x3NAoCo2M0G",
        "outputId": "5f3f5022-5a52-41e5-ab37-4958a7268a64"
      },
      "execution_count": 43,
      "outputs": [
        {
          "output_type": "stream",
          "name": "stdout",
          "text": [
            "Requirement already satisfied: google-adk==1.8.0 in /usr/local/lib/python3.11/dist-packages (1.8.0)\n",
            "Requirement already satisfied: PyYAML>=6.0.2 in /usr/local/lib/python3.11/dist-packages (from google-adk==1.8.0) (6.0.2)\n",
            "Requirement already satisfied: anyio>=4.9.0 in /usr/local/lib/python3.11/dist-packages (from google-adk==1.8.0) (4.9.0)\n",
            "Requirement already satisfied: authlib>=1.5.1 in /usr/local/lib/python3.11/dist-packages (from google-adk==1.8.0) (1.6.1)\n",
            "Requirement already satisfied: click>=8.1.8 in /usr/local/lib/python3.11/dist-packages (from google-adk==1.8.0) (8.2.1)\n",
            "Requirement already satisfied: fastapi>=0.115.0 in /usr/local/lib/python3.11/dist-packages (from google-adk==1.8.0) (0.116.1)\n",
            "Requirement already satisfied: google-api-python-client>=2.157.0 in /usr/local/lib/python3.11/dist-packages (from google-adk==1.8.0) (2.177.0)\n",
            "Requirement already satisfied: google-cloud-aiplatform>=1.95.1 in /usr/local/lib/python3.11/dist-packages (from google-cloud-aiplatform[agent-engines]>=1.95.1->google-adk==1.8.0) (1.105.0)\n",
            "Requirement already satisfied: google-cloud-secret-manager>=2.22.0 in /usr/local/lib/python3.11/dist-packages (from google-adk==1.8.0) (2.24.0)\n",
            "Requirement already satisfied: google-cloud-speech>=2.30.0 in /usr/local/lib/python3.11/dist-packages (from google-adk==1.8.0) (2.33.0)\n",
            "Requirement already satisfied: google-cloud-storage<3.0.0,>=2.18.0 in /usr/local/lib/python3.11/dist-packages (from google-adk==1.8.0) (2.19.0)\n",
            "Requirement already satisfied: google-genai>=1.21.1 in /usr/local/lib/python3.11/dist-packages (from google-adk==1.8.0) (1.27.0)\n",
            "Requirement already satisfied: graphviz>=0.20.2 in /usr/local/lib/python3.11/dist-packages (from google-adk==1.8.0) (0.21)\n",
            "Requirement already satisfied: mcp>=1.8.0 in /usr/local/lib/python3.11/dist-packages (from google-adk==1.8.0) (1.12.2)\n",
            "Requirement already satisfied: opentelemetry-api>=1.31.0 in /usr/local/lib/python3.11/dist-packages (from google-adk==1.8.0) (1.36.0)\n",
            "Requirement already satisfied: opentelemetry-exporter-gcp-trace>=1.9.0 in /usr/local/lib/python3.11/dist-packages (from google-adk==1.8.0) (1.9.0)\n",
            "Requirement already satisfied: opentelemetry-sdk>=1.31.0 in /usr/local/lib/python3.11/dist-packages (from google-adk==1.8.0) (1.36.0)\n",
            "Requirement already satisfied: pydantic<3.0.0,>=2.0 in /usr/local/lib/python3.11/dist-packages (from google-adk==1.8.0) (2.11.7)\n",
            "Requirement already satisfied: python-dateutil>=2.9.0.post0 in /usr/local/lib/python3.11/dist-packages (from google-adk==1.8.0) (2.9.0.post0)\n",
            "Requirement already satisfied: python-dotenv>=1.0.0 in /usr/local/lib/python3.11/dist-packages (from google-adk==1.8.0) (1.1.1)\n",
            "Requirement already satisfied: requests>=2.32.4 in /usr/local/lib/python3.11/dist-packages (from google-adk==1.8.0) (2.32.4)\n",
            "Requirement already satisfied: sqlalchemy>=2.0 in /usr/local/lib/python3.11/dist-packages (from google-adk==1.8.0) (2.0.42)\n",
            "Requirement already satisfied: starlette>=0.46.2 in /usr/local/lib/python3.11/dist-packages (from google-adk==1.8.0) (0.47.2)\n",
            "Requirement already satisfied: tenacity>=8.0.0 in /usr/local/lib/python3.11/dist-packages (from google-adk==1.8.0) (8.5.0)\n",
            "Requirement already satisfied: typing-extensions<5,>=4.5 in /usr/local/lib/python3.11/dist-packages (from google-adk==1.8.0) (4.14.1)\n",
            "Requirement already satisfied: tzlocal>=5.3 in /usr/local/lib/python3.11/dist-packages (from google-adk==1.8.0) (5.3.1)\n",
            "Requirement already satisfied: uvicorn>=0.34.0 in /usr/local/lib/python3.11/dist-packages (from google-adk==1.8.0) (0.35.0)\n",
            "Requirement already satisfied: watchdog>=6.0.0 in /usr/local/lib/python3.11/dist-packages (from google-adk==1.8.0) (6.0.0)\n",
            "Requirement already satisfied: websockets>=15.0.1 in /usr/local/lib/python3.11/dist-packages (from google-adk==1.8.0) (15.0.1)\n",
            "Requirement already satisfied: idna>=2.8 in /usr/local/lib/python3.11/dist-packages (from anyio>=4.9.0->google-adk==1.8.0) (3.10)\n",
            "Requirement already satisfied: sniffio>=1.1 in /usr/local/lib/python3.11/dist-packages (from anyio>=4.9.0->google-adk==1.8.0) (1.3.1)\n",
            "Requirement already satisfied: cryptography in /usr/local/lib/python3.11/dist-packages (from authlib>=1.5.1->google-adk==1.8.0) (43.0.3)\n",
            "Requirement already satisfied: httplib2<1.0.0,>=0.19.0 in /usr/local/lib/python3.11/dist-packages (from google-api-python-client>=2.157.0->google-adk==1.8.0) (0.22.0)\n",
            "Requirement already satisfied: google-auth!=2.24.0,!=2.25.0,<3.0.0,>=1.32.0 in /usr/local/lib/python3.11/dist-packages (from google-api-python-client>=2.157.0->google-adk==1.8.0) (2.38.0)\n",
            "Requirement already satisfied: google-auth-httplib2<1.0.0,>=0.2.0 in /usr/local/lib/python3.11/dist-packages (from google-api-python-client>=2.157.0->google-adk==1.8.0) (0.2.0)\n",
            "Requirement already satisfied: google-api-core!=2.0.*,!=2.1.*,!=2.2.*,!=2.3.0,<3.0.0,>=1.31.5 in /usr/local/lib/python3.11/dist-packages (from google-api-python-client>=2.157.0->google-adk==1.8.0) (2.25.1)\n",
            "Requirement already satisfied: uritemplate<5,>=3.0.1 in /usr/local/lib/python3.11/dist-packages (from google-api-python-client>=2.157.0->google-adk==1.8.0) (4.2.0)\n",
            "Requirement already satisfied: proto-plus<2.0.0,>=1.22.3 in /usr/local/lib/python3.11/dist-packages (from google-cloud-aiplatform>=1.95.1->google-cloud-aiplatform[agent-engines]>=1.95.1->google-adk==1.8.0) (1.26.1)\n",
            "Requirement already satisfied: protobuf!=4.21.0,!=4.21.1,!=4.21.2,!=4.21.3,!=4.21.4,!=4.21.5,<7.0.0,>=3.20.2 in /usr/local/lib/python3.11/dist-packages (from google-cloud-aiplatform>=1.95.1->google-cloud-aiplatform[agent-engines]>=1.95.1->google-adk==1.8.0) (5.29.5)\n",
            "Requirement already satisfied: packaging>=14.3 in /usr/local/lib/python3.11/dist-packages (from google-cloud-aiplatform>=1.95.1->google-cloud-aiplatform[agent-engines]>=1.95.1->google-adk==1.8.0) (25.0)\n",
            "Requirement already satisfied: google-cloud-bigquery!=3.20.0,<4.0.0,>=1.15.0 in /usr/local/lib/python3.11/dist-packages (from google-cloud-aiplatform>=1.95.1->google-cloud-aiplatform[agent-engines]>=1.95.1->google-adk==1.8.0) (3.35.1)\n",
            "Requirement already satisfied: google-cloud-resource-manager<3.0.0,>=1.3.3 in /usr/local/lib/python3.11/dist-packages (from google-cloud-aiplatform>=1.95.1->google-cloud-aiplatform[agent-engines]>=1.95.1->google-adk==1.8.0) (1.14.2)\n",
            "Requirement already satisfied: shapely<3.0.0 in /usr/local/lib/python3.11/dist-packages (from google-cloud-aiplatform>=1.95.1->google-cloud-aiplatform[agent-engines]>=1.95.1->google-adk==1.8.0) (2.1.1)\n",
            "Requirement already satisfied: docstring_parser<1 in /usr/local/lib/python3.11/dist-packages (from google-cloud-aiplatform>=1.95.1->google-cloud-aiplatform[agent-engines]>=1.95.1->google-adk==1.8.0) (0.17.0)\n",
            "Requirement already satisfied: cloudpickle<4.0,>=3.0 in /usr/local/lib/python3.11/dist-packages (from google-cloud-aiplatform[agent-engines]>=1.95.1->google-adk==1.8.0) (3.1.1)\n",
            "Requirement already satisfied: google-cloud-trace<2 in /usr/local/lib/python3.11/dist-packages (from google-cloud-aiplatform[agent-engines]>=1.95.1->google-adk==1.8.0) (1.16.2)\n",
            "Requirement already satisfied: google-cloud-logging<4 in /usr/local/lib/python3.11/dist-packages (from google-cloud-aiplatform[agent-engines]>=1.95.1->google-adk==1.8.0) (3.12.1)\n",
            "Requirement already satisfied: grpc-google-iam-v1<1.0.0,>=0.14.0 in /usr/local/lib/python3.11/dist-packages (from google-cloud-secret-manager>=2.22.0->google-adk==1.8.0) (0.14.2)\n",
            "Requirement already satisfied: google-cloud-core<3.0dev,>=2.3.0 in /usr/local/lib/python3.11/dist-packages (from google-cloud-storage<3.0.0,>=2.18.0->google-adk==1.8.0) (2.4.3)\n",
            "Requirement already satisfied: google-resumable-media>=2.7.2 in /usr/local/lib/python3.11/dist-packages (from google-cloud-storage<3.0.0,>=2.18.0->google-adk==1.8.0) (2.7.2)\n",
            "Requirement already satisfied: google-crc32c<2.0dev,>=1.0 in /usr/local/lib/python3.11/dist-packages (from google-cloud-storage<3.0.0,>=2.18.0->google-adk==1.8.0) (1.7.1)\n",
            "Requirement already satisfied: httpx<1.0.0,>=0.28.1 in /usr/local/lib/python3.11/dist-packages (from google-genai>=1.21.1->google-adk==1.8.0) (0.28.1)\n",
            "Requirement already satisfied: httpx-sse>=0.4 in /usr/local/lib/python3.11/dist-packages (from mcp>=1.8.0->google-adk==1.8.0) (0.4.1)\n",
            "Requirement already satisfied: jsonschema>=4.20.0 in /usr/local/lib/python3.11/dist-packages (from mcp>=1.8.0->google-adk==1.8.0) (4.25.0)\n",
            "Requirement already satisfied: pydantic-settings>=2.5.2 in /usr/local/lib/python3.11/dist-packages (from mcp>=1.8.0->google-adk==1.8.0) (2.10.1)\n",
            "Requirement already satisfied: python-multipart>=0.0.9 in /usr/local/lib/python3.11/dist-packages (from mcp>=1.8.0->google-adk==1.8.0) (0.0.20)\n",
            "Requirement already satisfied: sse-starlette>=1.6.1 in /usr/local/lib/python3.11/dist-packages (from mcp>=1.8.0->google-adk==1.8.0) (3.0.2)\n",
            "Requirement already satisfied: importlib-metadata<8.8.0,>=6.0 in /usr/local/lib/python3.11/dist-packages (from opentelemetry-api>=1.31.0->google-adk==1.8.0) (8.7.0)\n",
            "Requirement already satisfied: opentelemetry-resourcedetector-gcp==1.*,>=1.5.0dev0 in /usr/local/lib/python3.11/dist-packages (from opentelemetry-exporter-gcp-trace>=1.9.0->google-adk==1.8.0) (1.9.0a0)\n",
            "Requirement already satisfied: opentelemetry-semantic-conventions==0.57b0 in /usr/local/lib/python3.11/dist-packages (from opentelemetry-sdk>=1.31.0->google-adk==1.8.0) (0.57b0)\n",
            "Requirement already satisfied: annotated-types>=0.6.0 in /usr/local/lib/python3.11/dist-packages (from pydantic<3.0.0,>=2.0->google-adk==1.8.0) (0.7.0)\n",
            "Requirement already satisfied: pydantic-core==2.33.2 in /usr/local/lib/python3.11/dist-packages (from pydantic<3.0.0,>=2.0->google-adk==1.8.0) (2.33.2)\n",
            "Requirement already satisfied: typing-inspection>=0.4.0 in /usr/local/lib/python3.11/dist-packages (from pydantic<3.0.0,>=2.0->google-adk==1.8.0) (0.4.1)\n",
            "Requirement already satisfied: six>=1.5 in /usr/local/lib/python3.11/dist-packages (from python-dateutil>=2.9.0.post0->google-adk==1.8.0) (1.17.0)\n",
            "Requirement already satisfied: charset_normalizer<4,>=2 in /usr/local/lib/python3.11/dist-packages (from requests>=2.32.4->google-adk==1.8.0) (3.4.2)\n",
            "Requirement already satisfied: urllib3<3,>=1.21.1 in /usr/local/lib/python3.11/dist-packages (from requests>=2.32.4->google-adk==1.8.0) (2.5.0)\n",
            "Requirement already satisfied: certifi>=2017.4.17 in /usr/local/lib/python3.11/dist-packages (from requests>=2.32.4->google-adk==1.8.0) (2025.7.14)\n",
            "Requirement already satisfied: greenlet>=1 in /usr/local/lib/python3.11/dist-packages (from sqlalchemy>=2.0->google-adk==1.8.0) (3.2.3)\n",
            "Requirement already satisfied: h11>=0.8 in /usr/local/lib/python3.11/dist-packages (from uvicorn>=0.34.0->google-adk==1.8.0) (0.16.0)\n",
            "Requirement already satisfied: googleapis-common-protos<2.0.0,>=1.56.2 in /usr/local/lib/python3.11/dist-packages (from google-api-core!=2.0.*,!=2.1.*,!=2.2.*,!=2.3.0,<3.0.0,>=1.31.5->google-api-python-client>=2.157.0->google-adk==1.8.0) (1.70.0)\n",
            "Requirement already satisfied: grpcio<2.0.0,>=1.33.2 in /usr/local/lib/python3.11/dist-packages (from google-api-core[grpc]!=2.0.*,!=2.1.*,!=2.2.*,!=2.3.*,!=2.4.*,!=2.5.*,!=2.6.*,!=2.7.*,<3.0.0,>=1.34.1->google-cloud-aiplatform>=1.95.1->google-cloud-aiplatform[agent-engines]>=1.95.1->google-adk==1.8.0) (1.74.0)\n",
            "Requirement already satisfied: grpcio-status<2.0.0,>=1.33.2 in /usr/local/lib/python3.11/dist-packages (from google-api-core[grpc]!=2.0.*,!=2.1.*,!=2.2.*,!=2.3.*,!=2.4.*,!=2.5.*,!=2.6.*,!=2.7.*,<3.0.0,>=1.34.1->google-cloud-aiplatform>=1.95.1->google-cloud-aiplatform[agent-engines]>=1.95.1->google-adk==1.8.0) (1.71.2)\n",
            "Requirement already satisfied: cachetools<6.0,>=2.0.0 in /usr/local/lib/python3.11/dist-packages (from google-auth!=2.24.0,!=2.25.0,<3.0.0,>=1.32.0->google-api-python-client>=2.157.0->google-adk==1.8.0) (5.5.2)\n",
            "Requirement already satisfied: pyasn1-modules>=0.2.1 in /usr/local/lib/python3.11/dist-packages (from google-auth!=2.24.0,!=2.25.0,<3.0.0,>=1.32.0->google-api-python-client>=2.157.0->google-adk==1.8.0) (0.4.2)\n",
            "Requirement already satisfied: rsa<5,>=3.1.4 in /usr/local/lib/python3.11/dist-packages (from google-auth!=2.24.0,!=2.25.0,<3.0.0,>=1.32.0->google-api-python-client>=2.157.0->google-adk==1.8.0) (4.9.1)\n",
            "Requirement already satisfied: google-cloud-appengine-logging<2.0.0,>=0.1.3 in /usr/local/lib/python3.11/dist-packages (from google-cloud-logging<4->google-cloud-aiplatform[agent-engines]>=1.95.1->google-adk==1.8.0) (1.6.2)\n",
            "Requirement already satisfied: google-cloud-audit-log<1.0.0,>=0.3.1 in /usr/local/lib/python3.11/dist-packages (from google-cloud-logging<4->google-cloud-aiplatform[agent-engines]>=1.95.1->google-adk==1.8.0) (0.3.2)\n",
            "Requirement already satisfied: pyparsing!=3.0.0,!=3.0.1,!=3.0.2,!=3.0.3,<4,>=2.4.2 in /usr/local/lib/python3.11/dist-packages (from httplib2<1.0.0,>=0.19.0->google-api-python-client>=2.157.0->google-adk==1.8.0) (3.2.3)\n",
            "Requirement already satisfied: httpcore==1.* in /usr/local/lib/python3.11/dist-packages (from httpx<1.0.0,>=0.28.1->google-genai>=1.21.1->google-adk==1.8.0) (1.0.9)\n",
            "Requirement already satisfied: zipp>=3.20 in /usr/local/lib/python3.11/dist-packages (from importlib-metadata<8.8.0,>=6.0->opentelemetry-api>=1.31.0->google-adk==1.8.0) (3.23.0)\n",
            "Requirement already satisfied: attrs>=22.2.0 in /usr/local/lib/python3.11/dist-packages (from jsonschema>=4.20.0->mcp>=1.8.0->google-adk==1.8.0) (25.3.0)\n",
            "Requirement already satisfied: jsonschema-specifications>=2023.03.6 in /usr/local/lib/python3.11/dist-packages (from jsonschema>=4.20.0->mcp>=1.8.0->google-adk==1.8.0) (2025.4.1)\n",
            "Requirement already satisfied: referencing>=0.28.4 in /usr/local/lib/python3.11/dist-packages (from jsonschema>=4.20.0->mcp>=1.8.0->google-adk==1.8.0) (0.36.2)\n",
            "Requirement already satisfied: rpds-py>=0.7.1 in /usr/local/lib/python3.11/dist-packages (from jsonschema>=4.20.0->mcp>=1.8.0->google-adk==1.8.0) (0.26.0)\n",
            "Requirement already satisfied: numpy>=1.21 in /usr/local/lib/python3.11/dist-packages (from shapely<3.0.0->google-cloud-aiplatform>=1.95.1->google-cloud-aiplatform[agent-engines]>=1.95.1->google-adk==1.8.0) (2.0.2)\n",
            "Requirement already satisfied: cffi>=1.12 in /usr/local/lib/python3.11/dist-packages (from cryptography->authlib>=1.5.1->google-adk==1.8.0) (1.17.1)\n",
            "Requirement already satisfied: pycparser in /usr/local/lib/python3.11/dist-packages (from cffi>=1.12->cryptography->authlib>=1.5.1->google-adk==1.8.0) (2.22)\n",
            "Requirement already satisfied: pyasn1<0.7.0,>=0.6.1 in /usr/local/lib/python3.11/dist-packages (from pyasn1-modules>=0.2.1->google-auth!=2.24.0,!=2.25.0,<3.0.0,>=1.32.0->google-api-python-client>=2.157.0->google-adk==1.8.0) (0.6.1)\n"
          ]
        }
      ]
    },
    {
      "cell_type": "code",
      "source": [],
      "metadata": {
        "id": "V5CCTMX1ZQUw"
      },
      "execution_count": 43,
      "outputs": []
    },
    {
      "cell_type": "code",
      "source": [
        "from google import adk\n",
        "\n",
        "adk.__version__"
      ],
      "metadata": {
        "id": "nXbXcpKE2POf",
        "outputId": "25542e11-3c9a-494d-f616-9b18a30d63c5",
        "colab": {
          "base_uri": "https://localhost:8080/",
          "height": 35
        }
      },
      "execution_count": 44,
      "outputs": [
        {
          "output_type": "execute_result",
          "data": {
            "text/plain": [
              "'1.8.0'"
            ],
            "application/vnd.google.colaboratory.intrinsic+json": {
              "type": "string"
            }
          },
          "metadata": {},
          "execution_count": 44
        }
      ]
    },
    {
      "cell_type": "code",
      "source": [
        "import json\n",
        "import time\n",
        "\n",
        "def pprint_events(events):\n",
        "    '''Pretty print of events generated by ADK runner'''\n",
        "    start_time = time.time()\n",
        "    elapsed_time_ms = 0\n",
        "    for _, event in enumerate(events):\n",
        "        is_final_response = event.is_final_response()\n",
        "        function_calls = event.get_function_calls()\n",
        "        function_responses = event.get_function_responses()\n",
        "        agent_res = json.loads(event.content.model_dump_json(indent=2, exclude_none=True))\n",
        "\n",
        "        if is_final_response:\n",
        "            print('>>> inside final response...')\n",
        "            final_response = event.content.parts[0].text\n",
        "            end_time = time.time()\n",
        "            elapsed_time_ms = round((end_time - start_time) * 1000, 3)\n",
        "            print(f'Final Response ({elapsed_time_ms} ms):\\n{final_response}')\n",
        "            print(\"-----------------------------\")\n",
        "        elif function_calls:\n",
        "            print('+++ inside the function call...')\n",
        "            for function_call in function_calls:\n",
        "                print(f\"function, [args]:  {function_call.name}, {function_call.args}\")\n",
        "        elif function_responses:\n",
        "            print('--- inside the function call response...')\n",
        "            # TODO(Pili): copied from walkthrough codes. Find root cause of 'pending' not found.\n",
        "            # if not event.actions.pending:\n",
        "            if True:\n",
        "                for function_response in function_responses:\n",
        "                    details = function_response.response\n",
        "                    recommended_list = list(details.values())\n",
        "                    print(f\"Function Name: {function_response.name}\")\n",
        "                    result=json.dumps(recommended_list)\n",
        "                    print(f\"Function Results {result}\")\n",
        "            else:\n",
        "                print(agent_res)\n",
        "    print(f\"Total elapsed time: {elapsed_time_ms}\")\n"
      ],
      "metadata": {
        "id": "MPL-1JEm2jjh"
      },
      "execution_count": 45,
      "outputs": []
    },
    {
      "cell_type": "code",
      "source": [
        "import random\n",
        "import asyncio\n",
        "\n",
        "from google.adk.tools import google_search\n",
        "from google.adk import Agent\n",
        "from google.adk.agents import Agent, LlmAgent\n",
        "from google.genai import types\n",
        "from pydantic import BaseModel\n",
        "from google.genai import types\n",
        "from google.adk.sessions import InMemorySessionService\n",
        "from google.adk.runners import Runner\n",
        "\n",
        "async def caller_factory(root_agent, app_name='App12345', user_id='User12345', session_id=None):\n",
        "  session_service = InMemorySessionService()\n",
        "  if session_id is None:\n",
        "    suffix = random.randint(100000, 999999)\n",
        "    session_id = f'{app_name}-{user_id}-{suffix}'\n",
        "  session = await session_service.create_session(\n",
        "      app_name=app_name, user_id=user_id, session_id=session_id)\n",
        "  runner = Runner(agent=root_agent, app_name=app_name, session_service=session_service)\n",
        "  def _call(query):\n",
        "    content = types.Content(role='user', parts=[types.Part(text=query)])\n",
        "    events = runner.run(user_id=session.user_id, session_id=session.id, new_message=content)\n",
        "    return events\n",
        "  return _call"
      ],
      "metadata": {
        "id": "Gob7RCZ12mQM"
      },
      "execution_count": 46,
      "outputs": []
    },
    {
      "cell_type": "code",
      "source": [
        "MODEL = \"gemini-2.5-flash\"\n",
        "APP_NAME = \"simple_search_example\"\n",
        "USER_ID = \"user12345\"\n",
        "SESSION_ID = \"session12345\"\n",
        "AGENT_NAME = \"simple_search_agent\"\n",
        "\n",
        "# Agent\n",
        "simple_search_agent = Agent(\n",
        "    model=MODEL,\n",
        "    name=AGENT_NAME,\n",
        "    description=\"Agent to answer questions using Google Search.\",\n",
        "    instruction=\"I can answer your questions by searching the internet. Just ask me anything!\",\n",
        "    generate_content_config=types.GenerateContentConfig(\n",
        "        max_output_tokens=8000,\n",
        "    ),\n",
        "    tools=[google_search],\n",
        ")"
      ],
      "metadata": {
        "id": "bPhHDCYQ2VyP"
      },
      "execution_count": 47,
      "outputs": []
    },
    {
      "cell_type": "code",
      "source": [
        "call_agent = await caller_factory(simple_search_agent)"
      ],
      "metadata": {
        "id": "XuVy13Nq2pnO"
      },
      "execution_count": 48,
      "outputs": []
    },
    {
      "cell_type": "code",
      "source": [
        "events = call_agent('Hello')"
      ],
      "metadata": {
        "id": "kSn3YLe29B5X"
      },
      "execution_count": 49,
      "outputs": []
    },
    {
      "cell_type": "code",
      "source": [
        "list(events)"
      ],
      "metadata": {
        "id": "aH8AFZ4zyIzP",
        "outputId": "90ec6e17-2158-46b4-d5ac-0f890f823531",
        "colab": {
          "base_uri": "https://localhost:8080/"
        }
      },
      "execution_count": 50,
      "outputs": [
        {
          "output_type": "execute_result",
          "data": {
            "text/plain": [
              "[Event(content=Content(\n",
              "   parts=[\n",
              "     Part(\n",
              "       text='Hello! How can I help you today?'\n",
              "     ),\n",
              "   ],\n",
              "   role='model'\n",
              " ), grounding_metadata=GroundingMetadata(), partial=None, turn_complete=None, error_code=None, error_message=None, interrupted=None, custom_metadata=None, usage_metadata=GenerateContentResponseUsageMetadata(\n",
              "   candidates_token_count=9,\n",
              "   candidates_tokens_details=[\n",
              "     ModalityTokenCount(\n",
              "       modality=<MediaModality.TEXT: 'TEXT'>,\n",
              "       token_count=9\n",
              "     ),\n",
              "   ],\n",
              "   prompt_token_count=48,\n",
              "   prompt_tokens_details=[\n",
              "     ModalityTokenCount(\n",
              "       modality=<MediaModality.TEXT: 'TEXT'>,\n",
              "       token_count=48\n",
              "     ),\n",
              "   ],\n",
              "   thoughts_token_count=29,\n",
              "   total_token_count=86,\n",
              "   traffic_type=<TrafficType.ON_DEMAND: 'ON_DEMAND'>\n",
              " ), invocation_id='e-16e76651-3d1b-4271-ac3b-c385e9da3083', author='simple_search_agent', actions=EventActions(skip_summarization=None, state_delta={}, artifact_delta={}, transfer_to_agent=None, escalate=None, requested_auth_configs={}), long_running_tool_ids=None, branch=None, id='0e8789e6-73d0-490b-bab7-b56eb9d00006', timestamp=1753947512.358129)]"
            ]
          },
          "metadata": {},
          "execution_count": 50
        }
      ]
    },
    {
      "cell_type": "code",
      "source": [
        "pprint_events(events)"
      ],
      "metadata": {
        "colab": {
          "base_uri": "https://localhost:8080/"
        },
        "id": "YQvAnrnH9Eu9",
        "outputId": "ceda684c-6a63-44d1-ec34-c6850e9961e6"
      },
      "execution_count": 51,
      "outputs": [
        {
          "output_type": "stream",
          "name": "stdout",
          "text": [
            "Total elapsed time: 0\n"
          ]
        }
      ]
    },
    {
      "cell_type": "code",
      "source": [
        "events = call_agent('What is the weather in Hong Kong now?')\n",
        "pprint_events(events)"
      ],
      "metadata": {
        "colab": {
          "base_uri": "https://localhost:8080/"
        },
        "id": "9ztVOjjj9Nrv",
        "outputId": "d8fcc58a-b1e5-4945-b80d-bba68132e1da"
      },
      "execution_count": 52,
      "outputs": [
        {
          "output_type": "stream",
          "name": "stdout",
          "text": [
            ">>> inside final response...\n",
            "Final Response (3664.594 ms):\n",
            "The current weather in Hong Kong is cloudy with a temperature of 86°F (30°C), feeling like 100°F (38°C). There is an 82% humidity and approximately a 15% chance of rain. Other reports indicate light rain showers, scattered showers, or passing clouds. The wind is blowing from the southwest at 15 km/h with gusts up to 23 km/h.\n",
            "-----------------------------\n",
            "Total elapsed time: 3664.594\n"
          ]
        }
      ]
    },
    {
      "cell_type": "code",
      "metadata": {
        "id": "a309b295"
      },
      "source": [],
      "execution_count": null,
      "outputs": []
    }
  ]
}