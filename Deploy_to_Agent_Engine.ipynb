{
  "nbformat": 4,
  "nbformat_minor": 0,
  "metadata": {
    "colab": {
      "provenance": [],
      "toc_visible": true
    },
    "kernelspec": {
      "name": "python3",
      "display_name": "Python 3"
    },
    "language_info": {
      "name": "python"
    }
  },
  "cells": [
    {
      "cell_type": "markdown",
      "source": [
        "# Deploy ADK to Agent Engine\n"
      ],
      "metadata": {
        "id": "aLj1-M-tbXkB"
      }
    },
    {
      "cell_type": "markdown",
      "source": [
        "<table align=\"left\">\n",
        "  <td style=\"text-align: center\">\n",
        "    <a href=\"https://colab.sandbox.google.com/github/hupili/google-adk-101/blob/main/Deploy_to_Agent_Engine.ipynb\">\n",
        "      <img width=\"32px\" src=\"https://www.gstatic.com/pantheon/images/bigquery/welcome_page/colab-logo.svg\" alt=\"Google Colaboratory logo\"><br> Run in Colab\n",
        "    </a>\n",
        "  </td>\n",
        "  <td style=\"text-align: center\">\n",
        "    <a href=\"https://console.cloud.google.com/vertex-ai/colab/import/https:%2F%2Fraw.githubusercontent.com%2Fhupili%2Fgoogle-adk-101%2Fmain%2FDeploy_to_Agent_Engine.ipynb\">\n",
        "      <img width=\"32px\" src=\"https://www.gstatic.com/pantheon/images/bigquery/welcome_page/colab-enterprise-logo.png\" alt=\"Google Cloud Colab Enterprise logo\"><br> Run in Colab Enterprise\n",
        "    </a>\n",
        "  </td>    \n",
        "  <td style=\"text-align: center\">\n",
        "    <a href=\"https://github.com/hupili/google-adk-101/blob/main/Deploy_to_Agent_Engine.ipynb\">\n",
        "      <img width=\"32px\" src=\"https://www.gstatic.com/monospace/240802/git_host_github_mask.svg\" alt=\"GitHub logo\"><br> View on GitHub\n",
        "    </a>\n",
        "  </td>\n",
        "  <td style=\"text-align: center\">\n",
        "    <a href=\"https://console.cloud.google.com/vertex-ai/workbench/deploy-notebook?download_url=https://raw.githubusercontent.com/hupili/google-adk-101/blob/main/Deploy_to_Agent_Engine.ipynb\">\n",
        "      <img width=\"32px\" src=\"https://www.gstatic.com/cloud/images/navigation/vertex-ai.svg\" alt=\"Vertex AI logo\"><br> Open in Vertex AI Workbench\n",
        "    </a>\n",
        "  </td>\n",
        "</table>"
      ],
      "metadata": {
        "id": "eZxgo50CA7q4"
      }
    },
    {
      "cell_type": "markdown",
      "source": [
        "| | |\n",
        "|-|-|\n",
        "| Author(s) | [Pili Hu](https://github.com/hupili)|\n",
        "| Reviewers(s) | Nil |\n",
        "| Last updated | 2025-06-03 |\n",
        "| google-adk | 1.1.1 |\n",
        "| vertexai | 1.93.1 |"
      ],
      "metadata": {
        "id": "9OTR-0NgbYpg"
      }
    },
    {
      "cell_type": "markdown",
      "source": [
        "## Environment"
      ],
      "metadata": {
        "id": "FmmSp3Lsbhww"
      }
    },
    {
      "cell_type": "code",
      "execution_count": 1,
      "metadata": {
        "id": "W8sX8hfAbPnU"
      },
      "outputs": [],
      "source": [
        "import os\n",
        "\n",
        "# API_KEY = '' # @param {type:\"string\"}\n",
        "# os.environ[\"GOOGLE_GENAI_USE_VERTEXAI\"] = \"FALSE\" # Use Vertex AI API\n",
        "# os.environ[\"GOOGLE_API_KEY\"] = API_KEY\n",
        "\n",
        "PROJECT_ID = \"hupili-genai-bb\"  # @param {type:\"string\"}\n",
        "if not PROJECT_ID:\n",
        "    PROJECT_ID = str(os.environ.get(\"GOOGLE_CLOUD_PROJECT\"))\n",
        "\n",
        "LOCATION = \"us-central1\" # @param {type:\"string\"}\n",
        "\n",
        "STAGING_BUCKET = 'gs://agent_engine_deploy_staging' # @param {type:\"string\"}\n",
        "\n",
        "os.environ[\"GOOGLE_CLOUD_PROJECT\"] = PROJECT_ID\n",
        "os.environ[\"GOOGLE_CLOUD_LOCATION\"] = LOCATION\n",
        "os.environ[\"GOOGLE_GENAI_USE_VERTEXAI\"] = \"TRUE\" # Use Vertex AI API\n",
        "\n",
        "# [your-project-id]"
      ]
    },
    {
      "cell_type": "code",
      "source": [
        "import vertexai\n",
        "\n",
        "vertexai.init(\n",
        "    project=PROJECT_ID,\n",
        "    location=LOCATION,\n",
        "    staging_bucket=STAGING_BUCKET,\n",
        ")"
      ],
      "metadata": {
        "id": "iFko8Uqrf_JV"
      },
      "execution_count": 2,
      "outputs": []
    },
    {
      "cell_type": "code",
      "source": [
        "from google.colab import auth\n",
        "auth.authenticate_user()"
      ],
      "metadata": {
        "id": "-ryI15UDbrfT"
      },
      "execution_count": 3,
      "outputs": []
    },
    {
      "cell_type": "code",
      "source": [
        "!pip install google-adk==1.1.1"
      ],
      "metadata": {
        "colab": {
          "base_uri": "https://localhost:8080/"
        },
        "id": "cSLs5ifodzSB",
        "outputId": "861088cd-c21b-449a-d54b-0510febee55f"
      },
      "execution_count": 4,
      "outputs": [
        {
          "output_type": "stream",
          "name": "stdout",
          "text": [
            "Requirement already satisfied: google-adk==1.1.1 in /usr/local/lib/python3.11/dist-packages (1.1.1)\n",
            "Requirement already satisfied: authlib>=1.5.1 in /usr/local/lib/python3.11/dist-packages (from google-adk==1.1.1) (1.6.0)\n",
            "Requirement already satisfied: click>=8.1.8 in /usr/local/lib/python3.11/dist-packages (from google-adk==1.1.1) (8.2.1)\n",
            "Requirement already satisfied: fastapi>=0.115.0 in /usr/local/lib/python3.11/dist-packages (from google-adk==1.1.1) (0.115.12)\n",
            "Requirement already satisfied: google-api-python-client>=2.157.0 in /usr/local/lib/python3.11/dist-packages (from google-adk==1.1.1) (2.170.0)\n",
            "Requirement already satisfied: google-cloud-aiplatform>=1.87.0 in /usr/local/lib/python3.11/dist-packages (from google-adk==1.1.1) (1.95.0)\n",
            "Requirement already satisfied: google-cloud-secret-manager>=2.22.0 in /usr/local/lib/python3.11/dist-packages (from google-adk==1.1.1) (2.23.3)\n",
            "Requirement already satisfied: google-cloud-speech>=2.30.0 in /usr/local/lib/python3.11/dist-packages (from google-adk==1.1.1) (2.32.0)\n",
            "Requirement already satisfied: google-cloud-storage<3.0.0,>=2.18.0 in /usr/local/lib/python3.11/dist-packages (from google-adk==1.1.1) (2.19.0)\n",
            "Requirement already satisfied: google-genai>=1.14.0 in /usr/local/lib/python3.11/dist-packages (from google-adk==1.1.1) (1.17.0)\n",
            "Requirement already satisfied: graphviz>=0.20.2 in /usr/local/lib/python3.11/dist-packages (from google-adk==1.1.1) (0.20.3)\n",
            "Requirement already satisfied: mcp>=1.5.0 in /usr/local/lib/python3.11/dist-packages (from google-adk==1.1.1) (1.9.2)\n",
            "Requirement already satisfied: opentelemetry-api>=1.31.0 in /usr/local/lib/python3.11/dist-packages (from google-adk==1.1.1) (1.33.1)\n",
            "Requirement already satisfied: opentelemetry-exporter-gcp-trace>=1.9.0 in /usr/local/lib/python3.11/dist-packages (from google-adk==1.1.1) (1.9.0)\n",
            "Requirement already satisfied: opentelemetry-sdk>=1.31.0 in /usr/local/lib/python3.11/dist-packages (from google-adk==1.1.1) (1.33.1)\n",
            "Requirement already satisfied: pydantic<3.0.0,>=2.0 in /usr/local/lib/python3.11/dist-packages (from google-adk==1.1.1) (2.11.5)\n",
            "Requirement already satisfied: python-dotenv>=1.0.0 in /usr/local/lib/python3.11/dist-packages (from google-adk==1.1.1) (1.1.0)\n",
            "Requirement already satisfied: PyYAML>=6.0.2 in /usr/local/lib/python3.11/dist-packages (from google-adk==1.1.1) (6.0.2)\n",
            "Requirement already satisfied: sqlalchemy>=2.0 in /usr/local/lib/python3.11/dist-packages (from google-adk==1.1.1) (2.0.41)\n",
            "Requirement already satisfied: tzlocal>=5.3 in /usr/local/lib/python3.11/dist-packages (from google-adk==1.1.1) (5.3.1)\n",
            "Requirement already satisfied: uvicorn>=0.34.0 in /usr/local/lib/python3.11/dist-packages (from google-adk==1.1.1) (0.34.2)\n",
            "Requirement already satisfied: cryptography in /usr/local/lib/python3.11/dist-packages (from authlib>=1.5.1->google-adk==1.1.1) (43.0.3)\n",
            "Requirement already satisfied: starlette<0.47.0,>=0.40.0 in /usr/local/lib/python3.11/dist-packages (from fastapi>=0.115.0->google-adk==1.1.1) (0.46.2)\n",
            "Requirement already satisfied: typing-extensions>=4.8.0 in /usr/local/lib/python3.11/dist-packages (from fastapi>=0.115.0->google-adk==1.1.1) (4.13.2)\n",
            "Requirement already satisfied: httplib2<1.0.0,>=0.19.0 in /usr/local/lib/python3.11/dist-packages (from google-api-python-client>=2.157.0->google-adk==1.1.1) (0.22.0)\n",
            "Requirement already satisfied: google-auth!=2.24.0,!=2.25.0,<3.0.0,>=1.32.0 in /usr/local/lib/python3.11/dist-packages (from google-api-python-client>=2.157.0->google-adk==1.1.1) (2.38.0)\n",
            "Requirement already satisfied: google-auth-httplib2<1.0.0,>=0.2.0 in /usr/local/lib/python3.11/dist-packages (from google-api-python-client>=2.157.0->google-adk==1.1.1) (0.2.0)\n",
            "Requirement already satisfied: google-api-core!=2.0.*,!=2.1.*,!=2.2.*,!=2.3.0,<3.0.0,>=1.31.5 in /usr/local/lib/python3.11/dist-packages (from google-api-python-client>=2.157.0->google-adk==1.1.1) (2.24.2)\n",
            "Requirement already satisfied: uritemplate<5,>=3.0.1 in /usr/local/lib/python3.11/dist-packages (from google-api-python-client>=2.157.0->google-adk==1.1.1) (4.1.1)\n",
            "Requirement already satisfied: proto-plus<2.0.0,>=1.22.3 in /usr/local/lib/python3.11/dist-packages (from google-cloud-aiplatform>=1.87.0->google-adk==1.1.1) (1.26.1)\n",
            "Requirement already satisfied: protobuf!=4.21.0,!=4.21.1,!=4.21.2,!=4.21.3,!=4.21.4,!=4.21.5,<7.0.0,>=3.20.2 in /usr/local/lib/python3.11/dist-packages (from google-cloud-aiplatform>=1.87.0->google-adk==1.1.1) (5.29.5)\n",
            "Requirement already satisfied: packaging>=14.3 in /usr/local/lib/python3.11/dist-packages (from google-cloud-aiplatform>=1.87.0->google-adk==1.1.1) (24.2)\n",
            "Requirement already satisfied: google-cloud-bigquery!=3.20.0,<4.0.0,>=1.15.0 in /usr/local/lib/python3.11/dist-packages (from google-cloud-aiplatform>=1.87.0->google-adk==1.1.1) (3.34.0)\n",
            "Requirement already satisfied: google-cloud-resource-manager<3.0.0,>=1.3.3 in /usr/local/lib/python3.11/dist-packages (from google-cloud-aiplatform>=1.87.0->google-adk==1.1.1) (1.14.2)\n",
            "Requirement already satisfied: shapely<3.0.0 in /usr/local/lib/python3.11/dist-packages (from google-cloud-aiplatform>=1.87.0->google-adk==1.1.1) (2.1.1)\n",
            "Requirement already satisfied: docstring-parser<1 in /usr/local/lib/python3.11/dist-packages (from google-cloud-aiplatform>=1.87.0->google-adk==1.1.1) (0.16)\n",
            "Requirement already satisfied: grpc-google-iam-v1<1.0.0,>=0.14.0 in /usr/local/lib/python3.11/dist-packages (from google-cloud-secret-manager>=2.22.0->google-adk==1.1.1) (0.14.2)\n",
            "Requirement already satisfied: google-cloud-core<3.0dev,>=2.3.0 in /usr/local/lib/python3.11/dist-packages (from google-cloud-storage<3.0.0,>=2.18.0->google-adk==1.1.1) (2.4.3)\n",
            "Requirement already satisfied: google-resumable-media>=2.7.2 in /usr/local/lib/python3.11/dist-packages (from google-cloud-storage<3.0.0,>=2.18.0->google-adk==1.1.1) (2.7.2)\n",
            "Requirement already satisfied: requests<3.0.0dev,>=2.18.0 in /usr/local/lib/python3.11/dist-packages (from google-cloud-storage<3.0.0,>=2.18.0->google-adk==1.1.1) (2.32.3)\n",
            "Requirement already satisfied: google-crc32c<2.0dev,>=1.0 in /usr/local/lib/python3.11/dist-packages (from google-cloud-storage<3.0.0,>=2.18.0->google-adk==1.1.1) (1.7.1)\n",
            "Requirement already satisfied: anyio<5.0.0,>=4.8.0 in /usr/local/lib/python3.11/dist-packages (from google-genai>=1.14.0->google-adk==1.1.1) (4.9.0)\n",
            "Requirement already satisfied: httpx<1.0.0,>=0.28.1 in /usr/local/lib/python3.11/dist-packages (from google-genai>=1.14.0->google-adk==1.1.1) (0.28.1)\n",
            "Requirement already satisfied: websockets<15.1.0,>=13.0.0 in /usr/local/lib/python3.11/dist-packages (from google-genai>=1.14.0->google-adk==1.1.1) (15.0.1)\n",
            "Requirement already satisfied: httpx-sse>=0.4 in /usr/local/lib/python3.11/dist-packages (from mcp>=1.5.0->google-adk==1.1.1) (0.4.0)\n",
            "Requirement already satisfied: pydantic-settings>=2.5.2 in /usr/local/lib/python3.11/dist-packages (from mcp>=1.5.0->google-adk==1.1.1) (2.9.1)\n",
            "Requirement already satisfied: python-multipart>=0.0.9 in /usr/local/lib/python3.11/dist-packages (from mcp>=1.5.0->google-adk==1.1.1) (0.0.20)\n",
            "Requirement already satisfied: sse-starlette>=1.6.1 in /usr/local/lib/python3.11/dist-packages (from mcp>=1.5.0->google-adk==1.1.1) (2.3.6)\n",
            "Requirement already satisfied: deprecated>=1.2.6 in /usr/local/lib/python3.11/dist-packages (from opentelemetry-api>=1.31.0->google-adk==1.1.1) (1.2.18)\n",
            "Requirement already satisfied: importlib-metadata<8.7.0,>=6.0 in /usr/local/lib/python3.11/dist-packages (from opentelemetry-api>=1.31.0->google-adk==1.1.1) (8.6.1)\n",
            "Requirement already satisfied: google-cloud-trace~=1.1 in /usr/local/lib/python3.11/dist-packages (from opentelemetry-exporter-gcp-trace>=1.9.0->google-adk==1.1.1) (1.16.1)\n",
            "Requirement already satisfied: opentelemetry-resourcedetector-gcp==1.*,>=1.5.0dev0 in /usr/local/lib/python3.11/dist-packages (from opentelemetry-exporter-gcp-trace>=1.9.0->google-adk==1.1.1) (1.9.0a0)\n",
            "Requirement already satisfied: opentelemetry-semantic-conventions==0.54b1 in /usr/local/lib/python3.11/dist-packages (from opentelemetry-sdk>=1.31.0->google-adk==1.1.1) (0.54b1)\n",
            "Requirement already satisfied: annotated-types>=0.6.0 in /usr/local/lib/python3.11/dist-packages (from pydantic<3.0.0,>=2.0->google-adk==1.1.1) (0.7.0)\n",
            "Requirement already satisfied: pydantic-core==2.33.2 in /usr/local/lib/python3.11/dist-packages (from pydantic<3.0.0,>=2.0->google-adk==1.1.1) (2.33.2)\n",
            "Requirement already satisfied: typing-inspection>=0.4.0 in /usr/local/lib/python3.11/dist-packages (from pydantic<3.0.0,>=2.0->google-adk==1.1.1) (0.4.1)\n",
            "Requirement already satisfied: greenlet>=1 in /usr/local/lib/python3.11/dist-packages (from sqlalchemy>=2.0->google-adk==1.1.1) (3.2.2)\n",
            "Requirement already satisfied: h11>=0.8 in /usr/local/lib/python3.11/dist-packages (from uvicorn>=0.34.0->google-adk==1.1.1) (0.16.0)\n",
            "Requirement already satisfied: idna>=2.8 in /usr/local/lib/python3.11/dist-packages (from anyio<5.0.0,>=4.8.0->google-genai>=1.14.0->google-adk==1.1.1) (3.10)\n",
            "Requirement already satisfied: sniffio>=1.1 in /usr/local/lib/python3.11/dist-packages (from anyio<5.0.0,>=4.8.0->google-genai>=1.14.0->google-adk==1.1.1) (1.3.1)\n",
            "Requirement already satisfied: wrapt<2,>=1.10 in /usr/local/lib/python3.11/dist-packages (from deprecated>=1.2.6->opentelemetry-api>=1.31.0->google-adk==1.1.1) (1.17.2)\n",
            "Requirement already satisfied: googleapis-common-protos<2.0.0,>=1.56.2 in /usr/local/lib/python3.11/dist-packages (from google-api-core!=2.0.*,!=2.1.*,!=2.2.*,!=2.3.0,<3.0.0,>=1.31.5->google-api-python-client>=2.157.0->google-adk==1.1.1) (1.70.0)\n",
            "Requirement already satisfied: grpcio<2.0dev,>=1.33.2 in /usr/local/lib/python3.11/dist-packages (from google-api-core[grpc]!=2.0.*,!=2.1.*,!=2.2.*,!=2.3.*,!=2.4.*,!=2.5.*,!=2.6.*,!=2.7.*,<3.0.0,>=1.34.1->google-cloud-aiplatform>=1.87.0->google-adk==1.1.1) (1.71.0)\n",
            "Requirement already satisfied: grpcio-status<2.0.dev0,>=1.33.2 in /usr/local/lib/python3.11/dist-packages (from google-api-core[grpc]!=2.0.*,!=2.1.*,!=2.2.*,!=2.3.*,!=2.4.*,!=2.5.*,!=2.6.*,!=2.7.*,<3.0.0,>=1.34.1->google-cloud-aiplatform>=1.87.0->google-adk==1.1.1) (1.71.0)\n",
            "Requirement already satisfied: cachetools<6.0,>=2.0.0 in /usr/local/lib/python3.11/dist-packages (from google-auth!=2.24.0,!=2.25.0,<3.0.0,>=1.32.0->google-api-python-client>=2.157.0->google-adk==1.1.1) (5.5.2)\n",
            "Requirement already satisfied: pyasn1-modules>=0.2.1 in /usr/local/lib/python3.11/dist-packages (from google-auth!=2.24.0,!=2.25.0,<3.0.0,>=1.32.0->google-api-python-client>=2.157.0->google-adk==1.1.1) (0.4.2)\n",
            "Requirement already satisfied: rsa<5,>=3.1.4 in /usr/local/lib/python3.11/dist-packages (from google-auth!=2.24.0,!=2.25.0,<3.0.0,>=1.32.0->google-api-python-client>=2.157.0->google-adk==1.1.1) (4.9.1)\n",
            "Requirement already satisfied: python-dateutil<3.0.0,>=2.8.2 in /usr/local/lib/python3.11/dist-packages (from google-cloud-bigquery!=3.20.0,<4.0.0,>=1.15.0->google-cloud-aiplatform>=1.87.0->google-adk==1.1.1) (2.9.0.post0)\n",
            "Requirement already satisfied: pyparsing!=3.0.0,!=3.0.1,!=3.0.2,!=3.0.3,<4,>=2.4.2 in /usr/local/lib/python3.11/dist-packages (from httplib2<1.0.0,>=0.19.0->google-api-python-client>=2.157.0->google-adk==1.1.1) (3.2.3)\n",
            "Requirement already satisfied: certifi in /usr/local/lib/python3.11/dist-packages (from httpx<1.0.0,>=0.28.1->google-genai>=1.14.0->google-adk==1.1.1) (2025.4.26)\n",
            "Requirement already satisfied: httpcore==1.* in /usr/local/lib/python3.11/dist-packages (from httpx<1.0.0,>=0.28.1->google-genai>=1.14.0->google-adk==1.1.1) (1.0.9)\n",
            "Requirement already satisfied: zipp>=3.20 in /usr/local/lib/python3.11/dist-packages (from importlib-metadata<8.7.0,>=6.0->opentelemetry-api>=1.31.0->google-adk==1.1.1) (3.22.0)\n",
            "Requirement already satisfied: charset-normalizer<4,>=2 in /usr/local/lib/python3.11/dist-packages (from requests<3.0.0dev,>=2.18.0->google-cloud-storage<3.0.0,>=2.18.0->google-adk==1.1.1) (3.4.2)\n",
            "Requirement already satisfied: urllib3<3,>=1.21.1 in /usr/local/lib/python3.11/dist-packages (from requests<3.0.0dev,>=2.18.0->google-cloud-storage<3.0.0,>=2.18.0->google-adk==1.1.1) (2.4.0)\n",
            "Requirement already satisfied: numpy>=1.21 in /usr/local/lib/python3.11/dist-packages (from shapely<3.0.0->google-cloud-aiplatform>=1.87.0->google-adk==1.1.1) (2.0.2)\n",
            "Requirement already satisfied: cffi>=1.12 in /usr/local/lib/python3.11/dist-packages (from cryptography->authlib>=1.5.1->google-adk==1.1.1) (1.17.1)\n",
            "Requirement already satisfied: pycparser in /usr/local/lib/python3.11/dist-packages (from cffi>=1.12->cryptography->authlib>=1.5.1->google-adk==1.1.1) (2.22)\n",
            "Requirement already satisfied: pyasn1<0.7.0,>=0.6.1 in /usr/local/lib/python3.11/dist-packages (from pyasn1-modules>=0.2.1->google-auth!=2.24.0,!=2.25.0,<3.0.0,>=1.32.0->google-api-python-client>=2.157.0->google-adk==1.1.1) (0.6.1)\n",
            "Requirement already satisfied: six>=1.5 in /usr/local/lib/python3.11/dist-packages (from python-dateutil<3.0.0,>=2.8.2->google-cloud-bigquery!=3.20.0,<4.0.0,>=1.15.0->google-cloud-aiplatform>=1.87.0->google-adk==1.1.1) (1.17.0)\n"
          ]
        }
      ]
    },
    {
      "cell_type": "code",
      "source": [
        "from google import adk"
      ],
      "metadata": {
        "id": "eo0P3ZdG1CeI"
      },
      "execution_count": 5,
      "outputs": []
    },
    {
      "cell_type": "code",
      "source": [
        "adk.__version__"
      ],
      "metadata": {
        "colab": {
          "base_uri": "https://localhost:8080/",
          "height": 35
        },
        "id": "4lCNTOYN1EOU",
        "outputId": "91023606-6afd-4e87-9ca1-d6763f189835"
      },
      "execution_count": 6,
      "outputs": [
        {
          "output_type": "execute_result",
          "data": {
            "text/plain": [
              "'1.1.1'"
            ],
            "application/vnd.google.colaboratory.intrinsic+json": {
              "type": "string"
            }
          },
          "metadata": {},
          "execution_count": 6
        }
      ]
    },
    {
      "cell_type": "code",
      "source": [
        "vertexai.__version__"
      ],
      "metadata": {
        "colab": {
          "base_uri": "https://localhost:8080/",
          "height": 35
        },
        "id": "OOz115cL1F4T",
        "outputId": "929a7cf0-34be-4a55-c76b-dc17cb27d6b3"
      },
      "execution_count": 7,
      "outputs": [
        {
          "output_type": "execute_result",
          "data": {
            "text/plain": [
              "'1.95.0'"
            ],
            "application/vnd.google.colaboratory.intrinsic+json": {
              "type": "string"
            }
          },
          "metadata": {},
          "execution_count": 7
        }
      ]
    },
    {
      "cell_type": "markdown",
      "source": [
        "## AE 101"
      ],
      "metadata": {
        "id": "vvaXZRWTbvL1"
      }
    },
    {
      "cell_type": "code",
      "source": [
        "from vertexai import agent_engines"
      ],
      "metadata": {
        "id": "d-jKZ541bWc-"
      },
      "execution_count": 8,
      "outputs": []
    },
    {
      "cell_type": "code",
      "source": [
        "def delete(resource_id: str) -> None:\n",
        "    remote_agent = agent_engines.get(resource_id)\n",
        "    remote_agent.delete(force=True)\n",
        "    print(f\"Deleted remote agent: {resource_id}\")\n",
        "\n",
        "def list_agents() -> None:\n",
        "    remote_agents = agent_engines.list()\n",
        "    TEMPLATE = '''\n",
        "{agent.name} (\"{agent.display_name}\")\n",
        "- Create time: {agent.create_time}\n",
        "- Update time: {agent.update_time}\n",
        "'''\n",
        "    remote_agents_string = '\\n'.join(TEMPLATE.format(agent=agent) for agent in remote_agents)\n",
        "    print(f\"All remote agents:\\n{remote_agents_string}\")"
      ],
      "metadata": {
        "id": "m8ld-1qdcap_"
      },
      "execution_count": 9,
      "outputs": []
    },
    {
      "cell_type": "code",
      "source": [
        "list_agents()"
      ],
      "metadata": {
        "colab": {
          "base_uri": "https://localhost:8080/"
        },
        "id": "qrtl_BLFb7e3",
        "outputId": "80f74e86-4796-40f8-b80b-975d71a813b5"
      },
      "execution_count": 10,
      "outputs": [
        {
          "output_type": "stream",
          "name": "stdout",
          "text": [
            "All remote agents:\n",
            "\n",
            "5147799092037943296 (\"\")\n",
            "- Create time: 2025-06-02 14:14:28.600149+00:00\n",
            "- Update time: 2025-06-02 14:18:55.955685+00:00\n",
            "\n",
            "\n",
            "2164164338904989696 (\"\")\n",
            "- Create time: 2025-06-02 11:57:47.050939+00:00\n",
            "- Update time: 2025-06-02 12:01:18.059991+00:00\n",
            "\n",
            "\n",
            "6087608854902734848 (\"DICE_AGENT\")\n",
            "- Create time: 2025-04-25 08:19:20.817490+00:00\n",
            "- Update time: 2025-04-25 08:22:05.936293+00:00\n",
            "\n",
            "\n",
            "7916070303615156224 (\"llm_auditor\")\n",
            "- Create time: 2025-04-25 07:13:25.339138+00:00\n",
            "- Update time: 2025-04-25 07:18:12.898631+00:00\n",
            "\n",
            "\n",
            "5307078744484085760 (\"llm_auditor\")\n",
            "- Create time: 2025-04-09 08:22:36.179879+00:00\n",
            "- Update time: 2025-04-09 08:25:42.734584+00:00\n",
            "\n",
            "\n",
            "8402318325882814464 (\"\")\n",
            "- Create time: 2025-03-28 08:42:23.121480+00:00\n",
            "- Update time: 2025-03-28 08:46:29.629436+00:00\n",
            "\n",
            "\n",
            "66410502317670400 (\"my-awesome-agent\")\n",
            "- Create time: 2025-03-07 01:22:05.930759+00:00\n",
            "- Update time: 2025-03-07 01:33:02.201959+00:00\n",
            "\n"
          ]
        }
      ]
    },
    {
      "cell_type": "code",
      "source": [],
      "metadata": {
        "id": "4geFcqXucWM9"
      },
      "execution_count": 10,
      "outputs": []
    },
    {
      "cell_type": "markdown",
      "source": [
        "## ADK Agent"
      ],
      "metadata": {
        "id": "x_Hrsr83ddXj"
      }
    },
    {
      "cell_type": "code",
      "source": [
        "from google.adk.tools import google_search\n",
        "from google.adk import Agent\n",
        "from google.adk.agents import Agent, LlmAgent\n",
        "from google.genai import types\n",
        "from pydantic import BaseModel\n",
        "from google.genai import types\n",
        "from google.adk.sessions import InMemorySessionService\n",
        "from google.adk.runners import Runner\n",
        "\n",
        "MODEL = \"gemini-2.0-flash\"\n",
        "APP_NAME = \"simple_search_example\"\n",
        "USER_ID = \"user12345\"\n",
        "SESSION_ID = \"session12345\"\n",
        "AGENT_NAME = \"simple_search_agent\"\n",
        "\n",
        "# Agent\n",
        "simple_search_agent = Agent(\n",
        "    model=MODEL,\n",
        "    name=\"simple_search_agent\",\n",
        "    description=\"Agent to answer questions using Google Search.\",\n",
        "    instruction=\"I can answer your questions by searching the internet. Just ask me anything!\",\n",
        "    generate_content_config=types.GenerateContentConfig(\n",
        "        max_output_tokens=8000,\n",
        "    ),\n",
        "    tools=[google_search],\n",
        ")\n",
        "\n",
        "# Session and Runner\n",
        "session_service = InMemorySessionService()\n",
        "session = await session_service.create_session(app_name=APP_NAME, user_id=USER_ID, session_id=SESSION_ID)\n",
        "runner = Runner(agent=simple_search_agent, app_name=APP_NAME, session_service=session_service)\n",
        "\n",
        "# Agent Interaction\n",
        "def call_agent(runner, session, query):\n",
        "  content = types.Content(role='user', parts=[types.Part(text=query)])\n",
        "  events = runner.run(user_id=session.user_id, session_id=session.id, new_message=content)\n",
        "  return events\n",
        "\n",
        "events = call_agent(runner, session, \"what is next Google IO date?\")\n",
        "list(events)"
      ],
      "metadata": {
        "colab": {
          "base_uri": "https://localhost:8080/"
        },
        "id": "FvY2sMgbdfjE",
        "outputId": "f898da17-cee2-4bc2-cd2c-ecad331e9a19"
      },
      "execution_count": 11,
      "outputs": [
        {
          "output_type": "execute_result",
          "data": {
            "text/plain": [
              "[Event(content=Content(parts=[Part(video_metadata=None, thought=None, inline_data=None, file_data=None, code_execution_result=None, executable_code=None, function_call=None, function_response=None, text='Google I/O 2025 will be held on May 20-21, 2025. The event will be livestreamed on YouTube from the Shoreline Amphitheater in Mountain View.\\n')], role='model'), grounding_metadata=GroundingMetadata(grounding_chunks=[GroundingChunk(retrieved_context=None, web=GroundingChunkWeb(domain='blog.google', title='blog.google', uri='https://vertexaisearch.cloud.google.com/grounding-api-redirect/AbF9wXFnhc8Ovsa-pom3j0C-rGuM2BnYhs5te8eZ8WkgXX-PKC1s4H3Xfz_rHeFPyYsUunDaPP1gYNwJGr8ppKGgQqkPgTDf_WxjIKD3DtOfAk9golvASWLBqalvBNTtrYn-vERtM18i7WuQ2sAAEvMbvDNL')), GroundingChunk(retrieved_context=None, web=GroundingChunkWeb(domain='indianexpress.com', title='indianexpress.com', uri='https://vertexaisearch.cloud.google.com/grounding-api-redirect/AbF9wXEkqxpJoywEaZ-OuII5oAqvjTN5yQsHUjxLbRDaM5Pl4IFgMH0N3Mm6hwndam4ef9U0NQs70VpyRsFPPDqih4mZE_19RXg87Iu0JOfbpaQVv4FNrvqVpxf-dVZh1MQhHcyyWBPC9mJJApgp4gLSbTWsidhgWVICYhdghQOr2nD_WptQs40BUKYUbP23rZxfrXwA422FXt8-fnDVFGIFm9B7JZ_gLYo=')), GroundingChunk(retrieved_context=None, web=GroundingChunkWeb(domain='io.google', title='io.google', uri='https://vertexaisearch.cloud.google.com/grounding-api-redirect/AbF9wXHKPUzzx61WvNY_Frl_oQJXYl3RU8bg3IbF_yZ_OPoyg78WLt6JAuXKnfxGVkWUJFCePXbwR3RXS8B-HXMCL94IENR0OjClaVkUuWCFXoMgdeudR3792g=='))], grounding_supports=[GroundingSupport(confidence_scores=[0.93827385, 0.81566775, 0.97466654], grounding_chunk_indices=[0, 1, 2], segment=Segment(end_index=48, part_index=None, start_index=None, text='Google I/O 2025 will be held on May 20-21, 2025.')), GroundingSupport(confidence_scores=[0.97281545], grounding_chunk_indices=[1], segment=Segment(end_index=140, part_index=None, start_index=49, text='The event will be livestreamed on YouTube from the Shoreline Amphitheater in Mountain View.'))], retrieval_metadata=RetrievalMetadata(google_search_dynamic_retrieval_score=None), retrieval_queries=None, search_entry_point=SearchEntryPoint(rendered_content='<style>\\n.container {\\n  align-items: center;\\n  border-radius: 8px;\\n  display: flex;\\n  font-family: Google Sans, Roboto, sans-serif;\\n  font-size: 14px;\\n  line-height: 20px;\\n  padding: 8px 12px;\\n}\\n.chip {\\n  display: inline-block;\\n  border: solid 1px;\\n  border-radius: 16px;\\n  min-width: 14px;\\n  padding: 5px 16px;\\n  text-align: center;\\n  user-select: none;\\n  margin: 0 8px;\\n  -webkit-tap-highlight-color: transparent;\\n}\\n.carousel {\\n  overflow: auto;\\n  scrollbar-width: none;\\n  white-space: nowrap;\\n  margin-right: -12px;\\n}\\n.headline {\\n  display: flex;\\n  margin-right: 4px;\\n}\\n.gradient-container {\\n  position: relative;\\n}\\n.gradient {\\n  position: absolute;\\n  transform: translate(3px, -9px);\\n  height: 36px;\\n  width: 9px;\\n}\\n@media (prefers-color-scheme: light) {\\n  .container {\\n    background-color: #fafafa;\\n    box-shadow: 0 0 0 1px #0000000f;\\n  }\\n  .headline-label {\\n    color: #1f1f1f;\\n  }\\n  .chip {\\n    background-color: #ffffff;\\n    border-color: #d2d2d2;\\n    color: #5e5e5e;\\n    text-decoration: none;\\n  }\\n  .chip:hover {\\n    background-color: #f2f2f2;\\n  }\\n  .chip:focus {\\n    background-color: #f2f2f2;\\n  }\\n  .chip:active {\\n    background-color: #d8d8d8;\\n    border-color: #b6b6b6;\\n  }\\n  .logo-dark {\\n    display: none;\\n  }\\n  .gradient {\\n    background: linear-gradient(90deg, #fafafa 15%, #fafafa00 100%);\\n  }\\n}\\n@media (prefers-color-scheme: dark) {\\n  .container {\\n    background-color: #1f1f1f;\\n    box-shadow: 0 0 0 1px #ffffff26;\\n  }\\n  .headline-label {\\n    color: #fff;\\n  }\\n  .chip {\\n    background-color: #2c2c2c;\\n    border-color: #3c4043;\\n    color: #fff;\\n    text-decoration: none;\\n  }\\n  .chip:hover {\\n    background-color: #353536;\\n  }\\n  .chip:focus {\\n    background-color: #353536;\\n  }\\n  .chip:active {\\n    background-color: #464849;\\n    border-color: #53575b;\\n  }\\n  .logo-light {\\n    display: none;\\n  }\\n  .gradient {\\n    background: linear-gradient(90deg, #1f1f1f 15%, #1f1f1f00 100%);\\n  }\\n}\\n</style>\\n<div class=\"container\">\\n  <div class=\"headline\">\\n    <svg class=\"logo-light\" width=\"18\" height=\"18\" viewBox=\"9 9 35 35\" fill=\"none\" xmlns=\"http://www.w3.org/2000/svg\">\\n      <path fill-rule=\"evenodd\" clip-rule=\"evenodd\" d=\"M42.8622 27.0064C42.8622 25.7839 42.7525 24.6084 42.5487 23.4799H26.3109V30.1568H35.5897C35.1821 32.3041 33.9596 34.1222 32.1258 35.3448V39.6864H37.7213C40.9814 36.677 42.8622 32.2571 42.8622 27.0064V27.0064Z\" fill=\"#4285F4\"/>\\n      <path fill-rule=\"evenodd\" clip-rule=\"evenodd\" d=\"M26.3109 43.8555C30.9659 43.8555 34.8687 42.3195 37.7213 39.6863L32.1258 35.3447C30.5898 36.3792 28.6306 37.0061 26.3109 37.0061C21.8282 37.0061 18.0195 33.9811 16.6559 29.906H10.9194V34.3573C13.7563 39.9841 19.5712 43.8555 26.3109 43.8555V43.8555Z\" fill=\"#34A853\"/>\\n      <path fill-rule=\"evenodd\" clip-rule=\"evenodd\" d=\"M16.6559 29.8904C16.3111 28.8559 16.1074 27.7588 16.1074 26.6146C16.1074 25.4704 16.3111 24.3733 16.6559 23.3388V18.8875H10.9194C9.74388 21.2072 9.06992 23.8247 9.06992 26.6146C9.06992 29.4045 9.74388 32.022 10.9194 34.3417L15.3864 30.8621L16.6559 29.8904V29.8904Z\" fill=\"#FBBC05\"/>\\n      <path fill-rule=\"evenodd\" clip-rule=\"evenodd\" d=\"M26.3109 16.2386C28.85 16.2386 31.107 17.1164 32.9095 18.8091L37.8466 13.8719C34.853 11.082 30.9659 9.3736 26.3109 9.3736C19.5712 9.3736 13.7563 13.245 10.9194 18.8875L16.6559 23.3388C18.0195 19.2636 21.8282 16.2386 26.3109 16.2386V16.2386Z\" fill=\"#EA4335\"/>\\n    </svg>\\n    <svg class=\"logo-dark\" width=\"18\" height=\"18\" viewBox=\"0 0 48 48\" xmlns=\"http://www.w3.org/2000/svg\">\\n      <circle cx=\"24\" cy=\"23\" fill=\"#FFF\" r=\"22\"/>\\n      <path d=\"M33.76 34.26c2.75-2.56 4.49-6.37 4.49-11.26 0-.89-.08-1.84-.29-3H24.01v5.99h8.03c-.4 2.02-1.5 3.56-3.07 4.56v.75l3.91 2.97h.88z\" fill=\"#4285F4\"/>\\n      <path d=\"M15.58 25.77A8.845 8.845 0 0 0 24 31.86c1.92 0 3.62-.46 4.97-1.31l4.79 3.71C31.14 36.7 27.65 38 24 38c-5.93 0-11.01-3.4-13.45-8.36l.17-1.01 4.06-2.85h.8z\" fill=\"#34A853\"/>\\n      <path d=\"M15.59 20.21a8.864 8.864 0 0 0 0 5.58l-5.03 3.86c-.98-2-1.53-4.25-1.53-6.64 0-2.39.55-4.64 1.53-6.64l1-.22 3.81 2.98.22 1.08z\" fill=\"#FBBC05\"/>\\n      <path d=\"M24 14.14c2.11 0 4.02.75 5.52 1.98l4.36-4.36C31.22 9.43 27.81 8 24 8c-5.93 0-11.01 3.4-13.45 8.36l5.03 3.85A8.86 8.86 0 0 1 24 14.14z\" fill=\"#EA4335\"/>\\n    </svg>\\n    <div class=\"gradient-container\"><div class=\"gradient\"></div></div>\\n  </div>\\n  <div class=\"carousel\">\\n    <a class=\"chip\" href=\"https://vertexaisearch.cloud.google.com/grounding-api-redirect/AbF9wXGBm5pqtp-x8wxb_is02aLfoMz5u8WiM2PYo1d7tynQFvhf1xNHavQD5OIiV78pnEE2B5t_eZ5B-EeBNg9RSm8xFfOucxEpFqiWQv--U852PMwJj--VbmFatcCVvGE1Ah6CG55T85NAW6oR1bXHuWszfn1qNq_cfMzKoHYfDt4vwqMr5i8CM1h9Um7VqrmjuxlnXCK-Bw==\">next google io date</a>\\n  </div>\\n</div>\\n', sdk_blob=None), web_search_queries=['next google io date']), partial=None, turn_complete=None, error_code=None, error_message=None, interrupted=None, custom_metadata=None, usage_metadata=GenerateContentResponseUsageMetadata(cache_tokens_details=None, cached_content_token_count=None, candidates_token_count=46, candidates_tokens_details=[ModalityTokenCount(modality=<MediaModality.TEXT: 'TEXT'>, token_count=46)], prompt_token_count=54, prompt_tokens_details=[ModalityTokenCount(modality=<MediaModality.TEXT: 'TEXT'>, token_count=54)], thoughts_token_count=None, tool_use_prompt_token_count=None, tool_use_prompt_tokens_details=None, total_token_count=100, traffic_type=<TrafficType.ON_DEMAND: 'ON_DEMAND'>), invocation_id='e-4956aaf8-638e-440e-b32d-de500fdbd468', author='simple_search_agent', actions=EventActions(skip_summarization=None, state_delta={}, artifact_delta={}, transfer_to_agent=None, escalate=None, requested_auth_configs={}), long_running_tool_ids=None, branch=None, id='0tLKXKKj', timestamp=1748930908.617748)]"
            ]
          },
          "metadata": {},
          "execution_count": 11
        }
      ]
    },
    {
      "cell_type": "code",
      "source": [],
      "metadata": {
        "id": "KPNpVCSZewe7"
      },
      "execution_count": null,
      "outputs": []
    },
    {
      "cell_type": "code",
      "source": [
        "#"
      ],
      "metadata": {
        "id": "q9bKIFYgd9N_"
      },
      "execution_count": null,
      "outputs": []
    },
    {
      "cell_type": "markdown",
      "source": [
        "## Agent Engine Local"
      ],
      "metadata": {
        "id": "vlF8T3wbfCro"
      }
    },
    {
      "cell_type": "code",
      "source": [
        "from vertexai.preview import reasoning_engines\n",
        "\n",
        "app = reasoning_engines.AdkApp(\n",
        "    agent=simple_search_agent,\n",
        "    enable_tracing=True,\n",
        ")"
      ],
      "metadata": {
        "id": "9RKd1-wIfEJX"
      },
      "execution_count": 12,
      "outputs": []
    },
    {
      "cell_type": "code",
      "source": [
        "session = app.create_session(user_id=\"u_123\")\n",
        "session"
      ],
      "metadata": {
        "colab": {
          "base_uri": "https://localhost:8080/"
        },
        "id": "iEZnWmGkfEoq",
        "outputId": "a5cc7162-f734-47e2-9524-a44003833b9c"
      },
      "execution_count": 14,
      "outputs": [
        {
          "output_type": "execute_result",
          "data": {
            "text/plain": [
              "Session(id='5178732b-7fbe-4ec9-a817-86b4d5346043', app_name='default-app-name', user_id='u_123', state={}, events=[], last_update_time=1748930925.919127)"
            ]
          },
          "metadata": {},
          "execution_count": 14
        }
      ]
    },
    {
      "cell_type": "code",
      "source": [
        "app.list_sessions(user_id=\"u_123\")"
      ],
      "metadata": {
        "colab": {
          "base_uri": "https://localhost:8080/"
        },
        "id": "BsqyNY5pfI0h",
        "outputId": "bb662aa5-de8c-4657-af9c-42fad95cb43a"
      },
      "execution_count": 15,
      "outputs": [
        {
          "output_type": "execute_result",
          "data": {
            "text/plain": [
              "ListSessionsResponse(sessions=[Session(id='674a43f0-55b8-431f-bc02-879a3b889d44', app_name='default-app-name', user_id='u_123', state={}, events=[], last_update_time=1748930918.709493), Session(id='5178732b-7fbe-4ec9-a817-86b4d5346043', app_name='default-app-name', user_id='u_123', state={}, events=[], last_update_time=1748930925.919127)])"
            ]
          },
          "metadata": {},
          "execution_count": 15
        }
      ]
    },
    {
      "cell_type": "code",
      "source": [
        "my_session = app.get_session(user_id=\"u_123\", session_id=session.id)"
      ],
      "metadata": {
        "id": "vnIKr7t8fOcn"
      },
      "execution_count": 16,
      "outputs": []
    },
    {
      "cell_type": "code",
      "source": [
        "my_session"
      ],
      "metadata": {
        "colab": {
          "base_uri": "https://localhost:8080/"
        },
        "id": "PTHT4QSzfZM5",
        "outputId": "3f6083d4-3081-4ae6-cc9c-5f1260f66a2a"
      },
      "execution_count": 17,
      "outputs": [
        {
          "output_type": "execute_result",
          "data": {
            "text/plain": [
              "Session(id='5178732b-7fbe-4ec9-a817-86b4d5346043', app_name='default-app-name', user_id='u_123', state={}, events=[], last_update_time=1748930925.919127)"
            ]
          },
          "metadata": {},
          "execution_count": 17
        }
      ]
    },
    {
      "cell_type": "code",
      "source": [
        "for event in app.stream_query(\n",
        "    user_id=\"u_123\",\n",
        "    session_id=my_session.id,\n",
        "    message=\"whats the weather in new york\",\n",
        "):\n",
        "  print(event)"
      ],
      "metadata": {
        "colab": {
          "base_uri": "https://localhost:8080/"
        },
        "id": "YMaoBWQGfZxT",
        "outputId": "4aa06c03-d787-4e71-b564-f16e4e6aca36"
      },
      "execution_count": 18,
      "outputs": [
        {
          "output_type": "stream",
          "name": "stdout",
          "text": [
            "{'content': {'parts': [{'text': 'The weather in New York is currently clear with a temperature of 59°F (15°C), but it feels like 59°F (15°C) with 61% humidity. The chance of rain is around 0%.\\n\\nThe forecast for the next few days is:\\n\\n*   **Tuesday:** Sunny with a high near 77°F.\\n*   **Wednesday:** Sunny with a high near 80°F.\\n*   **Thursday:** Partly cloudy with a high near 89°F. There is a 20% chance of rain during the day and 15% at night.\\n*   **Friday:** Rainy with a high near 84°F and a 55% chance of rain during the day and 50% at night.'}], 'role': 'model'}, 'grounding_metadata': {'grounding_chunks': [{'web': {'domain': 'google.com', 'title': 'Weather information for locality: New York, administrative_area: NY', 'uri': 'https://www.google.com/search?q=weather+in+New York,+NY'}}, {'web': {'domain': 'weather.gov', 'title': 'weather.gov', 'uri': 'https://vertexaisearch.cloud.google.com/grounding-api-redirect/AbF9wXHL6xS-CiE9mnqgh2WDwObz_klHS34GRGaed9GU8zCmq5fhxr7gRpvyHVGaz0LV5S0u7IVY3ZCkJ-5ARc_WQTHUrNKlk3bnRjxVd_PqAXE_FlwGdD0HMMz6D09xWys581JhUnQcimSYDHuNxaHHXuDxfBwi8Le_MGH8sW31AQ=='}}, {'web': {'domain': 'accuweather.com', 'title': 'accuweather.com', 'uri': 'https://vertexaisearch.cloud.google.com/grounding-api-redirect/AbF9wXHMRW0LOyjKInJAL8XTr7szsdKN3gM9DUAmJ7bSOxGA96vVUKgIcE92W_mqGjAiCcBweplPp2_6IVwWGFLtealG7lZDdXdF2VDnl71VKbtYagFWxeGfu0OR0XG8Qc6LSd85DHo9ziuOFnPSvGWOPSz2hGPOujpv_yvLBIJwomSLuD6exQ=='}}], 'grounding_supports': [{'confidence_scores': [0.7422967], 'grounding_chunk_indices': [0], 'segment': {'end_index': 130, 'text': 'The weather in New York is currently clear with a temperature of 59°F (15°C), but it feels like 59°F (15°C) with 61% humidity.'}}, {'confidence_scores': [0.9438782], 'grounding_chunk_indices': [0], 'segment': {'end_index': 163, 'start_index': 131, 'text': 'The chance of rain is around 0%.'}}, {'confidence_scores': [0.9456734, 0.6023467], 'grounding_chunk_indices': [1, 2], 'segment': {'end_index': 251, 'start_index': 205, 'text': '*   **Tuesday:** Sunny with a high near 77°F.'}}, {'confidence_scores': [0.93991184, 0.6244108], 'grounding_chunk_indices': [1, 2], 'segment': {'end_index': 300, 'start_index': 252, 'text': '*   **Wednesday:** Sunny with a high near 80°F.'}}, {'confidence_scores': [0.94239855], 'grounding_chunk_indices': [0], 'segment': {'end_index': 419, 'start_index': 301, 'text': '*   **Thursday:** Partly cloudy with a high near 89°F. There is a 20% chance of rain during the day and 15% at night.'}}, {'confidence_scores': [0.95129913], 'grounding_chunk_indices': [0], 'segment': {'end_index': 522, 'start_index': 420, 'text': '*   **Friday:** Rainy with a high near 84°F and a 55% chance of rain during the day and 50% at night.'}}], 'retrieval_metadata': {}, 'search_entry_point': {'rendered_content': '<style>\\n.container {\\n  align-items: center;\\n  border-radius: 8px;\\n  display: flex;\\n  font-family: Google Sans, Roboto, sans-serif;\\n  font-size: 14px;\\n  line-height: 20px;\\n  padding: 8px 12px;\\n}\\n.chip {\\n  display: inline-block;\\n  border: solid 1px;\\n  border-radius: 16px;\\n  min-width: 14px;\\n  padding: 5px 16px;\\n  text-align: center;\\n  user-select: none;\\n  margin: 0 8px;\\n  -webkit-tap-highlight-color: transparent;\\n}\\n.carousel {\\n  overflow: auto;\\n  scrollbar-width: none;\\n  white-space: nowrap;\\n  margin-right: -12px;\\n}\\n.headline {\\n  display: flex;\\n  margin-right: 4px;\\n}\\n.gradient-container {\\n  position: relative;\\n}\\n.gradient {\\n  position: absolute;\\n  transform: translate(3px, -9px);\\n  height: 36px;\\n  width: 9px;\\n}\\n@media (prefers-color-scheme: light) {\\n  .container {\\n    background-color: #fafafa;\\n    box-shadow: 0 0 0 1px #0000000f;\\n  }\\n  .headline-label {\\n    color: #1f1f1f;\\n  }\\n  .chip {\\n    background-color: #ffffff;\\n    border-color: #d2d2d2;\\n    color: #5e5e5e;\\n    text-decoration: none;\\n  }\\n  .chip:hover {\\n    background-color: #f2f2f2;\\n  }\\n  .chip:focus {\\n    background-color: #f2f2f2;\\n  }\\n  .chip:active {\\n    background-color: #d8d8d8;\\n    border-color: #b6b6b6;\\n  }\\n  .logo-dark {\\n    display: none;\\n  }\\n  .gradient {\\n    background: linear-gradient(90deg, #fafafa 15%, #fafafa00 100%);\\n  }\\n}\\n@media (prefers-color-scheme: dark) {\\n  .container {\\n    background-color: #1f1f1f;\\n    box-shadow: 0 0 0 1px #ffffff26;\\n  }\\n  .headline-label {\\n    color: #fff;\\n  }\\n  .chip {\\n    background-color: #2c2c2c;\\n    border-color: #3c4043;\\n    color: #fff;\\n    text-decoration: none;\\n  }\\n  .chip:hover {\\n    background-color: #353536;\\n  }\\n  .chip:focus {\\n    background-color: #353536;\\n  }\\n  .chip:active {\\n    background-color: #464849;\\n    border-color: #53575b;\\n  }\\n  .logo-light {\\n    display: none;\\n  }\\n  .gradient {\\n    background: linear-gradient(90deg, #1f1f1f 15%, #1f1f1f00 100%);\\n  }\\n}\\n</style>\\n<div class=\"container\">\\n  <div class=\"headline\">\\n    <svg class=\"logo-light\" width=\"18\" height=\"18\" viewBox=\"9 9 35 35\" fill=\"none\" xmlns=\"http://www.w3.org/2000/svg\">\\n      <path fill-rule=\"evenodd\" clip-rule=\"evenodd\" d=\"M42.8622 27.0064C42.8622 25.7839 42.7525 24.6084 42.5487 23.4799H26.3109V30.1568H35.5897C35.1821 32.3041 33.9596 34.1222 32.1258 35.3448V39.6864H37.7213C40.9814 36.677 42.8622 32.2571 42.8622 27.0064V27.0064Z\" fill=\"#4285F4\"/>\\n      <path fill-rule=\"evenodd\" clip-rule=\"evenodd\" d=\"M26.3109 43.8555C30.9659 43.8555 34.8687 42.3195 37.7213 39.6863L32.1258 35.3447C30.5898 36.3792 28.6306 37.0061 26.3109 37.0061C21.8282 37.0061 18.0195 33.9811 16.6559 29.906H10.9194V34.3573C13.7563 39.9841 19.5712 43.8555 26.3109 43.8555V43.8555Z\" fill=\"#34A853\"/>\\n      <path fill-rule=\"evenodd\" clip-rule=\"evenodd\" d=\"M16.6559 29.8904C16.3111 28.8559 16.1074 27.7588 16.1074 26.6146C16.1074 25.4704 16.3111 24.3733 16.6559 23.3388V18.8875H10.9194C9.74388 21.2072 9.06992 23.8247 9.06992 26.6146C9.06992 29.4045 9.74388 32.022 10.9194 34.3417L15.3864 30.8621L16.6559 29.8904V29.8904Z\" fill=\"#FBBC05\"/>\\n      <path fill-rule=\"evenodd\" clip-rule=\"evenodd\" d=\"M26.3109 16.2386C28.85 16.2386 31.107 17.1164 32.9095 18.8091L37.8466 13.8719C34.853 11.082 30.9659 9.3736 26.3109 9.3736C19.5712 9.3736 13.7563 13.245 10.9194 18.8875L16.6559 23.3388C18.0195 19.2636 21.8282 16.2386 26.3109 16.2386V16.2386Z\" fill=\"#EA4335\"/>\\n    </svg>\\n    <svg class=\"logo-dark\" width=\"18\" height=\"18\" viewBox=\"0 0 48 48\" xmlns=\"http://www.w3.org/2000/svg\">\\n      <circle cx=\"24\" cy=\"23\" fill=\"#FFF\" r=\"22\"/>\\n      <path d=\"M33.76 34.26c2.75-2.56 4.49-6.37 4.49-11.26 0-.89-.08-1.84-.29-3H24.01v5.99h8.03c-.4 2.02-1.5 3.56-3.07 4.56v.75l3.91 2.97h.88z\" fill=\"#4285F4\"/>\\n      <path d=\"M15.58 25.77A8.845 8.845 0 0 0 24 31.86c1.92 0 3.62-.46 4.97-1.31l4.79 3.71C31.14 36.7 27.65 38 24 38c-5.93 0-11.01-3.4-13.45-8.36l.17-1.01 4.06-2.85h.8z\" fill=\"#34A853\"/>\\n      <path d=\"M15.59 20.21a8.864 8.864 0 0 0 0 5.58l-5.03 3.86c-.98-2-1.53-4.25-1.53-6.64 0-2.39.55-4.64 1.53-6.64l1-.22 3.81 2.98.22 1.08z\" fill=\"#FBBC05\"/>\\n      <path d=\"M24 14.14c2.11 0 4.02.75 5.52 1.98l4.36-4.36C31.22 9.43 27.81 8 24 8c-5.93 0-11.01 3.4-13.45 8.36l5.03 3.85A8.86 8.86 0 0 1 24 14.14z\" fill=\"#EA4335\"/>\\n    </svg>\\n    <div class=\"gradient-container\"><div class=\"gradient\"></div></div>\\n  </div>\\n  <div class=\"carousel\">\\n    <a class=\"chip\" href=\"https://vertexaisearch.cloud.google.com/grounding-api-redirect/AbF9wXEtNHlG_nGRxCwNnvojCNptFG0pWQH8gdKq_2pyTu3Q8hySiQ5KZegSb6NjQSXFaWvVRu4wvhRH4ZN0YTZo2EptcREAq3sONa81K4cnK268yZszWbLU1Zaq3GdXB4ZDRZaG6KVW8AGH8P_BWtbdmTkHtjcSwLMfYM1yNl5K-r8QreTictsfGFVjnchzi4083udvBh8vK7k=\">weather in New York</a>\\n  </div>\\n</div>\\n'}, 'web_search_queries': ['weather in New York']}, 'usage_metadata': {'candidates_token_count': 173, 'candidates_tokens_details': [{'modality': <MediaModality.TEXT: 'TEXT'>, 'token_count': 173}], 'prompt_token_count': 53, 'prompt_tokens_details': [{'modality': <MediaModality.TEXT: 'TEXT'>, 'token_count': 53}], 'total_token_count': 226, 'traffic_type': <TrafficType.ON_DEMAND: 'ON_DEMAND'>}, 'invocation_id': 'e-a8513e1f-f3d9-4532-8382-2a8438d97d29', 'author': 'simple_search_agent', 'actions': {'state_delta': {}, 'artifact_delta': {}, 'requested_auth_configs': {}}, 'id': 'aTS4XfIf', 'timestamp': 1748930939.041518}\n"
          ]
        }
      ]
    },
    {
      "cell_type": "markdown",
      "source": [
        "## Agent Engine Remote"
      ],
      "metadata": {
        "id": "ahxFyz8xgrRJ"
      }
    },
    {
      "cell_type": "code",
      "source": [
        "from vertexai import agent_engines"
      ],
      "metadata": {
        "id": "r_HwTmhqzbE8"
      },
      "execution_count": 19,
      "outputs": []
    },
    {
      "cell_type": "code",
      "source": [
        "remote_app = agent_engines.create(\n",
        "    agent_engine=simple_search_agent,\n",
        "    requirements=[\n",
        "        \"google-cloud-aiplatform[adk,agent_engines]\"\n",
        "    ]\n",
        ")"
      ],
      "metadata": {
        "id": "8tHzGfuqfcpV",
        "colab": {
          "base_uri": "https://localhost:8080/"
        },
        "outputId": "f62d2387-d7d0-4544-8f7b-8df572607de0"
      },
      "execution_count": 20,
      "outputs": [
        {
          "output_type": "stream",
          "name": "stderr",
          "text": [
            "INFO:vertexai.agent_engines:Deploying google.adk.agents.Agent as an application.\n",
            "INFO:vertexai.agent_engines:Identified the following requirements: {'google-cloud-aiplatform': '1.95.0', 'pydantic': '2.11.5', 'cloudpickle': '3.1.1'}\n",
            "WARNING:vertexai.agent_engines:The following requirements are missing: {'pydantic', 'cloudpickle'}\n",
            "INFO:vertexai.agent_engines:The following requirements are appended: {'pydantic==2.11.5', 'cloudpickle==3.1.1'}\n",
            "INFO:vertexai.agent_engines:The final list of requirements: ['google-cloud-aiplatform[adk,agent_engines]', 'pydantic==2.11.5', 'cloudpickle==3.1.1']\n",
            "INFO:vertexai.agent_engines:Using bucket agent_engine_deploy_staging\n",
            "INFO:vertexai.agent_engines:Wrote to gs://agent_engine_deploy_staging/agent_engine/agent_engine.pkl\n",
            "INFO:vertexai.agent_engines:Writing to gs://agent_engine_deploy_staging/agent_engine/requirements.txt\n",
            "INFO:vertexai.agent_engines:Creating in-memory tarfile of extra_packages\n",
            "INFO:vertexai.agent_engines:Writing to gs://agent_engine_deploy_staging/agent_engine/dependencies.tar.gz\n",
            "INFO:vertexai.agent_engines:Creating AgentEngine\n",
            "INFO:vertexai.agent_engines:Create AgentEngine backing LRO: projects/160214671203/locations/us-central1/reasoningEngines/8348169577238102016/operations/2188772886603366400\n",
            "INFO:vertexai.agent_engines:View progress and logs at https://console.cloud.google.com/logs/query?project=hupili-genai-bb\n",
            "INFO:vertexai.agent_engines:AgentEngine created. Resource name: projects/160214671203/locations/us-central1/reasoningEngines/8348169577238102016\n",
            "INFO:vertexai.agent_engines:To use this AgentEngine in another session:\n",
            "INFO:vertexai.agent_engines:agent_engine = vertexai.agent_engines.get('projects/160214671203/locations/us-central1/reasoningEngines/8348169577238102016')\n"
          ]
        }
      ]
    },
    {
      "cell_type": "code",
      "source": [
        "remote_app.resource_name"
      ],
      "metadata": {
        "colab": {
          "base_uri": "https://localhost:8080/",
          "height": 35
        },
        "id": "p0xyzLtFfvCE",
        "outputId": "53f3a251-8bcc-4c4d-f9fb-f975b749d876"
      },
      "execution_count": 21,
      "outputs": [
        {
          "output_type": "execute_result",
          "data": {
            "text/plain": [
              "'projects/160214671203/locations/us-central1/reasoningEngines/8348169577238102016'"
            ],
            "application/vnd.google.colaboratory.intrinsic+json": {
              "type": "string"
            }
          },
          "metadata": {},
          "execution_count": 21
        }
      ]
    },
    {
      "cell_type": "code",
      "source": [
        "# Get the previously created AE App\n",
        "# remote_app = agent_engines.get('projects/160214671203/locations/us-central1/reasoningEngines/2164164338904989696')"
      ],
      "metadata": {
        "id": "RaXuW857_uDZ"
      },
      "execution_count": 22,
      "outputs": []
    },
    {
      "cell_type": "code",
      "source": [
        "remote_session = remote_app.create_session(user_id=\"u_456\")\n",
        "remote_session"
      ],
      "metadata": {
        "colab": {
          "base_uri": "https://localhost:8080/"
        },
        "id": "YebZqhFpgkVZ",
        "outputId": "e6fa7cd7-6a0a-4fed-e2fa-a5947079a004"
      },
      "execution_count": 23,
      "outputs": [
        {
          "output_type": "execute_result",
          "data": {
            "text/plain": [
              "{'appName': '8348169577238102016',\n",
              " 'events': [],\n",
              " 'state': {},\n",
              " 'id': '6879789940285112320',\n",
              " 'lastUpdateTime': 1748931431.570455,\n",
              " 'userId': 'u_456'}"
            ]
          },
          "metadata": {},
          "execution_count": 23
        }
      ]
    },
    {
      "cell_type": "code",
      "source": [
        "remote_app.list_sessions(user_id=\"u_456\")"
      ],
      "metadata": {
        "colab": {
          "base_uri": "https://localhost:8080/"
        },
        "id": "dxZxVmOOg1Ve",
        "outputId": "825aaab3-48ed-416d-c03f-462be4787739"
      },
      "execution_count": 24,
      "outputs": [
        {
          "output_type": "execute_result",
          "data": {
            "text/plain": [
              "{'sessions': [{'appName': '8348169577238102016',\n",
              "   'events': [],\n",
              "   'state': {},\n",
              "   'id': '6879789940285112320',\n",
              "   'lastUpdateTime': 1748931431.570455,\n",
              "   'userId': 'u_456'}]}"
            ]
          },
          "metadata": {},
          "execution_count": 24
        }
      ]
    },
    {
      "cell_type": "code",
      "source": [
        "remote_app"
      ],
      "metadata": {
        "colab": {
          "base_uri": "https://localhost:8080/"
        },
        "id": "0idIvMoJg2O5",
        "outputId": "a1a410ad-640d-4e1b-ec8e-5809d0d1e4fe"
      },
      "execution_count": 25,
      "outputs": [
        {
          "output_type": "execute_result",
          "data": {
            "text/plain": [
              "<vertexai.agent_engines._agent_engines.AgentEngine object at 0x7ae7e2c55c10> \n",
              "resource name: projects/160214671203/locations/us-central1/reasoningEngines/8348169577238102016"
            ]
          },
          "metadata": {},
          "execution_count": 25
        }
      ]
    },
    {
      "cell_type": "code",
      "source": [
        "for event in remote_app.stream_query(\n",
        "    user_id=\"u_456\",\n",
        "    session_id=remote_session[\"id\"],\n",
        "    message=\"whats the weather in Hong Kong\",\n",
        "):\n",
        "    print(event)"
      ],
      "metadata": {
        "colab": {
          "base_uri": "https://localhost:8080/"
        },
        "id": "AdD2ZHdPzceQ",
        "outputId": "a2403564-8755-4118-83da-86a334fc525b"
      },
      "execution_count": 26,
      "outputs": [
        {
          "output_type": "stream",
          "name": "stdout",
          "text": [
            "{'content': {'parts': [{'text': 'The weather in Hong Kong on Tuesday, June 3, 2025, is light rain with a 20% chance of precipitation. The temperature is 82°F (28°C), but it feels like 91°F (33°C) due to 81% humidity.\\n\\nThe forecast for the next 11 days is:\\n\\n*   **Wednesday, June 4:** Light rain, with temperatures between 77°F (25°C) and 82°F (28°C).\\n*   **Thursday, June 5:** Light rain, with temperatures between 79°F (26°C) and 83°F (28°C).\\n*   **Friday, June 6:** Light rain, with temperatures between 80°F (27°C) and 84°F (29°C).\\n*   **Saturday, June 7:** Partly cloudy during the day and light rain at night, with temperatures between 80°F (27°C) and 87°F (31°C).\\n*   **Sunday, June 8:** Scattered showers during the day and light rain at night, with temperatures between 81°F (27°C) and 88°F (31°C).\\n*   **Monday, June 9:** Light rain during the day and partly cloudy at night, with temperatures between 81°F (27°C) and 88°F (31°C).\\n*   **Tuesday, June 10:** Partly cloudy during the day and partly cloudy at night, with temperatures between 81°F (27°C) and 88°F (31°C).\\n*   **Wednesday, June 11:** Scattered showers during the day and light rain at night, with temperatures between 80°F (27°C) and 88°F (31°C).\\n*   **Thursday, June 12:** Light rain during the day and rain showers at night, with temperatures between 81°F (27°C) and 86°F (30°C).\\n*   **Friday, June 13:** Light rain during the day and light rain at night, with temperatures between 81°F (27°C) and 86°F (30°C).'}], 'role': 'model'}, 'grounding_metadata': {'grounding_chunks': [{'web': {'domain': 'google.com', 'title': 'Weather information for query: weather in Hong Kong', 'uri': 'https://www.google.com/search?q=weather+in+Hong+Kong'}}], 'grounding_supports': [{'confidence_scores': [0.94877386], 'grounding_chunk_indices': [0], 'segment': {'end_index': 100, 'text': 'The weather in Hong Kong on Tuesday, June 3, 2025, is light rain with a 20% chance of precipitation.'}}, {'confidence_scores': [0.96905285], 'grounding_chunk_indices': [0], 'segment': {'end_index': 187, 'start_index': 101, 'text': 'The temperature is 82°F (28°C), but it feels like 91°F (33°C) due to 81% humidity.'}}, {'confidence_scores': [0.946685], 'grounding_chunk_indices': [0], 'segment': {'end_index': 325, 'start_index': 228, 'text': '*   **Wednesday, June 4:** Light rain, with temperatures between 77°F (25°C) and 82°F (28°C).'}}, {'confidence_scores': [0.9696927], 'grounding_chunk_indices': [0], 'segment': {'end_index': 422, 'start_index': 326, 'text': '*   **Thursday, June 5:** Light rain, with temperatures between 79°F (26°C) and 83°F (28°C).'}}, {'confidence_scores': [0.9789701], 'grounding_chunk_indices': [0], 'segment': {'end_index': 517, 'start_index': 423, 'text': '*   **Friday, June 6:** Light rain, with temperatures between 80°F (27°C) and 84°F (29°C).'}}, {'confidence_scores': [0.95579726], 'grounding_chunk_indices': [0], 'segment': {'end_index': 656, 'start_index': 518, 'text': '*   **Saturday, June 7:** Partly cloudy during the day and light rain at night, with temperatures between 80°F (27°C) and 87°F (31°C).'}}, {'confidence_scores': [0.9604471], 'grounding_chunk_indices': [0], 'segment': {'end_index': 797, 'start_index': 657, 'text': '*   **Sunday, June 8:** Scattered showers during the day and light rain at night, with temperatures between 81°F (27°C) and 88°F (31°C).'}}, {'confidence_scores': [0.9395516], 'grounding_chunk_indices': [0], 'segment': {'end_index': 934, 'start_index': 798, 'text': '*   **Monday, June 9:** Light rain during the day and partly cloudy at night, with temperatures between 81°F (27°C) and 88°F (31°C).'}}, {'confidence_scores': [0.9720872], 'grounding_chunk_indices': [0], 'segment': {'end_index': 1076, 'start_index': 935, 'text': '*   **Tuesday, June 10:** Partly cloudy during the day and partly cloudy at night, with temperatures between 81°F (27°C) and 88°F (31°C).'}}, {'confidence_scores': [0.9663948], 'grounding_chunk_indices': [0], 'segment': {'end_index': 1221, 'start_index': 1077, 'text': '*   **Wednesday, June 11:** Scattered showers during the day and light rain at night, with temperatures between 80°F (27°C) and 88°F (31°C).'}}, {'confidence_scores': [0.97918415], 'grounding_chunk_indices': [0], 'segment': {'end_index': 1360, 'start_index': 1222, 'text': '*   **Thursday, June 12:** Light rain during the day and rain showers at night, with temperatures between 81°F (27°C) and 86°F (30°C).'}}, {'confidence_scores': [0.9820431], 'grounding_chunk_indices': [0], 'segment': {'end_index': 1495, 'start_index': 1361, 'text': '*   **Friday, June 13:** Light rain during the day and light rain at night, with temperatures between 81°F (27°C) and 86°F (30°C).'}}], 'retrieval_metadata': {}, 'search_entry_point': {'rendered_content': '<style>\\n.container {\\n  align-items: center;\\n  border-radius: 8px;\\n  display: flex;\\n  font-family: Google Sans, Roboto, sans-serif;\\n  font-size: 14px;\\n  line-height: 20px;\\n  padding: 8px 12px;\\n}\\n.chip {\\n  display: inline-block;\\n  border: solid 1px;\\n  border-radius: 16px;\\n  min-width: 14px;\\n  padding: 5px 16px;\\n  text-align: center;\\n  user-select: none;\\n  margin: 0 8px;\\n  -webkit-tap-highlight-color: transparent;\\n}\\n.carousel {\\n  overflow: auto;\\n  scrollbar-width: none;\\n  white-space: nowrap;\\n  margin-right: -12px;\\n}\\n.headline {\\n  display: flex;\\n  margin-right: 4px;\\n}\\n.gradient-container {\\n  position: relative;\\n}\\n.gradient {\\n  position: absolute;\\n  transform: translate(3px, -9px);\\n  height: 36px;\\n  width: 9px;\\n}\\n@media (prefers-color-scheme: light) {\\n  .container {\\n    background-color: #fafafa;\\n    box-shadow: 0 0 0 1px #0000000f;\\n  }\\n  .headline-label {\\n    color: #1f1f1f;\\n  }\\n  .chip {\\n    background-color: #ffffff;\\n    border-color: #d2d2d2;\\n    color: #5e5e5e;\\n    text-decoration: none;\\n  }\\n  .chip:hover {\\n    background-color: #f2f2f2;\\n  }\\n  .chip:focus {\\n    background-color: #f2f2f2;\\n  }\\n  .chip:active {\\n    background-color: #d8d8d8;\\n    border-color: #b6b6b6;\\n  }\\n  .logo-dark {\\n    display: none;\\n  }\\n  .gradient {\\n    background: linear-gradient(90deg, #fafafa 15%, #fafafa00 100%);\\n  }\\n}\\n@media (prefers-color-scheme: dark) {\\n  .container {\\n    background-color: #1f1f1f;\\n    box-shadow: 0 0 0 1px #ffffff26;\\n  }\\n  .headline-label {\\n    color: #fff;\\n  }\\n  .chip {\\n    background-color: #2c2c2c;\\n    border-color: #3c4043;\\n    color: #fff;\\n    text-decoration: none;\\n  }\\n  .chip:hover {\\n    background-color: #353536;\\n  }\\n  .chip:focus {\\n    background-color: #353536;\\n  }\\n  .chip:active {\\n    background-color: #464849;\\n    border-color: #53575b;\\n  }\\n  .logo-light {\\n    display: none;\\n  }\\n  .gradient {\\n    background: linear-gradient(90deg, #1f1f1f 15%, #1f1f1f00 100%);\\n  }\\n}\\n</style>\\n<div class=\"container\">\\n  <div class=\"headline\">\\n    <svg class=\"logo-light\" width=\"18\" height=\"18\" viewBox=\"9 9 35 35\" fill=\"none\" xmlns=\"http://www.w3.org/2000/svg\">\\n      <path fill-rule=\"evenodd\" clip-rule=\"evenodd\" d=\"M42.8622 27.0064C42.8622 25.7839 42.7525 24.6084 42.5487 23.4799H26.3109V30.1568H35.5897C35.1821 32.3041 33.9596 34.1222 32.1258 35.3448V39.6864H37.7213C40.9814 36.677 42.8622 32.2571 42.8622 27.0064V27.0064Z\" fill=\"#4285F4\"/>\\n      <path fill-rule=\"evenodd\" clip-rule=\"evenodd\" d=\"M26.3109 43.8555C30.9659 43.8555 34.8687 42.3195 37.7213 39.6863L32.1258 35.3447C30.5898 36.3792 28.6306 37.0061 26.3109 37.0061C21.8282 37.0061 18.0195 33.9811 16.6559 29.906H10.9194V34.3573C13.7563 39.9841 19.5712 43.8555 26.3109 43.8555V43.8555Z\" fill=\"#34A853\"/>\\n      <path fill-rule=\"evenodd\" clip-rule=\"evenodd\" d=\"M16.6559 29.8904C16.3111 28.8559 16.1074 27.7588 16.1074 26.6146C16.1074 25.4704 16.3111 24.3733 16.6559 23.3388V18.8875H10.9194C9.74388 21.2072 9.06992 23.8247 9.06992 26.6146C9.06992 29.4045 9.74388 32.022 10.9194 34.3417L15.3864 30.8621L16.6559 29.8904V29.8904Z\" fill=\"#FBBC05\"/>\\n      <path fill-rule=\"evenodd\" clip-rule=\"evenodd\" d=\"M26.3109 16.2386C28.85 16.2386 31.107 17.1164 32.9095 18.8091L37.8466 13.8719C34.853 11.082 30.9659 9.3736 26.3109 9.3736C19.5712 9.3736 13.7563 13.245 10.9194 18.8875L16.6559 23.3388C18.0195 19.2636 21.8282 16.2386 26.3109 16.2386V16.2386Z\" fill=\"#EA4335\"/>\\n    </svg>\\n    <svg class=\"logo-dark\" width=\"18\" height=\"18\" viewBox=\"0 0 48 48\" xmlns=\"http://www.w3.org/2000/svg\">\\n      <circle cx=\"24\" cy=\"23\" fill=\"#FFF\" r=\"22\"/>\\n      <path d=\"M33.76 34.26c2.75-2.56 4.49-6.37 4.49-11.26 0-.89-.08-1.84-.29-3H24.01v5.99h8.03c-.4 2.02-1.5 3.56-3.07 4.56v.75l3.91 2.97h.88z\" fill=\"#4285F4\"/>\\n      <path d=\"M15.58 25.77A8.845 8.845 0 0 0 24 31.86c1.92 0 3.62-.46 4.97-1.31l4.79 3.71C31.14 36.7 27.65 38 24 38c-5.93 0-11.01-3.4-13.45-8.36l.17-1.01 4.06-2.85h.8z\" fill=\"#34A853\"/>\\n      <path d=\"M15.59 20.21a8.864 8.864 0 0 0 0 5.58l-5.03 3.86c-.98-2-1.53-4.25-1.53-6.64 0-2.39.55-4.64 1.53-6.64l1-.22 3.81 2.98.22 1.08z\" fill=\"#FBBC05\"/>\\n      <path d=\"M24 14.14c2.11 0 4.02.75 5.52 1.98l4.36-4.36C31.22 9.43 27.81 8 24 8c-5.93 0-11.01 3.4-13.45 8.36l5.03 3.85A8.86 8.86 0 0 1 24 14.14z\" fill=\"#EA4335\"/>\\n    </svg>\\n    <div class=\"gradient-container\"><div class=\"gradient\"></div></div>\\n  </div>\\n  <div class=\"carousel\">\\n    <a class=\"chip\" href=\"https://vertexaisearch.cloud.google.com/grounding-api-redirect/AbF9wXGYmqhGCUefQqjjZxURrtakr394lrdCzY_et7UX8dPqdW4ygpIgif9NitOygXEdQJvLdwEKKWpc15Rn772tcmRAoZD9X5UC4wsMEx6GCp1iEwDla4cylujQoLHgg96vt5YyZ1irqemQmz7yIX_A-itrhgxRGvBTmZwaphyB8Q24Y47hC82xg4iEcLy9I7M8x5Z0RGISDbw=\">weather in Hong Kong</a>\\n  </div>\\n</div>\\n'}, 'web_search_queries': ['weather in Hong Kong']}, 'usage_metadata': {'candidates_token_count': 532, 'candidates_tokens_details': [{'modality': 'TEXT', 'token_count': 532}], 'prompt_token_count': 53, 'prompt_tokens_details': [{'modality': 'TEXT', 'token_count': 53}], 'total_token_count': 585, 'traffic_type': 'ON_DEMAND'}, 'invocation_id': 'e-53506f3d-3ef3-4166-a853-32ab254fdca8', 'author': 'simple_search_agent', 'actions': {'state_delta': {}, 'artifact_delta': {}, 'requested_auth_configs': {}}, 'id': 'zSzOfgdE', 'timestamp': 1748931438.280307}\n"
          ]
        }
      ]
    },
    {
      "cell_type": "code",
      "source": [
        "for event in remote_app.stream_query(\n",
        "    user_id=\"u_456\",\n",
        "    session_id=remote_session[\"id\"],\n",
        "    message=\"Remember my home location is Hong Kong.\",\n",
        "):\n",
        "    print(event)"
      ],
      "metadata": {
        "colab": {
          "base_uri": "https://localhost:8080/"
        },
        "id": "7ZvZIdur0jnw",
        "outputId": "ce19c944-c74b-43d4-9877-b49eeb50e143"
      },
      "execution_count": 27,
      "outputs": [
        {
          "output_type": "stream",
          "name": "stdout",
          "text": [
            "{'content': {'parts': [{'text': 'Okay, I will remember that your home location is Hong Kong. How can I help you today?\\n'}], 'role': 'model'}, 'grounding_metadata': {}, 'usage_metadata': {'candidates_token_count': 21, 'candidates_tokens_details': [{'modality': 'TEXT', 'token_count': 21}], 'prompt_token_count': 593, 'prompt_tokens_details': [{'modality': 'TEXT', 'token_count': 593}], 'total_token_count': 614, 'traffic_type': 'ON_DEMAND'}, 'invocation_id': 'e-93c00e98-2d76-425f-b480-1a644ad4963e', 'author': 'simple_search_agent', 'actions': {'state_delta': {}, 'artifact_delta': {}, 'requested_auth_configs': {}}, 'id': 't0Wj6Xez', 'timestamp': 1748931445.292232}\n"
          ]
        }
      ]
    },
    {
      "cell_type": "markdown",
      "source": [],
      "metadata": {
        "id": "16JX8Jrr0dKb"
      }
    },
    {
      "cell_type": "code",
      "source": [
        "new_remote_app = agent_engines.get(remote_app.resource_name)"
      ],
      "metadata": {
        "id": "XUFfmz8ezgaP"
      },
      "execution_count": 28,
      "outputs": []
    },
    {
      "cell_type": "code",
      "source": [
        "remote_session2 = remote_app.create_session(user_id=\"u_456\")\n",
        "remote_session2"
      ],
      "metadata": {
        "colab": {
          "base_uri": "https://localhost:8080/"
        },
        "id": "mZHSB1i80eEJ",
        "outputId": "67bb3bc7-5068-405c-a0e3-447e58d6b430"
      },
      "execution_count": 29,
      "outputs": [
        {
          "output_type": "execute_result",
          "data": {
            "text/plain": [
              "{'appName': '8348169577238102016',\n",
              " 'events': [],\n",
              " 'state': {},\n",
              " 'id': '9170996250709852160',\n",
              " 'userId': 'u_456',\n",
              " 'lastUpdateTime': 1748931452.629971}"
            ]
          },
          "metadata": {},
          "execution_count": 29
        }
      ]
    },
    {
      "cell_type": "code",
      "source": [
        "for event in remote_app.stream_query(\n",
        "    user_id=\"u_456\",\n",
        "    session_id=remote_session[\"id\"],\n",
        "    message=\"what is my home location?\",\n",
        "):\n",
        "    print(event)"
      ],
      "metadata": {
        "colab": {
          "base_uri": "https://localhost:8080/"
        },
        "id": "wHkupqVu02Rr",
        "outputId": "36fff4f4-e346-482a-abd5-4be24db39291"
      },
      "execution_count": 30,
      "outputs": [
        {
          "output_type": "stream",
          "name": "stdout",
          "text": [
            "{'content': {'parts': [{'text': 'Your home location is Hong Kong.\\n'}], 'role': 'model'}, 'grounding_metadata': {}, 'usage_metadata': {'candidates_token_count': 8, 'candidates_tokens_details': [{'modality': 'TEXT', 'token_count': 8}], 'prompt_token_count': 620, 'prompt_tokens_details': [{'modality': 'TEXT', 'token_count': 620}], 'total_token_count': 628, 'traffic_type': 'ON_DEMAND'}, 'invocation_id': 'e-255505b6-1168-4fe6-9c8c-b9e29eaf77c4', 'author': 'simple_search_agent', 'actions': {'state_delta': {}, 'artifact_delta': {}, 'requested_auth_configs': {}}, 'id': '3ikJYFPW', 'timestamp': 1748931456.751014}\n"
          ]
        }
      ]
    },
    {
      "cell_type": "code",
      "source": [
        "for event in remote_app.stream_query(\n",
        "    user_id=\"u_456\",\n",
        "    session_id=remote_session2[\"id\"],\n",
        "    message=\"what is my home location?\",\n",
        "):\n",
        "    print(event)"
      ],
      "metadata": {
        "colab": {
          "base_uri": "https://localhost:8080/"
        },
        "id": "OBc6Bcdp06fS",
        "outputId": "5ba443d3-fd2e-48cf-aaed-9ac0719d3708"
      },
      "execution_count": 31,
      "outputs": [
        {
          "output_type": "stream",
          "name": "stdout",
          "text": [
            "{'content': {'parts': [{'text': 'I do not have access to personal information such as your home location. I am a language model; my purpose is to provide information based on publicly available data and complete the tasks I am given. I cannot ask you for your Personally Identifiable Information (PII).\\n'}], 'role': 'model'}, 'grounding_metadata': {}, 'usage_metadata': {'candidates_token_count': 53, 'candidates_tokens_details': [{'modality': 'TEXT', 'token_count': 53}], 'prompt_token_count': 53, 'prompt_tokens_details': [{'modality': 'TEXT', 'token_count': 53}], 'total_token_count': 106, 'traffic_type': 'ON_DEMAND'}, 'invocation_id': 'e-38a5dc6a-888f-4e53-a9f8-701243840cd7', 'author': 'simple_search_agent', 'actions': {'state_delta': {}, 'artifact_delta': {}, 'requested_auth_configs': {}}, 'id': 'bt6zbyOA', 'timestamp': 1748931459.724485}\n"
          ]
        }
      ]
    },
    {
      "cell_type": "code",
      "source": [
        "def call_remote_agent_engine_app(app, user_id, session_id, query):\n",
        "  response_text = ''\n",
        "  for event in app.stream_query(\n",
        "      user_id=user_id,\n",
        "      session_id=session_id,\n",
        "      message=query,\n",
        "  ):\n",
        "      print(event)\n",
        "      all_parts = event.get('content', {}).get('parts', [])\n",
        "      for part in all_parts:\n",
        "          response_text += (part.get('text', ''))\n",
        "  return response_text"
      ],
      "metadata": {
        "id": "bjQ1yS3u79RS"
      },
      "execution_count": 32,
      "outputs": []
    },
    {
      "cell_type": "code",
      "source": [
        "call_remote_agent_engine_app(remote_app, \"u_456\", remote_session2[\"id\"], \"what is my home location?\")"
      ],
      "metadata": {
        "colab": {
          "base_uri": "https://localhost:8080/",
          "height": 91
        },
        "id": "pQMc0MtW08iP",
        "outputId": "73c7ef73-9c8d-4149-838f-657e38c084ec"
      },
      "execution_count": 33,
      "outputs": [
        {
          "output_type": "stream",
          "name": "stdout",
          "text": [
            "{'content': {'parts': [{'text': \"As a language model, I have no memory of past conversations and I don't know anything about your personal details. Therefore, I am unable to determine your home location.\\n\"}], 'role': 'model'}, 'grounding_metadata': {}, 'usage_metadata': {'candidates_token_count': 36, 'candidates_tokens_details': [{'modality': 'TEXT', 'token_count': 36}], 'prompt_token_count': 112, 'prompt_tokens_details': [{'modality': 'TEXT', 'token_count': 112}], 'total_token_count': 148, 'traffic_type': 'ON_DEMAND'}, 'invocation_id': 'e-0f11c3b1-af0a-45f4-b0b5-1b57ef472791', 'author': 'simple_search_agent', 'actions': {'state_delta': {}, 'artifact_delta': {}, 'requested_auth_configs': {}}, 'id': 'ZYAEc1fQ', 'timestamp': 1748931470.198124}\n"
          ]
        },
        {
          "output_type": "execute_result",
          "data": {
            "text/plain": [
              "\"As a language model, I have no memory of past conversations and I don't know anything about your personal details. Therefore, I am unable to determine your home location.\\n\""
            ],
            "application/vnd.google.colaboratory.intrinsic+json": {
              "type": "string"
            }
          },
          "metadata": {},
          "execution_count": 33
        }
      ]
    },
    {
      "cell_type": "code",
      "source": [
        "call_remote_agent_engine_app(remote_app, \"u_456\", remote_session[\"id\"], \"what is my home location?\")"
      ],
      "metadata": {
        "colab": {
          "base_uri": "https://localhost:8080/",
          "height": 73
        },
        "id": "T2T2SjtK8_aH",
        "outputId": "466f7418-9f4e-421f-dea1-5ee59b7b2e4d"
      },
      "execution_count": 34,
      "outputs": [
        {
          "output_type": "stream",
          "name": "stdout",
          "text": [
            "{'content': {'parts': [{'text': 'Your home location is Hong Kong.\\n'}], 'role': 'model'}, 'grounding_metadata': {}, 'usage_metadata': {'candidates_token_count': 8, 'candidates_tokens_details': [{'modality': 'TEXT', 'token_count': 8}], 'prompt_token_count': 634, 'prompt_tokens_details': [{'modality': 'TEXT', 'token_count': 634}], 'total_token_count': 642, 'traffic_type': 'ON_DEMAND'}, 'invocation_id': 'e-33ffcda7-40c9-448f-bd46-0f3a202ddb3d', 'author': 'simple_search_agent', 'actions': {'state_delta': {}, 'artifact_delta': {}, 'requested_auth_configs': {}}, 'id': 'mFkNmuBP', 'timestamp': 1748931473.378676}\n"
          ]
        },
        {
          "output_type": "execute_result",
          "data": {
            "text/plain": [
              "'Your home location is Hong Kong.\\n'"
            ],
            "application/vnd.google.colaboratory.intrinsic+json": {
              "type": "string"
            }
          },
          "metadata": {},
          "execution_count": 34
        }
      ]
    },
    {
      "cell_type": "markdown",
      "source": [
        "## Mesop"
      ],
      "metadata": {
        "id": "5B2R4s-r70Yt"
      }
    },
    {
      "cell_type": "code",
      "source": [
        "!pip install mesop"
      ],
      "metadata": {
        "colab": {
          "base_uri": "https://localhost:8080/"
        },
        "id": "yC9Gragl71TD",
        "outputId": "53393d7a-2b0e-4030-948d-3e826750a2f7"
      },
      "execution_count": 35,
      "outputs": [
        {
          "output_type": "stream",
          "name": "stdout",
          "text": [
            "Collecting mesop\n",
            "  Downloading mesop-1.0.1-py3-none-any.whl.metadata (1.2 kB)\n",
            "Requirement already satisfied: absl-py in /usr/local/lib/python3.11/dist-packages (from mesop) (1.4.0)\n",
            "Collecting deepdiff==6.* (from mesop)\n",
            "  Downloading deepdiff-6.7.1-py3-none-any.whl.metadata (6.1 kB)\n",
            "Requirement already satisfied: flask in /usr/local/lib/python3.11/dist-packages (from mesop) (3.1.1)\n",
            "Requirement already satisfied: msgpack in /usr/local/lib/python3.11/dist-packages (from mesop) (1.1.0)\n",
            "Requirement already satisfied: protobuf in /usr/local/lib/python3.11/dist-packages (from mesop) (5.29.5)\n",
            "Requirement already satisfied: pydantic in /usr/local/lib/python3.11/dist-packages (from mesop) (2.11.5)\n",
            "Requirement already satisfied: python-dotenv in /usr/local/lib/python3.11/dist-packages (from mesop) (1.1.0)\n",
            "Collecting watchdog (from mesop)\n",
            "  Downloading watchdog-6.0.0-py3-none-manylinux2014_x86_64.whl.metadata (44 kB)\n",
            "\u001b[2K     \u001b[90m━━━━━━━━━━━━━━━━━━━━━━━━━━━━━━━━━━━━━━━━\u001b[0m \u001b[32m44.3/44.3 kB\u001b[0m \u001b[31m2.4 MB/s\u001b[0m eta \u001b[36m0:00:00\u001b[0m\n",
            "\u001b[?25hRequirement already satisfied: werkzeug>=3.0.6 in /usr/local/lib/python3.11/dist-packages (from mesop) (3.1.3)\n",
            "Collecting ordered-set<4.2.0,>=4.0.2 (from deepdiff==6.*->mesop)\n",
            "  Downloading ordered_set-4.1.0-py3-none-any.whl.metadata (5.3 kB)\n",
            "Requirement already satisfied: MarkupSafe>=2.1.1 in /usr/local/lib/python3.11/dist-packages (from werkzeug>=3.0.6->mesop) (3.0.2)\n",
            "Requirement already satisfied: blinker>=1.9.0 in /usr/local/lib/python3.11/dist-packages (from flask->mesop) (1.9.0)\n",
            "Requirement already satisfied: click>=8.1.3 in /usr/local/lib/python3.11/dist-packages (from flask->mesop) (8.2.1)\n",
            "Requirement already satisfied: itsdangerous>=2.2.0 in /usr/local/lib/python3.11/dist-packages (from flask->mesop) (2.2.0)\n",
            "Requirement already satisfied: jinja2>=3.1.2 in /usr/local/lib/python3.11/dist-packages (from flask->mesop) (3.1.6)\n",
            "Requirement already satisfied: annotated-types>=0.6.0 in /usr/local/lib/python3.11/dist-packages (from pydantic->mesop) (0.7.0)\n",
            "Requirement already satisfied: pydantic-core==2.33.2 in /usr/local/lib/python3.11/dist-packages (from pydantic->mesop) (2.33.2)\n",
            "Requirement already satisfied: typing-extensions>=4.12.2 in /usr/local/lib/python3.11/dist-packages (from pydantic->mesop) (4.13.2)\n",
            "Requirement already satisfied: typing-inspection>=0.4.0 in /usr/local/lib/python3.11/dist-packages (from pydantic->mesop) (0.4.1)\n",
            "Downloading mesop-1.0.1-py3-none-any.whl (7.4 MB)\n",
            "\u001b[2K   \u001b[90m━━━━━━━━━━━━━━━━━━━━━━━━━━━━━━━━━━━━━━━━\u001b[0m \u001b[32m7.4/7.4 MB\u001b[0m \u001b[31m55.0 MB/s\u001b[0m eta \u001b[36m0:00:00\u001b[0m\n",
            "\u001b[?25hDownloading deepdiff-6.7.1-py3-none-any.whl (76 kB)\n",
            "\u001b[2K   \u001b[90m━━━━━━━━━━━━━━━━━━━━━━━━━━━━━━━━━━━━━━━━\u001b[0m \u001b[32m76.6/76.6 kB\u001b[0m \u001b[31m6.5 MB/s\u001b[0m eta \u001b[36m0:00:00\u001b[0m\n",
            "\u001b[?25hDownloading watchdog-6.0.0-py3-none-manylinux2014_x86_64.whl (79 kB)\n",
            "\u001b[2K   \u001b[90m━━━━━━━━━━━━━━━━━━━━━━━━━━━━━━━━━━━━━━━━\u001b[0m \u001b[32m79.1/79.1 kB\u001b[0m \u001b[31m6.6 MB/s\u001b[0m eta \u001b[36m0:00:00\u001b[0m\n",
            "\u001b[?25hDownloading ordered_set-4.1.0-py3-none-any.whl (7.6 kB)\n",
            "Installing collected packages: watchdog, ordered-set, deepdiff, mesop\n",
            "Successfully installed deepdiff-6.7.1 mesop-1.0.1 ordered-set-4.1.0 watchdog-6.0.0\n"
          ]
        }
      ]
    },
    {
      "cell_type": "code",
      "source": [
        "import mesop as me\n",
        "import mesop.labs as mel\n",
        "\n",
        "me.colab_run()"
      ],
      "metadata": {
        "colab": {
          "base_uri": "https://localhost:8080/"
        },
        "id": "OB6aG24N9CMg",
        "outputId": "bd93c1d4-feb1-4c88-e9f9-362324b764db"
      },
      "execution_count": 36,
      "outputs": [
        {
          "output_type": "stream",
          "name": "stdout",
          "text": [
            "\n",
            "\u001b[32mRunning server on: http://localhost:32123\u001b[0m\n",
            " * Serving Flask app 'mesop.server.server'\n",
            " * Debug mode: off\n"
          ]
        }
      ]
    },
    {
      "cell_type": "code",
      "source": [
        "@me.page(path=\"/hello_world\")\n",
        "def hello_world():\n",
        "  me.text(\"Hello World!\")"
      ],
      "metadata": {
        "id": "R_7xLRrT9Eyo"
      },
      "execution_count": 37,
      "outputs": []
    },
    {
      "cell_type": "code",
      "source": [
        "me.colab_show(path=\"/hello_world\", height=100)"
      ],
      "metadata": {
        "colab": {
          "base_uri": "https://localhost:8080/",
          "height": 121
        },
        "id": "6mmr1vP09J08",
        "outputId": "5b327998-01c2-42b2-9c26-58a2c82ad6b6"
      },
      "execution_count": 38,
      "outputs": [
        {
          "output_type": "display_data",
          "data": {
            "text/plain": [
              "<IPython.core.display.Javascript object>"
            ],
            "application/javascript": [
              "(async (port, path, width, height, cache, element) => {\n",
              "    if (!google.colab.kernel.accessAllowed && !cache) {\n",
              "      return;\n",
              "    }\n",
              "    element.appendChild(document.createTextNode(''));\n",
              "    const url = await google.colab.kernel.proxyPort(port, {cache});\n",
              "    const iframe = document.createElement('iframe');\n",
              "    iframe.src = new URL(path, url).toString();\n",
              "    iframe.height = height;\n",
              "    iframe.width = width;\n",
              "    iframe.style.border = 0;\n",
              "    iframe.allow = [\n",
              "        'accelerometer',\n",
              "        'autoplay',\n",
              "        'camera',\n",
              "        'clipboard-read',\n",
              "        'clipboard-write',\n",
              "        'gyroscope',\n",
              "        'magnetometer',\n",
              "        'microphone',\n",
              "        'serial',\n",
              "        'usb',\n",
              "        'xr-spatial-tracking',\n",
              "    ].join('; ');\n",
              "    element.appendChild(iframe);\n",
              "  })(32123, \"/hello_world\", \"100%\", 100, false, window.element)"
            ]
          },
          "metadata": {}
        }
      ]
    },
    {
      "cell_type": "code",
      "source": [
        "@me.page(path=\"/chat\")\n",
        "def chat():\n",
        "  mel.chat(transform)\n",
        "\n",
        "def transform(prompt: str, history: list[mel.ChatMessage]) -> str:\n",
        "  return \"Hello \" + prompt"
      ],
      "metadata": {
        "id": "_xJ4JO1N9LMs"
      },
      "execution_count": 39,
      "outputs": []
    },
    {
      "cell_type": "code",
      "source": [
        "me.colab_show(path=\"/chat\")"
      ],
      "metadata": {
        "colab": {
          "base_uri": "https://localhost:8080/",
          "height": 421
        },
        "id": "ARI6-B3j9N-j",
        "outputId": "7aa72cfe-0141-4f04-d437-48f0448fd14f"
      },
      "execution_count": 40,
      "outputs": [
        {
          "output_type": "display_data",
          "data": {
            "text/plain": [
              "<IPython.core.display.Javascript object>"
            ],
            "application/javascript": [
              "(async (port, path, width, height, cache, element) => {\n",
              "    if (!google.colab.kernel.accessAllowed && !cache) {\n",
              "      return;\n",
              "    }\n",
              "    element.appendChild(document.createTextNode(''));\n",
              "    const url = await google.colab.kernel.proxyPort(port, {cache});\n",
              "    const iframe = document.createElement('iframe');\n",
              "    iframe.src = new URL(path, url).toString();\n",
              "    iframe.height = height;\n",
              "    iframe.width = width;\n",
              "    iframe.style.border = 0;\n",
              "    iframe.allow = [\n",
              "        'accelerometer',\n",
              "        'autoplay',\n",
              "        'camera',\n",
              "        'clipboard-read',\n",
              "        'clipboard-write',\n",
              "        'gyroscope',\n",
              "        'magnetometer',\n",
              "        'microphone',\n",
              "        'serial',\n",
              "        'usb',\n",
              "        'xr-spatial-tracking',\n",
              "    ].join('; ');\n",
              "    element.appendChild(iframe);\n",
              "  })(32123, \"/chat\", \"100%\", \"400\", false, window.element)"
            ]
          },
          "metadata": {}
        }
      ]
    },
    {
      "cell_type": "code",
      "source": [
        "USER_ID = 'mesop_user_123'\n",
        "SESSION = remote_app.create_session(user_id=USER_ID)\n",
        "\n",
        "@me.page(path=\"/chat_ae\")\n",
        "def chat():\n",
        "  mel.chat(transform)\n",
        "\n",
        "def transform(prompt: str, history: list[mel.ChatMessage]) -> str:\n",
        "  # No need to use history, as AE already manages the session.\n",
        "  return call_remote_agent_engine_app(remote_app, USER_ID, SESSION['id'], prompt)"
      ],
      "metadata": {
        "id": "MNNkzLwU9Qv6"
      },
      "execution_count": 41,
      "outputs": []
    },
    {
      "cell_type": "code",
      "source": [
        "me.colab_show(path=\"/chat_ae\")"
      ],
      "metadata": {
        "colab": {
          "base_uri": "https://localhost:8080/",
          "height": 421
        },
        "id": "AWDc6MMX9w_m",
        "outputId": "b71f05b6-ca40-40d1-fa81-06610db1e9bf"
      },
      "execution_count": 42,
      "outputs": [
        {
          "output_type": "display_data",
          "data": {
            "text/plain": [
              "<IPython.core.display.Javascript object>"
            ],
            "application/javascript": [
              "(async (port, path, width, height, cache, element) => {\n",
              "    if (!google.colab.kernel.accessAllowed && !cache) {\n",
              "      return;\n",
              "    }\n",
              "    element.appendChild(document.createTextNode(''));\n",
              "    const url = await google.colab.kernel.proxyPort(port, {cache});\n",
              "    const iframe = document.createElement('iframe');\n",
              "    iframe.src = new URL(path, url).toString();\n",
              "    iframe.height = height;\n",
              "    iframe.width = width;\n",
              "    iframe.style.border = 0;\n",
              "    iframe.allow = [\n",
              "        'accelerometer',\n",
              "        'autoplay',\n",
              "        'camera',\n",
              "        'clipboard-read',\n",
              "        'clipboard-write',\n",
              "        'gyroscope',\n",
              "        'magnetometer',\n",
              "        'microphone',\n",
              "        'serial',\n",
              "        'usb',\n",
              "        'xr-spatial-tracking',\n",
              "    ].join('; ');\n",
              "    element.appendChild(iframe);\n",
              "  })(32123, \"/chat_ae\", \"100%\", \"400\", false, window.element)"
            ]
          },
          "metadata": {}
        }
      ]
    },
    {
      "cell_type": "markdown",
      "source": [
        "### Screenshots\n",
        "\n",
        "The dynamic web UI may not present on the export notebook. Below are the screenshots."
      ],
      "metadata": {
        "id": "AA-NQ6Ba_Awx"
      }
    },
    {
      "cell_type": "code",
      "source": [
        "from IPython.display import Image, display"
      ],
      "metadata": {
        "id": "iLjF4ru4_HMe"
      },
      "execution_count": 43,
      "outputs": []
    },
    {
      "cell_type": "code",
      "source": [
        "display(Image(url='https://github.com/hupili/google-adk-101/raw/main/images/ss-ae-mesop-1.png'))"
      ],
      "metadata": {
        "colab": {
          "base_uri": "https://localhost:8080/",
          "height": 295
        },
        "id": "pUlKlQwc9zME",
        "outputId": "ec14adce-a0d7-4e07-8ce2-18613a87d7dd"
      },
      "execution_count": 44,
      "outputs": [
        {
          "output_type": "display_data",
          "data": {
            "text/html": [
              "<img src=\"https://github.com/hupili/google-adk-101/raw/main/images/ss-ae-mesop-1.png\"/>"
            ],
            "text/plain": [
              "<IPython.core.display.Image object>"
            ]
          },
          "metadata": {}
        }
      ]
    },
    {
      "cell_type": "code",
      "source": [
        "display(Image(url='https://github.com/hupili/google-adk-101/raw/main/images/ss-ae-mesop-2.png'))"
      ],
      "metadata": {
        "colab": {
          "base_uri": "https://localhost:8080/",
          "height": 314
        },
        "id": "9-Mse6yk-8u_",
        "outputId": "7ab689df-6b85-42f6-a213-af084c2f9b79"
      },
      "execution_count": 45,
      "outputs": [
        {
          "output_type": "display_data",
          "data": {
            "text/html": [
              "<img src=\"https://github.com/hupili/google-adk-101/raw/main/images/ss-ae-mesop-2.png\"/>"
            ],
            "text/plain": [
              "<IPython.core.display.Image object>"
            ]
          },
          "metadata": {}
        }
      ]
    },
    {
      "cell_type": "code",
      "source": [],
      "metadata": {
        "id": "fGLLZvsd-_St"
      },
      "execution_count": null,
      "outputs": []
    }
  ]
}